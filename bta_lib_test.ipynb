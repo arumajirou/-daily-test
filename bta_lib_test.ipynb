{
  "nbformat": 4,
  "nbformat_minor": 0,
  "metadata": {
    "colab": {
      "provenance": [],
      "authorship_tag": "ABX9TyPwSIvoNzOvRiHbRbReBiek",
      "include_colab_link": true
    },
    "kernelspec": {
      "name": "python3",
      "display_name": "Python 3"
    },
    "language_info": {
      "name": "python"
    }
  },
  "cells": [
    {
      "cell_type": "markdown",
      "metadata": {
        "id": "view-in-github",
        "colab_type": "text"
      },
      "source": [
        "<a href=\"https://colab.research.google.com/github/arumajirou/-daily-test/blob/main/bta_lib_test.ipynb\" target=\"_parent\"><img src=\"https://colab.research.google.com/assets/colab-badge.svg\" alt=\"Open In Colab\"/></a>"
      ]
    },
    {
      "cell_type": "markdown",
      "source": [
        "# bta-libとは\n",
        "\n",
        "---\n",
        "**bta-libは、「backtrader ta-lib」（すなわち、「テクニカル分析ライブラリ」）の略称です。その名の通り、backtraderファミリーの一部です。**\n",
        "\n",
        "---\n",
        "新しい指標を開発・実験するために、ユーザビリティ、再利用性、使いやすさに重点を置いたpandasベースのライブラリです。\n",
        "\n"
      ],
      "metadata": {
        "id": "04Gw9Z_DfACQ"
      }
    },
    {
      "cell_type": "markdown",
      "source": [
        "# Yet Another Technical Analysis LIBrary\n",
        "\n",
        "---\n",
        "もうひとつのテクニカル分析LIBrary\n",
        "\n",
        "---\n",
        "\n",
        "\n",
        "\n",
        "\n",
        "- 使いやすく、再利用しやすいライブラリーを持つこと\n",
        "\n",
        "- インジケーターの正しい実装を提案\n",
        "\n",
        "- 読みやすい指標の実装を実現する\n",
        "\n",
        "- 新しい指標を迅速かつ容易に開発することを可能にする。"
      ],
      "metadata": {
        "id": "AwWYjr1QfheT"
      }
    },
    {
      "cell_type": "markdown",
      "source": [
        "# デザイン\n",
        "最終的に選ばれた道は、コンポジションとラッピングを混ぜることで、pandas.Seriesをバックグラウンドで管理しながら、pandas.Seriesが提供するAPIをほぼ直接かつ透過的に使って計算を行うことができるようにすることでした\n",
        "\n",
        "---\n",
        "\n",
        "\n",
        "\n",
        "pandas.SeriesのAPIを使用することは、基本的な指標を開発するときにのみ、通常明確に見ることができます。\n",
        "\n",
        "---\n",
        "\n",
        "\n",
        "\\\n",
        "**例えば、こんな感じです**。\n",
        "\n",
        "DEMAはこのような式になります。2 * EMA(データ、期間) - EMA(EMA(データ、期間))\n",
        "\n",
        "その式では、pandas.SeriesAPIがどこにあるかは明らかではありません。\n"
      ],
      "metadata": {
        "id": "Hy7cgRcvf3tK"
      }
    },
    {
      "cell_type": "markdown",
      "source": [
        "# 考慮すべきこと\n",
        "\n",
        "\n",
        "\n",
        "1.   最小サポートバージョンはPython 3.6です。\n",
        "2.   pandasは依存関係にあります。\n",
        "\n",
        "つまり、pip install bta-libを実行すると、途中でpandas（と関連するすべての依存関係）をインストールしようとします。\n",
        "\n",
        "特にWindowsで、CPythonの標準配布を使う場合、OS標準のコンパイラがないため、長く、退屈で、つらい作業になることがあります。\n",
        "\n"
      ],
      "metadata": {
        "id": "xadb8SyRgm0e"
      }
    },
    {
      "cell_type": "code",
      "execution_count": 1,
      "metadata": {
        "colab": {
          "base_uri": "https://localhost:8080/"
        },
        "id": "SITRJaVse_Uk",
        "outputId": "98cdbb9b-e8f2-4f98-fff4-8d4857408d13"
      },
      "outputs": [
        {
          "output_type": "stream",
          "name": "stdout",
          "text": [
            "Looking in indexes: https://pypi.org/simple, https://us-python.pkg.dev/colab-wheels/public/simple/\n",
            "Collecting bta-lib\n",
            "  Downloading bta_lib-1.0.0-py2.py3-none-any.whl (92 kB)\n",
            "\u001b[K     |████████████████████████████████| 92 kB 38 kB/s \n",
            "\u001b[?25hRequirement already satisfied: pandas in /usr/local/lib/python3.8/dist-packages (from bta-lib) (1.3.5)\n",
            "Requirement already satisfied: numpy>=1.17.3 in /usr/local/lib/python3.8/dist-packages (from pandas->bta-lib) (1.21.6)\n",
            "Requirement already satisfied: pytz>=2017.3 in /usr/local/lib/python3.8/dist-packages (from pandas->bta-lib) (2022.6)\n",
            "Requirement already satisfied: python-dateutil>=2.7.3 in /usr/local/lib/python3.8/dist-packages (from pandas->bta-lib) (2.8.2)\n",
            "Requirement already satisfied: six>=1.5 in /usr/local/lib/python3.8/dist-packages (from python-dateutil>=2.7.3->pandas->bta-lib) (1.15.0)\n",
            "Installing collected packages: bta-lib\n",
            "Successfully installed bta-lib-1.0.0\n"
          ]
        }
      ],
      "source": [
        "!pip install bta-lib"
      ]
    },
    {
      "cell_type": "code",
      "source": [
        "import btalib\n",
        "import pandas as pd\n",
        "\n",
        "# csvファイルをpandasのデータフレームに読み込む\n",
        "txt_path =\"https://raw.githubusercontent.com/mementum/bta-lib/master/data/2006-day-001.txt\"\n",
        "df = pd.read_csv(txt_path, parse_dates=True, index_col='Date')\n",
        "df"
      ],
      "metadata": {
        "colab": {
          "base_uri": "https://localhost:8080/",
          "height": 455
        },
        "id": "ZjYkzJdPfcNz",
        "outputId": "6c5aa02a-cfe8-4298-e67f-80f6ed0b1d85"
      },
      "execution_count": 9,
      "outputs": [
        {
          "output_type": "execute_result",
          "data": {
            "text/plain": [
              "               Open     High      Low    Close   Volume  OpenInterest\n",
              "Date                                                                 \n",
              "2006-01-02  1789.36  1802.98  1789.36  1802.16  1647940           0.0\n",
              "2006-01-03  1802.04  1819.21  1800.92  1807.17  5544260           0.0\n",
              "2006-01-04  1807.62  1826.23  1807.62  1826.23  5175580           0.0\n",
              "2006-01-05  1826.10  1830.82  1821.58  1825.12  4322520           0.0\n",
              "2006-01-06  1825.27  1833.50  1823.83  1833.50  4161120           0.0\n",
              "...             ...      ...      ...      ...      ...           ...\n",
              "2006-12-21  2055.93  2062.64  2052.23  2056.05  3746080           0.0\n",
              "2006-12-22  2054.93  2054.93  2036.31  2036.75  3783530           0.0\n",
              "2006-12-27  2039.85  2067.43  2039.85  2067.43  3110030           0.0\n",
              "2006-12-28  2068.72  2071.03  2062.57  2065.33  2822950           0.0\n",
              "2006-12-29  2065.06  2071.00  2059.97  2059.97  2058160           0.0\n",
              "\n",
              "[255 rows x 6 columns]"
            ],
            "text/html": [
              "\n",
              "  <div id=\"df-22cbe066-70e5-4e4d-bc48-b2d1664c64cc\">\n",
              "    <div class=\"colab-df-container\">\n",
              "      <div>\n",
              "<style scoped>\n",
              "    .dataframe tbody tr th:only-of-type {\n",
              "        vertical-align: middle;\n",
              "    }\n",
              "\n",
              "    .dataframe tbody tr th {\n",
              "        vertical-align: top;\n",
              "    }\n",
              "\n",
              "    .dataframe thead th {\n",
              "        text-align: right;\n",
              "    }\n",
              "</style>\n",
              "<table border=\"1\" class=\"dataframe\">\n",
              "  <thead>\n",
              "    <tr style=\"text-align: right;\">\n",
              "      <th></th>\n",
              "      <th>Open</th>\n",
              "      <th>High</th>\n",
              "      <th>Low</th>\n",
              "      <th>Close</th>\n",
              "      <th>Volume</th>\n",
              "      <th>OpenInterest</th>\n",
              "    </tr>\n",
              "    <tr>\n",
              "      <th>Date</th>\n",
              "      <th></th>\n",
              "      <th></th>\n",
              "      <th></th>\n",
              "      <th></th>\n",
              "      <th></th>\n",
              "      <th></th>\n",
              "    </tr>\n",
              "  </thead>\n",
              "  <tbody>\n",
              "    <tr>\n",
              "      <th>2006-01-02</th>\n",
              "      <td>1789.36</td>\n",
              "      <td>1802.98</td>\n",
              "      <td>1789.36</td>\n",
              "      <td>1802.16</td>\n",
              "      <td>1647940</td>\n",
              "      <td>0.0</td>\n",
              "    </tr>\n",
              "    <tr>\n",
              "      <th>2006-01-03</th>\n",
              "      <td>1802.04</td>\n",
              "      <td>1819.21</td>\n",
              "      <td>1800.92</td>\n",
              "      <td>1807.17</td>\n",
              "      <td>5544260</td>\n",
              "      <td>0.0</td>\n",
              "    </tr>\n",
              "    <tr>\n",
              "      <th>2006-01-04</th>\n",
              "      <td>1807.62</td>\n",
              "      <td>1826.23</td>\n",
              "      <td>1807.62</td>\n",
              "      <td>1826.23</td>\n",
              "      <td>5175580</td>\n",
              "      <td>0.0</td>\n",
              "    </tr>\n",
              "    <tr>\n",
              "      <th>2006-01-05</th>\n",
              "      <td>1826.10</td>\n",
              "      <td>1830.82</td>\n",
              "      <td>1821.58</td>\n",
              "      <td>1825.12</td>\n",
              "      <td>4322520</td>\n",
              "      <td>0.0</td>\n",
              "    </tr>\n",
              "    <tr>\n",
              "      <th>2006-01-06</th>\n",
              "      <td>1825.27</td>\n",
              "      <td>1833.50</td>\n",
              "      <td>1823.83</td>\n",
              "      <td>1833.50</td>\n",
              "      <td>4161120</td>\n",
              "      <td>0.0</td>\n",
              "    </tr>\n",
              "    <tr>\n",
              "      <th>...</th>\n",
              "      <td>...</td>\n",
              "      <td>...</td>\n",
              "      <td>...</td>\n",
              "      <td>...</td>\n",
              "      <td>...</td>\n",
              "      <td>...</td>\n",
              "    </tr>\n",
              "    <tr>\n",
              "      <th>2006-12-21</th>\n",
              "      <td>2055.93</td>\n",
              "      <td>2062.64</td>\n",
              "      <td>2052.23</td>\n",
              "      <td>2056.05</td>\n",
              "      <td>3746080</td>\n",
              "      <td>0.0</td>\n",
              "    </tr>\n",
              "    <tr>\n",
              "      <th>2006-12-22</th>\n",
              "      <td>2054.93</td>\n",
              "      <td>2054.93</td>\n",
              "      <td>2036.31</td>\n",
              "      <td>2036.75</td>\n",
              "      <td>3783530</td>\n",
              "      <td>0.0</td>\n",
              "    </tr>\n",
              "    <tr>\n",
              "      <th>2006-12-27</th>\n",
              "      <td>2039.85</td>\n",
              "      <td>2067.43</td>\n",
              "      <td>2039.85</td>\n",
              "      <td>2067.43</td>\n",
              "      <td>3110030</td>\n",
              "      <td>0.0</td>\n",
              "    </tr>\n",
              "    <tr>\n",
              "      <th>2006-12-28</th>\n",
              "      <td>2068.72</td>\n",
              "      <td>2071.03</td>\n",
              "      <td>2062.57</td>\n",
              "      <td>2065.33</td>\n",
              "      <td>2822950</td>\n",
              "      <td>0.0</td>\n",
              "    </tr>\n",
              "    <tr>\n",
              "      <th>2006-12-29</th>\n",
              "      <td>2065.06</td>\n",
              "      <td>2071.00</td>\n",
              "      <td>2059.97</td>\n",
              "      <td>2059.97</td>\n",
              "      <td>2058160</td>\n",
              "      <td>0.0</td>\n",
              "    </tr>\n",
              "  </tbody>\n",
              "</table>\n",
              "<p>255 rows × 6 columns</p>\n",
              "</div>\n",
              "      <button class=\"colab-df-convert\" onclick=\"convertToInteractive('df-22cbe066-70e5-4e4d-bc48-b2d1664c64cc')\"\n",
              "              title=\"Convert this dataframe to an interactive table.\"\n",
              "              style=\"display:none;\">\n",
              "        \n",
              "  <svg xmlns=\"http://www.w3.org/2000/svg\" height=\"24px\"viewBox=\"0 0 24 24\"\n",
              "       width=\"24px\">\n",
              "    <path d=\"M0 0h24v24H0V0z\" fill=\"none\"/>\n",
              "    <path d=\"M18.56 5.44l.94 2.06.94-2.06 2.06-.94-2.06-.94-.94-2.06-.94 2.06-2.06.94zm-11 1L8.5 8.5l.94-2.06 2.06-.94-2.06-.94L8.5 2.5l-.94 2.06-2.06.94zm10 10l.94 2.06.94-2.06 2.06-.94-2.06-.94-.94-2.06-.94 2.06-2.06.94z\"/><path d=\"M17.41 7.96l-1.37-1.37c-.4-.4-.92-.59-1.43-.59-.52 0-1.04.2-1.43.59L10.3 9.45l-7.72 7.72c-.78.78-.78 2.05 0 2.83L4 21.41c.39.39.9.59 1.41.59.51 0 1.02-.2 1.41-.59l7.78-7.78 2.81-2.81c.8-.78.8-2.07 0-2.86zM5.41 20L4 18.59l7.72-7.72 1.47 1.35L5.41 20z\"/>\n",
              "  </svg>\n",
              "      </button>\n",
              "      \n",
              "  <style>\n",
              "    .colab-df-container {\n",
              "      display:flex;\n",
              "      flex-wrap:wrap;\n",
              "      gap: 12px;\n",
              "    }\n",
              "\n",
              "    .colab-df-convert {\n",
              "      background-color: #E8F0FE;\n",
              "      border: none;\n",
              "      border-radius: 50%;\n",
              "      cursor: pointer;\n",
              "      display: none;\n",
              "      fill: #1967D2;\n",
              "      height: 32px;\n",
              "      padding: 0 0 0 0;\n",
              "      width: 32px;\n",
              "    }\n",
              "\n",
              "    .colab-df-convert:hover {\n",
              "      background-color: #E2EBFA;\n",
              "      box-shadow: 0px 1px 2px rgba(60, 64, 67, 0.3), 0px 1px 3px 1px rgba(60, 64, 67, 0.15);\n",
              "      fill: #174EA6;\n",
              "    }\n",
              "\n",
              "    [theme=dark] .colab-df-convert {\n",
              "      background-color: #3B4455;\n",
              "      fill: #D2E3FC;\n",
              "    }\n",
              "\n",
              "    [theme=dark] .colab-df-convert:hover {\n",
              "      background-color: #434B5C;\n",
              "      box-shadow: 0px 1px 3px 1px rgba(0, 0, 0, 0.15);\n",
              "      filter: drop-shadow(0px 1px 2px rgba(0, 0, 0, 0.3));\n",
              "      fill: #FFFFFF;\n",
              "    }\n",
              "  </style>\n",
              "\n",
              "      <script>\n",
              "        const buttonEl =\n",
              "          document.querySelector('#df-22cbe066-70e5-4e4d-bc48-b2d1664c64cc button.colab-df-convert');\n",
              "        buttonEl.style.display =\n",
              "          google.colab.kernel.accessAllowed ? 'block' : 'none';\n",
              "\n",
              "        async function convertToInteractive(key) {\n",
              "          const element = document.querySelector('#df-22cbe066-70e5-4e4d-bc48-b2d1664c64cc');\n",
              "          const dataTable =\n",
              "            await google.colab.kernel.invokeFunction('convertToInteractive',\n",
              "                                                     [key], {});\n",
              "          if (!dataTable) return;\n",
              "\n",
              "          const docLinkHtml = 'Like what you see? Visit the ' +\n",
              "            '<a target=\"_blank\" href=https://colab.research.google.com/notebooks/data_table.ipynb>data table notebook</a>'\n",
              "            + ' to learn more about interactive tables.';\n",
              "          element.innerHTML = '';\n",
              "          dataTable['output_type'] = 'display_data';\n",
              "          await google.colab.output.renderOutput(dataTable, element);\n",
              "          const docLink = document.createElement('div');\n",
              "          docLink.innerHTML = docLinkHtml;\n",
              "          element.appendChild(docLink);\n",
              "        }\n",
              "      </script>\n",
              "    </div>\n",
              "  </div>\n",
              "  "
            ]
          },
          "metadata": {},
          "execution_count": 9
        }
      ]
    },
    {
      "cell_type": "code",
      "source": [
        "df.info()"
      ],
      "metadata": {
        "colab": {
          "base_uri": "https://localhost:8080/"
        },
        "id": "bvhsZ-vLle2x",
        "outputId": "a0523672-cdfb-4c4f-adf7-d24011d9fcf1"
      },
      "execution_count": 22,
      "outputs": [
        {
          "output_type": "stream",
          "name": "stdout",
          "text": [
            "<class 'pandas.core.frame.DataFrame'>\n",
            "DatetimeIndex: 255 entries, 2006-01-02 to 2006-12-29\n",
            "Data columns (total 6 columns):\n",
            " #   Column        Non-Null Count  Dtype  \n",
            "---  ------        --------------  -----  \n",
            " 0   Open          255 non-null    float64\n",
            " 1   High          255 non-null    float64\n",
            " 2   Low           255 non-null    float64\n",
            " 3   Close         255 non-null    float64\n",
            " 4   Volume        255 non-null    int64  \n",
            " 5   OpenInterest  255 non-null    float64\n",
            "dtypes: float64(5), int64(1)\n",
            "memory usage: 13.9 KB\n"
          ]
        }
      ]
    },
    {
      "cell_type": "code",
      "source": [
        "df.size"
      ],
      "metadata": {
        "colab": {
          "base_uri": "https://localhost:8080/"
        },
        "id": "n8dnvb_zljKi",
        "outputId": "7fdcfc50-6413-42ae-a6da-dcf88687daf3"
      },
      "execution_count": 23,
      "outputs": [
        {
          "output_type": "execute_result",
          "data": {
            "text/plain": [
              "1530"
            ]
          },
          "metadata": {},
          "execution_count": 23
        }
      ]
    },
    {
      "cell_type": "code",
      "source": [
        "df.shape"
      ],
      "metadata": {
        "colab": {
          "base_uri": "https://localhost:8080/"
        },
        "id": "Q70OdeRalleD",
        "outputId": "7e29ee3c-b9f0-4d0a-e15e-be632ab51a79"
      },
      "execution_count": 24,
      "outputs": [
        {
          "output_type": "execute_result",
          "data": {
            "text/plain": [
              "(255, 6)"
            ]
          },
          "metadata": {},
          "execution_count": 24
        }
      ]
    },
    {
      "cell_type": "code",
      "source": [
        "df.describe"
      ],
      "metadata": {
        "colab": {
          "base_uri": "https://localhost:8080/"
        },
        "id": "im1DuNyolpcU",
        "outputId": "9b3cb220-bb1d-4d81-e994-14a46e07c036"
      },
      "execution_count": 25,
      "outputs": [
        {
          "output_type": "execute_result",
          "data": {
            "text/plain": [
              "<bound method NDFrame.describe of                Open     High      Low    Close   Volume  OpenInterest\n",
              "Date                                                                 \n",
              "2006-01-02  1789.36  1802.98  1789.36  1802.16  1647940           0.0\n",
              "2006-01-03  1802.04  1819.21  1800.92  1807.17  5544260           0.0\n",
              "2006-01-04  1807.62  1826.23  1807.62  1826.23  5175580           0.0\n",
              "2006-01-05  1826.10  1830.82  1821.58  1825.12  4322520           0.0\n",
              "2006-01-06  1825.27  1833.50  1823.83  1833.50  4161120           0.0\n",
              "...             ...      ...      ...      ...      ...           ...\n",
              "2006-12-21  2055.93  2062.64  2052.23  2056.05  3746080           0.0\n",
              "2006-12-22  2054.93  2054.93  2036.31  2036.75  3783530           0.0\n",
              "2006-12-27  2039.85  2067.43  2039.85  2067.43  3110030           0.0\n",
              "2006-12-28  2068.72  2071.03  2062.57  2065.33  2822950           0.0\n",
              "2006-12-29  2065.06  2071.00  2059.97  2059.97  2058160           0.0\n",
              "\n",
              "[255 rows x 6 columns]>"
            ]
          },
          "metadata": {},
          "execution_count": 25
        }
      ]
    },
    {
      "cell_type": "code",
      "source": [
        "df.columns"
      ],
      "metadata": {
        "colab": {
          "base_uri": "https://localhost:8080/"
        },
        "id": "yQZXKJ6SluAC",
        "outputId": "3f3afd4a-42c4-47b2-e42e-a94849bc0fc3"
      },
      "execution_count": 26,
      "outputs": [
        {
          "output_type": "execute_result",
          "data": {
            "text/plain": [
              "Index(['Open', 'High', 'Low', 'Close', 'Volume', 'OpenInterest'], dtype='object')"
            ]
          },
          "metadata": {},
          "execution_count": 26
        }
      ]
    },
    {
      "cell_type": "code",
      "source": [
        "#SMA（単純移動平均）を計算する\n",
        "sma = btalib.sma(df)\n",
        "print(sma)"
      ],
      "metadata": {
        "colab": {
          "base_uri": "https://localhost:8080/"
        },
        "id": "HEr6TKYLhSIz",
        "outputId": "13ff522f-9bf1-4bc3-fcfa-e4e6ff0d1e42"
      },
      "execution_count": 18,
      "outputs": [
        {
          "output_type": "stream",
          "name": "stdout",
          "text": [
            "<btalib.indicators.sma.sma object at 0x7f105677d070>\n"
          ]
        }
      ]
    },
    {
      "cell_type": "markdown",
      "source": [
        "手始めにデータファイルの最初の2行のサンプルを見てみましょう。このファイルは株式市場の資産としては非常に一般的なフォーマットになっています。"
      ],
      "metadata": {
        "id": "5PCjx1Z6jkOa"
      }
    },
    {
      "cell_type": "code",
      "source": [
        "df[:1]"
      ],
      "metadata": {
        "colab": {
          "base_uri": "https://localhost:8080/",
          "height": 112
        },
        "id": "f6bSJqDZjoSr",
        "outputId": "74b7037f-673c-47dd-be39-13ce100d0c2a"
      },
      "execution_count": 17,
      "outputs": [
        {
          "output_type": "execute_result",
          "data": {
            "text/plain": [
              "               Open     High      Low    Close   Volume  OpenInterest\n",
              "Date                                                                 \n",
              "2006-01-02  1789.36  1802.98  1789.36  1802.16  1647940           0.0"
            ],
            "text/html": [
              "\n",
              "  <div id=\"df-ad517e70-dad4-47e2-9bd5-11f805a205ae\">\n",
              "    <div class=\"colab-df-container\">\n",
              "      <div>\n",
              "<style scoped>\n",
              "    .dataframe tbody tr th:only-of-type {\n",
              "        vertical-align: middle;\n",
              "    }\n",
              "\n",
              "    .dataframe tbody tr th {\n",
              "        vertical-align: top;\n",
              "    }\n",
              "\n",
              "    .dataframe thead th {\n",
              "        text-align: right;\n",
              "    }\n",
              "</style>\n",
              "<table border=\"1\" class=\"dataframe\">\n",
              "  <thead>\n",
              "    <tr style=\"text-align: right;\">\n",
              "      <th></th>\n",
              "      <th>Open</th>\n",
              "      <th>High</th>\n",
              "      <th>Low</th>\n",
              "      <th>Close</th>\n",
              "      <th>Volume</th>\n",
              "      <th>OpenInterest</th>\n",
              "    </tr>\n",
              "    <tr>\n",
              "      <th>Date</th>\n",
              "      <th></th>\n",
              "      <th></th>\n",
              "      <th></th>\n",
              "      <th></th>\n",
              "      <th></th>\n",
              "      <th></th>\n",
              "    </tr>\n",
              "  </thead>\n",
              "  <tbody>\n",
              "    <tr>\n",
              "      <th>2006-01-02</th>\n",
              "      <td>1789.36</td>\n",
              "      <td>1802.98</td>\n",
              "      <td>1789.36</td>\n",
              "      <td>1802.16</td>\n",
              "      <td>1647940</td>\n",
              "      <td>0.0</td>\n",
              "    </tr>\n",
              "  </tbody>\n",
              "</table>\n",
              "</div>\n",
              "      <button class=\"colab-df-convert\" onclick=\"convertToInteractive('df-ad517e70-dad4-47e2-9bd5-11f805a205ae')\"\n",
              "              title=\"Convert this dataframe to an interactive table.\"\n",
              "              style=\"display:none;\">\n",
              "        \n",
              "  <svg xmlns=\"http://www.w3.org/2000/svg\" height=\"24px\"viewBox=\"0 0 24 24\"\n",
              "       width=\"24px\">\n",
              "    <path d=\"M0 0h24v24H0V0z\" fill=\"none\"/>\n",
              "    <path d=\"M18.56 5.44l.94 2.06.94-2.06 2.06-.94-2.06-.94-.94-2.06-.94 2.06-2.06.94zm-11 1L8.5 8.5l.94-2.06 2.06-.94-2.06-.94L8.5 2.5l-.94 2.06-2.06.94zm10 10l.94 2.06.94-2.06 2.06-.94-2.06-.94-.94-2.06-.94 2.06-2.06.94z\"/><path d=\"M17.41 7.96l-1.37-1.37c-.4-.4-.92-.59-1.43-.59-.52 0-1.04.2-1.43.59L10.3 9.45l-7.72 7.72c-.78.78-.78 2.05 0 2.83L4 21.41c.39.39.9.59 1.41.59.51 0 1.02-.2 1.41-.59l7.78-7.78 2.81-2.81c.8-.78.8-2.07 0-2.86zM5.41 20L4 18.59l7.72-7.72 1.47 1.35L5.41 20z\"/>\n",
              "  </svg>\n",
              "      </button>\n",
              "      \n",
              "  <style>\n",
              "    .colab-df-container {\n",
              "      display:flex;\n",
              "      flex-wrap:wrap;\n",
              "      gap: 12px;\n",
              "    }\n",
              "\n",
              "    .colab-df-convert {\n",
              "      background-color: #E8F0FE;\n",
              "      border: none;\n",
              "      border-radius: 50%;\n",
              "      cursor: pointer;\n",
              "      display: none;\n",
              "      fill: #1967D2;\n",
              "      height: 32px;\n",
              "      padding: 0 0 0 0;\n",
              "      width: 32px;\n",
              "    }\n",
              "\n",
              "    .colab-df-convert:hover {\n",
              "      background-color: #E2EBFA;\n",
              "      box-shadow: 0px 1px 2px rgba(60, 64, 67, 0.3), 0px 1px 3px 1px rgba(60, 64, 67, 0.15);\n",
              "      fill: #174EA6;\n",
              "    }\n",
              "\n",
              "    [theme=dark] .colab-df-convert {\n",
              "      background-color: #3B4455;\n",
              "      fill: #D2E3FC;\n",
              "    }\n",
              "\n",
              "    [theme=dark] .colab-df-convert:hover {\n",
              "      background-color: #434B5C;\n",
              "      box-shadow: 0px 1px 3px 1px rgba(0, 0, 0, 0.15);\n",
              "      filter: drop-shadow(0px 1px 2px rgba(0, 0, 0, 0.3));\n",
              "      fill: #FFFFFF;\n",
              "    }\n",
              "  </style>\n",
              "\n",
              "      <script>\n",
              "        const buttonEl =\n",
              "          document.querySelector('#df-ad517e70-dad4-47e2-9bd5-11f805a205ae button.colab-df-convert');\n",
              "        buttonEl.style.display =\n",
              "          google.colab.kernel.accessAllowed ? 'block' : 'none';\n",
              "\n",
              "        async function convertToInteractive(key) {\n",
              "          const element = document.querySelector('#df-ad517e70-dad4-47e2-9bd5-11f805a205ae');\n",
              "          const dataTable =\n",
              "            await google.colab.kernel.invokeFunction('convertToInteractive',\n",
              "                                                     [key], {});\n",
              "          if (!dataTable) return;\n",
              "\n",
              "          const docLinkHtml = 'Like what you see? Visit the ' +\n",
              "            '<a target=\"_blank\" href=https://colab.research.google.com/notebooks/data_table.ipynb>data table notebook</a>'\n",
              "            + ' to learn more about interactive tables.';\n",
              "          element.innerHTML = '';\n",
              "          dataTable['output_type'] = 'display_data';\n",
              "          await google.colab.output.renderOutput(dataTable, element);\n",
              "          const docLink = document.createElement('div');\n",
              "          docLink.innerHTML = docLinkHtml;\n",
              "          element.appendChild(docLink);\n",
              "        }\n",
              "      </script>\n",
              "    </div>\n",
              "  </div>\n",
              "  "
            ]
          },
          "metadata": {},
          "execution_count": 17
        }
      ]
    },
    {
      "cell_type": "markdown",
      "source": [
        "SMAは、Close欄の値を用いて算出した。"
      ],
      "metadata": {
        "id": "JByiA66hj-YC"
      }
    },
    {
      "cell_type": "code",
      "source": [
        "sma = btalib.sma(df.High)\n",
        "sma"
      ],
      "metadata": {
        "colab": {
          "base_uri": "https://localhost:8080/"
        },
        "id": "l5E-1pZMi_TY",
        "outputId": "fd1ebfa6-70b9-4564-ff4d-c74dc94896f1"
      },
      "execution_count": 19,
      "outputs": [
        {
          "output_type": "execute_result",
          "data": {
            "text/plain": [
              "<btalib.indicators.sma.sma at 0x7f105677df10>"
            ]
          },
          "metadata": {},
          "execution_count": 19
        }
      ]
    },
    {
      "cell_type": "markdown",
      "source": [
        "sma = btalib.sma(df)から得られるデフォルト値は、ライブラリ自体の内部 オブジェクトです。その理由は、他の指標で追加計算をするために使われる可能性があるからです。しかし、マーケットで使えるものを手に入れるのは簡単です。\n",
        "ということです。結果のDataFrameを取得するのはとても簡単です。ワンライナーでも十分です。"
      ],
      "metadata": {
        "id": "k69FmMKTkOdr"
      }
    },
    {
      "cell_type": "code",
      "source": [
        "sma = btalib.sma(df).df  # デフォルトの周期は30\n",
        "sma"
      ],
      "metadata": {
        "colab": {
          "base_uri": "https://localhost:8080/",
          "height": 455
        },
        "id": "Zr5ap9GNjLnH",
        "outputId": "ae9da683-eb5d-4025-c45d-fdeeb21944cf"
      },
      "execution_count": 13,
      "outputs": [
        {
          "output_type": "execute_result",
          "data": {
            "text/plain": [
              "                    sma\n",
              "Date                   \n",
              "2006-01-02          NaN\n",
              "2006-01-03          NaN\n",
              "2006-01-04          NaN\n",
              "2006-01-05          NaN\n",
              "2006-01-06          NaN\n",
              "...                 ...\n",
              "2006-12-21  2029.800333\n",
              "2006-12-22  2029.961333\n",
              "2006-12-27  2030.773333\n",
              "2006-12-28  2031.545667\n",
              "2006-12-29  2031.730667\n",
              "\n",
              "[255 rows x 1 columns]"
            ],
            "text/html": [
              "\n",
              "  <div id=\"df-bb5e0e50-038d-4b4d-b2a0-87cc203a5a97\">\n",
              "    <div class=\"colab-df-container\">\n",
              "      <div>\n",
              "<style scoped>\n",
              "    .dataframe tbody tr th:only-of-type {\n",
              "        vertical-align: middle;\n",
              "    }\n",
              "\n",
              "    .dataframe tbody tr th {\n",
              "        vertical-align: top;\n",
              "    }\n",
              "\n",
              "    .dataframe thead th {\n",
              "        text-align: right;\n",
              "    }\n",
              "</style>\n",
              "<table border=\"1\" class=\"dataframe\">\n",
              "  <thead>\n",
              "    <tr style=\"text-align: right;\">\n",
              "      <th></th>\n",
              "      <th>sma</th>\n",
              "    </tr>\n",
              "    <tr>\n",
              "      <th>Date</th>\n",
              "      <th></th>\n",
              "    </tr>\n",
              "  </thead>\n",
              "  <tbody>\n",
              "    <tr>\n",
              "      <th>2006-01-02</th>\n",
              "      <td>NaN</td>\n",
              "    </tr>\n",
              "    <tr>\n",
              "      <th>2006-01-03</th>\n",
              "      <td>NaN</td>\n",
              "    </tr>\n",
              "    <tr>\n",
              "      <th>2006-01-04</th>\n",
              "      <td>NaN</td>\n",
              "    </tr>\n",
              "    <tr>\n",
              "      <th>2006-01-05</th>\n",
              "      <td>NaN</td>\n",
              "    </tr>\n",
              "    <tr>\n",
              "      <th>2006-01-06</th>\n",
              "      <td>NaN</td>\n",
              "    </tr>\n",
              "    <tr>\n",
              "      <th>...</th>\n",
              "      <td>...</td>\n",
              "    </tr>\n",
              "    <tr>\n",
              "      <th>2006-12-21</th>\n",
              "      <td>2029.800333</td>\n",
              "    </tr>\n",
              "    <tr>\n",
              "      <th>2006-12-22</th>\n",
              "      <td>2029.961333</td>\n",
              "    </tr>\n",
              "    <tr>\n",
              "      <th>2006-12-27</th>\n",
              "      <td>2030.773333</td>\n",
              "    </tr>\n",
              "    <tr>\n",
              "      <th>2006-12-28</th>\n",
              "      <td>2031.545667</td>\n",
              "    </tr>\n",
              "    <tr>\n",
              "      <th>2006-12-29</th>\n",
              "      <td>2031.730667</td>\n",
              "    </tr>\n",
              "  </tbody>\n",
              "</table>\n",
              "<p>255 rows × 1 columns</p>\n",
              "</div>\n",
              "      <button class=\"colab-df-convert\" onclick=\"convertToInteractive('df-bb5e0e50-038d-4b4d-b2a0-87cc203a5a97')\"\n",
              "              title=\"Convert this dataframe to an interactive table.\"\n",
              "              style=\"display:none;\">\n",
              "        \n",
              "  <svg xmlns=\"http://www.w3.org/2000/svg\" height=\"24px\"viewBox=\"0 0 24 24\"\n",
              "       width=\"24px\">\n",
              "    <path d=\"M0 0h24v24H0V0z\" fill=\"none\"/>\n",
              "    <path d=\"M18.56 5.44l.94 2.06.94-2.06 2.06-.94-2.06-.94-.94-2.06-.94 2.06-2.06.94zm-11 1L8.5 8.5l.94-2.06 2.06-.94-2.06-.94L8.5 2.5l-.94 2.06-2.06.94zm10 10l.94 2.06.94-2.06 2.06-.94-2.06-.94-.94-2.06-.94 2.06-2.06.94z\"/><path d=\"M17.41 7.96l-1.37-1.37c-.4-.4-.92-.59-1.43-.59-.52 0-1.04.2-1.43.59L10.3 9.45l-7.72 7.72c-.78.78-.78 2.05 0 2.83L4 21.41c.39.39.9.59 1.41.59.51 0 1.02-.2 1.41-.59l7.78-7.78 2.81-2.81c.8-.78.8-2.07 0-2.86zM5.41 20L4 18.59l7.72-7.72 1.47 1.35L5.41 20z\"/>\n",
              "  </svg>\n",
              "      </button>\n",
              "      \n",
              "  <style>\n",
              "    .colab-df-container {\n",
              "      display:flex;\n",
              "      flex-wrap:wrap;\n",
              "      gap: 12px;\n",
              "    }\n",
              "\n",
              "    .colab-df-convert {\n",
              "      background-color: #E8F0FE;\n",
              "      border: none;\n",
              "      border-radius: 50%;\n",
              "      cursor: pointer;\n",
              "      display: none;\n",
              "      fill: #1967D2;\n",
              "      height: 32px;\n",
              "      padding: 0 0 0 0;\n",
              "      width: 32px;\n",
              "    }\n",
              "\n",
              "    .colab-df-convert:hover {\n",
              "      background-color: #E2EBFA;\n",
              "      box-shadow: 0px 1px 2px rgba(60, 64, 67, 0.3), 0px 1px 3px 1px rgba(60, 64, 67, 0.15);\n",
              "      fill: #174EA6;\n",
              "    }\n",
              "\n",
              "    [theme=dark] .colab-df-convert {\n",
              "      background-color: #3B4455;\n",
              "      fill: #D2E3FC;\n",
              "    }\n",
              "\n",
              "    [theme=dark] .colab-df-convert:hover {\n",
              "      background-color: #434B5C;\n",
              "      box-shadow: 0px 1px 3px 1px rgba(0, 0, 0, 0.15);\n",
              "      filter: drop-shadow(0px 1px 2px rgba(0, 0, 0, 0.3));\n",
              "      fill: #FFFFFF;\n",
              "    }\n",
              "  </style>\n",
              "\n",
              "      <script>\n",
              "        const buttonEl =\n",
              "          document.querySelector('#df-bb5e0e50-038d-4b4d-b2a0-87cc203a5a97 button.colab-df-convert');\n",
              "        buttonEl.style.display =\n",
              "          google.colab.kernel.accessAllowed ? 'block' : 'none';\n",
              "\n",
              "        async function convertToInteractive(key) {\n",
              "          const element = document.querySelector('#df-bb5e0e50-038d-4b4d-b2a0-87cc203a5a97');\n",
              "          const dataTable =\n",
              "            await google.colab.kernel.invokeFunction('convertToInteractive',\n",
              "                                                     [key], {});\n",
              "          if (!dataTable) return;\n",
              "\n",
              "          const docLinkHtml = 'Like what you see? Visit the ' +\n",
              "            '<a target=\"_blank\" href=https://colab.research.google.com/notebooks/data_table.ipynb>data table notebook</a>'\n",
              "            + ' to learn more about interactive tables.';\n",
              "          element.innerHTML = '';\n",
              "          dataTable['output_type'] = 'display_data';\n",
              "          await google.colab.output.renderOutput(dataTable, element);\n",
              "          const docLink = document.createElement('div');\n",
              "          docLink.innerHTML = docLinkHtml;\n",
              "          element.appendChild(docLink);\n",
              "        }\n",
              "      </script>\n",
              "    </div>\n",
              "  </div>\n",
              "  "
            ]
          },
          "metadata": {},
          "execution_count": 13
        }
      ]
    },
    {
      "cell_type": "code",
      "source": [
        "df.Close"
      ],
      "metadata": {
        "colab": {
          "base_uri": "https://localhost:8080/"
        },
        "id": "LZj5N0xdlFDa",
        "outputId": "7a36cd59-12a3-4919-8ef4-080288a50df9"
      },
      "execution_count": 21,
      "outputs": [
        {
          "output_type": "execute_result",
          "data": {
            "text/plain": [
              "Date\n",
              "2006-01-02    1802.16\n",
              "2006-01-03    1807.17\n",
              "2006-01-04    1826.23\n",
              "2006-01-05    1825.12\n",
              "2006-01-06    1833.50\n",
              "               ...   \n",
              "2006-12-21    2056.05\n",
              "2006-12-22    2036.75\n",
              "2006-12-27    2067.43\n",
              "2006-12-28    2065.33\n",
              "2006-12-29    2059.97\n",
              "Name: Close, Length: 255, dtype: float64"
            ]
          },
          "metadata": {},
          "execution_count": 21
        }
      ]
    },
    {
      "cell_type": "markdown",
      "source": [
        "しかし、多くの場合、2ライナーの方が読みやすく、情報もよく伝わります。print(sma_df)の結果を見てみましょう。"
      ],
      "metadata": {
        "id": "NuXh6d46kZVa"
      }
    },
    {
      "cell_type": "code",
      "source": [
        "sma = btalib.sma(df, period=4)  # デフォルトの周期は30で、4へ変更\n",
        "print(sma.df)"
      ],
      "metadata": {
        "colab": {
          "base_uri": "https://localhost:8080/"
        },
        "id": "X2wAxGDkjUqy",
        "outputId": "8d044f11-b715-4e3e-93e9-8cbe6b6e027a"
      },
      "execution_count": 14,
      "outputs": [
        {
          "output_type": "stream",
          "name": "stdout",
          "text": [
            "                  sma\n",
            "Date                 \n",
            "2006-01-02        NaN\n",
            "2006-01-03        NaN\n",
            "2006-01-04        NaN\n",
            "2006-01-05  1815.1700\n",
            "2006-01-06  1823.0050\n",
            "...               ...\n",
            "2006-12-21  2057.6475\n",
            "2006-12-22  2050.5775\n",
            "2006-12-27  2054.8750\n",
            "2006-12-28  2056.3900\n",
            "2006-12-29  2057.3700\n",
            "\n",
            "[255 rows x 1 columns]\n"
          ]
        }
      ]
    },
    {
      "cell_type": "markdown",
      "source": [
        "# より深く掘り下げるパラメータ\n",
        "このコードには、「デフォルトの周期は30です」というコメントが含まれています。そして、初期値がNaN（\"Not a Number\"）である結果を見れば、コメントに書かれていることは明らかでしょう。\n",
        "\n",
        "- **スマが値を出し始めるには、30個のデータポイントが必要です。**\n",
        "\n",
        "したがって，最初のNaNは，意味のある値が計算され配信されないことを示しています．念のため，print(sma.df.to_string())の抜粋で，smaの計算が値を出し始めたときの様子を示しています．"
      ],
      "metadata": {
        "id": "lEObMzEAkdUq"
      }
    },
    {
      "cell_type": "code",
      "source": [
        "sma = btalib.sma(df.High, period=4)  # デフォルトの周期は30で、4へ変更\n",
        "print(sma.df)"
      ],
      "metadata": {
        "colab": {
          "base_uri": "https://localhost:8080/"
        },
        "id": "yGtaWMzcjYjn",
        "outputId": "f49b6517-d2f8-4e54-ee2a-0d99a70d41e4"
      },
      "execution_count": 15,
      "outputs": [
        {
          "output_type": "stream",
          "name": "stdout",
          "text": [
            "                  sma\n",
            "Date                 \n",
            "2006-01-02        NaN\n",
            "2006-01-03        NaN\n",
            "2006-01-04        NaN\n",
            "2006-01-05  1819.8100\n",
            "2006-01-06  1827.4400\n",
            "...               ...\n",
            "2006-12-21  2064.8175\n",
            "2006-12-22  2060.8675\n",
            "2006-12-27  2062.6000\n",
            "2006-12-28  2064.0075\n",
            "2006-12-29  2066.0975\n",
            "\n",
            "[255 rows x 1 columns]\n"
          ]
        }
      ]
    },
    {
      "cell_type": "markdown",
      "source": [
        "# どの列を使うかは列を渡すことで指定する\n",
        "\n",
        "\n",
        "---\n",
        "\n",
        "このインジケータはたった1つの入力を必要とします。具体的には、df.High(Series)を渡すと、そのデータフィールドで直接計算が実行されます。"
      ],
      "metadata": {
        "id": "wAj5eskwmUMb"
      }
    },
    {
      "cell_type": "code",
      "source": [
        "sma = btalib.sma(df.High)"
      ],
      "metadata": {
        "id": "Gm6YCycAjbI2"
      },
      "execution_count": null,
      "outputs": []
    },
    {
      "cell_type": "markdown",
      "source": [
        "# smaオブジェクトを再利用し、自分自身に渡す\n",
        "---\n",
        "smaは出力も1つです。したがって、それ自身のような別の指標の単一の入力として直接使用することができます...。大したことはない（sma1の最初の結果の配信期間は明らかに増加する）。\n",
        "\n"
      ],
      "metadata": {
        "id": "LEoD9s2fmjAj"
      }
    },
    {
      "cell_type": "code",
      "source": [
        "sma = btalib.sma(df)\n",
        "sma1 = btalib.sma(sma)\n",
        "print(sma)\n",
        "print(sma1)"
      ],
      "metadata": {
        "colab": {
          "base_uri": "https://localhost:8080/"
        },
        "id": "4qNHOQeNmmy_",
        "outputId": "b28a971f-9f37-477f-e6e8-a10f8c3a38cb"
      },
      "execution_count": 27,
      "outputs": [
        {
          "output_type": "stream",
          "name": "stdout",
          "text": [
            "<btalib.indicators.sma.sma object at 0x7f105901c040>\n",
            "<btalib.indicators.sma.sma object at 0x7f105901caf0>\n"
          ]
        }
      ]
    },
    {
      "cell_type": "markdown",
      "source": [
        "# リブレイのaagicにインデックスで列を探させる\n",
        "\n",
        "---\n",
        "おっと!Close の名前をNewClose に変更することで、列の名前はもはや見つからず、他の列はsma が求める入力の名前と一致しない。上で説明したように、そして標準的なOHLCVOi の順序に従って、Closeは3のインデックスを持ち、そのインデックスに存在する列が選ばれる。\n",
        "\n",
        "データフレームには2つの列（とインデックス）しかなく、したがって、インデックス0と 1しか利用できないことがあります。この場合、機械はデフォルトで最初の列、すなわち列0を使用します。\n",
        "\n",
        "これは、インジケータが単一入力を期待しており、データフレーム形式の単一入力が提供されているため、妥当な仮定と選択と見なされる。名前マッチングとデフォルトの列インデックスマッチングの両方が失敗した場合、単一入力のデータフレームの最初の列が選択される。\n",
        "\n"
      ],
      "metadata": {
        "id": "2HaNICDRm757"
      }
    },
    {
      "cell_type": "code",
      "source": [
        "df.rename(columns={'Close':'NewClose'}, inplace=True)\n",
        "sma = btalib.sma(df)\n",
        "print(sma)"
      ],
      "metadata": {
        "colab": {
          "base_uri": "https://localhost:8080/"
        },
        "id": "louDzFS5m28n",
        "outputId": "ae3f0c09-8857-4b5f-a456-dfef2a0f62e1"
      },
      "execution_count": 29,
      "outputs": [
        {
          "output_type": "stream",
          "name": "stdout",
          "text": [
            "<btalib.indicators.sma.sma object at 0x7f10567477f0>\n"
          ]
        }
      ]
    },
    {
      "cell_type": "code",
      "source": [],
      "metadata": {
        "id": "4X2KnvQUnDzF"
      },
      "execution_count": null,
      "outputs": []
    }
  ]
}