{
  "nbformat": 4,
  "nbformat_minor": 0,
  "metadata": {
    "colab": {
      "provenance": [],
      "include_colab_link": true
    },
    "kernelspec": {
      "name": "python3",
      "display_name": "Python 3"
    },
    "accelerator": "GPU"
  },
  "cells": [
    {
      "cell_type": "markdown",
      "metadata": {
        "id": "view-in-github",
        "colab_type": "text"
      },
      "source": [
        "<a href=\"https://colab.research.google.com/github/arumajirou/-daily-test/blob/main/Forecasting_in_Non_stationary_Environments_with_FuzzyTime_Series.ipynb\" target=\"_parent\"><img src=\"https://colab.research.google.com/assets/colab-badge.svg\" alt=\"Open In Colab\"/></a>"
      ]
    },
    {
      "cell_type": "markdown",
      "metadata": {
        "id": "aFjLFamUt3Vt"
      },
      "source": [
        "# ファジィ時系列を用いた非定常環境下での予測\n",
        "\n",
        "[MINDS - Machine Intelligence and Data Science Lab  ](http://www.minds.eng.ufmg.br/)\n",
        "\n",
        "Petrônio C.  L. Silva   <span itemscope itemtype=\"https://schema.org/Person\"><a itemprop=\"sameAs\" content=\"https://orcid.org/0000-0002-1202-2552\" href=\"https://orcid.org/0000-0002-1202-2552\" target=\"orcid.widget\" rel=\"noopener noreferrer\" style=\"vertical-align:top;\"><img src=\"https://orcid.org/sites/default/files/images/orcid_16x16.png\" style=\"width:1em;margin-right:.5em;\" alt=\"ORCID iD icon\"></a></span>, Carlos A. Severiano Jr. <span itemscope itemtype=\"https://schema.org/Person\"><a itemprop=\"sameAs\" content=\"https://orcid.org/0000-0002-9100-9013\" href=\"https://orcid.org/0000-0002-9100-9013\" target=\"orcid.widget\" rel=\"noopener noreferrer\" style=\"vertical-align:top;\"><img src=\"https://orcid.org/sites/default/files/images/orcid_16x16.png\" style=\"width:1em;margin-right:.5em;\" alt=\"ORCID iD icon\"></a></span>, Marcos A. Alves <span itemscope itemtype=\"https://schema.org/Person\"><a itemprop=\"sameAs\" content=\"https://orcid.org/0000-0001-6934-6745\" href=\"https://orcid.org/0000-0001-6934-6745\" target=\"orcid.widget\" rel=\"noopener noreferrer\" style=\"vertical-align:top;\"><img src=\"https://orcid.org/sites/default/files/images/orcid_16x16.png\" style=\"width:1em;margin-right:.5em;\" alt=\"ORCID iD icon\"></a></span>,  Rodrigo Silva <span itemscope itemtype=\"https://schema.org/Person\"><a itemprop=\"sameAs\" content=\"https://orcid.org/0000-0003-2547-3835\" href=\"https://orcid.org/0000-0003-2547-3835\" target=\"orcid.widget\" rel=\"noopener noreferrer\" style=\"vertical-align:top;\"><img src=\"https://orcid.org/sites/default/files/images/orcid_16x16.png\" style=\"width:1em;margin-right:.5em;\" alt=\"ORCID iD icon\"></a></span>, Miri Weiss Cohen <span itemscope itemtype=\"https://schema.org/Person\"><a itemprop=\"sameAs\" content=\"https://orcid.org/0000-0001-5250-1016\" href=\"https://orcid.org/0000-0001-5250-1016\" target=\"orcid.widget\" rel=\"noopener noreferrer\" style=\"vertical-align:top;\"><img src=\"https://orcid.org/sites/default/files/images/orcid_16x16.png\" style=\"width:1em;margin-right:.5em;\" alt=\"ORCID iD icon\"></a></span>,  Frederico G. Guimarães <span itemscope itemtype=\"https://schema.org/Person\"><a itemprop=\"sameAs\" content=\"https://orcid.org/0000-0001-9238-8839\" href=\"https://orcid.org/0000-0001-9238-8839\" target=\"orcid.widget\" rel=\"noopener noreferrer\" style=\"vertical-align:top;\"><img src=\"https://orcid.org/sites/default/files/images/orcid_16x16.png\" style=\"width:1em;margin-right:.5em;\" alt=\"ORCID iD icon\"></a></span>\n",
        "\n",
        "<center>\n",
        "<table><tr><td> <a href=\"http://www.minds.eng.ufmg.br/\"><img src=\"https://github.com/petroniocandido/pyFTS/raw/master/img/minds_logo_medium.jpeg\" alt=\"MINDS - Machine Intelligence and Data Science Lab\" width=\"100\"/></a></td> \n",
        "  <td>&nbsp;&nbsp;&nbsp;&nbsp;&nbsp;&nbsp;&nbsp;&nbsp;&nbsp;</td>\n",
        "<td><a href=\"http://bit.ly/pyFTSsite\"><img src=\"https://github.com/petroniocandido/pyFTS/raw/master/img/logo_medium.png\" alt=\"pyFTS - Fuzzy Time Series for Python\" width=\"100\"/></a></td>\n",
        "</tr>\n",
        "</table>\n",
        "</center>\n"
      ]
    },
    {
      "cell_type": "markdown",
      "source": [
        "# **pyFTS - Pythonのためのファジー時系列**\n",
        "\n",
        "---\n",
        "\n",
        "## **pyFTSライブラリとは？**\n",
        "本パッケージは，学生，研究者，データサイエンティスト，あるいはファジィ時系列の 手法を利用したい方を対象としています．\n",
        "\n",
        "これらの手法は，シンプルで使いやすく，計算コストが低く，人間が読みやすいモデルを提供し，統計の素人から専門家までが利用できるようになっています．\n",
        "\n",
        "このプロジェクトは継続的に改善されており、貢献者はよく来ています。"
      ],
      "metadata": {
        "id": "4YlrQDpoi5Zl"
      }
    },
    {
      "cell_type": "markdown",
      "source": [
        "# **ファジィ時系列（FTS）とは？**\n",
        "ファジー時系列（FTS）はファジーの理論に基づいた時系列予測のためのノンパラメトリックな手法である。 その原型は[1]によって提案され、その後多くの研究者によって改良されてきた。2]に基づくFTS手法の一般的なアプローチを以下に挙げる。\n",
        "\n",
        "**1データの前処理** pyFTS.common.Transformations に含まれる、微分、Box-Cox、スケーリング、正規化などのデータ変換関数です。\n",
        "\n",
        "**2談話の宇宙分割** これは最も重要なステップである。\n",
        "\n",
        "ここでは、数値時系列Y(t)の値の範囲は、オーバーラップした区間に分割され、各区間にファジィ集合が作成されます。\n",
        "\n",
        "このステップはpyFTS.partitionモジュールとそのクラス（例えばGridPartitioner(格子状分割)、EntropyPartitioner(エントロピー分割)など）で実行されます。主なパラメータ(引数)は以下の通りです。\n",
        "\n",
        "- 区間数\n",
        "- ファジーメンバーシップ関数（指定された集合に所属する可能性に基づいて 0 〜 1 のスケールに入力データを再分類または変換します。0 は、指定の集合のメンバーではないことが明らかなセル位置に割り当てられ、1 は、指定の集合のメンバーであることが明らかなセル位置へ割り当てられます。0 〜 1 の可能性の範囲全体は、メンバーシップの可能性のレベルに割り当てられます (数値が大きいほど、可能性が高い)。）の選択(pyFTS.common.Membership)\n",
        "- パーティション(分割)方式（GridPartitioner,EntropyPartitioner[3],FCMPartitioner,CMeansPartitioner,HuarngPartitioner[4])\n",
        "サンプルコードはnotebooks/Partitioners.ipynbのjupyter notebookをご覧ください。\n",
        "\n",
        "3データのファジィ化 数値時系列Y(t)の各データポイントは，ファジー表現（通常は1つ以上のファジー集合）に変換され，ファジー時系列F(t)が作成される．\n",
        "\n",
        "4ファジィルールの生成。このステップでは、時間遷移ルールが作成される。これらのルールは手法とその特徴に依存する。\n",
        "\n",
        "- 順序: 予測に使用するタイムラグの数\n",
        "- 重み：重み付きモデルは、平滑化のためにファジィルールに重みを導入する [5],[6],[7].\n",
        "- 季節性: 季節性モデルによって異なります\n",
        "- 先のステップ: 予測するためのステップ数。ほとんどすべての標準的な手法は、1ステップ先の予測に基づいている\n",
        "- 予測タイプ。標準的な手法はほとんどすべてポイントベースですが、pyFTSはインターバルベースや確率的な予測手法も提供します。\n",
        "5予測:予測ステップは、サンプル（モデルのオーダーに等しい最小の長さ）を取り、次の時間先のファジー出力（ファジーセット（複数可））を生成する。\n",
        "\n",
        "6デファジィフィケーション。このステップでは、ファジー予測を実数に変換します。\n",
        "\n",
        "7データの後処理を行う。ステップ1の逆操作。\n",
        "\n",
        "---\n",
        "**使用例**\n",
        "良いコード例から始めるに越したことはありません。そして、実装されたメソッドos pyFTSのデモJupyter Notebooksをチェックしてみてください\n",
        "\n",
        "Google Colabの例もこちらでご覧いただけます。\n",
        "\n",
        "---\n",
        "MINDS - 機械知能とデータサイエンス研究室\n",
        "このツールは、Frederico Gadelha Guimaraes教授が率いるMINDSラボの共同作業の結果です。pyFTSで開発されたFTSの研究の一部です。\n",
        "\n",
        "2020\n",
        "\n",
        "ORANG, Omid; 高次ファジィ認知マップを用いたファジィ時系列による太陽エネルギー予測.IEEE World Congress On Computational Intelligence 2020 (WCCI).\n",
        "ALYOUSIFI, Y; FAYE, Othman M; SOKKALINGAM, I; SILVA, P. Markov Weighted Fuzzy Time-Series Model Based on an Optimum Partition Method for Forecasting Air Pollution(大気汚染予測のための最適分割法に基づくマルコフ重み付けファジー時系列モデル).インターナショナル・ジャーナル・オブ・ファジー・システムズ, 2020.http://doi.org/10.1007/s40815-020-00841-w\n",
        "SILVA, Petrônio CL et al. Forecasting in Non-stationary Environments with Fuzzy Time Series（ファジー時系列による非定常環境の予測） https://arxiv.org/abs/2004.12554\n",
        "SILVA, Petrônio CL et al. Distributed Evolutionary Hyperparameter Optimization for Fuzzy Time Series（ファジー時系列のための分散型進化的ハイパーパラメーター最適化）.IEEE Transactions on Network and Service Management, 2020.http://doi.org/10.1109/TNSM.2020.2980289\n",
        "ALYOUSIFI, Yousif et al. ファジー時系列マルコフ連鎖モデルに基づく日々の大気汚染指数の予測.Symmetry, v. 12, n. 2, p. 293, 2020.http://doi.org/10.3390/sym12020293\n",
        "2019\n",
        "\n",
        "SILVA, Petrônio C. L. Scalable Models of Fuzzy Time Series for Probabilistic Forecasting（ファジィ時系列のスケーラブルモデルと確率的予測）.博士論文。https://doi.org/10.5281/zenodo.3374641\n",
        "SADAEI, Hossein J. et al. 畳み込みニューラルネットワークとファジー時系列を組み合わせた手法による短期負荷予測.Energy, v. 175, p. 365-377, 2019.http://doi.org/10.1016/j.energy.2019.03.081\n",
        "SILVA, Petrônio CL et al. ファジー時系列を用いた確率的予測.IEEE Transactions on Fuzzy Systems, 2019.http://doi.org/10.1109/TFUZZ.2019.2922152\n",
        "SILVA, Petrônio C. L.; LUCAS, Patrícia de O.; GUIMARÃES, Frederico Gadelha.スケーラブルなファジィ時系列のための分散アルゴリズム.で。International Conference on Green, Pervasive, and Cloud Computing.Springer, Cham, 2019. p. 42-56.http://doi.org/10.1007/978-3-030-19223-5_4\n",
        "SILVA, Petrônio Cândido de Lima et al. A New Granular Approach for Multivariate Forecasting（多変量予測のための新しい粒状アプローチ）.ラテンアメリカ計算論的神経科学ワークショップ.Springer, Cham, 2019. p.41-58。http://doi.org/10.1007/978-3-030-36636-0_4。\n",
        "ALVES, Marcos Antonio et al. Evolutionary Dynamic Optimization for a Energy Dispatch in a Microgrid using Electric Vehicles（電気自動車を用いたマイクログリッドにおけるエネルギー配分のための進化的最適化）.ブラジル情報処理学会第14回研究発表会にて。Campinas : GALOÁ. 2019.http://doi.org/10.17648/sbai-2019-111524\n",
        "LUCAS, Patrícia de O.; SILVA, Petrônio C. L.; GUIMARAES, Frederico G.（ルーカス、パトリシア・デ・オ）。漠然とした時系列モデルに対するハイパーパラメータの進化的最適化.In: Anais do 14º Simpósio Brasileiro de Automação Inteligente.Campinas : GALOÁ. 2019.http://doi.org/10.17648/sbai-2019-111141\n",
        "2018\n",
        "\n",
        "ALVES, Marcos Antônio et al. 非定常ファジー集合の異種ファジー時系列への拡張.In: ESANN. 2018.\n",
        "2017\n",
        "\n",
        "SEVERIANO, Carlos A. et al. ファジー時系列を用いた超短期太陽予報.In: 2017 IEEE international conference on fuzzy systems (FUZZ-IEEE).IEEE, 2017. p. 1-6.http://doi.org/10.1109/FUZZ-IEEE.2017.8015732\n",
        "SILVA, Petrônio C. L.; et al. 季節アンサンブルファジー時系列を用いた確率的予測.で。XIII Brazilian Congress on Computational Intelligence, Rio de Janeiro.2017.http://doi.org/10.21528/CBIC2017-54\n",
        "COSTA, Francirley R. B.; SILVA, Petrônio C. L.; GUIMARAES, Frederico G. REGRESSÃO LINEAR APLICADA NA PREDIÇÃO DE SERIES TEMPORAIS FUZZY.Simpósio Brasileiro de Automação Inteligente (SBAI), 2017.\n",
        "2016\n",
        "\n",
        "SILVA, Petrônio C. L.; SADAEI, Hossein Javedani; GUIMARAES, Frederico G. Interval forecasting with fuzzy time series.（ファジー時系列を用いた区間予測）。In: 2016 IEEE Symposium Series on Computational Intelligence (SSCI).IEEE, 2016. p. 1-8.http://doi.org/10.1109/SSCI.2016.7850010"
      ],
      "metadata": {
        "id": "EHR5Tyw3jGkz"
      }
    },
    {
      "cell_type": "code",
      "source": [
        "from IPython.display import YouTubeVideo\n",
        "YouTubeVideo('dUaOusiRJIk', width=400, height=300)"
      ],
      "metadata": {
        "colab": {
          "base_uri": "https://localhost:8080/",
          "height": 322
        },
        "id": "kvO9NjI2srKb",
        "outputId": "affec64d-1062-482a-b3b8-b8d2079a289c"
      },
      "execution_count": 1,
      "outputs": [
        {
          "output_type": "execute_result",
          "data": {
            "text/plain": [
              "<IPython.lib.display.YouTubeVideo at 0x7f3ef7bf1880>"
            ],
            "text/html": [
              "\n",
              "        <iframe\n",
              "            width=\"400\"\n",
              "            height=\"300\"\n",
              "            src=\"https://www.youtube.com/embed/dUaOusiRJIk\"\n",
              "            frameborder=\"0\"\n",
              "            allowfullscreen\n",
              "        ></iframe>\n",
              "        "
            ],
            "image/jpeg": "[encoded data removed]"
          },
          "metadata": {},
          "execution_count": 1
        }
      ]
    },
    {
      "cell_type": "markdown",
      "source": [
        "# **pyFTS 1.6 ドキュメント**\n",
        "http://pyfts.github.io/pyFTS/build/html/index.html"
      ],
      "metadata": {
        "id": "EZUPVlIV1AAq"
      }
    },
    {
      "cell_type": "markdown",
      "metadata": {
        "id": "eF4ZdNDSt9-L"
      },
      "source": [
        "## 環境設定"
      ]
    },
    {
      "cell_type": "code",
      "source": [
        "!pip install -U pyFTS"
      ],
      "metadata": {
        "colab": {
          "base_uri": "https://localhost:8080/"
        },
        "id": "nY-85slizM8N",
        "outputId": "db7e69f2-fdea-4337-a2a8-c2174bf5d052"
      },
      "execution_count": 6,
      "outputs": [
        {
          "output_type": "stream",
          "name": "stdout",
          "text": [
            "Looking in indexes: https://pypi.org/simple, https://us-python.pkg.dev/colab-wheels/public/simple/\n",
            "Collecting pyFTS\n",
            "  Downloading pyFTS-1.6-py3-none-any.whl (175 kB)\n",
            "\u001b[K     |████████████████████████████████| 175 kB 14.4 MB/s \n",
            "\u001b[?25hInstalling collected packages: pyFTS\n",
            "Successfully installed pyFTS-1.6\n",
            "Looking in indexes: https://pypi.org/simple, https://us-python.pkg.dev/colab-wheels/public/simple/\n",
            "Collecting git+https://github.com/PYFTS/pyFTS\n",
            "  Cloning https://github.com/PYFTS/pyFTS to /tmp/pip-req-build-h3s2uj7j\n",
            "  Running command git clone -q https://github.com/PYFTS/pyFTS /tmp/pip-req-build-h3s2uj7j\n",
            "Requirement already satisfied: matplotlib in /usr/local/lib/python3.8/dist-packages (from pyFTS==1.6) (3.2.2)\n",
            "Requirement already satisfied: numpy in /usr/local/lib/python3.8/dist-packages (from pyFTS==1.6) (1.21.6)\n",
            "Requirement already satisfied: pandas in /usr/local/lib/python3.8/dist-packages (from pyFTS==1.6) (1.3.5)\n",
            "Requirement already satisfied: pyparsing!=2.0.4,!=2.1.2,!=2.1.6,>=2.0.1 in /usr/local/lib/python3.8/dist-packages (from matplotlib->pyFTS==1.6) (3.0.9)\n",
            "Requirement already satisfied: python-dateutil>=2.1 in /usr/local/lib/python3.8/dist-packages (from matplotlib->pyFTS==1.6) (2.8.2)\n",
            "Requirement already satisfied: cycler>=0.10 in /usr/local/lib/python3.8/dist-packages (from matplotlib->pyFTS==1.6) (0.11.0)\n",
            "Requirement already satisfied: kiwisolver>=1.0.1 in /usr/local/lib/python3.8/dist-packages (from matplotlib->pyFTS==1.6) (1.4.4)\n",
            "Requirement already satisfied: six>=1.5 in /usr/local/lib/python3.8/dist-packages (from python-dateutil>=2.1->matplotlib->pyFTS==1.6) (1.15.0)\n",
            "Requirement already satisfied: pytz>=2017.3 in /usr/local/lib/python3.8/dist-packages (from pandas->pyFTS==1.6) (2022.6)\n"
          ]
        }
      ]
    },
    {
      "cell_type": "markdown",
      "metadata": {
        "id": "XBzjih7yuD4v"
      },
      "source": [
        "##  通常 imports"
      ]
    },
    {
      "cell_type": "code",
      "metadata": {
        "id": "lHK0KFY1Ui79",
        "outputId": "e7ff9dd0-28bf-4bbe-a4bb-b81ed05c7cd5",
        "colab": {
          "base_uri": "https://localhost:8080/"
        }
      },
      "source": [
        "import warnings\n",
        "warnings.filterwarnings('ignore')\n",
        "\n",
        "import numpy as np\n",
        "import pandas as pd\n",
        "import matplotlib as plt\n",
        "import matplotlib.pyplot as plt\n",
        "import seaborn as sns\n",
        "\n",
        "\n",
        "from pyFTS.common import Util\n",
        "\n",
        "%pylab inline"
      ],
      "execution_count": 7,
      "outputs": [
        {
          "output_type": "stream",
          "name": "stdout",
          "text": [
            "Populating the interactive namespace from numpy and matplotlib\n"
          ]
        }
      ]
    },
    {
      "cell_type": "markdown",
      "metadata": {
        "id": "UtMM4gifUi8L"
      },
      "source": [
        "## 指標となるデータセット"
      ]
    },
    {
      "cell_type": "markdown",
      "metadata": {
        "id": "6jisAsAzthaB"
      },
      "source": [
        "### Synthetic Concept Drifted Series(合成概念漂流シリーズ)"
      ]
    },
    {
      "cell_type": "code",
      "metadata": {
        "id": "F0ai5xFCtn9N"
      },
      "source": [
        "#人工・合成データジェネレータ\n",
        "from pyFTS.data import artificial#合成確率過程を生成する機能\n",
        "\n",
        "mu_local = 5#局所平均\n",
        "sigma_local = 0.25#シグマ- 局所分散\n",
        "mu_drift = 3#平均偏差値\n",
        "sigma_drift = 0.5#分散偏差値\n",
        "deflen = 200#\n",
        "totlen = deflen * 10#\n",
        "order = 5#\n",
        "\n",
        "signals = {}\n",
        "\n",
        "def mavg(l,order=2):\n",
        "  ret = [] #l[:order]\n",
        "  for k in np.arange(order, len(l)):\n",
        "    ret.append( np.nanmean(l[k-order:k])  )\n",
        "    \n",
        "  return ret\n",
        "\n",
        "signal = artificial.SignalEmulator().stationary_gaussian(mu_local,sigma_local,length=deflen,it=10).run()\n",
        "\n",
        "signals['Stationary signal'] = mavg(signal, order)\n",
        "\n",
        "signal = artificial.SignalEmulator().stationary_gaussian(mu_local,sigma_local,length=deflen,it=10).blip().blip().run()\n",
        "\n",
        "signals['Stationary signal with blip'] = mavg(signal, order)\n",
        "\n",
        "signal = artificial.SignalEmulator()\\\n",
        ".stationary_gaussian(mu_local,sigma_local,length=deflen//2,it=10)\\\n",
        ".stationary_gaussian(mu_local,sigma_drift,length=deflen//2,it=10, additive=False)\\\n",
        ".blip().blip()\\\n",
        ".run()\n",
        "\n",
        "signals['Sudden Variance'] = mavg(signal, order)\n",
        "\n",
        "signal = artificial.SignalEmulator()\\\n",
        ".stationary_gaussian(mu_local,sigma_local,length=deflen//2,it=10)\\\n",
        ".stationary_gaussian(mu_drift,sigma_local,length=deflen//2,it=10, additive=False)\\\n",
        ".blip().blip()\\\n",
        ".run()\n",
        "\n",
        "signals['Sudden Mean'] = mavg(signal, order)\n",
        "\n",
        "signal = artificial.SignalEmulator()\\\n",
        ".stationary_gaussian(mu_local,sigma_local,length=deflen//2,it=10)\\\n",
        ".stationary_gaussian(mu_drift,sigma_drift,length=deflen//2,it=10, additive=False)\\\n",
        ".blip().blip()\\\n",
        ".run()\n",
        "\n",
        "\n",
        "signals['Sudden Mean & Variance'] = mavg(signal, order)\n",
        "\n",
        "signal = artificial.SignalEmulator()\\\n",
        ".stationary_gaussian(mu_local,sigma_local,length=deflen,it=10)\\\n",
        ".incremental_gaussian(0.1,0,length=totlen//2,start=totlen//2)\\\n",
        ".blip().blip()\\\n",
        ".run()\n",
        "\n",
        "signals['Incremental Mean'] = mavg(signal, order)\n",
        "\n",
        "signal = artificial.SignalEmulator()\\\n",
        ".stationary_gaussian(mu_local,sigma_local,length=deflen,it=10)\\\n",
        ".incremental_gaussian(0.,0.1,length=totlen//2,start=totlen//2)\\\n",
        ".blip().blip()\\\n",
        ".run()\n",
        "\n",
        "signals['Incremental Variance'] = signal\n",
        "\n",
        "signal = artificial.SignalEmulator()\\\n",
        ".stationary_gaussian(mu_local,sigma_local,length=deflen,it=10)\\\n",
        ".incremental_gaussian(0.02,0.01,length=totlen//2,start=totlen//2)\\\n",
        ".blip().blip()\\\n",
        ".run()\n",
        "\n",
        "signals['Incremental Mean & Variance'] = mavg(signal, order)\n",
        "\n",
        "\n"
      ],
      "execution_count": 8,
      "outputs": []
    },
    {
      "cell_type": "code",
      "metadata": {
        "id": "7eZCpwV4tuR8",
        "outputId": "754b099d-1786-4de3-a7dc-bbaba2ae1c2c",
        "colab": {
          "base_uri": "https://localhost:8080/",
          "height": 515
        }
      },
      "source": [
        "fig, ax = plt.subplots(nrows=4, ncols=2, figsize=[15,10])\n",
        "\n",
        "nrows = 4\n",
        "ncols = 2\n",
        "\n",
        "row = 0\n",
        "col = 0\n",
        "\n",
        "for key in signals.keys():\n",
        "  \n",
        "  if col >= ncols:\n",
        "    col = 0\n",
        "    row += 1\n",
        "  \n",
        "  ax[row][col].plot(signals[key])\n",
        "  ax[row][col].set_title(key)\n",
        "  \n",
        "  col += 1\n",
        "  \n",
        "plt.tight_layout()\n"
      ],
      "execution_count": 9,
      "outputs": [
        {
          "output_type": "display_data",
          "data": {
            "text/plain": [
              "<Figure size 1080x720 with 8 Axes>"
            ],
            "image/png": "[encoded data removed]"
          },
          "metadata": {
            "needs_background": "light"
          }
        }
      ]
    },
    {
      "cell_type": "markdown",
      "metadata": {
        "id": "xiTB2W-YMGQS"
      },
      "source": [
        "### Financial Datasets"
      ]
    },
    {
      "cell_type": "code",
      "metadata": {
        "id": "4egD3DfgUi8N"
      },
      "source": [
        "from pyFTS.data import TAIEX, NASDAQ, SP500, DowJones, Ethereum, Bitcoin, EURGBP, EURUSD, GBPUSD\n",
        "dji = DowJones.get_data('AVG')[1000:5000]\n",
        "btc = Bitcoin.get_data('AVG')\n",
        "eth = Ethereum.get_data('AVG')\n",
        "eurusd = EURUSD.get_data()[:5000]\n",
        "eurgbp = EURGBP.get_data()[:5000]\n",
        "gbpusd = GBPUSD.get_data()[:5000]\n",
        "taiex = TAIEX.get_data()[:4000]\n",
        "sp500 = SP500.get_data()[10000:14000]\n",
        "nasdaq = NASDAQ.get_data()[:4000]\n",
        "financial = {\n",
        "   \"TAIEX\": taiex,\n",
        "   \"SP500\": sp500, \n",
        "   \"NASDAQ\": nasdaq, \n",
        "   \"DowJones\": dji,\n",
        "   \"BTC-USD\": btc,\n",
        "   \"ETH-USD\": eth,\n",
        "   \"EUR-USD\": eurusd,\n",
        "    \"EUR-GBP\": eurgbp,\n",
        "   \"GBP-USD\": gbpusd\n",
        "}\n",
        "\n",
        "train_split = 600\n"
      ],
      "execution_count": 10,
      "outputs": []
    },
    {
      "cell_type": "code",
      "metadata": {
        "id": "AH7Ui99NIxpJ",
        "outputId": "27c49a05-8c1b-426b-f0ba-c60316cbf96a",
        "colab": {
          "base_uri": "https://localhost:8080/",
          "height": 369
        }
      },
      "source": [
        "fig, ax = plt.subplots(nrows=3, ncols=3, figsize=[10,5])\n",
        "for count, ds in enumerate(financial.keys()):\n",
        "    row = count % 3\n",
        "    col = count // 3\n",
        "    ax[row][col].plot(financial[ds])\n",
        "    ax[row][col].set_title(ds)\n",
        "      \n",
        "plt.tight_layout()"
      ],
      "execution_count": 11,
      "outputs": [
        {
          "output_type": "display_data",
          "data": {
            "text/plain": [
              "<Figure size 720x360 with 9 Axes>"
            ],
            "image/png": "[encoded data removed]"
          },
          "metadata": {
            "needs_background": "light"
          }
        }
      ]
    },
    {
      "cell_type": "code",
      "metadata": {
        "id": "filjnpsGk6so"
      },
      "source": [
        "datasets = {}\n",
        "#for key in signals.keys():\n",
        "#  datasets[key] = signals[key]\n",
        "for key in financial.keys():\n",
        "  datasets[key] = financial[key]\n",
        "\n",
        "from pyFTS.common import Transformations\n",
        "\n",
        "tdiff = Transformations.Differential(1)\n",
        "\n",
        "boxcox = Transformations.BoxCox(0)\n",
        "\n",
        "transformations = {'None': None } #, 'Differential(1)': tdiff, 'BoxCox(0)': boxcox }"
      ],
      "execution_count": 12,
      "outputs": []
    },
    {
      "cell_type": "markdown",
      "metadata": {
        "id": "5mL-vSYMMOMC"
      },
      "source": [
        "### 統計検定"
      ]
    },
    {
      "cell_type": "markdown",
      "metadata": {
        "id": "MEdvaj1NiWby"
      },
      "source": [
        "#### 定常性\n",
        "\n",
        "定常性\n",
        "単位根に対する $Augmented Dickey-Fuller$ 検定、 $α=0.05$ .\n",
        "\n",
        "$H0$ : 時系列は単位根を持ち、非定常である。\n",
        "\n",
        "$H1$ : 時系列は単位根を持たず，かつ，定常的である。"
      ]
    },
    {
      "cell_type": "code",
      "metadata": {
        "id": "jZbCLN6_Jxi5",
        "outputId": "2dd9f7eb-a9af-4e44-9f77-a44011bf4b37",
        "colab": {
          "base_uri": "https://localhost:8080/",
          "height": 331
        }
      },
      "source": [
        "\n",
        "\n",
        "from statsmodels.tsa.stattools import adfuller\n",
        "\n",
        "rows =[]\n",
        "\n",
        "for count1, ds in enumerate(datasets.keys()):\n",
        "    row = [ds]\n",
        "    dataset = datasets[ds]\n",
        "    result = adfuller(dataset)\n",
        "    row.extend([result[0],result[1]])\n",
        "    #row.extend([value for key, value in result[4].items()])\n",
        "    row.append('H0 Accepted' if result[1] > 0.05 else 'H0 Rejected')\n",
        "    rows.append(row)\n",
        "    \n",
        "pd.DataFrame(rows,columns=['Dataset','ADF Statistic','p-value','Result'])\n",
        "\n"
      ],
      "execution_count": 13,
      "outputs": [
        {
          "output_type": "execute_result",
          "data": {
            "text/plain": [
              "    Dataset  ADF Statistic   p-value       Result\n",
              "0     TAIEX      -2.491767  0.117490  H0 Accepted\n",
              "1     SP500      -0.943446  0.773329  H0 Accepted\n",
              "2    NASDAQ       0.476224  0.984132  H0 Accepted\n",
              "3  DowJones      -0.800893  0.818860  H0 Accepted\n",
              "4   BTC-USD      -1.206100  0.670966  H0 Accepted\n",
              "5   ETH-USD      -1.852677  0.354640  H0 Accepted\n",
              "6   EUR-USD      -1.845986  0.357882  H0 Accepted\n",
              "7   EUR-GBP      -1.656504  0.453651  H0 Accepted\n",
              "8   GBP-USD      -1.131750  0.702246  H0 Accepted"
            ],
            "text/html": [
              "\n",
              "  <div id=\"df-5daa812a-1b22-4ab4-ac99-6c294fa5dfac\">\n",
              "    <div class=\"colab-df-container\">\n",
              "      <div>\n",
              "<style scoped>\n",
              "    .dataframe tbody tr th:only-of-type {\n",
              "        vertical-align: middle;\n",
              "    }\n",
              "\n",
              "    .dataframe tbody tr th {\n",
              "        vertical-align: top;\n",
              "    }\n",
              "\n",
              "    .dataframe thead th {\n",
              "        text-align: right;\n",
              "    }\n",
              "</style>\n",
              "<table border=\"1\" class=\"dataframe\">\n",
              "  <thead>\n",
              "    <tr style=\"text-align: right;\">\n",
              "      <th></th>\n",
              "      <th>Dataset</th>\n",
              "      <th>ADF Statistic</th>\n",
              "      <th>p-value</th>\n",
              "      <th>Result</th>\n",
              "    </tr>\n",
              "  </thead>\n",
              "  <tbody>\n",
              "    <tr>\n",
              "      <th>0</th>\n",
              "      <td>TAIEX</td>\n",
              "      <td>-2.491767</td>\n",
              "      <td>0.117490</td>\n",
              "      <td>H0 Accepted</td>\n",
              "    </tr>\n",
              "    <tr>\n",
              "      <th>1</th>\n",
              "      <td>SP500</td>\n",
              "      <td>-0.943446</td>\n",
              "      <td>0.773329</td>\n",
              "      <td>H0 Accepted</td>\n",
              "    </tr>\n",
              "    <tr>\n",
              "      <th>2</th>\n",
              "      <td>NASDAQ</td>\n",
              "      <td>0.476224</td>\n",
              "      <td>0.984132</td>\n",
              "      <td>H0 Accepted</td>\n",
              "    </tr>\n",
              "    <tr>\n",
              "      <th>3</th>\n",
              "      <td>DowJones</td>\n",
              "      <td>-0.800893</td>\n",
              "      <td>0.818860</td>\n",
              "      <td>H0 Accepted</td>\n",
              "    </tr>\n",
              "    <tr>\n",
              "      <th>4</th>\n",
              "      <td>BTC-USD</td>\n",
              "      <td>-1.206100</td>\n",
              "      <td>0.670966</td>\n",
              "      <td>H0 Accepted</td>\n",
              "    </tr>\n",
              "    <tr>\n",
              "      <th>5</th>\n",
              "      <td>ETH-USD</td>\n",
              "      <td>-1.852677</td>\n",
              "      <td>0.354640</td>\n",
              "      <td>H0 Accepted</td>\n",
              "    </tr>\n",
              "    <tr>\n",
              "      <th>6</th>\n",
              "      <td>EUR-USD</td>\n",
              "      <td>-1.845986</td>\n",
              "      <td>0.357882</td>\n",
              "      <td>H0 Accepted</td>\n",
              "    </tr>\n",
              "    <tr>\n",
              "      <th>7</th>\n",
              "      <td>EUR-GBP</td>\n",
              "      <td>-1.656504</td>\n",
              "      <td>0.453651</td>\n",
              "      <td>H0 Accepted</td>\n",
              "    </tr>\n",
              "    <tr>\n",
              "      <th>8</th>\n",
              "      <td>GBP-USD</td>\n",
              "      <td>-1.131750</td>\n",
              "      <td>0.702246</td>\n",
              "      <td>H0 Accepted</td>\n",
              "    </tr>\n",
              "  </tbody>\n",
              "</table>\n",
              "</div>\n",
              "      <button class=\"colab-df-convert\" onclick=\"convertToInteractive('df-5daa812a-1b22-4ab4-ac99-6c294fa5dfac')\"\n",
              "              title=\"Convert this dataframe to an interactive table.\"\n",
              "              style=\"display:none;\">\n",
              "        \n",
              "  <svg xmlns=\"http://www.w3.org/2000/svg\" height=\"24px\"viewBox=\"0 0 24 24\"\n",
              "       width=\"24px\">\n",
              "    <path d=\"M0 0h24v24H0V0z\" fill=\"none\"/>\n",
              "    <path d=\"M18.56 5.44l.94 2.06.94-2.06 2.06-.94-2.06-.94-.94-2.06-.94 2.06-2.06.94zm-11 1L8.5 8.5l.94-2.06 2.06-.94-2.06-.94L8.5 2.5l-.94 2.06-2.06.94zm10 10l.94 2.06.94-2.06 2.06-.94-2.06-.94-.94-2.06-.94 2.06-2.06.94z\"/><path d=\"M17.41 7.96l-1.37-1.37c-.4-.4-.92-.59-1.43-.59-.52 0-1.04.2-1.43.59L10.3 9.45l-7.72 7.72c-.78.78-.78 2.05 0 2.83L4 21.41c.39.39.9.59 1.41.59.51 0 1.02-.2 1.41-.59l7.78-7.78 2.81-2.81c.8-.78.8-2.07 0-2.86zM5.41 20L4 18.59l7.72-7.72 1.47 1.35L5.41 20z\"/>\n",
              "  </svg>\n",
              "      </button>\n",
              "      \n",
              "  <style>\n",
              "    .colab-df-container {\n",
              "      display:flex;\n",
              "      flex-wrap:wrap;\n",
              "      gap: 12px;\n",
              "    }\n",
              "\n",
              "    .colab-df-convert {\n",
              "      background-color: #E8F0FE;\n",
              "      border: none;\n",
              "      border-radius: 50%;\n",
              "      cursor: pointer;\n",
              "      display: none;\n",
              "      fill: #1967D2;\n",
              "      height: 32px;\n",
              "      padding: 0 0 0 0;\n",
              "      width: 32px;\n",
              "    }\n",
              "\n",
              "    .colab-df-convert:hover {\n",
              "      background-color: #E2EBFA;\n",
              "      box-shadow: 0px 1px 2px rgba(60, 64, 67, 0.3), 0px 1px 3px 1px rgba(60, 64, 67, 0.15);\n",
              "      fill: #174EA6;\n",
              "    }\n",
              "\n",
              "    [theme=dark] .colab-df-convert {\n",
              "      background-color: #3B4455;\n",
              "      fill: #D2E3FC;\n",
              "    }\n",
              "\n",
              "    [theme=dark] .colab-df-convert:hover {\n",
              "      background-color: #434B5C;\n",
              "      box-shadow: 0px 1px 3px 1px rgba(0, 0, 0, 0.15);\n",
              "      filter: drop-shadow(0px 1px 2px rgba(0, 0, 0, 0.3));\n",
              "      fill: #FFFFFF;\n",
              "    }\n",
              "  </style>\n",
              "\n",
              "      <script>\n",
              "        const buttonEl =\n",
              "          document.querySelector('#df-5daa812a-1b22-4ab4-ac99-6c294fa5dfac button.colab-df-convert');\n",
              "        buttonEl.style.display =\n",
              "          google.colab.kernel.accessAllowed ? 'block' : 'none';\n",
              "\n",
              "        async function convertToInteractive(key) {\n",
              "          const element = document.querySelector('#df-5daa812a-1b22-4ab4-ac99-6c294fa5dfac');\n",
              "          const dataTable =\n",
              "            await google.colab.kernel.invokeFunction('convertToInteractive',\n",
              "                                                     [key], {});\n",
              "          if (!dataTable) return;\n",
              "\n",
              "          const docLinkHtml = 'Like what you see? Visit the ' +\n",
              "            '<a target=\"_blank\" href=https://colab.research.google.com/notebooks/data_table.ipynb>data table notebook</a>'\n",
              "            + ' to learn more about interactive tables.';\n",
              "          element.innerHTML = '';\n",
              "          dataTable['output_type'] = 'display_data';\n",
              "          await google.colab.output.renderOutput(dataTable, element);\n",
              "          const docLink = document.createElement('div');\n",
              "          docLink.innerHTML = docLinkHtml;\n",
              "          element.appendChild(docLink);\n",
              "        }\n",
              "      </script>\n",
              "    </div>\n",
              "  </div>\n",
              "  "
            ]
          },
          "metadata": {},
          "execution_count": 13
        }
      ]
    },
    {
      "cell_type": "markdown",
      "metadata": {
        "id": "TE8nlRsiim9z"
      },
      "source": [
        "#### 【統計】homoscedasticity（等分散性）同心円度\n",
        "\n",
        "Leveneの検定で分散の均質性を確認、$α=0.05$\n",
        "\n",
        "H0 : 時系列のサブサンプルの分散は，すべて等しい。\n",
        "\n",
        "H1 : 時系列の部分標本の少なくとも1つの分散が異なっている。\n",
        "\n",
        "$Leveneの検定$は分散の均質性をチェックする、$α=0.05$\n",
        "\n",
        "$H0$ : 時系列のサブサンプルの分散はすべて等しい。\n",
        "\n",
        "$H1$ : 時系列の部分標本の少なくとも1つの分散が異なる."
      ]
    },
    {
      "cell_type": "code",
      "metadata": {
        "id": "3dFCCqTonuak",
        "outputId": "9def77c9-49c8-49c1-c627-c4d86028bbe3",
        "colab": {
          "base_uri": "https://localhost:8080/",
          "height": 331
        }
      },
      "source": [
        "\n",
        "\n",
        "from scipy.stats import levene\n",
        "\n",
        "rows =[]\n",
        "\n",
        "for count1, ds in enumerate(datasets.keys()):\n",
        "    row = [ds]\n",
        "    dataset = datasets[ds]\n",
        "    split = int(len(dataset)/2)\n",
        "    ds1, ds2 = dataset[:split], dataset[split:]\n",
        "    result = levene(ds1,ds2)\n",
        "    row.extend([result.statistic,result.pvalue])\n",
        "    #row.extend([value for key, value in result[4].items()])\n",
        "    row.append('H0 Accepted' if result.pvalue > 0.05 else 'H0 Rejected')\n",
        "    rows.append(row)\n",
        "    \n",
        "pd.DataFrame(rows,columns=['Dataset','Levene Statistic','p-value','Result'])\n",
        "\n"
      ],
      "execution_count": 14,
      "outputs": [
        {
          "output_type": "execute_result",
          "data": {
            "text/plain": [
              "    Dataset  Levene Statistic        p-value       Result\n",
              "0     TAIEX         62.530885   3.366934e-15  H0 Rejected\n",
              "1     SP500         64.954050   1.003282e-15  H0 Rejected\n",
              "2    NASDAQ       1851.123985   0.000000e+00  H0 Rejected\n",
              "3  DowJones        163.413938   1.053157e-36  H0 Rejected\n",
              "4   BTC-USD        524.853179  4.352254e-107  H0 Rejected\n",
              "5   ETH-USD        666.975156  9.700699e-116  H0 Rejected\n",
              "6   EUR-USD        401.104689   6.851098e-86  H0 Rejected\n",
              "7   EUR-GBP         28.053607   1.230600e-07  H0 Rejected\n",
              "8   GBP-USD       1340.896808  2.812862e-260  H0 Rejected"
            ],
            "text/html": [
              "\n",
              "  <div id=\"df-e5b49c0c-6a32-4a61-bb03-324dc8307391\">\n",
              "    <div class=\"colab-df-container\">\n",
              "      <div>\n",
              "<style scoped>\n",
              "    .dataframe tbody tr th:only-of-type {\n",
              "        vertical-align: middle;\n",
              "    }\n",
              "\n",
              "    .dataframe tbody tr th {\n",
              "        vertical-align: top;\n",
              "    }\n",
              "\n",
              "    .dataframe thead th {\n",
              "        text-align: right;\n",
              "    }\n",
              "</style>\n",
              "<table border=\"1\" class=\"dataframe\">\n",
              "  <thead>\n",
              "    <tr style=\"text-align: right;\">\n",
              "      <th></th>\n",
              "      <th>Dataset</th>\n",
              "      <th>Levene Statistic</th>\n",
              "      <th>p-value</th>\n",
              "      <th>Result</th>\n",
              "    </tr>\n",
              "  </thead>\n",
              "  <tbody>\n",
              "    <tr>\n",
              "      <th>0</th>\n",
              "      <td>TAIEX</td>\n",
              "      <td>62.530885</td>\n",
              "      <td>3.366934e-15</td>\n",
              "      <td>H0 Rejected</td>\n",
              "    </tr>\n",
              "    <tr>\n",
              "      <th>1</th>\n",
              "      <td>SP500</td>\n",
              "      <td>64.954050</td>\n",
              "      <td>1.003282e-15</td>\n",
              "      <td>H0 Rejected</td>\n",
              "    </tr>\n",
              "    <tr>\n",
              "      <th>2</th>\n",
              "      <td>NASDAQ</td>\n",
              "      <td>1851.123985</td>\n",
              "      <td>0.000000e+00</td>\n",
              "      <td>H0 Rejected</td>\n",
              "    </tr>\n",
              "    <tr>\n",
              "      <th>3</th>\n",
              "      <td>DowJones</td>\n",
              "      <td>163.413938</td>\n",
              "      <td>1.053157e-36</td>\n",
              "      <td>H0 Rejected</td>\n",
              "    </tr>\n",
              "    <tr>\n",
              "      <th>4</th>\n",
              "      <td>BTC-USD</td>\n",
              "      <td>524.853179</td>\n",
              "      <td>4.352254e-107</td>\n",
              "      <td>H0 Rejected</td>\n",
              "    </tr>\n",
              "    <tr>\n",
              "      <th>5</th>\n",
              "      <td>ETH-USD</td>\n",
              "      <td>666.975156</td>\n",
              "      <td>9.700699e-116</td>\n",
              "      <td>H0 Rejected</td>\n",
              "    </tr>\n",
              "    <tr>\n",
              "      <th>6</th>\n",
              "      <td>EUR-USD</td>\n",
              "      <td>401.104689</td>\n",
              "      <td>6.851098e-86</td>\n",
              "      <td>H0 Rejected</td>\n",
              "    </tr>\n",
              "    <tr>\n",
              "      <th>7</th>\n",
              "      <td>EUR-GBP</td>\n",
              "      <td>28.053607</td>\n",
              "      <td>1.230600e-07</td>\n",
              "      <td>H0 Rejected</td>\n",
              "    </tr>\n",
              "    <tr>\n",
              "      <th>8</th>\n",
              "      <td>GBP-USD</td>\n",
              "      <td>1340.896808</td>\n",
              "      <td>2.812862e-260</td>\n",
              "      <td>H0 Rejected</td>\n",
              "    </tr>\n",
              "  </tbody>\n",
              "</table>\n",
              "</div>\n",
              "      <button class=\"colab-df-convert\" onclick=\"convertToInteractive('df-e5b49c0c-6a32-4a61-bb03-324dc8307391')\"\n",
              "              title=\"Convert this dataframe to an interactive table.\"\n",
              "              style=\"display:none;\">\n",
              "        \n",
              "  <svg xmlns=\"http://www.w3.org/2000/svg\" height=\"24px\"viewBox=\"0 0 24 24\"\n",
              "       width=\"24px\">\n",
              "    <path d=\"M0 0h24v24H0V0z\" fill=\"none\"/>\n",
              "    <path d=\"M18.56 5.44l.94 2.06.94-2.06 2.06-.94-2.06-.94-.94-2.06-.94 2.06-2.06.94zm-11 1L8.5 8.5l.94-2.06 2.06-.94-2.06-.94L8.5 2.5l-.94 2.06-2.06.94zm10 10l.94 2.06.94-2.06 2.06-.94-2.06-.94-.94-2.06-.94 2.06-2.06.94z\"/><path d=\"M17.41 7.96l-1.37-1.37c-.4-.4-.92-.59-1.43-.59-.52 0-1.04.2-1.43.59L10.3 9.45l-7.72 7.72c-.78.78-.78 2.05 0 2.83L4 21.41c.39.39.9.59 1.41.59.51 0 1.02-.2 1.41-.59l7.78-7.78 2.81-2.81c.8-.78.8-2.07 0-2.86zM5.41 20L4 18.59l7.72-7.72 1.47 1.35L5.41 20z\"/>\n",
              "  </svg>\n",
              "      </button>\n",
              "      \n",
              "  <style>\n",
              "    .colab-df-container {\n",
              "      display:flex;\n",
              "      flex-wrap:wrap;\n",
              "      gap: 12px;\n",
              "    }\n",
              "\n",
              "    .colab-df-convert {\n",
              "      background-color: #E8F0FE;\n",
              "      border: none;\n",
              "      border-radius: 50%;\n",
              "      cursor: pointer;\n",
              "      display: none;\n",
              "      fill: #1967D2;\n",
              "      height: 32px;\n",
              "      padding: 0 0 0 0;\n",
              "      width: 32px;\n",
              "    }\n",
              "\n",
              "    .colab-df-convert:hover {\n",
              "      background-color: #E2EBFA;\n",
              "      box-shadow: 0px 1px 2px rgba(60, 64, 67, 0.3), 0px 1px 3px 1px rgba(60, 64, 67, 0.15);\n",
              "      fill: #174EA6;\n",
              "    }\n",
              "\n",
              "    [theme=dark] .colab-df-convert {\n",
              "      background-color: #3B4455;\n",
              "      fill: #D2E3FC;\n",
              "    }\n",
              "\n",
              "    [theme=dark] .colab-df-convert:hover {\n",
              "      background-color: #434B5C;\n",
              "      box-shadow: 0px 1px 3px 1px rgba(0, 0, 0, 0.15);\n",
              "      filter: drop-shadow(0px 1px 2px rgba(0, 0, 0, 0.3));\n",
              "      fill: #FFFFFF;\n",
              "    }\n",
              "  </style>\n",
              "\n",
              "      <script>\n",
              "        const buttonEl =\n",
              "          document.querySelector('#df-e5b49c0c-6a32-4a61-bb03-324dc8307391 button.colab-df-convert');\n",
              "        buttonEl.style.display =\n",
              "          google.colab.kernel.accessAllowed ? 'block' : 'none';\n",
              "\n",
              "        async function convertToInteractive(key) {\n",
              "          const element = document.querySelector('#df-e5b49c0c-6a32-4a61-bb03-324dc8307391');\n",
              "          const dataTable =\n",
              "            await google.colab.kernel.invokeFunction('convertToInteractive',\n",
              "                                                     [key], {});\n",
              "          if (!dataTable) return;\n",
              "\n",
              "          const docLinkHtml = 'Like what you see? Visit the ' +\n",
              "            '<a target=\"_blank\" href=https://colab.research.google.com/notebooks/data_table.ipynb>data table notebook</a>'\n",
              "            + ' to learn more about interactive tables.';\n",
              "          element.innerHTML = '';\n",
              "          dataTable['output_type'] = 'display_data';\n",
              "          await google.colab.output.renderOutput(dataTable, element);\n",
              "          const docLink = document.createElement('div');\n",
              "          docLink.innerHTML = docLinkHtml;\n",
              "          element.appendChild(docLink);\n",
              "        }\n",
              "      </script>\n",
              "    </div>\n",
              "  </div>\n",
              "  "
            ]
          },
          "metadata": {},
          "execution_count": 14
        }
      ]
    },
    {
      "cell_type": "markdown",
      "metadata": {
        "id": "GCkewXjXuVsd"
      },
      "source": [
        "## Benchmarks"
      ]
    },
    {
      "cell_type": "markdown",
      "metadata": {
        "id": "PodDFHKujih0"
      },
      "source": [
        "### グリッドサーチ - 時間変化とインクリメンタル・アンサンブル"
      ]
    },
    {
      "cell_type": "code",
      "metadata": {
        "id": "TkwVcW4Djk1g"
      },
      "source": [
        "from pyFTS.models.incremental import TimeVariant, IncrementalEnsemble\n",
        "from pyFTS.partitioners import Grid\n",
        "from pyFTS.models import hofts,pwfts\n",
        "from pyFTS.benchmarks import Measures\n",
        "\n",
        "rows = []\n",
        "\n",
        "for row, key in enumerate(datasets.keys()):\n",
        "  for window in [50,100,200]:\n",
        "    for batch in [10, 20, 30, 40, 50]:\n",
        "      num_models=2\n",
        "      l = len(datasets[key])\n",
        "      train = datasets[key][:l//10]\n",
        "      test = datasets[key][l//10:]\n",
        "\n",
        "      model1 = TimeVariant.Retrainer(partitioner_method=Grid.GridPartitioner, partitioner_params={'npart': 35},\n",
        "                              fts_method=pwfts.ProbabilisticWeightedFTS, fts_params={}, order=1 ,\n",
        "                              batch_size=batch, window_length=window*num_models)\n",
        "      \n",
        "      model1.fit(train)\n",
        "\n",
        "      rmse, mape, u = Measures.get_point_statistics(test, model1)\n",
        "      data = [key, 'TimeVariant', window, batch, None, rmse, mape, u]\n",
        "      rows.append(data)\n",
        "\n",
        "      for num_models in [2,3,4]:\n",
        "    \n",
        "        model2 = IncrementalEnsemble.IncrementalEnsembleFTS(partitioner_method=Grid.GridPartitioner, partitioner_params={'npart': 35},\n",
        "                                        fts_method=pwfts.ProbabilisticWeightedFTS, fts_params={}, order=1 ,\n",
        "                                        batch_size=int(batch/3), window_length=window, num_models=num_models)\n",
        "        \n",
        "        model2.fit(train)\n",
        "\n",
        "        rmse, mape, u = Measures.get_point_statistics(test, model2)\n",
        "        data = [key, 'IncrementalEnsemble', window, batch, num_models, rmse, mape, u]\n",
        "        rows.append(data)\n",
        "\n",
        "print(pd.DataFrame(rows,columns=[\"Dataset\",\"Model\",\"Window\",\"Batch\",\"Models\",\"RMSE\",\"MAPE\",\"U\"]).sort_values(by=[\"Dataset\", \"U\",\"MAPE\",\"RMSE\"]))\n",
        "\n",
        "\n"
      ],
      "execution_count": null,
      "outputs": []
    },
    {
      "cell_type": "code",
      "metadata": {
        "id": "pe3VWVDqfHrj"
      },
      "source": [
        "from google.colab import files\n",
        "\n",
        "uploaded = files.upload()"
      ],
      "execution_count": null,
      "outputs": []
    },
    {
      "cell_type": "code",
      "metadata": {
        "id": "je5aDqYivhfY"
      },
      "source": [
        "!ls"
      ],
      "execution_count": null,
      "outputs": []
    },
    {
      "cell_type": "code",
      "metadata": {
        "id": "_7GZSw6phQ-X"
      },
      "source": [
        "import sqlite3 \n",
        "\n",
        "con = sqlite3.connect(\"nsfts.db\")\n",
        "sql = \"SELECT * from hyperparam\"\n",
        "df = pd.read_sql_query(sql, con)\n",
        "df.head()"
      ],
      "execution_count": null,
      "outputs": []
    },
    {
      "cell_type": "markdown",
      "metadata": {
        "id": "i-U_2VxamWBO"
      },
      "source": [
        "### FTS時不変モデルの精度劣化"
      ]
    },
    {
      "cell_type": "code",
      "metadata": {
        "id": "LiNMyDet0Uyz"
      },
      "source": [
        "from pyFTS.models import hofts, pwfts, cheng\n",
        "from pyFTS.partitioners import Grid\n",
        "from pyFTS.models.nonstationary import common, perturbation, partitioners as nspart\n",
        "from pyFTS.models.nonstationary import nsfts, util as nsUtil\n",
        "from pyFTS.benchmarks import Measures\n",
        "\n",
        "fig, ax = plt.subplots(nrows=18, ncols=1, figsize=[15,25])\n",
        "\n",
        "rows = []\n",
        "\n",
        "for row, key in enumerate(signals.keys()):\n",
        "  dataset = signals[key]\n",
        "  l = len(dataset)\n",
        "  train = dataset[:l//2]\n",
        "  test = dataset[l//2:]\n",
        "\n",
        "  ax[row].plot(test, label=\"Original\")\n",
        "  ax[row].set_title(key)\n",
        "\n",
        "  partitioner = Grid.GridPartitioner(data=train, npart=35)\n",
        "\n",
        "  for method in [hofts.WeightedHighOrderFTS, pwfts.ProbabilisticWeightedFTS]:\n",
        "    model = method(partitioner=partitioner, order=2)\n",
        "    model.fit(train)\n",
        "    forecasts = model.predict(test)\n",
        "\n",
        "    ax[row].plot(forecasts, label=model.shortname)\n",
        "\n",
        "    rmse, mape, u = Measures.get_point_statistics(test, model)\n",
        "    data = [key, model.shortname, rmse, mape, u]\n",
        "    rows.append(data)\n",
        "\n",
        "\n",
        "  nsfs = nspart.simplenonstationary_gridpartitioner_builder(data=train, npart=35, transformation=None)\n",
        "  model = nsfts.NonStationaryFTS(partitioner=nsfs, order=2)\n",
        "  model.fit(train)\n",
        "  forecasts = model.predict(test)\n",
        "  ax[row].plot(forecasts, label=model.shortname)\n",
        "\n",
        "  rmse, mape, u = Measures.get_point_statistics(test, model)\n",
        "  data = [key, model.shortname, rmse, mape, u]\n",
        "  rows.append(data)\n",
        "\n",
        "  handles, labels = ax[row].get_legend_handles_labels()\n",
        "  lgd = ax[row].legend(handles, labels, loc=2, bbox_to_anchor=(1, 1))\n",
        "\n",
        "plt.tight_layout()\n",
        "\n",
        "pd.DataFrame(rows,columns=[\"Dataset\",\"Model\",\"RMSE\",\"MAPE\",\"U\"]).sort_values(by=[\"U\",\"MAPE\",\"RMSE\"])\n"
      ],
      "execution_count": null,
      "outputs": []
    },
    {
      "cell_type": "markdown",
      "metadata": {
        "id": "BPY_gVOv0GLv"
      },
      "source": [
        "### 時間変動モデル"
      ]
    },
    {
      "cell_type": "code",
      "metadata": {
        "id": "ZNTbUMfaR9V8"
      },
      "source": [
        "def mda(targets, forecasts):\n",
        "  return sum([1 if (targets[t] - target[t-1])*(forecasts[t] - targets[t-1])  > 0 else 0 for t in range(0,l-1)])/l"
      ],
      "execution_count": null,
      "outputs": []
    },
    {
      "cell_type": "code",
      "metadata": {
        "id": "w-BEOPFabvS4"
      },
      "source": [
        "from pyFTS.benchmarks import naive\n",
        "from pyFTS.models.incremental import TimeVariant, IncrementalEnsemble\n",
        "from pyFTS.models.nonstationary import common, perturbation, partitioners as nspart\n",
        "from pyFTS.models.nonstationary import nsfts, util as nsUtil\n",
        "from pyFTS.partitioners import Grid\n",
        "from pyFTS.models import hofts, pwfts\n",
        "from pyFTS.benchmarks import Measures\n",
        "from pyFTS.common import Transformations, Util as cUtil\n",
        "\n",
        "from pyFTS.benchmarks import Util as bUtil\n",
        "\n",
        "window = 100\n",
        "batch = 10\n",
        "num_models = 2\n",
        "\n",
        "rows = []\n",
        "\n",
        "conn = bUtil.open_benchmark_db(\"nsfts.db\")\n",
        "\n",
        "for row, key in enumerate(datasets.keys()):\n",
        "  l = len(datasets[key])\n",
        "  train = datasets[key][:l//10]\n",
        "  test = datasets[key][l//10:]\n",
        "\n",
        "  model1 = TimeVariant.Retrainer(partitioner_method=Grid.GridPartitioner, partitioner_params={'npart': 35},\n",
        "                              fts_method=pwfts.ProbabilisticWeightedFTS, fts_params={}, order=1 ,\n",
        "                              batch_size=batch, window_length=window*num_models)\n",
        "\n",
        "  model2 = IncrementalEnsemble.IncrementalEnsembleFTS(partitioner_method=Grid.GridPartitioner, partitioner_params={'npart': 35},\n",
        "                                fts_method=pwfts.ProbabilisticWeightedFTS, fts_params={}, order=1 ,\n",
        "                                batch_size=int(batch/num_models), window_length=window, num_models=num_models)\n",
        "\n",
        "  nsfs = nspart.simplenonstationary_gridpartitioner_builder(data=train, npart=35, transformation=None)\n",
        "  model3 = nsfts.WeightedNonStationaryFTS(partitioner=nsfs)\n",
        "  \n",
        "  for model in [model1, model2, model3]:\n",
        "    model.fit(train)\n",
        "    #forecasts = model.predict(test)\n",
        "    rmse,mape,u = Measures.get_point_statistics(test, model)\n",
        "    row = [key, model.shortname, rmse, mape, u]\n",
        "    rows.append(row)\n",
        "\n",
        "    m = {'rmse': rmse, 'mape': mape, 'u': u}\n",
        "\n",
        "    for k, v in m.items():\n",
        "      data = (key, 'benchmarks', 'point', model.shortname, None, 1, 'Grid', 35, len(model), 1, None, k, v)\n",
        "\n",
        "      bUtil.insert_benchmark(data, conn)\n",
        "\n",
        "resultados = pd.DataFrame(rows,columns=[\"Dataset\",\"Model\",\"RMSE\", \"MAPE\", \"U\"])"
      ],
      "execution_count": null,
      "outputs": []
    },
    {
      "cell_type": "code",
      "metadata": {
        "id": "gglqrXa-571C"
      },
      "source": [
        "from google.colab import files\n",
        "files.download(\"nsfts.db\")"
      ],
      "execution_count": null,
      "outputs": []
    },
    {
      "cell_type": "markdown",
      "metadata": {
        "id": "LAoGVHknvYhV"
      },
      "source": [
        "### 総合ランキング"
      ]
    },
    {
      "cell_type": "markdown",
      "metadata": {
        "id": "-iGGVqhlW5lT"
      },
      "source": [
        "#### RMSE(平均平方誤差)"
      ]
    },
    {
      "cell_type": "code",
      "metadata": {
        "id": "xNXal8Wf3Y2Z"
      },
      "source": [
        "rows = []\n",
        "models = resultados.Model.unique()\n",
        "for ds in datasets.keys():\n",
        "  row = [ds]\n",
        "  for model in models:\n",
        "    value = resultados[(resultados['Dataset']==ds) & (resultados['Model']==model)]['RMSE'].values[0]\n",
        "    row.append(value)\n",
        "  rows.append(row)\n",
        "\n",
        "columns = models.tolist()\n",
        "columns.insert(0,\"Dataset\")\n",
        "\n",
        "experiments = pd.DataFrame(rows, columns=columns)\n",
        "\n",
        "experiments"
      ],
      "execution_count": null,
      "outputs": []
    },
    {
      "cell_type": "code",
      "metadata": {
        "id": "8gpChLREHLiu"
      },
      "source": [
        "print(experiments.to_latex())"
      ],
      "execution_count": null,
      "outputs": []
    },
    {
      "cell_type": "markdown",
      "metadata": {
        "id": "iWcCakMCXAum"
      },
      "source": [
        "#### 平均絶対パーセント誤差（MAPE：Mean Absolute Percentage Error）"
      ]
    },
    {
      "cell_type": "code",
      "metadata": {
        "id": "CnNZh-6kPT33"
      },
      "source": [
        "rows = []\n",
        "models = resultados.Model.unique()\n",
        "for ds in datasets.keys():\n",
        "  row = [ds]\n",
        "  for model in models:\n",
        "    value = resultados[(resultados['Dataset']==ds) & (resultados['Model']==model)]['MAPE'].values[0]\n",
        "    row.append(value)\n",
        "  rows.append(row)\n",
        "\n",
        "columns = models.tolist()\n",
        "columns.insert(0,\"Dataset\")\n",
        "\n",
        "experiments = pd.DataFrame(rows, columns=columns)\n",
        "\n",
        "experiments"
      ],
      "execution_count": null,
      "outputs": []
    },
    {
      "cell_type": "code",
      "metadata": {
        "id": "G3epXnkdXTeU"
      },
      "source": [
        "print(experiments.to_latex())"
      ],
      "execution_count": null,
      "outputs": []
    },
    {
      "cell_type": "markdown",
      "metadata": {
        "id": "K9E1CXPyXIRp"
      },
      "source": [
        "#### U"
      ]
    },
    {
      "cell_type": "code",
      "metadata": {
        "id": "cw5Uv5j4Vvo7"
      },
      "source": [
        "rows = []\n",
        "models = resultados.Model.unique()\n",
        "for ds in datasets.keys():\n",
        "  row = [ds]\n",
        "  for model in models:\n",
        "    value = resultados[(resultados['Dataset']==ds) & (resultados['Model']==model)]['U'].values[0]\n",
        "    row.append(value)\n",
        "  rows.append(row)\n",
        "\n",
        "columns = models.tolist()\n",
        "columns.insert(0,\"Dataset\")\n",
        "\n",
        "experiments = pd.DataFrame(rows, columns=columns)\n",
        "\n",
        "experiments"
      ],
      "execution_count": null,
      "outputs": []
    },
    {
      "cell_type": "code",
      "metadata": {
        "id": "aFkXzNTLXL0n"
      },
      "source": [
        "print(experiments.to_latex())"
      ],
      "execution_count": null,
      "outputs": []
    },
    {
      "cell_type": "markdown",
      "metadata": {
        "id": "ZXbr_iNsgGMj"
      },
      "source": [
        "### Plots"
      ]
    },
    {
      "cell_type": "code",
      "metadata": {
        "id": "-g5HD4RC3ejE"
      },
      "source": [
        "fig, ax = plt.subplots(nrows=3, ncols=3, figsize=[15,5])\n",
        "\n",
        "for count, ds in enumerate(datasets.keys()):\n",
        "  row = count // 3\n",
        "  col = count % 3\n",
        "  ax[row][col].set_title(ds)\n",
        "  df = resultados[(resultados[\"Dataset\"]==ds)]\n",
        "  g = sns.barplot(x=\"Model\",y=\"RMSE\", hue='Model', data=df, ax=ax[row][col]) #, type='bar')\n",
        "  locs = ax[row][col].get_xticks()\n",
        "  labels = ax[row][col].get_xticklabels()\n",
        "  ax[row][col].set_xticks(locs)\n",
        "  ax[row][col].set_xticklabels([])\n",
        "  g.get_legend().remove()\n",
        "\n",
        "plt.tight_layout()"
      ],
      "execution_count": null,
      "outputs": []
    },
    {
      "cell_type": "markdown",
      "metadata": {
        "id": "3mb0tM5w4-cO"
      },
      "source": [
        "## 統計検定"
      ]
    },
    {
      "cell_type": "code",
      "metadata": {
        "id": "w-PZKts6-Ubf"
      },
      "source": [
        "!git clone https://github.com/petroniocandido/stac"
      ],
      "execution_count": null,
      "outputs": []
    },
    {
      "cell_type": "markdown",
      "metadata": {
        "id": "hpftF-eO6Ap8"
      },
      "source": [
        "### 実験台"
      ]
    },
    {
      "cell_type": "code",
      "metadata": {
        "id": "jnJPdGjTjJKF"
      },
      "source": [
        "def experiment_table(results):\n",
        "  models = results.Model.unique()\n",
        "  datasets = results.Dataset.unique()\n",
        "  rows = []\n",
        "  for ds in datasets:\n",
        "    row = [ds]\n",
        "    for model in models:\n",
        "      value = results[(results['Dataset']==ds) & (results['Model']==model)][str(H)+'AVG'].values[0]\n",
        "      row.append(value)\n",
        "    rows.append(row)\n",
        "\n",
        "  columns = models.tolist()\n",
        "  columns.insert(0,\"Dataset\")\n",
        "\n",
        "  return pd.DataFrame(rows, columns=columns)"
      ],
      "execution_count": null,
      "outputs": []
    },
    {
      "cell_type": "markdown",
      "metadata": {
        "id": "MVfXb2a0JC-B"
      },
      "source": [
        "# **平均値の等質性の検定**\n",
        "$Friedman Aligned Ranks 検定   α=0.05$ \n",
        "\n",
        "$H0$ : 平均値の間に有意な差はない。\n",
        "\n",
        "$H1$ : 平均値の間に少なくとも1つの有意差がある。"
      ]
    },
    {
      "cell_type": "code",
      "metadata": {
        "id": "Z2Cj2MXgmjhu"
      },
      "source": [
        "from pyFTS.benchmarks import Tests\n",
        "\n",
        "ranks,post_hoc = Tests.test_mean_equality(experiments)\n",
        "\n",
        "ranks"
      ],
      "execution_count": null,
      "outputs": []
    },
    {
      "cell_type": "code",
      "metadata": {
        "id": "Ftn43EeBIoN6"
      },
      "source": [
        "print(ranks.to_latex())"
      ],
      "execution_count": null,
      "outputs": []
    },
    {
      "cell_type": "markdown",
      "metadata": {
        "id": "4GdvHBdqJLsa"
      },
      "source": [
        "#### 方法の同等性のポストホック試験\n",
        "$NSFTS$を対照法とした$Finner paired post-hoc 検定$\n",
        "\n",
        "$H0$ : 平均値の間に有意差はない\n",
        "\n",
        "$H1$ : 平均値の間に有意差がある。"
      ]
    },
    {
      "cell_type": "code",
      "metadata": {
        "id": "7-eVfJRpClP_"
      },
      "source": [
        "ph_result = Tests.post_hoc_tests(post_hoc,'WNSFTS')\n",
        "ph_result"
      ],
      "execution_count": null,
      "outputs": []
    },
    {
      "cell_type": "code",
      "metadata": {
        "id": "_Eh7TJftKwJ1"
      },
      "source": [
        "print(ph_result.to_latex())"
      ],
      "execution_count": null,
      "outputs": []
    },
    {
      "cell_type": "markdown",
      "metadata": {
        "id": "12qr_HVqubNW"
      },
      "source": [
        "## NSFTSメソッド スナップショット"
      ]
    },
    {
      "cell_type": "code",
      "metadata": {
        "id": "FvteBEv5uP6j"
      },
      "source": [
        "partitions = {'BTC-USD': {'BoxCox(0)': 34, 'Differential(1)': 6, 'None': 10},\n",
        " 'CMIV': {'BoxCox(0)': 37, 'Differential(1)': 12, 'None': 17},\n",
        " 'DowJones': {'BoxCox(0)': 38, 'Differential(1)': 15, 'None': 36},\n",
        " 'ETH-USD': {'BoxCox(0)': 13, 'Differential(1)': 39, 'None': 12},\n",
        " 'EUR-GBP': {'BoxCox(0)': 29, 'Differential(1)': 11, 'None': 35},\n",
        " 'EUR-USD': {'BoxCox(0)': 29, 'Differential(1)': 11, 'None': 35},\n",
        " 'GBP-USD': {'BoxCox(0)': 33, 'Differential(1)': 3, 'None': 37},\n",
        " 'IMCV': {'BoxCox(0)': 36, 'Differential(1)': 32, 'None': 36},\n",
        " 'IMIV': {'BoxCox(0)': 39, 'Differential(1)': 14, 'None': 6},\n",
        " 'IMIV0': {'BoxCox(0)': 39, 'Differential(1)': 16, 'None': 3},\n",
        " 'NASDAQ': {'BoxCox(0)': 39, 'Differential(1)': 15, 'None': 36},\n",
        " 'SP500': {'BoxCox(0)': 33, 'Differential(1)': 7, 'None': 33},\n",
        " 'TAIEX': {'BoxCox(0)': 39, 'Differential(1)': 31, 'None': 33}}"
      ],
      "execution_count": null,
      "outputs": []
    },
    {
      "cell_type": "code",
      "metadata": {
        "id": "lJxtmO4x-rTv"
      },
      "source": [
        "from pyFTS.benchmarks import Util as bUtil\n",
        "from pyFTS.models.nonstationary import partitioners as nspart, nsfts, util as nsUtil\n",
        "\n",
        "fig, ax = plt.subplots(nrows=len(datasets.keys()), ncols=len(transformations.keys()), figsize=[15,15])\n",
        "\n",
        "for count1, ds in enumerate(datasets.keys()):\n",
        "  data = datasets[ds]\n",
        "  train = data[:train_split]\n",
        "  test = data[train_split:]\n",
        "  for count2, tf in enumerate(transformations.keys()):\n",
        "    transformation = transformations[tf]\n",
        "    \n",
        "    fs = nspart.simplenonstationary_gridpartitioner_builder(data=train, npart=partitions[ds][tf], transformation=transformation)\n",
        "    \n",
        "    model = nsfts.NonStationaryFTS(partitioner=fs)\n",
        "    model.fit(train)\n",
        "    forecasts = model.predict(test)\n",
        "    \n",
        "    ax[count1][count2].plot(test, label='Original')\n",
        "    ax[count1][count2].plot(forecasts, label='Forecasted')\n",
        "    \n",
        "    ax[count1][count2].set_title(ds + \" \" + tf)\n",
        "    \n",
        "    #handles, labels = ax[ct].get_legend_handles_labels()\n",
        "    #lgd = ax[ct].legend(handles, labels, loc=2, bbox_to_anchor=(1, 1))\n",
        "    \n",
        "\n",
        "plt.tight_layout()\n",
        "    "
      ],
      "execution_count": null,
      "outputs": []
    },
    {
      "cell_type": "code",
      "metadata": {
        "id": "g3F90te9Ui8h"
      },
      "source": [
        "from pyFTS.models.nonstationary import partitioners as nspart, nsfts, util as nsUtil\n",
        "from pyFTS.benchmarks import benchmarks as bcmk\n",
        "from pyFTS.partitioners import Grid\n",
        "\n",
        "def model_details(ds, tf, train_split, test_split):\n",
        "  data = datasets[ds]\n",
        "  train = data[:train_split]\n",
        "  test = data[train_split:test_split]\n",
        "  transformation = transformations[tf]\n",
        "  fs = nspart.simplenonstationary_gridpartitioner_builder(data=train, npart=partitions[ds][tf], transformation=transformation)\n",
        "  model = nsfts.NonStationaryFTS(partitioner=fs)\n",
        "  model.fit(train)\n",
        "  print(model)\n",
        "  forecasts = model.predict(test)\n",
        "  residuals = np.array(test[1:]) - np.array(forecasts[:-1])\n",
        "\n",
        "  fig, axes = plt.subplots(nrows=2, ncols=1, figsize=[15,10])\n",
        "\n",
        "  axes[0].plot(test[1:], label=\"Original\")\n",
        "  axes[0].plot(forecasts[:-1], label=\"Forecasts\")\n",
        "\n",
        "  axes[1].set_title(\"Residuals\")\n",
        "  axes[1].plot(residuals)\n",
        "  handles0, labels0 = axes[0].get_legend_handles_labels()\n",
        "  lgd = axes[0].legend(handles0, labels0, loc=2)\n",
        "  \n",
        "  nsUtil.plot_sets_conditional(model, test,  step=10, size=[12,5])\n",
        "  \n",
        "  \n",
        "from pyFTS.models.nonstationary import partitioners as nspart, nsfts, util as nsUtil\n",
        "\n",
        "def all_model(ds, tf, train_split, test_split):\n",
        "  data = datasets[ds]\n",
        "  train = data[:train_split]\n",
        "  test = data[train_split:test_split]\n",
        "  \n",
        "  fig, ax = plt.subplots(nrows=1, ncols=1, figsize=[15,7])\n",
        "  ax.plot(test[1:], label=\"Original\")\n",
        "  \n",
        "  transformation = transformations[tf]\n",
        "  #ns_fs = nspart.simplenonstationary_gridpartitioner_builder(data=train, npart=partitions[ds][tf], transformation=transformation)\n",
        "  #model = nsfts.NonStationaryFTS(partitioner=ns_fs)\n",
        "  #model.fit(train)\n",
        "  \n",
        "  #forecasts = model.predict(test)\n",
        "  #ax.plot(forecasts[:-1], label=\"NSFS\")\n",
        "  \n",
        "  fs = Grid.GridPartitioner(data=train, npart=partitions[ds][tf], transformation=transformation)\n",
        "  \n",
        "  for method in bcmk.get_point_methods():\n",
        "    model = method(partitioner=fs)\n",
        "    if 'PWFTS' in model.shortname:\n",
        "      continue\n",
        "      \n",
        "    if not model.is_high_order:\n",
        "      model.fit(train)\n",
        "      forecasts = model.predict(test)\n",
        "      ax.plot(forecasts[:-1], label=model.shortname)\n",
        "    else:\n",
        "      for order in [2,3]:\n",
        "        model = method(partitioner=fs, order=order)\n",
        "        model.fit(train)\n",
        "        forecasts = model.predict(test)\n",
        "        for k in range(order):\n",
        "          forecasts.insert(0,None)\n",
        "        ax.plot(forecasts[:-1], label=model.shortname + \" \" + str(order))\n",
        "        \n",
        "\n",
        "  handles0, labels0 = ax.get_legend_handles_labels()\n",
        "  lgd = ax.legend(handles0, labels0, loc=2, bbox_to_anchor=(1, 1))\n",
        "  \n"
      ],
      "execution_count": null,
      "outputs": []
    },
    {
      "cell_type": "code",
      "metadata": {
        "id": "y0Qkazs_Ui8o"
      },
      "source": [
        "model_details('DowJones','None',200,500)"
      ],
      "execution_count": null,
      "outputs": []
    },
    {
      "cell_type": "code",
      "metadata": {
        "id": "NG5WsaL2oTYG"
      },
      "source": [
        "all_model('NASDAQ','None',200,500)"
      ],
      "execution_count": null,
      "outputs": []
    },
    {
      "cell_type": "code",
      "metadata": {
        "id": "G5zBAd-qtwQd"
      },
      "source": [],
      "execution_count": null,
      "outputs": []
    }
  ]
}