{
  "nbformat": 4,
  "nbformat_minor": 0,
  "metadata": {
    "colab": {
      "provenance": [],
      "include_colab_link": true
    },
    "kernelspec": {
      "name": "python3",
      "display_name": "Python 3"
    },
    "language_info": {
      "name": "python"
    },
    "accelerator": "GPU",
    "gpuClass": "standard"
  },
  "cells": [
    {
      "cell_type": "markdown",
      "metadata": {
        "id": "view-in-github",
        "colab_type": "text"
      },
      "source": [
        "<a href=\"https://colab.research.google.com/github/arumajirou/-daily-test/blob/main/DifFace_ipynb_%E3%81%AE%E3%82%B3%E3%83%94%E3%83%BC.ipynb\" target=\"_parent\"><img src=\"https://colab.research.google.com/assets/colab-badge.svg\" alt=\"Open In Colab\"/></a>"
      ]
    },
    {
      "cell_type": "markdown",
      "source": [
        "## **DifFace: Blind Face Restoration with Diffused Error Contraction**\n",
        "\n",
        "[Zongsheng Yue](https://zsyoaoa.github.io/) and [Chen Change Loy](https://www.mmlab-ntu.com/person/ccloy/)\n",
        "\n",
        "[![arXiv](https://img.shields.io/badge/arXiv-Paper-<COLOR>.svg)](https://arxiv.org/abs/2212.06512) [![GitHub Stars](https://img.shields.io/github/stars/zsyOAOA/DifFace?affiliations=OWNER&color=green&style=social)](https://github.com/zsyOAOA/DifFace) [![Hugging Face](https://img.shields.io/badge/Demo-Hugging%20Face-blue)](https://huggingface.co/spaces/OAOA/DifFace) ![visitors](https://visitor-badge.laobi.icu/badge?page_id=zsyOAOA/DifFace) "
      ],
      "metadata": {
        "id": "yyb8c_AJaHpO"
      }
    },
    {
      "cell_type": "markdown",
      "source": [
        "\n",
        "\n",
        "## **Setup Conda Environment**\n",
        "Before start, make sure that you choose\n",
        "* Hardware Accelerator = GPU (in the Runtime menu -> Change runtime type)\n"
      ],
      "metadata": {
        "id": "50U22_fppwOK"
      }
    },
    {
      "cell_type": "code",
      "source": [
        "# Install Miniconda3\n",
        "# https://github.com/conda-incubator/condacolab\n",
        "!pip install -q condacolab\n",
        "import condacolab\n",
        "condacolab.install_miniconda()"
      ],
      "metadata": {
        "id": "IyChddOYNaFp"
      },
      "execution_count": null,
      "outputs": []
    },
    {
      "cell_type": "code",
      "source": [
        "import os\n",
        "os.chdir(\"/content\")\n",
        "CODE_DIR = \"DifFace\"\n",
        "print(\"Done...\")"
      ],
      "metadata": {
        "colab": {
          "base_uri": "https://localhost:8080/"
        },
        "id": "fGa3r9RONhg7",
        "outputId": "e8be2d32-7c4f-4507-dfc1-6b9fab6017fb"
      },
      "execution_count": null,
      "outputs": [
        {
          "output_type": "stream",
          "name": "stdout",
          "text": [
            "Done...\n"
          ]
        }
      ]
    },
    {
      "cell_type": "markdown",
      "source": [
        "## **Clone Repository**"
      ],
      "metadata": {
        "id": "6DideC1BZen1"
      }
    },
    {
      "cell_type": "code",
      "source": [
        "# Clone Repository\n",
        "import shutil\n",
        "from pathlib import Path\n",
        "if Path(CODE_DIR).exists():\n",
        "  shutil.rmtree(CODE_DIR)\n",
        "\n",
        "!git clone https://github.com/zsyOAOA/DifFace.git $CODE_DIR\n",
        "os.chdir(f\"./{CODE_DIR}\")\n",
        "print(\"Done...\")"
      ],
      "metadata": {
        "colab": {
          "base_uri": "https://localhost:8080/"
        },
        "id": "4uwHymfONlSH",
        "outputId": "47c7d553-f397-447d-81cf-1ebe5f800b32"
      },
      "execution_count": null,
      "outputs": [
        {
          "output_type": "stream",
          "name": "stdout",
          "text": [
            "Cloning into 'DifFace'...\n",
            "remote: Enumerating objects: 353, done.\u001b[K\n",
            "remote: Counting objects: 100% (353/353), done.\u001b[K\n",
            "remote: Compressing objects: 100% (294/294), done.\u001b[K\n",
            "remote: Total 353 (delta 63), reused 342 (delta 55), pack-reused 0\u001b[K\n",
            "Receiving objects: 100% (353/353), 15.72 MiB | 29.65 MiB/s, done.\n",
            "Resolving deltas: 100% (63/63), done.\n",
            "Done...\n"
          ]
        }
      ]
    },
    {
      "cell_type": "code",
      "source": [
        "\"\"\"\n",
        "Managing environments Anaconda:\n",
        "https://docs.conda.io/projects/conda/en/4.6.0/user-guide/tasks/manage-environments.html\n",
        "\"\"\"\n",
        "# Viewing the list of your environments\n",
        "!conda info --envs\n",
        "# Updating the environment\n",
        "!conda env update -n base -f /content/DifFace/environment.yaml\n",
        "print(\"Done...\")"
      ],
      "metadata": {
        "id": "kpIhX5d5R6cP"
      },
      "execution_count": null,
      "outputs": []
    },
    {
      "cell_type": "code",
      "source": [
        "# Viewing the list of your environments\n",
        "!conda info --envs"
      ],
      "metadata": {
        "id": "Izpri9t_WTNX"
      },
      "execution_count": null,
      "outputs": []
    },
    {
      "cell_type": "markdown",
      "source": [
        "## **Inference**"
      ],
      "metadata": {
        "id": "rdDJ_ABY-kbf"
      }
    },
    {
      "cell_type": "code",
      "execution_count": null,
      "metadata": {
        "id": "8SG9AcLQO_FQ"
      },
      "outputs": [],
      "source": [
        "# Visualization function\n",
        "import cv2\n",
        "import matplotlib.pyplot as plt\n",
        "def display(img1, img2):\n",
        "  fig = plt.figure(figsize=(25, 10))\n",
        "  ax1 = fig.add_subplot(1, 2, 1) \n",
        "  plt.title('Input', fontsize=16)\n",
        "  ax1.axis('off')\n",
        "  ax2 = fig.add_subplot(1, 2, 2)\n",
        "  plt.title('DifFace', fontsize=16)\n",
        "  ax2.axis('off')\n",
        "  ax1.imshow(img1)\n",
        "  ax2.imshow(img2)\n",
        "def imread(img_path):\n",
        "  img = cv2.imread(img_path)\n",
        "  if img.ndim > 3:\n",
        "    img = img[:, :, :3]\n",
        "  img = cv2.cvtColor(img, cv2.COLOR_BGR2RGB)\n",
        "  return img"
      ]
    },
    {
      "cell_type": "code",
      "source": [
        "#  Face image restoration (cropped and aligned)\n",
        "\"\"\"\n",
        "!python inference_difface.py \n",
        "  --aligned\n",
        "  --in_path [image folder/image path] \n",
        "  --out_path [result folder] \n",
        "  --gpu_id [gpu index]\n",
        "\"\"\"\n",
        "\n",
        "!python /content/DifFace/inference_difface.py \\\n",
        "  --aligned \\\n",
        "  --in_path /content/DifFace/testdata/cropped_faces \\\n",
        "  --out_path /content/result_aligned \\\n",
        "  --gpu_id 0\n",
        "\n",
        "im_path_list = sorted([x for x in Path(\"/content/DifFace/testdata/cropped_faces\").glob(\"*.png\")])\n",
        "out_dir = Path(\"/content/result_aligned/restored_faces\")\n",
        "for im_path_in in im_path_list:\n",
        "  im1 = imread(str(im_path_in))\n",
        "  im_path_out = out_dir / im_path_in.name\n",
        "  im2 = imread(str(im_path_out))\n",
        "  display(im1, im2)"
      ],
      "metadata": {
        "id": "dfM5K44-WUfZ"
      },
      "execution_count": null,
      "outputs": []
    },
    {
      "cell_type": "code",
      "source": [
        "#  Face image restoration (Whole Image)\n",
        "\"\"\"\n",
        "!python inference_difface.py \n",
        "  -t 200   # The whole length of the pretrained diffusion model, default 250\n",
        "  -s 80    # started timestpes for DifFace, default 100\n",
        "  --in_path [image folder/image path] \n",
        "  --out_path [result folder] \n",
        "  --gpu_id [gpu index]\n",
        "\"\"\"\n",
        "\n",
        "!python /content/DifFace/inference_difface.py \\\n",
        "  -t 200 -s 80 \\\n",
        "  --in_path /content/DifFace/testdata/whole_imgs/ \\\n",
        "  --out_path /content/result_unaligned \\\n",
        "  --gpu_id 0\n",
        "\n",
        "in_dir = \"/content/DifFace/testdata/whole_imgs\"\n",
        "im_path_list = sorted([x for x in Path(in_dir).glob(\"*.png\")])\n",
        "im_path_list.extend([x for x in Path(in_dir).glob(\"*.jpg\")])\n",
        "out_dir = Path(\"/content/result_unaligned/restored_image\")\n",
        "for im_path_in in im_path_list:\n",
        "  im1 = imread(str(im_path_in))\n",
        "  im_path_out = out_dir / im_path_in.name\n",
        "  im2 = imread(str(im_path_out))\n",
        "  display(im1, im2)"
      ],
      "metadata": {
        "id": "QFHYlTSMHMul"
      },
      "execution_count": null,
      "outputs": []
    }
  ]
}