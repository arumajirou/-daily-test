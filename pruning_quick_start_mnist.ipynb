{
  "cells": [
    {
      "cell_type": "markdown",
      "metadata": {
        "id": "view-in-github",
        "colab_type": "text"
      },
      "source": [
        "<a href=\"https://colab.research.google.com/github/arumajirou/-daily-test/blob/main/pruning_quick_start_mnist.ipynb\" target=\"_parent\"><img src=\"https://colab.research.google.com/assets/colab-badge.svg\" alt=\"Open In Colab\"/></a>"
      ]
    },
    {
      "cell_type": "code",
      "execution_count": 1,
      "metadata": {
        "id": "TMdwRXrGvueT"
      },
      "outputs": [],
      "source": [
        "%matplotlib inline"
      ]
    },
    {
      "cell_type": "markdown",
      "metadata": {
        "id": "LBoVpSmCvueX"
      },
      "source": [
        "\n",
        "# **剪定クイックスタート**\n",
        "**モデル（計算式／計算方法）剪定**を始めるための3分間のビデオをご紹介します。\n",
        "\n",
        "\n",
        "\n",
        "モデル（計算式／計算方法）の枝刈りとは、モデル（計算式／計算方法）の**重みサイズ**や**中間状態サイズ**を**小さくする**ことで、**モデル（計算式／計算方法）サイズ**や**計算量を減らす手法**です。 DNNのモデル（計算式／計算方法）の枝刈りには、3つの一般的な方法があります。\n",
        "\n",
        "\n",
        "###.**モデル（計算式／計算方法）の事前学習** → **モデル（計算式／計算方法）の刈り込み** → **刈り込んだモデル（計算式／計算方法）の微調整**\n",
        "\n",
        "###.**学習中にモデル（計算式／計算方法）を刈り取る（＝刈り取り認識学習）**→**刈り取られたモデル（計算式／計算方法）を微調整**する\n",
        "\n",
        "###.**モデル（計算式／計算方法）の刈り込み** → **刈り込んだモデル（計算式／計算方法）を一から学習**させる\n",
        "\n",
        "\n",
        "NNI(ニューラルネット・インテリジェンス)は、**キー・L1ノルム（マンハッタン距離、「大きさ」、各成分の絶対値の和）の段階**で作業することにより、上記のすべての**プルーニング(剪定)**をサポートします。 この**教材**に沿って、**NNI(ニューラルネット・インテリジェンス)**を使ってモデル（計算式／計算方法）を**プルーニング(剪定)**する一般的な方法を簡単に見てみましょう。"
      ]
    },
    {
      "cell_type": "code",
      "source": [
        "from IPython.display import YouTubeVideo\n",
        "YouTubeVideo('wKh51Jnr0a8', width=400, height=300)"
      ],
      "metadata": {
        "colab": {
          "base_uri": "https://localhost:8080/",
          "height": 322
        },
        "id": "qeeVb6kqFEmN",
        "outputId": "6161da7f-1af4-47a0-868a-516882c33bce"
      },
      "execution_count": 9,
      "outputs": [
        {
          "output_type": "execute_result",
          "data": {
            "text/plain": [
              "<IPython.lib.display.YouTubeVideo at 0x7f9fa71fa5e0>"
            ],
            "text/html": [
              "\n",
              "        <iframe\n",
              "            width=\"400\"\n",
              "            height=\"300\"\n",
              "            src=\"https://www.youtube.com/embed/wKh51Jnr0a8\"\n",
              "            frameborder=\"0\"\n",
              "            allowfullscreen\n",
              "        ></iframe>\n",
              "        "
            ],
            "image/jpeg": "[encoded data removed]"
          },
          "metadata": {},
          "execution_count": 9
        }
      ]
    },
    {
      "cell_type": "markdown",
      "metadata": {
        "id": "0_1-8CIFvueb"
      },
      "source": [
        "## **準備**\n",
        "この教材では、MNIST(手書き数字の画像)データセットで**事前に学習した簡単なモデル（計算式／計算方法）**を使用します。 **pytorch**での**モデル（計算式／計算方法）の定義**と**学習**に慣れている方は、モデル（計算式／計算方法）の刈り込みまで直接読み飛ばしてください。\n",
        "\n"
      ]
    },
    {
      "cell_type": "code",
      "source": [
        "!pip install nni"
      ],
      "metadata": {
        "colab": {
          "base_uri": "https://localhost:8080/"
        },
        "id": "eSqEDwSr-N09",
        "outputId": "6c8450bf-15d3-425e-e8bb-60bb3b5bf36e"
      },
      "execution_count": 4,
      "outputs": [
        {
          "output_type": "stream",
          "name": "stdout",
          "text": [
            "Looking in indexes: https://pypi.org/simple, https://us-python.pkg.dev/colab-wheels/public/simple/\n",
            "Collecting nni\n",
            "  Downloading nni-2.10-py3-none-manylinux1_x86_64.whl (56.0 MB)\n",
            "\u001b[K     |████████████████████████████████| 56.0 MB 1.1 MB/s \n",
            "\u001b[?25hCollecting colorama\n",
            "  Downloading colorama-0.4.6-py2.py3-none-any.whl (25 kB)\n",
            "Requirement already satisfied: packaging in /usr/local/lib/python3.8/dist-packages (from nni) (21.3)\n",
            "Requirement already satisfied: typing-extensions>=4.0.0 in /usr/local/lib/python3.8/dist-packages (from nni) (4.4.0)\n",
            "Requirement already satisfied: filelock in /usr/local/lib/python3.8/dist-packages (from nni) (3.8.2)\n",
            "Requirement already satisfied: pandas in /usr/local/lib/python3.8/dist-packages (from nni) (1.3.5)\n",
            "Requirement already satisfied: tqdm in /usr/local/lib/python3.8/dist-packages (from nni) (4.64.1)\n",
            "Requirement already satisfied: psutil in /usr/local/lib/python3.8/dist-packages (from nni) (5.4.8)\n",
            "Collecting schema\n",
            "  Downloading schema-0.7.5-py2.py3-none-any.whl (17 kB)\n",
            "Requirement already satisfied: typeguard in /usr/local/lib/python3.8/dist-packages (from nni) (2.7.1)\n",
            "Requirement already satisfied: astor in /usr/local/lib/python3.8/dist-packages (from nni) (0.8.1)\n",
            "Requirement already satisfied: scipy in /usr/local/lib/python3.8/dist-packages (from nni) (1.7.3)\n",
            "Requirement already satisfied: cloudpickle in /usr/local/lib/python3.8/dist-packages (from nni) (1.5.0)\n",
            "Collecting responses\n",
            "  Downloading responses-0.22.0-py3-none-any.whl (51 kB)\n",
            "\u001b[K     |████████████████████████████████| 51 kB 11.3 MB/s \n",
            "\u001b[?25hRequirement already satisfied: scikit-learn>=0.24.1 in /usr/local/lib/python3.8/dist-packages (from nni) (1.0.2)\n",
            "Requirement already satisfied: requests in /usr/local/lib/python3.8/dist-packages (from nni) (2.23.0)\n",
            "Collecting json-tricks>=3.15.5\n",
            "  Downloading json_tricks-3.16.1-py2.py3-none-any.whl (27 kB)\n",
            "Collecting websockets>=10.1\n",
            "  Downloading websockets-10.4-cp38-cp38-manylinux_2_5_x86_64.manylinux1_x86_64.manylinux_2_17_x86_64.manylinux2014_x86_64.whl (106 kB)\n",
            "\u001b[K     |████████████████████████████████| 106 kB 84.3 MB/s \n",
            "\u001b[?25hRequirement already satisfied: prettytable in /usr/local/lib/python3.8/dist-packages (from nni) (3.5.0)\n",
            "Requirement already satisfied: numpy in /usr/local/lib/python3.8/dist-packages (from nni) (1.21.6)\n",
            "Requirement already satisfied: pyyaml>=5.4 in /usr/local/lib/python3.8/dist-packages (from nni) (6.0)\n",
            "Collecting PythonWebHDFS\n",
            "  Downloading PythonWebHDFS-0.2.3-py3-none-any.whl (10 kB)\n",
            "Requirement already satisfied: threadpoolctl>=2.0.0 in /usr/local/lib/python3.8/dist-packages (from scikit-learn>=0.24.1->nni) (3.1.0)\n",
            "Requirement already satisfied: joblib>=0.11 in /usr/local/lib/python3.8/dist-packages (from scikit-learn>=0.24.1->nni) (1.2.0)\n",
            "Requirement already satisfied: pyparsing!=3.0.5,>=2.0.2 in /usr/local/lib/python3.8/dist-packages (from packaging->nni) (3.0.9)\n",
            "Requirement already satisfied: python-dateutil>=2.7.3 in /usr/local/lib/python3.8/dist-packages (from pandas->nni) (2.8.2)\n",
            "Requirement already satisfied: pytz>=2017.3 in /usr/local/lib/python3.8/dist-packages (from pandas->nni) (2022.6)\n",
            "Requirement already satisfied: six>=1.5 in /usr/local/lib/python3.8/dist-packages (from python-dateutil>=2.7.3->pandas->nni) (1.15.0)\n",
            "Requirement already satisfied: wcwidth in /usr/local/lib/python3.8/dist-packages (from prettytable->nni) (0.2.5)\n",
            "Collecting simplejson\n",
            "  Downloading simplejson-3.18.0-cp38-cp38-manylinux_2_5_x86_64.manylinux1_x86_64.manylinux_2_12_x86_64.manylinux2010_x86_64.whl (139 kB)\n",
            "\u001b[K     |████████████████████████████████| 139 kB 85.6 MB/s \n",
            "\u001b[?25hRequirement already satisfied: chardet<4,>=3.0.2 in /usr/local/lib/python3.8/dist-packages (from requests->nni) (3.0.4)\n",
            "Requirement already satisfied: idna<3,>=2.5 in /usr/local/lib/python3.8/dist-packages (from requests->nni) (2.10)\n",
            "Requirement already satisfied: certifi>=2017.4.17 in /usr/local/lib/python3.8/dist-packages (from requests->nni) (2022.12.7)\n",
            "Requirement already satisfied: urllib3!=1.25.0,!=1.25.1,<1.26,>=1.21.1 in /usr/local/lib/python3.8/dist-packages (from requests->nni) (1.24.3)\n",
            "Collecting urllib3!=1.25.0,!=1.25.1,<1.26,>=1.21.1\n",
            "  Downloading urllib3-1.25.11-py2.py3-none-any.whl (127 kB)\n",
            "\u001b[K     |████████████████████████████████| 127 kB 105.3 MB/s \n",
            "\u001b[?25hCollecting types-toml\n",
            "  Downloading types_toml-0.10.8.1-py3-none-any.whl (4.5 kB)\n",
            "Requirement already satisfied: toml in /usr/local/lib/python3.8/dist-packages (from responses->nni) (0.10.2)\n",
            "Requirement already satisfied: contextlib2>=0.5.5 in /usr/local/lib/python3.8/dist-packages (from schema->nni) (0.5.5)\n",
            "Installing collected packages: urllib3, types-toml, simplejson, websockets, schema, responses, PythonWebHDFS, json-tricks, colorama, nni\n",
            "  Attempting uninstall: urllib3\n",
            "    Found existing installation: urllib3 1.24.3\n",
            "    Uninstalling urllib3-1.24.3:\n",
            "      Successfully uninstalled urllib3-1.24.3\n",
            "Successfully installed PythonWebHDFS-0.2.3 colorama-0.4.6 json-tricks-3.16.1 nni-2.10 responses-0.22.0 schema-0.7.5 simplejson-3.18.0 types-toml-0.10.8.1 urllib3-1.25.11 websockets-10.4\n"
          ]
        }
      ]
    },
    {
      "cell_type": "code",
      "execution_count": 6,
      "metadata": {
        "id": "Hk223z4Gvuec",
        "colab": {
          "base_uri": "https://localhost:8080/",
          "height": 675,
          "referenced_widgets": [
            "7ba079f08a01455c8e1e0fa0fe1d2dbd",
            "3f1599804bb8430fa6687a694f93183e",
            "df57f90639b64d6a91ffae32060677cc",
            "d64b563606ee47bca519af108d82d911",
            "9290ef47fd4c4bccb07fde9c4930c8fc",
            "5f4946e758ff4d018a49ce95b9275d82",
            "3e401584a3e14a6d8dda1fe85c70bafc",
            "2555867afaa6459d97eb6fe9dfe57ea9",
            "69af860ef7fc42d5ade18963c1ba7690",
            "6fdce0233992438f9a06e52f018449e7",
            "cf10636340bb48e1837132a4a07fc34f",
            "2937c7d44bf94b39b1b782e8363c8015",
            "682aa92e4acf434d8f563c3a9c9992d8",
            "2d6ef6a2020245c48cf66092a51b91bc",
            "c4cea840f9534f2086a641505cfbed73",
            "c11287e7d0364044882dbb18785afe41",
            "3cd7463f15dc451bb9007ed56ab952ce",
            "72f12efaa28a428fb6c7f2fc0d05293a",
            "68f2ce3c70c14868a1c8a7fa0b8a9361",
            "a7ceba86a6bf4e828ff3cad819c308ef",
            "a7e8a5ad40a64dc4af7e7ed1652fb555",
            "46afeb76efb5428581b92d15faf38ce7",
            "fd9e2083ddbd4e2b9a9168fd473b164e",
            "940ab432e3cf4cb5891a6facecc0a992",
            "217a6b2ba9774edfbd833206d44cbe82",
            "cf73ad8f5c07490a9a2f955a5a91e973",
            "6ed7242181db4988a2a19611f1a9c901",
            "4d1430dd84744edc972b157f679164ff",
            "abba38a89902436083055d64caf6c0d0",
            "92da2852b6b74750b05dab59b1a39f95",
            "f780b1538cff432bbc5fdfe5da191f80",
            "ff718bd9a0a849debed84585612073f9",
            "9712b313d52e4d28966dd77115cfedbe",
            "cb06949584fa48778e9b276c275baecf",
            "ce191ab1838b485a933518b3ac2fa95e",
            "dd9d59b19d2a44a6ab8c6753a4f25e6e",
            "6046ad0bc00746c6ad7ad41077bd9045",
            "bc56338a9d56443fba0f27e6090c4c5d",
            "d6a0757dbe1f45ac8b64e86c3104175a",
            "b25ffa03e57342688c84ff33bf4e923e",
            "62593fcdb3f3401b80364fac8174f176",
            "35bf9ee4dc6047d688208acf2a5cd500",
            "382e8add3a1a4fa3b8f1dabcf6a30d5b",
            "61a69ab03c3843e7bee7f08277765292"
          ]
        },
        "outputId": "0eb3e526-b2e1-4268-f22f-bd8326c6d5d9"
      },
      "outputs": [
        {
          "output_type": "stream",
          "name": "stdout",
          "text": [
            "Downloading http://yann.lecun.com/exdb/mnist/train-images-idx3-ubyte.gz\n",
            "Downloading http://yann.lecun.com/exdb/mnist/train-images-idx3-ubyte.gz to data/MNIST/raw/train-images-idx3-ubyte.gz\n"
          ]
        },
        {
          "output_type": "display_data",
          "data": {
            "text/plain": [
              "  0%|          | 0/9912422 [00:00<?, ?it/s]"
            ],
            "application/vnd.jupyter.widget-view+json": {
              "version_major": 2,
              "version_minor": 0,
              "model_id": "7ba079f08a01455c8e1e0fa0fe1d2dbd"
            }
          },
          "metadata": {}
        },
        {
          "output_type": "stream",
          "name": "stdout",
          "text": [
            "Extracting data/MNIST/raw/train-images-idx3-ubyte.gz to data/MNIST/raw\n",
            "\n",
            "Downloading http://yann.lecun.com/exdb/mnist/train-labels-idx1-ubyte.gz\n",
            "Downloading http://yann.lecun.com/exdb/mnist/train-labels-idx1-ubyte.gz to data/MNIST/raw/train-labels-idx1-ubyte.gz\n"
          ]
        },
        {
          "output_type": "display_data",
          "data": {
            "text/plain": [
              "  0%|          | 0/28881 [00:00<?, ?it/s]"
            ],
            "application/vnd.jupyter.widget-view+json": {
              "version_major": 2,
              "version_minor": 0,
              "model_id": "2937c7d44bf94b39b1b782e8363c8015"
            }
          },
          "metadata": {}
        },
        {
          "output_type": "stream",
          "name": "stdout",
          "text": [
            "Extracting data/MNIST/raw/train-labels-idx1-ubyte.gz to data/MNIST/raw\n",
            "\n",
            "Downloading http://yann.lecun.com/exdb/mnist/t10k-images-idx3-ubyte.gz\n",
            "Downloading http://yann.lecun.com/exdb/mnist/t10k-images-idx3-ubyte.gz to data/MNIST/raw/t10k-images-idx3-ubyte.gz\n"
          ]
        },
        {
          "output_type": "display_data",
          "data": {
            "text/plain": [
              "  0%|          | 0/1648877 [00:00<?, ?it/s]"
            ],
            "application/vnd.jupyter.widget-view+json": {
              "version_major": 2,
              "version_minor": 0,
              "model_id": "fd9e2083ddbd4e2b9a9168fd473b164e"
            }
          },
          "metadata": {}
        },
        {
          "output_type": "stream",
          "name": "stdout",
          "text": [
            "Extracting data/MNIST/raw/t10k-images-idx3-ubyte.gz to data/MNIST/raw\n",
            "\n",
            "Downloading http://yann.lecun.com/exdb/mnist/t10k-labels-idx1-ubyte.gz\n",
            "Downloading http://yann.lecun.com/exdb/mnist/t10k-labels-idx1-ubyte.gz to data/MNIST/raw/t10k-labels-idx1-ubyte.gz\n"
          ]
        },
        {
          "output_type": "display_data",
          "data": {
            "text/plain": [
              "  0%|          | 0/4542 [00:00<?, ?it/s]"
            ],
            "application/vnd.jupyter.widget-view+json": {
              "version_major": 2,
              "version_minor": 0,
              "model_id": "cb06949584fa48778e9b276c275baecf"
            }
          },
          "metadata": {}
        },
        {
          "output_type": "stream",
          "name": "stdout",
          "text": [
            "Extracting data/MNIST/raw/t10k-labels-idx1-ubyte.gz to data/MNIST/raw\n",
            "\n",
            "TorchModel(\n",
            "  (conv1): Conv2d(1, 6, kernel_size=(5, 5), stride=(1, 1))\n",
            "  (conv2): Conv2d(6, 16, kernel_size=(5, 5), stride=(1, 1))\n",
            "  (fc1): Linear(in_features=256, out_features=120, bias=True)\n",
            "  (fc2): Linear(in_features=120, out_features=84, bias=True)\n",
            "  (fc3): Linear(in_features=84, out_features=10, bias=True)\n",
            "  (relu1): ReLU()\n",
            "  (relu2): ReLU()\n",
            "  (relu3): ReLU()\n",
            "  (relu4): ReLU()\n",
            "  (pool1): MaxPool2d(kernel_size=(2, 2), stride=(2, 2), padding=0, dilation=1, ceil_mode=False)\n",
            "  (pool2): MaxPool2d(kernel_size=(2, 2), stride=(2, 2), padding=0, dilation=1, ceil_mode=False)\n",
            ")\n"
          ]
        }
      ],
      "source": [
        "import torch\n",
        "import torch.nn.functional as F\n",
        "from torch.optim import SGD#確率的勾配降下法(stochastic gradient descent, SGD)（オプションで運動量付き）を実装する。\n",
        "\n",
        "from nni_assets.compression.mnist_model import TorchModel, trainer, evaluator, device\n",
        "# モデル（計算式／計算方法）を定義する\n",
        "model = TorchModel().to(device)\n",
        "\n",
        "# prunerはモデル（計算式／計算方法）構造を示しており、モデル（計算式／計算方法）層をラップ（内包）することに注意してください。\n",
        "print(model)"
      ]
    },
    {
      "cell_type": "code",
      "execution_count": 10,
      "metadata": {
        "id": "ZuaT7fQbvued",
        "colab": {
          "base_uri": "https://localhost:8080/"
        },
        "outputId": "4a420b88-fe2a-4021-d00a-9a6c21f2dd6d"
      },
      "outputs": [
        {
          "output_type": "stream",
          "name": "stdout",
          "text": [
            "Average test loss: 0.1457, Accuracy: 9555/10000 (96%)\n",
            "Average test loss: 0.1166, Accuracy: 9624/10000 (96%)\n",
            "Average test loss: 0.1122, Accuracy: 9646/10000 (96%)\n"
          ]
        }
      ],
      "source": [
        "#事前学習のためのオプティマイザ（対象の設定や構造などを調整し、より好ましい状態に組み替える「最適化」（optimization）を行うためのソフトウェアや機能のこと）と基準を定義する\n",
        "\n",
        "optimizer = SGD(model.parameters(), 1e-2)#確率的勾配降下法にmodel.parameters(計算式／計算方法引数）を入れてoptimizerに入れて実体化する\n",
        "criterion = F.nll_loss#ロス関数をcriterion（基準）に入れて実体化する\n",
        "\n",
        "# MNIST(手書き数字の画像)データセットで事前学習とモデル（計算式／計算方法）の評価\n",
        "for epoch in range(3):#3回学習する\n",
        "    trainer(model, optimizer, criterion)#model 計算式／計算方法 optimizer 最適化装置 criterion標準, 基準\n",
        "    evaluator(model)#evaluator() 評価器　訓練された計算式／計算方法をevaluatorに入れて評価し3回繰り返す"
      ]
    },
    {
      "cell_type": "markdown",
      "metadata": {
        "id": "NsjaEzqDvuee"
      },
      "source": [
        "# **剪定モデル（計算式／計算方法）**\n",
        "**L1NormPruner(L1ノルム（マンハッタン距離、「大きさ」、各成分の絶対値の和）剪定機)**を使って、\n",
        "- モデル（計算式／計算方法）の刈り込みとマスク（覆う）の生成を行います。 \n",
        "\n",
        "- 通常、刈り込みは**元のモデル（計算式／計算方法）config_list(構成リスト)を入力**として必要とします。\n",
        "\n",
        "**config_list(構成リスト)の詳しい書き方**は、 :doc:compression config specification(圧縮構成仕様)を参照してください。\n",
        "\n",
        "- 以下のconfig_list(構成リスト)は、タイプが**線形または2次畳み込みである層**は、**fc3という層**を除いて、**fc3は 除外**される。 \n",
        "\n",
        "- **各層のまばら比**は**最終的に50%**である。**fc3という層は刈り込まれない**。\n",
        "\n"
      ]
    },
    {
      "cell_type": "code",
      "execution_count": 11,
      "metadata": {
        "id": "CBMTrR_zvuef"
      },
      "outputs": [],
      "source": [
        "#config_list(構成リスト)を書き込む\n",
        "\n",
        "config_list = [{#各層のまばら比は最終的に50%である。fc3という層は刈り込まれない。\n",
        "    'sparsity_per_layer': 0.5,#各層のまばら比は最終的に50%\n",
        "    'op_types': ['Linear', 'Conv2d']#最適化タイプは線形と2次元畳み込み\n",
        "}, {#タイプが線形または2次畳み込みである層は、fc3という層を除く\n",
        "    'exclude': True,#fc3は 除外\n",
        "    'op_names': ['fc3']#最適化タイプ名　'fc3'\n",
        "}]"
      ]
    },
    {
      "cell_type": "markdown",
      "metadata": {
        "id": "zH2x-Moqvueg"
      },
      "source": [
        "Prunerは通常、入力引数としてmodelと config_list(構成リスト)を必要とします。\n",
        "\n"
      ]
    },
    {
      "cell_type": "code",
      "execution_count": 12,
      "metadata": {
        "id": "TIRLM7_bvueh",
        "colab": {
          "base_uri": "https://localhost:8080/"
        },
        "outputId": "bb09029e-4c24-4913-ec6b-339e1faf37dc"
      },
      "outputs": [
        {
          "output_type": "stream",
          "name": "stdout",
          "text": [
            "TorchModel(\n",
            "  (conv1): PrunerModuleWrapper(\n",
            "    (module): Conv2d(1, 6, kernel_size=(5, 5), stride=(1, 1))\n",
            "  )\n",
            "  (conv2): PrunerModuleWrapper(\n",
            "    (module): Conv2d(6, 16, kernel_size=(5, 5), stride=(1, 1))\n",
            "  )\n",
            "  (fc1): PrunerModuleWrapper(\n",
            "    (module): Linear(in_features=256, out_features=120, bias=True)\n",
            "  )\n",
            "  (fc2): PrunerModuleWrapper(\n",
            "    (module): Linear(in_features=120, out_features=84, bias=True)\n",
            "  )\n",
            "  (fc3): Linear(in_features=84, out_features=10, bias=True)\n",
            "  (relu1): ReLU()\n",
            "  (relu2): ReLU()\n",
            "  (relu3): ReLU()\n",
            "  (relu4): ReLU()\n",
            "  (pool1): MaxPool2d(kernel_size=(2, 2), stride=(2, 2), padding=0, dilation=1, ceil_mode=False)\n",
            "  (pool2): MaxPool2d(kernel_size=(2, 2), stride=(2, 2), padding=0, dilation=1, ceil_mode=False)\n",
            ")\n"
          ]
        }
      ],
      "source": [
        "from nni.compression.pytorch.pruning import L1NormPruner#(L1ノルム（マンハッタン距離、「大きさ」、各成分の絶対値の和）剪定機)\n",
        "pruner = L1NormPruner(model, config_list)#マンハッタン距離剪定機に model 計算式／計算方法 config_list(構成リスト)の引数を加えpruner（剪定）に入れて実体化させる\n",
        "\n",
        "# ラップ（内包）されたモデル（計算式／計算方法）構造を表示します。PrunerModuleWrapperは、config_list(構成リスト)で設定された層をラップ（内包）しています。\n",
        "print(model)#モデル（計算式／計算方法)を表示する"
      ]
    },
    {
      "cell_type": "code",
      "execution_count": 13,
      "metadata": {
        "id": "F7Y8UKrIvuei",
        "colab": {
          "base_uri": "https://localhost:8080/"
        },
        "outputId": "d0be8734-ed82-48c0-b97c-e0f8f351e961"
      },
      "outputs": [
        {
          "output_type": "stream",
          "name": "stdout",
          "text": [
            "conv1  sparsity :  0.5\n",
            "conv2  sparsity :  0.5\n",
            "fc1  sparsity :  0.5\n",
            "fc2  sparsity :  0.5\n"
          ]
        }
      ],
      "source": [
        "# モデル（計算式／計算方法）を圧縮し、マスク（覆う）を生成する\n",
        "_, masks = pruner.compress()\n",
        "# マスク（覆う）のまばら性を表示する\n",
        "for name, mask in masks.items():#マスク（覆う）の数だけ回す\n",
        "    print(name, ' sparsity : ', '{:.2}'.format(mask['weight'].sum() / mask['weight'].numel()))"
      ]
    },
    {
      "cell_type": "markdown",
      "metadata": {
        "id": "qS5ZLlnkvuek"
      },
      "source": [
        "ModelSpeedupはラップ（内包）されていないモデル（計算式／計算方法）を必要とすることに注意してください。ModelSpeedupは層間でマスク（覆う）を伝播させるため、スピードアップ後にモデル（計算式／計算方法）は小さくなり、高いまばら比に到達します。\n",
        "\n"
      ]
    },
    {
      "cell_type": "code",
      "execution_count": 14,
      "metadata": {
        "id": "k_49UtI6vuek",
        "colab": {
          "base_uri": "https://localhost:8080/"
        },
        "outputId": "3b426647-b874-4fbc-f24b-6c55c0704c8d"
      },
      "outputs": [
        {
          "output_type": "stream",
          "name": "stdout",
          "text": [
            "[2022-12-21 23:49:31] \u001b[32mstart to speedup the model\u001b[0m\n"
          ]
        },
        {
          "output_type": "stream",
          "name": "stderr",
          "text": [
            "INFO:nni.compression.pytorch.speedup.compressor:start to speedup the model\n"
          ]
        },
        {
          "output_type": "stream",
          "name": "stdout",
          "text": [
            "[2022-12-21 23:49:31] \u001b[32minfer module masks...\u001b[0m\n"
          ]
        },
        {
          "output_type": "stream",
          "name": "stderr",
          "text": [
            "INFO:nni.compression.pytorch.speedup.compressor:infer module masks...\n"
          ]
        },
        {
          "output_type": "stream",
          "name": "stdout",
          "text": [
            "[2022-12-21 23:49:31] \u001b[32mUpdate mask for conv1\u001b[0m\n"
          ]
        },
        {
          "output_type": "stream",
          "name": "stderr",
          "text": [
            "INFO:nni.compression.pytorch.speedup.compressor:Update mask for conv1\n"
          ]
        },
        {
          "output_type": "stream",
          "name": "stdout",
          "text": [
            "[2022-12-21 23:49:31] \u001b[32mUpdate mask for relu1\u001b[0m\n"
          ]
        },
        {
          "output_type": "stream",
          "name": "stderr",
          "text": [
            "INFO:nni.compression.pytorch.speedup.compressor:Update mask for relu1\n"
          ]
        },
        {
          "output_type": "stream",
          "name": "stdout",
          "text": [
            "[2022-12-21 23:49:31] \u001b[32mUpdate mask for pool1\u001b[0m\n"
          ]
        },
        {
          "output_type": "stream",
          "name": "stderr",
          "text": [
            "INFO:nni.compression.pytorch.speedup.compressor:Update mask for pool1\n"
          ]
        },
        {
          "output_type": "stream",
          "name": "stdout",
          "text": [
            "[2022-12-21 23:49:31] \u001b[32mUpdate mask for conv2\u001b[0m\n"
          ]
        },
        {
          "output_type": "stream",
          "name": "stderr",
          "text": [
            "INFO:nni.compression.pytorch.speedup.compressor:Update mask for conv2\n"
          ]
        },
        {
          "output_type": "stream",
          "name": "stdout",
          "text": [
            "[2022-12-21 23:49:31] \u001b[32mUpdate mask for relu2\u001b[0m\n"
          ]
        },
        {
          "output_type": "stream",
          "name": "stderr",
          "text": [
            "INFO:nni.compression.pytorch.speedup.compressor:Update mask for relu2\n"
          ]
        },
        {
          "output_type": "stream",
          "name": "stdout",
          "text": [
            "[2022-12-21 23:49:31] \u001b[32mUpdate mask for pool2\u001b[0m\n"
          ]
        },
        {
          "output_type": "stream",
          "name": "stderr",
          "text": [
            "INFO:nni.compression.pytorch.speedup.compressor:Update mask for pool2\n"
          ]
        },
        {
          "output_type": "stream",
          "name": "stdout",
          "text": [
            "[2022-12-21 23:49:31] \u001b[32mUpdate mask for .aten::flatten.11\u001b[0m\n"
          ]
        },
        {
          "output_type": "stream",
          "name": "stderr",
          "text": [
            "INFO:nni.compression.pytorch.speedup.compressor:Update mask for .aten::flatten.11\n"
          ]
        },
        {
          "output_type": "stream",
          "name": "stdout",
          "text": [
            "[2022-12-21 23:49:31] \u001b[32mUpdate mask for fc1\u001b[0m\n"
          ]
        },
        {
          "output_type": "stream",
          "name": "stderr",
          "text": [
            "INFO:nni.compression.pytorch.speedup.compressor:Update mask for fc1\n"
          ]
        },
        {
          "output_type": "stream",
          "name": "stdout",
          "text": [
            "[2022-12-21 23:49:31] \u001b[32mUpdate mask for relu3\u001b[0m\n"
          ]
        },
        {
          "output_type": "stream",
          "name": "stderr",
          "text": [
            "INFO:nni.compression.pytorch.speedup.compressor:Update mask for relu3\n"
          ]
        },
        {
          "output_type": "stream",
          "name": "stdout",
          "text": [
            "[2022-12-21 23:49:31] \u001b[32mUpdate mask for fc2\u001b[0m\n"
          ]
        },
        {
          "output_type": "stream",
          "name": "stderr",
          "text": [
            "INFO:nni.compression.pytorch.speedup.compressor:Update mask for fc2\n"
          ]
        },
        {
          "output_type": "stream",
          "name": "stdout",
          "text": [
            "[2022-12-21 23:49:31] \u001b[32mUpdate mask for relu4\u001b[0m\n"
          ]
        },
        {
          "output_type": "stream",
          "name": "stderr",
          "text": [
            "INFO:nni.compression.pytorch.speedup.compressor:Update mask for relu4\n"
          ]
        },
        {
          "output_type": "stream",
          "name": "stdout",
          "text": [
            "[2022-12-21 23:49:31] \u001b[32mUpdate mask for fc3\u001b[0m\n"
          ]
        },
        {
          "output_type": "stream",
          "name": "stderr",
          "text": [
            "INFO:nni.compression.pytorch.speedup.compressor:Update mask for fc3\n"
          ]
        },
        {
          "output_type": "stream",
          "name": "stdout",
          "text": [
            "[2022-12-21 23:49:31] \u001b[32mUpdate mask for .aten::log_softmax.12\u001b[0m\n"
          ]
        },
        {
          "output_type": "stream",
          "name": "stderr",
          "text": [
            "INFO:nni.compression.pytorch.speedup.compressor:Update mask for .aten::log_softmax.12\n"
          ]
        },
        {
          "output_type": "stream",
          "name": "stdout",
          "text": [
            "[2022-12-21 23:49:31] \u001b[32mUpdate the indirect sparsity for the .aten::log_softmax.12\u001b[0m\n"
          ]
        },
        {
          "output_type": "stream",
          "name": "stderr",
          "text": [
            "INFO:nni.compression.pytorch.speedup.compressor:Update the indirect sparsity for the .aten::log_softmax.12\n"
          ]
        },
        {
          "output_type": "stream",
          "name": "stdout",
          "text": [
            "[2022-12-21 23:49:31] \u001b[32mUpdate the indirect sparsity for the fc3\u001b[0m\n"
          ]
        },
        {
          "output_type": "stream",
          "name": "stderr",
          "text": [
            "/usr/local/lib/python3.8/dist-packages/nni/compression/pytorch/speedup/compressor.py:305: UserWarning: The .grad attribute of a Tensor that is not a leaf Tensor is being accessed. Its .grad attribute won't be populated during autograd.backward(). If you indeed want the .grad field to be populated for a non-leaf Tensor, use .retain_grad() on the non-leaf Tensor. If you access the non-leaf Tensor by mistake, make sure you access the leaf Tensor instead. See github.com/pytorch/pytorch/pull/30531 for more informations. (Triggered internally at aten/src/ATen/core/TensorBody.h:480.)\n",
            "  if last_output.grad is not None and tin.grad is not None:\n",
            "/usr/local/lib/python3.8/dist-packages/nni/compression/pytorch/speedup/compressor.py:307: UserWarning: The .grad attribute of a Tensor that is not a leaf Tensor is being accessed. Its .grad attribute won't be populated during autograd.backward(). If you indeed want the .grad field to be populated for a non-leaf Tensor, use .retain_grad() on the non-leaf Tensor. If you access the non-leaf Tensor by mistake, make sure you access the leaf Tensor instead. See github.com/pytorch/pytorch/pull/30531 for more informations. (Triggered internally at aten/src/ATen/core/TensorBody.h:480.)\n",
            "  elif last_output.grad is None:\n",
            "INFO:nni.compression.pytorch.speedup.compressor:Update the indirect sparsity for the fc3\n"
          ]
        },
        {
          "output_type": "stream",
          "name": "stdout",
          "text": [
            "[2022-12-21 23:49:31] \u001b[32mUpdate the indirect sparsity for the relu4\u001b[0m\n"
          ]
        },
        {
          "output_type": "stream",
          "name": "stderr",
          "text": [
            "INFO:nni.compression.pytorch.speedup.compressor:Update the indirect sparsity for the relu4\n"
          ]
        },
        {
          "output_type": "stream",
          "name": "stdout",
          "text": [
            "[2022-12-21 23:49:31] \u001b[32mUpdate the indirect sparsity for the fc2\u001b[0m\n"
          ]
        },
        {
          "output_type": "stream",
          "name": "stderr",
          "text": [
            "INFO:nni.compression.pytorch.speedup.compressor:Update the indirect sparsity for the fc2\n"
          ]
        },
        {
          "output_type": "stream",
          "name": "stdout",
          "text": [
            "[2022-12-21 23:49:31] \u001b[32mUpdate the indirect sparsity for the relu3\u001b[0m\n"
          ]
        },
        {
          "output_type": "stream",
          "name": "stderr",
          "text": [
            "INFO:nni.compression.pytorch.speedup.compressor:Update the indirect sparsity for the relu3\n"
          ]
        },
        {
          "output_type": "stream",
          "name": "stdout",
          "text": [
            "[2022-12-21 23:49:31] \u001b[32mUpdate the indirect sparsity for the fc1\u001b[0m\n"
          ]
        },
        {
          "output_type": "stream",
          "name": "stderr",
          "text": [
            "INFO:nni.compression.pytorch.speedup.compressor:Update the indirect sparsity for the fc1\n"
          ]
        },
        {
          "output_type": "stream",
          "name": "stdout",
          "text": [
            "[2022-12-21 23:49:31] \u001b[32mUpdate the indirect sparsity for the .aten::flatten.11\u001b[0m\n"
          ]
        },
        {
          "output_type": "stream",
          "name": "stderr",
          "text": [
            "INFO:nni.compression.pytorch.speedup.compressor:Update the indirect sparsity for the .aten::flatten.11\n"
          ]
        },
        {
          "output_type": "stream",
          "name": "stdout",
          "text": [
            "[2022-12-21 23:49:31] \u001b[32mUpdate the indirect sparsity for the pool2\u001b[0m\n"
          ]
        },
        {
          "output_type": "stream",
          "name": "stderr",
          "text": [
            "INFO:nni.compression.pytorch.speedup.compressor:Update the indirect sparsity for the pool2\n"
          ]
        },
        {
          "output_type": "stream",
          "name": "stdout",
          "text": [
            "[2022-12-21 23:49:31] \u001b[32mUpdate the indirect sparsity for the relu2\u001b[0m\n"
          ]
        },
        {
          "output_type": "stream",
          "name": "stderr",
          "text": [
            "INFO:nni.compression.pytorch.speedup.compressor:Update the indirect sparsity for the relu2\n"
          ]
        },
        {
          "output_type": "stream",
          "name": "stdout",
          "text": [
            "[2022-12-21 23:49:31] \u001b[32mUpdate the indirect sparsity for the conv2\u001b[0m\n"
          ]
        },
        {
          "output_type": "stream",
          "name": "stderr",
          "text": [
            "INFO:nni.compression.pytorch.speedup.compressor:Update the indirect sparsity for the conv2\n"
          ]
        },
        {
          "output_type": "stream",
          "name": "stdout",
          "text": [
            "[2022-12-21 23:49:31] \u001b[32mUpdate the indirect sparsity for the pool1\u001b[0m\n"
          ]
        },
        {
          "output_type": "stream",
          "name": "stderr",
          "text": [
            "INFO:nni.compression.pytorch.speedup.compressor:Update the indirect sparsity for the pool1\n"
          ]
        },
        {
          "output_type": "stream",
          "name": "stdout",
          "text": [
            "[2022-12-21 23:49:31] \u001b[32mUpdate the indirect sparsity for the relu1\u001b[0m\n"
          ]
        },
        {
          "output_type": "stream",
          "name": "stderr",
          "text": [
            "INFO:nni.compression.pytorch.speedup.compressor:Update the indirect sparsity for the relu1\n"
          ]
        },
        {
          "output_type": "stream",
          "name": "stdout",
          "text": [
            "[2022-12-21 23:49:31] \u001b[32mUpdate the indirect sparsity for the conv1\u001b[0m\n"
          ]
        },
        {
          "output_type": "stream",
          "name": "stderr",
          "text": [
            "INFO:nni.compression.pytorch.speedup.compressor:Update the indirect sparsity for the conv1\n"
          ]
        },
        {
          "output_type": "stream",
          "name": "stdout",
          "text": [
            "[2022-12-21 23:49:31] \u001b[32mresolve the mask conflict\u001b[0m\n"
          ]
        },
        {
          "output_type": "stream",
          "name": "stderr",
          "text": [
            "INFO:nni.compression.pytorch.speedup.compressor:resolve the mask conflict\n"
          ]
        },
        {
          "output_type": "stream",
          "name": "stdout",
          "text": [
            "[2022-12-21 23:49:31] \u001b[32mreplace compressed modules...\u001b[0m\n"
          ]
        },
        {
          "output_type": "stream",
          "name": "stderr",
          "text": [
            "INFO:nni.compression.pytorch.speedup.compressor:replace compressed modules...\n"
          ]
        },
        {
          "output_type": "stream",
          "name": "stdout",
          "text": [
            "[2022-12-21 23:49:31] \u001b[32mreplace module (name: conv1, op_type: Conv2d)\u001b[0m\n"
          ]
        },
        {
          "output_type": "stream",
          "name": "stderr",
          "text": [
            "INFO:nni.compression.pytorch.speedup.compressor:replace module (name: conv1, op_type: Conv2d)\n"
          ]
        },
        {
          "output_type": "stream",
          "name": "stdout",
          "text": [
            "[2022-12-21 23:49:31] \u001b[32mreplace module (name: relu1, op_type: ReLU)\u001b[0m\n"
          ]
        },
        {
          "output_type": "stream",
          "name": "stderr",
          "text": [
            "INFO:nni.compression.pytorch.speedup.compressor:replace module (name: relu1, op_type: ReLU)\n"
          ]
        },
        {
          "output_type": "stream",
          "name": "stdout",
          "text": [
            "[2022-12-21 23:49:31] \u001b[32mreplace module (name: pool1, op_type: MaxPool2d)\u001b[0m\n"
          ]
        },
        {
          "output_type": "stream",
          "name": "stderr",
          "text": [
            "INFO:nni.compression.pytorch.speedup.compressor:replace module (name: pool1, op_type: MaxPool2d)\n"
          ]
        },
        {
          "output_type": "stream",
          "name": "stdout",
          "text": [
            "[2022-12-21 23:49:31] \u001b[32mreplace module (name: conv2, op_type: Conv2d)\u001b[0m\n"
          ]
        },
        {
          "output_type": "stream",
          "name": "stderr",
          "text": [
            "INFO:nni.compression.pytorch.speedup.compressor:replace module (name: conv2, op_type: Conv2d)\n"
          ]
        },
        {
          "output_type": "stream",
          "name": "stdout",
          "text": [
            "[2022-12-21 23:49:31] \u001b[32mreplace module (name: relu2, op_type: ReLU)\u001b[0m\n"
          ]
        },
        {
          "output_type": "stream",
          "name": "stderr",
          "text": [
            "INFO:nni.compression.pytorch.speedup.compressor:replace module (name: relu2, op_type: ReLU)\n"
          ]
        },
        {
          "output_type": "stream",
          "name": "stdout",
          "text": [
            "[2022-12-21 23:49:31] \u001b[32mreplace module (name: pool2, op_type: MaxPool2d)\u001b[0m\n"
          ]
        },
        {
          "output_type": "stream",
          "name": "stderr",
          "text": [
            "INFO:nni.compression.pytorch.speedup.compressor:replace module (name: pool2, op_type: MaxPool2d)\n"
          ]
        },
        {
          "output_type": "stream",
          "name": "stdout",
          "text": [
            "[2022-12-21 23:49:31] \u001b[32mreplace module (name: fc1, op_type: Linear)\u001b[0m\n"
          ]
        },
        {
          "output_type": "stream",
          "name": "stderr",
          "text": [
            "INFO:nni.compression.pytorch.speedup.compressor:replace module (name: fc1, op_type: Linear)\n"
          ]
        },
        {
          "output_type": "stream",
          "name": "stdout",
          "text": [
            "[2022-12-21 23:49:31] \u001b[32mreplace linear with new in_features: 128, out_features: 60\u001b[0m\n"
          ]
        },
        {
          "output_type": "stream",
          "name": "stderr",
          "text": [
            "INFO:nni.compression.pytorch.speedup.compress_modules:replace linear with new in_features: 128, out_features: 60\n"
          ]
        },
        {
          "output_type": "stream",
          "name": "stdout",
          "text": [
            "[2022-12-21 23:49:31] \u001b[32mreplace module (name: relu3, op_type: ReLU)\u001b[0m\n"
          ]
        },
        {
          "output_type": "stream",
          "name": "stderr",
          "text": [
            "INFO:nni.compression.pytorch.speedup.compressor:replace module (name: relu3, op_type: ReLU)\n"
          ]
        },
        {
          "output_type": "stream",
          "name": "stdout",
          "text": [
            "[2022-12-21 23:49:31] \u001b[32mreplace module (name: fc2, op_type: Linear)\u001b[0m\n"
          ]
        },
        {
          "output_type": "stream",
          "name": "stderr",
          "text": [
            "INFO:nni.compression.pytorch.speedup.compressor:replace module (name: fc2, op_type: Linear)\n"
          ]
        },
        {
          "output_type": "stream",
          "name": "stdout",
          "text": [
            "[2022-12-21 23:49:31] \u001b[32mreplace linear with new in_features: 60, out_features: 42\u001b[0m\n"
          ]
        },
        {
          "output_type": "stream",
          "name": "stderr",
          "text": [
            "INFO:nni.compression.pytorch.speedup.compress_modules:replace linear with new in_features: 60, out_features: 42\n"
          ]
        },
        {
          "output_type": "stream",
          "name": "stdout",
          "text": [
            "[2022-12-21 23:49:31] \u001b[32mreplace module (name: relu4, op_type: ReLU)\u001b[0m\n"
          ]
        },
        {
          "output_type": "stream",
          "name": "stderr",
          "text": [
            "INFO:nni.compression.pytorch.speedup.compressor:replace module (name: relu4, op_type: ReLU)\n"
          ]
        },
        {
          "output_type": "stream",
          "name": "stdout",
          "text": [
            "[2022-12-21 23:49:31] \u001b[32mreplace module (name: fc3, op_type: Linear)\u001b[0m\n"
          ]
        },
        {
          "output_type": "stream",
          "name": "stderr",
          "text": [
            "INFO:nni.compression.pytorch.speedup.compressor:replace module (name: fc3, op_type: Linear)\n"
          ]
        },
        {
          "output_type": "stream",
          "name": "stdout",
          "text": [
            "[2022-12-21 23:49:31] \u001b[32mreplace linear with new in_features: 42, out_features: 10\u001b[0m\n"
          ]
        },
        {
          "output_type": "stream",
          "name": "stderr",
          "text": [
            "INFO:nni.compression.pytorch.speedup.compress_modules:replace linear with new in_features: 42, out_features: 10\n"
          ]
        },
        {
          "output_type": "stream",
          "name": "stdout",
          "text": [
            "[2022-12-21 23:49:31] \u001b[32mspeedup done\u001b[0m\n"
          ]
        },
        {
          "output_type": "stream",
          "name": "stderr",
          "text": [
            "INFO:nni.compression.pytorch.speedup.compressor:speedup done\n"
          ]
        }
      ],
      "source": [
        "# モデル（計算式／計算方法）がラップ（内包）されている場合、ラップ（内包）を解除する必要があります。\n",
        "pruner._unwrap_model()\n",
        "\n",
        "# モデル（計算式／計算方法）を高速化する。高速化についての詳細は :doc:pruning_speedup を参照すること。\n",
        "from nni.compression.pytorch.speedup import ModelSpeedup\n",
        "\n",
        "ModelSpeedup(model, torch.rand(3, 1, 28, 28).to(device), masks).speedup_model()"
      ]
    },
    {
      "cell_type": "markdown",
      "metadata": {
        "id": "l2W-G367vuel"
      },
      "source": [
        "高速化すると、モデル（計算式／計算方法）が本当に小さくなる\n",
        "\n"
      ]
    },
    {
      "cell_type": "code",
      "execution_count": 15,
      "metadata": {
        "id": "2GM-PJuZvuem",
        "colab": {
          "base_uri": "https://localhost:8080/"
        },
        "outputId": "1aa16d65-732f-47d7-d5a2-c1465a5ef056"
      },
      "outputs": [
        {
          "output_type": "stream",
          "name": "stdout",
          "text": [
            "TorchModel(\n",
            "  (conv1): Conv2d(1, 3, kernel_size=(5, 5), stride=(1, 1))\n",
            "  (conv2): Conv2d(3, 8, kernel_size=(5, 5), stride=(1, 1))\n",
            "  (fc1): Linear(in_features=128, out_features=60, bias=True)\n",
            "  (fc2): Linear(in_features=60, out_features=42, bias=True)\n",
            "  (fc3): Linear(in_features=42, out_features=10, bias=True)\n",
            "  (relu1): ReLU()\n",
            "  (relu2): ReLU()\n",
            "  (relu3): ReLU()\n",
            "  (relu4): ReLU()\n",
            "  (pool1): MaxPool2d(kernel_size=(2, 2), stride=(2, 2), padding=0, dilation=1, ceil_mode=False)\n",
            "  (pool2): MaxPool2d(kernel_size=(2, 2), stride=(2, 2), padding=0, dilation=1, ceil_mode=False)\n",
            ")\n"
          ]
        }
      ],
      "source": [
        "print(model)"
      ]
    },
    {
      "cell_type": "markdown",
      "metadata": {
        "id": "bq3HSqJfvuem"
      },
      "source": [
        "# **コンパクテッドモデル（計算式／計算方法）の微調整**\n",
        "なお、モデル（計算式／計算方法）を高速化した場合は、微調整のために新しいオプティマイザ（対象の設定や構造などを調整し、より好ましい状態に組み替える「最適化」（optimization）を行うためのソフトウェアや機能のこと）を再初期化する必要があります。 高速化によってマスク（覆う）された大きな層が高密度の小さな層に置き換わるからです。\n"
      ]
    },
    {
      "cell_type": "code",
      "execution_count": 17,
      "metadata": {
        "id": "JMqokWZMvuen"
      },
      "outputs": [],
      "source": [
        "optimizer = SGD(model.parameters(), 1e-2)\n",
        "for epoch in range(3):\n",
        "    trainer(model, optimizer, criterion)"
      ]
    },
    {
      "cell_type": "code",
      "source": [],
      "metadata": {
        "id": "xNfRf-T4FwKO"
      },
      "execution_count": 16,
      "outputs": []
    }
  ],
  "metadata": {
    "kernelspec": {
      "display_name": "Python 3",
      "language": "python",
      "name": "python3"
    },
    "language_info": {
      "codemirror_mode": {
        "name": "ipython",
        "version": 3
      },
      "file_extension": ".py",
      "mimetype": "text/x-python",
      "name": "python",
      "nbconvert_exporter": "python",
      "pygments_lexer": "ipython3",
      "version": "3.8.8"
    },
    "colab": {
      "provenance": [],
      "include_colab_link": true
    },
    "widgets": {
      "application/vnd.jupyter.widget-state+json": {
        "7ba079f08a01455c8e1e0fa0fe1d2dbd": {
          "model_module": "@jupyter-widgets/controls",
          "model_name": "HBoxModel",
          "model_module_version": "1.5.0",
          "state": {
            "_dom_classes": [],
            "_model_module": "@jupyter-widgets/controls",
            "_model_module_version": "1.5.0",
            "_model_name": "HBoxModel",
            "_view_count": null,
            "_view_module": "@jupyter-widgets/controls",
            "_view_module_version": "1.5.0",
            "_view_name": "HBoxView",
            "box_style": "",
            "children": [
              "IPY_MODEL_3f1599804bb8430fa6687a694f93183e",
              "IPY_MODEL_df57f90639b64d6a91ffae32060677cc",
              "IPY_MODEL_d64b563606ee47bca519af108d82d911"
            ],
            "layout": "IPY_MODEL_9290ef47fd4c4bccb07fde9c4930c8fc"
          }
        },
        "3f1599804bb8430fa6687a694f93183e": {
          "model_module": "@jupyter-widgets/controls",
          "model_name": "HTMLModel",
          "model_module_version": "1.5.0",
          "state": {
            "_dom_classes": [],
            "_model_module": "@jupyter-widgets/controls",
            "_model_module_version": "1.5.0",
            "_model_name": "HTMLModel",
            "_view_count": null,
            "_view_module": "@jupyter-widgets/controls",
            "_view_module_version": "1.5.0",
            "_view_name": "HTMLView",
            "description": "",
            "description_tooltip": null,
            "layout": "IPY_MODEL_5f4946e758ff4d018a49ce95b9275d82",
            "placeholder": "​",
            "style": "IPY_MODEL_3e401584a3e14a6d8dda1fe85c70bafc",
            "value": "100%"
          }
        },
        "df57f90639b64d6a91ffae32060677cc": {
          "model_module": "@jupyter-widgets/controls",
          "model_name": "FloatProgressModel",
          "model_module_version": "1.5.0",
          "state": {
            "_dom_classes": [],
            "_model_module": "@jupyter-widgets/controls",
            "_model_module_version": "1.5.0",
            "_model_name": "FloatProgressModel",
            "_view_count": null,
            "_view_module": "@jupyter-widgets/controls",
            "_view_module_version": "1.5.0",
            "_view_name": "ProgressView",
            "bar_style": "success",
            "description": "",
            "description_tooltip": null,
            "layout": "IPY_MODEL_2555867afaa6459d97eb6fe9dfe57ea9",
            "max": 9912422,
            "min": 0,
            "orientation": "horizontal",
            "style": "IPY_MODEL_69af860ef7fc42d5ade18963c1ba7690",
            "value": 9912422
          }
        },
        "d64b563606ee47bca519af108d82d911": {
          "model_module": "@jupyter-widgets/controls",
          "model_name": "HTMLModel",
          "model_module_version": "1.5.0",
          "state": {
            "_dom_classes": [],
            "_model_module": "@jupyter-widgets/controls",
            "_model_module_version": "1.5.0",
            "_model_name": "HTMLModel",
            "_view_count": null,
            "_view_module": "@jupyter-widgets/controls",
            "_view_module_version": "1.5.0",
            "_view_name": "HTMLView",
            "description": "",
            "description_tooltip": null,
            "layout": "IPY_MODEL_6fdce0233992438f9a06e52f018449e7",
            "placeholder": "​",
            "style": "IPY_MODEL_cf10636340bb48e1837132a4a07fc34f",
            "value": " 9912422/9912422 [00:00&lt;00:00, 134132072.24it/s]"
          }
        },
        "9290ef47fd4c4bccb07fde9c4930c8fc": {
          "model_module": "@jupyter-widgets/base",
          "model_name": "LayoutModel",
          "model_module_version": "1.2.0",
          "state": {
            "_model_module": "@jupyter-widgets/base",
            "_model_module_version": "1.2.0",
            "_model_name": "LayoutModel",
            "_view_count": null,
            "_view_module": "@jupyter-widgets/base",
            "_view_module_version": "1.2.0",
            "_view_name": "LayoutView",
            "align_content": null,
            "align_items": null,
            "align_self": null,
            "border": null,
            "bottom": null,
            "display": null,
            "flex": null,
            "flex_flow": null,
            "grid_area": null,
            "grid_auto_columns": null,
            "grid_auto_flow": null,
            "grid_auto_rows": null,
            "grid_column": null,
            "grid_gap": null,
            "grid_row": null,
            "grid_template_areas": null,
            "grid_template_columns": null,
            "grid_template_rows": null,
            "height": null,
            "justify_content": null,
            "justify_items": null,
            "left": null,
            "margin": null,
            "max_height": null,
            "max_width": null,
            "min_height": null,
            "min_width": null,
            "object_fit": null,
            "object_position": null,
            "order": null,
            "overflow": null,
            "overflow_x": null,
            "overflow_y": null,
            "padding": null,
            "right": null,
            "top": null,
            "visibility": null,
            "width": null
          }
        },
        "5f4946e758ff4d018a49ce95b9275d82": {
          "model_module": "@jupyter-widgets/base",
          "model_name": "LayoutModel",
          "model_module_version": "1.2.0",
          "state": {
            "_model_module": "@jupyter-widgets/base",
            "_model_module_version": "1.2.0",
            "_model_name": "LayoutModel",
            "_view_count": null,
            "_view_module": "@jupyter-widgets/base",
            "_view_module_version": "1.2.0",
            "_view_name": "LayoutView",
            "align_content": null,
            "align_items": null,
            "align_self": null,
            "border": null,
            "bottom": null,
            "display": null,
            "flex": null,
            "flex_flow": null,
            "grid_area": null,
            "grid_auto_columns": null,
            "grid_auto_flow": null,
            "grid_auto_rows": null,
            "grid_column": null,
            "grid_gap": null,
            "grid_row": null,
            "grid_template_areas": null,
            "grid_template_columns": null,
            "grid_template_rows": null,
            "height": null,
            "justify_content": null,
            "justify_items": null,
            "left": null,
            "margin": null,
            "max_height": null,
            "max_width": null,
            "min_height": null,
            "min_width": null,
            "object_fit": null,
            "object_position": null,
            "order": null,
            "overflow": null,
            "overflow_x": null,
            "overflow_y": null,
            "padding": null,
            "right": null,
            "top": null,
            "visibility": null,
            "width": null
          }
        },
        "3e401584a3e14a6d8dda1fe85c70bafc": {
          "model_module": "@jupyter-widgets/controls",
          "model_name": "DescriptionStyleModel",
          "model_module_version": "1.5.0",
          "state": {
            "_model_module": "@jupyter-widgets/controls",
            "_model_module_version": "1.5.0",
            "_model_name": "DescriptionStyleModel",
            "_view_count": null,
            "_view_module": "@jupyter-widgets/base",
            "_view_module_version": "1.2.0",
            "_view_name": "StyleView",
            "description_width": ""
          }
        },
        "2555867afaa6459d97eb6fe9dfe57ea9": {
          "model_module": "@jupyter-widgets/base",
          "model_name": "LayoutModel",
          "model_module_version": "1.2.0",
          "state": {
            "_model_module": "@jupyter-widgets/base",
            "_model_module_version": "1.2.0",
            "_model_name": "LayoutModel",
            "_view_count": null,
            "_view_module": "@jupyter-widgets/base",
            "_view_module_version": "1.2.0",
            "_view_name": "LayoutView",
            "align_content": null,
            "align_items": null,
            "align_self": null,
            "border": null,
            "bottom": null,
            "display": null,
            "flex": null,
            "flex_flow": null,
            "grid_area": null,
            "grid_auto_columns": null,
            "grid_auto_flow": null,
            "grid_auto_rows": null,
            "grid_column": null,
            "grid_gap": null,
            "grid_row": null,
            "grid_template_areas": null,
            "grid_template_columns": null,
            "grid_template_rows": null,
            "height": null,
            "justify_content": null,
            "justify_items": null,
            "left": null,
            "margin": null,
            "max_height": null,
            "max_width": null,
            "min_height": null,
            "min_width": null,
            "object_fit": null,
            "object_position": null,
            "order": null,
            "overflow": null,
            "overflow_x": null,
            "overflow_y": null,
            "padding": null,
            "right": null,
            "top": null,
            "visibility": null,
            "width": null
          }
        },
        "69af860ef7fc42d5ade18963c1ba7690": {
          "model_module": "@jupyter-widgets/controls",
          "model_name": "ProgressStyleModel",
          "model_module_version": "1.5.0",
          "state": {
            "_model_module": "@jupyter-widgets/controls",
            "_model_module_version": "1.5.0",
            "_model_name": "ProgressStyleModel",
            "_view_count": null,
            "_view_module": "@jupyter-widgets/base",
            "_view_module_version": "1.2.0",
            "_view_name": "StyleView",
            "bar_color": null,
            "description_width": ""
          }
        },
        "6fdce0233992438f9a06e52f018449e7": {
          "model_module": "@jupyter-widgets/base",
          "model_name": "LayoutModel",
          "model_module_version": "1.2.0",
          "state": {
            "_model_module": "@jupyter-widgets/base",
            "_model_module_version": "1.2.0",
            "_model_name": "LayoutModel",
            "_view_count": null,
            "_view_module": "@jupyter-widgets/base",
            "_view_module_version": "1.2.0",
            "_view_name": "LayoutView",
            "align_content": null,
            "align_items": null,
            "align_self": null,
            "border": null,
            "bottom": null,
            "display": null,
            "flex": null,
            "flex_flow": null,
            "grid_area": null,
            "grid_auto_columns": null,
            "grid_auto_flow": null,
            "grid_auto_rows": null,
            "grid_column": null,
            "grid_gap": null,
            "grid_row": null,
            "grid_template_areas": null,
            "grid_template_columns": null,
            "grid_template_rows": null,
            "height": null,
            "justify_content": null,
            "justify_items": null,
            "left": null,
            "margin": null,
            "max_height": null,
            "max_width": null,
            "min_height": null,
            "min_width": null,
            "object_fit": null,
            "object_position": null,
            "order": null,
            "overflow": null,
            "overflow_x": null,
            "overflow_y": null,
            "padding": null,
            "right": null,
            "top": null,
            "visibility": null,
            "width": null
          }
        },
        "cf10636340bb48e1837132a4a07fc34f": {
          "model_module": "@jupyter-widgets/controls",
          "model_name": "DescriptionStyleModel",
          "model_module_version": "1.5.0",
          "state": {
            "_model_module": "@jupyter-widgets/controls",
            "_model_module_version": "1.5.0",
            "_model_name": "DescriptionStyleModel",
            "_view_count": null,
            "_view_module": "@jupyter-widgets/base",
            "_view_module_version": "1.2.0",
            "_view_name": "StyleView",
            "description_width": ""
          }
        },
        "2937c7d44bf94b39b1b782e8363c8015": {
          "model_module": "@jupyter-widgets/controls",
          "model_name": "HBoxModel",
          "model_module_version": "1.5.0",
          "state": {
            "_dom_classes": [],
            "_model_module": "@jupyter-widgets/controls",
            "_model_module_version": "1.5.0",
            "_model_name": "HBoxModel",
            "_view_count": null,
            "_view_module": "@jupyter-widgets/controls",
            "_view_module_version": "1.5.0",
            "_view_name": "HBoxView",
            "box_style": "",
            "children": [
              "IPY_MODEL_682aa92e4acf434d8f563c3a9c9992d8",
              "IPY_MODEL_2d6ef6a2020245c48cf66092a51b91bc",
              "IPY_MODEL_c4cea840f9534f2086a641505cfbed73"
            ],
            "layout": "IPY_MODEL_c11287e7d0364044882dbb18785afe41"
          }
        },
        "682aa92e4acf434d8f563c3a9c9992d8": {
          "model_module": "@jupyter-widgets/controls",
          "model_name": "HTMLModel",
          "model_module_version": "1.5.0",
          "state": {
            "_dom_classes": [],
            "_model_module": "@jupyter-widgets/controls",
            "_model_module_version": "1.5.0",
            "_model_name": "HTMLModel",
            "_view_count": null,
            "_view_module": "@jupyter-widgets/controls",
            "_view_module_version": "1.5.0",
            "_view_name": "HTMLView",
            "description": "",
            "description_tooltip": null,
            "layout": "IPY_MODEL_3cd7463f15dc451bb9007ed56ab952ce",
            "placeholder": "​",
            "style": "IPY_MODEL_72f12efaa28a428fb6c7f2fc0d05293a",
            "value": "100%"
          }
        },
        "2d6ef6a2020245c48cf66092a51b91bc": {
          "model_module": "@jupyter-widgets/controls",
          "model_name": "FloatProgressModel",
          "model_module_version": "1.5.0",
          "state": {
            "_dom_classes": [],
            "_model_module": "@jupyter-widgets/controls",
            "_model_module_version": "1.5.0",
            "_model_name": "FloatProgressModel",
            "_view_count": null,
            "_view_module": "@jupyter-widgets/controls",
            "_view_module_version": "1.5.0",
            "_view_name": "ProgressView",
            "bar_style": "success",
            "description": "",
            "description_tooltip": null,
            "layout": "IPY_MODEL_68f2ce3c70c14868a1c8a7fa0b8a9361",
            "max": 28881,
            "min": 0,
            "orientation": "horizontal",
            "style": "IPY_MODEL_a7ceba86a6bf4e828ff3cad819c308ef",
            "value": 28881
          }
        },
        "c4cea840f9534f2086a641505cfbed73": {
          "model_module": "@jupyter-widgets/controls",
          "model_name": "HTMLModel",
          "model_module_version": "1.5.0",
          "state": {
            "_dom_classes": [],
            "_model_module": "@jupyter-widgets/controls",
            "_model_module_version": "1.5.0",
            "_model_name": "HTMLModel",
            "_view_count": null,
            "_view_module": "@jupyter-widgets/controls",
            "_view_module_version": "1.5.0",
            "_view_name": "HTMLView",
            "description": "",
            "description_tooltip": null,
            "layout": "IPY_MODEL_a7e8a5ad40a64dc4af7e7ed1652fb555",
            "placeholder": "​",
            "style": "IPY_MODEL_46afeb76efb5428581b92d15faf38ce7",
            "value": " 28881/28881 [00:00&lt;00:00, 1879529.77it/s]"
          }
        },
        "c11287e7d0364044882dbb18785afe41": {
          "model_module": "@jupyter-widgets/base",
          "model_name": "LayoutModel",
          "model_module_version": "1.2.0",
          "state": {
            "_model_module": "@jupyter-widgets/base",
            "_model_module_version": "1.2.0",
            "_model_name": "LayoutModel",
            "_view_count": null,
            "_view_module": "@jupyter-widgets/base",
            "_view_module_version": "1.2.0",
            "_view_name": "LayoutView",
            "align_content": null,
            "align_items": null,
            "align_self": null,
            "border": null,
            "bottom": null,
            "display": null,
            "flex": null,
            "flex_flow": null,
            "grid_area": null,
            "grid_auto_columns": null,
            "grid_auto_flow": null,
            "grid_auto_rows": null,
            "grid_column": null,
            "grid_gap": null,
            "grid_row": null,
            "grid_template_areas": null,
            "grid_template_columns": null,
            "grid_template_rows": null,
            "height": null,
            "justify_content": null,
            "justify_items": null,
            "left": null,
            "margin": null,
            "max_height": null,
            "max_width": null,
            "min_height": null,
            "min_width": null,
            "object_fit": null,
            "object_position": null,
            "order": null,
            "overflow": null,
            "overflow_x": null,
            "overflow_y": null,
            "padding": null,
            "right": null,
            "top": null,
            "visibility": null,
            "width": null
          }
        },
        "3cd7463f15dc451bb9007ed56ab952ce": {
          "model_module": "@jupyter-widgets/base",
          "model_name": "LayoutModel",
          "model_module_version": "1.2.0",
          "state": {
            "_model_module": "@jupyter-widgets/base",
            "_model_module_version": "1.2.0",
            "_model_name": "LayoutModel",
            "_view_count": null,
            "_view_module": "@jupyter-widgets/base",
            "_view_module_version": "1.2.0",
            "_view_name": "LayoutView",
            "align_content": null,
            "align_items": null,
            "align_self": null,
            "border": null,
            "bottom": null,
            "display": null,
            "flex": null,
            "flex_flow": null,
            "grid_area": null,
            "grid_auto_columns": null,
            "grid_auto_flow": null,
            "grid_auto_rows": null,
            "grid_column": null,
            "grid_gap": null,
            "grid_row": null,
            "grid_template_areas": null,
            "grid_template_columns": null,
            "grid_template_rows": null,
            "height": null,
            "justify_content": null,
            "justify_items": null,
            "left": null,
            "margin": null,
            "max_height": null,
            "max_width": null,
            "min_height": null,
            "min_width": null,
            "object_fit": null,
            "object_position": null,
            "order": null,
            "overflow": null,
            "overflow_x": null,
            "overflow_y": null,
            "padding": null,
            "right": null,
            "top": null,
            "visibility": null,
            "width": null
          }
        },
        "72f12efaa28a428fb6c7f2fc0d05293a": {
          "model_module": "@jupyter-widgets/controls",
          "model_name": "DescriptionStyleModel",
          "model_module_version": "1.5.0",
          "state": {
            "_model_module": "@jupyter-widgets/controls",
            "_model_module_version": "1.5.0",
            "_model_name": "DescriptionStyleModel",
            "_view_count": null,
            "_view_module": "@jupyter-widgets/base",
            "_view_module_version": "1.2.0",
            "_view_name": "StyleView",
            "description_width": ""
          }
        },
        "68f2ce3c70c14868a1c8a7fa0b8a9361": {
          "model_module": "@jupyter-widgets/base",
          "model_name": "LayoutModel",
          "model_module_version": "1.2.0",
          "state": {
            "_model_module": "@jupyter-widgets/base",
            "_model_module_version": "1.2.0",
            "_model_name": "LayoutModel",
            "_view_count": null,
            "_view_module": "@jupyter-widgets/base",
            "_view_module_version": "1.2.0",
            "_view_name": "LayoutView",
            "align_content": null,
            "align_items": null,
            "align_self": null,
            "border": null,
            "bottom": null,
            "display": null,
            "flex": null,
            "flex_flow": null,
            "grid_area": null,
            "grid_auto_columns": null,
            "grid_auto_flow": null,
            "grid_auto_rows": null,
            "grid_column": null,
            "grid_gap": null,
            "grid_row": null,
            "grid_template_areas": null,
            "grid_template_columns": null,
            "grid_template_rows": null,
            "height": null,
            "justify_content": null,
            "justify_items": null,
            "left": null,
            "margin": null,
            "max_height": null,
            "max_width": null,
            "min_height": null,
            "min_width": null,
            "object_fit": null,
            "object_position": null,
            "order": null,
            "overflow": null,
            "overflow_x": null,
            "overflow_y": null,
            "padding": null,
            "right": null,
            "top": null,
            "visibility": null,
            "width": null
          }
        },
        "a7ceba86a6bf4e828ff3cad819c308ef": {
          "model_module": "@jupyter-widgets/controls",
          "model_name": "ProgressStyleModel",
          "model_module_version": "1.5.0",
          "state": {
            "_model_module": "@jupyter-widgets/controls",
            "_model_module_version": "1.5.0",
            "_model_name": "ProgressStyleModel",
            "_view_count": null,
            "_view_module": "@jupyter-widgets/base",
            "_view_module_version": "1.2.0",
            "_view_name": "StyleView",
            "bar_color": null,
            "description_width": ""
          }
        },
        "a7e8a5ad40a64dc4af7e7ed1652fb555": {
          "model_module": "@jupyter-widgets/base",
          "model_name": "LayoutModel",
          "model_module_version": "1.2.0",
          "state": {
            "_model_module": "@jupyter-widgets/base",
            "_model_module_version": "1.2.0",
            "_model_name": "LayoutModel",
            "_view_count": null,
            "_view_module": "@jupyter-widgets/base",
            "_view_module_version": "1.2.0",
            "_view_name": "LayoutView",
            "align_content": null,
            "align_items": null,
            "align_self": null,
            "border": null,
            "bottom": null,
            "display": null,
            "flex": null,
            "flex_flow": null,
            "grid_area": null,
            "grid_auto_columns": null,
            "grid_auto_flow": null,
            "grid_auto_rows": null,
            "grid_column": null,
            "grid_gap": null,
            "grid_row": null,
            "grid_template_areas": null,
            "grid_template_columns": null,
            "grid_template_rows": null,
            "height": null,
            "justify_content": null,
            "justify_items": null,
            "left": null,
            "margin": null,
            "max_height": null,
            "max_width": null,
            "min_height": null,
            "min_width": null,
            "object_fit": null,
            "object_position": null,
            "order": null,
            "overflow": null,
            "overflow_x": null,
            "overflow_y": null,
            "padding": null,
            "right": null,
            "top": null,
            "visibility": null,
            "width": null
          }
        },
        "46afeb76efb5428581b92d15faf38ce7": {
          "model_module": "@jupyter-widgets/controls",
          "model_name": "DescriptionStyleModel",
          "model_module_version": "1.5.0",
          "state": {
            "_model_module": "@jupyter-widgets/controls",
            "_model_module_version": "1.5.0",
            "_model_name": "DescriptionStyleModel",
            "_view_count": null,
            "_view_module": "@jupyter-widgets/base",
            "_view_module_version": "1.2.0",
            "_view_name": "StyleView",
            "description_width": ""
          }
        },
        "fd9e2083ddbd4e2b9a9168fd473b164e": {
          "model_module": "@jupyter-widgets/controls",
          "model_name": "HBoxModel",
          "model_module_version": "1.5.0",
          "state": {
            "_dom_classes": [],
            "_model_module": "@jupyter-widgets/controls",
            "_model_module_version": "1.5.0",
            "_model_name": "HBoxModel",
            "_view_count": null,
            "_view_module": "@jupyter-widgets/controls",
            "_view_module_version": "1.5.0",
            "_view_name": "HBoxView",
            "box_style": "",
            "children": [
              "IPY_MODEL_940ab432e3cf4cb5891a6facecc0a992",
              "IPY_MODEL_217a6b2ba9774edfbd833206d44cbe82",
              "IPY_MODEL_cf73ad8f5c07490a9a2f955a5a91e973"
            ],
            "layout": "IPY_MODEL_6ed7242181db4988a2a19611f1a9c901"
          }
        },
        "940ab432e3cf4cb5891a6facecc0a992": {
          "model_module": "@jupyter-widgets/controls",
          "model_name": "HTMLModel",
          "model_module_version": "1.5.0",
          "state": {
            "_dom_classes": [],
            "_model_module": "@jupyter-widgets/controls",
            "_model_module_version": "1.5.0",
            "_model_name": "HTMLModel",
            "_view_count": null,
            "_view_module": "@jupyter-widgets/controls",
            "_view_module_version": "1.5.0",
            "_view_name": "HTMLView",
            "description": "",
            "description_tooltip": null,
            "layout": "IPY_MODEL_4d1430dd84744edc972b157f679164ff",
            "placeholder": "​",
            "style": "IPY_MODEL_abba38a89902436083055d64caf6c0d0",
            "value": "100%"
          }
        },
        "217a6b2ba9774edfbd833206d44cbe82": {
          "model_module": "@jupyter-widgets/controls",
          "model_name": "FloatProgressModel",
          "model_module_version": "1.5.0",
          "state": {
            "_dom_classes": [],
            "_model_module": "@jupyter-widgets/controls",
            "_model_module_version": "1.5.0",
            "_model_name": "FloatProgressModel",
            "_view_count": null,
            "_view_module": "@jupyter-widgets/controls",
            "_view_module_version": "1.5.0",
            "_view_name": "ProgressView",
            "bar_style": "success",
            "description": "",
            "description_tooltip": null,
            "layout": "IPY_MODEL_92da2852b6b74750b05dab59b1a39f95",
            "max": 1648877,
            "min": 0,
            "orientation": "horizontal",
            "style": "IPY_MODEL_f780b1538cff432bbc5fdfe5da191f80",
            "value": 1648877
          }
        },
        "cf73ad8f5c07490a9a2f955a5a91e973": {
          "model_module": "@jupyter-widgets/controls",
          "model_name": "HTMLModel",
          "model_module_version": "1.5.0",
          "state": {
            "_dom_classes": [],
            "_model_module": "@jupyter-widgets/controls",
            "_model_module_version": "1.5.0",
            "_model_name": "HTMLModel",
            "_view_count": null,
            "_view_module": "@jupyter-widgets/controls",
            "_view_module_version": "1.5.0",
            "_view_name": "HTMLView",
            "description": "",
            "description_tooltip": null,
            "layout": "IPY_MODEL_ff718bd9a0a849debed84585612073f9",
            "placeholder": "​",
            "style": "IPY_MODEL_9712b313d52e4d28966dd77115cfedbe",
            "value": " 1648877/1648877 [00:00&lt;00:00, 46583265.84it/s]"
          }
        },
        "6ed7242181db4988a2a19611f1a9c901": {
          "model_module": "@jupyter-widgets/base",
          "model_name": "LayoutModel",
          "model_module_version": "1.2.0",
          "state": {
            "_model_module": "@jupyter-widgets/base",
            "_model_module_version": "1.2.0",
            "_model_name": "LayoutModel",
            "_view_count": null,
            "_view_module": "@jupyter-widgets/base",
            "_view_module_version": "1.2.0",
            "_view_name": "LayoutView",
            "align_content": null,
            "align_items": null,
            "align_self": null,
            "border": null,
            "bottom": null,
            "display": null,
            "flex": null,
            "flex_flow": null,
            "grid_area": null,
            "grid_auto_columns": null,
            "grid_auto_flow": null,
            "grid_auto_rows": null,
            "grid_column": null,
            "grid_gap": null,
            "grid_row": null,
            "grid_template_areas": null,
            "grid_template_columns": null,
            "grid_template_rows": null,
            "height": null,
            "justify_content": null,
            "justify_items": null,
            "left": null,
            "margin": null,
            "max_height": null,
            "max_width": null,
            "min_height": null,
            "min_width": null,
            "object_fit": null,
            "object_position": null,
            "order": null,
            "overflow": null,
            "overflow_x": null,
            "overflow_y": null,
            "padding": null,
            "right": null,
            "top": null,
            "visibility": null,
            "width": null
          }
        },
        "4d1430dd84744edc972b157f679164ff": {
          "model_module": "@jupyter-widgets/base",
          "model_name": "LayoutModel",
          "model_module_version": "1.2.0",
          "state": {
            "_model_module": "@jupyter-widgets/base",
            "_model_module_version": "1.2.0",
            "_model_name": "LayoutModel",
            "_view_count": null,
            "_view_module": "@jupyter-widgets/base",
            "_view_module_version": "1.2.0",
            "_view_name": "LayoutView",
            "align_content": null,
            "align_items": null,
            "align_self": null,
            "border": null,
            "bottom": null,
            "display": null,
            "flex": null,
            "flex_flow": null,
            "grid_area": null,
            "grid_auto_columns": null,
            "grid_auto_flow": null,
            "grid_auto_rows": null,
            "grid_column": null,
            "grid_gap": null,
            "grid_row": null,
            "grid_template_areas": null,
            "grid_template_columns": null,
            "grid_template_rows": null,
            "height": null,
            "justify_content": null,
            "justify_items": null,
            "left": null,
            "margin": null,
            "max_height": null,
            "max_width": null,
            "min_height": null,
            "min_width": null,
            "object_fit": null,
            "object_position": null,
            "order": null,
            "overflow": null,
            "overflow_x": null,
            "overflow_y": null,
            "padding": null,
            "right": null,
            "top": null,
            "visibility": null,
            "width": null
          }
        },
        "abba38a89902436083055d64caf6c0d0": {
          "model_module": "@jupyter-widgets/controls",
          "model_name": "DescriptionStyleModel",
          "model_module_version": "1.5.0",
          "state": {
            "_model_module": "@jupyter-widgets/controls",
            "_model_module_version": "1.5.0",
            "_model_name": "DescriptionStyleModel",
            "_view_count": null,
            "_view_module": "@jupyter-widgets/base",
            "_view_module_version": "1.2.0",
            "_view_name": "StyleView",
            "description_width": ""
          }
        },
        "92da2852b6b74750b05dab59b1a39f95": {
          "model_module": "@jupyter-widgets/base",
          "model_name": "LayoutModel",
          "model_module_version": "1.2.0",
          "state": {
            "_model_module": "@jupyter-widgets/base",
            "_model_module_version": "1.2.0",
            "_model_name": "LayoutModel",
            "_view_count": null,
            "_view_module": "@jupyter-widgets/base",
            "_view_module_version": "1.2.0",
            "_view_name": "LayoutView",
            "align_content": null,
            "align_items": null,
            "align_self": null,
            "border": null,
            "bottom": null,
            "display": null,
            "flex": null,
            "flex_flow": null,
            "grid_area": null,
            "grid_auto_columns": null,
            "grid_auto_flow": null,
            "grid_auto_rows": null,
            "grid_column": null,
            "grid_gap": null,
            "grid_row": null,
            "grid_template_areas": null,
            "grid_template_columns": null,
            "grid_template_rows": null,
            "height": null,
            "justify_content": null,
            "justify_items": null,
            "left": null,
            "margin": null,
            "max_height": null,
            "max_width": null,
            "min_height": null,
            "min_width": null,
            "object_fit": null,
            "object_position": null,
            "order": null,
            "overflow": null,
            "overflow_x": null,
            "overflow_y": null,
            "padding": null,
            "right": null,
            "top": null,
            "visibility": null,
            "width": null
          }
        },
        "f780b1538cff432bbc5fdfe5da191f80": {
          "model_module": "@jupyter-widgets/controls",
          "model_name": "ProgressStyleModel",
          "model_module_version": "1.5.0",
          "state": {
            "_model_module": "@jupyter-widgets/controls",
            "_model_module_version": "1.5.0",
            "_model_name": "ProgressStyleModel",
            "_view_count": null,
            "_view_module": "@jupyter-widgets/base",
            "_view_module_version": "1.2.0",
            "_view_name": "StyleView",
            "bar_color": null,
            "description_width": ""
          }
        },
        "ff718bd9a0a849debed84585612073f9": {
          "model_module": "@jupyter-widgets/base",
          "model_name": "LayoutModel",
          "model_module_version": "1.2.0",
          "state": {
            "_model_module": "@jupyter-widgets/base",
            "_model_module_version": "1.2.0",
            "_model_name": "LayoutModel",
            "_view_count": null,
            "_view_module": "@jupyter-widgets/base",
            "_view_module_version": "1.2.0",
            "_view_name": "LayoutView",
            "align_content": null,
            "align_items": null,
            "align_self": null,
            "border": null,
            "bottom": null,
            "display": null,
            "flex": null,
            "flex_flow": null,
            "grid_area": null,
            "grid_auto_columns": null,
            "grid_auto_flow": null,
            "grid_auto_rows": null,
            "grid_column": null,
            "grid_gap": null,
            "grid_row": null,
            "grid_template_areas": null,
            "grid_template_columns": null,
            "grid_template_rows": null,
            "height": null,
            "justify_content": null,
            "justify_items": null,
            "left": null,
            "margin": null,
            "max_height": null,
            "max_width": null,
            "min_height": null,
            "min_width": null,
            "object_fit": null,
            "object_position": null,
            "order": null,
            "overflow": null,
            "overflow_x": null,
            "overflow_y": null,
            "padding": null,
            "right": null,
            "top": null,
            "visibility": null,
            "width": null
          }
        },
        "9712b313d52e4d28966dd77115cfedbe": {
          "model_module": "@jupyter-widgets/controls",
          "model_name": "DescriptionStyleModel",
          "model_module_version": "1.5.0",
          "state": {
            "_model_module": "@jupyter-widgets/controls",
            "_model_module_version": "1.5.0",
            "_model_name": "DescriptionStyleModel",
            "_view_count": null,
            "_view_module": "@jupyter-widgets/base",
            "_view_module_version": "1.2.0",
            "_view_name": "StyleView",
            "description_width": ""
          }
        },
        "cb06949584fa48778e9b276c275baecf": {
          "model_module": "@jupyter-widgets/controls",
          "model_name": "HBoxModel",
          "model_module_version": "1.5.0",
          "state": {
            "_dom_classes": [],
            "_model_module": "@jupyter-widgets/controls",
            "_model_module_version": "1.5.0",
            "_model_name": "HBoxModel",
            "_view_count": null,
            "_view_module": "@jupyter-widgets/controls",
            "_view_module_version": "1.5.0",
            "_view_name": "HBoxView",
            "box_style": "",
            "children": [
              "IPY_MODEL_ce191ab1838b485a933518b3ac2fa95e",
              "IPY_MODEL_dd9d59b19d2a44a6ab8c6753a4f25e6e",
              "IPY_MODEL_6046ad0bc00746c6ad7ad41077bd9045"
            ],
            "layout": "IPY_MODEL_bc56338a9d56443fba0f27e6090c4c5d"
          }
        },
        "ce191ab1838b485a933518b3ac2fa95e": {
          "model_module": "@jupyter-widgets/controls",
          "model_name": "HTMLModel",
          "model_module_version": "1.5.0",
          "state": {
            "_dom_classes": [],
            "_model_module": "@jupyter-widgets/controls",
            "_model_module_version": "1.5.0",
            "_model_name": "HTMLModel",
            "_view_count": null,
            "_view_module": "@jupyter-widgets/controls",
            "_view_module_version": "1.5.0",
            "_view_name": "HTMLView",
            "description": "",
            "description_tooltip": null,
            "layout": "IPY_MODEL_d6a0757dbe1f45ac8b64e86c3104175a",
            "placeholder": "​",
            "style": "IPY_MODEL_b25ffa03e57342688c84ff33bf4e923e",
            "value": "100%"
          }
        },
        "dd9d59b19d2a44a6ab8c6753a4f25e6e": {
          "model_module": "@jupyter-widgets/controls",
          "model_name": "FloatProgressModel",
          "model_module_version": "1.5.0",
          "state": {
            "_dom_classes": [],
            "_model_module": "@jupyter-widgets/controls",
            "_model_module_version": "1.5.0",
            "_model_name": "FloatProgressModel",
            "_view_count": null,
            "_view_module": "@jupyter-widgets/controls",
            "_view_module_version": "1.5.0",
            "_view_name": "ProgressView",
            "bar_style": "success",
            "description": "",
            "description_tooltip": null,
            "layout": "IPY_MODEL_62593fcdb3f3401b80364fac8174f176",
            "max": 4542,
            "min": 0,
            "orientation": "horizontal",
            "style": "IPY_MODEL_35bf9ee4dc6047d688208acf2a5cd500",
            "value": 4542
          }
        },
        "6046ad0bc00746c6ad7ad41077bd9045": {
          "model_module": "@jupyter-widgets/controls",
          "model_name": "HTMLModel",
          "model_module_version": "1.5.0",
          "state": {
            "_dom_classes": [],
            "_model_module": "@jupyter-widgets/controls",
            "_model_module_version": "1.5.0",
            "_model_name": "HTMLModel",
            "_view_count": null,
            "_view_module": "@jupyter-widgets/controls",
            "_view_module_version": "1.5.0",
            "_view_name": "HTMLView",
            "description": "",
            "description_tooltip": null,
            "layout": "IPY_MODEL_382e8add3a1a4fa3b8f1dabcf6a30d5b",
            "placeholder": "​",
            "style": "IPY_MODEL_61a69ab03c3843e7bee7f08277765292",
            "value": " 4542/4542 [00:00&lt;00:00, 200257.84it/s]"
          }
        },
        "bc56338a9d56443fba0f27e6090c4c5d": {
          "model_module": "@jupyter-widgets/base",
          "model_name": "LayoutModel",
          "model_module_version": "1.2.0",
          "state": {
            "_model_module": "@jupyter-widgets/base",
            "_model_module_version": "1.2.0",
            "_model_name": "LayoutModel",
            "_view_count": null,
            "_view_module": "@jupyter-widgets/base",
            "_view_module_version": "1.2.0",
            "_view_name": "LayoutView",
            "align_content": null,
            "align_items": null,
            "align_self": null,
            "border": null,
            "bottom": null,
            "display": null,
            "flex": null,
            "flex_flow": null,
            "grid_area": null,
            "grid_auto_columns": null,
            "grid_auto_flow": null,
            "grid_auto_rows": null,
            "grid_column": null,
            "grid_gap": null,
            "grid_row": null,
            "grid_template_areas": null,
            "grid_template_columns": null,
            "grid_template_rows": null,
            "height": null,
            "justify_content": null,
            "justify_items": null,
            "left": null,
            "margin": null,
            "max_height": null,
            "max_width": null,
            "min_height": null,
            "min_width": null,
            "object_fit": null,
            "object_position": null,
            "order": null,
            "overflow": null,
            "overflow_x": null,
            "overflow_y": null,
            "padding": null,
            "right": null,
            "top": null,
            "visibility": null,
            "width": null
          }
        },
        "d6a0757dbe1f45ac8b64e86c3104175a": {
          "model_module": "@jupyter-widgets/base",
          "model_name": "LayoutModel",
          "model_module_version": "1.2.0",
          "state": {
            "_model_module": "@jupyter-widgets/base",
            "_model_module_version": "1.2.0",
            "_model_name": "LayoutModel",
            "_view_count": null,
            "_view_module": "@jupyter-widgets/base",
            "_view_module_version": "1.2.0",
            "_view_name": "LayoutView",
            "align_content": null,
            "align_items": null,
            "align_self": null,
            "border": null,
            "bottom": null,
            "display": null,
            "flex": null,
            "flex_flow": null,
            "grid_area": null,
            "grid_auto_columns": null,
            "grid_auto_flow": null,
            "grid_auto_rows": null,
            "grid_column": null,
            "grid_gap": null,
            "grid_row": null,
            "grid_template_areas": null,
            "grid_template_columns": null,
            "grid_template_rows": null,
            "height": null,
            "justify_content": null,
            "justify_items": null,
            "left": null,
            "margin": null,
            "max_height": null,
            "max_width": null,
            "min_height": null,
            "min_width": null,
            "object_fit": null,
            "object_position": null,
            "order": null,
            "overflow": null,
            "overflow_x": null,
            "overflow_y": null,
            "padding": null,
            "right": null,
            "top": null,
            "visibility": null,
            "width": null
          }
        },
        "b25ffa03e57342688c84ff33bf4e923e": {
          "model_module": "@jupyter-widgets/controls",
          "model_name": "DescriptionStyleModel",
          "model_module_version": "1.5.0",
          "state": {
            "_model_module": "@jupyter-widgets/controls",
            "_model_module_version": "1.5.0",
            "_model_name": "DescriptionStyleModel",
            "_view_count": null,
            "_view_module": "@jupyter-widgets/base",
            "_view_module_version": "1.2.0",
            "_view_name": "StyleView",
            "description_width": ""
          }
        },
        "62593fcdb3f3401b80364fac8174f176": {
          "model_module": "@jupyter-widgets/base",
          "model_name": "LayoutModel",
          "model_module_version": "1.2.0",
          "state": {
            "_model_module": "@jupyter-widgets/base",
            "_model_module_version": "1.2.0",
            "_model_name": "LayoutModel",
            "_view_count": null,
            "_view_module": "@jupyter-widgets/base",
            "_view_module_version": "1.2.0",
            "_view_name": "LayoutView",
            "align_content": null,
            "align_items": null,
            "align_self": null,
            "border": null,
            "bottom": null,
            "display": null,
            "flex": null,
            "flex_flow": null,
            "grid_area": null,
            "grid_auto_columns": null,
            "grid_auto_flow": null,
            "grid_auto_rows": null,
            "grid_column": null,
            "grid_gap": null,
            "grid_row": null,
            "grid_template_areas": null,
            "grid_template_columns": null,
            "grid_template_rows": null,
            "height": null,
            "justify_content": null,
            "justify_items": null,
            "left": null,
            "margin": null,
            "max_height": null,
            "max_width": null,
            "min_height": null,
            "min_width": null,
            "object_fit": null,
            "object_position": null,
            "order": null,
            "overflow": null,
            "overflow_x": null,
            "overflow_y": null,
            "padding": null,
            "right": null,
            "top": null,
            "visibility": null,
            "width": null
          }
        },
        "35bf9ee4dc6047d688208acf2a5cd500": {
          "model_module": "@jupyter-widgets/controls",
          "model_name": "ProgressStyleModel",
          "model_module_version": "1.5.0",
          "state": {
            "_model_module": "@jupyter-widgets/controls",
            "_model_module_version": "1.5.0",
            "_model_name": "ProgressStyleModel",
            "_view_count": null,
            "_view_module": "@jupyter-widgets/base",
            "_view_module_version": "1.2.0",
            "_view_name": "StyleView",
            "bar_color": null,
            "description_width": ""
          }
        },
        "382e8add3a1a4fa3b8f1dabcf6a30d5b": {
          "model_module": "@jupyter-widgets/base",
          "model_name": "LayoutModel",
          "model_module_version": "1.2.0",
          "state": {
            "_model_module": "@jupyter-widgets/base",
            "_model_module_version": "1.2.0",
            "_model_name": "LayoutModel",
            "_view_count": null,
            "_view_module": "@jupyter-widgets/base",
            "_view_module_version": "1.2.0",
            "_view_name": "LayoutView",
            "align_content": null,
            "align_items": null,
            "align_self": null,
            "border": null,
            "bottom": null,
            "display": null,
            "flex": null,
            "flex_flow": null,
            "grid_area": null,
            "grid_auto_columns": null,
            "grid_auto_flow": null,
            "grid_auto_rows": null,
            "grid_column": null,
            "grid_gap": null,
            "grid_row": null,
            "grid_template_areas": null,
            "grid_template_columns": null,
            "grid_template_rows": null,
            "height": null,
            "justify_content": null,
            "justify_items": null,
            "left": null,
            "margin": null,
            "max_height": null,
            "max_width": null,
            "min_height": null,
            "min_width": null,
            "object_fit": null,
            "object_position": null,
            "order": null,
            "overflow": null,
            "overflow_x": null,
            "overflow_y": null,
            "padding": null,
            "right": null,
            "top": null,
            "visibility": null,
            "width": null
          }
        },
        "61a69ab03c3843e7bee7f08277765292": {
          "model_module": "@jupyter-widgets/controls",
          "model_name": "DescriptionStyleModel",
          "model_module_version": "1.5.0",
          "state": {
            "_model_module": "@jupyter-widgets/controls",
            "_model_module_version": "1.5.0",
            "_model_name": "DescriptionStyleModel",
            "_view_count": null,
            "_view_module": "@jupyter-widgets/base",
            "_view_module_version": "1.2.0",
            "_view_name": "StyleView",
            "description_width": ""
          }
        }
      }
    }
  },
  "nbformat": 4,
  "nbformat_minor": 0
}