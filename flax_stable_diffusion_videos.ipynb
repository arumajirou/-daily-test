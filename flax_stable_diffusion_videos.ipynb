{
  "cells": [
    {
      "cell_type": "markdown",
      "metadata": {
        "id": "view-in-github",
        "colab_type": "text"
      },
      "source": [
        "<a href=\"https://colab.research.google.com/github/arumajirou/-daily-test/blob/main/flax_stable_diffusion_videos.ipynb\" target=\"_parent\"><img src=\"https://colab.research.google.com/assets/colab-badge.svg\" alt=\"Open In Colab\"/></a>"
      ]
    },
    {
      "cell_type": "markdown",
      "metadata": {
        "id": "z4GhhH25OdYq"
      },
      "source": [
        "# 亜麻の安定拡散動画\n",
        "\n",
        "このノートブックでは、[Stable Diffusion](https://github.com/CompVis/stable-diffusion)の潜在空間を、推論を高速化するTPUを使って補間することで動画を生成することができます。\n",
        "\n",
        "標準的なColab GPUと比較すると、初回実行後に〜6倍高速に動作します。最初の実行は、コードをコンパイルするので、GPU版と同等です。\n",
        "\n",
        "...問題や機能に関する要望はこちらで受け付けています](https://github.com/nateraw/stable-diffusion-videos/issues)\n",
        "\n",
        "お楽しみに🤗。"
      ]
    },
    {
      "cell_type": "markdown",
      "metadata": {
        "id": "dvdCBpWWOhW-"
      },
      "source": [
        "## Setup"
      ]
    },
    {
      "cell_type": "code",
      "source": [
        "#@title JAXのセットアップ\n",
        "#@markdown エラーが表示される場合は、TPUバックエンドを使用していることを確認してください。上のメニューで`Runtime`を選択し、\"Change runtime type \"というオプションを選択し、`Hardware accelerator`の設定で`TPU`を選択してください。\n",
        "!pip install --upgrade jax jaxlib \n",
        "\n",
        "import jax.tools.colab_tpu\n",
        "jax.tools.colab_tpu.setup_tpu('tpu_driver_20221011')\n",
        "\n",
        "!pip install flax diffusers transformers ftfy\n",
        "jax.devices()"
      ],
      "metadata": {
        "id": "5EZdSq4HtmcE"
      },
      "execution_count": null,
      "outputs": []
    },
    {
      "cell_type": "code",
      "execution_count": null,
      "metadata": {
        "id": "Xwfc0ej1L9A0"
      },
      "outputs": [],
      "source": [
        "%%capture\n",
        "! pip install stable_diffusion_videos"
      ]
    },
    {
      "cell_type": "markdown",
      "metadata": {
        "id": "H7UOKJhVOonb"
      },
      "source": [
        "## アプリの実行 🚀」。"
      ]
    },
    {
      "cell_type": "markdown",
      "metadata": {
        "id": "g71hslP8OntM"
      },
      "source": [
        "### インターフェイスの読み込み\n",
        "\n",
        "このステップは、初めて実行する場合は数分かかります。"
      ]
    },
    {
      "cell_type": "code",
      "execution_count": null,
      "metadata": {
        "id": "bgSNS368L-DV"
      },
      "outputs": [],
      "source": [
        "import numpy as np\n",
        "import jax\n",
        "import jax.numpy as jnp\n",
        "\n",
        "from jax import pmap\n",
        "from flax.jax_utils import replicate\n",
        "from flax.training.common_utils import shard\n",
        "from PIL import Image\n",
        "\n",
        "from stable_diffusion_videos import FlaxStableDiffusionWalkPipeline, Interface\n",
        "\n",
        "pipeline, params = FlaxStableDiffusionWalkPipeline.from_pretrained(\n",
        "    \"CompVis/stable-diffusion-v1-4\", \n",
        "    revision=\"bf16\", \n",
        "    dtype=jnp.bfloat16\n",
        ")\n",
        "p_params = replicate(params)\n",
        "\n",
        "interface = Interface(pipeline, params=p_params)"
      ]
    },
    {
      "cell_type": "code",
      "execution_count": null,
      "metadata": {
        "id": "kidtsR3c2P9Z"
      },
      "outputs": [],
      "source": [
        "#@title Google Driveと連携して出力を保存\n",
        "\n",
        "#@markdown Google Driveを接続する場合は、下のチェックボックスをクリックし、このセルを実行してください。認証のためのプロンプトが表示されます。\n",
        "\n",
        "#@markdown このColabセッションで出力したものを保存するだけなら、このセルを気にする必要はないでしょう\n",
        "\n",
        "connect_google_drive = True #@param {type:\"boolean\"}\n",
        "\n",
        "#@markdown そして、インターフェイスの「ビデオ」タブで、このパスを「出力」として使い、Google Driveに動画を保存します：\n",
        "\n",
        "#@markdown > /content/gdrive/MyDrive/stable_diffusion_videos\n",
        "\n",
        "\n",
        "if connect_google_drive:\n",
        "    from google.colab import drive\n",
        "\n",
        "    drive.mount('/content/gdrive')"
      ]
    },
    {
      "cell_type": "markdown",
      "metadata": {
        "id": "VxjRVNnMOtgU"
      },
      "source": [
        "### 起動\n",
        "\n",
        "Gradioのインターフェイスを起動するセルです。ここでは、その使い方を提案します：\n",
        "\n",
        "1.画像」タブを使って、好きな画像を生成する - 間でモーフィングしたい2つの画像を見つける - これらの画像は同じ設定（ガイダンススケール、高さ、幅）を使用する - 使用した種/設定を記録しておくと、以下の ...<id-number>.gradio.app` 、フルスクリーンで見ることができるようになるはずです。"
      ]
    },
    {
      "cell_type": "code",
      "execution_count": null,
      "metadata": {
        "id": "8es3_onUOL3J"
      },
      "outputs": [],
      "source": [
        "interface.launch(debug=True)"
      ]
    },
    {
      "cell_type": "markdown",
      "metadata": {
        "id": "mFCoTvlnPi4u"
      },
      "source": [
        "---"
      ]
    },
    {
      "cell_type": "markdown",
      "metadata": {
        "id": "SjTQLCiLOWeo"
      },
      "source": [
        "## プログラムで `walk` を使用する\n",
        "\n",
        "もう一つの選択肢は、インターフェイスを使用せず、代わりにプログラムで `walk` を使用することです。その方法は以下の通りです..."
      ]
    },
    {
      "cell_type": "markdown",
      "metadata": {
        "id": "fGQPClGwOR9R"
      },
      "source": [
        "まず、Colabで動画を可視化するためのヘルパーfnを定義します。"
      ]
    },
    {
      "cell_type": "code",
      "execution_count": null,
      "metadata": {
        "id": "GqTWc8ZhNeLU"
      },
      "outputs": [],
      "source": [
        "from IPython.display import HTML\n",
        "from base64 import b64encode\n",
        "\n",
        "def visualize_video_colab(video_path):\n",
        "    mp4 = open(video_path,'rb').read()\n",
        "    data_url = \"data:video/mp4;base64,\" + b64encode(mp4).decode()\n",
        "    return HTML(\"\"\"\n",
        "    <video width=400 controls>\n",
        "        <source src=\"%s\" type=\"video/mp4\">\n",
        "    </video>\n",
        "    \"\"\" % data_url)"
      ]
    },
    {
      "cell_type": "markdown",
      "metadata": {
        "id": "Vd_RzwkoPM7X"
      },
      "source": [
        "Walk! 🚶‍♀️"
      ]
    },
    {
      "cell_type": "code",
      "execution_count": null,
      "metadata": {
        "id": "Hv2wBZXXMQ-I"
      },
      "outputs": [],
      "source": [
        "video_path = pipeline.walk(\n",
        "    p_params,\n",
        "    ['a cat', 'a dog'],\n",
        "    [42, 1337],\n",
        "    fps=5, # テストには5を、より良い品質を求めるなら25または30を使用する。\n",
        "    num_interpolation_steps=30, # テストには3-5を使用し、より良い結果を得るには30以上を使用する。\n",
        "    height=512, # 512を超える場合は64の倍数を使用。< 512の場合は8の倍数。\n",
        "    width=512, # 512を超える場合は64の倍数を使用。< 512の場合は8の倍数。\n",
        "    jit=True # 全てのTPUコアを使用する場合\n",
        "    )\n",
        "visualize_video_colab(video_path)"
      ]
    },
    {
      "cell_type": "markdown",
      "metadata": {
        "id": "oLXULBMwSDnY"
      },
      "source": [
        "### ボーナス音楽ビデオ\n",
        "\n",
        "まず、`youtube-dl`をインストールする必要があります。"
      ]
    },
    {
      "cell_type": "code",
      "source": [
        "%%capture\n",
        "! pip install youtube-dl"
      ],
      "metadata": {
        "id": "302zMC44aiC6"
      },
      "execution_count": null,
      "outputs": []
    },
    {
      "cell_type": "markdown",
      "source": [
        "次に、例の音楽ファイルをダウンロードすることができます。\n",
        "ここでは、私のサウンドクラウドから1つダウンロードします："
      ],
      "metadata": {
        "id": "Q3gCLCkLanzO"
      }
    },
    {
      "cell_type": "code",
      "source": [
        "! youtube-dl -f bestaudio --extract-audio --audio-format mp3 --audio-quality 0 -o \"music/thoughts.%(ext)s\" https://soundcloud.com/nateraw/thoughts"
      ],
      "metadata": {
        "id": "rEsTe_ujagE5"
      },
      "execution_count": null,
      "outputs": []
    },
    {
      "cell_type": "code",
      "source": [
        "from IPython.display import Audio\n",
        "\n",
        "Audio(filename='music/thoughts.mp3')"
      ],
      "metadata": {
        "id": "RIKA-l5la28j"
      },
      "execution_count": null,
      "outputs": []
    },
    {
      "cell_type": "code",
      "execution_count": null,
      "metadata": {
        "id": "DsIxXFTKSG5j"
      },
      "outputs": [],
      "source": [
        "#曲中の秒数\n",
        "audio_offsets = [7, 9]\n",
        "fps = 8\n",
        "\n",
        "# 秒をフレームに変換する\n",
        "num_interpolation_steps = [(b-a) * fps for a, b in zip(audio_offsets, audio_offsets[1:])]\n",
        "\n",
        "video_path = pipeline.walk(\n",
        "    p_params,\n",
        "    prompts=['blueberry spaghetti', 'strawberry spaghetti'],\n",
        "    seeds=[42, 1337],\n",
        "    num_interpolation_steps=num_interpolation_steps,\n",
        "    height=512,                           # 64の倍数を使用する\n",
        "    width=512,                             # 64の倍数を使用する\n",
        "    audio_filepath='music/thoughts.mp3',   # 独自のファイルを使用する\n",
        "    audio_start_sec=audio_offsets[0],     # 提供された音声のうち2つ目を開始する\n",
        "    fps=fps,                               # 定義したnum_interpolation_stepsに基づいて設定することが重要です。\n",
        "    batch_size=2,                          # TPU-v2では、512x512で最大3個です。\n",
        "    output_dir='./dreams',                 # 画像が保存される場所\n",
        "    name=None,                             # 出力ディレクトリのサブディレクトリは、デフォルトでタイムスタンプになります。\n",
        "    jit=True                               # すべてのTPUコアを使用するために\n",
        ")\n",
        "visualize_video_colab(video_path)"
      ]
    }
  ],
  "metadata": {
    "accelerator": "TPU",
    "colab": {
      "provenance": [],
      "include_colab_link": true
    },
    "gpuClass": "standard",
    "kernelspec": {
      "display_name": "Python 3.9.12 ('base')",
      "language": "python",
      "name": "python3"
    },
    "language_info": {
      "codemirror_mode": {
        "name": "ipython",
        "version": 3
      },
      "file_extension": ".py",
      "mimetype": "text/x-python",
      "name": "python",
      "nbconvert_exporter": "python",
      "pygments_lexer": "ipython3",
      "version": "3.9.12"
    },
    "vscode": {
      "interpreter": {
        "hash": "7d7b96a25c39fa7937ff3ab94e1dd8c63b93cb924b8f0093093c6266e25a78bc"
      }
    }
  },
  "nbformat": 4,
  "nbformat_minor": 0
}