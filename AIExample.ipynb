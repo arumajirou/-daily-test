{
  "cells": [
    {
      "cell_type": "markdown",
      "metadata": {
        "id": "view-in-github",
        "colab_type": "text"
      },
      "source": [
        "<a href=\"https://colab.research.google.com/github/arumajirou/-daily-test/blob/main/AIExample.ipynb\" target=\"_parent\"><img src=\"https://colab.research.google.com/assets/colab-badge.svg\" alt=\"Open In Colab\"/></a>"
      ]
    },
    {
      "cell_type": "markdown",
      "metadata": {
        "id": "TPQXCT8w8AHZ"
      },
      "source": [
        "\n",
        "# **Pandas TAとAI/MLによる戦略分析**\n",
        "* これはWork in Progress(進行中の作業で)であり、変更される可能性があります。\n",
        "* 寄贈は大歓迎、受付中です\n",
        "* 以下の例は、教育目的でのみ使用されています。\n",
        "* 注意: watchlistモジュールは Pandas TA から独立しています。\n",
        "* 簡単に使用*するには、ローカルのpandas_taインストールディレクトリからプロジェクトディレクトリにコピーしてください。"
      ]
    },
    {
      "cell_type": "markdown",
      "source": [
        "# **Pandas TA**\n",
        "Pandas Technical Analysis(Pandas TA)(パンダステクニカル分析)は、\n",
        "- 130以上のインディケータ(指標)とユーティリティ(実用性)関数、\n",
        "- 60以上のTA Libキャンドルスティックパターン(ローソク足類型)を持つPandasパッケージを活用した使いやすいライブラリです。\n",
        "\n",
        "よく使われる指標も多く含まれており、以下のようなものがあります。\n",
        "\n",
        "- **キャンドルパターン(cdl_pattern)**ローソク足類型\n",
        "- **単純移動平均(sma)** 株式相場・外国為替相場・金相場など様々な金融商品の動きを一つの流れとして捉えることができる\n",
        "- **移動平均収束乖離(macd)**（通称マックディー）,移動平均の発展版で、更に売買シグナルにおいて精度を高くした、トレンド分析の中でも人気のある指標の一つ\n",
        "- **外皮指数移動平均(hma)**移動平均線よりも直近のデータに比重を置き算出する移動平均線です。\n",
        "- **ボリンジャーバンド(bbands)**米国の投資家ジョン・ボリンジャーが考案したテクニカルチャートのひとつで、移動平均線とその上下2本ずつの標準偏差からなる線の計5本の線で表わされます。\n",
        "- **オンバランスボリューム(obv)**オンバランスは「差し引き」でボリュームは「出来高」という意味で、値上がりした日の出来高をすべて正、値下がりしたときの出来高をすべて負として、それらを合計したもので出来高を計算するという方法です。 オンバランスボリュームがトレンドを維持しつつ上昇するときは買い、その逆は売りと判断されます。\n",
        "- **Aroon & Aroon Oscillator(aroon)**トレンドの強弱を示すテクニカル指標,\n",
        "- **スクイーズ(squeeze)**ショートスクイズとは、株式市場にてファンダメンタルズではなく市場の技術的要因によって株価が急騰する現象\n",
        "などなど、よく使われる指標が含まれています。\n",
        "\n",
        "注意： すべての キャンドルスティックパターンを使用するには、TA Libを インストールする必要があります。\n",
        "\n",
        "TA Libがインストールされていない場合、内蔵のキャンドルスティックパターンのみが利用可能です。"
      ],
      "metadata": {
        "id": "FqAZspkCM6Q-"
      }
    },
    {
      "cell_type": "markdown",
      "source": [
        "- 130以上のインジケータとユーティリティ機能を搭載しています。\n",
        "- BETAまた、Pandas TAではTA Libのバージョンが動作し、これにはTA Libの63のチャートパターンが含まれています。\n",
        "- Pythonの指標は、デファクト TA Libと共通の指標を持つ場合、密接な相関がある。\n",
        "- TA Libもインストールされている場合、TA Libの計算はデフォルトで有効ですが、引数talib=Falseを使用して指標ごとに無効にすることができます。\n",
        "** 例えば、標準偏差のTA Lib計算を無効にするには、ta.stdev(df[\"close\"], length=30, talib=False)とします。\n",
        "* NEW!ビルトインされたPandas TA指標とは独立した外部カスタム指標をインクルードすることができます。詳細は、/pandas_ta/custom.py のimport_dirのドキュメントを参照してください。\n",
        "* Pandas TAのta.tsignalsメソッドによるvectorbtポートフォリオバックテストのJupyter Notebook例。\n",
        "* スピードの必要性をお持ちですか？DataFrameストラテジーメソッドを使用することで マルチプロセシングを無料で手に入れることができます。条件が許す限り\n",
        "* カラム名に接頭辞や 接尾辞、またはその両方を簡単に追加することができます。Custom Chained Strategiesに便利です。\n",
        "* examplesディレクトリの下にあるJupyter Notebooksの例、新しいStrategyクラスを使用したCustom Strategiesの作成方法を含む\n",
        "* 潜在的なデータリーク：dpoとichimoku。詳しくは下記のインジケーターリストをご覧ください。lookahead=Falseを設定し、無効にしてください。"
      ],
      "metadata": {
        "id": "le6HB1IRPWrA"
      }
    },
    {
      "cell_type": "markdown",
      "metadata": {
        "id": "Bdlbrzf_8AHo"
      },
      "source": [
        "### 必要なパッケージ\n",
        "##### インストールが必要なパッケージや不足しているパッケージのアンコメントを行う"
      ]
    },
    {
      "cell_type": "code",
      "source": [
        "# 必要なパッケージのインストール\n",
        "!pip install numpy #\"数値演算用\"\n",
        "!pip install pandas #\"データ操作・解析用\"\n",
        "!pip install mplfinance #\"金融データのプロット\"\n",
        "!pip install pandas-datareader #\"様々なソースからの金融データへのアクセス用\"\n",
        "!pip install requests_cache #\"HTTPリクエストのキャッシュ\"\n",
        "!pip install tqdm #\"プログレスバー表示用\"\n",
        "!pip install alphaVantage-api #\"AlphaVantageから金融データにアクセスするため\"\n",
        "!pip install pandas_ta #\"pandasを使ったテクニカル分析用\"\n",
        "!pip install Watchlist #\"金融商品のウォッチリストを作成・管理する\""
      ],
      "metadata": {
        "colab": {
          "base_uri": "https://localhost:8080/"
        },
        "id": "5oBFvYkUuyTm",
        "outputId": "1dc66a1d-2c95-4ce7-cb51-8b7aeb1386a4"
      },
      "execution_count": 9,
      "outputs": [
        {
          "output_type": "stream",
          "name": "stdout",
          "text": [
            "Looking in indexes: https://pypi.org/simple, https://us-python.pkg.dev/colab-wheels/public/simple/\n",
            "Requirement already satisfied: numpy in /usr/local/lib/python3.8/dist-packages (1.21.6)\n",
            "Looking in indexes: https://pypi.org/simple, https://us-python.pkg.dev/colab-wheels/public/simple/\n",
            "Requirement already satisfied: pandas in /usr/local/lib/python3.8/dist-packages (1.3.5)\n",
            "Requirement already satisfied: pytz>=2017.3 in /usr/local/lib/python3.8/dist-packages (from pandas) (2022.7)\n",
            "Requirement already satisfied: numpy>=1.17.3 in /usr/local/lib/python3.8/dist-packages (from pandas) (1.21.6)\n",
            "Requirement already satisfied: python-dateutil>=2.7.3 in /usr/local/lib/python3.8/dist-packages (from pandas) (2.8.2)\n",
            "Requirement already satisfied: six>=1.5 in /usr/local/lib/python3.8/dist-packages (from python-dateutil>=2.7.3->pandas) (1.15.0)\n",
            "Looking in indexes: https://pypi.org/simple, https://us-python.pkg.dev/colab-wheels/public/simple/\n",
            "Requirement already satisfied: mplfinance in /usr/local/lib/python3.8/dist-packages (0.12.9b7)\n",
            "Requirement already satisfied: pandas in /usr/local/lib/python3.8/dist-packages (from mplfinance) (1.3.5)\n",
            "Requirement already satisfied: matplotlib in /usr/local/lib/python3.8/dist-packages (from mplfinance) (3.2.2)\n",
            "Requirement already satisfied: python-dateutil>=2.1 in /usr/local/lib/python3.8/dist-packages (from matplotlib->mplfinance) (2.8.2)\n",
            "Requirement already satisfied: pyparsing!=2.0.4,!=2.1.2,!=2.1.6,>=2.0.1 in /usr/local/lib/python3.8/dist-packages (from matplotlib->mplfinance) (3.0.9)\n",
            "Requirement already satisfied: kiwisolver>=1.0.1 in /usr/local/lib/python3.8/dist-packages (from matplotlib->mplfinance) (1.4.4)\n",
            "Requirement already satisfied: cycler>=0.10 in /usr/local/lib/python3.8/dist-packages (from matplotlib->mplfinance) (0.11.0)\n",
            "Requirement already satisfied: numpy>=1.11 in /usr/local/lib/python3.8/dist-packages (from matplotlib->mplfinance) (1.21.6)\n",
            "Requirement already satisfied: pytz>=2017.3 in /usr/local/lib/python3.8/dist-packages (from pandas->mplfinance) (2022.7)\n",
            "Requirement already satisfied: six>=1.5 in /usr/local/lib/python3.8/dist-packages (from python-dateutil>=2.1->matplotlib->mplfinance) (1.15.0)\n",
            "Looking in indexes: https://pypi.org/simple, https://us-python.pkg.dev/colab-wheels/public/simple/\n",
            "Requirement already satisfied: pandas-datareader in /usr/local/lib/python3.8/dist-packages (0.9.0)\n",
            "Requirement already satisfied: requests>=2.19.0 in /usr/local/lib/python3.8/dist-packages (from pandas-datareader) (2.25.1)\n",
            "Requirement already satisfied: lxml in /usr/local/lib/python3.8/dist-packages (from pandas-datareader) (4.9.2)\n",
            "Requirement already satisfied: pandas>=0.23 in /usr/local/lib/python3.8/dist-packages (from pandas-datareader) (1.3.5)\n",
            "Requirement already satisfied: pytz>=2017.3 in /usr/local/lib/python3.8/dist-packages (from pandas>=0.23->pandas-datareader) (2022.7)\n",
            "Requirement already satisfied: numpy>=1.17.3 in /usr/local/lib/python3.8/dist-packages (from pandas>=0.23->pandas-datareader) (1.21.6)\n",
            "Requirement already satisfied: python-dateutil>=2.7.3 in /usr/local/lib/python3.8/dist-packages (from pandas>=0.23->pandas-datareader) (2.8.2)\n",
            "Requirement already satisfied: certifi>=2017.4.17 in /usr/local/lib/python3.8/dist-packages (from requests>=2.19.0->pandas-datareader) (2022.12.7)\n",
            "Requirement already satisfied: chardet<5,>=3.0.2 in /usr/local/lib/python3.8/dist-packages (from requests>=2.19.0->pandas-datareader) (4.0.0)\n",
            "Requirement already satisfied: urllib3<1.27,>=1.21.1 in /usr/local/lib/python3.8/dist-packages (from requests>=2.19.0->pandas-datareader) (1.26.13)\n",
            "Requirement already satisfied: idna<3,>=2.5 in /usr/local/lib/python3.8/dist-packages (from requests>=2.19.0->pandas-datareader) (2.10)\n",
            "Requirement already satisfied: six>=1.5 in /usr/local/lib/python3.8/dist-packages (from python-dateutil>=2.7.3->pandas>=0.23->pandas-datareader) (1.15.0)\n",
            "Looking in indexes: https://pypi.org/simple, https://us-python.pkg.dev/colab-wheels/public/simple/\n",
            "Requirement already satisfied: requests_cache in /usr/local/lib/python3.8/dist-packages (0.9.7)\n",
            "Requirement already satisfied: attrs>=21.2 in /usr/local/lib/python3.8/dist-packages (from requests_cache) (22.2.0)\n",
            "Requirement already satisfied: requests>=2.22 in /usr/local/lib/python3.8/dist-packages (from requests_cache) (2.25.1)\n",
            "Requirement already satisfied: cattrs>=22.2 in /usr/local/lib/python3.8/dist-packages (from requests_cache) (22.2.0)\n",
            "Requirement already satisfied: appdirs>=1.4.4 in /usr/local/lib/python3.8/dist-packages (from requests_cache) (1.4.4)\n",
            "Requirement already satisfied: urllib3>=1.25.5 in /usr/local/lib/python3.8/dist-packages (from requests_cache) (1.26.13)\n",
            "Requirement already satisfied: url-normalize>=1.4 in /usr/local/lib/python3.8/dist-packages (from requests_cache) (1.4.3)\n",
            "Requirement already satisfied: exceptiongroup in /usr/local/lib/python3.8/dist-packages (from cattrs>=22.2->requests_cache) (1.1.0)\n",
            "Requirement already satisfied: chardet<5,>=3.0.2 in /usr/local/lib/python3.8/dist-packages (from requests>=2.22->requests_cache) (4.0.0)\n",
            "Requirement already satisfied: certifi>=2017.4.17 in /usr/local/lib/python3.8/dist-packages (from requests>=2.22->requests_cache) (2022.12.7)\n",
            "Requirement already satisfied: idna<3,>=2.5 in /usr/local/lib/python3.8/dist-packages (from requests>=2.22->requests_cache) (2.10)\n",
            "Requirement already satisfied: six in /usr/local/lib/python3.8/dist-packages (from url-normalize>=1.4->requests_cache) (1.15.0)\n",
            "Looking in indexes: https://pypi.org/simple, https://us-python.pkg.dev/colab-wheels/public/simple/\n",
            "Requirement already satisfied: tqdm in /usr/local/lib/python3.8/dist-packages (4.64.1)\n",
            "Looking in indexes: https://pypi.org/simple, https://us-python.pkg.dev/colab-wheels/public/simple/\n",
            "Requirement already satisfied: alphaVantage-api in /usr/local/lib/python3.8/dist-packages (1.0.33)\n",
            "Requirement already satisfied: requests in /usr/local/lib/python3.8/dist-packages (from alphaVantage-api) (2.25.1)\n",
            "Requirement already satisfied: pandas in /usr/local/lib/python3.8/dist-packages (from alphaVantage-api) (1.3.5)\n",
            "Requirement already satisfied: numpy>=1.17.3 in /usr/local/lib/python3.8/dist-packages (from pandas->alphaVantage-api) (1.21.6)\n",
            "Requirement already satisfied: python-dateutil>=2.7.3 in /usr/local/lib/python3.8/dist-packages (from pandas->alphaVantage-api) (2.8.2)\n",
            "Requirement already satisfied: pytz>=2017.3 in /usr/local/lib/python3.8/dist-packages (from pandas->alphaVantage-api) (2022.7)\n",
            "Requirement already satisfied: chardet<5,>=3.0.2 in /usr/local/lib/python3.8/dist-packages (from requests->alphaVantage-api) (4.0.0)\n",
            "Requirement already satisfied: certifi>=2017.4.17 in /usr/local/lib/python3.8/dist-packages (from requests->alphaVantage-api) (2022.12.7)\n",
            "Requirement already satisfied: idna<3,>=2.5 in /usr/local/lib/python3.8/dist-packages (from requests->alphaVantage-api) (2.10)\n",
            "Requirement already satisfied: urllib3<1.27,>=1.21.1 in /usr/local/lib/python3.8/dist-packages (from requests->alphaVantage-api) (1.26.13)\n",
            "Requirement already satisfied: six>=1.5 in /usr/local/lib/python3.8/dist-packages (from python-dateutil>=2.7.3->pandas->alphaVantage-api) (1.15.0)\n",
            "Looking in indexes: https://pypi.org/simple, https://us-python.pkg.dev/colab-wheels/public/simple/\n",
            "Requirement already satisfied: pandas_ta in /usr/local/lib/python3.8/dist-packages (0.3.14b0)\n",
            "Requirement already satisfied: pandas in /usr/local/lib/python3.8/dist-packages (from pandas_ta) (1.3.5)\n",
            "Requirement already satisfied: numpy>=1.17.3 in /usr/local/lib/python3.8/dist-packages (from pandas->pandas_ta) (1.21.6)\n",
            "Requirement already satisfied: python-dateutil>=2.7.3 in /usr/local/lib/python3.8/dist-packages (from pandas->pandas_ta) (2.8.2)\n",
            "Requirement already satisfied: pytz>=2017.3 in /usr/local/lib/python3.8/dist-packages (from pandas->pandas_ta) (2022.7)\n",
            "Requirement already satisfied: six>=1.5 in /usr/local/lib/python3.8/dist-packages (from python-dateutil>=2.7.3->pandas->pandas_ta) (1.15.0)\n",
            "Looking in indexes: https://pypi.org/simple, https://us-python.pkg.dev/colab-wheels/public/simple/\n",
            "Requirement already satisfied: Watchlist in /usr/local/lib/python3.8/dist-packages (0.0.7)\n",
            "Requirement already satisfied: sendgrid in /usr/local/lib/python3.8/dist-packages (from Watchlist) (6.9.7)\n",
            "Requirement already satisfied: prom in /usr/local/lib/python3.8/dist-packages (from Watchlist) (3.1.0)\n",
            "Requirement already satisfied: captain in /usr/local/lib/python3.8/dist-packages (from Watchlist) (3.0.1)\n",
            "Requirement already satisfied: wishlist in /usr/local/lib/python3.8/dist-packages (from Watchlist) (0.5.3)\n",
            "Requirement already satisfied: beautifulsoup4 in /usr/local/lib/python3.8/dist-packages (from Watchlist) (4.6.3)\n",
            "Requirement already satisfied: dsnparse in /usr/local/lib/python3.8/dist-packages (from prom->Watchlist) (0.1.15)\n",
            "Requirement already satisfied: datatypes in /usr/local/lib/python3.8/dist-packages (from prom->Watchlist) (0.2.6)\n",
            "Requirement already satisfied: python-http-client>=3.2.1 in /usr/local/lib/python3.8/dist-packages (from sendgrid->Watchlist) (3.3.7)\n",
            "Requirement already satisfied: starkbank-ecdsa>=2.0.1 in /usr/local/lib/python3.8/dist-packages (from sendgrid->Watchlist) (2.2.0)\n",
            "Requirement already satisfied: brow==0.0.3 in /usr/local/lib/python3.8/dist-packages (from wishlist->Watchlist) (0.0.3)\n",
            "Requirement already satisfied: lxml in /usr/local/lib/python3.8/dist-packages (from wishlist->Watchlist) (4.9.2)\n",
            "Requirement already satisfied: requests in /usr/local/lib/python3.8/dist-packages (from brow==0.0.3->wishlist->Watchlist) (2.25.1)\n",
            "Requirement already satisfied: selenium in /usr/local/lib/python3.8/dist-packages (from brow==0.0.3->wishlist->Watchlist) (4.7.2)\n",
            "Requirement already satisfied: urllib3<1.27,>=1.21.1 in /usr/local/lib/python3.8/dist-packages (from requests->brow==0.0.3->wishlist->Watchlist) (1.26.13)\n",
            "Requirement already satisfied: idna<3,>=2.5 in /usr/local/lib/python3.8/dist-packages (from requests->brow==0.0.3->wishlist->Watchlist) (2.10)\n",
            "Requirement already satisfied: chardet<5,>=3.0.2 in /usr/local/lib/python3.8/dist-packages (from requests->brow==0.0.3->wishlist->Watchlist) (4.0.0)\n",
            "Requirement already satisfied: certifi>=2017.4.17 in /usr/local/lib/python3.8/dist-packages (from requests->brow==0.0.3->wishlist->Watchlist) (2022.12.7)\n",
            "Requirement already satisfied: trio~=0.17 in /usr/local/lib/python3.8/dist-packages (from selenium->brow==0.0.3->wishlist->Watchlist) (0.22.0)\n",
            "Requirement already satisfied: trio-websocket~=0.9 in /usr/local/lib/python3.8/dist-packages (from selenium->brow==0.0.3->wishlist->Watchlist) (0.9.2)\n",
            "Requirement already satisfied: exceptiongroup>=1.0.0rc9 in /usr/local/lib/python3.8/dist-packages (from trio~=0.17->selenium->brow==0.0.3->wishlist->Watchlist) (1.1.0)\n",
            "Requirement already satisfied: outcome in /usr/local/lib/python3.8/dist-packages (from trio~=0.17->selenium->brow==0.0.3->wishlist->Watchlist) (1.2.0)\n",
            "Requirement already satisfied: sniffio in /usr/local/lib/python3.8/dist-packages (from trio~=0.17->selenium->brow==0.0.3->wishlist->Watchlist) (1.3.0)\n",
            "Requirement already satisfied: sortedcontainers in /usr/local/lib/python3.8/dist-packages (from trio~=0.17->selenium->brow==0.0.3->wishlist->Watchlist) (2.4.0)\n",
            "Requirement already satisfied: async-generator>=1.9 in /usr/local/lib/python3.8/dist-packages (from trio~=0.17->selenium->brow==0.0.3->wishlist->Watchlist) (1.10)\n",
            "Requirement already satisfied: attrs>=19.2.0 in /usr/local/lib/python3.8/dist-packages (from trio~=0.17->selenium->brow==0.0.3->wishlist->Watchlist) (22.2.0)\n",
            "Requirement already satisfied: wsproto>=0.14 in /usr/local/lib/python3.8/dist-packages (from trio-websocket~=0.9->selenium->brow==0.0.3->wishlist->Watchlist) (1.2.0)\n",
            "Requirement already satisfied: PySocks!=1.5.7,<2.0,>=1.5.6 in /usr/local/lib/python3.8/dist-packages (from urllib3<1.27,>=1.21.1->requests->brow==0.0.3->wishlist->Watchlist) (1.7.1)\n",
            "Requirement already satisfied: h11<1,>=0.9.0 in /usr/local/lib/python3.8/dist-packages (from wsproto>=0.14->trio-websocket~=0.9->selenium->brow==0.0.3->wishlist->Watchlist) (0.14.0)\n"
          ]
        }
      ]
    },
    {
      "cell_type": "code",
      "source": [
        "#以下のコードは、pandas-taライブラリをインストールするためのものです。\n",
        "#pandas-taライブラリは、株価や指標データを分析するための便利なツールです。\n",
        "#インストールするには、pipというPythonのパッケージ管理ツールを使います。\n",
        "!pip install -U git+https://github.com/twopirllc/pandas-ta\n",
        "\n",
        "#-Uオプションは、既存のpandas-taライブラリをアップグレードするために使われます。\n",
        "#git+https://github.com/twopirllc/pandas-ta の部分は、pandas-taライブラリのあるGitHubリポジトリのURLです。\n",
        "#インストールが完了すると、Pythonプログラムからpandas-taライブラリを使うことができるようになります。"
      ],
      "metadata": {
        "colab": {
          "base_uri": "https://localhost:8080/"
        },
        "id": "osPhDrVkQrv1",
        "outputId": "197addc6-04fc-4bda-d294-7b9d14725d2b"
      },
      "execution_count": 10,
      "outputs": [
        {
          "output_type": "stream",
          "name": "stdout",
          "text": [
            "Looking in indexes: https://pypi.org/simple, https://us-python.pkg.dev/colab-wheels/public/simple/\n",
            "Collecting git+https://github.com/twopirllc/pandas-ta\n",
            "  Cloning https://github.com/twopirllc/pandas-ta to /tmp/pip-req-build-_lgxyyfi\n",
            "  Running command git clone --filter=blob:none --quiet https://github.com/twopirllc/pandas-ta /tmp/pip-req-build-_lgxyyfi\n",
            "  Resolved https://github.com/twopirllc/pandas-ta to commit 084dbe1c4b76082f383fa3029270ea9ac35e4dc7\n",
            "  Preparing metadata (setup.py) ... \u001b[?25l\u001b[?25hdone\n",
            "Requirement already satisfied: pandas in /usr/local/lib/python3.8/dist-packages (from pandas-ta==0.3.14b0) (1.3.5)\n",
            "Requirement already satisfied: numpy>=1.17.3 in /usr/local/lib/python3.8/dist-packages (from pandas->pandas-ta==0.3.14b0) (1.21.6)\n",
            "Requirement already satisfied: python-dateutil>=2.7.3 in /usr/local/lib/python3.8/dist-packages (from pandas->pandas-ta==0.3.14b0) (2.8.2)\n",
            "Requirement already satisfied: pytz>=2017.3 in /usr/local/lib/python3.8/dist-packages (from pandas->pandas-ta==0.3.14b0) (2022.7)\n",
            "Requirement already satisfied: six>=1.5 in /usr/local/lib/python3.8/dist-packages (from python-dateutil>=2.7.3->pandas->pandas-ta==0.3.14b0) (1.15.0)\n"
          ]
        }
      ]
    },
    {
      "cell_type": "code",
      "execution_count": 19,
      "metadata": {
        "id": "SqI_3NV08AHr",
        "outputId": "84f89a14-608d-4076-dab7-266c19d0c309",
        "colab": {
          "base_uri": "https://localhost:8080/",
          "height": 413
        }
      },
      "outputs": [
        {
          "output_type": "stream",
          "name": "stdout",
          "text": [
            "Populating the interactive namespace from numpy and matplotlib\n"
          ]
        },
        {
          "output_type": "error",
          "ename": "ModuleNotFoundError",
          "evalue": "ignored",
          "traceback": [
            "\u001b[0;31m---------------------------------------------------------------------------\u001b[0m",
            "\u001b[0;31mModuleNotFoundError\u001b[0m                       Traceback (most recent call last)",
            "\u001b[0;32m<ipython-input-19-db06560498c6>\u001b[0m in \u001b[0;36m<module>\u001b[0;34m\u001b[0m\n\u001b[1;32m     21\u001b[0m \u001b[0;32mfrom\u001b[0m \u001b[0mtqdm\u001b[0m\u001b[0;34m.\u001b[0m\u001b[0mnotebook\u001b[0m \u001b[0;32mimport\u001b[0m \u001b[0mtrange\u001b[0m\u001b[0;34m,\u001b[0m \u001b[0mtqdm\u001b[0m\u001b[0;34m\u001b[0m\u001b[0;34m\u001b[0m\u001b[0m\n\u001b[1;32m     22\u001b[0m \u001b[0;31m# watchlist モジュールから colors と Watchlist オブジェクトをインポートするために以下の行をアンコメントします。\u001b[0m\u001b[0;34m\u001b[0m\u001b[0;34m\u001b[0m\u001b[0;34m\u001b[0m\u001b[0m\n\u001b[0;32m---> 23\u001b[0;31m \u001b[0;32mfrom\u001b[0m \u001b[0mWatchlist\u001b[0m \u001b[0;32mimport\u001b[0m \u001b[0mcolors\u001b[0m\u001b[0;34m,\u001b[0m \u001b[0mWatchlist\u001b[0m\u001b[0;34m\u001b[0m\u001b[0;34m\u001b[0m\u001b[0m\n\u001b[0m\u001b[1;32m     24\u001b[0m \u001b[0;34m\u001b[0m\u001b[0m\n\u001b[1;32m     25\u001b[0m \u001b[0;31m# インポートしたライブラリのバージョンを表示する\u001b[0m\u001b[0;34m\u001b[0m\u001b[0;34m\u001b[0m\u001b[0;34m\u001b[0m\u001b[0m\n",
            "\u001b[0;31mModuleNotFoundError\u001b[0m: No module named 'Watchlist'",
            "",
            "\u001b[0;31m---------------------------------------------------------------------------\u001b[0;32m\nNOTE: If your import is failing due to a missing package, you can\nmanually install dependencies using either !pip or !apt.\n\nTo view examples of installing some common dependencies, click the\n\"Open Examples\" button below.\n\u001b[0;31m---------------------------------------------------------------------------\u001b[0m\n"
          ],
          "errorDetails": {
            "actions": [
              {
                "action": "open_url",
                "actionText": "Open Examples",
                "url": "/notebooks/snippets/importing_libraries.ipynb"
              }
            ]
          }
        }
      ],
      "source": [
        "\n",
        "\n",
        "# インラインプロットを有効にする\n",
        "%pylab inline\n",
        "\n",
        "# 必要なライブラリのインポート\n",
        "import datetime as dt # 日付を扱う。\n",
        "import random as rnd # 乱数生成用\n",
        "from sys import float_info as sflt # floatデータ型に関する情報にアクセスするため．\n",
        "from tqdm import tqdm # プログレスバーを作成するため\n",
        "import numpy as np # 数値計算用\n",
        "import pandas as pd # データフレームを扱うため\n",
        "\n",
        "# 100 行 20 列で表示するように pandas のオプションを設定する\n",
        "pd.set_option(\"max_rows\", 100)\n",
        "pd.set_option(\"max_columns\", 20)\n",
        "\n",
        "# mplfinance と pandas_ta ライブラリをインポートする。\n",
        "import mplfinance as mpf # 金融データのプロット用\n",
        "import pandas_ta as ta # テクニカル分析用\n",
        "\n",
        "# trange と tqdm の関数を tqdm.notebook モジュールからインポート\n",
        "from tqdm.notebook import trange, tqdm\n",
        "# watchlist モジュールから colors と Watchlist オブジェクトをインポートするために以下の行をアンコメントします。\n",
        "from watchlist import colors, Watchlist\n",
        "\n",
        "# インポートしたライブラリのバージョンを表示する\n",
        "print(f\"Numpy v{np.__version__}\")\n",
        "print(f\"Pandas v{pd.__version__}\")\n",
        "print(f\"mplfinance v{mpf.__version__}\")\n",
        "print(f\"\\nPandas TA v{ta.version}To install the Latest Version:\\n$ pip install -U git+https://github.com/twopirllc/pandas-ta╱\")\n",
        "\n",
        "# matplotlibのインライン描画を有効にする\n",
        "%matplotlib inline\n",
        "\n",
        "\n"
      ]
    },
    {
      "cell_type": "markdown",
      "source": [
        "# **エラー**\n",
        "- このエラーメッセージは、モジュール watchlist に colors という属性がないことを告げています。\n",
        "\n",
        "- おそらく、watchlistモジュールからcolorsをインポートしようとしているが、\n",
        "- それが存在しないのでしょう。\n",
        "- このエラーを修正するには、\n",
        "- 正しい属性またはモジュールをインポートしていることを確認する必要があります。\n",
        "\n",
        "- 以下は、あなたが試すことができるいくつかのことです。\n",
        "\n",
        " - 属性名またはモジュール名のスペルが正しいことを確認します。\n",
        " - watchlist モジュールが正しくインストールされ、Python 環境で利用可能であることを確認します。\n",
        " - watchlist モジュールのドキュメントをチェックして、colors 属性またはモジュールに関する情報があるかどうかを確認します。\n",
        " - 他のモジュールやパッケージから colors をインポートしようとしている場合、\n",
        " - そのモジュールやパッケージが正しくインポートされていることを確認してください。\n",
        "\n"
      ],
      "metadata": {
        "id": "2OZNa6Tfzrhr"
      }
    },
    {
      "cell_type": "markdown",
      "metadata": {
        "id": "SlCpoc__8AHs"
      },
      "source": [
        "### MISC Function(s)"
      ]
    },
    {
      "cell_type": "code",
      "source": [
        "\n",
        "\n",
        "def recent_bars(df, tf: str = \"1y\"):\n",
        "    # この辞書は, 時間軸の文字列を, 対応する年の除数に対応付けます.\n",
        "    # 例えば, tfが \"4y \"の場合, ydは4年を表す0.25に設定されます.\n",
        "    yearly_divisor = {\n",
        "    \"all\":0, # 全てのデータ\n",
        "    \"10y\":0.1, # 過去10年分\n",
        "    \"5y\":0.2, # 過去5年分\n",
        "    \"4y\":0.25, # 最近4年間\n",
        "    \"3y\":1./3, # 過去3年間\n",
        "    \"2y\":0.5, # 最近2年間\n",
        "    \"1y\":1, # 最近1年間\n",
        "    \"6mo\":2, # 最近6ヶ月間\n",
        "    \"3mo\":4 # 過去3ヶ月\n",
        "    }\n",
        "    # ユーザが指定した時間枠が辞書に含まれている場合, ydに対応する値を設定する.\n",
        "    # そうでない場合は、ydに0をセットする。\n",
        "    yd = yearly_divisor[tf] if tf in yearly_divisor.keys() else 0\n",
        "    # ydが0より大きい場合、1年間の取引日数をydで割った値を返す。\n",
        "    # そうでない場合は、データフレームの行数を返します。\n",
        "    return int(ta.RATE[\"TRADING_DAYS_PER_YEAR\"] / yd) if yd > 0 else df.shape[0]\n",
        "\n"
      ],
      "metadata": {
        "id": "9HnyAYFnyVND"
      },
      "execution_count": 4,
      "outputs": []
    },
    {
      "cell_type": "markdown",
      "source": [
        "- この関数は、データフレームdfとタイムフレーム文字列tfを取り込む。\n",
        " - tfのデフォルト値は \"1y \"で、これは1年を表している。\n",
        " - この関数は、tfで指定された時間枠に対応するdfの行数を返します。\n",
        " - 例えば、tfが \"4y \"の場合、この関数は、過去4年間に対応するdfの行の数を返す。\n",
        " - tfが辞書yearly_divisorにない場合、この関数はdfの行数を返す。"
      ],
      "metadata": {
        "id": "hCBZ2g1Kymbr"
      }
    },
    {
      "cell_type": "markdown",
      "metadata": {
        "id": "QPWM414I8AHt"
      },
      "source": [
        "## データ収集"
      ]
    },
    {
      "cell_type": "code",
      "execution_count": 5,
      "metadata": {
        "id": "Y1GcbJTG8AHu",
        "outputId": "0d7f1a8a-6261-42b7-8b16-53a051d53487",
        "colab": {
          "base_uri": "https://localhost:8080/",
          "height": 257
        }
      },
      "outputs": [
        {
          "output_type": "error",
          "ename": "NameError",
          "evalue": "ignored",
          "traceback": [
            "\u001b[0;31m---------------------------------------------------------------------------\u001b[0m",
            "\u001b[0;31mNameError\u001b[0m                                 Traceback (most recent call last)",
            "\u001b[0;32m<ipython-input-5-4000d232692c>\u001b[0m in \u001b[0;36m<module>\u001b[0;34m\u001b[0m\n\u001b[1;32m      6\u001b[0m \u001b[0;34m\u001b[0m\u001b[0m\n\u001b[1;32m      7\u001b[0m \u001b[0;31m# 指定されたティッカーと時間枠を持つ Watchlist オブジェクトを初期化し、Yahoo Finance をデータソースとして使用します。\u001b[0m\u001b[0;34m\u001b[0m\u001b[0;34m\u001b[0m\u001b[0;34m\u001b[0m\u001b[0m\n\u001b[0;32m----> 8\u001b[0;31m \u001b[0mwatch\u001b[0m \u001b[0;34m=\u001b[0m \u001b[0mWatchlist\u001b[0m\u001b[0;34m(\u001b[0m\u001b[0mtickers\u001b[0m\u001b[0;34m,\u001b[0m \u001b[0mtf\u001b[0m\u001b[0;34m=\u001b[0m\u001b[0mtf\u001b[0m\u001b[0;34m,\u001b[0m \u001b[0mds_name\u001b[0m\u001b[0;34m=\u001b[0m\u001b[0;34m\"yahoo\"\u001b[0m\u001b[0;34m,\u001b[0m \u001b[0mtimed\u001b[0m\u001b[0;34m=\u001b[0m\u001b[0;32mTrue\u001b[0m\u001b[0;34m)\u001b[0m\u001b[0;34m\u001b[0m\u001b[0;34m\u001b[0m\u001b[0m\n\u001b[0m\u001b[1;32m      9\u001b[0m \u001b[0;34m\u001b[0m\u001b[0m\n\u001b[1;32m     10\u001b[0m \u001b[0;31m# もしカスタムストラテジーをお持ちの場合は、ここでそれを使用することができます。\u001b[0m\u001b[0;34m\u001b[0m\u001b[0;34m\u001b[0m\u001b[0;34m\u001b[0m\u001b[0m\n",
            "\u001b[0;31mNameError\u001b[0m: name 'Watchlist' is not defined"
          ]
        }
      ],
      "source": [
        "\n",
        "# データを取得する時間帯を設定する\n",
        "tf = \"D\"\n",
        "\n",
        "# ウォッチリストに含まれる証券のティッカーシンボルを設定する\n",
        "tickers = [\"SPY\", \"QQQ\", \"AAPL\", \"TSLA\", \"BTC-USD\" ]\n",
        "\n",
        "# 指定されたティッカーと時間枠を持つ Watchlist オブジェクトを初期化し、Yahoo Finance をデータソースとして使用します。\n",
        "watch = Watchlist(tickers, tf=tf, ds_name=\"yahoo\", timed=True)\n",
        "\n",
        "# もしカスタムストラテジーをお持ちの場合は、ここでそれを使用することができます。\n",
        "# watch.strategy = ta.CommonStrategy\n",
        "\n",
        "# ティッカーのデータをロードし、分析する\n",
        "watch.load(tickers, analyze=True, verbose=False)\n",
        "\n"
      ]
    },
    {
      "cell_type": "markdown",
      "metadata": {
        "id": "ArrJWRqR8AHv"
      },
      "source": [
        "# アセットセレクション"
      ]
    },
    {
      "cell_type": "code",
      "execution_count": 20,
      "metadata": {
        "id": "zjQJlnUt8AHv",
        "colab": {
          "base_uri": "https://localhost:8080/",
          "height": 205
        },
        "outputId": "fc7ce633-1351-408c-d00c-94a75c39d8b7"
      },
      "outputs": [
        {
          "output_type": "error",
          "ename": "NameError",
          "evalue": "ignored",
          "traceback": [
            "\u001b[0;31m---------------------------------------------------------------------------\u001b[0m",
            "\u001b[0;31mNameError\u001b[0m                                 Traceback (most recent call last)",
            "\u001b[0;32m<ipython-input-20-8fadcc1cbf5d>\u001b[0m in \u001b[0;36m<module>\u001b[0;34m\u001b[0m\n\u001b[1;32m      5\u001b[0m \u001b[0;34m\u001b[0m\u001b[0m\n\u001b[1;32m      6\u001b[0m \u001b[0;31m# ティッカーとその形状、およびその列のリストを印刷する\u001b[0m\u001b[0;34m\u001b[0m\u001b[0;34m\u001b[0m\u001b[0;34m\u001b[0m\u001b[0m\n\u001b[0;32m----> 7\u001b[0;31m \u001b[0mprint\u001b[0m\u001b[0;34m(\u001b[0m\u001b[0;34mf\"{ticker} {watch.data[ticker].shape}\\nColumns: {', '.join(list(watch.data[ticker].columns))}\"\u001b[0m\u001b[0;34m)\u001b[0m\u001b[0;34m\u001b[0m\u001b[0;34m\u001b[0m\u001b[0m\n\u001b[0m",
            "\u001b[0;31mNameError\u001b[0m: name 'watch' is not defined"
          ]
        }
      ],
      "source": [
        "# リストの最初のティッカーを取得する\n",
        "ticker = tickers[0]\n",
        "\n",
        "# インデックスを変更することでティッカーを変更する\n",
        "\n",
        "# ティッカーとその形状、およびその列のリストを印刷する\n",
        "print(f\"{ticker} {watch.data[ticker].shape}\\nColumns: {', '.join(list(watch.data[ticker].columns))}\")"
      ]
    },
    {
      "cell_type": "markdown",
      "metadata": {
        "id": "o8Z_mif38AHw"
      },
      "source": [
        "### トリミングする"
      ]
    },
    {
      "cell_type": "code",
      "execution_count": 17,
      "metadata": {
        "id": "YH1rJIHY8AHw",
        "colab": {
          "base_uri": "https://localhost:8080/",
          "height": 240
        },
        "outputId": "38704722-aecf-4cbf-b186-cc78ba2fa05d"
      },
      "outputs": [
        {
          "output_type": "error",
          "ename": "NameError",
          "evalue": "ignored",
          "traceback": [
            "\u001b[0;31m---------------------------------------------------------------------------\u001b[0m",
            "\u001b[0;31mNameError\u001b[0m                                 Traceback (most recent call last)",
            "\u001b[0;32m<ipython-input-17-de6a452f8e73>\u001b[0m in \u001b[0;36m<module>\u001b[0;34m\u001b[0m\n\u001b[1;32m      3\u001b[0m \u001b[0;34m\u001b[0m\u001b[0m\n\u001b[1;32m      4\u001b[0m \u001b[0;31m# \"watch \"オブジェクトから指定されたティッカーのアセットデータを取得する\u001b[0m\u001b[0;34m\u001b[0m\u001b[0;34m\u001b[0m\u001b[0;34m\u001b[0m\u001b[0m\n\u001b[0;32m----> 5\u001b[0;31m \u001b[0masset\u001b[0m \u001b[0;34m=\u001b[0m \u001b[0mwatch\u001b[0m\u001b[0;34m.\u001b[0m\u001b[0mdata\u001b[0m\u001b[0;34m[\u001b[0m\u001b[0mticker\u001b[0m\u001b[0;34m]\u001b[0m\u001b[0;31m#アセットデータ\u001b[0m\u001b[0;34m\u001b[0m\u001b[0;34m\u001b[0m\u001b[0m\n\u001b[0m\u001b[1;32m      6\u001b[0m \u001b[0;34m\u001b[0m\u001b[0m\n\u001b[1;32m      7\u001b[0m \u001b[0;31m# 期間に基づいて、データに含めるべき最近のバーの数を取得します。\u001b[0m\u001b[0;34m\u001b[0m\u001b[0;34m\u001b[0m\u001b[0;34m\u001b[0m\u001b[0m\n",
            "\u001b[0;31mNameError\u001b[0m: name 'watch' is not defined"
          ]
        }
      ],
      "source": [
        "\n",
        "\n",
        "# 持続時間を文字列として変数 \"duration \"に格納します。\n",
        "デュレーション = \"1y\"\n",
        "\n",
        "# \"watch \"オブジェクトから指定されたティッカーのアセットデータを取得する\n",
        "asset = watch.data[ticker]#アセットデータ\n",
        "\n",
        "# 期間に基づいて、データに含めるべき最近のバーの数を取得します。\n",
        "recent = recent_bars(asset, duration)\n",
        "\n",
        "# 列名を小文字に変換\n",
        "asset.columns = asset.columns.str.lower()\n",
        "\n",
        "# \"dividates \"と \"split \"カラムが存在する場合、それらをアセットデータから削除します。\n",
        "asset.drop(columns=[\"dividends\", \"split\"], errors=\"ignore\", inplace=True)\n",
        "\n",
        "# アセットデータのコピーを作成し、「最近の」行数だけを保持する\n",
        "asset = asset.copy().tail(recent)\n",
        "\n",
        "# 最終的なアセットデータを表示する\n",
        "asset\n",
        "\n"
      ]
    },
    {
      "cell_type": "markdown",
      "metadata": {
        "id": "OfIQJz5H8AHx"
      },
      "source": [
        "# **トレンドクリエーション**\n",
        "**トレンド**とは、1つまたは複数の指標の計算結果または条件です。トレンドの **ハローワールド**、**ゴールデン/デスクロス**を使用すると、トレンドはロング = ma(close, 50) > ma(close, 200)、ショート = ma(close, 50) < ma(close, 200)である。``. "
      ]
    },
    {
      "cell_type": "code",
      "execution_count": null,
      "metadata": {
        "id": "SRrij7HC8AHx"
      },
      "outputs": [],
      "source": [
        "\n",
        "# このコードでは、異なるテクニカル分析指標を使用して資産のロングトレンドを計算します。\n",
        "import ta\n",
        "\n",
        "# 単純移動平均(SMA)を用いて、50と200のウィンドウでロングトレンドを計算します。\n",
        "long = ta.sma(asset.close, 50) > ta.sma(asset.close, 200)\n",
        "\n",
        "#SMA(50)がSMA(200)よりも大きい場合、ロングトレンドのシグナルとなる \n",
        "# ゴールデン/デスクロス」トレンドを生成します。\n",
        "\n",
        "# 10と20のウィンドウを持つSMAを使ってロングトレンドを計算します。\n",
        "long = ta.sma(asset.close, 10) > ta.sma(asset.close, 20)\n",
        "\n",
        "# これは、SMA(10)がSMA(20)よりも大きいときにロングトレンドが発生することを知らせるトレンドを作ります。\n",
        "\n",
        "# 8と21のウィンドウを持つ指数移動平均(EMA)を使って、ロングトレンドを計算します。\n",
        "long = ta.ema(asset.close, 8) > ta.ema(asset.close, 21)\n",
        "\n",
        "# これは EMA(8) が EMA(21) よりも大きいときにロングトレンドのシグナルが発生するトレンドを作ります。\n",
        "\n",
        "# EMAのIncreasing関数を用いて、50のウィンドウでロングトレンドを計算します。\n",
        "long = ta.increasing(ta.ema(asset.close, 50))\n",
        "\n",
        "# これは、EMA(50)が増加しているときにロングトレンドがシグナルされるようなトレンドを作ります。\n",
        "\n",
        "# 移動平均収束乖離(MACD)ヒストグラムを使ってロングトレンドを計算する\n",
        "long = ta.macd(asset.close).iloc[:,1] > 0\n",
        "\n",
        "# MACDヒストグラムが正であれば、ロングトレンドのシグナルが発生します。\n",
        "\n",
        "# 50と200のウィンドウ、2バーのルックバックで適応移動平均トレンド(AMAT)を使用して、ロングトレンドを計算します。\n",
        "long = ta.amat(asset.close, 50, 200).AMATe_LR_2\n",
        "\n",
        "# これは、AMAT(50, 200)のロングランが発生したときにロングトレンドが発生したことを知らせるもので、2本分のルックバックがあります。\n",
        "\n",
        "#EMA(50)が増加していなければならないという条件を追加することによって、 \n",
        "# ロングトレンドをさらに制限することができます。\n",
        "long &= ta.increasing(ta.ema(asset.close, 50), 2)\n",
        "\n",
        "# これは、ロングトレンドがシグナルされるためには、EMA(50)が増加していなければならないことを要求しています。\n",
        "\n",
        "# ロングトレンドを反転させてショートトレンドを作る\n",
        "long = 1 - long\n",
        "\n",
        "# 8、21、50のウィンドウを持つEMAを計算し、資産データに追加します。\n",
        "asset.ta.ema(length=8, sma=False, append=True)\n",
        "asset.ta.ema(length=21,sma=False,append=True)\n",
        "asset.ta.ema(長さ=50, sma=False, append=True)\n",
        "\n",
        "# パーセントリターンを計算し、資産データに追加します。\n",
        "asset.ta.percent_return(append=True)\n",
        "\n",
        "# TA列が追加された資産データの末尾を印刷する\n",
        "print(\"追加されたTA列\")\n",
        "asset[asset.columns[5:]].tail()\n",
        "\n",
        "\n"
      ]
    },
    {
      "cell_type": "markdown",
      "metadata": {
        "id": "rUB4DHoM8AHy"
      },
      "source": [
        "# **トレンドシグナル**\n",
        "トレンドが与えられると、トレンドシグナルは トレンド、トレード、エントリー、イグジットをブール値の整数値として返します。asbool=Trueの場合、トレンド、エントリー、イグジットをブール値で返すので、vectorbtバックテスト・パッケージと組み合わせたときに便利です。"
      ]
    },
    {
      "cell_type": "code",
      "execution_count": null,
      "metadata": {
        "id": "VVMTUiz38AHy"
      },
      "outputs": [],
      "source": [
        "trendy = asset.ta.tsignals(long, asbool=False, append=True)\n",
        "trendy.tail()"
      ]
    },
    {
      "cell_type": "markdown",
      "metadata": {
        "id": "Q0JHFoOb8AHy"
      },
      "source": [
        "# **トレンドのエントリー＆エグジット＆トレードテーブル**\n",
        "これは Asset DataFrame を日付、シグナル、エントリーとイグジットを含む Trade Table に縮小する簡単な方法です。vectorbtのようなバックテスターで実行する前に、何が期待できるかを知ることができます。"
      ]
    },
    {
      "cell_type": "code",
      "execution_count": null,
      "metadata": {
        "id": "TzWIo1B78AHz"
      },
      "outputs": [],
      "source": [
        "entries = trendy.TS_Entries * asset.close\n",
        "entries = entries[~np.isclose(entries, 0)]\n",
        "entries.dropna(inplace=True)\n",
        "entries.name = \"Entry\"\n",
        "\n",
        "exits = trendy.TS_Exits * asset.close\n",
        "exits = exits[~np.isclose(exits, 0)]\n",
        "exits.dropna(inplace=True)\n",
        "exits.name = \"Exit\"\n",
        "\n",
        "total_trades = trendy.TS_Trades.abs().sum()\n",
        "rt_trades = int(trendy.TS_Trades.abs().sum() // 2)\n",
        "\n",
        "all_trades = trendy.TS_Trades.copy().fillna(0)\n",
        "all_trades = all_trades[all_trades != 0]\n",
        "\n",
        "trades = pd.DataFrame({\n",
        "    \"Signal\": all_trades,\n",
        "    entries.name: entries,\n",
        "    exits.name: exits\n",
        "})\n",
        "\n",
        "# アクティブな取引がある場合、いくつかの統計を表示する（往復の取引が奇数である場合）\n",
        "if total_trades % 2 != 0:\n",
        "    unrealized_pnl = asset.close.iloc[-1] - entries.iloc[-1]\n",
        "    unrealized_pnl_pct_change = 100 * ((asset.close.iloc[-1] / entries.iloc[-1]) - 1)\n",
        "    print(\"現在の取引:\"))\n",
        "    print(f\"価格入力  | 終了:\\t{entries.iloc[-1]:.4f} | {asset.close.iloc[-1]:.4f}\")\n",
        "    print(f\"未実現損益 | %:\\t{unrealized_pnl:.4f} | {unrealized_pnl_pct_change:.4f}%\")\n",
        "print(f\"\\n取引合計 | 往復:\\t{total_trades} | {rt_trades}\")\n",
        "print(f\"貿易範囲: {100 * asset.TS_Trends.sum() / asset.shape[0]:.2f}%\")\n",
        "\n",
        "trades"
      ]
    },
    {
      "cell_type": "code",
      "execution_count": null,
      "metadata": {
        "id": "CLveXqOV8AHz"
      },
      "outputs": [],
      "source": []
    },
    {
      "cell_type": "markdown",
      "metadata": {
        "id": "nVdXzM4Y8AHz"
      },
      "source": [
        "# Visualization"
      ]
    },
    {
      "cell_type": "markdown",
      "metadata": {
        "id": "P8hcGUQa8AH0"
      },
      "source": [
        "### Chart Display Strings"
      ]
    },
    {
      "cell_type": "code",
      "execution_count": null,
      "metadata": {
        "id": "sJlz58tl8AH0"
      },
      "outputs": [],
      "source": [
        "extime = ta.get_time(to_string=True)\n",
        "first_date, last_date = asset.index[0], asset.index[-1]\n",
        "f_date = f\"{first_date.day_name()} {first_date.month}-{first_date.day}-{first_date.year}\"\n",
        "l_date = f\"{last_date.day_name()} {last_date.month}-{last_date.day}-{last_date.year}\"\n",
        "last_ohlcv = f\"直近のOHLCV: ({asset.iloc[-1].open:.4f}, {asset.iloc[-1].high:.4f}, {asset.iloc[-1].low:.4f}, {asset.iloc[-1].close:.4f}, {int(asset.iloc[-1].volume)})\"\n",
        "ptitle = f\"\\n{ticker} [{tf} for {duration}({recent} bars)] from {f_date} to {l_date}\\n{last_ohlcv}\\n{extime}\""
      ]
    },
    {
      "cell_type": "markdown",
      "metadata": {
        "id": "Xwo5ZBQj8AH0"
      },
      "source": [
        "# トレードチャート"
      ]
    },
    {
      "cell_type": "code",
      "execution_count": null,
      "metadata": {
        "id": "iHgTV7cC8AH0"
      },
      "outputs": [],
      "source": [
        "# chart = asset[\"close\"] #asset[[\"close\", \"SMA_10\", \"SMA_20\", \"SMA_50\", \"SMA_200\"]]\n",
        "# chart = asset[[\"close\", \"SMA_10\", \"SMA_20\"]]\n",
        "chart = asset[[\"close\", \"EMA_8\", \"EMA_21\", \"EMA_50\"]]\n",
        "chart.plot(figsize=(16, 10), color=colors(\"BkGrOrRd\"), title=ptitle, grid=True)"
      ]
    },
    {
      "cell_type": "markdown",
      "metadata": {
        "id": "v-Nnt5J68AH1"
      },
      "source": [
        "# ロングトレンドとショートトレンド\n",
        "トレンドは、*トレンドシグナルに渡されたトレンドによって、トレンドあり（1）、トレンドなし（0）のいずれかになります。"
      ]
    },
    {
      "cell_type": "code",
      "execution_count": null,
      "metadata": {
        "id": "qtbye7TS8AH1"
      },
      "outputs": [],
      "source": [
        "long_trend = trendy.TS_Trends\n",
        "short_trend = 1 - long_trend\n",
        "\n",
        "long_trend.plot(figsize=(16, 0.85), kind=\"area\", stacked=True, color=colors()[0], alpha=0.25) # Green Area\n",
        "short_trend.plot(figsize=(16, 0.85), kind=\"area\", stacked=True, color=colors()[1], alpha=0.25) # Red Area"
      ]
    },
    {
      "cell_type": "markdown",
      "metadata": {
        "id": "CwB67iKZ8AH1"
      },
      "source": [
        "# **トレードまたはトレードシグナル**\n",
        "取引は、エントリー（1）、エグジット（-1）、ノーポジション/アクション（0）のいずれかになります。これらは、トレンドシグナルに渡されたトレンドが ロングトレンドかショートトレンドかに基づいています。"
      ]
    },
    {
      "cell_type": "code",
      "execution_count": null,
      "metadata": {
        "id": "jLOOUk8Z8AH2"
      },
      "outputs": [],
      "source": [
        "trendy.TS_Trades.plot(figsize=(16, 1.5), color=colors(\"BkBl\")[0], grid=True)"
      ]
    },
    {
      "cell_type": "markdown",
      "metadata": {
        "id": "_12lvP1h8AH2"
      },
      "source": [
        "# **アクティブリターンズ**\n",
        "アクティブリターンとは、トレンドの過程で行われるリターンのことです。これは、単純にリターンとトレンドの積です。"
      ]
    },
    {
      "cell_type": "code",
      "execution_count": null,
      "metadata": {
        "id": "zUfcg9yI8AH2"
      },
      "outputs": [],
      "source": [
        "asset[\"ACTRET_1\"] = trendy.TS_Trends.shift(1) * asset.PCTRET_1\n",
        "asset[[\"PCTRET_1\", \"ACTRET_1\"]].plot(figsize=(16, 3), color=colors(\"GyOr\"), alpha=1, grid=True).axhline(0, color=\"black\")"
      ]
    },
    {
      "cell_type": "markdown",
      "metadata": {
        "id": "2wkhOWeH8AH2"
      },
      "source": [
        "バイ・アンド・ホールド・リターン(PCTRET_1) vs. Cum.アクティブリターン(ACTRET_1))"
      ]
    },
    {
      "cell_type": "code",
      "execution_count": null,
      "metadata": {
        "id": "6tzoTluP8AH3"
      },
      "outputs": [],
      "source": [
        "((asset[[\"PCTRET_1\", \"ACTRET_1\"]] + 1).cumprod() - 1).plot(figsize=(16, 3), kind=\"area\", stacked=False, color=colors(\"GyOr\"), title=\"B&H vs. Cum. Active Returns\", alpha=.4, grid=True).axhline(0, color=\"black\")"
      ]
    },
    {
      "cell_type": "markdown",
      "metadata": {
        "id": "0Ii053Mp8AH3"
      },
      "source": [
        "# **免責事項**\n",
        "- すべての投資にはリスクが伴い、証券、産業、セクター、市場、金融商品、取引戦略、または個人の取引の過去の実績は、将来の結果やリターンを保証するものではありません。投資家の皆様は、ご自身の投資判断に全面的に責任をお持ちください。そのような決定は、投資家の財務状況、投資目的、リスク許容度、および流動性ニーズの評価のみに基づいて行われる必要があります。\n",
        "\n",
        "- 提供される意見、ニュース、調査、分析、価格、その他の情報は、一般的な市場解説として提供されるものであり、投資アドバイスの役割を果たすものではありません。これらの情報の使用または依存から直接的または間接的に生じるいかなる損失または損害（利益の損失を含むがこれに限定されない）についても、私は責任を負わないものとします。"
      ]
    },
    {
      "cell_type": "code",
      "source": [],
      "metadata": {
        "id": "J3lC4gC1KY1z"
      },
      "execution_count": null,
      "outputs": []
    }
  ],
  "metadata": {
    "kernelspec": {
      "display_name": "Python 3",
      "language": "python",
      "name": "python3"
    },
    "language_info": {
      "codemirror_mode": {
        "name": "ipython",
        "version": 3
      },
      "file_extension": ".py",
      "mimetype": "text/x-python",
      "name": "python",
      "nbconvert_exporter": "python",
      "pygments_lexer": "ipython3",
      "version": "3.9.1"
    },
    "colab": {
      "provenance": [],
      "include_colab_link": true
    }
  },
  "nbformat": 4,
  "nbformat_minor": 0
}