{
  "nbformat": 4,
  "nbformat_minor": 0,
  "metadata": {
    "colab": {
      "provenance": [],
      "gpuType": "T4",
      "authorship_tag": "ABX9TyOELOTQD0vcbUJtg0MSbF7l",
      "include_colab_link": true
    },
    "kernelspec": {
      "name": "python3",
      "display_name": "Python 3"
    },
    "language_info": {
      "name": "python"
    },
    "accelerator": "GPU"
  },
  "cells": [
    {
      "cell_type": "markdown",
      "metadata": {
        "id": "view-in-github",
        "colab_type": "text"
      },
      "source": [
        "<a href=\"https://colab.research.google.com/github/arumajirou/-daily-test/blob/main/PatchMixer.ipynb\" target=\"_parent\"><img src=\"https://colab.research.google.com/assets/colab-badge.svg\" alt=\"Open In Colab\"/></a>"
      ]
    },
    {
      "cell_type": "code",
      "source": [
        "!git clone https://github.com/Zeying-Gong/PatchMixer.git\n"
      ],
      "metadata": {
        "colab": {
          "base_uri": "https://localhost:8080/"
        },
        "id": "_bzonvcRMnUZ",
        "outputId": "503eb84a-1abf-4c45-93b2-b79ccb058cd2"
      },
      "execution_count": 1,
      "outputs": [
        {
          "output_type": "stream",
          "name": "stdout",
          "text": [
            "Cloning into 'PatchMixer'...\n",
            "remote: Enumerating objects: 235, done.\u001b[K\n",
            "remote: Counting objects: 100% (235/235), done.\u001b[K\n",
            "remote: Compressing objects: 100% (174/174), done.\u001b[K\n",
            "remote: Total 235 (delta 71), reused 204 (delta 61), pack-reused 0\u001b[K\n",
            "Receiving objects: 100% (235/235), 2.19 MiB | 24.09 MiB/s, done.\n",
            "Resolving deltas: 100% (71/71), done.\n"
          ]
        }
      ]
    },
    {
      "cell_type": "code",
      "source": [
        "!pip install -r requirements.txt\n"
      ],
      "metadata": {
        "id": "3xCZkEaqNGie"
      },
      "execution_count": null,
      "outputs": []
    },
    {
      "cell_type": "code",
      "source": [
        "%cd PatchMixer\n",
        "# Google Colabのセルに以下のコマンドを入力して実行します\n",
        "!pip install -r requirements.txt\n",
        "# Google Colabのセルに以下のコマンドを入力して実行します\n",
        "!gdown --folder https://drive.google.com/drive/folders/1ZOYpTUa82_jCcxIdTmyr0LXQfvaM9vIy -O ./dataset\n",
        "# Google Colabのセルに以下のコマンドを入力して実行します\n",
        "!sh ./scripts/PatchMixer/weather.sh\n"
      ],
      "metadata": {
        "colab": {
          "base_uri": "https://localhost:8080/"
        },
        "id": "RQF0ZO_tMs7h",
        "outputId": "f0160a14-2cab-442c-e5a2-0484776ff796"
      },
      "execution_count": null,
      "outputs": [
        {
          "output_type": "stream",
          "name": "stdout",
          "text": [
            "/content/PatchMixer\n",
            "\u001b[31mERROR: Invalid requirement: 'matplotlib=3.7.1' (from line 4 of requirements.txt)\n",
            "Hint: = is not a valid operator. Did you mean == ?\u001b[0m\u001b[31m\n",
            "\u001b[0mRetrieving folder contents\n",
            "Retrieving folder 1ZhaQwLYcnhT5zEEZhBTo03-jDwl7bt7v electricity\n",
            "Processing file 1jinfTAApPyuyvW1P1hUDpI3rl0Jq8in1 electricity.csv\n",
            "Retrieving folder 19RDRjf7R46Ag1ZMJMR-MgOEWNtxpRMUb ETT-small\n",
            "Processing file 1vOClm_t4RgUf8nqherpTfNnB8rrYq14Q ETTh1.csv\n",
            "Processing file 1bOcmp9VAv03d3kUYSrttOFvLZ0keXDC5 ETTh2.csv\n",
            "Processing file 1B7VcTWdIfPl3g17zKXATKF9XQJtNHTtl ETTm1.csv\n",
            "Processing file 1JweODeVxt6YTIRFA0ivAgZQkR3rldtbi ETTm2.csv\n",
            "Retrieving folder 1nuMUIADOc1BNN-uDO2N7zohLgpLDgl-Z exchange_rate\n",
            "Processing file 1LHP-2iDgk-kx1vS414HiHeBMhb9vuU4M .DS_Store\n",
            "Processing file 1EBLfP2Dx2K7LsSZybX4JJes-wEcTJbz- exchange_rate.csv\n",
            "Retrieving folder 1DasX30lzEwcVXYaNeyMlQ0PSmCQSow5h illness\n",
            "Processing file 1n4kDxT38rQEGmczIaYaaUWqRPWs-rtcH national_illness.csv\n",
            "Retrieving folder 1M3gTc1DSvnUFMI57p70VFH5MHhZh3wC8 traffic\n",
            "Processing file 1Sd9xCLtRFYwvov52XYjKCUerRWxWmolA .DS_Store\n",
            "Processing file 1U3BZ3Wvuvd9HVAx5Nl3bHYG9rsh5-yZX traffic.csv\n",
            "Retrieving folder 1Xz84ci5YKWL6O2I-58ZsVe42lYIfqui1 weather\n",
            "Processing file 1Tc7GeVN7DLEl-RAs-JVwG9yFMf--S8dy weather.csv\n",
            "Processing file 1alE33S1GmP5wACMXaLu50rDIoVzBM4ik all_six_datasets.zip\n",
            "Retrieving folder contents completed\n",
            "Building directory structure\n",
            "Building directory structure completed\n",
            "Downloading...\n",
            "From: https://drive.google.com/uc?id=1jinfTAApPyuyvW1P1hUDpI3rl0Jq8in1\n",
            "To: /content/PatchMixer/dataset/electricity/electricity.csv\n",
            "100% 95.6M/95.6M [00:02<00:00, 44.9MB/s]\n",
            "Downloading...\n",
            "From: https://drive.google.com/uc?id=1vOClm_t4RgUf8nqherpTfNnB8rrYq14Q\n",
            "To: /content/PatchMixer/dataset/ETT-small/ETTh1.csv\n",
            "100% 2.59M/2.59M [00:00<00:00, 146MB/s]\n",
            "Downloading...\n",
            "From: https://drive.google.com/uc?id=1bOcmp9VAv03d3kUYSrttOFvLZ0keXDC5\n",
            "To: /content/PatchMixer/dataset/ETT-small/ETTh2.csv\n",
            "100% 2.42M/2.42M [00:00<00:00, 178MB/s]\n",
            "Downloading...\n",
            "From: https://drive.google.com/uc?id=1B7VcTWdIfPl3g17zKXATKF9XQJtNHTtl\n",
            "To: /content/PatchMixer/dataset/ETT-small/ETTm1.csv\n",
            "100% 10.4M/10.4M [00:00<00:00, 31.3MB/s]\n",
            "Downloading...\n",
            "From: https://drive.google.com/uc?id=1JweODeVxt6YTIRFA0ivAgZQkR3rldtbi\n",
            "To: /content/PatchMixer/dataset/ETT-small/ETTm2.csv\n",
            "100% 9.68M/9.68M [00:00<00:00, 30.1MB/s]\n",
            "Downloading...\n",
            "From: https://drive.google.com/uc?id=1LHP-2iDgk-kx1vS414HiHeBMhb9vuU4M\n",
            "To: /content/PatchMixer/dataset/exchange_rate/.DS_Store\n",
            "100% 6.15k/6.15k [00:00<00:00, 21.6MB/s]\n",
            "Downloading...\n",
            "From: https://drive.google.com/uc?id=1EBLfP2Dx2K7LsSZybX4JJes-wEcTJbz-\n",
            "To: /content/PatchMixer/dataset/exchange_rate/exchange_rate.csv\n",
            "100% 638k/638k [00:00<00:00, 103MB/s]\n",
            "Downloading...\n",
            "From: https://drive.google.com/uc?id=1n4kDxT38rQEGmczIaYaaUWqRPWs-rtcH\n",
            "To: /content/PatchMixer/dataset/illness/national_illness.csv\n",
            "100% 67.6k/67.6k [00:00<00:00, 110MB/s]\n",
            "Downloading...\n",
            "From: https://drive.google.com/uc?id=1Sd9xCLtRFYwvov52XYjKCUerRWxWmolA\n",
            "To: /content/PatchMixer/dataset/traffic/.DS_Store\n",
            "100% 6.15k/6.15k [00:00<00:00, 28.9MB/s]\n",
            "Downloading...\n",
            "From (original): https://drive.google.com/uc?id=1U3BZ3Wvuvd9HVAx5Nl3bHYG9rsh5-yZX\n",
            "From (redirected): https://drive.google.com/uc?id=1U3BZ3Wvuvd9HVAx5Nl3bHYG9rsh5-yZX&confirm=t&uuid=1f8d362d-d2eb-4734-926b-2907d9e4c67b\n",
            "To: /content/PatchMixer/dataset/traffic/traffic.csv\n",
            "100% 136M/136M [00:03<00:00, 43.3MB/s]\n",
            "Downloading...\n",
            "From: https://drive.google.com/uc?id=1Tc7GeVN7DLEl-RAs-JVwG9yFMf--S8dy\n",
            "To: /content/PatchMixer/dataset/weather/weather.csv\n",
            "100% 7.24M/7.24M [00:00<00:00, 25.8MB/s]\n",
            "Downloading...\n",
            "From (original): https://drive.google.com/uc?id=1alE33S1GmP5wACMXaLu50rDIoVzBM4ik\n",
            "From (redirected): https://drive.google.com/uc?id=1alE33S1GmP5wACMXaLu50rDIoVzBM4ik&confirm=t&uuid=7ca50043-af39-491c-b6bd-33f1061e42f6\n",
            "To: /content/PatchMixer/dataset/all_six_datasets.zip\n",
            "100% 54.0M/54.0M [00:00<00:00, 76.8MB/s]\n",
            "Download completed\n"
          ]
        }
      ]
    }
  ]
}