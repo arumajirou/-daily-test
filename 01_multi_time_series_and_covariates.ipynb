{
  "cells": [
    {
      "cell_type": "markdown",
      "metadata": {
        "id": "view-in-github",
        "colab_type": "text"
      },
      "source": [
        "<a href=\"https://colab.research.google.com/github/arumajirou/-daily-test/blob/main/01_multi_time_series_and_covariates.ipynb\" target=\"_parent\"><img src=\"https://colab.research.google.com/assets/colab-badge.svg\" alt=\"Open In Colab\"/></a>"
      ]
    },
    {
      "cell_type": "markdown",
      "metadata": {
        "id": "8vB81prHkfIE"
      },
      "source": [
        "\n",
        "日本語\n",
        "\n",
        "\n",
        "複数の時系列，事前学習済みモデル，共変量\n",
        "このノートブックは、チュートリアルの役割を果たします。\n",
        "\n",
        "複数の時系列で1つのモデルをトレーニングする\n",
        "訓練中に見たことのない時系列の予測を得るために事前訓練されたモデルを使用する\n",
        "共変量を使ったモデルの訓練と使用\n",
        "1つまたは複数の多変量解析を使ってモデルをトレーニングし、使用する 時系列\n",
        "まず、必要なインポートをいくつか紹介します。\n",
        "\n",
        "DeepL.comで別の訳し方を確認する\n",
        "\n",
        "\n",
        "\n",
        "下\n"
      ]
    },
    {
      "cell_type": "code",
      "source": [
        "!pip install utils\n",
        "!pip install torch\n",
        "!pip install darts\n",
        "!pip install logging\n",
        "!pip install warnings"
      ],
      "metadata": {
        "colab": {
          "base_uri": "https://localhost:8080/",
          "height": 1000
        },
        "id": "DFjyxC2Nry53",
        "outputId": "9035c97a-0d78-45aa-d0c4-8f5cd8ce3efb"
      },
      "execution_count": null,
      "outputs": [
        {
          "output_type": "stream",
          "name": "stdout",
          "text": [
            "Looking in indexes: https://pypi.org/simple, https://us-python.pkg.dev/colab-wheels/public/simple/\n",
            "Requirement already satisfied: utils in /usr/local/lib/python3.8/dist-packages (1.0.1)\n",
            "Looking in indexes: https://pypi.org/simple, https://us-python.pkg.dev/colab-wheels/public/simple/\n",
            "Requirement already satisfied: torch in /usr/local/lib/python3.8/dist-packages (1.13.0+cu116)\n",
            "Requirement already satisfied: typing-extensions in /usr/local/lib/python3.8/dist-packages (from torch) (4.4.0)\n",
            "Looking in indexes: https://pypi.org/simple, https://us-python.pkg.dev/colab-wheels/public/simple/\n",
            "Collecting darts\n",
            "  Downloading darts-0.22.0-py3-none-any.whl (451 kB)\n",
            "\u001b[K     |████████████████████████████████| 451 kB 5.4 MB/s \n",
            "\u001b[?25hRequirement already satisfied: holidays>=0.11.1 in /usr/local/lib/python3.8/dist-packages (from darts) (0.17.2)\n",
            "Requirement already satisfied: lightgbm>=2.2.3 in /usr/local/lib/python3.8/dist-packages (from darts) (2.2.3)\n",
            "Collecting tbats>=1.1.0\n",
            "  Downloading tbats-1.1.2-py3-none-any.whl (43 kB)\n",
            "\u001b[K     |████████████████████████████████| 43 kB 2.1 MB/s \n",
            "\u001b[?25hRequirement already satisfied: xarray>=0.17.0 in /usr/local/lib/python3.8/dist-packages (from darts) (2022.12.0)\n",
            "Requirement already satisfied: ipython>=5.0.0 in /usr/local/lib/python3.8/dist-packages (from darts) (7.9.0)\n",
            "Collecting catboost>=1.0.6\n",
            "  Downloading catboost-1.1.1-cp38-none-manylinux1_x86_64.whl (76.6 MB)\n",
            "\u001b[K     |████████████████████████████████| 76.6 MB 1.1 MB/s \n",
            "\u001b[?25hCollecting nfoursid>=1.0.0\n",
            "  Downloading nfoursid-1.0.1-py3-none-any.whl (16 kB)\n",
            "Requirement already satisfied: scipy>=1.3.2 in /usr/local/lib/python3.8/dist-packages (from darts) (1.7.3)\n",
            "Requirement already satisfied: scikit-learn>=1.0.1 in /usr/local/lib/python3.8/dist-packages (from darts) (1.0.2)\n",
            "Requirement already satisfied: torch>=1.8.0 in /usr/local/lib/python3.8/dist-packages (from darts) (1.13.0+cu116)\n",
            "Requirement already satisfied: prophet>=1.1.1 in /usr/local/lib/python3.8/dist-packages (from darts) (1.1.1)\n",
            "Requirement already satisfied: joblib>=0.16.0 in /usr/local/lib/python3.8/dist-packages (from darts) (1.2.0)\n",
            "Collecting matplotlib>=3.3.0\n",
            "  Downloading matplotlib-3.6.2-cp38-cp38-manylinux_2_12_x86_64.manylinux2010_x86_64.whl (9.4 MB)\n",
            "\u001b[K     |████████████████████████████████| 9.4 MB 50.0 MB/s \n",
            "\u001b[?25hCollecting pmdarima>=1.8.0\n",
            "  Downloading pmdarima-2.0.2-cp38-cp38-manylinux_2_17_x86_64.manylinux2014_x86_64.manylinux_2_28_x86_64.whl (1.9 MB)\n",
            "\u001b[K     |████████████████████████████████| 1.9 MB 60.0 MB/s \n",
            "\u001b[?25hCollecting shap>=0.40.0\n",
            "  Downloading shap-0.41.0-cp38-cp38-manylinux_2_12_x86_64.manylinux2010_x86_64.whl (575 kB)\n",
            "\u001b[K     |████████████████████████████████| 575 kB 65.1 MB/s \n",
            "\u001b[?25hCollecting statsmodels>=0.13.0\n",
            "  Downloading statsmodels-0.13.5-cp38-cp38-manylinux_2_17_x86_64.manylinux2014_x86_64.whl (9.9 MB)\n",
            "\u001b[K     |████████████████████████████████| 9.9 MB 53.1 MB/s \n",
            "\u001b[?25hCollecting pytorch-lightning>=1.5.0\n",
            "  Downloading pytorch_lightning-1.8.5.post0-py3-none-any.whl (800 kB)\n",
            "\u001b[K     |████████████████████████████████| 800 kB 82.1 MB/s \n",
            "\u001b[?25hCollecting statsforecast>=1.0.0\n",
            "  Downloading statsforecast-1.4.0-py3-none-any.whl (91 kB)\n",
            "\u001b[K     |████████████████████████████████| 91 kB 8.3 MB/s \n",
            "\u001b[?25hRequirement already satisfied: pandas>=1.0.5 in /usr/local/lib/python3.8/dist-packages (from darts) (1.3.5)\n",
            "Requirement already satisfied: tqdm>=4.60.0 in /usr/local/lib/python3.8/dist-packages (from darts) (4.64.1)\n",
            "Requirement already satisfied: requests>=2.22.0 in /usr/local/lib/python3.8/dist-packages (from darts) (2.23.0)\n",
            "Requirement already satisfied: numpy>=1.19.0 in /usr/local/lib/python3.8/dist-packages (from darts) (1.21.6)\n",
            "Requirement already satisfied: six in /usr/local/lib/python3.8/dist-packages (from catboost>=1.0.6->darts) (1.15.0)\n",
            "Requirement already satisfied: plotly in /usr/local/lib/python3.8/dist-packages (from catboost>=1.0.6->darts) (5.5.0)\n",
            "Requirement already satisfied: graphviz in /usr/local/lib/python3.8/dist-packages (from catboost>=1.0.6->darts) (0.10.1)\n",
            "Requirement already satisfied: korean-lunar-calendar in /usr/local/lib/python3.8/dist-packages (from holidays>=0.11.1->darts) (0.3.1)\n",
            "Requirement already satisfied: hijri-converter in /usr/local/lib/python3.8/dist-packages (from holidays>=0.11.1->darts) (2.2.4)\n",
            "Requirement already satisfied: python-dateutil in /usr/local/lib/python3.8/dist-packages (from holidays>=0.11.1->darts) (2.8.2)\n",
            "Requirement already satisfied: convertdate>=2.3.0 in /usr/local/lib/python3.8/dist-packages (from holidays>=0.11.1->darts) (2.4.0)\n",
            "Requirement already satisfied: pymeeus<=1,>=0.3.13 in /usr/local/lib/python3.8/dist-packages (from convertdate>=2.3.0->holidays>=0.11.1->darts) (0.5.12)\n",
            "Requirement already satisfied: prompt-toolkit<2.1.0,>=2.0.0 in /usr/local/lib/python3.8/dist-packages (from ipython>=5.0.0->darts) (2.0.10)\n",
            "Requirement already satisfied: setuptools>=18.5 in /usr/local/lib/python3.8/dist-packages (from ipython>=5.0.0->darts) (57.4.0)\n",
            "Requirement already satisfied: traitlets>=4.2 in /usr/local/lib/python3.8/dist-packages (from ipython>=5.0.0->darts) (5.7.1)\n",
            "Requirement already satisfied: pygments in /usr/local/lib/python3.8/dist-packages (from ipython>=5.0.0->darts) (2.6.1)\n",
            "Collecting jedi>=0.10\n",
            "  Downloading jedi-0.18.2-py2.py3-none-any.whl (1.6 MB)\n",
            "\u001b[K     |████████████████████████████████| 1.6 MB 62.5 MB/s \n",
            "\u001b[?25hRequirement already satisfied: decorator in /usr/local/lib/python3.8/dist-packages (from ipython>=5.0.0->darts) (4.4.2)\n",
            "Requirement already satisfied: pickleshare in /usr/local/lib/python3.8/dist-packages (from ipython>=5.0.0->darts) (0.7.5)\n",
            "Requirement already satisfied: pexpect in /usr/local/lib/python3.8/dist-packages (from ipython>=5.0.0->darts) (4.8.0)\n",
            "Requirement already satisfied: backcall in /usr/local/lib/python3.8/dist-packages (from ipython>=5.0.0->darts) (0.2.0)\n",
            "Requirement already satisfied: parso<0.9.0,>=0.8.0 in /usr/local/lib/python3.8/dist-packages (from jedi>=0.10->ipython>=5.0.0->darts) (0.8.3)\n",
            "Collecting contourpy>=1.0.1\n",
            "  Downloading contourpy-1.0.6-cp38-cp38-manylinux_2_17_x86_64.manylinux2014_x86_64.whl (295 kB)\n",
            "\u001b[K     |████████████████████████████████| 295 kB 70.4 MB/s \n",
            "\u001b[?25hRequirement already satisfied: pillow>=6.2.0 in /usr/local/lib/python3.8/dist-packages (from matplotlib>=3.3.0->darts) (7.1.2)\n",
            "Collecting fonttools>=4.22.0\n",
            "  Downloading fonttools-4.38.0-py3-none-any.whl (965 kB)\n",
            "\u001b[K     |████████████████████████████████| 965 kB 83.9 MB/s \n",
            "\u001b[?25hRequirement already satisfied: cycler>=0.10 in /usr/local/lib/python3.8/dist-packages (from matplotlib>=3.3.0->darts) (0.11.0)\n",
            "Requirement already satisfied: packaging>=20.0 in /usr/local/lib/python3.8/dist-packages (from matplotlib>=3.3.0->darts) (21.3)\n",
            "Requirement already satisfied: pyparsing>=2.2.1 in /usr/local/lib/python3.8/dist-packages (from matplotlib>=3.3.0->darts) (3.0.9)\n",
            "Requirement already satisfied: kiwisolver>=1.0.1 in /usr/local/lib/python3.8/dist-packages (from matplotlib>=3.3.0->darts) (1.4.4)\n",
            "Requirement already satisfied: pytz>=2017.3 in /usr/local/lib/python3.8/dist-packages (from pandas>=1.0.5->darts) (2022.6)\n",
            "Requirement already satisfied: Cython!=0.29.18,!=0.29.31,>=0.29 in /usr/local/lib/python3.8/dist-packages (from pmdarima>=1.8.0->darts) (0.29.32)\n",
            "Requirement already satisfied: urllib3 in /usr/local/lib/python3.8/dist-packages (from pmdarima>=1.8.0->darts) (1.24.3)\n",
            "Requirement already satisfied: wcwidth in /usr/local/lib/python3.8/dist-packages (from prompt-toolkit<2.1.0,>=2.0.0->ipython>=5.0.0->darts) (0.2.5)\n",
            "Requirement already satisfied: LunarCalendar>=0.0.9 in /usr/local/lib/python3.8/dist-packages (from prophet>=1.1.1->darts) (0.0.9)\n",
            "Requirement already satisfied: setuptools-git>=1.2 in /usr/local/lib/python3.8/dist-packages (from prophet>=1.1.1->darts) (1.2)\n",
            "Requirement already satisfied: wheel>=0.37.0 in /usr/local/lib/python3.8/dist-packages (from prophet>=1.1.1->darts) (0.38.4)\n",
            "Requirement already satisfied: cmdstanpy>=1.0.4 in /usr/local/lib/python3.8/dist-packages (from prophet>=1.1.1->darts) (1.0.8)\n",
            "Requirement already satisfied: ephem>=3.7.5.3 in /usr/local/lib/python3.8/dist-packages (from LunarCalendar>=0.0.9->prophet>=1.1.1->darts) (4.1.3)\n",
            "Collecting lightning-utilities!=0.4.0,>=0.3.0\n",
            "  Downloading lightning_utilities-0.4.2-py3-none-any.whl (16 kB)\n",
            "Requirement already satisfied: PyYAML>=5.4 in /usr/local/lib/python3.8/dist-packages (from pytorch-lightning>=1.5.0->darts) (6.0)\n",
            "Collecting tensorboardX>=2.2\n",
            "  Downloading tensorboardX-2.5.1-py2.py3-none-any.whl (125 kB)\n",
            "\u001b[K     |████████████████████████████████| 125 kB 52.4 MB/s \n",
            "\u001b[?25hRequirement already satisfied: typing-extensions>=4.0.0 in /usr/local/lib/python3.8/dist-packages (from pytorch-lightning>=1.5.0->darts) (4.4.0)\n",
            "Requirement already satisfied: fsspec[http]>2021.06.0 in /usr/local/lib/python3.8/dist-packages (from pytorch-lightning>=1.5.0->darts) (2022.11.0)\n",
            "Collecting torchmetrics>=0.7.0\n",
            "  Downloading torchmetrics-0.11.0-py3-none-any.whl (512 kB)\n",
            "\u001b[K     |████████████████████████████████| 512 kB 56.8 MB/s \n",
            "\u001b[?25hRequirement already satisfied: aiohttp!=4.0.0a0,!=4.0.0a1 in /usr/local/lib/python3.8/dist-packages (from fsspec[http]>2021.06.0->pytorch-lightning>=1.5.0->darts) (3.8.3)\n",
            "Requirement already satisfied: attrs>=17.3.0 in /usr/local/lib/python3.8/dist-packages (from aiohttp!=4.0.0a0,!=4.0.0a1->fsspec[http]>2021.06.0->pytorch-lightning>=1.5.0->darts) (22.1.0)\n",
            "Requirement already satisfied: async-timeout<5.0,>=4.0.0a3 in /usr/local/lib/python3.8/dist-packages (from aiohttp!=4.0.0a0,!=4.0.0a1->fsspec[http]>2021.06.0->pytorch-lightning>=1.5.0->darts) (4.0.2)\n",
            "Requirement already satisfied: charset-normalizer<3.0,>=2.0 in /usr/local/lib/python3.8/dist-packages (from aiohttp!=4.0.0a0,!=4.0.0a1->fsspec[http]>2021.06.0->pytorch-lightning>=1.5.0->darts) (2.1.1)\n",
            "Requirement already satisfied: yarl<2.0,>=1.0 in /usr/local/lib/python3.8/dist-packages (from aiohttp!=4.0.0a0,!=4.0.0a1->fsspec[http]>2021.06.0->pytorch-lightning>=1.5.0->darts) (1.8.2)\n",
            "Requirement already satisfied: frozenlist>=1.1.1 in /usr/local/lib/python3.8/dist-packages (from aiohttp!=4.0.0a0,!=4.0.0a1->fsspec[http]>2021.06.0->pytorch-lightning>=1.5.0->darts) (1.3.3)\n",
            "Requirement already satisfied: aiosignal>=1.1.2 in /usr/local/lib/python3.8/dist-packages (from aiohttp!=4.0.0a0,!=4.0.0a1->fsspec[http]>2021.06.0->pytorch-lightning>=1.5.0->darts) (1.3.1)\n",
            "Requirement already satisfied: multidict<7.0,>=4.5 in /usr/local/lib/python3.8/dist-packages (from aiohttp!=4.0.0a0,!=4.0.0a1->fsspec[http]>2021.06.0->pytorch-lightning>=1.5.0->darts) (6.0.3)\n",
            "Requirement already satisfied: certifi>=2017.4.17 in /usr/local/lib/python3.8/dist-packages (from requests>=2.22.0->darts) (2022.12.7)\n",
            "Requirement already satisfied: chardet<4,>=3.0.2 in /usr/local/lib/python3.8/dist-packages (from requests>=2.22.0->darts) (3.0.4)\n",
            "Requirement already satisfied: idna<3,>=2.5 in /usr/local/lib/python3.8/dist-packages (from requests>=2.22.0->darts) (2.10)\n",
            "Requirement already satisfied: threadpoolctl>=2.0.0 in /usr/local/lib/python3.8/dist-packages (from scikit-learn>=1.0.1->darts) (3.1.0)\n",
            "Requirement already satisfied: cloudpickle in /usr/local/lib/python3.8/dist-packages (from shap>=0.40.0->darts) (1.5.0)\n",
            "Collecting slicer==0.0.7\n",
            "  Downloading slicer-0.0.7-py3-none-any.whl (14 kB)\n",
            "Requirement already satisfied: numba in /usr/local/lib/python3.8/dist-packages (from shap>=0.40.0->darts) (0.56.4)\n",
            "Requirement already satisfied: llvmlite<0.40,>=0.39.0dev0 in /usr/local/lib/python3.8/dist-packages (from numba->shap>=0.40.0->darts) (0.39.1)\n",
            "Requirement already satisfied: importlib-metadata in /usr/local/lib/python3.8/dist-packages (from numba->shap>=0.40.0->darts) (5.1.0)\n",
            "Requirement already satisfied: patsy>=0.5.2 in /usr/local/lib/python3.8/dist-packages (from statsmodels>=0.13.0->darts) (0.5.3)\n",
            "Requirement already satisfied: protobuf<=3.20.1,>=3.8.0 in /usr/local/lib/python3.8/dist-packages (from tensorboardX>=2.2->pytorch-lightning>=1.5.0->darts) (3.19.6)\n",
            "Requirement already satisfied: zipp>=0.5 in /usr/local/lib/python3.8/dist-packages (from importlib-metadata->numba->shap>=0.40.0->darts) (3.11.0)\n",
            "Requirement already satisfied: ptyprocess>=0.5 in /usr/local/lib/python3.8/dist-packages (from pexpect->ipython>=5.0.0->darts) (0.7.0)\n",
            "Requirement already satisfied: tenacity>=6.2.0 in /usr/local/lib/python3.8/dist-packages (from plotly->catboost>=1.0.6->darts) (8.1.0)\n",
            "Installing collected packages: statsmodels, fonttools, contourpy, torchmetrics, tensorboardX, slicer, pmdarima, matplotlib, lightning-utilities, jedi, tbats, statsforecast, shap, pytorch-lightning, nfoursid, catboost, darts\n",
            "  Attempting uninstall: statsmodels\n",
            "    Found existing installation: statsmodels 0.12.2\n",
            "    Uninstalling statsmodels-0.12.2:\n",
            "      Successfully uninstalled statsmodels-0.12.2\n",
            "  Attempting uninstall: matplotlib\n",
            "    Found existing installation: matplotlib 3.2.2\n",
            "    Uninstalling matplotlib-3.2.2:\n",
            "      Successfully uninstalled matplotlib-3.2.2\n",
            "Successfully installed catboost-1.1.1 contourpy-1.0.6 darts-0.22.0 fonttools-4.38.0 jedi-0.18.2 lightning-utilities-0.4.2 matplotlib-3.6.2 nfoursid-1.0.1 pmdarima-2.0.2 pytorch-lightning-1.8.5.post0 shap-0.41.0 slicer-0.0.7 statsforecast-1.4.0 statsmodels-0.13.5 tbats-1.1.2 tensorboardX-2.5.1 torchmetrics-0.11.0\n"
          ]
        },
        {
          "output_type": "display_data",
          "data": {
            "application/vnd.colab-display-data+json": {
              "pip_warning": {
                "packages": [
                  "matplotlib",
                  "mpl_toolkits"
                ]
              }
            }
          },
          "metadata": {}
        },
        {
          "output_type": "stream",
          "name": "stdout",
          "text": [
            "Looking in indexes: https://pypi.org/simple, https://us-python.pkg.dev/colab-wheels/public/simple/\n",
            "Collecting logging\n",
            "  Downloading logging-0.4.9.6.tar.gz (96 kB)\n",
            "\u001b[K     |████████████████████████████████| 96 kB 2.5 MB/s \n",
            "\u001b[33mWARNING: Discarding https://files.pythonhosted.org/packages/93/4b/979db9e44be09f71e85c9c8cfc42f258adfb7d93ce01deed2788b2948919/logging-0.4.9.6.tar.gz#sha256=26f6b50773f085042d301085bd1bf5d9f3735704db9f37c1ce6d8b85c38f2417 (from https://pypi.org/simple/logging/). Command errored out with exit status 1: python setup.py egg_info Check the logs for full command output.\u001b[0m\n",
            "\u001b[31mERROR: Could not find a version that satisfies the requirement logging (from versions: 0.4.9.6)\u001b[0m\n",
            "\u001b[31mERROR: No matching distribution found for logging\u001b[0m\n",
            "\u001b[?25hLooking in indexes: https://pypi.org/simple, https://us-python.pkg.dev/colab-wheels/public/simple/\n",
            "\u001b[31mERROR: Could not find a version that satisfies the requirement warnings (from versions: none)\u001b[0m\n",
            "\u001b[31mERROR: No matching distribution found for warnings\u001b[0m\n"
          ]
        }
      ]
    },
    {
      "cell_type": "code",
      "execution_count": null,
      "metadata": {
        "scrolled": false,
        "id": "VdL0VwN3kfIJ"
      },
      "outputs": [],
      "source": [
        "# fix python path if working locally\n",
        "# GitHub リポジトリの URL を設定\n",
        "path =\"https://github.com/unit8co/darts/tree/master/examples\"\n",
        "from utils import path #、utilsモジュールからpath関数をインポート\n",
        "# fix_pythonpath_if_working_locally()\n",
        "\n",
        "import pandas as pd#pandasライブラリをpdとしてインポート\n",
        "import numpy as np#numpyライブラリをnpとしてインポート\n",
        "import torch#torchライブラリをインポート\n",
        "import matplotlib.pyplot as plt#matplotlibライブラリからpyplotモジュールをplt としてインポート\n",
        "\n",
        "from darts import TimeSeries#dartsライブラリからTimeSeriesクラスをインポート\n",
        "\n",
        "#darts.utils.timeseries_generationモジュールから様々な時系列生成関数をインポート\n",
        "from darts.utils.timeseries_generation import (\n",
        "    gaussian_timeseries,\n",
        "    linear_timeseries,\n",
        "    sine_timeseries,\n",
        ")\n",
        "#darts.modelsモジュールから様々なモデルをインポート\n",
        "from darts.models import (\n",
        "    RNNModel,\n",
        "    TCNModel,\n",
        "    TransformerModel,\n",
        "    NBEATSModel,\n",
        "    BlockRNNModel,\n",
        "    VARIMA,\n",
        ")\n",
        "#darts.metricsモジュールから様々なメトリクスをインポート\n",
        "from darts.metrics import mape, smape, mae\n",
        "#darts.dataprocessing.transformersモジュールからScalerクラスをインポート\n",
        "from darts.dataprocessing.transformers import Scaler\n",
        "#darts.utils.timeseries_generationモジュールからdatetime_attribute_timeseries関数をインポート\n",
        "from darts.utils.timeseries_generation import datetime_attribute_timeseries\n",
        "#darts.datasetsモジュールから様々なデータセットをインポート\n",
        "from darts.datasets import AirPassengersDataset, MonthlyMilkDataset, ElectricityDataset\n",
        "\n",
        "#ロギングメッセージを無効\n",
        "import logging\n",
        "logging.disable(logging.CRITICAL)\n",
        "\n",
        "#警告メッセージを無視\n",
        "import warnings\n",
        "warnings.filterwarnings(\"ignore\")\n",
        "#matplotlibのプロットをJupyter Notebook内でインライン表示できるようにしたもの\n",
        "%matplotlib inline\n",
        "\n",
        "# for reproducibility\n",
        "torch.manual_seed(1)\n",
        "np.random.seed(1)"
      ]
    },
    {
      "cell_type": "markdown",
      "metadata": {
        "id": "9VicqNbEkfIL"
      },
      "source": [
        "\n",
        "日本語\n",
        "\n",
        "\n",
        "\n",
        "データを読む\n",
        "まず、2つの時系列を読んでみましょう。1つは月別の航空旅客数、もう1つは月別の牛一頭あたりの乳生産量です。これらの時系列は、どちらも月次頻度で、顕著な年周性と上昇傾向があり、（完全に偶然ですが）同程度の大きさの値を含んでいること以外は、お互いにあまり関係がありません。\n",
        "\n",
        "DeepL.comで別の訳し方を確認する\n",
        "\n",
        "\n",
        "\n",
        "下\n"
      ]
    },
    {
      "cell_type": "code",
      "execution_count": null,
      "metadata": {
        "id": "kivbEZ5skfIL",
        "outputId": "29b82827-b152-4be9-ffc0-a4e92b0b6dde",
        "colab": {
          "base_uri": "https://localhost:8080/",
          "height": 452
        }
      },
      "outputs": [
        {
          "output_type": "error",
          "ename": "ImportError",
          "evalue": "ignored",
          "traceback": [
            "\u001b[0;31m---------------------------------------------------------------------------\u001b[0m",
            "\u001b[0;31mImportError\u001b[0m                               Traceback (most recent call last)",
            "\u001b[0;32m/usr/local/lib/python3.8/dist-packages/IPython/core/formatters.py\u001b[0m in \u001b[0;36m__call__\u001b[0;34m(self, obj)\u001b[0m\n\u001b[1;32m    339\u001b[0m                 \u001b[0;32mpass\u001b[0m\u001b[0;34m\u001b[0m\u001b[0;34m\u001b[0m\u001b[0m\n\u001b[1;32m    340\u001b[0m             \u001b[0;32melse\u001b[0m\u001b[0;34m:\u001b[0m\u001b[0;34m\u001b[0m\u001b[0;34m\u001b[0m\u001b[0m\n\u001b[0;32m--> 341\u001b[0;31m                 \u001b[0;32mreturn\u001b[0m \u001b[0mprinter\u001b[0m\u001b[0;34m(\u001b[0m\u001b[0mobj\u001b[0m\u001b[0;34m)\u001b[0m\u001b[0;34m\u001b[0m\u001b[0;34m\u001b[0m\u001b[0m\n\u001b[0m\u001b[1;32m    342\u001b[0m             \u001b[0;31m# Finally look for special method names\u001b[0m\u001b[0;34m\u001b[0m\u001b[0;34m\u001b[0m\u001b[0;34m\u001b[0m\u001b[0m\n\u001b[1;32m    343\u001b[0m             \u001b[0mmethod\u001b[0m \u001b[0;34m=\u001b[0m \u001b[0mget_real_method\u001b[0m\u001b[0;34m(\u001b[0m\u001b[0mobj\u001b[0m\u001b[0;34m,\u001b[0m \u001b[0mself\u001b[0m\u001b[0;34m.\u001b[0m\u001b[0mprint_method\u001b[0m\u001b[0;34m)\u001b[0m\u001b[0;34m\u001b[0m\u001b[0;34m\u001b[0m\u001b[0m\n",
            "\u001b[0;32m/usr/local/lib/python3.8/dist-packages/IPython/core/pylabtools.py\u001b[0m in \u001b[0;36m<lambda>\u001b[0;34m(fig)\u001b[0m\n\u001b[1;32m    242\u001b[0m \u001b[0;34m\u001b[0m\u001b[0m\n\u001b[1;32m    243\u001b[0m     \u001b[0;32mif\u001b[0m \u001b[0;34m'png'\u001b[0m \u001b[0;32min\u001b[0m \u001b[0mformats\u001b[0m\u001b[0;34m:\u001b[0m\u001b[0;34m\u001b[0m\u001b[0;34m\u001b[0m\u001b[0m\n\u001b[0;32m--> 244\u001b[0;31m         \u001b[0mpng_formatter\u001b[0m\u001b[0;34m.\u001b[0m\u001b[0mfor_type\u001b[0m\u001b[0;34m(\u001b[0m\u001b[0mFigure\u001b[0m\u001b[0;34m,\u001b[0m \u001b[0;32mlambda\u001b[0m \u001b[0mfig\u001b[0m\u001b[0;34m:\u001b[0m \u001b[0mprint_figure\u001b[0m\u001b[0;34m(\u001b[0m\u001b[0mfig\u001b[0m\u001b[0;34m,\u001b[0m \u001b[0;34m'png'\u001b[0m\u001b[0;34m,\u001b[0m \u001b[0;34m**\u001b[0m\u001b[0mkwargs\u001b[0m\u001b[0;34m)\u001b[0m\u001b[0;34m)\u001b[0m\u001b[0;34m\u001b[0m\u001b[0;34m\u001b[0m\u001b[0m\n\u001b[0m\u001b[1;32m    245\u001b[0m     \u001b[0;32mif\u001b[0m \u001b[0;34m'retina'\u001b[0m \u001b[0;32min\u001b[0m \u001b[0mformats\u001b[0m \u001b[0;32mor\u001b[0m \u001b[0;34m'png2x'\u001b[0m \u001b[0;32min\u001b[0m \u001b[0mformats\u001b[0m\u001b[0;34m:\u001b[0m\u001b[0;34m\u001b[0m\u001b[0;34m\u001b[0m\u001b[0m\n\u001b[1;32m    246\u001b[0m         \u001b[0mpng_formatter\u001b[0m\u001b[0;34m.\u001b[0m\u001b[0mfor_type\u001b[0m\u001b[0;34m(\u001b[0m\u001b[0mFigure\u001b[0m\u001b[0;34m,\u001b[0m \u001b[0;32mlambda\u001b[0m \u001b[0mfig\u001b[0m\u001b[0;34m:\u001b[0m \u001b[0mretina_figure\u001b[0m\u001b[0;34m(\u001b[0m\u001b[0mfig\u001b[0m\u001b[0;34m,\u001b[0m \u001b[0;34m**\u001b[0m\u001b[0mkwargs\u001b[0m\u001b[0;34m)\u001b[0m\u001b[0;34m)\u001b[0m\u001b[0;34m\u001b[0m\u001b[0;34m\u001b[0m\u001b[0m\n",
            "\u001b[0;32m/usr/local/lib/python3.8/dist-packages/IPython/core/pylabtools.py\u001b[0m in \u001b[0;36mprint_figure\u001b[0;34m(fig, fmt, bbox_inches, **kwargs)\u001b[0m\n\u001b[1;32m    126\u001b[0m \u001b[0;34m\u001b[0m\u001b[0m\n\u001b[1;32m    127\u001b[0m     \u001b[0mbytes_io\u001b[0m \u001b[0;34m=\u001b[0m \u001b[0mBytesIO\u001b[0m\u001b[0;34m(\u001b[0m\u001b[0;34m)\u001b[0m\u001b[0;34m\u001b[0m\u001b[0;34m\u001b[0m\u001b[0m\n\u001b[0;32m--> 128\u001b[0;31m     \u001b[0mfig\u001b[0m\u001b[0;34m.\u001b[0m\u001b[0mcanvas\u001b[0m\u001b[0;34m.\u001b[0m\u001b[0mprint_figure\u001b[0m\u001b[0;34m(\u001b[0m\u001b[0mbytes_io\u001b[0m\u001b[0;34m,\u001b[0m \u001b[0;34m**\u001b[0m\u001b[0mkw\u001b[0m\u001b[0;34m)\u001b[0m\u001b[0;34m\u001b[0m\u001b[0;34m\u001b[0m\u001b[0m\n\u001b[0m\u001b[1;32m    129\u001b[0m     \u001b[0mdata\u001b[0m \u001b[0;34m=\u001b[0m \u001b[0mbytes_io\u001b[0m\u001b[0;34m.\u001b[0m\u001b[0mgetvalue\u001b[0m\u001b[0;34m(\u001b[0m\u001b[0;34m)\u001b[0m\u001b[0;34m\u001b[0m\u001b[0;34m\u001b[0m\u001b[0m\n\u001b[1;32m    130\u001b[0m     \u001b[0;32mif\u001b[0m \u001b[0mfmt\u001b[0m \u001b[0;34m==\u001b[0m \u001b[0;34m'svg'\u001b[0m\u001b[0;34m:\u001b[0m\u001b[0;34m\u001b[0m\u001b[0;34m\u001b[0m\u001b[0m\n",
            "\u001b[0;32m/usr/local/lib/python3.8/dist-packages/matplotlib/backend_bases.py\u001b[0m in \u001b[0;36mprint_figure\u001b[0;34m(self, filename, dpi, facecolor, edgecolor, orientation, format, bbox_inches, **kwargs)\u001b[0m\n\u001b[1;32m   2089\u001b[0m         \u001b[0mReturns\u001b[0m\u001b[0;34m\u001b[0m\u001b[0;34m\u001b[0m\u001b[0m\n\u001b[1;32m   2090\u001b[0m         \u001b[0;34m-\u001b[0m\u001b[0;34m-\u001b[0m\u001b[0;34m-\u001b[0m\u001b[0;34m-\u001b[0m\u001b[0;34m-\u001b[0m\u001b[0;34m-\u001b[0m\u001b[0;34m-\u001b[0m\u001b[0;34m\u001b[0m\u001b[0;34m\u001b[0m\u001b[0m\n\u001b[0;32m-> 2091\u001b[0;31m         \u001b[0mbool\u001b[0m\u001b[0;34m\u001b[0m\u001b[0;34m\u001b[0m\u001b[0m\n\u001b[0m\u001b[1;32m   2092\u001b[0m             \u001b[0mWhether\u001b[0m \u001b[0mthe\u001b[0m \u001b[0mratio\u001b[0m \u001b[0mhas\u001b[0m \u001b[0mchanged\u001b[0m\u001b[0;34m.\u001b[0m \u001b[0mBackends\u001b[0m \u001b[0mmay\u001b[0m \u001b[0minterpret\u001b[0m \u001b[0mthis\u001b[0m \u001b[0;32mas\u001b[0m \u001b[0ma\u001b[0m\u001b[0;34m\u001b[0m\u001b[0;34m\u001b[0m\u001b[0m\n\u001b[1;32m   2093\u001b[0m             \u001b[0msignal\u001b[0m \u001b[0mto\u001b[0m \u001b[0mresize\u001b[0m \u001b[0mthe\u001b[0m \u001b[0mwindow\u001b[0m\u001b[0;34m,\u001b[0m \u001b[0mrepaint\u001b[0m \u001b[0mthe\u001b[0m \u001b[0mcanvas\u001b[0m\u001b[0;34m,\u001b[0m \u001b[0;32mor\u001b[0m \u001b[0mchange\u001b[0m \u001b[0many\u001b[0m\u001b[0;34m\u001b[0m\u001b[0;34m\u001b[0m\u001b[0m\n",
            "\u001b[0;32m/usr/local/lib/python3.8/dist-packages/matplotlib/backend_bases.py\u001b[0m in \u001b[0;36m_get_renderer\u001b[0;34m(figure, print_method)\u001b[0m\n\u001b[1;32m   1558\u001b[0m         \u001b[0;32mtry\u001b[0m\u001b[0;34m:\u001b[0m\u001b[0;34m\u001b[0m\u001b[0;34m\u001b[0m\u001b[0m\n\u001b[1;32m   1559\u001b[0m             \u001b[0mprint_method\u001b[0m\u001b[0;34m(\u001b[0m\u001b[0mio\u001b[0m\u001b[0;34m.\u001b[0m\u001b[0mBytesIO\u001b[0m\u001b[0;34m(\u001b[0m\u001b[0;34m)\u001b[0m\u001b[0;34m)\u001b[0m\u001b[0;34m\u001b[0m\u001b[0;34m\u001b[0m\u001b[0m\n\u001b[0;32m-> 1560\u001b[0;31m         \u001b[0;32mexcept\u001b[0m \u001b[0mDone\u001b[0m \u001b[0;32mas\u001b[0m \u001b[0mexc\u001b[0m\u001b[0;34m:\u001b[0m\u001b[0;34m\u001b[0m\u001b[0;34m\u001b[0m\u001b[0m\n\u001b[0m\u001b[1;32m   1561\u001b[0m             \u001b[0mrenderer\u001b[0m\u001b[0;34m,\u001b[0m \u001b[0;34m=\u001b[0m \u001b[0mexc\u001b[0m\u001b[0;34m.\u001b[0m\u001b[0margs\u001b[0m\u001b[0;34m\u001b[0m\u001b[0;34m\u001b[0m\u001b[0m\n\u001b[1;32m   1562\u001b[0m             \u001b[0;32mreturn\u001b[0m \u001b[0mrenderer\u001b[0m\u001b[0;34m\u001b[0m\u001b[0;34m\u001b[0m\u001b[0m\n",
            "\u001b[0;32m/usr/local/lib/python3.8/dist-packages/matplotlib/backends/backend_agg.py\u001b[0m in \u001b[0;36mprint_png\u001b[0;34m(self, filename_or_obj, metadata, pil_kwargs, *args, **kwargs)\u001b[0m\n\u001b[1;32m    503\u001b[0m             \u001b[0mIf\u001b[0m \u001b[0;34m'Software'\u001b[0m \u001b[0;32mis\u001b[0m \u001b[0;32mnot\u001b[0m \u001b[0mgiven\u001b[0m\u001b[0;34m,\u001b[0m \u001b[0man\u001b[0m \u001b[0mautogenerated\u001b[0m \u001b[0mvalue\u001b[0m \u001b[0;32mfor\u001b[0m \u001b[0mMatplotlib\u001b[0m\u001b[0;34m\u001b[0m\u001b[0;34m\u001b[0m\u001b[0m\n\u001b[1;32m    504\u001b[0m             \u001b[0mwill\u001b[0m \u001b[0mbe\u001b[0m \u001b[0mused\u001b[0m\u001b[0;34m.\u001b[0m  \u001b[0mThis\u001b[0m \u001b[0mcan\u001b[0m \u001b[0mbe\u001b[0m \u001b[0mremoved\u001b[0m \u001b[0mby\u001b[0m \u001b[0msetting\u001b[0m \u001b[0mit\u001b[0m \u001b[0mto\u001b[0m \u001b[0;34m*\u001b[0m\u001b[0;32mNone\u001b[0m\u001b[0;34m*\u001b[0m\u001b[0;34m.\u001b[0m\u001b[0;34m\u001b[0m\u001b[0;34m\u001b[0m\u001b[0m\n\u001b[0;32m--> 505\u001b[0;31m \u001b[0;34m\u001b[0m\u001b[0m\n\u001b[0m\u001b[1;32m    506\u001b[0m             \u001b[0mFor\u001b[0m \u001b[0mmore\u001b[0m \u001b[0mdetails\u001b[0m \u001b[0msee\u001b[0m \u001b[0mthe\u001b[0m\u001b[0;31m \u001b[0m\u001b[0;31m`\u001b[0m\u001b[0mPNG\u001b[0m \u001b[0mspecification\u001b[0m\u001b[0;31m`\u001b[0m\u001b[0m_\u001b[0m\u001b[0;34m.\u001b[0m\u001b[0;34m\u001b[0m\u001b[0;34m\u001b[0m\u001b[0m\n\u001b[1;32m    507\u001b[0m \u001b[0;34m\u001b[0m\u001b[0m\n",
            "\u001b[0;31mImportError\u001b[0m: cannot import name '_png' from 'matplotlib' (/usr/local/lib/python3.8/dist-packages/matplotlib/__init__.py)"
          ]
        },
        {
          "output_type": "display_data",
          "data": {
            "text/plain": [
              "<Figure size 432x288 with 1 Axes>"
            ]
          },
          "metadata": {
            "needs_background": "light"
          }
        }
      ],
      "source": [
        "#series_airと series_milkという2つの時系列データセットをプロットしようとしている\n",
        "series_air = AirPassengersDataset().load()\n",
        "series_milk = MonthlyMilkDataset().load()\n",
        "\n",
        "#plot()メソッドはTimeSeriesクラスのメソッドで、時系列データの折れ線グラフを作成するために使用されます。\n",
        "#labelパラメータで各時系列にラベルを指定し、それを使ってプロットの凡例を作成します。\n",
        "series_air.plot(label=\"Number of air passengers\")\n",
        "series_milk.plot(label=\"Pounds of milk produced per cow\")\n",
        "#プロットに凡例を追加するためにlegend()関数を使用する\n",
        "plt.legend();"
      ]
    },
    {
      "cell_type": "markdown",
      "metadata": {
        "id": "4d6TxxSbkfIN"
      },
      "source": [
        "# 前処理\n",
        "通常、ニューラルネットワークは正規化/標準化されたデータでより良く動作する傾向があります。ここではScalerクラスを使って、両方の時系列を0と1の間で正規化することにします。"
      ]
    },
    {
      "cell_type": "code",
      "execution_count": null,
      "metadata": {
        "id": "9f1K-pzokfIN",
        "outputId": "f457ff4f-ae72-4033-fec5-463da4c184ad",
        "colab": {
          "base_uri": "https://localhost:8080/",
          "height": 452
        }
      },
      "outputs": [
        {
          "output_type": "error",
          "ename": "ImportError",
          "evalue": "ignored",
          "traceback": [
            "\u001b[0;31m---------------------------------------------------------------------------\u001b[0m",
            "\u001b[0;31mImportError\u001b[0m                               Traceback (most recent call last)",
            "\u001b[0;32m/usr/local/lib/python3.8/dist-packages/IPython/core/formatters.py\u001b[0m in \u001b[0;36m__call__\u001b[0;34m(self, obj)\u001b[0m\n\u001b[1;32m    339\u001b[0m                 \u001b[0;32mpass\u001b[0m\u001b[0;34m\u001b[0m\u001b[0;34m\u001b[0m\u001b[0m\n\u001b[1;32m    340\u001b[0m             \u001b[0;32melse\u001b[0m\u001b[0;34m:\u001b[0m\u001b[0;34m\u001b[0m\u001b[0;34m\u001b[0m\u001b[0m\n\u001b[0;32m--> 341\u001b[0;31m                 \u001b[0;32mreturn\u001b[0m \u001b[0mprinter\u001b[0m\u001b[0;34m(\u001b[0m\u001b[0mobj\u001b[0m\u001b[0;34m)\u001b[0m\u001b[0;34m\u001b[0m\u001b[0;34m\u001b[0m\u001b[0m\n\u001b[0m\u001b[1;32m    342\u001b[0m             \u001b[0;31m# Finally look for special method names\u001b[0m\u001b[0;34m\u001b[0m\u001b[0;34m\u001b[0m\u001b[0;34m\u001b[0m\u001b[0m\n\u001b[1;32m    343\u001b[0m             \u001b[0mmethod\u001b[0m \u001b[0;34m=\u001b[0m \u001b[0mget_real_method\u001b[0m\u001b[0;34m(\u001b[0m\u001b[0mobj\u001b[0m\u001b[0;34m,\u001b[0m \u001b[0mself\u001b[0m\u001b[0;34m.\u001b[0m\u001b[0mprint_method\u001b[0m\u001b[0;34m)\u001b[0m\u001b[0;34m\u001b[0m\u001b[0;34m\u001b[0m\u001b[0m\n",
            "\u001b[0;32m/usr/local/lib/python3.8/dist-packages/IPython/core/pylabtools.py\u001b[0m in \u001b[0;36m<lambda>\u001b[0;34m(fig)\u001b[0m\n\u001b[1;32m    242\u001b[0m \u001b[0;34m\u001b[0m\u001b[0m\n\u001b[1;32m    243\u001b[0m     \u001b[0;32mif\u001b[0m \u001b[0;34m'png'\u001b[0m \u001b[0;32min\u001b[0m \u001b[0mformats\u001b[0m\u001b[0;34m:\u001b[0m\u001b[0;34m\u001b[0m\u001b[0;34m\u001b[0m\u001b[0m\n\u001b[0;32m--> 244\u001b[0;31m         \u001b[0mpng_formatter\u001b[0m\u001b[0;34m.\u001b[0m\u001b[0mfor_type\u001b[0m\u001b[0;34m(\u001b[0m\u001b[0mFigure\u001b[0m\u001b[0;34m,\u001b[0m \u001b[0;32mlambda\u001b[0m \u001b[0mfig\u001b[0m\u001b[0;34m:\u001b[0m \u001b[0mprint_figure\u001b[0m\u001b[0;34m(\u001b[0m\u001b[0mfig\u001b[0m\u001b[0;34m,\u001b[0m \u001b[0;34m'png'\u001b[0m\u001b[0;34m,\u001b[0m \u001b[0;34m**\u001b[0m\u001b[0mkwargs\u001b[0m\u001b[0;34m)\u001b[0m\u001b[0;34m)\u001b[0m\u001b[0;34m\u001b[0m\u001b[0;34m\u001b[0m\u001b[0m\n\u001b[0m\u001b[1;32m    245\u001b[0m     \u001b[0;32mif\u001b[0m \u001b[0;34m'retina'\u001b[0m \u001b[0;32min\u001b[0m \u001b[0mformats\u001b[0m \u001b[0;32mor\u001b[0m \u001b[0;34m'png2x'\u001b[0m \u001b[0;32min\u001b[0m \u001b[0mformats\u001b[0m\u001b[0;34m:\u001b[0m\u001b[0;34m\u001b[0m\u001b[0;34m\u001b[0m\u001b[0m\n\u001b[1;32m    246\u001b[0m         \u001b[0mpng_formatter\u001b[0m\u001b[0;34m.\u001b[0m\u001b[0mfor_type\u001b[0m\u001b[0;34m(\u001b[0m\u001b[0mFigure\u001b[0m\u001b[0;34m,\u001b[0m \u001b[0;32mlambda\u001b[0m \u001b[0mfig\u001b[0m\u001b[0;34m:\u001b[0m \u001b[0mretina_figure\u001b[0m\u001b[0;34m(\u001b[0m\u001b[0mfig\u001b[0m\u001b[0;34m,\u001b[0m \u001b[0;34m**\u001b[0m\u001b[0mkwargs\u001b[0m\u001b[0;34m)\u001b[0m\u001b[0;34m)\u001b[0m\u001b[0;34m\u001b[0m\u001b[0;34m\u001b[0m\u001b[0m\n",
            "\u001b[0;32m/usr/local/lib/python3.8/dist-packages/IPython/core/pylabtools.py\u001b[0m in \u001b[0;36mprint_figure\u001b[0;34m(fig, fmt, bbox_inches, **kwargs)\u001b[0m\n\u001b[1;32m    126\u001b[0m \u001b[0;34m\u001b[0m\u001b[0m\n\u001b[1;32m    127\u001b[0m     \u001b[0mbytes_io\u001b[0m \u001b[0;34m=\u001b[0m \u001b[0mBytesIO\u001b[0m\u001b[0;34m(\u001b[0m\u001b[0;34m)\u001b[0m\u001b[0;34m\u001b[0m\u001b[0;34m\u001b[0m\u001b[0m\n\u001b[0;32m--> 128\u001b[0;31m     \u001b[0mfig\u001b[0m\u001b[0;34m.\u001b[0m\u001b[0mcanvas\u001b[0m\u001b[0;34m.\u001b[0m\u001b[0mprint_figure\u001b[0m\u001b[0;34m(\u001b[0m\u001b[0mbytes_io\u001b[0m\u001b[0;34m,\u001b[0m \u001b[0;34m**\u001b[0m\u001b[0mkw\u001b[0m\u001b[0;34m)\u001b[0m\u001b[0;34m\u001b[0m\u001b[0;34m\u001b[0m\u001b[0m\n\u001b[0m\u001b[1;32m    129\u001b[0m     \u001b[0mdata\u001b[0m \u001b[0;34m=\u001b[0m \u001b[0mbytes_io\u001b[0m\u001b[0;34m.\u001b[0m\u001b[0mgetvalue\u001b[0m\u001b[0;34m(\u001b[0m\u001b[0;34m)\u001b[0m\u001b[0;34m\u001b[0m\u001b[0;34m\u001b[0m\u001b[0m\n\u001b[1;32m    130\u001b[0m     \u001b[0;32mif\u001b[0m \u001b[0mfmt\u001b[0m \u001b[0;34m==\u001b[0m \u001b[0;34m'svg'\u001b[0m\u001b[0;34m:\u001b[0m\u001b[0;34m\u001b[0m\u001b[0;34m\u001b[0m\u001b[0m\n",
            "\u001b[0;32m/usr/local/lib/python3.8/dist-packages/matplotlib/backend_bases.py\u001b[0m in \u001b[0;36mprint_figure\u001b[0;34m(self, filename, dpi, facecolor, edgecolor, orientation, format, bbox_inches, **kwargs)\u001b[0m\n\u001b[1;32m   2089\u001b[0m         \u001b[0mReturns\u001b[0m\u001b[0;34m\u001b[0m\u001b[0;34m\u001b[0m\u001b[0m\n\u001b[1;32m   2090\u001b[0m         \u001b[0;34m-\u001b[0m\u001b[0;34m-\u001b[0m\u001b[0;34m-\u001b[0m\u001b[0;34m-\u001b[0m\u001b[0;34m-\u001b[0m\u001b[0;34m-\u001b[0m\u001b[0;34m-\u001b[0m\u001b[0;34m\u001b[0m\u001b[0;34m\u001b[0m\u001b[0m\n\u001b[0;32m-> 2091\u001b[0;31m         \u001b[0mbool\u001b[0m\u001b[0;34m\u001b[0m\u001b[0;34m\u001b[0m\u001b[0m\n\u001b[0m\u001b[1;32m   2092\u001b[0m             \u001b[0mWhether\u001b[0m \u001b[0mthe\u001b[0m \u001b[0mratio\u001b[0m \u001b[0mhas\u001b[0m \u001b[0mchanged\u001b[0m\u001b[0;34m.\u001b[0m \u001b[0mBackends\u001b[0m \u001b[0mmay\u001b[0m \u001b[0minterpret\u001b[0m \u001b[0mthis\u001b[0m \u001b[0;32mas\u001b[0m \u001b[0ma\u001b[0m\u001b[0;34m\u001b[0m\u001b[0;34m\u001b[0m\u001b[0m\n\u001b[1;32m   2093\u001b[0m             \u001b[0msignal\u001b[0m \u001b[0mto\u001b[0m \u001b[0mresize\u001b[0m \u001b[0mthe\u001b[0m \u001b[0mwindow\u001b[0m\u001b[0;34m,\u001b[0m \u001b[0mrepaint\u001b[0m \u001b[0mthe\u001b[0m \u001b[0mcanvas\u001b[0m\u001b[0;34m,\u001b[0m \u001b[0;32mor\u001b[0m \u001b[0mchange\u001b[0m \u001b[0many\u001b[0m\u001b[0;34m\u001b[0m\u001b[0;34m\u001b[0m\u001b[0m\n",
            "\u001b[0;32m/usr/local/lib/python3.8/dist-packages/matplotlib/backend_bases.py\u001b[0m in \u001b[0;36m_get_renderer\u001b[0;34m(figure, print_method)\u001b[0m\n\u001b[1;32m   1558\u001b[0m         \u001b[0;32mtry\u001b[0m\u001b[0;34m:\u001b[0m\u001b[0;34m\u001b[0m\u001b[0;34m\u001b[0m\u001b[0m\n\u001b[1;32m   1559\u001b[0m             \u001b[0mprint_method\u001b[0m\u001b[0;34m(\u001b[0m\u001b[0mio\u001b[0m\u001b[0;34m.\u001b[0m\u001b[0mBytesIO\u001b[0m\u001b[0;34m(\u001b[0m\u001b[0;34m)\u001b[0m\u001b[0;34m)\u001b[0m\u001b[0;34m\u001b[0m\u001b[0;34m\u001b[0m\u001b[0m\n\u001b[0;32m-> 1560\u001b[0;31m         \u001b[0;32mexcept\u001b[0m \u001b[0mDone\u001b[0m \u001b[0;32mas\u001b[0m \u001b[0mexc\u001b[0m\u001b[0;34m:\u001b[0m\u001b[0;34m\u001b[0m\u001b[0;34m\u001b[0m\u001b[0m\n\u001b[0m\u001b[1;32m   1561\u001b[0m             \u001b[0mrenderer\u001b[0m\u001b[0;34m,\u001b[0m \u001b[0;34m=\u001b[0m \u001b[0mexc\u001b[0m\u001b[0;34m.\u001b[0m\u001b[0margs\u001b[0m\u001b[0;34m\u001b[0m\u001b[0;34m\u001b[0m\u001b[0m\n\u001b[1;32m   1562\u001b[0m             \u001b[0;32mreturn\u001b[0m \u001b[0mrenderer\u001b[0m\u001b[0;34m\u001b[0m\u001b[0;34m\u001b[0m\u001b[0m\n",
            "\u001b[0;32m/usr/local/lib/python3.8/dist-packages/matplotlib/backends/backend_agg.py\u001b[0m in \u001b[0;36mprint_png\u001b[0;34m(self, filename_or_obj, metadata, pil_kwargs, *args, **kwargs)\u001b[0m\n\u001b[1;32m    503\u001b[0m             \u001b[0mIf\u001b[0m \u001b[0;34m'Software'\u001b[0m \u001b[0;32mis\u001b[0m \u001b[0;32mnot\u001b[0m \u001b[0mgiven\u001b[0m\u001b[0;34m,\u001b[0m \u001b[0man\u001b[0m \u001b[0mautogenerated\u001b[0m \u001b[0mvalue\u001b[0m \u001b[0;32mfor\u001b[0m \u001b[0mMatplotlib\u001b[0m\u001b[0;34m\u001b[0m\u001b[0;34m\u001b[0m\u001b[0m\n\u001b[1;32m    504\u001b[0m             \u001b[0mwill\u001b[0m \u001b[0mbe\u001b[0m \u001b[0mused\u001b[0m\u001b[0;34m.\u001b[0m  \u001b[0mThis\u001b[0m \u001b[0mcan\u001b[0m \u001b[0mbe\u001b[0m \u001b[0mremoved\u001b[0m \u001b[0mby\u001b[0m \u001b[0msetting\u001b[0m \u001b[0mit\u001b[0m \u001b[0mto\u001b[0m \u001b[0;34m*\u001b[0m\u001b[0;32mNone\u001b[0m\u001b[0;34m*\u001b[0m\u001b[0;34m.\u001b[0m\u001b[0;34m\u001b[0m\u001b[0;34m\u001b[0m\u001b[0m\n\u001b[0;32m--> 505\u001b[0;31m \u001b[0;34m\u001b[0m\u001b[0m\n\u001b[0m\u001b[1;32m    506\u001b[0m             \u001b[0mFor\u001b[0m \u001b[0mmore\u001b[0m \u001b[0mdetails\u001b[0m \u001b[0msee\u001b[0m \u001b[0mthe\u001b[0m\u001b[0;31m \u001b[0m\u001b[0;31m`\u001b[0m\u001b[0mPNG\u001b[0m \u001b[0mspecification\u001b[0m\u001b[0;31m`\u001b[0m\u001b[0m_\u001b[0m\u001b[0;34m.\u001b[0m\u001b[0;34m\u001b[0m\u001b[0;34m\u001b[0m\u001b[0m\n\u001b[1;32m    507\u001b[0m \u001b[0;34m\u001b[0m\u001b[0m\n",
            "\u001b[0;31mImportError\u001b[0m: cannot import name '_png' from 'matplotlib' (/usr/local/lib/python3.8/dist-packages/matplotlib/__init__.py)"
          ]
        },
        {
          "output_type": "display_data",
          "data": {
            "text/plain": [
              "<Figure size 432x288 with 1 Axes>"
            ]
          },
          "metadata": {
            "needs_background": "light"
          }
        }
      ],
      "source": [
        "#データをスケーリングするためのPythonの前処理モジュールであるscikit-learnのScalerクラスのインスタンスを2つ使用している\n",
        "#最初のインスタンスscaler_air はseries_airデータのフィットと変換に使われ、2 番目のインスタンスscaler_milk はseries_milkデータのフィットと変換に使われます。\n",
        "scaler_air, scaler_milk = Scaler(), Scaler()\n",
        "#fit_transformメソッドは、データをスケーリングして、スケーリングされたデータを返します。\n",
        "series_air_scaled = scaler_air.fit_transform(series_air)\n",
        "series_milk_scaled = scaler_milk.fit_transform(series_milk)\n",
        "\n",
        "#データをスケーリングした後、このコードはseries_air_scaledとseries_milk_scaledオブジェクトのplotメソッドを使用してスケーリングされたデータをプロットします。\n",
        "#label引数はプロットの凡例にデータ系列のラベルを指定するために使用されます。\n",
        "series_air_scaled.plot(label=\"air\")\n",
        "series_milk_scaled.plot(label=\"milk\")\n",
        "\n",
        "#最後に、プロット上に凡例を表示するためにlegendメソッドが呼び出されます。\n",
        "plt.legend();"
      ]
    },
    {
      "cell_type": "markdown",
      "metadata": {
        "id": "GH6zkgmekfIO"
      },
      "source": [
        "# トレーニング/バリデーションの分割\n",
        "両シリーズの過去36ヶ月を検証用として残しておこう。"
      ]
    },
    {
      "cell_type": "code",
      "execution_count": null,
      "metadata": {
        "id": "0zxwLgKNkfIP"
      },
      "outputs": [],
      "source": [
        "#このコードは、2つの時系列データセット(series_air_scaled と series_milk_scaled) をトレーニングセットと検証セットに分割している\n",
        "#トレーニングセットは、時系列の最後の36データポイントまでのすべてのデータで構成され、\n",
        "#バリデーションセットは、各時系列の最後の36データポイントで構成されます。\n",
        "#バリデーションセットを作成する目的は、トレーニング中に見ていないデータでモデルのパフォーマンスを評価することです。\n",
        "#これにより、全く新しい未知のデータに対して予測を行うためにモデルを使用する前に、未知のデータに対するモデルの性能の推定を行い、\n",
        "#（必要であれば）モデルのハイパーパラメータを調整することができます。\n",
        "train_air, val_air = series_air_scaled[:-36], series_air_scaled[-36:]\n",
        "train_milk, val_milk = series_milk_scaled[:-36], series_milk_scaled[-36:]"
      ]
    },
    {
      "cell_type": "markdown",
      "metadata": {
        "id": "Jw_JPGpdkfIQ"
      },
      "source": [
        "\n",
        "日本語\n",
        "\n",
        "\n",
        "# グローバル予測モデル\n",
        "Dartsには多くの予測モデルが含まれていますが、すべてのモデルが複数の時系列で学習できるわけではありません。複数の時系列での学習をサポートするモデルは、グローバルモデルと呼ばれています。本稿執筆時点では、5つのグローバルモデルが存在します。\n",
        "\n",
        "BlockRNNModel\n",
        "\n",
        "\n",
        "* RNNModel\n",
        "* 時間畳み込みネットワーク(TCN)\n",
        "* Nビート\n",
        "* トランスフォーマーモデル\n",
        "* 以下では、2種類の時系列を区別する。 \n",
        "\n",
        "ターゲット時系列は、（その履歴から）予測することに興味がある時系列である。<br>\n",
        "共変量時系列は、ターゲット時系列の予測に役立つかもしれないが、我々は予測に興味がない時系列である。外部データとも呼ばれることがあります。\n",
        "さらに共変量系列は、事前に知ることができるかできないかによって区別されます。<br>\n",
        "\n",
        "過去の共変量は、予測時に過去の値が分かっている時系列を表します。<br>これらは通常、測定または観測されなければならないものである。<br>\n",
        "将来の共変量は、予測時点で将来の値が予測地平線のスパンで既に知られている時系列を表します。<br>これらは、例えば、既知の将来の休日や天気予報を表すことができます。<br>\n",
        "モデルによっては、過去の共変量のみを使用するもの、将来の共変量のみを使用するもの、また両方を使用するものがあります。<br>この話題は別のノートで詳しく説明しますが、今はこれだけ知っていれば十分でしょう。\n",
        "\n",
        "BlockRNNModel、TCNModel、NBEATSModel、TransformerModelはすべてpast_covariatesを使用します。<br>\n",
        "RNNModelはfuture_covariatesを使用します。<br>\n",
        "上記の全てのグローバルモデルは、複数系列の学習をサポートしています。<br>さらに、これらはすべて多変量系列をサポートしています。<br>つまり、1次元以上の時系列をシームレスに使用することができます。<br>ターゲットとなる時系列は、1次元（よくあること）でも数次元でもかまいません。多次元時系列は、実際には、各タイムスタンプの値がスカラーではなくベクトルである通常の時系列に過ぎません。\n",
        "<br>\n",
        "例として、past_covariatesをサポートする4つのモデルは、「ブロック」アーキテクチャに従います。<br>時系列の塊を入力とし、将来の時系列値の塊（予測値）を出力するニューラルネットワークが含まれています。<br>入力の次元数は、対象系列の次元数（成分数）と、すべての共変量の成分数（積み上げ数）である。出力の次元数は、単純にターゲット系列の次元数である。\n",
        "\n",
        "\n",
        "\n",
        "![](https://github.com/unit8co/darts/blob/master/examples/static/images/global_io_covs.png?raw=1)\n",
        "\n",
        "\n",
        "\n",
        "\n",
        "RNNModelはリカレント方式で、異なる動作をします(これが将来の共変数をサポートする理由でもあります)。<br>良い点は、ユーザーとしてモデルの種類や入出力の次元数についてあまり気にする必要がないことである。<br>次元数は学習データに基づいてモデルによって自動的に推測され、過去または未来の共変量のサポートは単にpast_covariatesまたはfuture_covariates引数によって処理される。\n",
        "<br>\n",
        "モデルを構築する際には、まだ2つの重要なパラメータを指定する必要があります。\n",
        "<br>\n",
        "input_chunk_length: これはモデルのルックバックウィンドウの長さで、各出力は以前の input_chunk_length のポイントを読み込んでモデルによって計算されます。<br>\n",
        "output_chunk_length: 内部モデルによって生成される出力（予測）の長さである。<br>しかし、「外部」Dartsモデル（例えば、NBEATSModel、TCNModelなどのもの）のpredict()メソッドは、より長い時間地平線のために呼び出すことができます。<br>これらの場合、もしpredict()がoutput_chunk_lengthより長い時間軸で呼ばれると、内部モデルは単に繰り返し呼ばれ、それ自身の以前の出力を自動回帰的に供給することになります。<br>past_covariates が使用される場合、これらの共変量が事前に十分長い間知られている必要があります。<br>\n",
        "1つの系列での例\n",
        "最初の例を見てみましょう。24ポイントのルックバックウィンドウを持ち（input_chunk_length=24）、次の12ポイントを予測する（output_chunk_length=12）N-BEATSモデルを構築することにします。これらの値は、過去2年間を見て、一度に1年分の連続した予測を生成するように選びました。\n",
        "\n",
        "\n"
      ]
    },
    {
      "cell_type": "code",
      "execution_count": null,
      "metadata": {
        "id": "QDk-XsYckfIR"
      },
      "outputs": [],
      "source": [
        "#model_airという変数を定義し、NBEATSModelクラスのインスタンスに代入している\n",
        "#このオブジェクトはいくつかのパラメータで初期化されています。\n",
        "model_air = NBEATSModel(\n",
        "    input_chunk_length=24,# 入力チャンクの長さを表す整数値\n",
        "    output_chunk_length=12, #出力チャンクの長さを表す整数値\n",
        "    n_epochs=200, # モデルを学習させるエポック数を表す整数値。\n",
        "    random_state=0#モデルの学習に使用するランダムな状態を表す整数値\n",
        ")\n",
        "model_air.fit(train_air, verbose=True);"
      ]
    },
    {
      "cell_type": "markdown",
      "metadata": {
        "id": "5DyO6u9NkfIS"
      },
      "source": [
        "このモデルは、他のDarts予測モデルと同様に、単一の時系列にフィットして使用することができます"
      ]
    },
    {
      "cell_type": "code",
      "execution_count": null,
      "metadata": {
        "id": "jq_Hv-KjkfIS",
        "outputId": "6d696e4a-4a4f-4b78-a248-f4c906adb028",
        "colab": {
          "referenced_widgets": [
            "7020ca710ca24150a3a758a41b62c821",
            "a3a86a943f824c7bb3cf49f68ff1d331",
            "ea0522d76d7342188a92d51e4a2cd393",
            "4bb3778c02914ed1ae69003e8840bb7e",
            "3b6088bfdd57469a8da9076cb3bf4b9e",
            "2c3ff0e1d2e84a1d856e3c182b68d9b9",
            "aa08c8dbddd74b1b98e326cee6965fc4",
            "7f453fd53a774213848a22fbb21fadb4",
            "611b9a590db244c8b2ca7e357d385098",
            "b1b38e582c1b4c1ebc9515fc2e8c26a8",
            "2d3665ff35014a459e2f35b52467529b"
          ],
          "base_uri": "https://localhost:8080/",
          "height": 49
        }
      },
      "outputs": [
        {
          "output_type": "display_data",
          "data": {
            "text/plain": [
              "Training: 0it [00:00, ?it/s]"
            ],
            "application/vnd.jupyter.widget-view+json": {
              "version_major": 2,
              "version_minor": 0,
              "model_id": "7020ca710ca24150a3a758a41b62c821"
            }
          },
          "metadata": {}
        }
      ],
      "source": [
        "#最後に、fitメソッドを使用して、生成されたモデルをトレーニングデータで学習させています\n",
        "#verboseパラメータをTrueに指定することで、トレーニング過程が出力されるようになります。\n",
        "model_air.fit(train_air, verbose=True);"
      ]
    },
    {
      "cell_type": "markdown",
      "metadata": {
        "id": "y18eug6gkfIT"
      },
      "source": [
        "そして、他のDarts予測モデルと同様に、predict()を呼び出すことによって予測を得ることができます。下記では、モデル内部のoutput_chunk_lengthの12よりも長い36の水平線でpredict()を呼び出していることに注意してください。上で説明したように、このような場合、内部モデルは単にそれ自身の出力に対して自動回帰的に呼び出されます。この場合、3つの12ポイントの出力が最終的な36ポイントの予測を構成するように、3回呼び出されます。\n",
        "\n"
      ]
    },
    {
      "cell_type": "code",
      "execution_count": null,
      "metadata": {
        "id": "cqilaa3-kfIU",
        "outputId": "e174fc9c-7f87-470a-a10a-49991c818a37",
        "colab": {
          "referenced_widgets": [
            "e592220c68254f3b9c9246a4ae6d0653",
            "ecc42b891ffb4bb08dbc8ec8295aa78d",
            "c34b01616f5b4948ac165e66cce38aa1",
            "c9030d8fd9ac47e388490b724b37515e",
            "35a353ced3bd42e3b03b455dd7fc5aca",
            "210f5f1119704ce89fe40fd4ce0678a0",
            "85c24207c1ed45ae88272a3579748920",
            "3f69f203b6b14ee39caf710d951ceaa0",
            "90eb6ac9eb3c4e528df35fa80cb1ec3e",
            "73a55f075ab448e29a96dea7940c7b92",
            "6d30897bf5d64e309319f46311efa1b5"
          ],
          "base_uri": "https://localhost:8080/",
          "height": 502
        }
      },
      "outputs": [
        {
          "output_type": "display_data",
          "data": {
            "text/plain": [
              "Predicting: 3it [00:00, ?it/s]"
            ],
            "application/vnd.jupyter.widget-view+json": {
              "version_major": 2,
              "version_minor": 0,
              "model_id": "e592220c68254f3b9c9246a4ae6d0653"
            }
          },
          "metadata": {}
        },
        {
          "output_type": "stream",
          "name": "stdout",
          "text": [
            "MAPE = 8.02%\n"
          ]
        },
        {
          "output_type": "error",
          "ename": "ImportError",
          "evalue": "ignored",
          "traceback": [
            "\u001b[0;31m---------------------------------------------------------------------------\u001b[0m",
            "\u001b[0;31mImportError\u001b[0m                               Traceback (most recent call last)",
            "\u001b[0;32m/usr/local/lib/python3.8/dist-packages/IPython/core/formatters.py\u001b[0m in \u001b[0;36m__call__\u001b[0;34m(self, obj)\u001b[0m\n\u001b[1;32m    339\u001b[0m                 \u001b[0;32mpass\u001b[0m\u001b[0;34m\u001b[0m\u001b[0;34m\u001b[0m\u001b[0m\n\u001b[1;32m    340\u001b[0m             \u001b[0;32melse\u001b[0m\u001b[0;34m:\u001b[0m\u001b[0;34m\u001b[0m\u001b[0;34m\u001b[0m\u001b[0m\n\u001b[0;32m--> 341\u001b[0;31m                 \u001b[0;32mreturn\u001b[0m \u001b[0mprinter\u001b[0m\u001b[0;34m(\u001b[0m\u001b[0mobj\u001b[0m\u001b[0;34m)\u001b[0m\u001b[0;34m\u001b[0m\u001b[0;34m\u001b[0m\u001b[0m\n\u001b[0m\u001b[1;32m    342\u001b[0m             \u001b[0;31m# Finally look for special method names\u001b[0m\u001b[0;34m\u001b[0m\u001b[0;34m\u001b[0m\u001b[0;34m\u001b[0m\u001b[0m\n\u001b[1;32m    343\u001b[0m             \u001b[0mmethod\u001b[0m \u001b[0;34m=\u001b[0m \u001b[0mget_real_method\u001b[0m\u001b[0;34m(\u001b[0m\u001b[0mobj\u001b[0m\u001b[0;34m,\u001b[0m \u001b[0mself\u001b[0m\u001b[0;34m.\u001b[0m\u001b[0mprint_method\u001b[0m\u001b[0;34m)\u001b[0m\u001b[0;34m\u001b[0m\u001b[0;34m\u001b[0m\u001b[0m\n",
            "\u001b[0;32m/usr/local/lib/python3.8/dist-packages/IPython/core/pylabtools.py\u001b[0m in \u001b[0;36m<lambda>\u001b[0;34m(fig)\u001b[0m\n\u001b[1;32m    242\u001b[0m \u001b[0;34m\u001b[0m\u001b[0m\n\u001b[1;32m    243\u001b[0m     \u001b[0;32mif\u001b[0m \u001b[0;34m'png'\u001b[0m \u001b[0;32min\u001b[0m \u001b[0mformats\u001b[0m\u001b[0;34m:\u001b[0m\u001b[0;34m\u001b[0m\u001b[0;34m\u001b[0m\u001b[0m\n\u001b[0;32m--> 244\u001b[0;31m         \u001b[0mpng_formatter\u001b[0m\u001b[0;34m.\u001b[0m\u001b[0mfor_type\u001b[0m\u001b[0;34m(\u001b[0m\u001b[0mFigure\u001b[0m\u001b[0;34m,\u001b[0m \u001b[0;32mlambda\u001b[0m \u001b[0mfig\u001b[0m\u001b[0;34m:\u001b[0m \u001b[0mprint_figure\u001b[0m\u001b[0;34m(\u001b[0m\u001b[0mfig\u001b[0m\u001b[0;34m,\u001b[0m \u001b[0;34m'png'\u001b[0m\u001b[0;34m,\u001b[0m \u001b[0;34m**\u001b[0m\u001b[0mkwargs\u001b[0m\u001b[0;34m)\u001b[0m\u001b[0;34m)\u001b[0m\u001b[0;34m\u001b[0m\u001b[0;34m\u001b[0m\u001b[0m\n\u001b[0m\u001b[1;32m    245\u001b[0m     \u001b[0;32mif\u001b[0m \u001b[0;34m'retina'\u001b[0m \u001b[0;32min\u001b[0m \u001b[0mformats\u001b[0m \u001b[0;32mor\u001b[0m \u001b[0;34m'png2x'\u001b[0m \u001b[0;32min\u001b[0m \u001b[0mformats\u001b[0m\u001b[0;34m:\u001b[0m\u001b[0;34m\u001b[0m\u001b[0;34m\u001b[0m\u001b[0m\n\u001b[1;32m    246\u001b[0m         \u001b[0mpng_formatter\u001b[0m\u001b[0;34m.\u001b[0m\u001b[0mfor_type\u001b[0m\u001b[0;34m(\u001b[0m\u001b[0mFigure\u001b[0m\u001b[0;34m,\u001b[0m \u001b[0;32mlambda\u001b[0m \u001b[0mfig\u001b[0m\u001b[0;34m:\u001b[0m \u001b[0mretina_figure\u001b[0m\u001b[0;34m(\u001b[0m\u001b[0mfig\u001b[0m\u001b[0;34m,\u001b[0m \u001b[0;34m**\u001b[0m\u001b[0mkwargs\u001b[0m\u001b[0;34m)\u001b[0m\u001b[0;34m)\u001b[0m\u001b[0;34m\u001b[0m\u001b[0;34m\u001b[0m\u001b[0m\n",
            "\u001b[0;32m/usr/local/lib/python3.8/dist-packages/IPython/core/pylabtools.py\u001b[0m in \u001b[0;36mprint_figure\u001b[0;34m(fig, fmt, bbox_inches, **kwargs)\u001b[0m\n\u001b[1;32m    126\u001b[0m \u001b[0;34m\u001b[0m\u001b[0m\n\u001b[1;32m    127\u001b[0m     \u001b[0mbytes_io\u001b[0m \u001b[0;34m=\u001b[0m \u001b[0mBytesIO\u001b[0m\u001b[0;34m(\u001b[0m\u001b[0;34m)\u001b[0m\u001b[0;34m\u001b[0m\u001b[0;34m\u001b[0m\u001b[0m\n\u001b[0;32m--> 128\u001b[0;31m     \u001b[0mfig\u001b[0m\u001b[0;34m.\u001b[0m\u001b[0mcanvas\u001b[0m\u001b[0;34m.\u001b[0m\u001b[0mprint_figure\u001b[0m\u001b[0;34m(\u001b[0m\u001b[0mbytes_io\u001b[0m\u001b[0;34m,\u001b[0m \u001b[0;34m**\u001b[0m\u001b[0mkw\u001b[0m\u001b[0;34m)\u001b[0m\u001b[0;34m\u001b[0m\u001b[0;34m\u001b[0m\u001b[0m\n\u001b[0m\u001b[1;32m    129\u001b[0m     \u001b[0mdata\u001b[0m \u001b[0;34m=\u001b[0m \u001b[0mbytes_io\u001b[0m\u001b[0;34m.\u001b[0m\u001b[0mgetvalue\u001b[0m\u001b[0;34m(\u001b[0m\u001b[0;34m)\u001b[0m\u001b[0;34m\u001b[0m\u001b[0;34m\u001b[0m\u001b[0m\n\u001b[1;32m    130\u001b[0m     \u001b[0;32mif\u001b[0m \u001b[0mfmt\u001b[0m \u001b[0;34m==\u001b[0m \u001b[0;34m'svg'\u001b[0m\u001b[0;34m:\u001b[0m\u001b[0;34m\u001b[0m\u001b[0;34m\u001b[0m\u001b[0m\n",
            "\u001b[0;32m/usr/local/lib/python3.8/dist-packages/matplotlib/backend_bases.py\u001b[0m in \u001b[0;36mprint_figure\u001b[0;34m(self, filename, dpi, facecolor, edgecolor, orientation, format, bbox_inches, **kwargs)\u001b[0m\n\u001b[1;32m   2089\u001b[0m         \u001b[0mReturns\u001b[0m\u001b[0;34m\u001b[0m\u001b[0;34m\u001b[0m\u001b[0m\n\u001b[1;32m   2090\u001b[0m         \u001b[0;34m-\u001b[0m\u001b[0;34m-\u001b[0m\u001b[0;34m-\u001b[0m\u001b[0;34m-\u001b[0m\u001b[0;34m-\u001b[0m\u001b[0;34m-\u001b[0m\u001b[0;34m-\u001b[0m\u001b[0;34m\u001b[0m\u001b[0;34m\u001b[0m\u001b[0m\n\u001b[0;32m-> 2091\u001b[0;31m         \u001b[0mbool\u001b[0m\u001b[0;34m\u001b[0m\u001b[0;34m\u001b[0m\u001b[0m\n\u001b[0m\u001b[1;32m   2092\u001b[0m             \u001b[0mWhether\u001b[0m \u001b[0mthe\u001b[0m \u001b[0mratio\u001b[0m \u001b[0mhas\u001b[0m \u001b[0mchanged\u001b[0m\u001b[0;34m.\u001b[0m \u001b[0mBackends\u001b[0m \u001b[0mmay\u001b[0m \u001b[0minterpret\u001b[0m \u001b[0mthis\u001b[0m \u001b[0;32mas\u001b[0m \u001b[0ma\u001b[0m\u001b[0;34m\u001b[0m\u001b[0;34m\u001b[0m\u001b[0m\n\u001b[1;32m   2093\u001b[0m             \u001b[0msignal\u001b[0m \u001b[0mto\u001b[0m \u001b[0mresize\u001b[0m \u001b[0mthe\u001b[0m \u001b[0mwindow\u001b[0m\u001b[0;34m,\u001b[0m \u001b[0mrepaint\u001b[0m \u001b[0mthe\u001b[0m \u001b[0mcanvas\u001b[0m\u001b[0;34m,\u001b[0m \u001b[0;32mor\u001b[0m \u001b[0mchange\u001b[0m \u001b[0many\u001b[0m\u001b[0;34m\u001b[0m\u001b[0;34m\u001b[0m\u001b[0m\n",
            "\u001b[0;32m/usr/local/lib/python3.8/dist-packages/matplotlib/backend_bases.py\u001b[0m in \u001b[0;36m_get_renderer\u001b[0;34m(figure, print_method)\u001b[0m\n\u001b[1;32m   1558\u001b[0m         \u001b[0;32mtry\u001b[0m\u001b[0;34m:\u001b[0m\u001b[0;34m\u001b[0m\u001b[0;34m\u001b[0m\u001b[0m\n\u001b[1;32m   1559\u001b[0m             \u001b[0mprint_method\u001b[0m\u001b[0;34m(\u001b[0m\u001b[0mio\u001b[0m\u001b[0;34m.\u001b[0m\u001b[0mBytesIO\u001b[0m\u001b[0;34m(\u001b[0m\u001b[0;34m)\u001b[0m\u001b[0;34m)\u001b[0m\u001b[0;34m\u001b[0m\u001b[0;34m\u001b[0m\u001b[0m\n\u001b[0;32m-> 1560\u001b[0;31m         \u001b[0;32mexcept\u001b[0m \u001b[0mDone\u001b[0m \u001b[0;32mas\u001b[0m \u001b[0mexc\u001b[0m\u001b[0;34m:\u001b[0m\u001b[0;34m\u001b[0m\u001b[0;34m\u001b[0m\u001b[0m\n\u001b[0m\u001b[1;32m   1561\u001b[0m             \u001b[0mrenderer\u001b[0m\u001b[0;34m,\u001b[0m \u001b[0;34m=\u001b[0m \u001b[0mexc\u001b[0m\u001b[0;34m.\u001b[0m\u001b[0margs\u001b[0m\u001b[0;34m\u001b[0m\u001b[0;34m\u001b[0m\u001b[0m\n\u001b[1;32m   1562\u001b[0m             \u001b[0;32mreturn\u001b[0m \u001b[0mrenderer\u001b[0m\u001b[0;34m\u001b[0m\u001b[0;34m\u001b[0m\u001b[0m\n",
            "\u001b[0;32m/usr/local/lib/python3.8/dist-packages/matplotlib/backends/backend_agg.py\u001b[0m in \u001b[0;36mprint_png\u001b[0;34m(self, filename_or_obj, metadata, pil_kwargs, *args, **kwargs)\u001b[0m\n\u001b[1;32m    503\u001b[0m             \u001b[0mIf\u001b[0m \u001b[0;34m'Software'\u001b[0m \u001b[0;32mis\u001b[0m \u001b[0;32mnot\u001b[0m \u001b[0mgiven\u001b[0m\u001b[0;34m,\u001b[0m \u001b[0man\u001b[0m \u001b[0mautogenerated\u001b[0m \u001b[0mvalue\u001b[0m \u001b[0;32mfor\u001b[0m \u001b[0mMatplotlib\u001b[0m\u001b[0;34m\u001b[0m\u001b[0;34m\u001b[0m\u001b[0m\n\u001b[1;32m    504\u001b[0m             \u001b[0mwill\u001b[0m \u001b[0mbe\u001b[0m \u001b[0mused\u001b[0m\u001b[0;34m.\u001b[0m  \u001b[0mThis\u001b[0m \u001b[0mcan\u001b[0m \u001b[0mbe\u001b[0m \u001b[0mremoved\u001b[0m \u001b[0mby\u001b[0m \u001b[0msetting\u001b[0m \u001b[0mit\u001b[0m \u001b[0mto\u001b[0m \u001b[0;34m*\u001b[0m\u001b[0;32mNone\u001b[0m\u001b[0;34m*\u001b[0m\u001b[0;34m.\u001b[0m\u001b[0;34m\u001b[0m\u001b[0;34m\u001b[0m\u001b[0m\n\u001b[0;32m--> 505\u001b[0;31m \u001b[0;34m\u001b[0m\u001b[0m\n\u001b[0m\u001b[1;32m    506\u001b[0m             \u001b[0mFor\u001b[0m \u001b[0mmore\u001b[0m \u001b[0mdetails\u001b[0m \u001b[0msee\u001b[0m \u001b[0mthe\u001b[0m\u001b[0;31m \u001b[0m\u001b[0;31m`\u001b[0m\u001b[0mPNG\u001b[0m \u001b[0mspecification\u001b[0m\u001b[0;31m`\u001b[0m\u001b[0m_\u001b[0m\u001b[0;34m.\u001b[0m\u001b[0;34m\u001b[0m\u001b[0;34m\u001b[0m\u001b[0m\n\u001b[1;32m    507\u001b[0m \u001b[0;34m\u001b[0m\u001b[0m\n",
            "\u001b[0;31mImportError\u001b[0m: cannot import name '_png' from 'matplotlib' (/usr/local/lib/python3.8/dist-packages/matplotlib/__init__.py)"
          ]
        },
        {
          "output_type": "display_data",
          "data": {
            "text/plain": [
              "<Figure size 432x288 with 1 Axes>"
            ]
          },
          "metadata": {
            "needs_background": "light"
          }
        }
      ],
      "source": [
        "#モデルオブジェクト（model_air）のpredictメソッドを使って、ある時系列データ（series_air_scaled）の予測を生成している\n",
        "#nパラメータは何ステップ先まで予測するかを指定します、\n",
        "#したがって、この場合、モデルは次の36の時間ステップの予測を生成します。\n",
        "pred = model_air.predict(n=36)\n",
        "#次に、実際のデータと予測を可視化するためにplotメソッドが使用されます。\n",
        "series_air_scaled.plot(label=\"actual\")\n",
        "pred.plot(label=\"forecast\")\n",
        "\n",
        "plt.legend()\n",
        "#最後に、mape関数を使って、実際のデータと予測との間の平均絶対誤差（MAPE）を計算します。\n",
        "print(\"MAPE = {:.2f}%\".format(mape(series_air_scaled, pred)))"
      ]
    },
    {
      "cell_type": "markdown",
      "metadata": {
        "id": "Knnm_3xvkfIU"
      },
      "source": [
        "\n",
        "日本語\n",
        "\n",
        "\n",
        "学習プロセス（裏側）\n",
        "では、上記のmodel_air.fit()を呼び出したらどうなったのでしょうか？\n",
        "\n",
        "内部ニューラルネットワークを学習させるために、Dartsはまず提供された時系列（この場合はseries_air_scaled）から入力/出力例のデータセットを作成します。これを行うにはいくつかの方法があり、Dartsにはdarts.utils.dataパッケージにいくつかの異なるデータセット実装が含まれています。\n",
        "\n",
        "デフォルトでは、NBEATSModelはdarts.utils.data.PastCovariatesSequentialDatasetをインスタンス化し、シリーズに存在する（長さinput_chunk_lengthおよび output_chunk_lengthの）入力/出力サブシーケンスのすべての連続ペアを単に構築します).\n",
        "\n",
        "長さ14、input_chunk_length=4、output_chunk_length=2の系列の例では、以下のようになります。\n",
        "\n",
        "![](https://github.com/arumajirou/-daily-test/blob/main/static/images/seq_dataset_one_ts.png?raw=1)\n",
        "![image.png](data:image/png;base64,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)\n",
        "このようなデータセットでは、長さNの系列はN - input_chunk_length - output_chunk_length + 1のサンプル数の「トレーニングセット」になります。上記の例では、N=14、input_chunk_length=4、output_chunk_length=2 なので、学習に使うサンプル数は K = 9 となります。この場合，1つのトレーニングエポックは，すべてのサンプルに対する完全なパス（いくつかのミニバッチから構成される可能性があります）で構成されます．\n",
        "\n",
        "モデルによって、デフォルトで使用するデータセットが異なることに注意してください。例えば、darts.utils.data.HorizonBasedDatasetはN-BEATS論文から着想を得ており、系列の終わりに「近い」サンプルを生成し、系列の始まりさえ無視する可能性があります。\n",
        "\n",
        "TimeSeriesインスタンスから生成されるトレーニングサンプルを制御する必要がある場合、抽象的なdarts.utils.data.TrainingDatasetクラスを継承して、独自のトレーニングデータセットを実装することが可能です。Dartsデータセットはtorch Datasetを継承しているので、一度にすべてのデータをメモリにロードしない遅延バージョンを簡単に実装することができます。データセットの自分自身のインスタンスができたら、すべてのグローバル予測モデルでサポートされているfit_from_dataset()メソッドを直接呼び出すことができます。\n",
        "\n",
        "複数の時系列に対するモデルの学習\n",
        "このような機械はすべて、複数の時系列に対してシームレスに使用することができます。以下は、input_chunk_length=4、output_chunk_length=2の逐次データセットが、長さNとMの2つの系列に対してどのように見えるかを示しています。\n",
        "\n",
        "![](https://github.com/arumajirou/-daily-test/blob/main/static/images/seq_dataset_multi_ts.png?raw=1)\n",
        "![image.png](data:image/png;base64,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)\n",
        "\n",
        "\n",
        "ここで少し注意することがあります。\n",
        "\n",
        "異なるシリーズは同じ長さである必要はなく、同じタイムスタンプを共有する必要もありません。\n",
        "実際、同じ周波数である必要もない。\n",
        "トレーニングデータセットのサンプル数は、各シリーズに含まれるすべてのトレーニングサンプルの合計となります。\n",
        "航空路と牛乳のシリーズを使った学習\n",
        "2つの時系列（航空旅客と牛乳生産）に対して、別のモデルインスタンスを適合させる例を見てみましょう。ほぼ）同じ長さの2つの系列を使用すると、学習データセットサイズが（ほぼ）2倍になるので、エポック数は半分になります。\n",
        "\n",
        "\n",
        "\n",
        "\n",
        "\n",
        "\n"
      ]
    },
    {
      "cell_type": "code",
      "execution_count": null,
      "metadata": {
        "id": "4_sjeQxXkfIV"
      },
      "outputs": [],
      "source": [
        "#NBEATSModelはいくつかの初期化パラメータで定義されたクラス\n",
        "#、モデルが学習する際、あるいは予測に使用する際の入力と出力のシーケンスの長さをそれぞれ指定します。\n",
        "model_air_milk = NBEATSModel(\n",
        "    input_chunk_length=24, \n",
        "    output_chunk_length=12, \n",
        "    n_epochs=100, #n_epochsパラメータは，学習エポック数（学習データセット全体を通過する数）を指定します\n",
        "    #random_stateパラメータは，乱数生成器のシード値を指定します．\n",
        "    #この値は，モデルの重みが学習のたびに同じように初期化されることを保証するために使用されます．\n",
        "    random_state=0\n",
        "\n",
        ")"
      ]
    },
    {
      "cell_type": "markdown",
      "metadata": {
        "id": "D3-PfVhKkfIV"
      },
      "source": [
        "Then, fitting the model on two (or more) series is as simple as giving a list of series (instead of a single series) in argument to the `fit()` function:"
      ]
    },
    {
      "cell_type": "code",
      "execution_count": null,
      "metadata": {
        "id": "oeY5cJY-kfIV",
        "outputId": "184839ab-e9bc-44a2-fe22-e6d05162c2a3",
        "colab": {
          "referenced_widgets": [
            "52b7d299284f4327b2f45dc305ca78d8",
            "0030511f893b452793a4d256d8c1b3f4",
            "6e8c79b95bbb415aae9f2399bd30d1c8",
            "10162bb612304adbb4fbb2fdd7ccfc06",
            "372a6e802ebe4e33ace4eca1089daba9",
            "9f6fc96010e74fc6aa5e9e395423d4e4",
            "86c2a04c7db94916a3e9f978af9aad81",
            "2ef53928890042dfbba38721071382f1",
            "6c1bf59105dd491d8884cc6e75d76cfd",
            "3bc8c3b79c3d48ed83a498b474816c40",
            "af369b8059334d74861505fae21c984b"
          ],
          "base_uri": "https://localhost:8080/",
          "height": 49
        }
      },
      "outputs": [
        {
          "output_type": "display_data",
          "data": {
            "text/plain": [
              "Training: 0it [00:00, ?it/s]"
            ],
            "application/vnd.jupyter.widget-view+json": {
              "version_major": 2,
              "version_minor": 0,
              "model_id": "52b7d299284f4327b2f45dc305ca78d8"
            }
          },
          "metadata": {}
        }
      ],
      "source": [
        "model_air_milk.fit([train_air, train_milk], verbose=True);"
      ]
    },
    {
      "cell_type": "markdown",
      "metadata": {
        "id": "uvKCRCg0kfIW"
      },
      "source": [
        "### Producing Forecasts After the End of a Series"
      ]
    },
    {
      "cell_type": "markdown",
      "metadata": {
        "id": "52XrcuwRkfIW"
      },
      "source": [
        "\n",
        "日本語\n",
        "\n",
        "\n",
        "さて、重要なことは、予測を計算するときに、どの時系列について将来を予測したいかを指定することです。\n",
        "\n",
        "以前はこの制約がありませんでした。1つの系列のみでモデルをフィットさせる場合、モデルはこの系列を内部的に記憶し、もしpredict()がseries引数なしで呼ばれると、（一意の）学習系列に対する予測を返します。この場合、predict()のseries引数は必須となります。\n",
        "\n",
        "そこで、航空交通の将来を予測したいとします。この場合、predict()関数に series=train_air を指定し、 train_air の後に来るものの予測を得たいことを示します。\n",
        "\n",
        "DeepL.comで別の訳し方を確認する\n",
        "\n",
        "\n",
        "\n",
        "上\n"
      ]
    },
    {
      "cell_type": "code",
      "execution_count": null,
      "metadata": {
        "id": "vNe1Q31XkfIW",
        "outputId": "ade752d3-9852-4022-ffeb-ea6b0cd8d5a3",
        "colab": {
          "referenced_widgets": [
            "6e86d532830d484e8a08d6ae9ab11019",
            "004da90cfd5f43f69d61663c85ac36b4",
            "2735c6b9823f4886914407b43b4bb64d",
            "bee39b628936482cbe6068af840453a9",
            "a94172d026d14d6d8c495af498becfa1",
            "39bea370c3924a0ab2a52338d8d1eef4",
            "e25ef454044d4cb68bafe8846a1e81fe",
            "fa8c16ba54fc4eab8dedf4186d0fb539",
            "d7e909519c7d44149ee74b83dc5a51cc",
            "434475367fd1463d81c8fc6969a97cef",
            "2ce4d48599624e81ac83bd33ac9742ed"
          ],
          "base_uri": "https://localhost:8080/",
          "height": 502
        }
      },
      "outputs": [
        {
          "output_type": "display_data",
          "data": {
            "text/plain": [
              "Predicting: 7it [00:00, ?it/s]"
            ],
            "application/vnd.jupyter.widget-view+json": {
              "version_major": 2,
              "version_minor": 0,
              "model_id": "6e86d532830d484e8a08d6ae9ab11019"
            }
          },
          "metadata": {}
        },
        {
          "output_type": "stream",
          "name": "stdout",
          "text": [
            "MAPE = 7.16%\n"
          ]
        },
        {
          "output_type": "error",
          "ename": "ImportError",
          "evalue": "ignored",
          "traceback": [
            "\u001b[0;31m---------------------------------------------------------------------------\u001b[0m",
            "\u001b[0;31mImportError\u001b[0m                               Traceback (most recent call last)",
            "\u001b[0;32m/usr/local/lib/python3.8/dist-packages/IPython/core/formatters.py\u001b[0m in \u001b[0;36m__call__\u001b[0;34m(self, obj)\u001b[0m\n\u001b[1;32m    339\u001b[0m                 \u001b[0;32mpass\u001b[0m\u001b[0;34m\u001b[0m\u001b[0;34m\u001b[0m\u001b[0m\n\u001b[1;32m    340\u001b[0m             \u001b[0;32melse\u001b[0m\u001b[0;34m:\u001b[0m\u001b[0;34m\u001b[0m\u001b[0;34m\u001b[0m\u001b[0m\n\u001b[0;32m--> 341\u001b[0;31m                 \u001b[0;32mreturn\u001b[0m \u001b[0mprinter\u001b[0m\u001b[0;34m(\u001b[0m\u001b[0mobj\u001b[0m\u001b[0;34m)\u001b[0m\u001b[0;34m\u001b[0m\u001b[0;34m\u001b[0m\u001b[0m\n\u001b[0m\u001b[1;32m    342\u001b[0m             \u001b[0;31m# Finally look for special method names\u001b[0m\u001b[0;34m\u001b[0m\u001b[0;34m\u001b[0m\u001b[0;34m\u001b[0m\u001b[0m\n\u001b[1;32m    343\u001b[0m             \u001b[0mmethod\u001b[0m \u001b[0;34m=\u001b[0m \u001b[0mget_real_method\u001b[0m\u001b[0;34m(\u001b[0m\u001b[0mobj\u001b[0m\u001b[0;34m,\u001b[0m \u001b[0mself\u001b[0m\u001b[0;34m.\u001b[0m\u001b[0mprint_method\u001b[0m\u001b[0;34m)\u001b[0m\u001b[0;34m\u001b[0m\u001b[0;34m\u001b[0m\u001b[0m\n",
            "\u001b[0;32m/usr/local/lib/python3.8/dist-packages/IPython/core/pylabtools.py\u001b[0m in \u001b[0;36m<lambda>\u001b[0;34m(fig)\u001b[0m\n\u001b[1;32m    242\u001b[0m \u001b[0;34m\u001b[0m\u001b[0m\n\u001b[1;32m    243\u001b[0m     \u001b[0;32mif\u001b[0m \u001b[0;34m'png'\u001b[0m \u001b[0;32min\u001b[0m \u001b[0mformats\u001b[0m\u001b[0;34m:\u001b[0m\u001b[0;34m\u001b[0m\u001b[0;34m\u001b[0m\u001b[0m\n\u001b[0;32m--> 244\u001b[0;31m         \u001b[0mpng_formatter\u001b[0m\u001b[0;34m.\u001b[0m\u001b[0mfor_type\u001b[0m\u001b[0;34m(\u001b[0m\u001b[0mFigure\u001b[0m\u001b[0;34m,\u001b[0m \u001b[0;32mlambda\u001b[0m \u001b[0mfig\u001b[0m\u001b[0;34m:\u001b[0m \u001b[0mprint_figure\u001b[0m\u001b[0;34m(\u001b[0m\u001b[0mfig\u001b[0m\u001b[0;34m,\u001b[0m \u001b[0;34m'png'\u001b[0m\u001b[0;34m,\u001b[0m \u001b[0;34m**\u001b[0m\u001b[0mkwargs\u001b[0m\u001b[0;34m)\u001b[0m\u001b[0;34m)\u001b[0m\u001b[0;34m\u001b[0m\u001b[0;34m\u001b[0m\u001b[0m\n\u001b[0m\u001b[1;32m    245\u001b[0m     \u001b[0;32mif\u001b[0m \u001b[0;34m'retina'\u001b[0m \u001b[0;32min\u001b[0m \u001b[0mformats\u001b[0m \u001b[0;32mor\u001b[0m \u001b[0;34m'png2x'\u001b[0m \u001b[0;32min\u001b[0m \u001b[0mformats\u001b[0m\u001b[0;34m:\u001b[0m\u001b[0;34m\u001b[0m\u001b[0;34m\u001b[0m\u001b[0m\n\u001b[1;32m    246\u001b[0m         \u001b[0mpng_formatter\u001b[0m\u001b[0;34m.\u001b[0m\u001b[0mfor_type\u001b[0m\u001b[0;34m(\u001b[0m\u001b[0mFigure\u001b[0m\u001b[0;34m,\u001b[0m \u001b[0;32mlambda\u001b[0m \u001b[0mfig\u001b[0m\u001b[0;34m:\u001b[0m \u001b[0mretina_figure\u001b[0m\u001b[0;34m(\u001b[0m\u001b[0mfig\u001b[0m\u001b[0;34m,\u001b[0m \u001b[0;34m**\u001b[0m\u001b[0mkwargs\u001b[0m\u001b[0;34m)\u001b[0m\u001b[0;34m)\u001b[0m\u001b[0;34m\u001b[0m\u001b[0;34m\u001b[0m\u001b[0m\n",
            "\u001b[0;32m/usr/local/lib/python3.8/dist-packages/IPython/core/pylabtools.py\u001b[0m in \u001b[0;36mprint_figure\u001b[0;34m(fig, fmt, bbox_inches, **kwargs)\u001b[0m\n\u001b[1;32m    126\u001b[0m \u001b[0;34m\u001b[0m\u001b[0m\n\u001b[1;32m    127\u001b[0m     \u001b[0mbytes_io\u001b[0m \u001b[0;34m=\u001b[0m \u001b[0mBytesIO\u001b[0m\u001b[0;34m(\u001b[0m\u001b[0;34m)\u001b[0m\u001b[0;34m\u001b[0m\u001b[0;34m\u001b[0m\u001b[0m\n\u001b[0;32m--> 128\u001b[0;31m     \u001b[0mfig\u001b[0m\u001b[0;34m.\u001b[0m\u001b[0mcanvas\u001b[0m\u001b[0;34m.\u001b[0m\u001b[0mprint_figure\u001b[0m\u001b[0;34m(\u001b[0m\u001b[0mbytes_io\u001b[0m\u001b[0;34m,\u001b[0m \u001b[0;34m**\u001b[0m\u001b[0mkw\u001b[0m\u001b[0;34m)\u001b[0m\u001b[0;34m\u001b[0m\u001b[0;34m\u001b[0m\u001b[0m\n\u001b[0m\u001b[1;32m    129\u001b[0m     \u001b[0mdata\u001b[0m \u001b[0;34m=\u001b[0m \u001b[0mbytes_io\u001b[0m\u001b[0;34m.\u001b[0m\u001b[0mgetvalue\u001b[0m\u001b[0;34m(\u001b[0m\u001b[0;34m)\u001b[0m\u001b[0;34m\u001b[0m\u001b[0;34m\u001b[0m\u001b[0m\n\u001b[1;32m    130\u001b[0m     \u001b[0;32mif\u001b[0m \u001b[0mfmt\u001b[0m \u001b[0;34m==\u001b[0m \u001b[0;34m'svg'\u001b[0m\u001b[0;34m:\u001b[0m\u001b[0;34m\u001b[0m\u001b[0;34m\u001b[0m\u001b[0m\n",
            "\u001b[0;32m/usr/local/lib/python3.8/dist-packages/matplotlib/backend_bases.py\u001b[0m in \u001b[0;36mprint_figure\u001b[0;34m(self, filename, dpi, facecolor, edgecolor, orientation, format, bbox_inches, **kwargs)\u001b[0m\n\u001b[1;32m   2089\u001b[0m         \u001b[0mReturns\u001b[0m\u001b[0;34m\u001b[0m\u001b[0;34m\u001b[0m\u001b[0m\n\u001b[1;32m   2090\u001b[0m         \u001b[0;34m-\u001b[0m\u001b[0;34m-\u001b[0m\u001b[0;34m-\u001b[0m\u001b[0;34m-\u001b[0m\u001b[0;34m-\u001b[0m\u001b[0;34m-\u001b[0m\u001b[0;34m-\u001b[0m\u001b[0;34m\u001b[0m\u001b[0;34m\u001b[0m\u001b[0m\n\u001b[0;32m-> 2091\u001b[0;31m         \u001b[0mbool\u001b[0m\u001b[0;34m\u001b[0m\u001b[0;34m\u001b[0m\u001b[0m\n\u001b[0m\u001b[1;32m   2092\u001b[0m             \u001b[0mWhether\u001b[0m \u001b[0mthe\u001b[0m \u001b[0mratio\u001b[0m \u001b[0mhas\u001b[0m \u001b[0mchanged\u001b[0m\u001b[0;34m.\u001b[0m \u001b[0mBackends\u001b[0m \u001b[0mmay\u001b[0m \u001b[0minterpret\u001b[0m \u001b[0mthis\u001b[0m \u001b[0;32mas\u001b[0m \u001b[0ma\u001b[0m\u001b[0;34m\u001b[0m\u001b[0;34m\u001b[0m\u001b[0m\n\u001b[1;32m   2093\u001b[0m             \u001b[0msignal\u001b[0m \u001b[0mto\u001b[0m \u001b[0mresize\u001b[0m \u001b[0mthe\u001b[0m \u001b[0mwindow\u001b[0m\u001b[0;34m,\u001b[0m \u001b[0mrepaint\u001b[0m \u001b[0mthe\u001b[0m \u001b[0mcanvas\u001b[0m\u001b[0;34m,\u001b[0m \u001b[0;32mor\u001b[0m \u001b[0mchange\u001b[0m \u001b[0many\u001b[0m\u001b[0;34m\u001b[0m\u001b[0;34m\u001b[0m\u001b[0m\n",
            "\u001b[0;32m/usr/local/lib/python3.8/dist-packages/matplotlib/backend_bases.py\u001b[0m in \u001b[0;36m_get_renderer\u001b[0;34m(figure, print_method)\u001b[0m\n\u001b[1;32m   1558\u001b[0m         \u001b[0;32mtry\u001b[0m\u001b[0;34m:\u001b[0m\u001b[0;34m\u001b[0m\u001b[0;34m\u001b[0m\u001b[0m\n\u001b[1;32m   1559\u001b[0m             \u001b[0mprint_method\u001b[0m\u001b[0;34m(\u001b[0m\u001b[0mio\u001b[0m\u001b[0;34m.\u001b[0m\u001b[0mBytesIO\u001b[0m\u001b[0;34m(\u001b[0m\u001b[0;34m)\u001b[0m\u001b[0;34m)\u001b[0m\u001b[0;34m\u001b[0m\u001b[0;34m\u001b[0m\u001b[0m\n\u001b[0;32m-> 1560\u001b[0;31m         \u001b[0;32mexcept\u001b[0m \u001b[0mDone\u001b[0m \u001b[0;32mas\u001b[0m \u001b[0mexc\u001b[0m\u001b[0;34m:\u001b[0m\u001b[0;34m\u001b[0m\u001b[0;34m\u001b[0m\u001b[0m\n\u001b[0m\u001b[1;32m   1561\u001b[0m             \u001b[0mrenderer\u001b[0m\u001b[0;34m,\u001b[0m \u001b[0;34m=\u001b[0m \u001b[0mexc\u001b[0m\u001b[0;34m.\u001b[0m\u001b[0margs\u001b[0m\u001b[0;34m\u001b[0m\u001b[0;34m\u001b[0m\u001b[0m\n\u001b[1;32m   1562\u001b[0m             \u001b[0;32mreturn\u001b[0m \u001b[0mrenderer\u001b[0m\u001b[0;34m\u001b[0m\u001b[0;34m\u001b[0m\u001b[0m\n",
            "\u001b[0;32m/usr/local/lib/python3.8/dist-packages/matplotlib/backends/backend_agg.py\u001b[0m in \u001b[0;36mprint_png\u001b[0;34m(self, filename_or_obj, metadata, pil_kwargs, *args, **kwargs)\u001b[0m\n\u001b[1;32m    503\u001b[0m             \u001b[0mIf\u001b[0m \u001b[0;34m'Software'\u001b[0m \u001b[0;32mis\u001b[0m \u001b[0;32mnot\u001b[0m \u001b[0mgiven\u001b[0m\u001b[0;34m,\u001b[0m \u001b[0man\u001b[0m \u001b[0mautogenerated\u001b[0m \u001b[0mvalue\u001b[0m \u001b[0;32mfor\u001b[0m \u001b[0mMatplotlib\u001b[0m\u001b[0;34m\u001b[0m\u001b[0;34m\u001b[0m\u001b[0m\n\u001b[1;32m    504\u001b[0m             \u001b[0mwill\u001b[0m \u001b[0mbe\u001b[0m \u001b[0mused\u001b[0m\u001b[0;34m.\u001b[0m  \u001b[0mThis\u001b[0m \u001b[0mcan\u001b[0m \u001b[0mbe\u001b[0m \u001b[0mremoved\u001b[0m \u001b[0mby\u001b[0m \u001b[0msetting\u001b[0m \u001b[0mit\u001b[0m \u001b[0mto\u001b[0m \u001b[0;34m*\u001b[0m\u001b[0;32mNone\u001b[0m\u001b[0;34m*\u001b[0m\u001b[0;34m.\u001b[0m\u001b[0;34m\u001b[0m\u001b[0;34m\u001b[0m\u001b[0m\n\u001b[0;32m--> 505\u001b[0;31m \u001b[0;34m\u001b[0m\u001b[0m\n\u001b[0m\u001b[1;32m    506\u001b[0m             \u001b[0mFor\u001b[0m \u001b[0mmore\u001b[0m \u001b[0mdetails\u001b[0m \u001b[0msee\u001b[0m \u001b[0mthe\u001b[0m\u001b[0;31m \u001b[0m\u001b[0;31m`\u001b[0m\u001b[0mPNG\u001b[0m \u001b[0mspecification\u001b[0m\u001b[0;31m`\u001b[0m\u001b[0m_\u001b[0m\u001b[0;34m.\u001b[0m\u001b[0;34m\u001b[0m\u001b[0;34m\u001b[0m\u001b[0m\n\u001b[1;32m    507\u001b[0m \u001b[0;34m\u001b[0m\u001b[0m\n",
            "\u001b[0;31mImportError\u001b[0m: cannot import name '_png' from 'matplotlib' (/usr/local/lib/python3.8/dist-packages/matplotlib/__init__.py)"
          ]
        },
        {
          "output_type": "display_data",
          "data": {
            "text/plain": [
              "<Figure size 432x288 with 1 Axes>"
            ]
          },
          "metadata": {
            "needs_background": "light"
          }
        }
      ],
      "source": [
        "#モデル（model_air_milk）を使って、時系列データセット（train_air）に対して予測をしようとしている\n",
        "#モデルの予測は、元の時系列データ（series_air_scaled）に対してプロットされ、\n",
        "#予測誤差は両者の平均絶対誤差（MAPE）として出力されます。\n",
        "\n",
        "#predict関数のn引数は、将来を予測する時間ステップの数を指定します。\n",
        "#この場合、モデルは36の時間ステップの予測をするように要求されています。\n",
        "pred = model_air_milk.predict(n=36, \n",
        "#series引数は、モデルが予測を行うための入力として使用する時系列データである。\n",
        "                              series=train_air)\n",
        "\n",
        "#series_air_scaledデータは「実際」のデータとしてプロットされ、\n",
        "series_air_scaled.plot(label=\"actual\")\n",
        "#モデルの予測は「予測」としてプロットされる。\n",
        "pred.plot(label=\"forecast\")\n",
        "plt.legend()\n",
        "#最後に、mape関数を使って、元の時系列データとモデルの予測値との間のMAPEを計算しています。\n",
        "print(\"MAPE = {:.2f}%\".format(mape(series_air_scaled, pred)))"
      ]
    },
    {
      "cell_type": "markdown",
      "metadata": {
        "id": "TdogEc2GkfIX"
      },
      "source": [
        "\n",
        "日本語\n",
        "\n",
        "\n",
        "待てよ、これは牛乳の生産量が航空交通量の予測に役立つということか？\n",
        "まあ、このモデルでのこの特別な例では、（少なくともMAPE誤差の点では）そうであるように思われます。でも、考えてみれば、これはそれほどおかしなことではありません。航空交通は毎年の季節性と上昇トレンドによって大きく特徴づけられています。牛乳の系列もこの2つの特徴を示しており、この場合、モデルがそれらを捉えるのに役立っているのでしょう。\n",
        "\n",
        "このことは予測モデルの事前トレーニングの可能性を示唆しています。つまり、一旦モデルをトレーニングして、後でトレーニングセットに含まれていない系列を予測するのに使うのです。このおもちゃのモデルを使えば、他のどの系列の将来値も、たとえ訓練中に見たことのない系列であっても、本当に予測することができるのです。例えば、ある任意の正弦波系列の将来を予測したいとします。\n",
        "\n",
        "DeepL.comで別の訳し方を確認する\n",
        "\n",
        "\n",
        "\n",
        "下\n"
      ]
    },
    {
      "cell_type": "code",
      "execution_count": null,
      "metadata": {
        "id": "idSSXK-lkfIX",
        "outputId": "3be59ed6-7412-4bd9-dbd8-c6e14e883265",
        "colab": {
          "referenced_widgets": [
            "66f1ba284ec6442a8221fa2844a496e0",
            "93413c5f3e014391aa8909b3112503dd",
            "e166db68c80f4ba58abd5af184374cd5",
            "82aa23fae3d14d9cbe8a44fec19a7112",
            "babf503987094346b2264efa68a59b6a",
            "827d9348696345e2bf405f05e7ce6b0d",
            "43654f09699a4d48958b8565d337b4fa",
            "ee810d12ad72410bb9ce246a29d43889",
            "73d638802b804fd8953a4c89bf10ab9c",
            "fc6811c4a0f445879cf33f10944239b4",
            "899044c4ffe4407885a6feb6af8e91dd"
          ],
          "base_uri": "https://localhost:8080/",
          "height": 484
        }
      },
      "outputs": [
        {
          "output_type": "display_data",
          "data": {
            "text/plain": [
              "Predicting: 7it [00:00, ?it/s]"
            ],
            "application/vnd.jupyter.widget-view+json": {
              "version_major": 2,
              "version_minor": 0,
              "model_id": "66f1ba284ec6442a8221fa2844a496e0"
            }
          },
          "metadata": {}
        },
        {
          "output_type": "error",
          "ename": "ImportError",
          "evalue": "ignored",
          "traceback": [
            "\u001b[0;31m---------------------------------------------------------------------------\u001b[0m",
            "\u001b[0;31mImportError\u001b[0m                               Traceback (most recent call last)",
            "\u001b[0;32m/usr/local/lib/python3.8/dist-packages/IPython/core/formatters.py\u001b[0m in \u001b[0;36m__call__\u001b[0;34m(self, obj)\u001b[0m\n\u001b[1;32m    339\u001b[0m                 \u001b[0;32mpass\u001b[0m\u001b[0;34m\u001b[0m\u001b[0;34m\u001b[0m\u001b[0m\n\u001b[1;32m    340\u001b[0m             \u001b[0;32melse\u001b[0m\u001b[0;34m:\u001b[0m\u001b[0;34m\u001b[0m\u001b[0;34m\u001b[0m\u001b[0m\n\u001b[0;32m--> 341\u001b[0;31m                 \u001b[0;32mreturn\u001b[0m \u001b[0mprinter\u001b[0m\u001b[0;34m(\u001b[0m\u001b[0mobj\u001b[0m\u001b[0;34m)\u001b[0m\u001b[0;34m\u001b[0m\u001b[0;34m\u001b[0m\u001b[0m\n\u001b[0m\u001b[1;32m    342\u001b[0m             \u001b[0;31m# Finally look for special method names\u001b[0m\u001b[0;34m\u001b[0m\u001b[0;34m\u001b[0m\u001b[0;34m\u001b[0m\u001b[0m\n\u001b[1;32m    343\u001b[0m             \u001b[0mmethod\u001b[0m \u001b[0;34m=\u001b[0m \u001b[0mget_real_method\u001b[0m\u001b[0;34m(\u001b[0m\u001b[0mobj\u001b[0m\u001b[0;34m,\u001b[0m \u001b[0mself\u001b[0m\u001b[0;34m.\u001b[0m\u001b[0mprint_method\u001b[0m\u001b[0;34m)\u001b[0m\u001b[0;34m\u001b[0m\u001b[0;34m\u001b[0m\u001b[0m\n",
            "\u001b[0;32m/usr/local/lib/python3.8/dist-packages/IPython/core/pylabtools.py\u001b[0m in \u001b[0;36m<lambda>\u001b[0;34m(fig)\u001b[0m\n\u001b[1;32m    242\u001b[0m \u001b[0;34m\u001b[0m\u001b[0m\n\u001b[1;32m    243\u001b[0m     \u001b[0;32mif\u001b[0m \u001b[0;34m'png'\u001b[0m \u001b[0;32min\u001b[0m \u001b[0mformats\u001b[0m\u001b[0;34m:\u001b[0m\u001b[0;34m\u001b[0m\u001b[0;34m\u001b[0m\u001b[0m\n\u001b[0;32m--> 244\u001b[0;31m         \u001b[0mpng_formatter\u001b[0m\u001b[0;34m.\u001b[0m\u001b[0mfor_type\u001b[0m\u001b[0;34m(\u001b[0m\u001b[0mFigure\u001b[0m\u001b[0;34m,\u001b[0m \u001b[0;32mlambda\u001b[0m \u001b[0mfig\u001b[0m\u001b[0;34m:\u001b[0m \u001b[0mprint_figure\u001b[0m\u001b[0;34m(\u001b[0m\u001b[0mfig\u001b[0m\u001b[0;34m,\u001b[0m \u001b[0;34m'png'\u001b[0m\u001b[0;34m,\u001b[0m \u001b[0;34m**\u001b[0m\u001b[0mkwargs\u001b[0m\u001b[0;34m)\u001b[0m\u001b[0;34m)\u001b[0m\u001b[0;34m\u001b[0m\u001b[0;34m\u001b[0m\u001b[0m\n\u001b[0m\u001b[1;32m    245\u001b[0m     \u001b[0;32mif\u001b[0m \u001b[0;34m'retina'\u001b[0m \u001b[0;32min\u001b[0m \u001b[0mformats\u001b[0m \u001b[0;32mor\u001b[0m \u001b[0;34m'png2x'\u001b[0m \u001b[0;32min\u001b[0m \u001b[0mformats\u001b[0m\u001b[0;34m:\u001b[0m\u001b[0;34m\u001b[0m\u001b[0;34m\u001b[0m\u001b[0m\n\u001b[1;32m    246\u001b[0m         \u001b[0mpng_formatter\u001b[0m\u001b[0;34m.\u001b[0m\u001b[0mfor_type\u001b[0m\u001b[0;34m(\u001b[0m\u001b[0mFigure\u001b[0m\u001b[0;34m,\u001b[0m \u001b[0;32mlambda\u001b[0m \u001b[0mfig\u001b[0m\u001b[0;34m:\u001b[0m \u001b[0mretina_figure\u001b[0m\u001b[0;34m(\u001b[0m\u001b[0mfig\u001b[0m\u001b[0;34m,\u001b[0m \u001b[0;34m**\u001b[0m\u001b[0mkwargs\u001b[0m\u001b[0;34m)\u001b[0m\u001b[0;34m)\u001b[0m\u001b[0;34m\u001b[0m\u001b[0;34m\u001b[0m\u001b[0m\n",
            "\u001b[0;32m/usr/local/lib/python3.8/dist-packages/IPython/core/pylabtools.py\u001b[0m in \u001b[0;36mprint_figure\u001b[0;34m(fig, fmt, bbox_inches, **kwargs)\u001b[0m\n\u001b[1;32m    126\u001b[0m \u001b[0;34m\u001b[0m\u001b[0m\n\u001b[1;32m    127\u001b[0m     \u001b[0mbytes_io\u001b[0m \u001b[0;34m=\u001b[0m \u001b[0mBytesIO\u001b[0m\u001b[0;34m(\u001b[0m\u001b[0;34m)\u001b[0m\u001b[0;34m\u001b[0m\u001b[0;34m\u001b[0m\u001b[0m\n\u001b[0;32m--> 128\u001b[0;31m     \u001b[0mfig\u001b[0m\u001b[0;34m.\u001b[0m\u001b[0mcanvas\u001b[0m\u001b[0;34m.\u001b[0m\u001b[0mprint_figure\u001b[0m\u001b[0;34m(\u001b[0m\u001b[0mbytes_io\u001b[0m\u001b[0;34m,\u001b[0m \u001b[0;34m**\u001b[0m\u001b[0mkw\u001b[0m\u001b[0;34m)\u001b[0m\u001b[0;34m\u001b[0m\u001b[0;34m\u001b[0m\u001b[0m\n\u001b[0m\u001b[1;32m    129\u001b[0m     \u001b[0mdata\u001b[0m \u001b[0;34m=\u001b[0m \u001b[0mbytes_io\u001b[0m\u001b[0;34m.\u001b[0m\u001b[0mgetvalue\u001b[0m\u001b[0;34m(\u001b[0m\u001b[0;34m)\u001b[0m\u001b[0;34m\u001b[0m\u001b[0;34m\u001b[0m\u001b[0m\n\u001b[1;32m    130\u001b[0m     \u001b[0;32mif\u001b[0m \u001b[0mfmt\u001b[0m \u001b[0;34m==\u001b[0m \u001b[0;34m'svg'\u001b[0m\u001b[0;34m:\u001b[0m\u001b[0;34m\u001b[0m\u001b[0;34m\u001b[0m\u001b[0m\n",
            "\u001b[0;32m/usr/local/lib/python3.8/dist-packages/matplotlib/backend_bases.py\u001b[0m in \u001b[0;36mprint_figure\u001b[0;34m(self, filename, dpi, facecolor, edgecolor, orientation, format, bbox_inches, **kwargs)\u001b[0m\n\u001b[1;32m   2089\u001b[0m         \u001b[0mReturns\u001b[0m\u001b[0;34m\u001b[0m\u001b[0;34m\u001b[0m\u001b[0m\n\u001b[1;32m   2090\u001b[0m         \u001b[0;34m-\u001b[0m\u001b[0;34m-\u001b[0m\u001b[0;34m-\u001b[0m\u001b[0;34m-\u001b[0m\u001b[0;34m-\u001b[0m\u001b[0;34m-\u001b[0m\u001b[0;34m-\u001b[0m\u001b[0;34m\u001b[0m\u001b[0;34m\u001b[0m\u001b[0m\n\u001b[0;32m-> 2091\u001b[0;31m         \u001b[0mbool\u001b[0m\u001b[0;34m\u001b[0m\u001b[0;34m\u001b[0m\u001b[0m\n\u001b[0m\u001b[1;32m   2092\u001b[0m             \u001b[0mWhether\u001b[0m \u001b[0mthe\u001b[0m \u001b[0mratio\u001b[0m \u001b[0mhas\u001b[0m \u001b[0mchanged\u001b[0m\u001b[0;34m.\u001b[0m \u001b[0mBackends\u001b[0m \u001b[0mmay\u001b[0m \u001b[0minterpret\u001b[0m \u001b[0mthis\u001b[0m \u001b[0;32mas\u001b[0m \u001b[0ma\u001b[0m\u001b[0;34m\u001b[0m\u001b[0;34m\u001b[0m\u001b[0m\n\u001b[1;32m   2093\u001b[0m             \u001b[0msignal\u001b[0m \u001b[0mto\u001b[0m \u001b[0mresize\u001b[0m \u001b[0mthe\u001b[0m \u001b[0mwindow\u001b[0m\u001b[0;34m,\u001b[0m \u001b[0mrepaint\u001b[0m \u001b[0mthe\u001b[0m \u001b[0mcanvas\u001b[0m\u001b[0;34m,\u001b[0m \u001b[0;32mor\u001b[0m \u001b[0mchange\u001b[0m \u001b[0many\u001b[0m\u001b[0;34m\u001b[0m\u001b[0;34m\u001b[0m\u001b[0m\n",
            "\u001b[0;32m/usr/local/lib/python3.8/dist-packages/matplotlib/backend_bases.py\u001b[0m in \u001b[0;36m_get_renderer\u001b[0;34m(figure, print_method)\u001b[0m\n\u001b[1;32m   1558\u001b[0m         \u001b[0;32mtry\u001b[0m\u001b[0;34m:\u001b[0m\u001b[0;34m\u001b[0m\u001b[0;34m\u001b[0m\u001b[0m\n\u001b[1;32m   1559\u001b[0m             \u001b[0mprint_method\u001b[0m\u001b[0;34m(\u001b[0m\u001b[0mio\u001b[0m\u001b[0;34m.\u001b[0m\u001b[0mBytesIO\u001b[0m\u001b[0;34m(\u001b[0m\u001b[0;34m)\u001b[0m\u001b[0;34m)\u001b[0m\u001b[0;34m\u001b[0m\u001b[0;34m\u001b[0m\u001b[0m\n\u001b[0;32m-> 1560\u001b[0;31m         \u001b[0;32mexcept\u001b[0m \u001b[0mDone\u001b[0m \u001b[0;32mas\u001b[0m \u001b[0mexc\u001b[0m\u001b[0;34m:\u001b[0m\u001b[0;34m\u001b[0m\u001b[0;34m\u001b[0m\u001b[0m\n\u001b[0m\u001b[1;32m   1561\u001b[0m             \u001b[0mrenderer\u001b[0m\u001b[0;34m,\u001b[0m \u001b[0;34m=\u001b[0m \u001b[0mexc\u001b[0m\u001b[0;34m.\u001b[0m\u001b[0margs\u001b[0m\u001b[0;34m\u001b[0m\u001b[0;34m\u001b[0m\u001b[0m\n\u001b[1;32m   1562\u001b[0m             \u001b[0;32mreturn\u001b[0m \u001b[0mrenderer\u001b[0m\u001b[0;34m\u001b[0m\u001b[0;34m\u001b[0m\u001b[0m\n",
            "\u001b[0;32m/usr/local/lib/python3.8/dist-packages/matplotlib/backends/backend_agg.py\u001b[0m in \u001b[0;36mprint_png\u001b[0;34m(self, filename_or_obj, metadata, pil_kwargs, *args, **kwargs)\u001b[0m\n\u001b[1;32m    503\u001b[0m             \u001b[0mIf\u001b[0m \u001b[0;34m'Software'\u001b[0m \u001b[0;32mis\u001b[0m \u001b[0;32mnot\u001b[0m \u001b[0mgiven\u001b[0m\u001b[0;34m,\u001b[0m \u001b[0man\u001b[0m \u001b[0mautogenerated\u001b[0m \u001b[0mvalue\u001b[0m \u001b[0;32mfor\u001b[0m \u001b[0mMatplotlib\u001b[0m\u001b[0;34m\u001b[0m\u001b[0;34m\u001b[0m\u001b[0m\n\u001b[1;32m    504\u001b[0m             \u001b[0mwill\u001b[0m \u001b[0mbe\u001b[0m \u001b[0mused\u001b[0m\u001b[0;34m.\u001b[0m  \u001b[0mThis\u001b[0m \u001b[0mcan\u001b[0m \u001b[0mbe\u001b[0m \u001b[0mremoved\u001b[0m \u001b[0mby\u001b[0m \u001b[0msetting\u001b[0m \u001b[0mit\u001b[0m \u001b[0mto\u001b[0m \u001b[0;34m*\u001b[0m\u001b[0;32mNone\u001b[0m\u001b[0;34m*\u001b[0m\u001b[0;34m.\u001b[0m\u001b[0;34m\u001b[0m\u001b[0;34m\u001b[0m\u001b[0m\n\u001b[0;32m--> 505\u001b[0;31m \u001b[0;34m\u001b[0m\u001b[0m\n\u001b[0m\u001b[1;32m    506\u001b[0m             \u001b[0mFor\u001b[0m \u001b[0mmore\u001b[0m \u001b[0mdetails\u001b[0m \u001b[0msee\u001b[0m \u001b[0mthe\u001b[0m\u001b[0;31m \u001b[0m\u001b[0;31m`\u001b[0m\u001b[0mPNG\u001b[0m \u001b[0mspecification\u001b[0m\u001b[0;31m`\u001b[0m\u001b[0m_\u001b[0m\u001b[0;34m.\u001b[0m\u001b[0;34m\u001b[0m\u001b[0;34m\u001b[0m\u001b[0m\n\u001b[1;32m    507\u001b[0m \u001b[0;34m\u001b[0m\u001b[0m\n",
            "\u001b[0;31mImportError\u001b[0m: cannot import name '_png' from 'matplotlib' (/usr/local/lib/python3.8/dist-packages/matplotlib/__init__.py)"
          ]
        },
        {
          "output_type": "display_data",
          "data": {
            "text/plain": [
              "<Figure size 432x288 with 1 Axes>"
            ]
          },
          "metadata": {
            "needs_background": "light"
          }
        }
      ],
      "source": [
        "#このコードはsine_timeseriesという関数を使って、\n",
        "#頻度が「M」の時系列データを生成しているようです（おそらく毎月）\n",
        "any_series = sine_timeseries(length=50, freq=\"M\")\n",
        "#次にmodel_air_milkというモデルを使って、入力時系列に基づいた次の36期間（おそらく月）の予測を行っています。\n",
        "pred = model_air_milk.predict(n=36, series=any_series)\n",
        "#最後に、入力時系列と予測を同じグラフにプロットし、2つの線を識別するための凡例を加える。\n",
        "any_series.plot(label='\"any series, really\"')\n",
        "pred.plot(label=\"forecast\")\n",
        "#プロットに凡例を追加\n",
        "plt.legend();"
      ]
    },
    {
      "cell_type": "markdown",
      "metadata": {
        "id": "R5kMuc3bkfIY"
      },
      "source": [
        "\n",
        "\n",
        "\n",
        "この予測は良くないが（正弦波には年ごとの季節性もない）、イメージはつかめるだろう。\n",
        "\n",
        "- fit()関数でサポートされているのと同様に、predict()関数の引数に系列のリストを与えることもできます。\n",
        "- 例えば、次のようにすれば、航空交通と牛乳の両系列の予測を一度に得ることができます。\n",
        "\n",
        "\n"
      ]
    },
    {
      "cell_type": "code",
      "execution_count": null,
      "metadata": {
        "id": "uPWfObVrkfIY",
        "outputId": "f57b5dad-2507-4476-fb84-08ed330e8ff7",
        "colab": {
          "referenced_widgets": [
            "47c963cd42304b89b8ad62904f51212b",
            "d321391a05e24eafb149a0c8bf3bc6ca",
            "e53b0937d7e3482b946a4bd44d822bfc",
            "d98fe5d3d70346df849dbaf2dafaf16b",
            "da6f2dc674a54122aa5b2e143d0963a9",
            "c1a805107b0b44c6a8f9a59174f0eb3c",
            "f6364a46dbc140348c8c2dea21419d79",
            "151747b86ab3478ea56d6023e33daf69",
            "1ce76f186e1c4a85b959c1a275aa33dd",
            "d0b08abbc33840c0a6e46b1b2b257635",
            "dcfa8632f8ca43ffa89ff9b13d25ff5e"
          ],
          "base_uri": "https://localhost:8080/",
          "height": 484
        }
      },
      "outputs": [
        {
          "output_type": "display_data",
          "data": {
            "text/plain": [
              "Predicting: 7it [00:00, ?it/s]"
            ],
            "application/vnd.jupyter.widget-view+json": {
              "version_major": 2,
              "version_minor": 0,
              "model_id": "47c963cd42304b89b8ad62904f51212b"
            }
          },
          "metadata": {}
        },
        {
          "output_type": "error",
          "ename": "ImportError",
          "evalue": "ignored",
          "traceback": [
            "\u001b[0;31m---------------------------------------------------------------------------\u001b[0m",
            "\u001b[0;31mImportError\u001b[0m                               Traceback (most recent call last)",
            "\u001b[0;32m/usr/local/lib/python3.8/dist-packages/IPython/core/formatters.py\u001b[0m in \u001b[0;36m__call__\u001b[0;34m(self, obj)\u001b[0m\n\u001b[1;32m    339\u001b[0m                 \u001b[0;32mpass\u001b[0m\u001b[0;34m\u001b[0m\u001b[0;34m\u001b[0m\u001b[0m\n\u001b[1;32m    340\u001b[0m             \u001b[0;32melse\u001b[0m\u001b[0;34m:\u001b[0m\u001b[0;34m\u001b[0m\u001b[0;34m\u001b[0m\u001b[0m\n\u001b[0;32m--> 341\u001b[0;31m                 \u001b[0;32mreturn\u001b[0m \u001b[0mprinter\u001b[0m\u001b[0;34m(\u001b[0m\u001b[0mobj\u001b[0m\u001b[0;34m)\u001b[0m\u001b[0;34m\u001b[0m\u001b[0;34m\u001b[0m\u001b[0m\n\u001b[0m\u001b[1;32m    342\u001b[0m             \u001b[0;31m# Finally look for special method names\u001b[0m\u001b[0;34m\u001b[0m\u001b[0;34m\u001b[0m\u001b[0;34m\u001b[0m\u001b[0m\n\u001b[1;32m    343\u001b[0m             \u001b[0mmethod\u001b[0m \u001b[0;34m=\u001b[0m \u001b[0mget_real_method\u001b[0m\u001b[0;34m(\u001b[0m\u001b[0mobj\u001b[0m\u001b[0;34m,\u001b[0m \u001b[0mself\u001b[0m\u001b[0;34m.\u001b[0m\u001b[0mprint_method\u001b[0m\u001b[0;34m)\u001b[0m\u001b[0;34m\u001b[0m\u001b[0;34m\u001b[0m\u001b[0m\n",
            "\u001b[0;32m/usr/local/lib/python3.8/dist-packages/IPython/core/pylabtools.py\u001b[0m in \u001b[0;36m<lambda>\u001b[0;34m(fig)\u001b[0m\n\u001b[1;32m    242\u001b[0m \u001b[0;34m\u001b[0m\u001b[0m\n\u001b[1;32m    243\u001b[0m     \u001b[0;32mif\u001b[0m \u001b[0;34m'png'\u001b[0m \u001b[0;32min\u001b[0m \u001b[0mformats\u001b[0m\u001b[0;34m:\u001b[0m\u001b[0;34m\u001b[0m\u001b[0;34m\u001b[0m\u001b[0m\n\u001b[0;32m--> 244\u001b[0;31m         \u001b[0mpng_formatter\u001b[0m\u001b[0;34m.\u001b[0m\u001b[0mfor_type\u001b[0m\u001b[0;34m(\u001b[0m\u001b[0mFigure\u001b[0m\u001b[0;34m,\u001b[0m \u001b[0;32mlambda\u001b[0m \u001b[0mfig\u001b[0m\u001b[0;34m:\u001b[0m \u001b[0mprint_figure\u001b[0m\u001b[0;34m(\u001b[0m\u001b[0mfig\u001b[0m\u001b[0;34m,\u001b[0m \u001b[0;34m'png'\u001b[0m\u001b[0;34m,\u001b[0m \u001b[0;34m**\u001b[0m\u001b[0mkwargs\u001b[0m\u001b[0;34m)\u001b[0m\u001b[0;34m)\u001b[0m\u001b[0;34m\u001b[0m\u001b[0;34m\u001b[0m\u001b[0m\n\u001b[0m\u001b[1;32m    245\u001b[0m     \u001b[0;32mif\u001b[0m \u001b[0;34m'retina'\u001b[0m \u001b[0;32min\u001b[0m \u001b[0mformats\u001b[0m \u001b[0;32mor\u001b[0m \u001b[0;34m'png2x'\u001b[0m \u001b[0;32min\u001b[0m \u001b[0mformats\u001b[0m\u001b[0;34m:\u001b[0m\u001b[0;34m\u001b[0m\u001b[0;34m\u001b[0m\u001b[0m\n\u001b[1;32m    246\u001b[0m         \u001b[0mpng_formatter\u001b[0m\u001b[0;34m.\u001b[0m\u001b[0mfor_type\u001b[0m\u001b[0;34m(\u001b[0m\u001b[0mFigure\u001b[0m\u001b[0;34m,\u001b[0m \u001b[0;32mlambda\u001b[0m \u001b[0mfig\u001b[0m\u001b[0;34m:\u001b[0m \u001b[0mretina_figure\u001b[0m\u001b[0;34m(\u001b[0m\u001b[0mfig\u001b[0m\u001b[0;34m,\u001b[0m \u001b[0;34m**\u001b[0m\u001b[0mkwargs\u001b[0m\u001b[0;34m)\u001b[0m\u001b[0;34m)\u001b[0m\u001b[0;34m\u001b[0m\u001b[0;34m\u001b[0m\u001b[0m\n",
            "\u001b[0;32m/usr/local/lib/python3.8/dist-packages/IPython/core/pylabtools.py\u001b[0m in \u001b[0;36mprint_figure\u001b[0;34m(fig, fmt, bbox_inches, **kwargs)\u001b[0m\n\u001b[1;32m    126\u001b[0m \u001b[0;34m\u001b[0m\u001b[0m\n\u001b[1;32m    127\u001b[0m     \u001b[0mbytes_io\u001b[0m \u001b[0;34m=\u001b[0m \u001b[0mBytesIO\u001b[0m\u001b[0;34m(\u001b[0m\u001b[0;34m)\u001b[0m\u001b[0;34m\u001b[0m\u001b[0;34m\u001b[0m\u001b[0m\n\u001b[0;32m--> 128\u001b[0;31m     \u001b[0mfig\u001b[0m\u001b[0;34m.\u001b[0m\u001b[0mcanvas\u001b[0m\u001b[0;34m.\u001b[0m\u001b[0mprint_figure\u001b[0m\u001b[0;34m(\u001b[0m\u001b[0mbytes_io\u001b[0m\u001b[0;34m,\u001b[0m \u001b[0;34m**\u001b[0m\u001b[0mkw\u001b[0m\u001b[0;34m)\u001b[0m\u001b[0;34m\u001b[0m\u001b[0;34m\u001b[0m\u001b[0m\n\u001b[0m\u001b[1;32m    129\u001b[0m     \u001b[0mdata\u001b[0m \u001b[0;34m=\u001b[0m \u001b[0mbytes_io\u001b[0m\u001b[0;34m.\u001b[0m\u001b[0mgetvalue\u001b[0m\u001b[0;34m(\u001b[0m\u001b[0;34m)\u001b[0m\u001b[0;34m\u001b[0m\u001b[0;34m\u001b[0m\u001b[0m\n\u001b[1;32m    130\u001b[0m     \u001b[0;32mif\u001b[0m \u001b[0mfmt\u001b[0m \u001b[0;34m==\u001b[0m \u001b[0;34m'svg'\u001b[0m\u001b[0;34m:\u001b[0m\u001b[0;34m\u001b[0m\u001b[0;34m\u001b[0m\u001b[0m\n",
            "\u001b[0;32m/usr/local/lib/python3.8/dist-packages/matplotlib/backend_bases.py\u001b[0m in \u001b[0;36mprint_figure\u001b[0;34m(self, filename, dpi, facecolor, edgecolor, orientation, format, bbox_inches, **kwargs)\u001b[0m\n\u001b[1;32m   2089\u001b[0m         \u001b[0mReturns\u001b[0m\u001b[0;34m\u001b[0m\u001b[0;34m\u001b[0m\u001b[0m\n\u001b[1;32m   2090\u001b[0m         \u001b[0;34m-\u001b[0m\u001b[0;34m-\u001b[0m\u001b[0;34m-\u001b[0m\u001b[0;34m-\u001b[0m\u001b[0;34m-\u001b[0m\u001b[0;34m-\u001b[0m\u001b[0;34m-\u001b[0m\u001b[0;34m\u001b[0m\u001b[0;34m\u001b[0m\u001b[0m\n\u001b[0;32m-> 2091\u001b[0;31m         \u001b[0mbool\u001b[0m\u001b[0;34m\u001b[0m\u001b[0;34m\u001b[0m\u001b[0m\n\u001b[0m\u001b[1;32m   2092\u001b[0m             \u001b[0mWhether\u001b[0m \u001b[0mthe\u001b[0m \u001b[0mratio\u001b[0m \u001b[0mhas\u001b[0m \u001b[0mchanged\u001b[0m\u001b[0;34m.\u001b[0m \u001b[0mBackends\u001b[0m \u001b[0mmay\u001b[0m \u001b[0minterpret\u001b[0m \u001b[0mthis\u001b[0m \u001b[0;32mas\u001b[0m \u001b[0ma\u001b[0m\u001b[0;34m\u001b[0m\u001b[0;34m\u001b[0m\u001b[0m\n\u001b[1;32m   2093\u001b[0m             \u001b[0msignal\u001b[0m \u001b[0mto\u001b[0m \u001b[0mresize\u001b[0m \u001b[0mthe\u001b[0m \u001b[0mwindow\u001b[0m\u001b[0;34m,\u001b[0m \u001b[0mrepaint\u001b[0m \u001b[0mthe\u001b[0m \u001b[0mcanvas\u001b[0m\u001b[0;34m,\u001b[0m \u001b[0;32mor\u001b[0m \u001b[0mchange\u001b[0m \u001b[0many\u001b[0m\u001b[0;34m\u001b[0m\u001b[0;34m\u001b[0m\u001b[0m\n",
            "\u001b[0;32m/usr/local/lib/python3.8/dist-packages/matplotlib/backend_bases.py\u001b[0m in \u001b[0;36m_get_renderer\u001b[0;34m(figure, print_method)\u001b[0m\n\u001b[1;32m   1558\u001b[0m         \u001b[0;32mtry\u001b[0m\u001b[0;34m:\u001b[0m\u001b[0;34m\u001b[0m\u001b[0;34m\u001b[0m\u001b[0m\n\u001b[1;32m   1559\u001b[0m             \u001b[0mprint_method\u001b[0m\u001b[0;34m(\u001b[0m\u001b[0mio\u001b[0m\u001b[0;34m.\u001b[0m\u001b[0mBytesIO\u001b[0m\u001b[0;34m(\u001b[0m\u001b[0;34m)\u001b[0m\u001b[0;34m)\u001b[0m\u001b[0;34m\u001b[0m\u001b[0;34m\u001b[0m\u001b[0m\n\u001b[0;32m-> 1560\u001b[0;31m         \u001b[0;32mexcept\u001b[0m \u001b[0mDone\u001b[0m \u001b[0;32mas\u001b[0m \u001b[0mexc\u001b[0m\u001b[0;34m:\u001b[0m\u001b[0;34m\u001b[0m\u001b[0;34m\u001b[0m\u001b[0m\n\u001b[0m\u001b[1;32m   1561\u001b[0m             \u001b[0mrenderer\u001b[0m\u001b[0;34m,\u001b[0m \u001b[0;34m=\u001b[0m \u001b[0mexc\u001b[0m\u001b[0;34m.\u001b[0m\u001b[0margs\u001b[0m\u001b[0;34m\u001b[0m\u001b[0;34m\u001b[0m\u001b[0m\n\u001b[1;32m   1562\u001b[0m             \u001b[0;32mreturn\u001b[0m \u001b[0mrenderer\u001b[0m\u001b[0;34m\u001b[0m\u001b[0;34m\u001b[0m\u001b[0m\n",
            "\u001b[0;32m/usr/local/lib/python3.8/dist-packages/matplotlib/backends/backend_agg.py\u001b[0m in \u001b[0;36mprint_png\u001b[0;34m(self, filename_or_obj, metadata, pil_kwargs, *args, **kwargs)\u001b[0m\n\u001b[1;32m    503\u001b[0m             \u001b[0mIf\u001b[0m \u001b[0;34m'Software'\u001b[0m \u001b[0;32mis\u001b[0m \u001b[0;32mnot\u001b[0m \u001b[0mgiven\u001b[0m\u001b[0;34m,\u001b[0m \u001b[0man\u001b[0m \u001b[0mautogenerated\u001b[0m \u001b[0mvalue\u001b[0m \u001b[0;32mfor\u001b[0m \u001b[0mMatplotlib\u001b[0m\u001b[0;34m\u001b[0m\u001b[0;34m\u001b[0m\u001b[0m\n\u001b[1;32m    504\u001b[0m             \u001b[0mwill\u001b[0m \u001b[0mbe\u001b[0m \u001b[0mused\u001b[0m\u001b[0;34m.\u001b[0m  \u001b[0mThis\u001b[0m \u001b[0mcan\u001b[0m \u001b[0mbe\u001b[0m \u001b[0mremoved\u001b[0m \u001b[0mby\u001b[0m \u001b[0msetting\u001b[0m \u001b[0mit\u001b[0m \u001b[0mto\u001b[0m \u001b[0;34m*\u001b[0m\u001b[0;32mNone\u001b[0m\u001b[0;34m*\u001b[0m\u001b[0;34m.\u001b[0m\u001b[0;34m\u001b[0m\u001b[0;34m\u001b[0m\u001b[0m\n\u001b[0;32m--> 505\u001b[0;31m \u001b[0;34m\u001b[0m\u001b[0m\n\u001b[0m\u001b[1;32m    506\u001b[0m             \u001b[0mFor\u001b[0m \u001b[0mmore\u001b[0m \u001b[0mdetails\u001b[0m \u001b[0msee\u001b[0m \u001b[0mthe\u001b[0m\u001b[0;31m \u001b[0m\u001b[0;31m`\u001b[0m\u001b[0mPNG\u001b[0m \u001b[0mspecification\u001b[0m\u001b[0;31m`\u001b[0m\u001b[0m_\u001b[0m\u001b[0;34m.\u001b[0m\u001b[0;34m\u001b[0m\u001b[0;34m\u001b[0m\u001b[0m\n\u001b[1;32m    507\u001b[0m \u001b[0;34m\u001b[0m\u001b[0m\n",
            "\u001b[0;31mImportError\u001b[0m: cannot import name '_png' from 'matplotlib' (/usr/local/lib/python3.8/dist-packages/matplotlib/__init__.py)"
          ]
        },
        {
          "output_type": "display_data",
          "data": {
            "text/plain": [
              "<Figure size 432x288 with 1 Axes>"
            ]
          },
          "metadata": {
            "needs_background": "light"
          }
        }
      ],
      "source": [
        "#model_air_milkのpredictメソッドを使って、\n",
        "#train_airとtrain_milkという2つの時系列の予測を生成し、\n",
        "#その結果をプロットしようとしている\n",
        "\n",
        "#predictメソッドには、予測する時間ステップ数(n)と、\n",
        "#予測する時系列のリスト(series)が必要です。\n",
        "#このメソッドは予測された時系列のリストを返します。\n",
        "pred_list = model_air_milk.predict(n=36, series=[train_air, train_milk])\n",
        "\n",
        "#forループを使って予測された時系列とそのラベルを反復し\n",
        "for series, label in zip(pred_list, [\"air passengers\", \"milk production\"]):\n",
        "#plotメソッドを使ってそれぞれの予測された時系列をプロットしています。\n",
        "#plotのlabel引数は、プロットされる時系列のラベルを指定するために使用され、\n",
        "    series.plot(label=f\"forecast {label}\")\n",
        "#これは凡例に表示されます。\n",
        "plt.legend()"
      ]
    },
    {
      "cell_type": "markdown",
      "metadata": {
        "id": "XMK-CT8qkfIY"
      },
      "source": [
        "返される2つの系列は、それぞれtrain_airとtrain_milkの終了後の予測に対応する。"
      ]
    },
    {
      "cell_type": "markdown",
      "metadata": {
        "id": "Sso55xnkkfIY"
      },
      "source": [
        "# 共変量系列\n",
        "今までは、対象系列の履歴のみを用いて将来を予測するモデルで勝負してきました。しかし、上記で説明したように、グローバルダーツのモデルは共変量時系列の使用もサポートしています。これは「外部データ」の時系列で、必ずしも予測に興味があるわけではないが、貴重な情報を含んでいる可能性があるので、やはりモデルの入力として与えたいものである。\n",
        "\n",
        "# 共変量の構築\n",
        "空気と牛乳の時系列で、共変量として年と月を使う簡単な例を見てみましょう。"
      ]
    },
    {
      "cell_type": "code",
      "execution_count": null,
      "metadata": {
        "id": "-DGRe3zNkfIZ",
        "outputId": "a0046777-126d-4c4c-9d4e-e132a8c37954",
        "colab": {
          "base_uri": "https://localhost:8080/"
        }
      },
      "outputs": [
        {
          "output_type": "error",
          "ename": "ImportError",
          "evalue": "ignored",
          "traceback": [
            "\u001b[0;31m---------------------------------------------------------------------------\u001b[0m",
            "\u001b[0;31mImportError\u001b[0m                               Traceback (most recent call last)",
            "\u001b[0;32m/usr/local/lib/python3.8/dist-packages/IPython/core/formatters.py\u001b[0m in \u001b[0;36m__call__\u001b[0;34m(self, obj)\u001b[0m\n\u001b[1;32m    339\u001b[0m                 \u001b[0;32mpass\u001b[0m\u001b[0;34m\u001b[0m\u001b[0;34m\u001b[0m\u001b[0m\n\u001b[1;32m    340\u001b[0m             \u001b[0;32melse\u001b[0m\u001b[0;34m:\u001b[0m\u001b[0;34m\u001b[0m\u001b[0;34m\u001b[0m\u001b[0m\n\u001b[0;32m--> 341\u001b[0;31m                 \u001b[0;32mreturn\u001b[0m \u001b[0mprinter\u001b[0m\u001b[0;34m(\u001b[0m\u001b[0mobj\u001b[0m\u001b[0;34m)\u001b[0m\u001b[0;34m\u001b[0m\u001b[0;34m\u001b[0m\u001b[0m\n\u001b[0m\u001b[1;32m    342\u001b[0m             \u001b[0;31m# Finally look for special method names\u001b[0m\u001b[0;34m\u001b[0m\u001b[0;34m\u001b[0m\u001b[0;34m\u001b[0m\u001b[0m\n\u001b[1;32m    343\u001b[0m             \u001b[0mmethod\u001b[0m \u001b[0;34m=\u001b[0m \u001b[0mget_real_method\u001b[0m\u001b[0;34m(\u001b[0m\u001b[0mobj\u001b[0m\u001b[0;34m,\u001b[0m \u001b[0mself\u001b[0m\u001b[0;34m.\u001b[0m\u001b[0mprint_method\u001b[0m\u001b[0;34m)\u001b[0m\u001b[0;34m\u001b[0m\u001b[0;34m\u001b[0m\u001b[0m\n",
            "\u001b[0;32m/usr/local/lib/python3.8/dist-packages/IPython/core/pylabtools.py\u001b[0m in \u001b[0;36m<lambda>\u001b[0;34m(fig)\u001b[0m\n\u001b[1;32m    242\u001b[0m \u001b[0;34m\u001b[0m\u001b[0m\n\u001b[1;32m    243\u001b[0m     \u001b[0;32mif\u001b[0m \u001b[0;34m'png'\u001b[0m \u001b[0;32min\u001b[0m \u001b[0mformats\u001b[0m\u001b[0;34m:\u001b[0m\u001b[0;34m\u001b[0m\u001b[0;34m\u001b[0m\u001b[0m\n\u001b[0;32m--> 244\u001b[0;31m         \u001b[0mpng_formatter\u001b[0m\u001b[0;34m.\u001b[0m\u001b[0mfor_type\u001b[0m\u001b[0;34m(\u001b[0m\u001b[0mFigure\u001b[0m\u001b[0;34m,\u001b[0m \u001b[0;32mlambda\u001b[0m \u001b[0mfig\u001b[0m\u001b[0;34m:\u001b[0m \u001b[0mprint_figure\u001b[0m\u001b[0;34m(\u001b[0m\u001b[0mfig\u001b[0m\u001b[0;34m,\u001b[0m \u001b[0;34m'png'\u001b[0m\u001b[0;34m,\u001b[0m \u001b[0;34m**\u001b[0m\u001b[0mkwargs\u001b[0m\u001b[0;34m)\u001b[0m\u001b[0;34m)\u001b[0m\u001b[0;34m\u001b[0m\u001b[0;34m\u001b[0m\u001b[0m\n\u001b[0m\u001b[1;32m    245\u001b[0m     \u001b[0;32mif\u001b[0m \u001b[0;34m'retina'\u001b[0m \u001b[0;32min\u001b[0m \u001b[0mformats\u001b[0m \u001b[0;32mor\u001b[0m \u001b[0;34m'png2x'\u001b[0m \u001b[0;32min\u001b[0m \u001b[0mformats\u001b[0m\u001b[0;34m:\u001b[0m\u001b[0;34m\u001b[0m\u001b[0;34m\u001b[0m\u001b[0m\n\u001b[1;32m    246\u001b[0m         \u001b[0mpng_formatter\u001b[0m\u001b[0;34m.\u001b[0m\u001b[0mfor_type\u001b[0m\u001b[0;34m(\u001b[0m\u001b[0mFigure\u001b[0m\u001b[0;34m,\u001b[0m \u001b[0;32mlambda\u001b[0m \u001b[0mfig\u001b[0m\u001b[0;34m:\u001b[0m \u001b[0mretina_figure\u001b[0m\u001b[0;34m(\u001b[0m\u001b[0mfig\u001b[0m\u001b[0;34m,\u001b[0m \u001b[0;34m**\u001b[0m\u001b[0mkwargs\u001b[0m\u001b[0;34m)\u001b[0m\u001b[0;34m)\u001b[0m\u001b[0;34m\u001b[0m\u001b[0;34m\u001b[0m\u001b[0m\n",
            "\u001b[0;32m/usr/local/lib/python3.8/dist-packages/IPython/core/pylabtools.py\u001b[0m in \u001b[0;36mprint_figure\u001b[0;34m(fig, fmt, bbox_inches, **kwargs)\u001b[0m\n\u001b[1;32m    126\u001b[0m \u001b[0;34m\u001b[0m\u001b[0m\n\u001b[1;32m    127\u001b[0m     \u001b[0mbytes_io\u001b[0m \u001b[0;34m=\u001b[0m \u001b[0mBytesIO\u001b[0m\u001b[0;34m(\u001b[0m\u001b[0;34m)\u001b[0m\u001b[0;34m\u001b[0m\u001b[0;34m\u001b[0m\u001b[0m\n\u001b[0;32m--> 128\u001b[0;31m     \u001b[0mfig\u001b[0m\u001b[0;34m.\u001b[0m\u001b[0mcanvas\u001b[0m\u001b[0;34m.\u001b[0m\u001b[0mprint_figure\u001b[0m\u001b[0;34m(\u001b[0m\u001b[0mbytes_io\u001b[0m\u001b[0;34m,\u001b[0m \u001b[0;34m**\u001b[0m\u001b[0mkw\u001b[0m\u001b[0;34m)\u001b[0m\u001b[0;34m\u001b[0m\u001b[0;34m\u001b[0m\u001b[0m\n\u001b[0m\u001b[1;32m    129\u001b[0m     \u001b[0mdata\u001b[0m \u001b[0;34m=\u001b[0m \u001b[0mbytes_io\u001b[0m\u001b[0;34m.\u001b[0m\u001b[0mgetvalue\u001b[0m\u001b[0;34m(\u001b[0m\u001b[0;34m)\u001b[0m\u001b[0;34m\u001b[0m\u001b[0;34m\u001b[0m\u001b[0m\n\u001b[1;32m    130\u001b[0m     \u001b[0;32mif\u001b[0m \u001b[0mfmt\u001b[0m \u001b[0;34m==\u001b[0m \u001b[0;34m'svg'\u001b[0m\u001b[0;34m:\u001b[0m\u001b[0;34m\u001b[0m\u001b[0;34m\u001b[0m\u001b[0m\n",
            "\u001b[0;32m/usr/local/lib/python3.8/dist-packages/matplotlib/backend_bases.py\u001b[0m in \u001b[0;36mprint_figure\u001b[0;34m(self, filename, dpi, facecolor, edgecolor, orientation, format, bbox_inches, **kwargs)\u001b[0m\n\u001b[1;32m   2089\u001b[0m         \u001b[0mReturns\u001b[0m\u001b[0;34m\u001b[0m\u001b[0;34m\u001b[0m\u001b[0m\n\u001b[1;32m   2090\u001b[0m         \u001b[0;34m-\u001b[0m\u001b[0;34m-\u001b[0m\u001b[0;34m-\u001b[0m\u001b[0;34m-\u001b[0m\u001b[0;34m-\u001b[0m\u001b[0;34m-\u001b[0m\u001b[0;34m-\u001b[0m\u001b[0;34m\u001b[0m\u001b[0;34m\u001b[0m\u001b[0m\n\u001b[0;32m-> 2091\u001b[0;31m         \u001b[0mbool\u001b[0m\u001b[0;34m\u001b[0m\u001b[0;34m\u001b[0m\u001b[0m\n\u001b[0m\u001b[1;32m   2092\u001b[0m             \u001b[0mWhether\u001b[0m \u001b[0mthe\u001b[0m \u001b[0mratio\u001b[0m \u001b[0mhas\u001b[0m \u001b[0mchanged\u001b[0m\u001b[0;34m.\u001b[0m \u001b[0mBackends\u001b[0m \u001b[0mmay\u001b[0m \u001b[0minterpret\u001b[0m \u001b[0mthis\u001b[0m \u001b[0;32mas\u001b[0m \u001b[0ma\u001b[0m\u001b[0;34m\u001b[0m\u001b[0;34m\u001b[0m\u001b[0m\n\u001b[1;32m   2093\u001b[0m             \u001b[0msignal\u001b[0m \u001b[0mto\u001b[0m \u001b[0mresize\u001b[0m \u001b[0mthe\u001b[0m \u001b[0mwindow\u001b[0m\u001b[0;34m,\u001b[0m \u001b[0mrepaint\u001b[0m \u001b[0mthe\u001b[0m \u001b[0mcanvas\u001b[0m\u001b[0;34m,\u001b[0m \u001b[0;32mor\u001b[0m \u001b[0mchange\u001b[0m \u001b[0many\u001b[0m\u001b[0;34m\u001b[0m\u001b[0;34m\u001b[0m\u001b[0m\n",
            "\u001b[0;32m/usr/local/lib/python3.8/dist-packages/matplotlib/backend_bases.py\u001b[0m in \u001b[0;36m_get_renderer\u001b[0;34m(figure, print_method)\u001b[0m\n\u001b[1;32m   1558\u001b[0m         \u001b[0;32mtry\u001b[0m\u001b[0;34m:\u001b[0m\u001b[0;34m\u001b[0m\u001b[0;34m\u001b[0m\u001b[0m\n\u001b[1;32m   1559\u001b[0m             \u001b[0mprint_method\u001b[0m\u001b[0;34m(\u001b[0m\u001b[0mio\u001b[0m\u001b[0;34m.\u001b[0m\u001b[0mBytesIO\u001b[0m\u001b[0;34m(\u001b[0m\u001b[0;34m)\u001b[0m\u001b[0;34m)\u001b[0m\u001b[0;34m\u001b[0m\u001b[0;34m\u001b[0m\u001b[0m\n\u001b[0;32m-> 1560\u001b[0;31m         \u001b[0;32mexcept\u001b[0m \u001b[0mDone\u001b[0m \u001b[0;32mas\u001b[0m \u001b[0mexc\u001b[0m\u001b[0;34m:\u001b[0m\u001b[0;34m\u001b[0m\u001b[0;34m\u001b[0m\u001b[0m\n\u001b[0m\u001b[1;32m   1561\u001b[0m             \u001b[0mrenderer\u001b[0m\u001b[0;34m,\u001b[0m \u001b[0;34m=\u001b[0m \u001b[0mexc\u001b[0m\u001b[0;34m.\u001b[0m\u001b[0margs\u001b[0m\u001b[0;34m\u001b[0m\u001b[0;34m\u001b[0m\u001b[0m\n\u001b[1;32m   1562\u001b[0m             \u001b[0;32mreturn\u001b[0m \u001b[0mrenderer\u001b[0m\u001b[0;34m\u001b[0m\u001b[0;34m\u001b[0m\u001b[0m\n",
            "\u001b[0;32m/usr/local/lib/python3.8/dist-packages/matplotlib/backends/backend_agg.py\u001b[0m in \u001b[0;36mprint_png\u001b[0;34m(self, filename_or_obj, metadata, pil_kwargs, *args, **kwargs)\u001b[0m\n\u001b[1;32m    503\u001b[0m             \u001b[0mIf\u001b[0m \u001b[0;34m'Software'\u001b[0m \u001b[0;32mis\u001b[0m \u001b[0;32mnot\u001b[0m \u001b[0mgiven\u001b[0m\u001b[0;34m,\u001b[0m \u001b[0man\u001b[0m \u001b[0mautogenerated\u001b[0m \u001b[0mvalue\u001b[0m \u001b[0;32mfor\u001b[0m \u001b[0mMatplotlib\u001b[0m\u001b[0;34m\u001b[0m\u001b[0;34m\u001b[0m\u001b[0m\n\u001b[1;32m    504\u001b[0m             \u001b[0mwill\u001b[0m \u001b[0mbe\u001b[0m \u001b[0mused\u001b[0m\u001b[0;34m.\u001b[0m  \u001b[0mThis\u001b[0m \u001b[0mcan\u001b[0m \u001b[0mbe\u001b[0m \u001b[0mremoved\u001b[0m \u001b[0mby\u001b[0m \u001b[0msetting\u001b[0m \u001b[0mit\u001b[0m \u001b[0mto\u001b[0m \u001b[0;34m*\u001b[0m\u001b[0;32mNone\u001b[0m\u001b[0;34m*\u001b[0m\u001b[0;34m.\u001b[0m\u001b[0;34m\u001b[0m\u001b[0;34m\u001b[0m\u001b[0m\n\u001b[0;32m--> 505\u001b[0;31m \u001b[0;34m\u001b[0m\u001b[0m\n\u001b[0m\u001b[1;32m    506\u001b[0m             \u001b[0mFor\u001b[0m \u001b[0mmore\u001b[0m \u001b[0mdetails\u001b[0m \u001b[0msee\u001b[0m \u001b[0mthe\u001b[0m\u001b[0;31m \u001b[0m\u001b[0;31m`\u001b[0m\u001b[0mPNG\u001b[0m \u001b[0mspecification\u001b[0m\u001b[0;31m`\u001b[0m\u001b[0m_\u001b[0m\u001b[0;34m.\u001b[0m\u001b[0;34m\u001b[0m\u001b[0;34m\u001b[0m\u001b[0m\n\u001b[1;32m    507\u001b[0m \u001b[0;34m\u001b[0m\u001b[0m\n",
            "\u001b[0;31mImportError\u001b[0m: cannot import name '_png' from 'matplotlib' (/usr/local/lib/python3.8/dist-packages/matplotlib/__init__.py)"
          ]
        },
        {
          "output_type": "display_data",
          "data": {
            "text/plain": [
              "<Figure size 432x288 with 1 Axes>"
            ]
          },
          "metadata": {
            "needs_background": "light"
          }
        },
        {
          "output_type": "error",
          "ename": "ImportError",
          "evalue": "ignored",
          "traceback": [
            "\u001b[0;31m---------------------------------------------------------------------------\u001b[0m",
            "\u001b[0;31mImportError\u001b[0m                               Traceback (most recent call last)",
            "\u001b[0;32m/usr/local/lib/python3.8/dist-packages/IPython/core/formatters.py\u001b[0m in \u001b[0;36m__call__\u001b[0;34m(self, obj)\u001b[0m\n\u001b[1;32m    339\u001b[0m                 \u001b[0;32mpass\u001b[0m\u001b[0;34m\u001b[0m\u001b[0;34m\u001b[0m\u001b[0m\n\u001b[1;32m    340\u001b[0m             \u001b[0;32melse\u001b[0m\u001b[0;34m:\u001b[0m\u001b[0;34m\u001b[0m\u001b[0;34m\u001b[0m\u001b[0m\n\u001b[0;32m--> 341\u001b[0;31m                 \u001b[0;32mreturn\u001b[0m \u001b[0mprinter\u001b[0m\u001b[0;34m(\u001b[0m\u001b[0mobj\u001b[0m\u001b[0;34m)\u001b[0m\u001b[0;34m\u001b[0m\u001b[0;34m\u001b[0m\u001b[0m\n\u001b[0m\u001b[1;32m    342\u001b[0m             \u001b[0;31m# Finally look for special method names\u001b[0m\u001b[0;34m\u001b[0m\u001b[0;34m\u001b[0m\u001b[0;34m\u001b[0m\u001b[0m\n\u001b[1;32m    343\u001b[0m             \u001b[0mmethod\u001b[0m \u001b[0;34m=\u001b[0m \u001b[0mget_real_method\u001b[0m\u001b[0;34m(\u001b[0m\u001b[0mobj\u001b[0m\u001b[0;34m,\u001b[0m \u001b[0mself\u001b[0m\u001b[0;34m.\u001b[0m\u001b[0mprint_method\u001b[0m\u001b[0;34m)\u001b[0m\u001b[0;34m\u001b[0m\u001b[0;34m\u001b[0m\u001b[0m\n",
            "\u001b[0;32m/usr/local/lib/python3.8/dist-packages/IPython/core/pylabtools.py\u001b[0m in \u001b[0;36m<lambda>\u001b[0;34m(fig)\u001b[0m\n\u001b[1;32m    242\u001b[0m \u001b[0;34m\u001b[0m\u001b[0m\n\u001b[1;32m    243\u001b[0m     \u001b[0;32mif\u001b[0m \u001b[0;34m'png'\u001b[0m \u001b[0;32min\u001b[0m \u001b[0mformats\u001b[0m\u001b[0;34m:\u001b[0m\u001b[0;34m\u001b[0m\u001b[0;34m\u001b[0m\u001b[0m\n\u001b[0;32m--> 244\u001b[0;31m         \u001b[0mpng_formatter\u001b[0m\u001b[0;34m.\u001b[0m\u001b[0mfor_type\u001b[0m\u001b[0;34m(\u001b[0m\u001b[0mFigure\u001b[0m\u001b[0;34m,\u001b[0m \u001b[0;32mlambda\u001b[0m \u001b[0mfig\u001b[0m\u001b[0;34m:\u001b[0m \u001b[0mprint_figure\u001b[0m\u001b[0;34m(\u001b[0m\u001b[0mfig\u001b[0m\u001b[0;34m,\u001b[0m \u001b[0;34m'png'\u001b[0m\u001b[0;34m,\u001b[0m \u001b[0;34m**\u001b[0m\u001b[0mkwargs\u001b[0m\u001b[0;34m)\u001b[0m\u001b[0;34m)\u001b[0m\u001b[0;34m\u001b[0m\u001b[0;34m\u001b[0m\u001b[0m\n\u001b[0m\u001b[1;32m    245\u001b[0m     \u001b[0;32mif\u001b[0m \u001b[0;34m'retina'\u001b[0m \u001b[0;32min\u001b[0m \u001b[0mformats\u001b[0m \u001b[0;32mor\u001b[0m \u001b[0;34m'png2x'\u001b[0m \u001b[0;32min\u001b[0m \u001b[0mformats\u001b[0m\u001b[0;34m:\u001b[0m\u001b[0;34m\u001b[0m\u001b[0;34m\u001b[0m\u001b[0m\n\u001b[1;32m    246\u001b[0m         \u001b[0mpng_formatter\u001b[0m\u001b[0;34m.\u001b[0m\u001b[0mfor_type\u001b[0m\u001b[0;34m(\u001b[0m\u001b[0mFigure\u001b[0m\u001b[0;34m,\u001b[0m \u001b[0;32mlambda\u001b[0m \u001b[0mfig\u001b[0m\u001b[0;34m:\u001b[0m \u001b[0mretina_figure\u001b[0m\u001b[0;34m(\u001b[0m\u001b[0mfig\u001b[0m\u001b[0;34m,\u001b[0m \u001b[0;34m**\u001b[0m\u001b[0mkwargs\u001b[0m\u001b[0;34m)\u001b[0m\u001b[0;34m)\u001b[0m\u001b[0;34m\u001b[0m\u001b[0;34m\u001b[0m\u001b[0m\n",
            "\u001b[0;32m/usr/local/lib/python3.8/dist-packages/IPython/core/pylabtools.py\u001b[0m in \u001b[0;36mprint_figure\u001b[0;34m(fig, fmt, bbox_inches, **kwargs)\u001b[0m\n\u001b[1;32m    126\u001b[0m \u001b[0;34m\u001b[0m\u001b[0m\n\u001b[1;32m    127\u001b[0m     \u001b[0mbytes_io\u001b[0m \u001b[0;34m=\u001b[0m \u001b[0mBytesIO\u001b[0m\u001b[0;34m(\u001b[0m\u001b[0;34m)\u001b[0m\u001b[0;34m\u001b[0m\u001b[0;34m\u001b[0m\u001b[0m\n\u001b[0;32m--> 128\u001b[0;31m     \u001b[0mfig\u001b[0m\u001b[0;34m.\u001b[0m\u001b[0mcanvas\u001b[0m\u001b[0;34m.\u001b[0m\u001b[0mprint_figure\u001b[0m\u001b[0;34m(\u001b[0m\u001b[0mbytes_io\u001b[0m\u001b[0;34m,\u001b[0m \u001b[0;34m**\u001b[0m\u001b[0mkw\u001b[0m\u001b[0;34m)\u001b[0m\u001b[0;34m\u001b[0m\u001b[0;34m\u001b[0m\u001b[0m\n\u001b[0m\u001b[1;32m    129\u001b[0m     \u001b[0mdata\u001b[0m \u001b[0;34m=\u001b[0m \u001b[0mbytes_io\u001b[0m\u001b[0;34m.\u001b[0m\u001b[0mgetvalue\u001b[0m\u001b[0;34m(\u001b[0m\u001b[0;34m)\u001b[0m\u001b[0;34m\u001b[0m\u001b[0;34m\u001b[0m\u001b[0m\n\u001b[1;32m    130\u001b[0m     \u001b[0;32mif\u001b[0m \u001b[0mfmt\u001b[0m \u001b[0;34m==\u001b[0m \u001b[0;34m'svg'\u001b[0m\u001b[0;34m:\u001b[0m\u001b[0;34m\u001b[0m\u001b[0;34m\u001b[0m\u001b[0m\n",
            "\u001b[0;32m/usr/local/lib/python3.8/dist-packages/matplotlib/backend_bases.py\u001b[0m in \u001b[0;36mprint_figure\u001b[0;34m(self, filename, dpi, facecolor, edgecolor, orientation, format, bbox_inches, **kwargs)\u001b[0m\n\u001b[1;32m   2089\u001b[0m         \u001b[0mReturns\u001b[0m\u001b[0;34m\u001b[0m\u001b[0;34m\u001b[0m\u001b[0m\n\u001b[1;32m   2090\u001b[0m         \u001b[0;34m-\u001b[0m\u001b[0;34m-\u001b[0m\u001b[0;34m-\u001b[0m\u001b[0;34m-\u001b[0m\u001b[0;34m-\u001b[0m\u001b[0;34m-\u001b[0m\u001b[0;34m-\u001b[0m\u001b[0;34m\u001b[0m\u001b[0;34m\u001b[0m\u001b[0m\n\u001b[0;32m-> 2091\u001b[0;31m         \u001b[0mbool\u001b[0m\u001b[0;34m\u001b[0m\u001b[0;34m\u001b[0m\u001b[0m\n\u001b[0m\u001b[1;32m   2092\u001b[0m             \u001b[0mWhether\u001b[0m \u001b[0mthe\u001b[0m \u001b[0mratio\u001b[0m \u001b[0mhas\u001b[0m \u001b[0mchanged\u001b[0m\u001b[0;34m.\u001b[0m \u001b[0mBackends\u001b[0m \u001b[0mmay\u001b[0m \u001b[0minterpret\u001b[0m \u001b[0mthis\u001b[0m \u001b[0;32mas\u001b[0m \u001b[0ma\u001b[0m\u001b[0;34m\u001b[0m\u001b[0;34m\u001b[0m\u001b[0m\n\u001b[1;32m   2093\u001b[0m             \u001b[0msignal\u001b[0m \u001b[0mto\u001b[0m \u001b[0mresize\u001b[0m \u001b[0mthe\u001b[0m \u001b[0mwindow\u001b[0m\u001b[0;34m,\u001b[0m \u001b[0mrepaint\u001b[0m \u001b[0mthe\u001b[0m \u001b[0mcanvas\u001b[0m\u001b[0;34m,\u001b[0m \u001b[0;32mor\u001b[0m \u001b[0mchange\u001b[0m \u001b[0many\u001b[0m\u001b[0;34m\u001b[0m\u001b[0;34m\u001b[0m\u001b[0m\n",
            "\u001b[0;32m/usr/local/lib/python3.8/dist-packages/matplotlib/backend_bases.py\u001b[0m in \u001b[0;36m_get_renderer\u001b[0;34m(figure, print_method)\u001b[0m\n\u001b[1;32m   1558\u001b[0m         \u001b[0;32mtry\u001b[0m\u001b[0;34m:\u001b[0m\u001b[0;34m\u001b[0m\u001b[0;34m\u001b[0m\u001b[0m\n\u001b[1;32m   1559\u001b[0m             \u001b[0mprint_method\u001b[0m\u001b[0;34m(\u001b[0m\u001b[0mio\u001b[0m\u001b[0;34m.\u001b[0m\u001b[0mBytesIO\u001b[0m\u001b[0;34m(\u001b[0m\u001b[0;34m)\u001b[0m\u001b[0;34m)\u001b[0m\u001b[0;34m\u001b[0m\u001b[0;34m\u001b[0m\u001b[0m\n\u001b[0;32m-> 1560\u001b[0;31m         \u001b[0;32mexcept\u001b[0m \u001b[0mDone\u001b[0m \u001b[0;32mas\u001b[0m \u001b[0mexc\u001b[0m\u001b[0;34m:\u001b[0m\u001b[0;34m\u001b[0m\u001b[0;34m\u001b[0m\u001b[0m\n\u001b[0m\u001b[1;32m   1561\u001b[0m             \u001b[0mrenderer\u001b[0m\u001b[0;34m,\u001b[0m \u001b[0;34m=\u001b[0m \u001b[0mexc\u001b[0m\u001b[0;34m.\u001b[0m\u001b[0margs\u001b[0m\u001b[0;34m\u001b[0m\u001b[0;34m\u001b[0m\u001b[0m\n\u001b[1;32m   1562\u001b[0m             \u001b[0;32mreturn\u001b[0m \u001b[0mrenderer\u001b[0m\u001b[0;34m\u001b[0m\u001b[0;34m\u001b[0m\u001b[0m\n",
            "\u001b[0;32m/usr/local/lib/python3.8/dist-packages/matplotlib/backends/backend_agg.py\u001b[0m in \u001b[0;36mprint_png\u001b[0;34m(self, filename_or_obj, metadata, pil_kwargs, *args, **kwargs)\u001b[0m\n\u001b[1;32m    503\u001b[0m             \u001b[0mIf\u001b[0m \u001b[0;34m'Software'\u001b[0m \u001b[0;32mis\u001b[0m \u001b[0;32mnot\u001b[0m \u001b[0mgiven\u001b[0m\u001b[0;34m,\u001b[0m \u001b[0man\u001b[0m \u001b[0mautogenerated\u001b[0m \u001b[0mvalue\u001b[0m \u001b[0;32mfor\u001b[0m \u001b[0mMatplotlib\u001b[0m\u001b[0;34m\u001b[0m\u001b[0;34m\u001b[0m\u001b[0m\n\u001b[1;32m    504\u001b[0m             \u001b[0mwill\u001b[0m \u001b[0mbe\u001b[0m \u001b[0mused\u001b[0m\u001b[0;34m.\u001b[0m  \u001b[0mThis\u001b[0m \u001b[0mcan\u001b[0m \u001b[0mbe\u001b[0m \u001b[0mremoved\u001b[0m \u001b[0mby\u001b[0m \u001b[0msetting\u001b[0m \u001b[0mit\u001b[0m \u001b[0mto\u001b[0m \u001b[0;34m*\u001b[0m\u001b[0;32mNone\u001b[0m\u001b[0;34m*\u001b[0m\u001b[0;34m.\u001b[0m\u001b[0;34m\u001b[0m\u001b[0;34m\u001b[0m\u001b[0m\n\u001b[0;32m--> 505\u001b[0;31m \u001b[0;34m\u001b[0m\u001b[0m\n\u001b[0m\u001b[1;32m    506\u001b[0m             \u001b[0mFor\u001b[0m \u001b[0mmore\u001b[0m \u001b[0mdetails\u001b[0m \u001b[0msee\u001b[0m \u001b[0mthe\u001b[0m\u001b[0;31m \u001b[0m\u001b[0;31m`\u001b[0m\u001b[0mPNG\u001b[0m \u001b[0mspecification\u001b[0m\u001b[0;31m`\u001b[0m\u001b[0m_\u001b[0m\u001b[0;34m.\u001b[0m\u001b[0;34m\u001b[0m\u001b[0;34m\u001b[0m\u001b[0m\n\u001b[1;32m    507\u001b[0m \u001b[0;34m\u001b[0m\u001b[0m\n",
            "\u001b[0;31mImportError\u001b[0m: cannot import name '_png' from 'matplotlib' (/usr/local/lib/python3.8/dist-packages/matplotlib/__init__.py)"
          ]
        },
        {
          "output_type": "display_data",
          "data": {
            "text/plain": [
              "<Figure size 432x288 with 1 Axes>"
            ]
          },
          "metadata": {
            "needs_background": "light"
          }
        }
      ],
      "source": [
        "# build year and month series:\n",
        "#一連のタイムスタンプから年と月の情報を抽出\n",
        "#datetime_attribute_timeseries関数は、一連のタイムスタンプから指定された属性（「年」または「月」）を抽出している\n",
        "air_year = datetime_attribute_timeseries(series_air_scaled, attribute=\"year\")\n",
        "air_month = datetime_attribute_timeseries(series_air_scaled, attribute=\"month\")\n",
        "\n",
        "milk_year = datetime_attribute_timeseries(series_milk_scaled, attribute=\"year\")\n",
        "milk_month = datetime_attribute_timeseries(series_milk_scaled, attribute=\"month\")\n",
        "\n",
        "# stack year and month to obtain series of 2 dimensions (year and month):\n",
        "#それらを積み重ねて2次元の系列を作り\n",
        "#stack関数は、新しい軸に沿って年と月のシリーズを連結し、2次元のシリーズを作成するために使用されています\n",
        "air_covariates = air_year.stack(air_month)\n",
        "milk_covariates = milk_year.stack(milk_month)\n",
        "\n",
        "# scale them between 0 and 1:\n",
        "#スケーラーを使って0と1の間でスケーリングし\n",
        "scaler_dt_air = Scaler()\n",
        "air_covariates = scaler_dt_air.fit_transform(air_covariates)\n",
        "\n",
        "scaler_dt_milk = Scaler()\n",
        "milk_covariates = scaler_dt_milk.fit_transform(milk_covariates)\n",
        "\n",
        "# split in train/validation sets:\n",
        "#得られた系列を訓練セットと検証セットに分割している\n",
        "#最後に、スケーリングされた系列が訓練セットと検証セットに分割\n",
        "air_train_covariates, air_val_covariates = air_covariates[:-36], air_covariates[-36:]\n",
        "milk_train_covariates, milk_val_covariates = (\n",
        "    milk_covariates[:-36],\n",
        "    milk_covariates[-36:],\n",
        ")\n",
        "\n",
        "# plot the covariates:\n",
        "#共変量がプロット\n",
        "plt.figure()\n",
        "air_covariates.plot()\n",
        "plt.title(\"Air traffic covariates (year and month)\")\n",
        "\n",
        "plt.figure()\n",
        "milk_covariates.plot()\n",
        "plt.title(\"Milk production covariates (year and month)\");"
      ]
    },
    {
      "cell_type": "markdown",
      "metadata": {
        "id": "d5WfYB-xkfIZ"
      },
      "source": [
        "では、それぞれの対象系列（大気と牛乳）に対して、同じ時間軸を持ち、年と月を含む共変量系列を構築しました。\n",
        "\n",
        "ここで共変量系列は多変量時系列であることに注意してください：それらは2つの次元（1次元は年、もう1次元は月）を含んでいます。\n",
        "\n",
        "# 共変量によるトレーニング\n",
        "この例をもう一度、今度は共変量付きで見てみましょう。ここでは、BlockRNNModel を構築します。"
      ]
    },
    {
      "cell_type": "code",
      "execution_count": null,
      "metadata": {
        "id": "nLTHp-IUkfIZ"
      },
      "outputs": [],
      "source": [
        "model_pastcov = BlockRNNModel(\n",
        "    model=\"LSTM\",\n",
        "    input_chunk_length=24,\n",
        "    output_chunk_length=12,\n",
        "    n_epochs=100,\n",
        "    random_state=0,\n",
        ")"
      ]
    },
    {
      "cell_type": "markdown",
      "metadata": {
        "id": "5GUGkzw8kfIa"
      },
      "source": [
        "さて、共変量を使ってモデルを学習するには、fit()関数にpast_covariates引数として共変量（対象系列に一致するリスト形式）を与えるだけでよいのです。この引数はpast_covariatesと名付けられ、モデルが予測を行うためにこれらの共変量の過去の値を使用することができることを思い出させてくれます。"
      ]
    },
    {
      "cell_type": "code",
      "execution_count": null,
      "metadata": {
        "id": "R_l1lZo0kfIa"
      },
      "outputs": [],
      "source": [
        "model_pastcov.fit(\n",
        "    series=[train_air, train_milk],\n",
        "    past_covariates=[air_train_covariates, milk_train_covariates],\n",
        "    verbose=False,\n",
        ");"
      ]
    },
    {
      "cell_type": "markdown",
      "metadata": {
        "id": "tsbadutYkfIa"
      },
      "source": [
        "この例では共変量が将来簡単にわかるので、RNNModelを定義し、future_covariateとしてそれを使って学習させることもできます。"
      ]
    },
    {
      "cell_type": "code",
      "execution_count": null,
      "metadata": {
        "id": "Mrg2ro7KkfIa"
      },
      "outputs": [],
      "source": [
        "model_futcov = RNNModel(\n",
        "    model=\"LSTM\",\n",
        "    hidden_dim=20,\n",
        "    batch_size=8,\n",
        "    n_epochs=100,\n",
        "    random_state=0,\n",
        "    training_length=36,\n",
        "    input_chunk_length=24,\n",
        "    force_reset=True,\n",
        ")\n",
        "\n",
        "model_futcov.fit(\n",
        "    series=[train_air, train_milk],\n",
        "    future_covariates=[air_train_covariates, milk_train_covariates],\n",
        "    verbose=False,\n",
        ");"
      ]
    },
    {
      "cell_type": "markdown",
      "metadata": {
        "id": "Jf367ufrkfIb"
      },
      "source": [
        "# 共変量による予測\n",
        "同様に、予測を得るには、BlockRNNModel の predict() 関数に past_covariates 引数を指定すればよいのです。"
      ]
    },
    {
      "cell_type": "code",
      "execution_count": null,
      "metadata": {
        "id": "pEZQRWlhkfIb",
        "outputId": "66392472-2d3e-477a-bb91-7697e661f294",
        "colab": {
          "base_uri": "https://localhost:8080/"
        }
      },
      "outputs": [
        {
          "output_type": "error",
          "ename": "ImportError",
          "evalue": "ignored",
          "traceback": [
            "\u001b[0;31m---------------------------------------------------------------------------\u001b[0m",
            "\u001b[0;31mImportError\u001b[0m                               Traceback (most recent call last)",
            "\u001b[0;32m/usr/local/lib/python3.8/dist-packages/IPython/core/formatters.py\u001b[0m in \u001b[0;36m__call__\u001b[0;34m(self, obj)\u001b[0m\n\u001b[1;32m    339\u001b[0m                 \u001b[0;32mpass\u001b[0m\u001b[0;34m\u001b[0m\u001b[0;34m\u001b[0m\u001b[0m\n\u001b[1;32m    340\u001b[0m             \u001b[0;32melse\u001b[0m\u001b[0;34m:\u001b[0m\u001b[0;34m\u001b[0m\u001b[0;34m\u001b[0m\u001b[0m\n\u001b[0;32m--> 341\u001b[0;31m                 \u001b[0;32mreturn\u001b[0m \u001b[0mprinter\u001b[0m\u001b[0;34m(\u001b[0m\u001b[0mobj\u001b[0m\u001b[0;34m)\u001b[0m\u001b[0;34m\u001b[0m\u001b[0;34m\u001b[0m\u001b[0m\n\u001b[0m\u001b[1;32m    342\u001b[0m             \u001b[0;31m# Finally look for special method names\u001b[0m\u001b[0;34m\u001b[0m\u001b[0;34m\u001b[0m\u001b[0;34m\u001b[0m\u001b[0m\n\u001b[1;32m    343\u001b[0m             \u001b[0mmethod\u001b[0m \u001b[0;34m=\u001b[0m \u001b[0mget_real_method\u001b[0m\u001b[0;34m(\u001b[0m\u001b[0mobj\u001b[0m\u001b[0;34m,\u001b[0m \u001b[0mself\u001b[0m\u001b[0;34m.\u001b[0m\u001b[0mprint_method\u001b[0m\u001b[0;34m)\u001b[0m\u001b[0;34m\u001b[0m\u001b[0;34m\u001b[0m\u001b[0m\n",
            "\u001b[0;32m/usr/local/lib/python3.8/dist-packages/IPython/core/pylabtools.py\u001b[0m in \u001b[0;36m<lambda>\u001b[0;34m(fig)\u001b[0m\n\u001b[1;32m    242\u001b[0m \u001b[0;34m\u001b[0m\u001b[0m\n\u001b[1;32m    243\u001b[0m     \u001b[0;32mif\u001b[0m \u001b[0;34m'png'\u001b[0m \u001b[0;32min\u001b[0m \u001b[0mformats\u001b[0m\u001b[0;34m:\u001b[0m\u001b[0;34m\u001b[0m\u001b[0;34m\u001b[0m\u001b[0m\n\u001b[0;32m--> 244\u001b[0;31m         \u001b[0mpng_formatter\u001b[0m\u001b[0;34m.\u001b[0m\u001b[0mfor_type\u001b[0m\u001b[0;34m(\u001b[0m\u001b[0mFigure\u001b[0m\u001b[0;34m,\u001b[0m \u001b[0;32mlambda\u001b[0m \u001b[0mfig\u001b[0m\u001b[0;34m:\u001b[0m \u001b[0mprint_figure\u001b[0m\u001b[0;34m(\u001b[0m\u001b[0mfig\u001b[0m\u001b[0;34m,\u001b[0m \u001b[0;34m'png'\u001b[0m\u001b[0;34m,\u001b[0m \u001b[0;34m**\u001b[0m\u001b[0mkwargs\u001b[0m\u001b[0;34m)\u001b[0m\u001b[0;34m)\u001b[0m\u001b[0;34m\u001b[0m\u001b[0;34m\u001b[0m\u001b[0m\n\u001b[0m\u001b[1;32m    245\u001b[0m     \u001b[0;32mif\u001b[0m \u001b[0;34m'retina'\u001b[0m \u001b[0;32min\u001b[0m \u001b[0mformats\u001b[0m \u001b[0;32mor\u001b[0m \u001b[0;34m'png2x'\u001b[0m \u001b[0;32min\u001b[0m \u001b[0mformats\u001b[0m\u001b[0;34m:\u001b[0m\u001b[0;34m\u001b[0m\u001b[0;34m\u001b[0m\u001b[0m\n\u001b[1;32m    246\u001b[0m         \u001b[0mpng_formatter\u001b[0m\u001b[0;34m.\u001b[0m\u001b[0mfor_type\u001b[0m\u001b[0;34m(\u001b[0m\u001b[0mFigure\u001b[0m\u001b[0;34m,\u001b[0m \u001b[0;32mlambda\u001b[0m \u001b[0mfig\u001b[0m\u001b[0;34m:\u001b[0m \u001b[0mretina_figure\u001b[0m\u001b[0;34m(\u001b[0m\u001b[0mfig\u001b[0m\u001b[0;34m,\u001b[0m \u001b[0;34m**\u001b[0m\u001b[0mkwargs\u001b[0m\u001b[0;34m)\u001b[0m\u001b[0;34m)\u001b[0m\u001b[0;34m\u001b[0m\u001b[0;34m\u001b[0m\u001b[0m\n",
            "\u001b[0;32m/usr/local/lib/python3.8/dist-packages/IPython/core/pylabtools.py\u001b[0m in \u001b[0;36mprint_figure\u001b[0;34m(fig, fmt, bbox_inches, **kwargs)\u001b[0m\n\u001b[1;32m    126\u001b[0m \u001b[0;34m\u001b[0m\u001b[0m\n\u001b[1;32m    127\u001b[0m     \u001b[0mbytes_io\u001b[0m \u001b[0;34m=\u001b[0m \u001b[0mBytesIO\u001b[0m\u001b[0;34m(\u001b[0m\u001b[0;34m)\u001b[0m\u001b[0;34m\u001b[0m\u001b[0;34m\u001b[0m\u001b[0m\n\u001b[0;32m--> 128\u001b[0;31m     \u001b[0mfig\u001b[0m\u001b[0;34m.\u001b[0m\u001b[0mcanvas\u001b[0m\u001b[0;34m.\u001b[0m\u001b[0mprint_figure\u001b[0m\u001b[0;34m(\u001b[0m\u001b[0mbytes_io\u001b[0m\u001b[0;34m,\u001b[0m \u001b[0;34m**\u001b[0m\u001b[0mkw\u001b[0m\u001b[0;34m)\u001b[0m\u001b[0;34m\u001b[0m\u001b[0;34m\u001b[0m\u001b[0m\n\u001b[0m\u001b[1;32m    129\u001b[0m     \u001b[0mdata\u001b[0m \u001b[0;34m=\u001b[0m \u001b[0mbytes_io\u001b[0m\u001b[0;34m.\u001b[0m\u001b[0mgetvalue\u001b[0m\u001b[0;34m(\u001b[0m\u001b[0;34m)\u001b[0m\u001b[0;34m\u001b[0m\u001b[0;34m\u001b[0m\u001b[0m\n\u001b[1;32m    130\u001b[0m     \u001b[0;32mif\u001b[0m \u001b[0mfmt\u001b[0m \u001b[0;34m==\u001b[0m \u001b[0;34m'svg'\u001b[0m\u001b[0;34m:\u001b[0m\u001b[0;34m\u001b[0m\u001b[0;34m\u001b[0m\u001b[0m\n",
            "\u001b[0;32m/usr/local/lib/python3.8/dist-packages/matplotlib/backend_bases.py\u001b[0m in \u001b[0;36mprint_figure\u001b[0;34m(self, filename, dpi, facecolor, edgecolor, orientation, format, bbox_inches, **kwargs)\u001b[0m\n\u001b[1;32m   2089\u001b[0m         \u001b[0mReturns\u001b[0m\u001b[0;34m\u001b[0m\u001b[0;34m\u001b[0m\u001b[0m\n\u001b[1;32m   2090\u001b[0m         \u001b[0;34m-\u001b[0m\u001b[0;34m-\u001b[0m\u001b[0;34m-\u001b[0m\u001b[0;34m-\u001b[0m\u001b[0;34m-\u001b[0m\u001b[0;34m-\u001b[0m\u001b[0;34m-\u001b[0m\u001b[0;34m\u001b[0m\u001b[0;34m\u001b[0m\u001b[0m\n\u001b[0;32m-> 2091\u001b[0;31m         \u001b[0mbool\u001b[0m\u001b[0;34m\u001b[0m\u001b[0;34m\u001b[0m\u001b[0m\n\u001b[0m\u001b[1;32m   2092\u001b[0m             \u001b[0mWhether\u001b[0m \u001b[0mthe\u001b[0m \u001b[0mratio\u001b[0m \u001b[0mhas\u001b[0m \u001b[0mchanged\u001b[0m\u001b[0;34m.\u001b[0m \u001b[0mBackends\u001b[0m \u001b[0mmay\u001b[0m \u001b[0minterpret\u001b[0m \u001b[0mthis\u001b[0m \u001b[0;32mas\u001b[0m \u001b[0ma\u001b[0m\u001b[0;34m\u001b[0m\u001b[0;34m\u001b[0m\u001b[0m\n\u001b[1;32m   2093\u001b[0m             \u001b[0msignal\u001b[0m \u001b[0mto\u001b[0m \u001b[0mresize\u001b[0m \u001b[0mthe\u001b[0m \u001b[0mwindow\u001b[0m\u001b[0;34m,\u001b[0m \u001b[0mrepaint\u001b[0m \u001b[0mthe\u001b[0m \u001b[0mcanvas\u001b[0m\u001b[0;34m,\u001b[0m \u001b[0;32mor\u001b[0m \u001b[0mchange\u001b[0m \u001b[0many\u001b[0m\u001b[0;34m\u001b[0m\u001b[0;34m\u001b[0m\u001b[0m\n",
            "\u001b[0;32m/usr/local/lib/python3.8/dist-packages/matplotlib/backend_bases.py\u001b[0m in \u001b[0;36m_get_renderer\u001b[0;34m(figure, print_method)\u001b[0m\n\u001b[1;32m   1558\u001b[0m         \u001b[0;32mtry\u001b[0m\u001b[0;34m:\u001b[0m\u001b[0;34m\u001b[0m\u001b[0;34m\u001b[0m\u001b[0m\n\u001b[1;32m   1559\u001b[0m             \u001b[0mprint_method\u001b[0m\u001b[0;34m(\u001b[0m\u001b[0mio\u001b[0m\u001b[0;34m.\u001b[0m\u001b[0mBytesIO\u001b[0m\u001b[0;34m(\u001b[0m\u001b[0;34m)\u001b[0m\u001b[0;34m)\u001b[0m\u001b[0;34m\u001b[0m\u001b[0;34m\u001b[0m\u001b[0m\n\u001b[0;32m-> 1560\u001b[0;31m         \u001b[0;32mexcept\u001b[0m \u001b[0mDone\u001b[0m \u001b[0;32mas\u001b[0m \u001b[0mexc\u001b[0m\u001b[0;34m:\u001b[0m\u001b[0;34m\u001b[0m\u001b[0;34m\u001b[0m\u001b[0m\n\u001b[0m\u001b[1;32m   1561\u001b[0m             \u001b[0mrenderer\u001b[0m\u001b[0;34m,\u001b[0m \u001b[0;34m=\u001b[0m \u001b[0mexc\u001b[0m\u001b[0;34m.\u001b[0m\u001b[0margs\u001b[0m\u001b[0;34m\u001b[0m\u001b[0;34m\u001b[0m\u001b[0m\n\u001b[1;32m   1562\u001b[0m             \u001b[0;32mreturn\u001b[0m \u001b[0mrenderer\u001b[0m\u001b[0;34m\u001b[0m\u001b[0;34m\u001b[0m\u001b[0m\n",
            "\u001b[0;32m/usr/local/lib/python3.8/dist-packages/matplotlib/backends/backend_agg.py\u001b[0m in \u001b[0;36mprint_png\u001b[0;34m(self, filename_or_obj, metadata, pil_kwargs, *args, **kwargs)\u001b[0m\n\u001b[1;32m    503\u001b[0m             \u001b[0mIf\u001b[0m \u001b[0;34m'Software'\u001b[0m \u001b[0;32mis\u001b[0m \u001b[0;32mnot\u001b[0m \u001b[0mgiven\u001b[0m\u001b[0;34m,\u001b[0m \u001b[0man\u001b[0m \u001b[0mautogenerated\u001b[0m \u001b[0mvalue\u001b[0m \u001b[0;32mfor\u001b[0m \u001b[0mMatplotlib\u001b[0m\u001b[0;34m\u001b[0m\u001b[0;34m\u001b[0m\u001b[0m\n\u001b[1;32m    504\u001b[0m             \u001b[0mwill\u001b[0m \u001b[0mbe\u001b[0m \u001b[0mused\u001b[0m\u001b[0;34m.\u001b[0m  \u001b[0mThis\u001b[0m \u001b[0mcan\u001b[0m \u001b[0mbe\u001b[0m \u001b[0mremoved\u001b[0m \u001b[0mby\u001b[0m \u001b[0msetting\u001b[0m \u001b[0mit\u001b[0m \u001b[0mto\u001b[0m \u001b[0;34m*\u001b[0m\u001b[0;32mNone\u001b[0m\u001b[0;34m*\u001b[0m\u001b[0;34m.\u001b[0m\u001b[0;34m\u001b[0m\u001b[0;34m\u001b[0m\u001b[0m\n\u001b[0;32m--> 505\u001b[0;31m \u001b[0;34m\u001b[0m\u001b[0m\n\u001b[0m\u001b[1;32m    506\u001b[0m             \u001b[0mFor\u001b[0m \u001b[0mmore\u001b[0m \u001b[0mdetails\u001b[0m \u001b[0msee\u001b[0m \u001b[0mthe\u001b[0m\u001b[0;31m \u001b[0m\u001b[0;31m`\u001b[0m\u001b[0mPNG\u001b[0m \u001b[0mspecification\u001b[0m\u001b[0;31m`\u001b[0m\u001b[0m_\u001b[0m\u001b[0;34m.\u001b[0m\u001b[0;34m\u001b[0m\u001b[0;34m\u001b[0m\u001b[0m\n\u001b[1;32m    507\u001b[0m \u001b[0;34m\u001b[0m\u001b[0m\n",
            "\u001b[0;31mImportError\u001b[0m: cannot import name '_png' from 'matplotlib' (/usr/local/lib/python3.8/dist-packages/matplotlib/__init__.py)"
          ]
        },
        {
          "output_type": "display_data",
          "data": {
            "text/plain": [
              "<Figure size 432x288 with 1 Axes>"
            ]
          },
          "metadata": {
            "needs_background": "light"
          }
        }
      ],
      "source": [
        "pred_cov = model_pastcov.predict(n=36, series=train_air, past_covariates=air_covariates)\n",
        "\n",
        "series_air_scaled.plot(label=\"actual\")\n",
        "pred_cov.plot(label=\"forecast\")\n",
        "plt.legend();"
      ]
    },
    {
      "cell_type": "markdown",
      "metadata": {
        "id": "Fh-BGhKrkfIb"
      },
      "source": [
        "ここでは、モデルを学習させた output_chunk_length よりも大きな予測地平 n で predict() を呼び出していることに注意してください。これは、BlockRNNModelが過去の共変量を使用しても、この場合、これらの共変量は将来的にも知られているので、Dartsは将来のn個の時間ステップに対して自動回帰的に予測を計算することができるためです。\n",
        "\n",
        "RNNModelの場合、predict()関数にfuture_covariatesを指定するだけで、同様のアプローチを使用することができます。"
      ]
    },
    {
      "cell_type": "code",
      "execution_count": null,
      "metadata": {
        "id": "KQl6DUsEkfIc",
        "outputId": "6fe5473c-fcde-489e-a9d6-a87b81c3cc28",
        "colab": {
          "base_uri": "https://localhost:8080/"
        }
      },
      "outputs": [
        {
          "output_type": "error",
          "ename": "ImportError",
          "evalue": "ignored",
          "traceback": [
            "\u001b[0;31m---------------------------------------------------------------------------\u001b[0m",
            "\u001b[0;31mImportError\u001b[0m                               Traceback (most recent call last)",
            "\u001b[0;32m/usr/local/lib/python3.8/dist-packages/IPython/core/formatters.py\u001b[0m in \u001b[0;36m__call__\u001b[0;34m(self, obj)\u001b[0m\n\u001b[1;32m    339\u001b[0m                 \u001b[0;32mpass\u001b[0m\u001b[0;34m\u001b[0m\u001b[0;34m\u001b[0m\u001b[0m\n\u001b[1;32m    340\u001b[0m             \u001b[0;32melse\u001b[0m\u001b[0;34m:\u001b[0m\u001b[0;34m\u001b[0m\u001b[0;34m\u001b[0m\u001b[0m\n\u001b[0;32m--> 341\u001b[0;31m                 \u001b[0;32mreturn\u001b[0m \u001b[0mprinter\u001b[0m\u001b[0;34m(\u001b[0m\u001b[0mobj\u001b[0m\u001b[0;34m)\u001b[0m\u001b[0;34m\u001b[0m\u001b[0;34m\u001b[0m\u001b[0m\n\u001b[0m\u001b[1;32m    342\u001b[0m             \u001b[0;31m# Finally look for special method names\u001b[0m\u001b[0;34m\u001b[0m\u001b[0;34m\u001b[0m\u001b[0;34m\u001b[0m\u001b[0m\n\u001b[1;32m    343\u001b[0m             \u001b[0mmethod\u001b[0m \u001b[0;34m=\u001b[0m \u001b[0mget_real_method\u001b[0m\u001b[0;34m(\u001b[0m\u001b[0mobj\u001b[0m\u001b[0;34m,\u001b[0m \u001b[0mself\u001b[0m\u001b[0;34m.\u001b[0m\u001b[0mprint_method\u001b[0m\u001b[0;34m)\u001b[0m\u001b[0;34m\u001b[0m\u001b[0;34m\u001b[0m\u001b[0m\n",
            "\u001b[0;32m/usr/local/lib/python3.8/dist-packages/IPython/core/pylabtools.py\u001b[0m in \u001b[0;36m<lambda>\u001b[0;34m(fig)\u001b[0m\n\u001b[1;32m    242\u001b[0m \u001b[0;34m\u001b[0m\u001b[0m\n\u001b[1;32m    243\u001b[0m     \u001b[0;32mif\u001b[0m \u001b[0;34m'png'\u001b[0m \u001b[0;32min\u001b[0m \u001b[0mformats\u001b[0m\u001b[0;34m:\u001b[0m\u001b[0;34m\u001b[0m\u001b[0;34m\u001b[0m\u001b[0m\n\u001b[0;32m--> 244\u001b[0;31m         \u001b[0mpng_formatter\u001b[0m\u001b[0;34m.\u001b[0m\u001b[0mfor_type\u001b[0m\u001b[0;34m(\u001b[0m\u001b[0mFigure\u001b[0m\u001b[0;34m,\u001b[0m \u001b[0;32mlambda\u001b[0m \u001b[0mfig\u001b[0m\u001b[0;34m:\u001b[0m \u001b[0mprint_figure\u001b[0m\u001b[0;34m(\u001b[0m\u001b[0mfig\u001b[0m\u001b[0;34m,\u001b[0m \u001b[0;34m'png'\u001b[0m\u001b[0;34m,\u001b[0m \u001b[0;34m**\u001b[0m\u001b[0mkwargs\u001b[0m\u001b[0;34m)\u001b[0m\u001b[0;34m)\u001b[0m\u001b[0;34m\u001b[0m\u001b[0;34m\u001b[0m\u001b[0m\n\u001b[0m\u001b[1;32m    245\u001b[0m     \u001b[0;32mif\u001b[0m \u001b[0;34m'retina'\u001b[0m \u001b[0;32min\u001b[0m \u001b[0mformats\u001b[0m \u001b[0;32mor\u001b[0m \u001b[0;34m'png2x'\u001b[0m \u001b[0;32min\u001b[0m \u001b[0mformats\u001b[0m\u001b[0;34m:\u001b[0m\u001b[0;34m\u001b[0m\u001b[0;34m\u001b[0m\u001b[0m\n\u001b[1;32m    246\u001b[0m         \u001b[0mpng_formatter\u001b[0m\u001b[0;34m.\u001b[0m\u001b[0mfor_type\u001b[0m\u001b[0;34m(\u001b[0m\u001b[0mFigure\u001b[0m\u001b[0;34m,\u001b[0m \u001b[0;32mlambda\u001b[0m \u001b[0mfig\u001b[0m\u001b[0;34m:\u001b[0m \u001b[0mretina_figure\u001b[0m\u001b[0;34m(\u001b[0m\u001b[0mfig\u001b[0m\u001b[0;34m,\u001b[0m \u001b[0;34m**\u001b[0m\u001b[0mkwargs\u001b[0m\u001b[0;34m)\u001b[0m\u001b[0;34m)\u001b[0m\u001b[0;34m\u001b[0m\u001b[0;34m\u001b[0m\u001b[0m\n",
            "\u001b[0;32m/usr/local/lib/python3.8/dist-packages/IPython/core/pylabtools.py\u001b[0m in \u001b[0;36mprint_figure\u001b[0;34m(fig, fmt, bbox_inches, **kwargs)\u001b[0m\n\u001b[1;32m    126\u001b[0m \u001b[0;34m\u001b[0m\u001b[0m\n\u001b[1;32m    127\u001b[0m     \u001b[0mbytes_io\u001b[0m \u001b[0;34m=\u001b[0m \u001b[0mBytesIO\u001b[0m\u001b[0;34m(\u001b[0m\u001b[0;34m)\u001b[0m\u001b[0;34m\u001b[0m\u001b[0;34m\u001b[0m\u001b[0m\n\u001b[0;32m--> 128\u001b[0;31m     \u001b[0mfig\u001b[0m\u001b[0;34m.\u001b[0m\u001b[0mcanvas\u001b[0m\u001b[0;34m.\u001b[0m\u001b[0mprint_figure\u001b[0m\u001b[0;34m(\u001b[0m\u001b[0mbytes_io\u001b[0m\u001b[0;34m,\u001b[0m \u001b[0;34m**\u001b[0m\u001b[0mkw\u001b[0m\u001b[0;34m)\u001b[0m\u001b[0;34m\u001b[0m\u001b[0;34m\u001b[0m\u001b[0m\n\u001b[0m\u001b[1;32m    129\u001b[0m     \u001b[0mdata\u001b[0m \u001b[0;34m=\u001b[0m \u001b[0mbytes_io\u001b[0m\u001b[0;34m.\u001b[0m\u001b[0mgetvalue\u001b[0m\u001b[0;34m(\u001b[0m\u001b[0;34m)\u001b[0m\u001b[0;34m\u001b[0m\u001b[0;34m\u001b[0m\u001b[0m\n\u001b[1;32m    130\u001b[0m     \u001b[0;32mif\u001b[0m \u001b[0mfmt\u001b[0m \u001b[0;34m==\u001b[0m \u001b[0;34m'svg'\u001b[0m\u001b[0;34m:\u001b[0m\u001b[0;34m\u001b[0m\u001b[0;34m\u001b[0m\u001b[0m\n",
            "\u001b[0;32m/usr/local/lib/python3.8/dist-packages/matplotlib/backend_bases.py\u001b[0m in \u001b[0;36mprint_figure\u001b[0;34m(self, filename, dpi, facecolor, edgecolor, orientation, format, bbox_inches, **kwargs)\u001b[0m\n\u001b[1;32m   2089\u001b[0m         \u001b[0mReturns\u001b[0m\u001b[0;34m\u001b[0m\u001b[0;34m\u001b[0m\u001b[0m\n\u001b[1;32m   2090\u001b[0m         \u001b[0;34m-\u001b[0m\u001b[0;34m-\u001b[0m\u001b[0;34m-\u001b[0m\u001b[0;34m-\u001b[0m\u001b[0;34m-\u001b[0m\u001b[0;34m-\u001b[0m\u001b[0;34m-\u001b[0m\u001b[0;34m\u001b[0m\u001b[0;34m\u001b[0m\u001b[0m\n\u001b[0;32m-> 2091\u001b[0;31m         \u001b[0mbool\u001b[0m\u001b[0;34m\u001b[0m\u001b[0;34m\u001b[0m\u001b[0m\n\u001b[0m\u001b[1;32m   2092\u001b[0m             \u001b[0mWhether\u001b[0m \u001b[0mthe\u001b[0m \u001b[0mratio\u001b[0m \u001b[0mhas\u001b[0m \u001b[0mchanged\u001b[0m\u001b[0;34m.\u001b[0m \u001b[0mBackends\u001b[0m \u001b[0mmay\u001b[0m \u001b[0minterpret\u001b[0m \u001b[0mthis\u001b[0m \u001b[0;32mas\u001b[0m \u001b[0ma\u001b[0m\u001b[0;34m\u001b[0m\u001b[0;34m\u001b[0m\u001b[0m\n\u001b[1;32m   2093\u001b[0m             \u001b[0msignal\u001b[0m \u001b[0mto\u001b[0m \u001b[0mresize\u001b[0m \u001b[0mthe\u001b[0m \u001b[0mwindow\u001b[0m\u001b[0;34m,\u001b[0m \u001b[0mrepaint\u001b[0m \u001b[0mthe\u001b[0m \u001b[0mcanvas\u001b[0m\u001b[0;34m,\u001b[0m \u001b[0;32mor\u001b[0m \u001b[0mchange\u001b[0m \u001b[0many\u001b[0m\u001b[0;34m\u001b[0m\u001b[0;34m\u001b[0m\u001b[0m\n",
            "\u001b[0;32m/usr/local/lib/python3.8/dist-packages/matplotlib/backend_bases.py\u001b[0m in \u001b[0;36m_get_renderer\u001b[0;34m(figure, print_method)\u001b[0m\n\u001b[1;32m   1558\u001b[0m         \u001b[0;32mtry\u001b[0m\u001b[0;34m:\u001b[0m\u001b[0;34m\u001b[0m\u001b[0;34m\u001b[0m\u001b[0m\n\u001b[1;32m   1559\u001b[0m             \u001b[0mprint_method\u001b[0m\u001b[0;34m(\u001b[0m\u001b[0mio\u001b[0m\u001b[0;34m.\u001b[0m\u001b[0mBytesIO\u001b[0m\u001b[0;34m(\u001b[0m\u001b[0;34m)\u001b[0m\u001b[0;34m)\u001b[0m\u001b[0;34m\u001b[0m\u001b[0;34m\u001b[0m\u001b[0m\n\u001b[0;32m-> 1560\u001b[0;31m         \u001b[0;32mexcept\u001b[0m \u001b[0mDone\u001b[0m \u001b[0;32mas\u001b[0m \u001b[0mexc\u001b[0m\u001b[0;34m:\u001b[0m\u001b[0;34m\u001b[0m\u001b[0;34m\u001b[0m\u001b[0m\n\u001b[0m\u001b[1;32m   1561\u001b[0m             \u001b[0mrenderer\u001b[0m\u001b[0;34m,\u001b[0m \u001b[0;34m=\u001b[0m \u001b[0mexc\u001b[0m\u001b[0;34m.\u001b[0m\u001b[0margs\u001b[0m\u001b[0;34m\u001b[0m\u001b[0;34m\u001b[0m\u001b[0m\n\u001b[1;32m   1562\u001b[0m             \u001b[0;32mreturn\u001b[0m \u001b[0mrenderer\u001b[0m\u001b[0;34m\u001b[0m\u001b[0;34m\u001b[0m\u001b[0m\n",
            "\u001b[0;32m/usr/local/lib/python3.8/dist-packages/matplotlib/backends/backend_agg.py\u001b[0m in \u001b[0;36mprint_png\u001b[0;34m(self, filename_or_obj, metadata, pil_kwargs, *args, **kwargs)\u001b[0m\n\u001b[1;32m    503\u001b[0m             \u001b[0mIf\u001b[0m \u001b[0;34m'Software'\u001b[0m \u001b[0;32mis\u001b[0m \u001b[0;32mnot\u001b[0m \u001b[0mgiven\u001b[0m\u001b[0;34m,\u001b[0m \u001b[0man\u001b[0m \u001b[0mautogenerated\u001b[0m \u001b[0mvalue\u001b[0m \u001b[0;32mfor\u001b[0m \u001b[0mMatplotlib\u001b[0m\u001b[0;34m\u001b[0m\u001b[0;34m\u001b[0m\u001b[0m\n\u001b[1;32m    504\u001b[0m             \u001b[0mwill\u001b[0m \u001b[0mbe\u001b[0m \u001b[0mused\u001b[0m\u001b[0;34m.\u001b[0m  \u001b[0mThis\u001b[0m \u001b[0mcan\u001b[0m \u001b[0mbe\u001b[0m \u001b[0mremoved\u001b[0m \u001b[0mby\u001b[0m \u001b[0msetting\u001b[0m \u001b[0mit\u001b[0m \u001b[0mto\u001b[0m \u001b[0;34m*\u001b[0m\u001b[0;32mNone\u001b[0m\u001b[0;34m*\u001b[0m\u001b[0;34m.\u001b[0m\u001b[0;34m\u001b[0m\u001b[0;34m\u001b[0m\u001b[0m\n\u001b[0;32m--> 505\u001b[0;31m \u001b[0;34m\u001b[0m\u001b[0m\n\u001b[0m\u001b[1;32m    506\u001b[0m             \u001b[0mFor\u001b[0m \u001b[0mmore\u001b[0m \u001b[0mdetails\u001b[0m \u001b[0msee\u001b[0m \u001b[0mthe\u001b[0m\u001b[0;31m \u001b[0m\u001b[0;31m`\u001b[0m\u001b[0mPNG\u001b[0m \u001b[0mspecification\u001b[0m\u001b[0;31m`\u001b[0m\u001b[0m_\u001b[0m\u001b[0;34m.\u001b[0m\u001b[0;34m\u001b[0m\u001b[0;34m\u001b[0m\u001b[0m\n\u001b[1;32m    507\u001b[0m \u001b[0;34m\u001b[0m\u001b[0m\n",
            "\u001b[0;31mImportError\u001b[0m: cannot import name '_png' from 'matplotlib' (/usr/local/lib/python3.8/dist-packages/matplotlib/__init__.py)"
          ]
        },
        {
          "output_type": "display_data",
          "data": {
            "text/plain": [
              "<Figure size 432x288 with 1 Axes>"
            ]
          },
          "metadata": {
            "needs_background": "light"
          }
        }
      ],
      "source": [
        "pred_cov = model_futcov.predict(\n",
        "    n=36, series=train_air, future_covariates=air_covariates\n",
        ")\n",
        "\n",
        "series_air_scaled.plot(label=\"actual\")\n",
        "pred_cov.plot(label=\"forecast\")\n",
        "plt.legend();"
      ]
    },
    {
      "cell_type": "markdown",
      "metadata": {
        "id": "-NWJ6raikfIc"
      },
      "source": [
        "# 共変量によるバックテスト\n",
        "共変量を使用してモデルをバックテストすることもできます。例えば、12ヶ月のホライズンで、空気系列の75%から開始して、ランニング精度を評価することに興味があるとします。"
      ]
    },
    {
      "cell_type": "code",
      "execution_count": null,
      "metadata": {
        "id": "UVLvOUo3kfIc",
        "outputId": "b3f14447-91c0-4a31-f35b-b5d70e4ed512",
        "colab": {
          "base_uri": "https://localhost:8080/"
        }
      },
      "outputs": [
        {
          "output_type": "stream",
          "name": "stdout",
          "text": [
            "MAPE (BlockRNNModel with past covariates) = 10.48%\n",
            "MAPE (RNNModel with future covariates) = 15.21%\n"
          ]
        }
      ],
      "source": [
        "backtest_pastcov = model_pastcov.historical_forecasts(\n",
        "    series_air_scaled,\n",
        "    past_covariates=air_covariates,\n",
        "    start=0.6,\n",
        "    forecast_horizon=12,\n",
        "    stride=1,\n",
        "    retrain=False,\n",
        ")\n",
        "\n",
        "print(\n",
        "    \"MAPE (BlockRNNModel with past covariates) = {:.2f}%\".format(\n",
        "        mape(series_air_scaled, backtest_pastcov)\n",
        "    )\n",
        ")\n",
        "\n",
        "backtest_futcov = model_futcov.historical_forecasts(\n",
        "    series_air_scaled,\n",
        "    future_covariates=air_covariates,\n",
        "    start=0.6,\n",
        "    forecast_horizon=12,\n",
        "    stride=1,\n",
        "    retrain=False,\n",
        ")\n",
        "\n",
        "print(\n",
        "    \"MAPE (RNNModel with future covariates) = {:.2f}%\".format(\n",
        "        mape(series_air_scaled, backtest_futcov)\n",
        "    )\n",
        ")"
      ]
    },
    {
      "cell_type": "markdown",
      "metadata": {
        "id": "qBpU3KZikfId"
      },
      "source": [
        "選択されたハイパーパラメータ（およびランダムシード）により、past_covariatesを用いたBlockRNNModel（MAPE=10.48%）はfuture_covariatesを用いたRNNModel（MAPE=15.21%）より優れているようです。これら2つのモデルで得られた予測についてより良いアイデアを持つために、それらを隣同士にプロットすることが可能です。\n"
      ]
    },
    {
      "cell_type": "code",
      "execution_count": null,
      "metadata": {
        "id": "YFaFrYTwkfId",
        "outputId": "b491e7b2-74bb-4097-9f9c-f22d29de9f7d",
        "colab": {
          "base_uri": "https://localhost:8080/"
        }
      },
      "outputs": [
        {
          "output_type": "error",
          "ename": "ImportError",
          "evalue": "ignored",
          "traceback": [
            "\u001b[0;31m---------------------------------------------------------------------------\u001b[0m",
            "\u001b[0;31mImportError\u001b[0m                               Traceback (most recent call last)",
            "\u001b[0;32m/usr/local/lib/python3.8/dist-packages/IPython/core/formatters.py\u001b[0m in \u001b[0;36m__call__\u001b[0;34m(self, obj)\u001b[0m\n\u001b[1;32m    339\u001b[0m                 \u001b[0;32mpass\u001b[0m\u001b[0;34m\u001b[0m\u001b[0;34m\u001b[0m\u001b[0m\n\u001b[1;32m    340\u001b[0m             \u001b[0;32melse\u001b[0m\u001b[0;34m:\u001b[0m\u001b[0;34m\u001b[0m\u001b[0;34m\u001b[0m\u001b[0m\n\u001b[0;32m--> 341\u001b[0;31m                 \u001b[0;32mreturn\u001b[0m \u001b[0mprinter\u001b[0m\u001b[0;34m(\u001b[0m\u001b[0mobj\u001b[0m\u001b[0;34m)\u001b[0m\u001b[0;34m\u001b[0m\u001b[0;34m\u001b[0m\u001b[0m\n\u001b[0m\u001b[1;32m    342\u001b[0m             \u001b[0;31m# Finally look for special method names\u001b[0m\u001b[0;34m\u001b[0m\u001b[0;34m\u001b[0m\u001b[0;34m\u001b[0m\u001b[0m\n\u001b[1;32m    343\u001b[0m             \u001b[0mmethod\u001b[0m \u001b[0;34m=\u001b[0m \u001b[0mget_real_method\u001b[0m\u001b[0;34m(\u001b[0m\u001b[0mobj\u001b[0m\u001b[0;34m,\u001b[0m \u001b[0mself\u001b[0m\u001b[0;34m.\u001b[0m\u001b[0mprint_method\u001b[0m\u001b[0;34m)\u001b[0m\u001b[0;34m\u001b[0m\u001b[0;34m\u001b[0m\u001b[0m\n",
            "\u001b[0;32m/usr/local/lib/python3.8/dist-packages/IPython/core/pylabtools.py\u001b[0m in \u001b[0;36m<lambda>\u001b[0;34m(fig)\u001b[0m\n\u001b[1;32m    242\u001b[0m \u001b[0;34m\u001b[0m\u001b[0m\n\u001b[1;32m    243\u001b[0m     \u001b[0;32mif\u001b[0m \u001b[0;34m'png'\u001b[0m \u001b[0;32min\u001b[0m \u001b[0mformats\u001b[0m\u001b[0;34m:\u001b[0m\u001b[0;34m\u001b[0m\u001b[0;34m\u001b[0m\u001b[0m\n\u001b[0;32m--> 244\u001b[0;31m         \u001b[0mpng_formatter\u001b[0m\u001b[0;34m.\u001b[0m\u001b[0mfor_type\u001b[0m\u001b[0;34m(\u001b[0m\u001b[0mFigure\u001b[0m\u001b[0;34m,\u001b[0m \u001b[0;32mlambda\u001b[0m \u001b[0mfig\u001b[0m\u001b[0;34m:\u001b[0m \u001b[0mprint_figure\u001b[0m\u001b[0;34m(\u001b[0m\u001b[0mfig\u001b[0m\u001b[0;34m,\u001b[0m \u001b[0;34m'png'\u001b[0m\u001b[0;34m,\u001b[0m \u001b[0;34m**\u001b[0m\u001b[0mkwargs\u001b[0m\u001b[0;34m)\u001b[0m\u001b[0;34m)\u001b[0m\u001b[0;34m\u001b[0m\u001b[0;34m\u001b[0m\u001b[0m\n\u001b[0m\u001b[1;32m    245\u001b[0m     \u001b[0;32mif\u001b[0m \u001b[0;34m'retina'\u001b[0m \u001b[0;32min\u001b[0m \u001b[0mformats\u001b[0m \u001b[0;32mor\u001b[0m \u001b[0;34m'png2x'\u001b[0m \u001b[0;32min\u001b[0m \u001b[0mformats\u001b[0m\u001b[0;34m:\u001b[0m\u001b[0;34m\u001b[0m\u001b[0;34m\u001b[0m\u001b[0m\n\u001b[1;32m    246\u001b[0m         \u001b[0mpng_formatter\u001b[0m\u001b[0;34m.\u001b[0m\u001b[0mfor_type\u001b[0m\u001b[0;34m(\u001b[0m\u001b[0mFigure\u001b[0m\u001b[0;34m,\u001b[0m \u001b[0;32mlambda\u001b[0m \u001b[0mfig\u001b[0m\u001b[0;34m:\u001b[0m \u001b[0mretina_figure\u001b[0m\u001b[0;34m(\u001b[0m\u001b[0mfig\u001b[0m\u001b[0;34m,\u001b[0m \u001b[0;34m**\u001b[0m\u001b[0mkwargs\u001b[0m\u001b[0;34m)\u001b[0m\u001b[0;34m)\u001b[0m\u001b[0;34m\u001b[0m\u001b[0;34m\u001b[0m\u001b[0m\n",
            "\u001b[0;32m/usr/local/lib/python3.8/dist-packages/IPython/core/pylabtools.py\u001b[0m in \u001b[0;36mprint_figure\u001b[0;34m(fig, fmt, bbox_inches, **kwargs)\u001b[0m\n\u001b[1;32m    126\u001b[0m \u001b[0;34m\u001b[0m\u001b[0m\n\u001b[1;32m    127\u001b[0m     \u001b[0mbytes_io\u001b[0m \u001b[0;34m=\u001b[0m \u001b[0mBytesIO\u001b[0m\u001b[0;34m(\u001b[0m\u001b[0;34m)\u001b[0m\u001b[0;34m\u001b[0m\u001b[0;34m\u001b[0m\u001b[0m\n\u001b[0;32m--> 128\u001b[0;31m     \u001b[0mfig\u001b[0m\u001b[0;34m.\u001b[0m\u001b[0mcanvas\u001b[0m\u001b[0;34m.\u001b[0m\u001b[0mprint_figure\u001b[0m\u001b[0;34m(\u001b[0m\u001b[0mbytes_io\u001b[0m\u001b[0;34m,\u001b[0m \u001b[0;34m**\u001b[0m\u001b[0mkw\u001b[0m\u001b[0;34m)\u001b[0m\u001b[0;34m\u001b[0m\u001b[0;34m\u001b[0m\u001b[0m\n\u001b[0m\u001b[1;32m    129\u001b[0m     \u001b[0mdata\u001b[0m \u001b[0;34m=\u001b[0m \u001b[0mbytes_io\u001b[0m\u001b[0;34m.\u001b[0m\u001b[0mgetvalue\u001b[0m\u001b[0;34m(\u001b[0m\u001b[0;34m)\u001b[0m\u001b[0;34m\u001b[0m\u001b[0;34m\u001b[0m\u001b[0m\n\u001b[1;32m    130\u001b[0m     \u001b[0;32mif\u001b[0m \u001b[0mfmt\u001b[0m \u001b[0;34m==\u001b[0m \u001b[0;34m'svg'\u001b[0m\u001b[0;34m:\u001b[0m\u001b[0;34m\u001b[0m\u001b[0;34m\u001b[0m\u001b[0m\n",
            "\u001b[0;32m/usr/local/lib/python3.8/dist-packages/matplotlib/backend_bases.py\u001b[0m in \u001b[0;36mprint_figure\u001b[0;34m(self, filename, dpi, facecolor, edgecolor, orientation, format, bbox_inches, **kwargs)\u001b[0m\n\u001b[1;32m   2089\u001b[0m         \u001b[0mReturns\u001b[0m\u001b[0;34m\u001b[0m\u001b[0;34m\u001b[0m\u001b[0m\n\u001b[1;32m   2090\u001b[0m         \u001b[0;34m-\u001b[0m\u001b[0;34m-\u001b[0m\u001b[0;34m-\u001b[0m\u001b[0;34m-\u001b[0m\u001b[0;34m-\u001b[0m\u001b[0;34m-\u001b[0m\u001b[0;34m-\u001b[0m\u001b[0;34m\u001b[0m\u001b[0;34m\u001b[0m\u001b[0m\n\u001b[0;32m-> 2091\u001b[0;31m         \u001b[0mbool\u001b[0m\u001b[0;34m\u001b[0m\u001b[0;34m\u001b[0m\u001b[0m\n\u001b[0m\u001b[1;32m   2092\u001b[0m             \u001b[0mWhether\u001b[0m \u001b[0mthe\u001b[0m \u001b[0mratio\u001b[0m \u001b[0mhas\u001b[0m \u001b[0mchanged\u001b[0m\u001b[0;34m.\u001b[0m \u001b[0mBackends\u001b[0m \u001b[0mmay\u001b[0m \u001b[0minterpret\u001b[0m \u001b[0mthis\u001b[0m \u001b[0;32mas\u001b[0m \u001b[0ma\u001b[0m\u001b[0;34m\u001b[0m\u001b[0;34m\u001b[0m\u001b[0m\n\u001b[1;32m   2093\u001b[0m             \u001b[0msignal\u001b[0m \u001b[0mto\u001b[0m \u001b[0mresize\u001b[0m \u001b[0mthe\u001b[0m \u001b[0mwindow\u001b[0m\u001b[0;34m,\u001b[0m \u001b[0mrepaint\u001b[0m \u001b[0mthe\u001b[0m \u001b[0mcanvas\u001b[0m\u001b[0;34m,\u001b[0m \u001b[0;32mor\u001b[0m \u001b[0mchange\u001b[0m \u001b[0many\u001b[0m\u001b[0;34m\u001b[0m\u001b[0;34m\u001b[0m\u001b[0m\n",
            "\u001b[0;32m/usr/local/lib/python3.8/dist-packages/matplotlib/backend_bases.py\u001b[0m in \u001b[0;36m_get_renderer\u001b[0;34m(figure, print_method)\u001b[0m\n\u001b[1;32m   1558\u001b[0m         \u001b[0;32mtry\u001b[0m\u001b[0;34m:\u001b[0m\u001b[0;34m\u001b[0m\u001b[0;34m\u001b[0m\u001b[0m\n\u001b[1;32m   1559\u001b[0m             \u001b[0mprint_method\u001b[0m\u001b[0;34m(\u001b[0m\u001b[0mio\u001b[0m\u001b[0;34m.\u001b[0m\u001b[0mBytesIO\u001b[0m\u001b[0;34m(\u001b[0m\u001b[0;34m)\u001b[0m\u001b[0;34m)\u001b[0m\u001b[0;34m\u001b[0m\u001b[0;34m\u001b[0m\u001b[0m\n\u001b[0;32m-> 1560\u001b[0;31m         \u001b[0;32mexcept\u001b[0m \u001b[0mDone\u001b[0m \u001b[0;32mas\u001b[0m \u001b[0mexc\u001b[0m\u001b[0;34m:\u001b[0m\u001b[0;34m\u001b[0m\u001b[0;34m\u001b[0m\u001b[0m\n\u001b[0m\u001b[1;32m   1561\u001b[0m             \u001b[0mrenderer\u001b[0m\u001b[0;34m,\u001b[0m \u001b[0;34m=\u001b[0m \u001b[0mexc\u001b[0m\u001b[0;34m.\u001b[0m\u001b[0margs\u001b[0m\u001b[0;34m\u001b[0m\u001b[0;34m\u001b[0m\u001b[0m\n\u001b[1;32m   1562\u001b[0m             \u001b[0;32mreturn\u001b[0m \u001b[0mrenderer\u001b[0m\u001b[0;34m\u001b[0m\u001b[0;34m\u001b[0m\u001b[0m\n",
            "\u001b[0;32m/usr/local/lib/python3.8/dist-packages/matplotlib/backends/backend_agg.py\u001b[0m in \u001b[0;36mprint_png\u001b[0;34m(self, filename_or_obj, metadata, pil_kwargs, *args, **kwargs)\u001b[0m\n\u001b[1;32m    503\u001b[0m             \u001b[0mIf\u001b[0m \u001b[0;34m'Software'\u001b[0m \u001b[0;32mis\u001b[0m \u001b[0;32mnot\u001b[0m \u001b[0mgiven\u001b[0m\u001b[0;34m,\u001b[0m \u001b[0man\u001b[0m \u001b[0mautogenerated\u001b[0m \u001b[0mvalue\u001b[0m \u001b[0;32mfor\u001b[0m \u001b[0mMatplotlib\u001b[0m\u001b[0;34m\u001b[0m\u001b[0;34m\u001b[0m\u001b[0m\n\u001b[1;32m    504\u001b[0m             \u001b[0mwill\u001b[0m \u001b[0mbe\u001b[0m \u001b[0mused\u001b[0m\u001b[0;34m.\u001b[0m  \u001b[0mThis\u001b[0m \u001b[0mcan\u001b[0m \u001b[0mbe\u001b[0m \u001b[0mremoved\u001b[0m \u001b[0mby\u001b[0m \u001b[0msetting\u001b[0m \u001b[0mit\u001b[0m \u001b[0mto\u001b[0m \u001b[0;34m*\u001b[0m\u001b[0;32mNone\u001b[0m\u001b[0;34m*\u001b[0m\u001b[0;34m.\u001b[0m\u001b[0;34m\u001b[0m\u001b[0;34m\u001b[0m\u001b[0m\n\u001b[0;32m--> 505\u001b[0;31m \u001b[0;34m\u001b[0m\u001b[0m\n\u001b[0m\u001b[1;32m    506\u001b[0m             \u001b[0mFor\u001b[0m \u001b[0mmore\u001b[0m \u001b[0mdetails\u001b[0m \u001b[0msee\u001b[0m \u001b[0mthe\u001b[0m\u001b[0;31m \u001b[0m\u001b[0;31m`\u001b[0m\u001b[0mPNG\u001b[0m \u001b[0mspecification\u001b[0m\u001b[0;31m`\u001b[0m\u001b[0m_\u001b[0m\u001b[0;34m.\u001b[0m\u001b[0;34m\u001b[0m\u001b[0;34m\u001b[0m\u001b[0m\n\u001b[1;32m    507\u001b[0m \u001b[0;34m\u001b[0m\u001b[0m\n",
            "\u001b[0;31mImportError\u001b[0m: cannot import name '_png' from 'matplotlib' (/usr/local/lib/python3.8/dist-packages/matplotlib/__init__.py)"
          ]
        },
        {
          "output_type": "display_data",
          "data": {
            "text/plain": [
              "<Figure size 1008x432 with 2 Axes>"
            ]
          },
          "metadata": {
            "needs_background": "light"
          }
        }
      ],
      "source": [
        "fig, axs = plt.subplots(1, 2, figsize=(14, 6))\n",
        "series_air_scaled.plot(label=\"actual\", ax=axs[0])\n",
        "backtest_pastcov.plot(label=\"forecast BlockRNN\", ax=axs[0])\n",
        "axs[0].legend()\n",
        "series_air_scaled.plot(label=\"actual\", ax=axs[1])\n",
        "backtest_futcov.plot(label=\"forecast RNN\", ax=axs[1], color=\"darkviolet\")\n",
        "axs[1].legend()\n",
        "plt.show()"
      ]
    },
    {
      "cell_type": "markdown",
      "metadata": {
        "id": "DPVxkS7gkfId"
      },
      "source": [
        "# 過去の共変量、未来の共変量、その他の条件付けについてもう少しだけ。\n",
        "現時点では、Dartsはそれ自体が時系列である共変量をサポートしています。これらの共変量はモデル入力として使用されますが、それ自体が予測の対象になることはありません。共変量は必ずしもターゲット系列と一致する必要はありません（例えば、同じ時刻に開始する必要はありません）。Dartsは、学習と推論の両方で、ターゲットと共変量を正しくスライスするために、TimeSeriesの時間軸の実際の時間値を使用します。もちろん、共変量はまだ十分なスパンを持つ必要があり、そうでなければDartsは文句を言うでしょう。\n",
        "\n",
        "上記で説明したように、TCNModel, NBEATSModel, BlockRNNModel, TransformerModelは過去の共変量を使用します（future_covariatesを使用しようとすると、文句を言われます）。もし、これらの過去の共変量がたまたま将来も知られているならば、これらのモデルは自動回帰的にn > output_chunk_length（上記のBlockRNNModelのように）の予測を作成することもできます。\n",
        "\n",
        "これに対して、RNNModelは未来の共変量を使用します（past_covariatesを指定しようとすると、文句を言われます）。つまり、このモデルによる予測では、予測時刻から（少なくとも）n時間ステップ先の未来の共変量が必要となる。\n",
        "\n",
        "過去と未来の共変量（および、それらが異なるモデルによって消費される方法）は、重要ですが、自明なトピックではありません。\n",
        "\n",
        "# 多変量時系列の学習と予測\n",
        "さて、1つの変数だけを予測するのではなく、一度に複数の変数を予測したいと思います。1つのモデルを学習するために2つの異なる一変量データセットが使用された多変量学習とは対照的に、学習セットは、複数の変数（コンポーネントと呼ぶ）のオブザベーションを含む1つの系列で構成されます。これらのコンポーネントは，通常，同じ性質（同じメトリックの測定）を示すが，これは必ずしもそうではない．\n",
        "\n",
        "この例で取り上げていない場合でも、フィットメソッドに一連の多変量時系列を与えることで、複数の多変量時系列を使ってモデルを学習することもできます（もちろん、モデルが多変量時系列をサポートしていることが条件ですが）。\n",
        "\n",
        "この例を説明するために、ElectricityDataset (Dartsでも利用可能)を使用します。このデータセットには、370のクライアントの電力消費量(kW)の測定値が含まれており、サンプリングレートは15分です。\n",
        "\n",
        "DeepL.comで別の訳し方を確認する\n",
        "\n",
        "\n",
        "\n",
        "下\n"
      ]
    },
    {
      "cell_type": "code",
      "execution_count": null,
      "metadata": {
        "id": "87dq2XPikfIe"
      },
      "outputs": [],
      "source": [
        "multi_serie_elec = ElectricityDataset().load()"
      ]
    },
    {
      "cell_type": "markdown",
      "metadata": {
        "id": "2VwmYPlNkfIe"
      },
      "source": [
        "\n",
        "この多変量系列は特に大きいので（370成分、140'256値）、1時間の頻度で系列を再サンプリングする前に3成分だけを保持することにする。最後に、学習期間を短縮するために、最後の168個の値（1週間）を保持する。\n"
      ]
    },
    {
      "cell_type": "code",
      "execution_count": null,
      "metadata": {
        "id": "sV9qlrdOkfIe"
      },
      "outputs": [],
      "source": [
        "# retaining only three components in different ranges\n",
        "retained_components = [\"MT_002\", \"MT_008\", \"MT_009\"]\n",
        "multi_serie_elec = multi_serie_elec[retained_components]\n",
        "# resampling the multivariate time serie\n",
        "multi_serie_elec = multi_serie_elec.resample(freq=\"1H\")\n",
        "# keep the values for the last 5 days\n",
        "multi_serie_elec = multi_serie_elec[-168:]"
      ]
    },
    {
      "cell_type": "code",
      "execution_count": null,
      "metadata": {
        "id": "ynLjajeWkfIf",
        "outputId": "61c23212-8617-4ecb-eeff-848834c38d8a",
        "colab": {
          "base_uri": "https://localhost:8080/"
        }
      },
      "outputs": [
        {
          "output_type": "error",
          "ename": "ImportError",
          "evalue": "ignored",
          "traceback": [
            "\u001b[0;31m---------------------------------------------------------------------------\u001b[0m",
            "\u001b[0;31mImportError\u001b[0m                               Traceback (most recent call last)",
            "\u001b[0;32m/usr/local/lib/python3.8/dist-packages/IPython/core/formatters.py\u001b[0m in \u001b[0;36m__call__\u001b[0;34m(self, obj)\u001b[0m\n\u001b[1;32m    339\u001b[0m                 \u001b[0;32mpass\u001b[0m\u001b[0;34m\u001b[0m\u001b[0;34m\u001b[0m\u001b[0m\n\u001b[1;32m    340\u001b[0m             \u001b[0;32melse\u001b[0m\u001b[0;34m:\u001b[0m\u001b[0;34m\u001b[0m\u001b[0;34m\u001b[0m\u001b[0m\n\u001b[0;32m--> 341\u001b[0;31m                 \u001b[0;32mreturn\u001b[0m \u001b[0mprinter\u001b[0m\u001b[0;34m(\u001b[0m\u001b[0mobj\u001b[0m\u001b[0;34m)\u001b[0m\u001b[0;34m\u001b[0m\u001b[0;34m\u001b[0m\u001b[0m\n\u001b[0m\u001b[1;32m    342\u001b[0m             \u001b[0;31m# Finally look for special method names\u001b[0m\u001b[0;34m\u001b[0m\u001b[0;34m\u001b[0m\u001b[0;34m\u001b[0m\u001b[0m\n\u001b[1;32m    343\u001b[0m             \u001b[0mmethod\u001b[0m \u001b[0;34m=\u001b[0m \u001b[0mget_real_method\u001b[0m\u001b[0;34m(\u001b[0m\u001b[0mobj\u001b[0m\u001b[0;34m,\u001b[0m \u001b[0mself\u001b[0m\u001b[0;34m.\u001b[0m\u001b[0mprint_method\u001b[0m\u001b[0;34m)\u001b[0m\u001b[0;34m\u001b[0m\u001b[0;34m\u001b[0m\u001b[0m\n",
            "\u001b[0;32m/usr/local/lib/python3.8/dist-packages/IPython/core/pylabtools.py\u001b[0m in \u001b[0;36m<lambda>\u001b[0;34m(fig)\u001b[0m\n\u001b[1;32m    242\u001b[0m \u001b[0;34m\u001b[0m\u001b[0m\n\u001b[1;32m    243\u001b[0m     \u001b[0;32mif\u001b[0m \u001b[0;34m'png'\u001b[0m \u001b[0;32min\u001b[0m \u001b[0mformats\u001b[0m\u001b[0;34m:\u001b[0m\u001b[0;34m\u001b[0m\u001b[0;34m\u001b[0m\u001b[0m\n\u001b[0;32m--> 244\u001b[0;31m         \u001b[0mpng_formatter\u001b[0m\u001b[0;34m.\u001b[0m\u001b[0mfor_type\u001b[0m\u001b[0;34m(\u001b[0m\u001b[0mFigure\u001b[0m\u001b[0;34m,\u001b[0m \u001b[0;32mlambda\u001b[0m \u001b[0mfig\u001b[0m\u001b[0;34m:\u001b[0m \u001b[0mprint_figure\u001b[0m\u001b[0;34m(\u001b[0m\u001b[0mfig\u001b[0m\u001b[0;34m,\u001b[0m \u001b[0;34m'png'\u001b[0m\u001b[0;34m,\u001b[0m \u001b[0;34m**\u001b[0m\u001b[0mkwargs\u001b[0m\u001b[0;34m)\u001b[0m\u001b[0;34m)\u001b[0m\u001b[0;34m\u001b[0m\u001b[0;34m\u001b[0m\u001b[0m\n\u001b[0m\u001b[1;32m    245\u001b[0m     \u001b[0;32mif\u001b[0m \u001b[0;34m'retina'\u001b[0m \u001b[0;32min\u001b[0m \u001b[0mformats\u001b[0m \u001b[0;32mor\u001b[0m \u001b[0;34m'png2x'\u001b[0m \u001b[0;32min\u001b[0m \u001b[0mformats\u001b[0m\u001b[0;34m:\u001b[0m\u001b[0;34m\u001b[0m\u001b[0;34m\u001b[0m\u001b[0m\n\u001b[1;32m    246\u001b[0m         \u001b[0mpng_formatter\u001b[0m\u001b[0;34m.\u001b[0m\u001b[0mfor_type\u001b[0m\u001b[0;34m(\u001b[0m\u001b[0mFigure\u001b[0m\u001b[0;34m,\u001b[0m \u001b[0;32mlambda\u001b[0m \u001b[0mfig\u001b[0m\u001b[0;34m:\u001b[0m \u001b[0mretina_figure\u001b[0m\u001b[0;34m(\u001b[0m\u001b[0mfig\u001b[0m\u001b[0;34m,\u001b[0m \u001b[0;34m**\u001b[0m\u001b[0mkwargs\u001b[0m\u001b[0;34m)\u001b[0m\u001b[0;34m)\u001b[0m\u001b[0;34m\u001b[0m\u001b[0;34m\u001b[0m\u001b[0m\n",
            "\u001b[0;32m/usr/local/lib/python3.8/dist-packages/IPython/core/pylabtools.py\u001b[0m in \u001b[0;36mprint_figure\u001b[0;34m(fig, fmt, bbox_inches, **kwargs)\u001b[0m\n\u001b[1;32m    126\u001b[0m \u001b[0;34m\u001b[0m\u001b[0m\n\u001b[1;32m    127\u001b[0m     \u001b[0mbytes_io\u001b[0m \u001b[0;34m=\u001b[0m \u001b[0mBytesIO\u001b[0m\u001b[0;34m(\u001b[0m\u001b[0;34m)\u001b[0m\u001b[0;34m\u001b[0m\u001b[0;34m\u001b[0m\u001b[0m\n\u001b[0;32m--> 128\u001b[0;31m     \u001b[0mfig\u001b[0m\u001b[0;34m.\u001b[0m\u001b[0mcanvas\u001b[0m\u001b[0;34m.\u001b[0m\u001b[0mprint_figure\u001b[0m\u001b[0;34m(\u001b[0m\u001b[0mbytes_io\u001b[0m\u001b[0;34m,\u001b[0m \u001b[0;34m**\u001b[0m\u001b[0mkw\u001b[0m\u001b[0;34m)\u001b[0m\u001b[0;34m\u001b[0m\u001b[0;34m\u001b[0m\u001b[0m\n\u001b[0m\u001b[1;32m    129\u001b[0m     \u001b[0mdata\u001b[0m \u001b[0;34m=\u001b[0m \u001b[0mbytes_io\u001b[0m\u001b[0;34m.\u001b[0m\u001b[0mgetvalue\u001b[0m\u001b[0;34m(\u001b[0m\u001b[0;34m)\u001b[0m\u001b[0;34m\u001b[0m\u001b[0;34m\u001b[0m\u001b[0m\n\u001b[1;32m    130\u001b[0m     \u001b[0;32mif\u001b[0m \u001b[0mfmt\u001b[0m \u001b[0;34m==\u001b[0m \u001b[0;34m'svg'\u001b[0m\u001b[0;34m:\u001b[0m\u001b[0;34m\u001b[0m\u001b[0;34m\u001b[0m\u001b[0m\n",
            "\u001b[0;32m/usr/local/lib/python3.8/dist-packages/matplotlib/backend_bases.py\u001b[0m in \u001b[0;36mprint_figure\u001b[0;34m(self, filename, dpi, facecolor, edgecolor, orientation, format, bbox_inches, **kwargs)\u001b[0m\n\u001b[1;32m   2089\u001b[0m         \u001b[0mReturns\u001b[0m\u001b[0;34m\u001b[0m\u001b[0;34m\u001b[0m\u001b[0m\n\u001b[1;32m   2090\u001b[0m         \u001b[0;34m-\u001b[0m\u001b[0;34m-\u001b[0m\u001b[0;34m-\u001b[0m\u001b[0;34m-\u001b[0m\u001b[0;34m-\u001b[0m\u001b[0;34m-\u001b[0m\u001b[0;34m-\u001b[0m\u001b[0;34m\u001b[0m\u001b[0;34m\u001b[0m\u001b[0m\n\u001b[0;32m-> 2091\u001b[0;31m         \u001b[0mbool\u001b[0m\u001b[0;34m\u001b[0m\u001b[0;34m\u001b[0m\u001b[0m\n\u001b[0m\u001b[1;32m   2092\u001b[0m             \u001b[0mWhether\u001b[0m \u001b[0mthe\u001b[0m \u001b[0mratio\u001b[0m \u001b[0mhas\u001b[0m \u001b[0mchanged\u001b[0m\u001b[0;34m.\u001b[0m \u001b[0mBackends\u001b[0m \u001b[0mmay\u001b[0m \u001b[0minterpret\u001b[0m \u001b[0mthis\u001b[0m \u001b[0;32mas\u001b[0m \u001b[0ma\u001b[0m\u001b[0;34m\u001b[0m\u001b[0;34m\u001b[0m\u001b[0m\n\u001b[1;32m   2093\u001b[0m             \u001b[0msignal\u001b[0m \u001b[0mto\u001b[0m \u001b[0mresize\u001b[0m \u001b[0mthe\u001b[0m \u001b[0mwindow\u001b[0m\u001b[0;34m,\u001b[0m \u001b[0mrepaint\u001b[0m \u001b[0mthe\u001b[0m \u001b[0mcanvas\u001b[0m\u001b[0;34m,\u001b[0m \u001b[0;32mor\u001b[0m \u001b[0mchange\u001b[0m \u001b[0many\u001b[0m\u001b[0;34m\u001b[0m\u001b[0;34m\u001b[0m\u001b[0m\n",
            "\u001b[0;32m/usr/local/lib/python3.8/dist-packages/matplotlib/backend_bases.py\u001b[0m in \u001b[0;36m_get_renderer\u001b[0;34m(figure, print_method)\u001b[0m\n\u001b[1;32m   1558\u001b[0m         \u001b[0;32mtry\u001b[0m\u001b[0;34m:\u001b[0m\u001b[0;34m\u001b[0m\u001b[0;34m\u001b[0m\u001b[0m\n\u001b[1;32m   1559\u001b[0m             \u001b[0mprint_method\u001b[0m\u001b[0;34m(\u001b[0m\u001b[0mio\u001b[0m\u001b[0;34m.\u001b[0m\u001b[0mBytesIO\u001b[0m\u001b[0;34m(\u001b[0m\u001b[0;34m)\u001b[0m\u001b[0;34m)\u001b[0m\u001b[0;34m\u001b[0m\u001b[0;34m\u001b[0m\u001b[0m\n\u001b[0;32m-> 1560\u001b[0;31m         \u001b[0;32mexcept\u001b[0m \u001b[0mDone\u001b[0m \u001b[0;32mas\u001b[0m \u001b[0mexc\u001b[0m\u001b[0;34m:\u001b[0m\u001b[0;34m\u001b[0m\u001b[0;34m\u001b[0m\u001b[0m\n\u001b[0m\u001b[1;32m   1561\u001b[0m             \u001b[0mrenderer\u001b[0m\u001b[0;34m,\u001b[0m \u001b[0;34m=\u001b[0m \u001b[0mexc\u001b[0m\u001b[0;34m.\u001b[0m\u001b[0margs\u001b[0m\u001b[0;34m\u001b[0m\u001b[0;34m\u001b[0m\u001b[0m\n\u001b[1;32m   1562\u001b[0m             \u001b[0;32mreturn\u001b[0m \u001b[0mrenderer\u001b[0m\u001b[0;34m\u001b[0m\u001b[0;34m\u001b[0m\u001b[0m\n",
            "\u001b[0;32m/usr/local/lib/python3.8/dist-packages/matplotlib/backends/backend_agg.py\u001b[0m in \u001b[0;36mprint_png\u001b[0;34m(self, filename_or_obj, metadata, pil_kwargs, *args, **kwargs)\u001b[0m\n\u001b[1;32m    503\u001b[0m             \u001b[0mIf\u001b[0m \u001b[0;34m'Software'\u001b[0m \u001b[0;32mis\u001b[0m \u001b[0;32mnot\u001b[0m \u001b[0mgiven\u001b[0m\u001b[0;34m,\u001b[0m \u001b[0man\u001b[0m \u001b[0mautogenerated\u001b[0m \u001b[0mvalue\u001b[0m \u001b[0;32mfor\u001b[0m \u001b[0mMatplotlib\u001b[0m\u001b[0;34m\u001b[0m\u001b[0;34m\u001b[0m\u001b[0m\n\u001b[1;32m    504\u001b[0m             \u001b[0mwill\u001b[0m \u001b[0mbe\u001b[0m \u001b[0mused\u001b[0m\u001b[0;34m.\u001b[0m  \u001b[0mThis\u001b[0m \u001b[0mcan\u001b[0m \u001b[0mbe\u001b[0m \u001b[0mremoved\u001b[0m \u001b[0mby\u001b[0m \u001b[0msetting\u001b[0m \u001b[0mit\u001b[0m \u001b[0mto\u001b[0m \u001b[0;34m*\u001b[0m\u001b[0;32mNone\u001b[0m\u001b[0;34m*\u001b[0m\u001b[0;34m.\u001b[0m\u001b[0;34m\u001b[0m\u001b[0;34m\u001b[0m\u001b[0m\n\u001b[0;32m--> 505\u001b[0;31m \u001b[0;34m\u001b[0m\u001b[0m\n\u001b[0m\u001b[1;32m    506\u001b[0m             \u001b[0mFor\u001b[0m \u001b[0mmore\u001b[0m \u001b[0mdetails\u001b[0m \u001b[0msee\u001b[0m \u001b[0mthe\u001b[0m\u001b[0;31m \u001b[0m\u001b[0;31m`\u001b[0m\u001b[0mPNG\u001b[0m \u001b[0mspecification\u001b[0m\u001b[0;31m`\u001b[0m\u001b[0m_\u001b[0m\u001b[0;34m.\u001b[0m\u001b[0;34m\u001b[0m\u001b[0;34m\u001b[0m\u001b[0m\n\u001b[1;32m    507\u001b[0m \u001b[0;34m\u001b[0m\u001b[0m\n",
            "\u001b[0;31mImportError\u001b[0m: cannot import name '_png' from 'matplotlib' (/usr/local/lib/python3.8/dist-packages/matplotlib/__init__.py)"
          ]
        },
        {
          "output_type": "display_data",
          "data": {
            "text/plain": [
              "<Figure size 432x288 with 1 Axes>"
            ]
          },
          "metadata": {
            "needs_background": "light"
          }
        }
      ],
      "source": [
        "multi_serie_elec.plot()\n",
        "plt.show()"
      ]
    },
    {
      "cell_type": "markdown",
      "metadata": {
        "id": "625EXs9ikfIf"
      },
      "source": [
        "# データ準備と推論ルーチン\n",
        "データセットをトレーニングセット（6日）とバリデーションセット（1日）に分割し、値を正規化します。Dartsでは、すべてのモデルはfitを呼び出して学習し、predictを使って推論します。"
      ]
    },
    {
      "cell_type": "code",
      "execution_count": null,
      "metadata": {
        "id": "tRjmOQjskfIg"
      },
      "outputs": [],
      "source": [
        "# split in train/validation sets\n",
        "training_set, validation_set = multi_serie_elec[:-24], multi_serie_elec[-24:]\n",
        "\n",
        "# define a scaler, by default, normalize each component between 0 and 1\n",
        "scaler_dataset = Scaler()\n",
        "# scaler is fit on training set only to avoid leakage\n",
        "training_scaled = scaler_dataset.fit_transform(training_set)\n",
        "validation_scaled = scaler_dataset.transform(validation_set)\n",
        "\n",
        "\n",
        "def fit_and_pred(model, training, validation):\n",
        "    model.fit(training)\n",
        "    forecast = model.predict(len(validation))\n",
        "    return forecast"
      ]
    },
    {
      "cell_type": "markdown",
      "metadata": {
        "id": "9bm2Vy3ukfIg"
      },
      "source": [
        "ここで、上記で定義した関数を用いて、VARIMAモデルとRNNModelを1つずつ定義し、学習させます。データセットがInteger-indexなので、VARIMAモデルのトレンド引数はNoneに設定する必要がありますが、上のプロットではトレンドが見られないので、特に問題はありません。"
      ]
    },
    {
      "cell_type": "code",
      "execution_count": null,
      "metadata": {
        "id": "Db5BWMwzkfIg",
        "outputId": "b7c7769f-73da-4b8d-ef25-5b20ddc048a3",
        "colab": {
          "referenced_widgets": [
            "032caeea138f49fdb58d898a1c6cd8f9",
            "9f93407676844677babf96c0ce663abd",
            "281bb2bb6c6e4057810cbb0b9a978022",
            "420c1b95efc243cf9b9fd92066291727",
            "cecf38ab692d425493df73b21e59387b",
            "854cfbdd69914b9aa07a0d664c28158e",
            "e53f3077067146c281d5abb67143e024",
            "173c8166d53449ba8fc912bc4c1ec9d3",
            "2ea25cf3d21a41a7baf8426d15c687fd",
            "ebf2c5b0796346568cb80135bdc87c6a",
            "90ef3a857ded493db6b761156572a705",
            "dca703537c4a49a9a208b2dfa5e77a80",
            "2c3eefb49ee44e51807a1e916304ff49",
            "1f68e8fe389144478190eae737114058",
            "68d20d6672f445d8baed723e2f0c2704",
            "1b069428f80b48ee823fd0f7c09d08df",
            "2f553efe3ac14420a8e0345b540e7ae8",
            "542c7c3fa51145488f576c605705b044",
            "a2f261254a7b45d58e647a1007713a51",
            "dda2cd1b64c547448e82147c6933909b",
            "838e8494f841484c92d77f947d92277c",
            "62908fb55e614738961c6799c05f15f0"
          ],
          "base_uri": "https://localhost:8080/",
          "height": 117
        }
      },
      "outputs": [
        {
          "output_type": "stream",
          "name": "stdout",
          "text": [
            "MAE (VARIMA) = 0.11\n"
          ]
        },
        {
          "output_type": "display_data",
          "data": {
            "text/plain": [
              "Training: 0it [00:00, ?it/s]"
            ],
            "application/vnd.jupyter.widget-view+json": {
              "version_major": 2,
              "version_minor": 0,
              "model_id": "032caeea138f49fdb58d898a1c6cd8f9"
            }
          },
          "metadata": {}
        },
        {
          "output_type": "display_data",
          "data": {
            "text/plain": [
              "Predicting: 4it [00:00, ?it/s]"
            ],
            "application/vnd.jupyter.widget-view+json": {
              "version_major": 2,
              "version_minor": 0,
              "model_id": "dca703537c4a49a9a208b2dfa5e77a80"
            }
          },
          "metadata": {}
        },
        {
          "output_type": "stream",
          "name": "stdout",
          "text": [
            "MAE (RNN) = 0.10\n"
          ]
        }
      ],
      "source": [
        "model_VARIMA = VARIMA(p=12, d=0, q=0, trend=\"n\")\n",
        "\n",
        "model_GRU = RNNModel(\n",
        "    input_chunk_length=24,\n",
        "    model=\"LSTM\",\n",
        "    hidden_dim=25,\n",
        "    n_rnn_layers=3,\n",
        "    training_length=36,\n",
        "    n_epochs=200,\n",
        ")\n",
        "\n",
        "# training and prediction with the VARIMA model\n",
        "forecast_VARIMA = fit_and_pred(model_VARIMA, training_scaled, validation_scaled)\n",
        "print(\"MAE (VARIMA) = {:.2f}\".format(mae(validation_scaled, forecast_VARIMA)))\n",
        "\n",
        "# training and prediction with the RNN model\n",
        "forecast_RNN = fit_and_pred(model_GRU, training_scaled, validation_scaled)\n",
        "print(\"MAE (RNN) = {:.2f}\".format(mae(validation_scaled, forecast_RNN)))"
      ]
    },
    {
      "cell_type": "markdown",
      "metadata": {
        "id": "4J-0DrpskfIh"
      },
      "source": [
        "スケーラーを使って多変量解析の各要素を正規化したので、予測値を適切に視覚化するために、スケールを戻すことを忘れてはならない。"
      ]
    },
    {
      "cell_type": "code",
      "execution_count": null,
      "metadata": {
        "id": "yrqTaKIHkfIh",
        "outputId": "7591b5a0-867c-4953-a35d-151cdc4bb0fb",
        "colab": {
          "base_uri": "https://localhost:8080/"
        }
      },
      "outputs": [
        {
          "output_type": "error",
          "ename": "TypeError",
          "evalue": "ignored",
          "traceback": [
            "\u001b[0;31m---------------------------------------------------------------------------\u001b[0m",
            "\u001b[0;31mTypeError\u001b[0m                                 Traceback (most recent call last)",
            "\u001b[0;32m<ipython-input-30-9c95368b07d3>\u001b[0m in \u001b[0;36m<module>\u001b[0;34m\u001b[0m\n\u001b[1;32m      5\u001b[0m \u001b[0mfig\u001b[0m\u001b[0;34m,\u001b[0m \u001b[0maxs\u001b[0m \u001b[0;34m=\u001b[0m \u001b[0mplt\u001b[0m\u001b[0;34m.\u001b[0m\u001b[0msubplots\u001b[0m\u001b[0;34m(\u001b[0m\u001b[0;36m1\u001b[0m\u001b[0;34m,\u001b[0m \u001b[0;36m2\u001b[0m\u001b[0;34m,\u001b[0m \u001b[0mfigsize\u001b[0m\u001b[0;34m=\u001b[0m\u001b[0;34m(\u001b[0m\u001b[0;36m14\u001b[0m\u001b[0;34m,\u001b[0m \u001b[0;36m6\u001b[0m\u001b[0;34m)\u001b[0m\u001b[0;34m)\u001b[0m\u001b[0;34m\u001b[0m\u001b[0;34m\u001b[0m\u001b[0m\n\u001b[1;32m      6\u001b[0m \u001b[0mvalidation_set\u001b[0m\u001b[0;34m.\u001b[0m\u001b[0mplot\u001b[0m\u001b[0;34m(\u001b[0m\u001b[0max\u001b[0m\u001b[0;34m=\u001b[0m\u001b[0maxs\u001b[0m\u001b[0;34m[\u001b[0m\u001b[0;36m0\u001b[0m\u001b[0;34m]\u001b[0m\u001b[0;34m)\u001b[0m\u001b[0;34m\u001b[0m\u001b[0;34m\u001b[0m\u001b[0m\n\u001b[0;32m----> 7\u001b[0;31m \u001b[0mforecast_VARIMA\u001b[0m\u001b[0;34m.\u001b[0m\u001b[0mplot\u001b[0m\u001b[0;34m(\u001b[0m\u001b[0mlabel\u001b[0m\u001b[0;34m=\u001b[0m\u001b[0mlabels\u001b[0m\u001b[0;34m,\u001b[0m \u001b[0max\u001b[0m\u001b[0;34m=\u001b[0m\u001b[0maxs\u001b[0m\u001b[0;34m[\u001b[0m\u001b[0;36m0\u001b[0m\u001b[0;34m]\u001b[0m\u001b[0;34m)\u001b[0m\u001b[0;34m\u001b[0m\u001b[0;34m\u001b[0m\u001b[0m\n\u001b[0m\u001b[1;32m      8\u001b[0m \u001b[0maxs\u001b[0m\u001b[0;34m[\u001b[0m\u001b[0;36m0\u001b[0m\u001b[0;34m]\u001b[0m\u001b[0;34m.\u001b[0m\u001b[0mset_ylim\u001b[0m\u001b[0;34m(\u001b[0m\u001b[0;36m0\u001b[0m\u001b[0;34m,\u001b[0m \u001b[0;36m500\u001b[0m\u001b[0;34m)\u001b[0m\u001b[0;34m\u001b[0m\u001b[0;34m\u001b[0m\u001b[0m\n\u001b[1;32m      9\u001b[0m \u001b[0maxs\u001b[0m\u001b[0;34m[\u001b[0m\u001b[0;36m0\u001b[0m\u001b[0;34m]\u001b[0m\u001b[0;34m.\u001b[0m\u001b[0mset_title\u001b[0m\u001b[0;34m(\u001b[0m\u001b[0;34m\"VARIMA model forecast\"\u001b[0m\u001b[0;34m)\u001b[0m\u001b[0;34m\u001b[0m\u001b[0;34m\u001b[0m\u001b[0m\n",
            "\u001b[0;32m/usr/local/lib/python3.8/dist-packages/darts/timeseries.py\u001b[0m in \u001b[0;36mplot\u001b[0;34m(self, new_plot, central_quantile, low_quantile, high_quantile, default_formatting, *args, **kwargs)\u001b[0m\n\u001b[1;32m   3124\u001b[0m \u001b[0;34m\u001b[0m\u001b[0m\n\u001b[1;32m   3125\u001b[0m             label_to_use = (\n\u001b[0;32m-> 3126\u001b[0;31m                 \u001b[0;34m(\u001b[0m\u001b[0mlabel\u001b[0m \u001b[0;34m+\u001b[0m \u001b[0;34m(\u001b[0m\u001b[0;34m\"_\"\u001b[0m \u001b[0;34m+\u001b[0m \u001b[0mstr\u001b[0m\u001b[0;34m(\u001b[0m\u001b[0mi\u001b[0m\u001b[0;34m)\u001b[0m \u001b[0;32mif\u001b[0m \u001b[0mlen\u001b[0m\u001b[0;34m(\u001b[0m\u001b[0mself\u001b[0m\u001b[0;34m.\u001b[0m\u001b[0mcomponents\u001b[0m\u001b[0;34m)\u001b[0m \u001b[0;34m>\u001b[0m \u001b[0;36m1\u001b[0m \u001b[0;32melse\u001b[0m \u001b[0;34m\"\"\u001b[0m\u001b[0;34m)\u001b[0m\u001b[0;34m)\u001b[0m\u001b[0;34m\u001b[0m\u001b[0;34m\u001b[0m\u001b[0m\n\u001b[0m\u001b[1;32m   3127\u001b[0m                 \u001b[0;32mif\u001b[0m \u001b[0mlabel\u001b[0m \u001b[0;34m!=\u001b[0m \u001b[0;34m\"\"\u001b[0m\u001b[0;34m\u001b[0m\u001b[0;34m\u001b[0m\u001b[0m\n\u001b[1;32m   3128\u001b[0m                 \u001b[0;32melse\u001b[0m \u001b[0;34m\"\"\u001b[0m \u001b[0;34m+\u001b[0m \u001b[0mstr\u001b[0m\u001b[0;34m(\u001b[0m\u001b[0mcomp_name\u001b[0m\u001b[0;34m)\u001b[0m\u001b[0;34m\u001b[0m\u001b[0;34m\u001b[0m\u001b[0m\n",
            "\u001b[0;31mTypeError\u001b[0m: can only concatenate list (not \"str\") to list"
          ]
        },
        {
          "output_type": "error",
          "ename": "ImportError",
          "evalue": "ignored",
          "traceback": [
            "\u001b[0;31m---------------------------------------------------------------------------\u001b[0m",
            "\u001b[0;31mImportError\u001b[0m                               Traceback (most recent call last)",
            "\u001b[0;32m/usr/local/lib/python3.8/dist-packages/IPython/core/formatters.py\u001b[0m in \u001b[0;36m__call__\u001b[0;34m(self, obj)\u001b[0m\n\u001b[1;32m    339\u001b[0m                 \u001b[0;32mpass\u001b[0m\u001b[0;34m\u001b[0m\u001b[0;34m\u001b[0m\u001b[0m\n\u001b[1;32m    340\u001b[0m             \u001b[0;32melse\u001b[0m\u001b[0;34m:\u001b[0m\u001b[0;34m\u001b[0m\u001b[0;34m\u001b[0m\u001b[0m\n\u001b[0;32m--> 341\u001b[0;31m                 \u001b[0;32mreturn\u001b[0m \u001b[0mprinter\u001b[0m\u001b[0;34m(\u001b[0m\u001b[0mobj\u001b[0m\u001b[0;34m)\u001b[0m\u001b[0;34m\u001b[0m\u001b[0;34m\u001b[0m\u001b[0m\n\u001b[0m\u001b[1;32m    342\u001b[0m             \u001b[0;31m# Finally look for special method names\u001b[0m\u001b[0;34m\u001b[0m\u001b[0;34m\u001b[0m\u001b[0;34m\u001b[0m\u001b[0m\n\u001b[1;32m    343\u001b[0m             \u001b[0mmethod\u001b[0m \u001b[0;34m=\u001b[0m \u001b[0mget_real_method\u001b[0m\u001b[0;34m(\u001b[0m\u001b[0mobj\u001b[0m\u001b[0;34m,\u001b[0m \u001b[0mself\u001b[0m\u001b[0;34m.\u001b[0m\u001b[0mprint_method\u001b[0m\u001b[0;34m)\u001b[0m\u001b[0;34m\u001b[0m\u001b[0;34m\u001b[0m\u001b[0m\n",
            "\u001b[0;32m/usr/local/lib/python3.8/dist-packages/IPython/core/pylabtools.py\u001b[0m in \u001b[0;36m<lambda>\u001b[0;34m(fig)\u001b[0m\n\u001b[1;32m    242\u001b[0m \u001b[0;34m\u001b[0m\u001b[0m\n\u001b[1;32m    243\u001b[0m     \u001b[0;32mif\u001b[0m \u001b[0;34m'png'\u001b[0m \u001b[0;32min\u001b[0m \u001b[0mformats\u001b[0m\u001b[0;34m:\u001b[0m\u001b[0;34m\u001b[0m\u001b[0;34m\u001b[0m\u001b[0m\n\u001b[0;32m--> 244\u001b[0;31m         \u001b[0mpng_formatter\u001b[0m\u001b[0;34m.\u001b[0m\u001b[0mfor_type\u001b[0m\u001b[0;34m(\u001b[0m\u001b[0mFigure\u001b[0m\u001b[0;34m,\u001b[0m \u001b[0;32mlambda\u001b[0m \u001b[0mfig\u001b[0m\u001b[0;34m:\u001b[0m \u001b[0mprint_figure\u001b[0m\u001b[0;34m(\u001b[0m\u001b[0mfig\u001b[0m\u001b[0;34m,\u001b[0m \u001b[0;34m'png'\u001b[0m\u001b[0;34m,\u001b[0m \u001b[0;34m**\u001b[0m\u001b[0mkwargs\u001b[0m\u001b[0;34m)\u001b[0m\u001b[0;34m)\u001b[0m\u001b[0;34m\u001b[0m\u001b[0;34m\u001b[0m\u001b[0m\n\u001b[0m\u001b[1;32m    245\u001b[0m     \u001b[0;32mif\u001b[0m \u001b[0;34m'retina'\u001b[0m \u001b[0;32min\u001b[0m \u001b[0mformats\u001b[0m \u001b[0;32mor\u001b[0m \u001b[0;34m'png2x'\u001b[0m \u001b[0;32min\u001b[0m \u001b[0mformats\u001b[0m\u001b[0;34m:\u001b[0m\u001b[0;34m\u001b[0m\u001b[0;34m\u001b[0m\u001b[0m\n\u001b[1;32m    246\u001b[0m         \u001b[0mpng_formatter\u001b[0m\u001b[0;34m.\u001b[0m\u001b[0mfor_type\u001b[0m\u001b[0;34m(\u001b[0m\u001b[0mFigure\u001b[0m\u001b[0;34m,\u001b[0m \u001b[0;32mlambda\u001b[0m \u001b[0mfig\u001b[0m\u001b[0;34m:\u001b[0m \u001b[0mretina_figure\u001b[0m\u001b[0;34m(\u001b[0m\u001b[0mfig\u001b[0m\u001b[0;34m,\u001b[0m \u001b[0;34m**\u001b[0m\u001b[0mkwargs\u001b[0m\u001b[0;34m)\u001b[0m\u001b[0;34m)\u001b[0m\u001b[0;34m\u001b[0m\u001b[0;34m\u001b[0m\u001b[0m\n",
            "\u001b[0;32m/usr/local/lib/python3.8/dist-packages/IPython/core/pylabtools.py\u001b[0m in \u001b[0;36mprint_figure\u001b[0;34m(fig, fmt, bbox_inches, **kwargs)\u001b[0m\n\u001b[1;32m    126\u001b[0m \u001b[0;34m\u001b[0m\u001b[0m\n\u001b[1;32m    127\u001b[0m     \u001b[0mbytes_io\u001b[0m \u001b[0;34m=\u001b[0m \u001b[0mBytesIO\u001b[0m\u001b[0;34m(\u001b[0m\u001b[0;34m)\u001b[0m\u001b[0;34m\u001b[0m\u001b[0;34m\u001b[0m\u001b[0m\n\u001b[0;32m--> 128\u001b[0;31m     \u001b[0mfig\u001b[0m\u001b[0;34m.\u001b[0m\u001b[0mcanvas\u001b[0m\u001b[0;34m.\u001b[0m\u001b[0mprint_figure\u001b[0m\u001b[0;34m(\u001b[0m\u001b[0mbytes_io\u001b[0m\u001b[0;34m,\u001b[0m \u001b[0;34m**\u001b[0m\u001b[0mkw\u001b[0m\u001b[0;34m)\u001b[0m\u001b[0;34m\u001b[0m\u001b[0;34m\u001b[0m\u001b[0m\n\u001b[0m\u001b[1;32m    129\u001b[0m     \u001b[0mdata\u001b[0m \u001b[0;34m=\u001b[0m \u001b[0mbytes_io\u001b[0m\u001b[0;34m.\u001b[0m\u001b[0mgetvalue\u001b[0m\u001b[0;34m(\u001b[0m\u001b[0;34m)\u001b[0m\u001b[0;34m\u001b[0m\u001b[0;34m\u001b[0m\u001b[0m\n\u001b[1;32m    130\u001b[0m     \u001b[0;32mif\u001b[0m \u001b[0mfmt\u001b[0m \u001b[0;34m==\u001b[0m \u001b[0;34m'svg'\u001b[0m\u001b[0;34m:\u001b[0m\u001b[0;34m\u001b[0m\u001b[0;34m\u001b[0m\u001b[0m\n",
            "\u001b[0;32m/usr/local/lib/python3.8/dist-packages/matplotlib/backend_bases.py\u001b[0m in \u001b[0;36mprint_figure\u001b[0;34m(self, filename, dpi, facecolor, edgecolor, orientation, format, bbox_inches, **kwargs)\u001b[0m\n\u001b[1;32m   2089\u001b[0m         \u001b[0mReturns\u001b[0m\u001b[0;34m\u001b[0m\u001b[0;34m\u001b[0m\u001b[0m\n\u001b[1;32m   2090\u001b[0m         \u001b[0;34m-\u001b[0m\u001b[0;34m-\u001b[0m\u001b[0;34m-\u001b[0m\u001b[0;34m-\u001b[0m\u001b[0;34m-\u001b[0m\u001b[0;34m-\u001b[0m\u001b[0;34m-\u001b[0m\u001b[0;34m\u001b[0m\u001b[0;34m\u001b[0m\u001b[0m\n\u001b[0;32m-> 2091\u001b[0;31m         \u001b[0mbool\u001b[0m\u001b[0;34m\u001b[0m\u001b[0;34m\u001b[0m\u001b[0m\n\u001b[0m\u001b[1;32m   2092\u001b[0m             \u001b[0mWhether\u001b[0m \u001b[0mthe\u001b[0m \u001b[0mratio\u001b[0m \u001b[0mhas\u001b[0m \u001b[0mchanged\u001b[0m\u001b[0;34m.\u001b[0m \u001b[0mBackends\u001b[0m \u001b[0mmay\u001b[0m \u001b[0minterpret\u001b[0m \u001b[0mthis\u001b[0m \u001b[0;32mas\u001b[0m \u001b[0ma\u001b[0m\u001b[0;34m\u001b[0m\u001b[0;34m\u001b[0m\u001b[0m\n\u001b[1;32m   2093\u001b[0m             \u001b[0msignal\u001b[0m \u001b[0mto\u001b[0m \u001b[0mresize\u001b[0m \u001b[0mthe\u001b[0m \u001b[0mwindow\u001b[0m\u001b[0;34m,\u001b[0m \u001b[0mrepaint\u001b[0m \u001b[0mthe\u001b[0m \u001b[0mcanvas\u001b[0m\u001b[0;34m,\u001b[0m \u001b[0;32mor\u001b[0m \u001b[0mchange\u001b[0m \u001b[0many\u001b[0m\u001b[0;34m\u001b[0m\u001b[0;34m\u001b[0m\u001b[0m\n",
            "\u001b[0;32m/usr/local/lib/python3.8/dist-packages/matplotlib/backend_bases.py\u001b[0m in \u001b[0;36m_get_renderer\u001b[0;34m(figure, print_method)\u001b[0m\n\u001b[1;32m   1558\u001b[0m         \u001b[0;32mtry\u001b[0m\u001b[0;34m:\u001b[0m\u001b[0;34m\u001b[0m\u001b[0;34m\u001b[0m\u001b[0m\n\u001b[1;32m   1559\u001b[0m             \u001b[0mprint_method\u001b[0m\u001b[0;34m(\u001b[0m\u001b[0mio\u001b[0m\u001b[0;34m.\u001b[0m\u001b[0mBytesIO\u001b[0m\u001b[0;34m(\u001b[0m\u001b[0;34m)\u001b[0m\u001b[0;34m)\u001b[0m\u001b[0;34m\u001b[0m\u001b[0;34m\u001b[0m\u001b[0m\n\u001b[0;32m-> 1560\u001b[0;31m         \u001b[0;32mexcept\u001b[0m \u001b[0mDone\u001b[0m \u001b[0;32mas\u001b[0m \u001b[0mexc\u001b[0m\u001b[0;34m:\u001b[0m\u001b[0;34m\u001b[0m\u001b[0;34m\u001b[0m\u001b[0m\n\u001b[0m\u001b[1;32m   1561\u001b[0m             \u001b[0mrenderer\u001b[0m\u001b[0;34m,\u001b[0m \u001b[0;34m=\u001b[0m \u001b[0mexc\u001b[0m\u001b[0;34m.\u001b[0m\u001b[0margs\u001b[0m\u001b[0;34m\u001b[0m\u001b[0;34m\u001b[0m\u001b[0m\n\u001b[1;32m   1562\u001b[0m             \u001b[0;32mreturn\u001b[0m \u001b[0mrenderer\u001b[0m\u001b[0;34m\u001b[0m\u001b[0;34m\u001b[0m\u001b[0m\n",
            "\u001b[0;32m/usr/local/lib/python3.8/dist-packages/matplotlib/backends/backend_agg.py\u001b[0m in \u001b[0;36mprint_png\u001b[0;34m(self, filename_or_obj, metadata, pil_kwargs, *args, **kwargs)\u001b[0m\n\u001b[1;32m    503\u001b[0m             \u001b[0mIf\u001b[0m \u001b[0;34m'Software'\u001b[0m \u001b[0;32mis\u001b[0m \u001b[0;32mnot\u001b[0m \u001b[0mgiven\u001b[0m\u001b[0;34m,\u001b[0m \u001b[0man\u001b[0m \u001b[0mautogenerated\u001b[0m \u001b[0mvalue\u001b[0m \u001b[0;32mfor\u001b[0m \u001b[0mMatplotlib\u001b[0m\u001b[0;34m\u001b[0m\u001b[0;34m\u001b[0m\u001b[0m\n\u001b[1;32m    504\u001b[0m             \u001b[0mwill\u001b[0m \u001b[0mbe\u001b[0m \u001b[0mused\u001b[0m\u001b[0;34m.\u001b[0m  \u001b[0mThis\u001b[0m \u001b[0mcan\u001b[0m \u001b[0mbe\u001b[0m \u001b[0mremoved\u001b[0m \u001b[0mby\u001b[0m \u001b[0msetting\u001b[0m \u001b[0mit\u001b[0m \u001b[0mto\u001b[0m \u001b[0;34m*\u001b[0m\u001b[0;32mNone\u001b[0m\u001b[0;34m*\u001b[0m\u001b[0;34m.\u001b[0m\u001b[0;34m\u001b[0m\u001b[0;34m\u001b[0m\u001b[0m\n\u001b[0;32m--> 505\u001b[0;31m \u001b[0;34m\u001b[0m\u001b[0m\n\u001b[0m\u001b[1;32m    506\u001b[0m             \u001b[0mFor\u001b[0m \u001b[0mmore\u001b[0m \u001b[0mdetails\u001b[0m \u001b[0msee\u001b[0m \u001b[0mthe\u001b[0m\u001b[0;31m \u001b[0m\u001b[0;31m`\u001b[0m\u001b[0mPNG\u001b[0m \u001b[0mspecification\u001b[0m\u001b[0;31m`\u001b[0m\u001b[0m_\u001b[0m\u001b[0;34m.\u001b[0m\u001b[0;34m\u001b[0m\u001b[0;34m\u001b[0m\u001b[0m\n\u001b[1;32m    507\u001b[0m \u001b[0;34m\u001b[0m\u001b[0m\n",
            "\u001b[0;31mImportError\u001b[0m: cannot import name '_png' from 'matplotlib' (/usr/local/lib/python3.8/dist-packages/matplotlib/__init__.py)"
          ]
        },
        {
          "output_type": "display_data",
          "data": {
            "text/plain": [
              "<Figure size 1008x432 with 2 Axes>"
            ]
          },
          "metadata": {
            "needs_background": "light"
          }
        }
      ],
      "source": [
        "forecast_VARIMA = scaler_dataset.inverse_transform(forecast_VARIMA)\n",
        "forecast_RNN = scaler_dataset.inverse_transform(forecast_RNN)\n",
        "\n",
        "labels = [f\"forecast {component}\" for component in retained_components]\n",
        "fig, axs = plt.subplots(1, 2, figsize=(14, 6))\n",
        "validation_set.plot(ax=axs[0])\n",
        "forecast_VARIMA.plot(label=labels, ax=axs[0])\n",
        "axs[0].set_ylim(0, 500)\n",
        "axs[0].set_title(\"VARIMA model forecast\")\n",
        "axs[0].legend(loc=\"upper left\")\n",
        "validation_set.plot(ax=axs[1])\n",
        "forecast_RNN.plot(label=labels, ax=axs[1])\n",
        "axs[1].set_ylim(0, 500)\n",
        "axs[1].set_title(\"RNN model forecast\")\n",
        "axs[1].legend(loc=\"upper left\")\n",
        "plt.show()"
      ]
    },
    {
      "cell_type": "markdown",
      "metadata": {
        "id": "mskr2uhrkfIi"
      },
      "source": [
        "\n",
        "日本語\n",
        "\n",
        "\n",
        "正確さよりもスピードを優先したパラメータ選択のため、予測の質はあまりよくありません。元のデータセットからより多くの成分を使用するか、トレーニングセットのサイズを大きくすれば、両モデルの精度は改善されるはずです。また、VARIMAモデルでp（タイムラグ）を12ではなく24に設定することでデータセットの日ごとの季節性を考慮し、再トレーニングを行うことも改善の可能性があります。\n",
        "\n",
        "# 多変量系列を用いた学習に関するコメント\n",
        "一変量時系列で示した特徴、特に共変量（過去と未来）や連続した時系列の使用は、もちろん多変量時系列にも対応します（ただ、使用するモデルが実際に対応しているかどうかは確認してください）。\n",
        "\n",
        "さらに、多変量系列をサポートするモデルは、異なるアプローチを使用する場合があります。例えば、TFTModel は、関連する特徴を選択するために特別なモジュールを使用しますが、NBEATSModel は、系列の成分を一変量系列に平らにし、特徴間の相互作用を捉えるために完全に連結されたレイヤーに依存します。\n",
        "\n",
        "\n"
      ]
    },
    {
      "cell_type": "markdown",
      "metadata": {
        "id": "VpktxMcLkfIi"
      },
      "source": []
    }
  ],
  "metadata": {
    "kernelspec": {
      "display_name": "Python 3.9.13 ('darts-dev')",
      "language": "python",
      "name": "python3"
    },
    "language_info": {
      "codemirror_mode": {
        "name": "ipython",
        "version": 3
      },
      "file_extension": ".py",
      "mimetype": "text/x-python",
      "name": "python",
      "nbconvert_exporter": "python",
      "pygments_lexer": "ipython3",
      "version": "3.9.15"
    },
    "vscode": {
      "interpreter": {
        "hash": "e4039a5feed4e8340756ed3b5a4fbd8e8f5934c9b89f90e2c2f7d4ac37379624"
      }
    },
    "colab": {
      "provenance": [],
      "include_colab_link": true
    },
    "widgets": {
      "application/vnd.jupyter.widget-state+json": {
        "7020ca710ca24150a3a758a41b62c821": {
          "model_module": "@jupyter-widgets/controls",
          "model_name": "HBoxModel",
          "model_module_version": "1.5.0",
          "state": {
            "_dom_classes": [],
            "_model_module": "@jupyter-widgets/controls",
            "_model_module_version": "1.5.0",
            "_model_name": "HBoxModel",
            "_view_count": null,
            "_view_module": "@jupyter-widgets/controls",
            "_view_module_version": "1.5.0",
            "_view_name": "HBoxView",
            "box_style": "",
            "children": [
              "IPY_MODEL_a3a86a943f824c7bb3cf49f68ff1d331",
              "IPY_MODEL_ea0522d76d7342188a92d51e4a2cd393",
              "IPY_MODEL_4bb3778c02914ed1ae69003e8840bb7e"
            ],
            "layout": "IPY_MODEL_3b6088bfdd57469a8da9076cb3bf4b9e"
          }
        },
        "a3a86a943f824c7bb3cf49f68ff1d331": {
          "model_module": "@jupyter-widgets/controls",
          "model_name": "HTMLModel",
          "model_module_version": "1.5.0",
          "state": {
            "_dom_classes": [],
            "_model_module": "@jupyter-widgets/controls",
            "_model_module_version": "1.5.0",
            "_model_name": "HTMLModel",
            "_view_count": null,
            "_view_module": "@jupyter-widgets/controls",
            "_view_module_version": "1.5.0",
            "_view_name": "HTMLView",
            "description": "",
            "description_tooltip": null,
            "layout": "IPY_MODEL_2c3ff0e1d2e84a1d856e3c182b68d9b9",
            "placeholder": "​",
            "style": "IPY_MODEL_aa08c8dbddd74b1b98e326cee6965fc4",
            "value": "Epoch 199: 100%"
          }
        },
        "ea0522d76d7342188a92d51e4a2cd393": {
          "model_module": "@jupyter-widgets/controls",
          "model_name": "FloatProgressModel",
          "model_module_version": "1.5.0",
          "state": {
            "_dom_classes": [],
            "_model_module": "@jupyter-widgets/controls",
            "_model_module_version": "1.5.0",
            "_model_name": "FloatProgressModel",
            "_view_count": null,
            "_view_module": "@jupyter-widgets/controls",
            "_view_module_version": "1.5.0",
            "_view_name": "ProgressView",
            "bar_style": "success",
            "description": "",
            "description_tooltip": null,
            "layout": "IPY_MODEL_7f453fd53a774213848a22fbb21fadb4",
            "max": 3,
            "min": 0,
            "orientation": "horizontal",
            "style": "IPY_MODEL_611b9a590db244c8b2ca7e357d385098",
            "value": 3
          }
        },
        "4bb3778c02914ed1ae69003e8840bb7e": {
          "model_module": "@jupyter-widgets/controls",
          "model_name": "HTMLModel",
          "model_module_version": "1.5.0",
          "state": {
            "_dom_classes": [],
            "_model_module": "@jupyter-widgets/controls",
            "_model_module_version": "1.5.0",
            "_model_name": "HTMLModel",
            "_view_count": null,
            "_view_module": "@jupyter-widgets/controls",
            "_view_module_version": "1.5.0",
            "_view_name": "HTMLView",
            "description": "",
            "description_tooltip": null,
            "layout": "IPY_MODEL_b1b38e582c1b4c1ebc9515fc2e8c26a8",
            "placeholder": "​",
            "style": "IPY_MODEL_2d3665ff35014a459e2f35b52467529b",
            "value": " 3/3 [00:01&lt;00:00,  2.27it/s, loss=0.000177, train_loss=0.000225]"
          }
        },
        "3b6088bfdd57469a8da9076cb3bf4b9e": {
          "model_module": "@jupyter-widgets/base",
          "model_name": "LayoutModel",
          "model_module_version": "1.2.0",
          "state": {
            "_model_module": "@jupyter-widgets/base",
            "_model_module_version": "1.2.0",
            "_model_name": "LayoutModel",
            "_view_count": null,
            "_view_module": "@jupyter-widgets/base",
            "_view_module_version": "1.2.0",
            "_view_name": "LayoutView",
            "align_content": null,
            "align_items": null,
            "align_self": null,
            "border": null,
            "bottom": null,
            "display": "inline-flex",
            "flex": null,
            "flex_flow": "row wrap",
            "grid_area": null,
            "grid_auto_columns": null,
            "grid_auto_flow": null,
            "grid_auto_rows": null,
            "grid_column": null,
            "grid_gap": null,
            "grid_row": null,
            "grid_template_areas": null,
            "grid_template_columns": null,
            "grid_template_rows": null,
            "height": null,
            "justify_content": null,
            "justify_items": null,
            "left": null,
            "margin": null,
            "max_height": null,
            "max_width": null,
            "min_height": null,
            "min_width": null,
            "object_fit": null,
            "object_position": null,
            "order": null,
            "overflow": null,
            "overflow_x": null,
            "overflow_y": null,
            "padding": null,
            "right": null,
            "top": null,
            "visibility": null,
            "width": "100%"
          }
        },
        "2c3ff0e1d2e84a1d856e3c182b68d9b9": {
          "model_module": "@jupyter-widgets/base",
          "model_name": "LayoutModel",
          "model_module_version": "1.2.0",
          "state": {
            "_model_module": "@jupyter-widgets/base",
            "_model_module_version": "1.2.0",
            "_model_name": "LayoutModel",
            "_view_count": null,
            "_view_module": "@jupyter-widgets/base",
            "_view_module_version": "1.2.0",
            "_view_name": "LayoutView",
            "align_content": null,
            "align_items": null,
            "align_self": null,
            "border": null,
            "bottom": null,
            "display": null,
            "flex": null,
            "flex_flow": null,
            "grid_area": null,
            "grid_auto_columns": null,
            "grid_auto_flow": null,
            "grid_auto_rows": null,
            "grid_column": null,
            "grid_gap": null,
            "grid_row": null,
            "grid_template_areas": null,
            "grid_template_columns": null,
            "grid_template_rows": null,
            "height": null,
            "justify_content": null,
            "justify_items": null,
            "left": null,
            "margin": null,
            "max_height": null,
            "max_width": null,
            "min_height": null,
            "min_width": null,
            "object_fit": null,
            "object_position": null,
            "order": null,
            "overflow": null,
            "overflow_x": null,
            "overflow_y": null,
            "padding": null,
            "right": null,
            "top": null,
            "visibility": null,
            "width": null
          }
        },
        "aa08c8dbddd74b1b98e326cee6965fc4": {
          "model_module": "@jupyter-widgets/controls",
          "model_name": "DescriptionStyleModel",
          "model_module_version": "1.5.0",
          "state": {
            "_model_module": "@jupyter-widgets/controls",
            "_model_module_version": "1.5.0",
            "_model_name": "DescriptionStyleModel",
            "_view_count": null,
            "_view_module": "@jupyter-widgets/base",
            "_view_module_version": "1.2.0",
            "_view_name": "StyleView",
            "description_width": ""
          }
        },
        "7f453fd53a774213848a22fbb21fadb4": {
          "model_module": "@jupyter-widgets/base",
          "model_name": "LayoutModel",
          "model_module_version": "1.2.0",
          "state": {
            "_model_module": "@jupyter-widgets/base",
            "_model_module_version": "1.2.0",
            "_model_name": "LayoutModel",
            "_view_count": null,
            "_view_module": "@jupyter-widgets/base",
            "_view_module_version": "1.2.0",
            "_view_name": "LayoutView",
            "align_content": null,
            "align_items": null,
            "align_self": null,
            "border": null,
            "bottom": null,
            "display": null,
            "flex": "2",
            "flex_flow": null,
            "grid_area": null,
            "grid_auto_columns": null,
            "grid_auto_flow": null,
            "grid_auto_rows": null,
            "grid_column": null,
            "grid_gap": null,
            "grid_row": null,
            "grid_template_areas": null,
            "grid_template_columns": null,
            "grid_template_rows": null,
            "height": null,
            "justify_content": null,
            "justify_items": null,
            "left": null,
            "margin": null,
            "max_height": null,
            "max_width": null,
            "min_height": null,
            "min_width": null,
            "object_fit": null,
            "object_position": null,
            "order": null,
            "overflow": null,
            "overflow_x": null,
            "overflow_y": null,
            "padding": null,
            "right": null,
            "top": null,
            "visibility": null,
            "width": null
          }
        },
        "611b9a590db244c8b2ca7e357d385098": {
          "model_module": "@jupyter-widgets/controls",
          "model_name": "ProgressStyleModel",
          "model_module_version": "1.5.0",
          "state": {
            "_model_module": "@jupyter-widgets/controls",
            "_model_module_version": "1.5.0",
            "_model_name": "ProgressStyleModel",
            "_view_count": null,
            "_view_module": "@jupyter-widgets/base",
            "_view_module_version": "1.2.0",
            "_view_name": "StyleView",
            "bar_color": null,
            "description_width": ""
          }
        },
        "b1b38e582c1b4c1ebc9515fc2e8c26a8": {
          "model_module": "@jupyter-widgets/base",
          "model_name": "LayoutModel",
          "model_module_version": "1.2.0",
          "state": {
            "_model_module": "@jupyter-widgets/base",
            "_model_module_version": "1.2.0",
            "_model_name": "LayoutModel",
            "_view_count": null,
            "_view_module": "@jupyter-widgets/base",
            "_view_module_version": "1.2.0",
            "_view_name": "LayoutView",
            "align_content": null,
            "align_items": null,
            "align_self": null,
            "border": null,
            "bottom": null,
            "display": null,
            "flex": null,
            "flex_flow": null,
            "grid_area": null,
            "grid_auto_columns": null,
            "grid_auto_flow": null,
            "grid_auto_rows": null,
            "grid_column": null,
            "grid_gap": null,
            "grid_row": null,
            "grid_template_areas": null,
            "grid_template_columns": null,
            "grid_template_rows": null,
            "height": null,
            "justify_content": null,
            "justify_items": null,
            "left": null,
            "margin": null,
            "max_height": null,
            "max_width": null,
            "min_height": null,
            "min_width": null,
            "object_fit": null,
            "object_position": null,
            "order": null,
            "overflow": null,
            "overflow_x": null,
            "overflow_y": null,
            "padding": null,
            "right": null,
            "top": null,
            "visibility": null,
            "width": null
          }
        },
        "2d3665ff35014a459e2f35b52467529b": {
          "model_module": "@jupyter-widgets/controls",
          "model_name": "DescriptionStyleModel",
          "model_module_version": "1.5.0",
          "state": {
            "_model_module": "@jupyter-widgets/controls",
            "_model_module_version": "1.5.0",
            "_model_name": "DescriptionStyleModel",
            "_view_count": null,
            "_view_module": "@jupyter-widgets/base",
            "_view_module_version": "1.2.0",
            "_view_name": "StyleView",
            "description_width": ""
          }
        },
        "e592220c68254f3b9c9246a4ae6d0653": {
          "model_module": "@jupyter-widgets/controls",
          "model_name": "HBoxModel",
          "model_module_version": "1.5.0",
          "state": {
            "_dom_classes": [],
            "_model_module": "@jupyter-widgets/controls",
            "_model_module_version": "1.5.0",
            "_model_name": "HBoxModel",
            "_view_count": null,
            "_view_module": "@jupyter-widgets/controls",
            "_view_module_version": "1.5.0",
            "_view_name": "HBoxView",
            "box_style": "",
            "children": [
              "IPY_MODEL_ecc42b891ffb4bb08dbc8ec8295aa78d",
              "IPY_MODEL_c34b01616f5b4948ac165e66cce38aa1",
              "IPY_MODEL_c9030d8fd9ac47e388490b724b37515e"
            ],
            "layout": "IPY_MODEL_35a353ced3bd42e3b03b455dd7fc5aca"
          }
        },
        "ecc42b891ffb4bb08dbc8ec8295aa78d": {
          "model_module": "@jupyter-widgets/controls",
          "model_name": "HTMLModel",
          "model_module_version": "1.5.0",
          "state": {
            "_dom_classes": [],
            "_model_module": "@jupyter-widgets/controls",
            "_model_module_version": "1.5.0",
            "_model_name": "HTMLModel",
            "_view_count": null,
            "_view_module": "@jupyter-widgets/controls",
            "_view_module_version": "1.5.0",
            "_view_name": "HTMLView",
            "description": "",
            "description_tooltip": null,
            "layout": "IPY_MODEL_210f5f1119704ce89fe40fd4ce0678a0",
            "placeholder": "​",
            "style": "IPY_MODEL_85c24207c1ed45ae88272a3579748920",
            "value": "Predicting DataLoader 0: 100%"
          }
        },
        "c34b01616f5b4948ac165e66cce38aa1": {
          "model_module": "@jupyter-widgets/controls",
          "model_name": "FloatProgressModel",
          "model_module_version": "1.5.0",
          "state": {
            "_dom_classes": [],
            "_model_module": "@jupyter-widgets/controls",
            "_model_module_version": "1.5.0",
            "_model_name": "FloatProgressModel",
            "_view_count": null,
            "_view_module": "@jupyter-widgets/controls",
            "_view_module_version": "1.5.0",
            "_view_name": "ProgressView",
            "bar_style": "success",
            "description": "",
            "description_tooltip": null,
            "layout": "IPY_MODEL_3f69f203b6b14ee39caf710d951ceaa0",
            "max": 1,
            "min": 0,
            "orientation": "horizontal",
            "style": "IPY_MODEL_90eb6ac9eb3c4e528df35fa80cb1ec3e",
            "value": 1
          }
        },
        "c9030d8fd9ac47e388490b724b37515e": {
          "model_module": "@jupyter-widgets/controls",
          "model_name": "HTMLModel",
          "model_module_version": "1.5.0",
          "state": {
            "_dom_classes": [],
            "_model_module": "@jupyter-widgets/controls",
            "_model_module_version": "1.5.0",
            "_model_name": "HTMLModel",
            "_view_count": null,
            "_view_module": "@jupyter-widgets/controls",
            "_view_module_version": "1.5.0",
            "_view_name": "HTMLView",
            "description": "",
            "description_tooltip": null,
            "layout": "IPY_MODEL_73a55f075ab448e29a96dea7940c7b92",
            "placeholder": "​",
            "style": "IPY_MODEL_6d30897bf5d64e309319f46311efa1b5",
            "value": " 1/1 [00:00&lt;00:00, 13.55it/s]"
          }
        },
        "35a353ced3bd42e3b03b455dd7fc5aca": {
          "model_module": "@jupyter-widgets/base",
          "model_name": "LayoutModel",
          "model_module_version": "1.2.0",
          "state": {
            "_model_module": "@jupyter-widgets/base",
            "_model_module_version": "1.2.0",
            "_model_name": "LayoutModel",
            "_view_count": null,
            "_view_module": "@jupyter-widgets/base",
            "_view_module_version": "1.2.0",
            "_view_name": "LayoutView",
            "align_content": null,
            "align_items": null,
            "align_self": null,
            "border": null,
            "bottom": null,
            "display": "inline-flex",
            "flex": null,
            "flex_flow": "row wrap",
            "grid_area": null,
            "grid_auto_columns": null,
            "grid_auto_flow": null,
            "grid_auto_rows": null,
            "grid_column": null,
            "grid_gap": null,
            "grid_row": null,
            "grid_template_areas": null,
            "grid_template_columns": null,
            "grid_template_rows": null,
            "height": null,
            "justify_content": null,
            "justify_items": null,
            "left": null,
            "margin": null,
            "max_height": null,
            "max_width": null,
            "min_height": null,
            "min_width": null,
            "object_fit": null,
            "object_position": null,
            "order": null,
            "overflow": null,
            "overflow_x": null,
            "overflow_y": null,
            "padding": null,
            "right": null,
            "top": null,
            "visibility": null,
            "width": "100%"
          }
        },
        "210f5f1119704ce89fe40fd4ce0678a0": {
          "model_module": "@jupyter-widgets/base",
          "model_name": "LayoutModel",
          "model_module_version": "1.2.0",
          "state": {
            "_model_module": "@jupyter-widgets/base",
            "_model_module_version": "1.2.0",
            "_model_name": "LayoutModel",
            "_view_count": null,
            "_view_module": "@jupyter-widgets/base",
            "_view_module_version": "1.2.0",
            "_view_name": "LayoutView",
            "align_content": null,
            "align_items": null,
            "align_self": null,
            "border": null,
            "bottom": null,
            "display": null,
            "flex": null,
            "flex_flow": null,
            "grid_area": null,
            "grid_auto_columns": null,
            "grid_auto_flow": null,
            "grid_auto_rows": null,
            "grid_column": null,
            "grid_gap": null,
            "grid_row": null,
            "grid_template_areas": null,
            "grid_template_columns": null,
            "grid_template_rows": null,
            "height": null,
            "justify_content": null,
            "justify_items": null,
            "left": null,
            "margin": null,
            "max_height": null,
            "max_width": null,
            "min_height": null,
            "min_width": null,
            "object_fit": null,
            "object_position": null,
            "order": null,
            "overflow": null,
            "overflow_x": null,
            "overflow_y": null,
            "padding": null,
            "right": null,
            "top": null,
            "visibility": null,
            "width": null
          }
        },
        "85c24207c1ed45ae88272a3579748920": {
          "model_module": "@jupyter-widgets/controls",
          "model_name": "DescriptionStyleModel",
          "model_module_version": "1.5.0",
          "state": {
            "_model_module": "@jupyter-widgets/controls",
            "_model_module_version": "1.5.0",
            "_model_name": "DescriptionStyleModel",
            "_view_count": null,
            "_view_module": "@jupyter-widgets/base",
            "_view_module_version": "1.2.0",
            "_view_name": "StyleView",
            "description_width": ""
          }
        },
        "3f69f203b6b14ee39caf710d951ceaa0": {
          "model_module": "@jupyter-widgets/base",
          "model_name": "LayoutModel",
          "model_module_version": "1.2.0",
          "state": {
            "_model_module": "@jupyter-widgets/base",
            "_model_module_version": "1.2.0",
            "_model_name": "LayoutModel",
            "_view_count": null,
            "_view_module": "@jupyter-widgets/base",
            "_view_module_version": "1.2.0",
            "_view_name": "LayoutView",
            "align_content": null,
            "align_items": null,
            "align_self": null,
            "border": null,
            "bottom": null,
            "display": null,
            "flex": "2",
            "flex_flow": null,
            "grid_area": null,
            "grid_auto_columns": null,
            "grid_auto_flow": null,
            "grid_auto_rows": null,
            "grid_column": null,
            "grid_gap": null,
            "grid_row": null,
            "grid_template_areas": null,
            "grid_template_columns": null,
            "grid_template_rows": null,
            "height": null,
            "justify_content": null,
            "justify_items": null,
            "left": null,
            "margin": null,
            "max_height": null,
            "max_width": null,
            "min_height": null,
            "min_width": null,
            "object_fit": null,
            "object_position": null,
            "order": null,
            "overflow": null,
            "overflow_x": null,
            "overflow_y": null,
            "padding": null,
            "right": null,
            "top": null,
            "visibility": null,
            "width": null
          }
        },
        "90eb6ac9eb3c4e528df35fa80cb1ec3e": {
          "model_module": "@jupyter-widgets/controls",
          "model_name": "ProgressStyleModel",
          "model_module_version": "1.5.0",
          "state": {
            "_model_module": "@jupyter-widgets/controls",
            "_model_module_version": "1.5.0",
            "_model_name": "ProgressStyleModel",
            "_view_count": null,
            "_view_module": "@jupyter-widgets/base",
            "_view_module_version": "1.2.0",
            "_view_name": "StyleView",
            "bar_color": null,
            "description_width": ""
          }
        },
        "73a55f075ab448e29a96dea7940c7b92": {
          "model_module": "@jupyter-widgets/base",
          "model_name": "LayoutModel",
          "model_module_version": "1.2.0",
          "state": {
            "_model_module": "@jupyter-widgets/base",
            "_model_module_version": "1.2.0",
            "_model_name": "LayoutModel",
            "_view_count": null,
            "_view_module": "@jupyter-widgets/base",
            "_view_module_version": "1.2.0",
            "_view_name": "LayoutView",
            "align_content": null,
            "align_items": null,
            "align_self": null,
            "border": null,
            "bottom": null,
            "display": null,
            "flex": null,
            "flex_flow": null,
            "grid_area": null,
            "grid_auto_columns": null,
            "grid_auto_flow": null,
            "grid_auto_rows": null,
            "grid_column": null,
            "grid_gap": null,
            "grid_row": null,
            "grid_template_areas": null,
            "grid_template_columns": null,
            "grid_template_rows": null,
            "height": null,
            "justify_content": null,
            "justify_items": null,
            "left": null,
            "margin": null,
            "max_height": null,
            "max_width": null,
            "min_height": null,
            "min_width": null,
            "object_fit": null,
            "object_position": null,
            "order": null,
            "overflow": null,
            "overflow_x": null,
            "overflow_y": null,
            "padding": null,
            "right": null,
            "top": null,
            "visibility": null,
            "width": null
          }
        },
        "6d30897bf5d64e309319f46311efa1b5": {
          "model_module": "@jupyter-widgets/controls",
          "model_name": "DescriptionStyleModel",
          "model_module_version": "1.5.0",
          "state": {
            "_model_module": "@jupyter-widgets/controls",
            "_model_module_version": "1.5.0",
            "_model_name": "DescriptionStyleModel",
            "_view_count": null,
            "_view_module": "@jupyter-widgets/base",
            "_view_module_version": "1.2.0",
            "_view_name": "StyleView",
            "description_width": ""
          }
        },
        "52b7d299284f4327b2f45dc305ca78d8": {
          "model_module": "@jupyter-widgets/controls",
          "model_name": "HBoxModel",
          "model_module_version": "1.5.0",
          "state": {
            "_dom_classes": [],
            "_model_module": "@jupyter-widgets/controls",
            "_model_module_version": "1.5.0",
            "_model_name": "HBoxModel",
            "_view_count": null,
            "_view_module": "@jupyter-widgets/controls",
            "_view_module_version": "1.5.0",
            "_view_name": "HBoxView",
            "box_style": "",
            "children": [
              "IPY_MODEL_0030511f893b452793a4d256d8c1b3f4",
              "IPY_MODEL_6e8c79b95bbb415aae9f2399bd30d1c8",
              "IPY_MODEL_10162bb612304adbb4fbb2fdd7ccfc06"
            ],
            "layout": "IPY_MODEL_372a6e802ebe4e33ace4eca1089daba9"
          }
        },
        "0030511f893b452793a4d256d8c1b3f4": {
          "model_module": "@jupyter-widgets/controls",
          "model_name": "HTMLModel",
          "model_module_version": "1.5.0",
          "state": {
            "_dom_classes": [],
            "_model_module": "@jupyter-widgets/controls",
            "_model_module_version": "1.5.0",
            "_model_name": "HTMLModel",
            "_view_count": null,
            "_view_module": "@jupyter-widgets/controls",
            "_view_module_version": "1.5.0",
            "_view_name": "HTMLView",
            "description": "",
            "description_tooltip": null,
            "layout": "IPY_MODEL_9f6fc96010e74fc6aa5e9e395423d4e4",
            "placeholder": "​",
            "style": "IPY_MODEL_86c2a04c7db94916a3e9f978af9aad81",
            "value": "Epoch 99: 100%"
          }
        },
        "6e8c79b95bbb415aae9f2399bd30d1c8": {
          "model_module": "@jupyter-widgets/controls",
          "model_name": "FloatProgressModel",
          "model_module_version": "1.5.0",
          "state": {
            "_dom_classes": [],
            "_model_module": "@jupyter-widgets/controls",
            "_model_module_version": "1.5.0",
            "_model_name": "FloatProgressModel",
            "_view_count": null,
            "_view_module": "@jupyter-widgets/controls",
            "_view_module_version": "1.5.0",
            "_view_name": "ProgressView",
            "bar_style": "success",
            "description": "",
            "description_tooltip": null,
            "layout": "IPY_MODEL_2ef53928890042dfbba38721071382f1",
            "max": 7,
            "min": 0,
            "orientation": "horizontal",
            "style": "IPY_MODEL_6c1bf59105dd491d8884cc6e75d76cfd",
            "value": 7
          }
        },
        "10162bb612304adbb4fbb2fdd7ccfc06": {
          "model_module": "@jupyter-widgets/controls",
          "model_name": "HTMLModel",
          "model_module_version": "1.5.0",
          "state": {
            "_dom_classes": [],
            "_model_module": "@jupyter-widgets/controls",
            "_model_module_version": "1.5.0",
            "_model_name": "HTMLModel",
            "_view_count": null,
            "_view_module": "@jupyter-widgets/controls",
            "_view_module_version": "1.5.0",
            "_view_name": "HTMLView",
            "description": "",
            "description_tooltip": null,
            "layout": "IPY_MODEL_3bc8c3b79c3d48ed83a498b474816c40",
            "placeholder": "​",
            "style": "IPY_MODEL_af369b8059334d74861505fae21c984b",
            "value": " 7/7 [00:01&lt;00:00,  4.32it/s, loss=0.000451, train_loss=0.000377]"
          }
        },
        "372a6e802ebe4e33ace4eca1089daba9": {
          "model_module": "@jupyter-widgets/base",
          "model_name": "LayoutModel",
          "model_module_version": "1.2.0",
          "state": {
            "_model_module": "@jupyter-widgets/base",
            "_model_module_version": "1.2.0",
            "_model_name": "LayoutModel",
            "_view_count": null,
            "_view_module": "@jupyter-widgets/base",
            "_view_module_version": "1.2.0",
            "_view_name": "LayoutView",
            "align_content": null,
            "align_items": null,
            "align_self": null,
            "border": null,
            "bottom": null,
            "display": "inline-flex",
            "flex": null,
            "flex_flow": "row wrap",
            "grid_area": null,
            "grid_auto_columns": null,
            "grid_auto_flow": null,
            "grid_auto_rows": null,
            "grid_column": null,
            "grid_gap": null,
            "grid_row": null,
            "grid_template_areas": null,
            "grid_template_columns": null,
            "grid_template_rows": null,
            "height": null,
            "justify_content": null,
            "justify_items": null,
            "left": null,
            "margin": null,
            "max_height": null,
            "max_width": null,
            "min_height": null,
            "min_width": null,
            "object_fit": null,
            "object_position": null,
            "order": null,
            "overflow": null,
            "overflow_x": null,
            "overflow_y": null,
            "padding": null,
            "right": null,
            "top": null,
            "visibility": null,
            "width": "100%"
          }
        },
        "9f6fc96010e74fc6aa5e9e395423d4e4": {
          "model_module": "@jupyter-widgets/base",
          "model_name": "LayoutModel",
          "model_module_version": "1.2.0",
          "state": {
            "_model_module": "@jupyter-widgets/base",
            "_model_module_version": "1.2.0",
            "_model_name": "LayoutModel",
            "_view_count": null,
            "_view_module": "@jupyter-widgets/base",
            "_view_module_version": "1.2.0",
            "_view_name": "LayoutView",
            "align_content": null,
            "align_items": null,
            "align_self": null,
            "border": null,
            "bottom": null,
            "display": null,
            "flex": null,
            "flex_flow": null,
            "grid_area": null,
            "grid_auto_columns": null,
            "grid_auto_flow": null,
            "grid_auto_rows": null,
            "grid_column": null,
            "grid_gap": null,
            "grid_row": null,
            "grid_template_areas": null,
            "grid_template_columns": null,
            "grid_template_rows": null,
            "height": null,
            "justify_content": null,
            "justify_items": null,
            "left": null,
            "margin": null,
            "max_height": null,
            "max_width": null,
            "min_height": null,
            "min_width": null,
            "object_fit": null,
            "object_position": null,
            "order": null,
            "overflow": null,
            "overflow_x": null,
            "overflow_y": null,
            "padding": null,
            "right": null,
            "top": null,
            "visibility": null,
            "width": null
          }
        },
        "86c2a04c7db94916a3e9f978af9aad81": {
          "model_module": "@jupyter-widgets/controls",
          "model_name": "DescriptionStyleModel",
          "model_module_version": "1.5.0",
          "state": {
            "_model_module": "@jupyter-widgets/controls",
            "_model_module_version": "1.5.0",
            "_model_name": "DescriptionStyleModel",
            "_view_count": null,
            "_view_module": "@jupyter-widgets/base",
            "_view_module_version": "1.2.0",
            "_view_name": "StyleView",
            "description_width": ""
          }
        },
        "2ef53928890042dfbba38721071382f1": {
          "model_module": "@jupyter-widgets/base",
          "model_name": "LayoutModel",
          "model_module_version": "1.2.0",
          "state": {
            "_model_module": "@jupyter-widgets/base",
            "_model_module_version": "1.2.0",
            "_model_name": "LayoutModel",
            "_view_count": null,
            "_view_module": "@jupyter-widgets/base",
            "_view_module_version": "1.2.0",
            "_view_name": "LayoutView",
            "align_content": null,
            "align_items": null,
            "align_self": null,
            "border": null,
            "bottom": null,
            "display": null,
            "flex": "2",
            "flex_flow": null,
            "grid_area": null,
            "grid_auto_columns": null,
            "grid_auto_flow": null,
            "grid_auto_rows": null,
            "grid_column": null,
            "grid_gap": null,
            "grid_row": null,
            "grid_template_areas": null,
            "grid_template_columns": null,
            "grid_template_rows": null,
            "height": null,
            "justify_content": null,
            "justify_items": null,
            "left": null,
            "margin": null,
            "max_height": null,
            "max_width": null,
            "min_height": null,
            "min_width": null,
            "object_fit": null,
            "object_position": null,
            "order": null,
            "overflow": null,
            "overflow_x": null,
            "overflow_y": null,
            "padding": null,
            "right": null,
            "top": null,
            "visibility": null,
            "width": null
          }
        },
        "6c1bf59105dd491d8884cc6e75d76cfd": {
          "model_module": "@jupyter-widgets/controls",
          "model_name": "ProgressStyleModel",
          "model_module_version": "1.5.0",
          "state": {
            "_model_module": "@jupyter-widgets/controls",
            "_model_module_version": "1.5.0",
            "_model_name": "ProgressStyleModel",
            "_view_count": null,
            "_view_module": "@jupyter-widgets/base",
            "_view_module_version": "1.2.0",
            "_view_name": "StyleView",
            "bar_color": null,
            "description_width": ""
          }
        },
        "3bc8c3b79c3d48ed83a498b474816c40": {
          "model_module": "@jupyter-widgets/base",
          "model_name": "LayoutModel",
          "model_module_version": "1.2.0",
          "state": {
            "_model_module": "@jupyter-widgets/base",
            "_model_module_version": "1.2.0",
            "_model_name": "LayoutModel",
            "_view_count": null,
            "_view_module": "@jupyter-widgets/base",
            "_view_module_version": "1.2.0",
            "_view_name": "LayoutView",
            "align_content": null,
            "align_items": null,
            "align_self": null,
            "border": null,
            "bottom": null,
            "display": null,
            "flex": null,
            "flex_flow": null,
            "grid_area": null,
            "grid_auto_columns": null,
            "grid_auto_flow": null,
            "grid_auto_rows": null,
            "grid_column": null,
            "grid_gap": null,
            "grid_row": null,
            "grid_template_areas": null,
            "grid_template_columns": null,
            "grid_template_rows": null,
            "height": null,
            "justify_content": null,
            "justify_items": null,
            "left": null,
            "margin": null,
            "max_height": null,
            "max_width": null,
            "min_height": null,
            "min_width": null,
            "object_fit": null,
            "object_position": null,
            "order": null,
            "overflow": null,
            "overflow_x": null,
            "overflow_y": null,
            "padding": null,
            "right": null,
            "top": null,
            "visibility": null,
            "width": null
          }
        },
        "af369b8059334d74861505fae21c984b": {
          "model_module": "@jupyter-widgets/controls",
          "model_name": "DescriptionStyleModel",
          "model_module_version": "1.5.0",
          "state": {
            "_model_module": "@jupyter-widgets/controls",
            "_model_module_version": "1.5.0",
            "_model_name": "DescriptionStyleModel",
            "_view_count": null,
            "_view_module": "@jupyter-widgets/base",
            "_view_module_version": "1.2.0",
            "_view_name": "StyleView",
            "description_width": ""
          }
        },
        "6e86d532830d484e8a08d6ae9ab11019": {
          "model_module": "@jupyter-widgets/controls",
          "model_name": "HBoxModel",
          "model_module_version": "1.5.0",
          "state": {
            "_dom_classes": [],
            "_model_module": "@jupyter-widgets/controls",
            "_model_module_version": "1.5.0",
            "_model_name": "HBoxModel",
            "_view_count": null,
            "_view_module": "@jupyter-widgets/controls",
            "_view_module_version": "1.5.0",
            "_view_name": "HBoxView",
            "box_style": "",
            "children": [
              "IPY_MODEL_004da90cfd5f43f69d61663c85ac36b4",
              "IPY_MODEL_2735c6b9823f4886914407b43b4bb64d",
              "IPY_MODEL_bee39b628936482cbe6068af840453a9"
            ],
            "layout": "IPY_MODEL_a94172d026d14d6d8c495af498becfa1"
          }
        },
        "004da90cfd5f43f69d61663c85ac36b4": {
          "model_module": "@jupyter-widgets/controls",
          "model_name": "HTMLModel",
          "model_module_version": "1.5.0",
          "state": {
            "_dom_classes": [],
            "_model_module": "@jupyter-widgets/controls",
            "_model_module_version": "1.5.0",
            "_model_name": "HTMLModel",
            "_view_count": null,
            "_view_module": "@jupyter-widgets/controls",
            "_view_module_version": "1.5.0",
            "_view_name": "HTMLView",
            "description": "",
            "description_tooltip": null,
            "layout": "IPY_MODEL_39bea370c3924a0ab2a52338d8d1eef4",
            "placeholder": "​",
            "style": "IPY_MODEL_e25ef454044d4cb68bafe8846a1e81fe",
            "value": "Predicting DataLoader 0: 100%"
          }
        },
        "2735c6b9823f4886914407b43b4bb64d": {
          "model_module": "@jupyter-widgets/controls",
          "model_name": "FloatProgressModel",
          "model_module_version": "1.5.0",
          "state": {
            "_dom_classes": [],
            "_model_module": "@jupyter-widgets/controls",
            "_model_module_version": "1.5.0",
            "_model_name": "FloatProgressModel",
            "_view_count": null,
            "_view_module": "@jupyter-widgets/controls",
            "_view_module_version": "1.5.0",
            "_view_name": "ProgressView",
            "bar_style": "success",
            "description": "",
            "description_tooltip": null,
            "layout": "IPY_MODEL_fa8c16ba54fc4eab8dedf4186d0fb539",
            "max": 1,
            "min": 0,
            "orientation": "horizontal",
            "style": "IPY_MODEL_d7e909519c7d44149ee74b83dc5a51cc",
            "value": 1
          }
        },
        "bee39b628936482cbe6068af840453a9": {
          "model_module": "@jupyter-widgets/controls",
          "model_name": "HTMLModel",
          "model_module_version": "1.5.0",
          "state": {
            "_dom_classes": [],
            "_model_module": "@jupyter-widgets/controls",
            "_model_module_version": "1.5.0",
            "_model_name": "HTMLModel",
            "_view_count": null,
            "_view_module": "@jupyter-widgets/controls",
            "_view_module_version": "1.5.0",
            "_view_name": "HTMLView",
            "description": "",
            "description_tooltip": null,
            "layout": "IPY_MODEL_434475367fd1463d81c8fc6969a97cef",
            "placeholder": "​",
            "style": "IPY_MODEL_2ce4d48599624e81ac83bd33ac9742ed",
            "value": " 1/1 [00:00&lt;00:00, 13.42it/s]"
          }
        },
        "a94172d026d14d6d8c495af498becfa1": {
          "model_module": "@jupyter-widgets/base",
          "model_name": "LayoutModel",
          "model_module_version": "1.2.0",
          "state": {
            "_model_module": "@jupyter-widgets/base",
            "_model_module_version": "1.2.0",
            "_model_name": "LayoutModel",
            "_view_count": null,
            "_view_module": "@jupyter-widgets/base",
            "_view_module_version": "1.2.0",
            "_view_name": "LayoutView",
            "align_content": null,
            "align_items": null,
            "align_self": null,
            "border": null,
            "bottom": null,
            "display": "inline-flex",
            "flex": null,
            "flex_flow": "row wrap",
            "grid_area": null,
            "grid_auto_columns": null,
            "grid_auto_flow": null,
            "grid_auto_rows": null,
            "grid_column": null,
            "grid_gap": null,
            "grid_row": null,
            "grid_template_areas": null,
            "grid_template_columns": null,
            "grid_template_rows": null,
            "height": null,
            "justify_content": null,
            "justify_items": null,
            "left": null,
            "margin": null,
            "max_height": null,
            "max_width": null,
            "min_height": null,
            "min_width": null,
            "object_fit": null,
            "object_position": null,
            "order": null,
            "overflow": null,
            "overflow_x": null,
            "overflow_y": null,
            "padding": null,
            "right": null,
            "top": null,
            "visibility": null,
            "width": "100%"
          }
        },
        "39bea370c3924a0ab2a52338d8d1eef4": {
          "model_module": "@jupyter-widgets/base",
          "model_name": "LayoutModel",
          "model_module_version": "1.2.0",
          "state": {
            "_model_module": "@jupyter-widgets/base",
            "_model_module_version": "1.2.0",
            "_model_name": "LayoutModel",
            "_view_count": null,
            "_view_module": "@jupyter-widgets/base",
            "_view_module_version": "1.2.0",
            "_view_name": "LayoutView",
            "align_content": null,
            "align_items": null,
            "align_self": null,
            "border": null,
            "bottom": null,
            "display": null,
            "flex": null,
            "flex_flow": null,
            "grid_area": null,
            "grid_auto_columns": null,
            "grid_auto_flow": null,
            "grid_auto_rows": null,
            "grid_column": null,
            "grid_gap": null,
            "grid_row": null,
            "grid_template_areas": null,
            "grid_template_columns": null,
            "grid_template_rows": null,
            "height": null,
            "justify_content": null,
            "justify_items": null,
            "left": null,
            "margin": null,
            "max_height": null,
            "max_width": null,
            "min_height": null,
            "min_width": null,
            "object_fit": null,
            "object_position": null,
            "order": null,
            "overflow": null,
            "overflow_x": null,
            "overflow_y": null,
            "padding": null,
            "right": null,
            "top": null,
            "visibility": null,
            "width": null
          }
        },
        "e25ef454044d4cb68bafe8846a1e81fe": {
          "model_module": "@jupyter-widgets/controls",
          "model_name": "DescriptionStyleModel",
          "model_module_version": "1.5.0",
          "state": {
            "_model_module": "@jupyter-widgets/controls",
            "_model_module_version": "1.5.0",
            "_model_name": "DescriptionStyleModel",
            "_view_count": null,
            "_view_module": "@jupyter-widgets/base",
            "_view_module_version": "1.2.0",
            "_view_name": "StyleView",
            "description_width": ""
          }
        },
        "fa8c16ba54fc4eab8dedf4186d0fb539": {
          "model_module": "@jupyter-widgets/base",
          "model_name": "LayoutModel",
          "model_module_version": "1.2.0",
          "state": {
            "_model_module": "@jupyter-widgets/base",
            "_model_module_version": "1.2.0",
            "_model_name": "LayoutModel",
            "_view_count": null,
            "_view_module": "@jupyter-widgets/base",
            "_view_module_version": "1.2.0",
            "_view_name": "LayoutView",
            "align_content": null,
            "align_items": null,
            "align_self": null,
            "border": null,
            "bottom": null,
            "display": null,
            "flex": "2",
            "flex_flow": null,
            "grid_area": null,
            "grid_auto_columns": null,
            "grid_auto_flow": null,
            "grid_auto_rows": null,
            "grid_column": null,
            "grid_gap": null,
            "grid_row": null,
            "grid_template_areas": null,
            "grid_template_columns": null,
            "grid_template_rows": null,
            "height": null,
            "justify_content": null,
            "justify_items": null,
            "left": null,
            "margin": null,
            "max_height": null,
            "max_width": null,
            "min_height": null,
            "min_width": null,
            "object_fit": null,
            "object_position": null,
            "order": null,
            "overflow": null,
            "overflow_x": null,
            "overflow_y": null,
            "padding": null,
            "right": null,
            "top": null,
            "visibility": null,
            "width": null
          }
        },
        "d7e909519c7d44149ee74b83dc5a51cc": {
          "model_module": "@jupyter-widgets/controls",
          "model_name": "ProgressStyleModel",
          "model_module_version": "1.5.0",
          "state": {
            "_model_module": "@jupyter-widgets/controls",
            "_model_module_version": "1.5.0",
            "_model_name": "ProgressStyleModel",
            "_view_count": null,
            "_view_module": "@jupyter-widgets/base",
            "_view_module_version": "1.2.0",
            "_view_name": "StyleView",
            "bar_color": null,
            "description_width": ""
          }
        },
        "434475367fd1463d81c8fc6969a97cef": {
          "model_module": "@jupyter-widgets/base",
          "model_name": "LayoutModel",
          "model_module_version": "1.2.0",
          "state": {
            "_model_module": "@jupyter-widgets/base",
            "_model_module_version": "1.2.0",
            "_model_name": "LayoutModel",
            "_view_count": null,
            "_view_module": "@jupyter-widgets/base",
            "_view_module_version": "1.2.0",
            "_view_name": "LayoutView",
            "align_content": null,
            "align_items": null,
            "align_self": null,
            "border": null,
            "bottom": null,
            "display": null,
            "flex": null,
            "flex_flow": null,
            "grid_area": null,
            "grid_auto_columns": null,
            "grid_auto_flow": null,
            "grid_auto_rows": null,
            "grid_column": null,
            "grid_gap": null,
            "grid_row": null,
            "grid_template_areas": null,
            "grid_template_columns": null,
            "grid_template_rows": null,
            "height": null,
            "justify_content": null,
            "justify_items": null,
            "left": null,
            "margin": null,
            "max_height": null,
            "max_width": null,
            "min_height": null,
            "min_width": null,
            "object_fit": null,
            "object_position": null,
            "order": null,
            "overflow": null,
            "overflow_x": null,
            "overflow_y": null,
            "padding": null,
            "right": null,
            "top": null,
            "visibility": null,
            "width": null
          }
        },
        "2ce4d48599624e81ac83bd33ac9742ed": {
          "model_module": "@jupyter-widgets/controls",
          "model_name": "DescriptionStyleModel",
          "model_module_version": "1.5.0",
          "state": {
            "_model_module": "@jupyter-widgets/controls",
            "_model_module_version": "1.5.0",
            "_model_name": "DescriptionStyleModel",
            "_view_count": null,
            "_view_module": "@jupyter-widgets/base",
            "_view_module_version": "1.2.0",
            "_view_name": "StyleView",
            "description_width": ""
          }
        },
        "66f1ba284ec6442a8221fa2844a496e0": {
          "model_module": "@jupyter-widgets/controls",
          "model_name": "HBoxModel",
          "model_module_version": "1.5.0",
          "state": {
            "_dom_classes": [],
            "_model_module": "@jupyter-widgets/controls",
            "_model_module_version": "1.5.0",
            "_model_name": "HBoxModel",
            "_view_count": null,
            "_view_module": "@jupyter-widgets/controls",
            "_view_module_version": "1.5.0",
            "_view_name": "HBoxView",
            "box_style": "",
            "children": [
              "IPY_MODEL_93413c5f3e014391aa8909b3112503dd",
              "IPY_MODEL_e166db68c80f4ba58abd5af184374cd5",
              "IPY_MODEL_82aa23fae3d14d9cbe8a44fec19a7112"
            ],
            "layout": "IPY_MODEL_babf503987094346b2264efa68a59b6a"
          }
        },
        "93413c5f3e014391aa8909b3112503dd": {
          "model_module": "@jupyter-widgets/controls",
          "model_name": "HTMLModel",
          "model_module_version": "1.5.0",
          "state": {
            "_dom_classes": [],
            "_model_module": "@jupyter-widgets/controls",
            "_model_module_version": "1.5.0",
            "_model_name": "HTMLModel",
            "_view_count": null,
            "_view_module": "@jupyter-widgets/controls",
            "_view_module_version": "1.5.0",
            "_view_name": "HTMLView",
            "description": "",
            "description_tooltip": null,
            "layout": "IPY_MODEL_827d9348696345e2bf405f05e7ce6b0d",
            "placeholder": "​",
            "style": "IPY_MODEL_43654f09699a4d48958b8565d337b4fa",
            "value": "Predicting DataLoader 0: 100%"
          }
        },
        "e166db68c80f4ba58abd5af184374cd5": {
          "model_module": "@jupyter-widgets/controls",
          "model_name": "FloatProgressModel",
          "model_module_version": "1.5.0",
          "state": {
            "_dom_classes": [],
            "_model_module": "@jupyter-widgets/controls",
            "_model_module_version": "1.5.0",
            "_model_name": "FloatProgressModel",
            "_view_count": null,
            "_view_module": "@jupyter-widgets/controls",
            "_view_module_version": "1.5.0",
            "_view_name": "ProgressView",
            "bar_style": "success",
            "description": "",
            "description_tooltip": null,
            "layout": "IPY_MODEL_ee810d12ad72410bb9ce246a29d43889",
            "max": 1,
            "min": 0,
            "orientation": "horizontal",
            "style": "IPY_MODEL_73d638802b804fd8953a4c89bf10ab9c",
            "value": 1
          }
        },
        "82aa23fae3d14d9cbe8a44fec19a7112": {
          "model_module": "@jupyter-widgets/controls",
          "model_name": "HTMLModel",
          "model_module_version": "1.5.0",
          "state": {
            "_dom_classes": [],
            "_model_module": "@jupyter-widgets/controls",
            "_model_module_version": "1.5.0",
            "_model_name": "HTMLModel",
            "_view_count": null,
            "_view_module": "@jupyter-widgets/controls",
            "_view_module_version": "1.5.0",
            "_view_name": "HTMLView",
            "description": "",
            "description_tooltip": null,
            "layout": "IPY_MODEL_fc6811c4a0f445879cf33f10944239b4",
            "placeholder": "​",
            "style": "IPY_MODEL_899044c4ffe4407885a6feb6af8e91dd",
            "value": " 1/1 [00:00&lt;00:00, 10.45it/s]"
          }
        },
        "babf503987094346b2264efa68a59b6a": {
          "model_module": "@jupyter-widgets/base",
          "model_name": "LayoutModel",
          "model_module_version": "1.2.0",
          "state": {
            "_model_module": "@jupyter-widgets/base",
            "_model_module_version": "1.2.0",
            "_model_name": "LayoutModel",
            "_view_count": null,
            "_view_module": "@jupyter-widgets/base",
            "_view_module_version": "1.2.0",
            "_view_name": "LayoutView",
            "align_content": null,
            "align_items": null,
            "align_self": null,
            "border": null,
            "bottom": null,
            "display": "inline-flex",
            "flex": null,
            "flex_flow": "row wrap",
            "grid_area": null,
            "grid_auto_columns": null,
            "grid_auto_flow": null,
            "grid_auto_rows": null,
            "grid_column": null,
            "grid_gap": null,
            "grid_row": null,
            "grid_template_areas": null,
            "grid_template_columns": null,
            "grid_template_rows": null,
            "height": null,
            "justify_content": null,
            "justify_items": null,
            "left": null,
            "margin": null,
            "max_height": null,
            "max_width": null,
            "min_height": null,
            "min_width": null,
            "object_fit": null,
            "object_position": null,
            "order": null,
            "overflow": null,
            "overflow_x": null,
            "overflow_y": null,
            "padding": null,
            "right": null,
            "top": null,
            "visibility": null,
            "width": "100%"
          }
        },
        "827d9348696345e2bf405f05e7ce6b0d": {
          "model_module": "@jupyter-widgets/base",
          "model_name": "LayoutModel",
          "model_module_version": "1.2.0",
          "state": {
            "_model_module": "@jupyter-widgets/base",
            "_model_module_version": "1.2.0",
            "_model_name": "LayoutModel",
            "_view_count": null,
            "_view_module": "@jupyter-widgets/base",
            "_view_module_version": "1.2.0",
            "_view_name": "LayoutView",
            "align_content": null,
            "align_items": null,
            "align_self": null,
            "border": null,
            "bottom": null,
            "display": null,
            "flex": null,
            "flex_flow": null,
            "grid_area": null,
            "grid_auto_columns": null,
            "grid_auto_flow": null,
            "grid_auto_rows": null,
            "grid_column": null,
            "grid_gap": null,
            "grid_row": null,
            "grid_template_areas": null,
            "grid_template_columns": null,
            "grid_template_rows": null,
            "height": null,
            "justify_content": null,
            "justify_items": null,
            "left": null,
            "margin": null,
            "max_height": null,
            "max_width": null,
            "min_height": null,
            "min_width": null,
            "object_fit": null,
            "object_position": null,
            "order": null,
            "overflow": null,
            "overflow_x": null,
            "overflow_y": null,
            "padding": null,
            "right": null,
            "top": null,
            "visibility": null,
            "width": null
          }
        },
        "43654f09699a4d48958b8565d337b4fa": {
          "model_module": "@jupyter-widgets/controls",
          "model_name": "DescriptionStyleModel",
          "model_module_version": "1.5.0",
          "state": {
            "_model_module": "@jupyter-widgets/controls",
            "_model_module_version": "1.5.0",
            "_model_name": "DescriptionStyleModel",
            "_view_count": null,
            "_view_module": "@jupyter-widgets/base",
            "_view_module_version": "1.2.0",
            "_view_name": "StyleView",
            "description_width": ""
          }
        },
        "ee810d12ad72410bb9ce246a29d43889": {
          "model_module": "@jupyter-widgets/base",
          "model_name": "LayoutModel",
          "model_module_version": "1.2.0",
          "state": {
            "_model_module": "@jupyter-widgets/base",
            "_model_module_version": "1.2.0",
            "_model_name": "LayoutModel",
            "_view_count": null,
            "_view_module": "@jupyter-widgets/base",
            "_view_module_version": "1.2.0",
            "_view_name": "LayoutView",
            "align_content": null,
            "align_items": null,
            "align_self": null,
            "border": null,
            "bottom": null,
            "display": null,
            "flex": "2",
            "flex_flow": null,
            "grid_area": null,
            "grid_auto_columns": null,
            "grid_auto_flow": null,
            "grid_auto_rows": null,
            "grid_column": null,
            "grid_gap": null,
            "grid_row": null,
            "grid_template_areas": null,
            "grid_template_columns": null,
            "grid_template_rows": null,
            "height": null,
            "justify_content": null,
            "justify_items": null,
            "left": null,
            "margin": null,
            "max_height": null,
            "max_width": null,
            "min_height": null,
            "min_width": null,
            "object_fit": null,
            "object_position": null,
            "order": null,
            "overflow": null,
            "overflow_x": null,
            "overflow_y": null,
            "padding": null,
            "right": null,
            "top": null,
            "visibility": null,
            "width": null
          }
        },
        "73d638802b804fd8953a4c89bf10ab9c": {
          "model_module": "@jupyter-widgets/controls",
          "model_name": "ProgressStyleModel",
          "model_module_version": "1.5.0",
          "state": {
            "_model_module": "@jupyter-widgets/controls",
            "_model_module_version": "1.5.0",
            "_model_name": "ProgressStyleModel",
            "_view_count": null,
            "_view_module": "@jupyter-widgets/base",
            "_view_module_version": "1.2.0",
            "_view_name": "StyleView",
            "bar_color": null,
            "description_width": ""
          }
        },
        "fc6811c4a0f445879cf33f10944239b4": {
          "model_module": "@jupyter-widgets/base",
          "model_name": "LayoutModel",
          "model_module_version": "1.2.0",
          "state": {
            "_model_module": "@jupyter-widgets/base",
            "_model_module_version": "1.2.0",
            "_model_name": "LayoutModel",
            "_view_count": null,
            "_view_module": "@jupyter-widgets/base",
            "_view_module_version": "1.2.0",
            "_view_name": "LayoutView",
            "align_content": null,
            "align_items": null,
            "align_self": null,
            "border": null,
            "bottom": null,
            "display": null,
            "flex": null,
            "flex_flow": null,
            "grid_area": null,
            "grid_auto_columns": null,
            "grid_auto_flow": null,
            "grid_auto_rows": null,
            "grid_column": null,
            "grid_gap": null,
            "grid_row": null,
            "grid_template_areas": null,
            "grid_template_columns": null,
            "grid_template_rows": null,
            "height": null,
            "justify_content": null,
            "justify_items": null,
            "left": null,
            "margin": null,
            "max_height": null,
            "max_width": null,
            "min_height": null,
            "min_width": null,
            "object_fit": null,
            "object_position": null,
            "order": null,
            "overflow": null,
            "overflow_x": null,
            "overflow_y": null,
            "padding": null,
            "right": null,
            "top": null,
            "visibility": null,
            "width": null
          }
        },
        "899044c4ffe4407885a6feb6af8e91dd": {
          "model_module": "@jupyter-widgets/controls",
          "model_name": "DescriptionStyleModel",
          "model_module_version": "1.5.0",
          "state": {
            "_model_module": "@jupyter-widgets/controls",
            "_model_module_version": "1.5.0",
            "_model_name": "DescriptionStyleModel",
            "_view_count": null,
            "_view_module": "@jupyter-widgets/base",
            "_view_module_version": "1.2.0",
            "_view_name": "StyleView",
            "description_width": ""
          }
        },
        "47c963cd42304b89b8ad62904f51212b": {
          "model_module": "@jupyter-widgets/controls",
          "model_name": "HBoxModel",
          "model_module_version": "1.5.0",
          "state": {
            "_dom_classes": [],
            "_model_module": "@jupyter-widgets/controls",
            "_model_module_version": "1.5.0",
            "_model_name": "HBoxModel",
            "_view_count": null,
            "_view_module": "@jupyter-widgets/controls",
            "_view_module_version": "1.5.0",
            "_view_name": "HBoxView",
            "box_style": "",
            "children": [
              "IPY_MODEL_d321391a05e24eafb149a0c8bf3bc6ca",
              "IPY_MODEL_e53b0937d7e3482b946a4bd44d822bfc",
              "IPY_MODEL_d98fe5d3d70346df849dbaf2dafaf16b"
            ],
            "layout": "IPY_MODEL_da6f2dc674a54122aa5b2e143d0963a9"
          }
        },
        "d321391a05e24eafb149a0c8bf3bc6ca": {
          "model_module": "@jupyter-widgets/controls",
          "model_name": "HTMLModel",
          "model_module_version": "1.5.0",
          "state": {
            "_dom_classes": [],
            "_model_module": "@jupyter-widgets/controls",
            "_model_module_version": "1.5.0",
            "_model_name": "HTMLModel",
            "_view_count": null,
            "_view_module": "@jupyter-widgets/controls",
            "_view_module_version": "1.5.0",
            "_view_name": "HTMLView",
            "description": "",
            "description_tooltip": null,
            "layout": "IPY_MODEL_c1a805107b0b44c6a8f9a59174f0eb3c",
            "placeholder": "​",
            "style": "IPY_MODEL_f6364a46dbc140348c8c2dea21419d79",
            "value": "Predicting DataLoader 0: 100%"
          }
        },
        "e53b0937d7e3482b946a4bd44d822bfc": {
          "model_module": "@jupyter-widgets/controls",
          "model_name": "FloatProgressModel",
          "model_module_version": "1.5.0",
          "state": {
            "_dom_classes": [],
            "_model_module": "@jupyter-widgets/controls",
            "_model_module_version": "1.5.0",
            "_model_name": "FloatProgressModel",
            "_view_count": null,
            "_view_module": "@jupyter-widgets/controls",
            "_view_module_version": "1.5.0",
            "_view_name": "ProgressView",
            "bar_style": "success",
            "description": "",
            "description_tooltip": null,
            "layout": "IPY_MODEL_151747b86ab3478ea56d6023e33daf69",
            "max": 1,
            "min": 0,
            "orientation": "horizontal",
            "style": "IPY_MODEL_1ce76f186e1c4a85b959c1a275aa33dd",
            "value": 1
          }
        },
        "d98fe5d3d70346df849dbaf2dafaf16b": {
          "model_module": "@jupyter-widgets/controls",
          "model_name": "HTMLModel",
          "model_module_version": "1.5.0",
          "state": {
            "_dom_classes": [],
            "_model_module": "@jupyter-widgets/controls",
            "_model_module_version": "1.5.0",
            "_model_name": "HTMLModel",
            "_view_count": null,
            "_view_module": "@jupyter-widgets/controls",
            "_view_module_version": "1.5.0",
            "_view_name": "HTMLView",
            "description": "",
            "description_tooltip": null,
            "layout": "IPY_MODEL_d0b08abbc33840c0a6e46b1b2b257635",
            "placeholder": "​",
            "style": "IPY_MODEL_dcfa8632f8ca43ffa89ff9b13d25ff5e",
            "value": " 1/1 [00:00&lt;00:00, 10.00it/s]"
          }
        },
        "da6f2dc674a54122aa5b2e143d0963a9": {
          "model_module": "@jupyter-widgets/base",
          "model_name": "LayoutModel",
          "model_module_version": "1.2.0",
          "state": {
            "_model_module": "@jupyter-widgets/base",
            "_model_module_version": "1.2.0",
            "_model_name": "LayoutModel",
            "_view_count": null,
            "_view_module": "@jupyter-widgets/base",
            "_view_module_version": "1.2.0",
            "_view_name": "LayoutView",
            "align_content": null,
            "align_items": null,
            "align_self": null,
            "border": null,
            "bottom": null,
            "display": "inline-flex",
            "flex": null,
            "flex_flow": "row wrap",
            "grid_area": null,
            "grid_auto_columns": null,
            "grid_auto_flow": null,
            "grid_auto_rows": null,
            "grid_column": null,
            "grid_gap": null,
            "grid_row": null,
            "grid_template_areas": null,
            "grid_template_columns": null,
            "grid_template_rows": null,
            "height": null,
            "justify_content": null,
            "justify_items": null,
            "left": null,
            "margin": null,
            "max_height": null,
            "max_width": null,
            "min_height": null,
            "min_width": null,
            "object_fit": null,
            "object_position": null,
            "order": null,
            "overflow": null,
            "overflow_x": null,
            "overflow_y": null,
            "padding": null,
            "right": null,
            "top": null,
            "visibility": null,
            "width": "100%"
          }
        },
        "c1a805107b0b44c6a8f9a59174f0eb3c": {
          "model_module": "@jupyter-widgets/base",
          "model_name": "LayoutModel",
          "model_module_version": "1.2.0",
          "state": {
            "_model_module": "@jupyter-widgets/base",
            "_model_module_version": "1.2.0",
            "_model_name": "LayoutModel",
            "_view_count": null,
            "_view_module": "@jupyter-widgets/base",
            "_view_module_version": "1.2.0",
            "_view_name": "LayoutView",
            "align_content": null,
            "align_items": null,
            "align_self": null,
            "border": null,
            "bottom": null,
            "display": null,
            "flex": null,
            "flex_flow": null,
            "grid_area": null,
            "grid_auto_columns": null,
            "grid_auto_flow": null,
            "grid_auto_rows": null,
            "grid_column": null,
            "grid_gap": null,
            "grid_row": null,
            "grid_template_areas": null,
            "grid_template_columns": null,
            "grid_template_rows": null,
            "height": null,
            "justify_content": null,
            "justify_items": null,
            "left": null,
            "margin": null,
            "max_height": null,
            "max_width": null,
            "min_height": null,
            "min_width": null,
            "object_fit": null,
            "object_position": null,
            "order": null,
            "overflow": null,
            "overflow_x": null,
            "overflow_y": null,
            "padding": null,
            "right": null,
            "top": null,
            "visibility": null,
            "width": null
          }
        },
        "f6364a46dbc140348c8c2dea21419d79": {
          "model_module": "@jupyter-widgets/controls",
          "model_name": "DescriptionStyleModel",
          "model_module_version": "1.5.0",
          "state": {
            "_model_module": "@jupyter-widgets/controls",
            "_model_module_version": "1.5.0",
            "_model_name": "DescriptionStyleModel",
            "_view_count": null,
            "_view_module": "@jupyter-widgets/base",
            "_view_module_version": "1.2.0",
            "_view_name": "StyleView",
            "description_width": ""
          }
        },
        "151747b86ab3478ea56d6023e33daf69": {
          "model_module": "@jupyter-widgets/base",
          "model_name": "LayoutModel",
          "model_module_version": "1.2.0",
          "state": {
            "_model_module": "@jupyter-widgets/base",
            "_model_module_version": "1.2.0",
            "_model_name": "LayoutModel",
            "_view_count": null,
            "_view_module": "@jupyter-widgets/base",
            "_view_module_version": "1.2.0",
            "_view_name": "LayoutView",
            "align_content": null,
            "align_items": null,
            "align_self": null,
            "border": null,
            "bottom": null,
            "display": null,
            "flex": "2",
            "flex_flow": null,
            "grid_area": null,
            "grid_auto_columns": null,
            "grid_auto_flow": null,
            "grid_auto_rows": null,
            "grid_column": null,
            "grid_gap": null,
            "grid_row": null,
            "grid_template_areas": null,
            "grid_template_columns": null,
            "grid_template_rows": null,
            "height": null,
            "justify_content": null,
            "justify_items": null,
            "left": null,
            "margin": null,
            "max_height": null,
            "max_width": null,
            "min_height": null,
            "min_width": null,
            "object_fit": null,
            "object_position": null,
            "order": null,
            "overflow": null,
            "overflow_x": null,
            "overflow_y": null,
            "padding": null,
            "right": null,
            "top": null,
            "visibility": null,
            "width": null
          }
        },
        "1ce76f186e1c4a85b959c1a275aa33dd": {
          "model_module": "@jupyter-widgets/controls",
          "model_name": "ProgressStyleModel",
          "model_module_version": "1.5.0",
          "state": {
            "_model_module": "@jupyter-widgets/controls",
            "_model_module_version": "1.5.0",
            "_model_name": "ProgressStyleModel",
            "_view_count": null,
            "_view_module": "@jupyter-widgets/base",
            "_view_module_version": "1.2.0",
            "_view_name": "StyleView",
            "bar_color": null,
            "description_width": ""
          }
        },
        "d0b08abbc33840c0a6e46b1b2b257635": {
          "model_module": "@jupyter-widgets/base",
          "model_name": "LayoutModel",
          "model_module_version": "1.2.0",
          "state": {
            "_model_module": "@jupyter-widgets/base",
            "_model_module_version": "1.2.0",
            "_model_name": "LayoutModel",
            "_view_count": null,
            "_view_module": "@jupyter-widgets/base",
            "_view_module_version": "1.2.0",
            "_view_name": "LayoutView",
            "align_content": null,
            "align_items": null,
            "align_self": null,
            "border": null,
            "bottom": null,
            "display": null,
            "flex": null,
            "flex_flow": null,
            "grid_area": null,
            "grid_auto_columns": null,
            "grid_auto_flow": null,
            "grid_auto_rows": null,
            "grid_column": null,
            "grid_gap": null,
            "grid_row": null,
            "grid_template_areas": null,
            "grid_template_columns": null,
            "grid_template_rows": null,
            "height": null,
            "justify_content": null,
            "justify_items": null,
            "left": null,
            "margin": null,
            "max_height": null,
            "max_width": null,
            "min_height": null,
            "min_width": null,
            "object_fit": null,
            "object_position": null,
            "order": null,
            "overflow": null,
            "overflow_x": null,
            "overflow_y": null,
            "padding": null,
            "right": null,
            "top": null,
            "visibility": null,
            "width": null
          }
        },
        "dcfa8632f8ca43ffa89ff9b13d25ff5e": {
          "model_module": "@jupyter-widgets/controls",
          "model_name": "DescriptionStyleModel",
          "model_module_version": "1.5.0",
          "state": {
            "_model_module": "@jupyter-widgets/controls",
            "_model_module_version": "1.5.0",
            "_model_name": "DescriptionStyleModel",
            "_view_count": null,
            "_view_module": "@jupyter-widgets/base",
            "_view_module_version": "1.2.0",
            "_view_name": "StyleView",
            "description_width": ""
          }
        },
        "032caeea138f49fdb58d898a1c6cd8f9": {
          "model_module": "@jupyter-widgets/controls",
          "model_name": "HBoxModel",
          "model_module_version": "1.5.0",
          "state": {
            "_dom_classes": [],
            "_model_module": "@jupyter-widgets/controls",
            "_model_module_version": "1.5.0",
            "_model_name": "HBoxModel",
            "_view_count": null,
            "_view_module": "@jupyter-widgets/controls",
            "_view_module_version": "1.5.0",
            "_view_name": "HBoxView",
            "box_style": "",
            "children": [
              "IPY_MODEL_9f93407676844677babf96c0ce663abd",
              "IPY_MODEL_281bb2bb6c6e4057810cbb0b9a978022",
              "IPY_MODEL_420c1b95efc243cf9b9fd92066291727"
            ],
            "layout": "IPY_MODEL_cecf38ab692d425493df73b21e59387b"
          }
        },
        "9f93407676844677babf96c0ce663abd": {
          "model_module": "@jupyter-widgets/controls",
          "model_name": "HTMLModel",
          "model_module_version": "1.5.0",
          "state": {
            "_dom_classes": [],
            "_model_module": "@jupyter-widgets/controls",
            "_model_module_version": "1.5.0",
            "_model_name": "HTMLModel",
            "_view_count": null,
            "_view_module": "@jupyter-widgets/controls",
            "_view_module_version": "1.5.0",
            "_view_name": "HTMLView",
            "description": "",
            "description_tooltip": null,
            "layout": "IPY_MODEL_854cfbdd69914b9aa07a0d664c28158e",
            "placeholder": "​",
            "style": "IPY_MODEL_e53f3077067146c281d5abb67143e024",
            "value": "Epoch 199: 100%"
          }
        },
        "281bb2bb6c6e4057810cbb0b9a978022": {
          "model_module": "@jupyter-widgets/controls",
          "model_name": "FloatProgressModel",
          "model_module_version": "1.5.0",
          "state": {
            "_dom_classes": [],
            "_model_module": "@jupyter-widgets/controls",
            "_model_module_version": "1.5.0",
            "_model_name": "FloatProgressModel",
            "_view_count": null,
            "_view_module": "@jupyter-widgets/controls",
            "_view_module_version": "1.5.0",
            "_view_name": "ProgressView",
            "bar_style": "success",
            "description": "",
            "description_tooltip": null,
            "layout": "IPY_MODEL_173c8166d53449ba8fc912bc4c1ec9d3",
            "max": 4,
            "min": 0,
            "orientation": "horizontal",
            "style": "IPY_MODEL_2ea25cf3d21a41a7baf8426d15c687fd",
            "value": 4
          }
        },
        "420c1b95efc243cf9b9fd92066291727": {
          "model_module": "@jupyter-widgets/controls",
          "model_name": "HTMLModel",
          "model_module_version": "1.5.0",
          "state": {
            "_dom_classes": [],
            "_model_module": "@jupyter-widgets/controls",
            "_model_module_version": "1.5.0",
            "_model_name": "HTMLModel",
            "_view_count": null,
            "_view_module": "@jupyter-widgets/controls",
            "_view_module_version": "1.5.0",
            "_view_name": "HTMLView",
            "description": "",
            "description_tooltip": null,
            "layout": "IPY_MODEL_ebf2c5b0796346568cb80135bdc87c6a",
            "placeholder": "​",
            "style": "IPY_MODEL_90ef3a857ded493db6b761156572a705",
            "value": " 4/4 [00:00&lt;00:00, 17.85it/s, loss=0.00658, train_loss=0.00667]"
          }
        },
        "cecf38ab692d425493df73b21e59387b": {
          "model_module": "@jupyter-widgets/base",
          "model_name": "LayoutModel",
          "model_module_version": "1.2.0",
          "state": {
            "_model_module": "@jupyter-widgets/base",
            "_model_module_version": "1.2.0",
            "_model_name": "LayoutModel",
            "_view_count": null,
            "_view_module": "@jupyter-widgets/base",
            "_view_module_version": "1.2.0",
            "_view_name": "LayoutView",
            "align_content": null,
            "align_items": null,
            "align_self": null,
            "border": null,
            "bottom": null,
            "display": "inline-flex",
            "flex": null,
            "flex_flow": "row wrap",
            "grid_area": null,
            "grid_auto_columns": null,
            "grid_auto_flow": null,
            "grid_auto_rows": null,
            "grid_column": null,
            "grid_gap": null,
            "grid_row": null,
            "grid_template_areas": null,
            "grid_template_columns": null,
            "grid_template_rows": null,
            "height": null,
            "justify_content": null,
            "justify_items": null,
            "left": null,
            "margin": null,
            "max_height": null,
            "max_width": null,
            "min_height": null,
            "min_width": null,
            "object_fit": null,
            "object_position": null,
            "order": null,
            "overflow": null,
            "overflow_x": null,
            "overflow_y": null,
            "padding": null,
            "right": null,
            "top": null,
            "visibility": null,
            "width": "100%"
          }
        },
        "854cfbdd69914b9aa07a0d664c28158e": {
          "model_module": "@jupyter-widgets/base",
          "model_name": "LayoutModel",
          "model_module_version": "1.2.0",
          "state": {
            "_model_module": "@jupyter-widgets/base",
            "_model_module_version": "1.2.0",
            "_model_name": "LayoutModel",
            "_view_count": null,
            "_view_module": "@jupyter-widgets/base",
            "_view_module_version": "1.2.0",
            "_view_name": "LayoutView",
            "align_content": null,
            "align_items": null,
            "align_self": null,
            "border": null,
            "bottom": null,
            "display": null,
            "flex": null,
            "flex_flow": null,
            "grid_area": null,
            "grid_auto_columns": null,
            "grid_auto_flow": null,
            "grid_auto_rows": null,
            "grid_column": null,
            "grid_gap": null,
            "grid_row": null,
            "grid_template_areas": null,
            "grid_template_columns": null,
            "grid_template_rows": null,
            "height": null,
            "justify_content": null,
            "justify_items": null,
            "left": null,
            "margin": null,
            "max_height": null,
            "max_width": null,
            "min_height": null,
            "min_width": null,
            "object_fit": null,
            "object_position": null,
            "order": null,
            "overflow": null,
            "overflow_x": null,
            "overflow_y": null,
            "padding": null,
            "right": null,
            "top": null,
            "visibility": null,
            "width": null
          }
        },
        "e53f3077067146c281d5abb67143e024": {
          "model_module": "@jupyter-widgets/controls",
          "model_name": "DescriptionStyleModel",
          "model_module_version": "1.5.0",
          "state": {
            "_model_module": "@jupyter-widgets/controls",
            "_model_module_version": "1.5.0",
            "_model_name": "DescriptionStyleModel",
            "_view_count": null,
            "_view_module": "@jupyter-widgets/base",
            "_view_module_version": "1.2.0",
            "_view_name": "StyleView",
            "description_width": ""
          }
        },
        "173c8166d53449ba8fc912bc4c1ec9d3": {
          "model_module": "@jupyter-widgets/base",
          "model_name": "LayoutModel",
          "model_module_version": "1.2.0",
          "state": {
            "_model_module": "@jupyter-widgets/base",
            "_model_module_version": "1.2.0",
            "_model_name": "LayoutModel",
            "_view_count": null,
            "_view_module": "@jupyter-widgets/base",
            "_view_module_version": "1.2.0",
            "_view_name": "LayoutView",
            "align_content": null,
            "align_items": null,
            "align_self": null,
            "border": null,
            "bottom": null,
            "display": null,
            "flex": "2",
            "flex_flow": null,
            "grid_area": null,
            "grid_auto_columns": null,
            "grid_auto_flow": null,
            "grid_auto_rows": null,
            "grid_column": null,
            "grid_gap": null,
            "grid_row": null,
            "grid_template_areas": null,
            "grid_template_columns": null,
            "grid_template_rows": null,
            "height": null,
            "justify_content": null,
            "justify_items": null,
            "left": null,
            "margin": null,
            "max_height": null,
            "max_width": null,
            "min_height": null,
            "min_width": null,
            "object_fit": null,
            "object_position": null,
            "order": null,
            "overflow": null,
            "overflow_x": null,
            "overflow_y": null,
            "padding": null,
            "right": null,
            "top": null,
            "visibility": null,
            "width": null
          }
        },
        "2ea25cf3d21a41a7baf8426d15c687fd": {
          "model_module": "@jupyter-widgets/controls",
          "model_name": "ProgressStyleModel",
          "model_module_version": "1.5.0",
          "state": {
            "_model_module": "@jupyter-widgets/controls",
            "_model_module_version": "1.5.0",
            "_model_name": "ProgressStyleModel",
            "_view_count": null,
            "_view_module": "@jupyter-widgets/base",
            "_view_module_version": "1.2.0",
            "_view_name": "StyleView",
            "bar_color": null,
            "description_width": ""
          }
        },
        "ebf2c5b0796346568cb80135bdc87c6a": {
          "model_module": "@jupyter-widgets/base",
          "model_name": "LayoutModel",
          "model_module_version": "1.2.0",
          "state": {
            "_model_module": "@jupyter-widgets/base",
            "_model_module_version": "1.2.0",
            "_model_name": "LayoutModel",
            "_view_count": null,
            "_view_module": "@jupyter-widgets/base",
            "_view_module_version": "1.2.0",
            "_view_name": "LayoutView",
            "align_content": null,
            "align_items": null,
            "align_self": null,
            "border": null,
            "bottom": null,
            "display": null,
            "flex": null,
            "flex_flow": null,
            "grid_area": null,
            "grid_auto_columns": null,
            "grid_auto_flow": null,
            "grid_auto_rows": null,
            "grid_column": null,
            "grid_gap": null,
            "grid_row": null,
            "grid_template_areas": null,
            "grid_template_columns": null,
            "grid_template_rows": null,
            "height": null,
            "justify_content": null,
            "justify_items": null,
            "left": null,
            "margin": null,
            "max_height": null,
            "max_width": null,
            "min_height": null,
            "min_width": null,
            "object_fit": null,
            "object_position": null,
            "order": null,
            "overflow": null,
            "overflow_x": null,
            "overflow_y": null,
            "padding": null,
            "right": null,
            "top": null,
            "visibility": null,
            "width": null
          }
        },
        "90ef3a857ded493db6b761156572a705": {
          "model_module": "@jupyter-widgets/controls",
          "model_name": "DescriptionStyleModel",
          "model_module_version": "1.5.0",
          "state": {
            "_model_module": "@jupyter-widgets/controls",
            "_model_module_version": "1.5.0",
            "_model_name": "DescriptionStyleModel",
            "_view_count": null,
            "_view_module": "@jupyter-widgets/base",
            "_view_module_version": "1.2.0",
            "_view_name": "StyleView",
            "description_width": ""
          }
        },
        "dca703537c4a49a9a208b2dfa5e77a80": {
          "model_module": "@jupyter-widgets/controls",
          "model_name": "HBoxModel",
          "model_module_version": "1.5.0",
          "state": {
            "_dom_classes": [],
            "_model_module": "@jupyter-widgets/controls",
            "_model_module_version": "1.5.0",
            "_model_name": "HBoxModel",
            "_view_count": null,
            "_view_module": "@jupyter-widgets/controls",
            "_view_module_version": "1.5.0",
            "_view_name": "HBoxView",
            "box_style": "",
            "children": [
              "IPY_MODEL_2c3eefb49ee44e51807a1e916304ff49",
              "IPY_MODEL_1f68e8fe389144478190eae737114058",
              "IPY_MODEL_68d20d6672f445d8baed723e2f0c2704"
            ],
            "layout": "IPY_MODEL_1b069428f80b48ee823fd0f7c09d08df"
          }
        },
        "2c3eefb49ee44e51807a1e916304ff49": {
          "model_module": "@jupyter-widgets/controls",
          "model_name": "HTMLModel",
          "model_module_version": "1.5.0",
          "state": {
            "_dom_classes": [],
            "_model_module": "@jupyter-widgets/controls",
            "_model_module_version": "1.5.0",
            "_model_name": "HTMLModel",
            "_view_count": null,
            "_view_module": "@jupyter-widgets/controls",
            "_view_module_version": "1.5.0",
            "_view_name": "HTMLView",
            "description": "",
            "description_tooltip": null,
            "layout": "IPY_MODEL_2f553efe3ac14420a8e0345b540e7ae8",
            "placeholder": "​",
            "style": "IPY_MODEL_542c7c3fa51145488f576c605705b044",
            "value": "Predicting DataLoader 0: 100%"
          }
        },
        "1f68e8fe389144478190eae737114058": {
          "model_module": "@jupyter-widgets/controls",
          "model_name": "FloatProgressModel",
          "model_module_version": "1.5.0",
          "state": {
            "_dom_classes": [],
            "_model_module": "@jupyter-widgets/controls",
            "_model_module_version": "1.5.0",
            "_model_name": "FloatProgressModel",
            "_view_count": null,
            "_view_module": "@jupyter-widgets/controls",
            "_view_module_version": "1.5.0",
            "_view_name": "ProgressView",
            "bar_style": "success",
            "description": "",
            "description_tooltip": null,
            "layout": "IPY_MODEL_a2f261254a7b45d58e647a1007713a51",
            "max": 1,
            "min": 0,
            "orientation": "horizontal",
            "style": "IPY_MODEL_dda2cd1b64c547448e82147c6933909b",
            "value": 1
          }
        },
        "68d20d6672f445d8baed723e2f0c2704": {
          "model_module": "@jupyter-widgets/controls",
          "model_name": "HTMLModel",
          "model_module_version": "1.5.0",
          "state": {
            "_dom_classes": [],
            "_model_module": "@jupyter-widgets/controls",
            "_model_module_version": "1.5.0",
            "_model_name": "HTMLModel",
            "_view_count": null,
            "_view_module": "@jupyter-widgets/controls",
            "_view_module_version": "1.5.0",
            "_view_name": "HTMLView",
            "description": "",
            "description_tooltip": null,
            "layout": "IPY_MODEL_838e8494f841484c92d77f947d92277c",
            "placeholder": "​",
            "style": "IPY_MODEL_62908fb55e614738961c6799c05f15f0",
            "value": " 1/1 [00:00&lt;00:00, 36.97it/s]"
          }
        },
        "1b069428f80b48ee823fd0f7c09d08df": {
          "model_module": "@jupyter-widgets/base",
          "model_name": "LayoutModel",
          "model_module_version": "1.2.0",
          "state": {
            "_model_module": "@jupyter-widgets/base",
            "_model_module_version": "1.2.0",
            "_model_name": "LayoutModel",
            "_view_count": null,
            "_view_module": "@jupyter-widgets/base",
            "_view_module_version": "1.2.0",
            "_view_name": "LayoutView",
            "align_content": null,
            "align_items": null,
            "align_self": null,
            "border": null,
            "bottom": null,
            "display": "inline-flex",
            "flex": null,
            "flex_flow": "row wrap",
            "grid_area": null,
            "grid_auto_columns": null,
            "grid_auto_flow": null,
            "grid_auto_rows": null,
            "grid_column": null,
            "grid_gap": null,
            "grid_row": null,
            "grid_template_areas": null,
            "grid_template_columns": null,
            "grid_template_rows": null,
            "height": null,
            "justify_content": null,
            "justify_items": null,
            "left": null,
            "margin": null,
            "max_height": null,
            "max_width": null,
            "min_height": null,
            "min_width": null,
            "object_fit": null,
            "object_position": null,
            "order": null,
            "overflow": null,
            "overflow_x": null,
            "overflow_y": null,
            "padding": null,
            "right": null,
            "top": null,
            "visibility": null,
            "width": "100%"
          }
        },
        "2f553efe3ac14420a8e0345b540e7ae8": {
          "model_module": "@jupyter-widgets/base",
          "model_name": "LayoutModel",
          "model_module_version": "1.2.0",
          "state": {
            "_model_module": "@jupyter-widgets/base",
            "_model_module_version": "1.2.0",
            "_model_name": "LayoutModel",
            "_view_count": null,
            "_view_module": "@jupyter-widgets/base",
            "_view_module_version": "1.2.0",
            "_view_name": "LayoutView",
            "align_content": null,
            "align_items": null,
            "align_self": null,
            "border": null,
            "bottom": null,
            "display": null,
            "flex": null,
            "flex_flow": null,
            "grid_area": null,
            "grid_auto_columns": null,
            "grid_auto_flow": null,
            "grid_auto_rows": null,
            "grid_column": null,
            "grid_gap": null,
            "grid_row": null,
            "grid_template_areas": null,
            "grid_template_columns": null,
            "grid_template_rows": null,
            "height": null,
            "justify_content": null,
            "justify_items": null,
            "left": null,
            "margin": null,
            "max_height": null,
            "max_width": null,
            "min_height": null,
            "min_width": null,
            "object_fit": null,
            "object_position": null,
            "order": null,
            "overflow": null,
            "overflow_x": null,
            "overflow_y": null,
            "padding": null,
            "right": null,
            "top": null,
            "visibility": null,
            "width": null
          }
        },
        "542c7c3fa51145488f576c605705b044": {
          "model_module": "@jupyter-widgets/controls",
          "model_name": "DescriptionStyleModel",
          "model_module_version": "1.5.0",
          "state": {
            "_model_module": "@jupyter-widgets/controls",
            "_model_module_version": "1.5.0",
            "_model_name": "DescriptionStyleModel",
            "_view_count": null,
            "_view_module": "@jupyter-widgets/base",
            "_view_module_version": "1.2.0",
            "_view_name": "StyleView",
            "description_width": ""
          }
        },
        "a2f261254a7b45d58e647a1007713a51": {
          "model_module": "@jupyter-widgets/base",
          "model_name": "LayoutModel",
          "model_module_version": "1.2.0",
          "state": {
            "_model_module": "@jupyter-widgets/base",
            "_model_module_version": "1.2.0",
            "_model_name": "LayoutModel",
            "_view_count": null,
            "_view_module": "@jupyter-widgets/base",
            "_view_module_version": "1.2.0",
            "_view_name": "LayoutView",
            "align_content": null,
            "align_items": null,
            "align_self": null,
            "border": null,
            "bottom": null,
            "display": null,
            "flex": "2",
            "flex_flow": null,
            "grid_area": null,
            "grid_auto_columns": null,
            "grid_auto_flow": null,
            "grid_auto_rows": null,
            "grid_column": null,
            "grid_gap": null,
            "grid_row": null,
            "grid_template_areas": null,
            "grid_template_columns": null,
            "grid_template_rows": null,
            "height": null,
            "justify_content": null,
            "justify_items": null,
            "left": null,
            "margin": null,
            "max_height": null,
            "max_width": null,
            "min_height": null,
            "min_width": null,
            "object_fit": null,
            "object_position": null,
            "order": null,
            "overflow": null,
            "overflow_x": null,
            "overflow_y": null,
            "padding": null,
            "right": null,
            "top": null,
            "visibility": null,
            "width": null
          }
        },
        "dda2cd1b64c547448e82147c6933909b": {
          "model_module": "@jupyter-widgets/controls",
          "model_name": "ProgressStyleModel",
          "model_module_version": "1.5.0",
          "state": {
            "_model_module": "@jupyter-widgets/controls",
            "_model_module_version": "1.5.0",
            "_model_name": "ProgressStyleModel",
            "_view_count": null,
            "_view_module": "@jupyter-widgets/base",
            "_view_module_version": "1.2.0",
            "_view_name": "StyleView",
            "bar_color": null,
            "description_width": ""
          }
        },
        "838e8494f841484c92d77f947d92277c": {
          "model_module": "@jupyter-widgets/base",
          "model_name": "LayoutModel",
          "model_module_version": "1.2.0",
          "state": {
            "_model_module": "@jupyter-widgets/base",
            "_model_module_version": "1.2.0",
            "_model_name": "LayoutModel",
            "_view_count": null,
            "_view_module": "@jupyter-widgets/base",
            "_view_module_version": "1.2.0",
            "_view_name": "LayoutView",
            "align_content": null,
            "align_items": null,
            "align_self": null,
            "border": null,
            "bottom": null,
            "display": null,
            "flex": null,
            "flex_flow": null,
            "grid_area": null,
            "grid_auto_columns": null,
            "grid_auto_flow": null,
            "grid_auto_rows": null,
            "grid_column": null,
            "grid_gap": null,
            "grid_row": null,
            "grid_template_areas": null,
            "grid_template_columns": null,
            "grid_template_rows": null,
            "height": null,
            "justify_content": null,
            "justify_items": null,
            "left": null,
            "margin": null,
            "max_height": null,
            "max_width": null,
            "min_height": null,
            "min_width": null,
            "object_fit": null,
            "object_position": null,
            "order": null,
            "overflow": null,
            "overflow_x": null,
            "overflow_y": null,
            "padding": null,
            "right": null,
            "top": null,
            "visibility": null,
            "width": null
          }
        },
        "62908fb55e614738961c6799c05f15f0": {
          "model_module": "@jupyter-widgets/controls",
          "model_name": "DescriptionStyleModel",
          "model_module_version": "1.5.0",
          "state": {
            "_model_module": "@jupyter-widgets/controls",
            "_model_module_version": "1.5.0",
            "_model_name": "DescriptionStyleModel",
            "_view_count": null,
            "_view_module": "@jupyter-widgets/base",
            "_view_module_version": "1.2.0",
            "_view_name": "StyleView",
            "description_width": ""
          }
        }
      }
    }
  },
  "nbformat": 4,
  "nbformat_minor": 0
}