{
  "nbformat": 4,
  "nbformat_minor": 0,
  "metadata": {
    "colab": {
      "provenance": [],
      "machine_shape": "hm",
      "include_colab_link": true
    },
    "kernelspec": {
      "name": "python3",
      "display_name": "Python 3"
    },
    "language_info": {
      "name": "python"
    },
    "accelerator": "GPU",
    "gpuClass": "standard"
  },
  "cells": [
    {
      "cell_type": "markdown",
      "metadata": {
        "id": "view-in-github",
        "colab_type": "text"
      },
      "source": [
        "<a href=\"https://colab.research.google.com/github/arumajirou/-daily-test/blob/main/FILM_Gdrive.ipynb\" target=\"_parent\"><img src=\"https://colab.research.google.com/assets/colab-badge.svg\" alt=\"Open In Colab\"/></a>"
      ]
    },
    {
      "cell_type": "markdown",
      "source": [
        "# **FILM Colab **\n",
        "フレーム補間処理方法の詳細については、githubを参照してください。\n",
        "\n",
        "---\n",
        "\n",
        "\n",
        "\n",
        "Derrick SchultzによるGDriveとの統合強化およびその他の細かい修正。\n",
        "\n",
        "Pro/+をお持ちの方は、ぜひ「High RAM」設定をご利用ください。\n"
      ],
      "metadata": {
        "id": "JfVPO1I1sVbx"
      }
    },
    {
      "cell_type": "code",
      "source": [
        "#@title ##Google Driveへアクセス\n",
        "\n",
        "import os\n",
        "from google.colab import drive\n",
        "drive.mount('/content/gdrive', force_remount=True)\n",
        "%cd /content/gdrive/MyDrive\n",
        "HOME='/content/gdrive/MyDrive'\n",
        "!nvidia-smi"
      ],
      "metadata": {
        "id": "ujdM_NkvkZWn",
        "colab": {
          "base_uri": "https://localhost:8080/",
          "height": 962
        },
        "outputId": "a0147c23-9db5-4403-e92e-afc85a2bc5b4"
      },
      "execution_count": 8,
      "outputs": [
        {
          "output_type": "stream",
          "name": "stderr",
          "text": [
            "ERROR:root:Internal Python error in the inspect module.\n",
            "Below is the traceback from this internal error.\n",
            "\n"
          ]
        },
        {
          "output_type": "stream",
          "name": "stdout",
          "text": [
            "Mounted at /content/gdrive\n",
            "Traceback (most recent call last):\n",
            "  File \"/usr/local/lib/python3.8/dist-packages/IPython/core/interactiveshell.py\", line 3326, in run_code\n",
            "    exec(code_obj, self.user_global_ns, self.user_ns)\n",
            "  File \"<ipython-input-8-de8c7fc9ad7c>\", line 6, in <module>\n",
            "    get_ipython().run_line_magic('cd', '/content/gdrive/MyDrive')\n",
            "  File \"/usr/local/lib/python3.8/dist-packages/IPython/core/interactiveshell.py\", line 2314, in run_line_magic\n",
            "    result = fn(*args, **kwargs)\n",
            "  File \"<decorator-gen-85>\", line 2, in cd\n",
            "  File \"/usr/local/lib/python3.8/dist-packages/IPython/core/magic.py\", line 187, in <lambda>\n",
            "    call = lambda f, *a, **k: f(*a, **k)\n",
            "  File \"/usr/local/lib/python3.8/dist-packages/IPython/core/magics/osm.py\", line 334, in cd\n",
            "    oldcwd = os.getcwd()\n",
            "OSError: [Errno 107] Transport endpoint is not connected\n",
            "\n",
            "During handling of the above exception, another exception occurred:\n",
            "\n",
            "Traceback (most recent call last):\n",
            "  File \"/usr/local/lib/python3.8/dist-packages/IPython/core/interactiveshell.py\", line 2040, in showtraceback\n",
            "    stb = value._render_traceback_()\n",
            "AttributeError: 'OSError' object has no attribute '_render_traceback_'\n",
            "\n",
            "During handling of the above exception, another exception occurred:\n",
            "\n",
            "Traceback (most recent call last):\n",
            "  File \"/usr/local/lib/python3.8/dist-packages/IPython/core/ultratb.py\", line 1101, in get_records\n",
            "    return _fixed_getinnerframes(etb, number_of_lines_of_context, tb_offset)\n",
            "  File \"/usr/local/lib/python3.8/dist-packages/IPython/core/ultratb.py\", line 319, in wrapped\n",
            "    return f(*args, **kwargs)\n",
            "  File \"/usr/local/lib/python3.8/dist-packages/IPython/core/ultratb.py\", line 353, in _fixed_getinnerframes\n",
            "    records = fix_frame_records_filenames(inspect.getinnerframes(etb, context))\n",
            "  File \"/usr/lib/python3.8/inspect.py\", line 1515, in getinnerframes\n",
            "    frameinfo = (tb.tb_frame,) + getframeinfo(tb, context)\n",
            "  File \"/usr/lib/python3.8/inspect.py\", line 1473, in getframeinfo\n",
            "    filename = getsourcefile(frame) or getfile(frame)\n",
            "  File \"/usr/lib/python3.8/inspect.py\", line 708, in getsourcefile\n",
            "    if getattr(getmodule(object, filename), '__loader__', None) is not None:\n",
            "  File \"/usr/lib/python3.8/inspect.py\", line 737, in getmodule\n",
            "    file = getabsfile(object, _filename)\n",
            "  File \"/usr/lib/python3.8/inspect.py\", line 721, in getabsfile\n",
            "    return os.path.normcase(os.path.abspath(_filename))\n",
            "  File \"/usr/lib/python3.8/posixpath.py\", line 379, in abspath\n",
            "    cwd = os.getcwd()\n",
            "OSError: [Errno 107] Transport endpoint is not connected\n"
          ]
        },
        {
          "output_type": "error",
          "ename": "OSError",
          "evalue": "ignored",
          "traceback": [
            "\u001b[0;31m---------------------------------------------------------------------------\u001b[0m"
          ]
        }
      ]
    },
    {
      "cell_type": "code",
      "source": [
        "#@title ##github.com/google-researchからフレーム補間のソースコードをクローン(リモートリポジトリをそのまま自分のローカル環境（自分のPC上）へ複製（コピー）する機能)する。\n",
        "if not os.path.isdir(f'{HOME}/frame-interpolation'):\n",
        "  !git clone https://github.com/google-research/frame-interpolation\n",
        "%cd frame-interpolation"
      ],
      "metadata": {
        "id": "el_ckJCqiUdc"
      },
      "execution_count": null,
      "outputs": []
    },
    {
      "cell_type": "code",
      "source": [
        "#@title ##FILMのインストール、google-driveから訓練済みの計算式／計算方法ダウンロード\n",
        "!pip install -r requirements.txt\n",
        "if not os.path.isdir(f'{HOME}/frame-interpolation/pretrained_models'):\n",
        "  !gdown 1C1YwOo293_yrgSS8tAyFbbVcMeXxzftE -O pretrained_models-20220214T214839Z-001.zip\n",
        "  !unzip -o \"pretrained_models-20220214T214839Z-001.zip\"\n",
        "  !rm -rf pretrained_models-20220214T214839Z-001.zip"
      ],
      "metadata": {
        "id": "X3ZO5P0itvjx"
      },
      "execution_count": null,
      "outputs": []
    },
    {
      "cell_type": "code",
      "source": [
        "#@markdown ##FILM補間器の実行\n",
        "#@markdown input_folderは、補間する入力フレームのフルパスです。\n",
        "#@markdown この例では、クローンしたレポの中の「photos」フォルダを指しています。\n",
        "\n",
        "input_folder = '/content/gdrive/MyDrive/frame-interpolation/photos' #@param {type:\"string\"}\n",
        "recursion_times = 6 #@param {type:\"slider\", min:1, max:10, step:1}\n",
        "\n",
        "model_path = 'pretrained_models/film_net/Style/saved_model'\n",
        "!python3 -m eval.interpolator_cli \\\n",
        "   --pattern $input_folder \\\n",
        "   --model_path $model_path \\\n",
        "   --times_to_interpolate $recursion_times \\\n",
        "   --output_video\n",
        "#@markdown 補間されたフレームは{input_folder}/interpolated_framesに保存されます。\n",
        "\n",
        "#@markdown 出力映像は{input_folder}/interpolated.mp4になります。"
      ],
      "metadata": {
        "id": "aefS-OV3mT5a"
      },
      "execution_count": null,
      "outputs": []
    },
    {
      "cell_type": "code",
      "source": [
        "#@title ## 補間された動画を表示します。\n",
        "import mediapy as media\n",
        "video = media.read_video('photos/interpolated.mp4')\n",
        "media.show_video(video, fps=30)"
      ],
      "metadata": {
        "id": "Uy4zjpYFee8X"
      },
      "execution_count": null,
      "outputs": []
    }
  ]
}