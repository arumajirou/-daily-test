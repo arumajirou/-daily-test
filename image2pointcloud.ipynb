{
  "cells": [
    {
      "cell_type": "markdown",
      "metadata": {
        "id": "view-in-github",
        "colab_type": "text"
      },
      "source": [
        "<a href=\"https://colab.research.google.com/github/arumajirou/-daily-test/blob/main/image2pointcloud.ipynb\" target=\"_parent\"><img src=\"https://colab.research.google.com/assets/colab-badge.svg\" alt=\"Open In Colab\"/></a>"
      ]
    },
    {
      "cell_type": "markdown",
      "source": [
        "# 1. **Point-E**\n",
        "「**Point-E**」は、**画像**や**テキスト**から**3Dポイントクラウドを生成**するAIモデルです。\n",
        "\n",
        "他の3D生成AIと比べ、**圧倒的に高速に3D生成**できます。\n",
        "<img src=\"https://github.com/openai/point-e/raw/main/point_e/examples/paper_banner.gif\" alt=\" Point-E\" title=\" Point-E\">\n",
        "\n",
        "---\n",
        "　非営利団体OpenAIの研究者らは、テキストから**3Dモデルを生成するAI** **「Point-E」**を開発し、GitHubでそのソースコードを公開した。\n",
        "\n",
        "　Point-Eで生成される3Dモデル、**ポリゴン**によって**面が構成されるモデル**ではなく、**RGBで染色された複数の点が雲のように集まった集合体**による3Dモデルだ。\n",
        "\n",
        "　**テキスト**はまず**GLIDE**と呼ばれるモデルによって見え方が合成され、そのあと**条件付された粗い点の集まり(1,024ポイント)**を生成。最後に、**4,096ポイントからなる点の集まりが生成される。**\n",
        "\n",
        "　3Dモデルの生成は、**物体の3次元的な構造**を理解していないと行なえないため、**2Dの生成**より**難易度がはるかに高い**。そのため論文の中で失敗例も多く挙げている。研究者らは**「Point-Eはテキストから3Dを合成する技術の出発点になるだろう」**としている。\n",
        "https://pc.watch.impress.co.jp/docs/news/1465560.html\n",
        "\n",
        "---\n",
        "\n",
        "画像生成AI「DALL-E 2」やテキスト生成AI「GPT-3」、対話AI「ChatGPT」を開発する研究団体のOpenAIが、**テキスト**から**3Dオブジェクトを生成するAI「Point-E」**をオープンソース化し、ソースコードをGitHubで公開しました。\n",
        "\n",
        "Point-Eは主に\n",
        "- **「テキストから画像を生成するモデル」**\n",
        "- **「画像から点群データを生成するモデル」**\n",
        "\n",
        "の2つで構成されています。\n",
        "\n",
        "**テキストから画像を生成するモデル**は、Stable DiffusionやOpenAI開発のDALL-E 2などの画像生成AIと同じように、**ラベル付き画像のデータセットでテキストと視覚的概念の関連付けを理解したモデル**です。\n",
        "**「画像から点群データを生成するモデル」**は、**3Dオブジェクトとセットになった画像のデータセット**から、**両者の効果的な変換を学習したモデル**です。\n",
        "\n",
        "以下は実際に画像(左)から点群データ(右)を生成したところ。\n",
        "<img src=\"https://i.gzn.jp/img/2022/12/21/openai-point-e/02_m.png\" alt=\" Point-E\" title=\" Point-E\">\n",
        "\n",
        "Point-Eが生成する3Dオブジェクトはポリゴンを組み合わせたものではなく、**「空間上のデータ点の離散的な集合」**、すなわち**粒子をギュッと固めたような点群データで生成**されます。そのため、Point-Eには**「点群データをポリゴンメッシュ((メッシュとは、オブジェクトを定義する頂点、辺、面の集まりで、3Dモデリングやデザインによく使われるもの）)に変換するモデル」**も含まれています。\n",
        "<img src=\"https://i.gzn.jp/img/2022/12/21/openai-point-e/03_m.png\" alt=\" Point-E\" title=\" Point-E\">\n",
        "\n",
        "そして、Point-Eには**点群からポリゴンメッシュに変換するAI**も含まれています。点群のモデルはポリゴンメッシュよりも**高速に生成できる**ため、**3Dオブジェクトの生成が従来の600倍以上も高速化**しているとのこと。これまでNVIDIA V100で何時間もかかっていた計算がわずか**1～2分**で済むようになっているのが**Point-Eの大きな利点**です。\n",
        "\n",
        "ただし、**物体の細かい形状や質感を捉えることができないというデメリット**があり、形状の一部分がどうしても**ブロック状**になったり**歪んでしまったり**することもあるとのこと。\n",
        "\n",
        "以下は実際に画像から点群データの生成に失敗してしまった例。\n",
        "<img src=\"https://i.gzn.jp/img/2022/12/21/openai-point-e/04_m.png\" alt=\" Point-E\" title=\" Point-E\">\n",
        "\n",
        "https://gigazine.net/news/20221221-openai-point-e/\n",
        "\n",
        "---\n",
        "\n",
        "　米AI研究企業OpenAIの研究者らは12月19日（現地時間）、**テキストプロンプトから3Dオブジェクトを生成するAIシステム「Point-E」**をオープンソース化したと発表した。\n",
        "\n",
        "　同様のシステムとしては**米Googleの「DreamFusion」**などがあるが、発表論文によると、Point-Eは例えば**単体のGPU（米NVIDIAの「V100」）でも3Dモデルを1～2分で生成できる**という。\n",
        "\n",
        "　Point-Eは、**点群（point cloud）で3Dオブジェクトを生成する。**名称の**「E」は点群を効率的（Efficiently）に生成する**ことに由来するという。\n",
        "\n",
        "　**3D生成は2段階**で行われる。まず**プロンプトを入力**すると、**レンダリングされた合成ビューが生成**され、次に**点群拡散スタック**が**この画像を条件付けして3DのRGB点群を生成**する\n",
        "\n",
        "<img src=\"https://image.itmedia.co.jp/news/articles/2212/21/yu_3d1.jpg\" alt=\" Point-E\" title=\" Point-E\">\n",
        "\n",
        "　「この方法は、最先端の他の類似技術よりも性能は劣る」が、**DreamFusion**のような**マルチビュー最適化ベース**の方法よりも**短時間でサンプルが生成できる**ので、**実用的になる可能性がある**としている。3Dモデルが短時間で容易に生成できるようになれば、ゲームや映画などの制作に役立ちそうだ。"
      ],
      "metadata": {
        "id": "K2nEiNQmhLQw"
      }
    },
    {
      "cell_type": "code",
      "source": [
        "#@title ##python バージョン\n",
        "!python -V "
      ],
      "metadata": {
        "id": "GJxkUuQYowL2",
        "outputId": "08fbd1d0-7fcd-4c4c-9b42-406df9536b10",
        "colab": {
          "base_uri": "https://localhost:8080/"
        }
      },
      "execution_count": 10,
      "outputs": [
        {
          "output_type": "stream",
          "name": "stdout",
          "text": [
            "Python 3.8.16\n"
          ]
        }
      ]
    },
    {
      "cell_type": "code",
      "source": [
        "#@title #OS情報\n",
        "!uname -a "
      ],
      "metadata": {
        "id": "z956UAPSo0me",
        "outputId": "31d28cba-261a-4cc2-e2dc-736e3590b366",
        "colab": {
          "base_uri": "https://localhost:8080/"
        }
      },
      "execution_count": 11,
      "outputs": [
        {
          "output_type": "stream",
          "name": "stdout",
          "text": [
            "Linux a41ed3313e39 5.10.133+ #1 SMP Fri Aug 26 08:44:51 UTC 2022 x86_64 x86_64 x86_64 GNU/Linux\n"
          ]
        }
      ]
    },
    {
      "cell_type": "code",
      "source": [
        "#@title #OSのバージョン等を確認\n",
        "!cat /etc/os-release"
      ],
      "metadata": {
        "id": "T8uGfgGDpFcc",
        "outputId": "9fe68640-da8b-4b4b-8300-411fba87eee3",
        "colab": {
          "base_uri": "https://localhost:8080/"
        }
      },
      "execution_count": 13,
      "outputs": [
        {
          "output_type": "stream",
          "name": "stdout",
          "text": [
            "NAME=\"Ubuntu\"\n",
            "VERSION=\"18.04.6 LTS (Bionic Beaver)\"\n",
            "ID=ubuntu\n",
            "ID_LIKE=debian\n",
            "PRETTY_NAME=\"Ubuntu 18.04.6 LTS\"\n",
            "VERSION_ID=\"18.04\"\n",
            "HOME_URL=\"https://www.ubuntu.com/\"\n",
            "SUPPORT_URL=\"https://help.ubuntu.com/\"\n",
            "BUG_REPORT_URL=\"https://bugs.launchpad.net/ubuntu/\"\n",
            "PRIVACY_POLICY_URL=\"https://www.ubuntu.com/legal/terms-and-policies/privacy-policy\"\n",
            "VERSION_CODENAME=bionic\n",
            "UBUNTU_CODENAME=bionic\n"
          ]
        }
      ]
    },
    {
      "cell_type": "markdown",
      "source": [
        "(1) メニュー「**編集→ノートブックの設定**」で、「**ハードウェアアクセラレータ**」に「**GPU**」を選択。\n",
        "\n",
        "(2) **パッケージのインストール。**"
      ],
      "metadata": {
        "id": "JffiqP_0hyJr"
      }
    },
    {
      "cell_type": "code",
      "source": [
        "#@title # パッケージのインストール\n",
        "#git cloneとは、既存のリポジトリをローカル環境に複製するコマンドのことです。\n",
        "#git clone https://github.com/[ユーザー名]/[リポジトリ名].git\n",
        "!git clone https://github.com/openai/point-e.git\n",
        "%cd point-e\n",
        "!pip install .."
      ],
      "metadata": {
        "colab": {
          "base_uri": "https://localhost:8080/"
        },
        "id": "lfEa8oT5a9bJ",
        "outputId": "1c81d754-9d8e-41be-eb75-894b075b0b9a"
      },
      "execution_count": 4,
      "outputs": [
        {
          "output_type": "stream",
          "name": "stdout",
          "text": [
            "Cloning into 'point-e'...\n",
            "remote: Enumerating objects: 57, done.\u001b[K\n",
            "remote: Counting objects: 100% (15/15), done.\u001b[K\n",
            "remote: Compressing objects: 100% (13/13), done.\u001b[K\n",
            "remote: Total 57 (delta 3), reused 2 (delta 2), pack-reused 42\u001b[K\n",
            "Unpacking objects: 100% (57/57), done.\n",
            "/content/point-e/point-e\n",
            "Looking in indexes: https://pypi.org/simple, https://us-python.pkg.dev/colab-wheels/public/simple/\n",
            "Processing /content/point-e\n",
            "\u001b[33m  DEPRECATION: A future pip version will change local packages to be built in-place without first copying to a temporary directory. We recommend you use --use-feature=in-tree-build to test your packages with this new behavior before it becomes the default.\n",
            "   pip 21.3 will remove support for this functionality. You can find discussion regarding this at https://github.com/pypa/pip/issues/7555.\u001b[0m\n",
            "Collecting clip@ git+https://github.com/openai/CLIP.git\n",
            "  Cloning https://github.com/openai/CLIP.git to /tmp/pip-install-txyx4iub/clip_2769272c7157467fb28a2389d6274880\n",
            "  Running command git clone -q https://github.com/openai/CLIP.git /tmp/pip-install-txyx4iub/clip_2769272c7157467fb28a2389d6274880\n",
            "Requirement already satisfied: filelock in /usr/local/lib/python3.8/dist-packages (from point-e==0.0.0) (3.8.2)\n",
            "Requirement already satisfied: Pillow in /usr/local/lib/python3.8/dist-packages (from point-e==0.0.0) (7.1.2)\n",
            "Requirement already satisfied: torch in /usr/local/lib/python3.8/dist-packages (from point-e==0.0.0) (1.13.0+cu116)\n",
            "Collecting fire\n",
            "  Downloading fire-0.5.0.tar.gz (88 kB)\n",
            "\u001b[K     |████████████████████████████████| 88 kB 4.8 MB/s \n",
            "\u001b[?25hRequirement already satisfied: humanize in /usr/local/lib/python3.8/dist-packages (from point-e==0.0.0) (0.5.1)\n",
            "Requirement already satisfied: requests in /usr/local/lib/python3.8/dist-packages (from point-e==0.0.0) (2.23.0)\n",
            "Requirement already satisfied: tqdm in /usr/local/lib/python3.8/dist-packages (from point-e==0.0.0) (4.64.1)\n",
            "Requirement already satisfied: matplotlib in /usr/local/lib/python3.8/dist-packages (from point-e==0.0.0) (3.2.2)\n",
            "Requirement already satisfied: scikit-image in /usr/local/lib/python3.8/dist-packages (from point-e==0.0.0) (0.18.3)\n",
            "Requirement already satisfied: scipy in /usr/local/lib/python3.8/dist-packages (from point-e==0.0.0) (1.7.3)\n",
            "Requirement already satisfied: numpy in /usr/local/lib/python3.8/dist-packages (from point-e==0.0.0) (1.21.6)\n",
            "Collecting ftfy\n",
            "  Downloading ftfy-6.1.1-py3-none-any.whl (53 kB)\n",
            "\u001b[K     |████████████████████████████████| 53 kB 1.9 MB/s \n",
            "\u001b[?25hRequirement already satisfied: regex in /usr/local/lib/python3.8/dist-packages (from clip@ git+https://github.com/openai/CLIP.git->point-e==0.0.0) (2022.6.2)\n",
            "Requirement already satisfied: torchvision in /usr/local/lib/python3.8/dist-packages (from clip@ git+https://github.com/openai/CLIP.git->point-e==0.0.0) (0.14.0+cu116)\n",
            "Requirement already satisfied: six in /usr/local/lib/python3.8/dist-packages (from fire->point-e==0.0.0) (1.15.0)\n",
            "Requirement already satisfied: termcolor in /usr/local/lib/python3.8/dist-packages (from fire->point-e==0.0.0) (2.1.1)\n",
            "Requirement already satisfied: wcwidth>=0.2.5 in /usr/local/lib/python3.8/dist-packages (from ftfy->clip@ git+https://github.com/openai/CLIP.git->point-e==0.0.0) (0.2.5)\n",
            "Requirement already satisfied: python-dateutil>=2.1 in /usr/local/lib/python3.8/dist-packages (from matplotlib->point-e==0.0.0) (2.8.2)\n",
            "Requirement already satisfied: cycler>=0.10 in /usr/local/lib/python3.8/dist-packages (from matplotlib->point-e==0.0.0) (0.11.0)\n",
            "Requirement already satisfied: kiwisolver>=1.0.1 in /usr/local/lib/python3.8/dist-packages (from matplotlib->point-e==0.0.0) (1.4.4)\n",
            "Requirement already satisfied: pyparsing!=2.0.4,!=2.1.2,!=2.1.6,>=2.0.1 in /usr/local/lib/python3.8/dist-packages (from matplotlib->point-e==0.0.0) (3.0.9)\n",
            "Requirement already satisfied: idna<3,>=2.5 in /usr/local/lib/python3.8/dist-packages (from requests->point-e==0.0.0) (2.10)\n",
            "Requirement already satisfied: certifi>=2017.4.17 in /usr/local/lib/python3.8/dist-packages (from requests->point-e==0.0.0) (2022.12.7)\n",
            "Requirement already satisfied: urllib3!=1.25.0,!=1.25.1,<1.26,>=1.21.1 in /usr/local/lib/python3.8/dist-packages (from requests->point-e==0.0.0) (1.24.3)\n",
            "Requirement already satisfied: chardet<4,>=3.0.2 in /usr/local/lib/python3.8/dist-packages (from requests->point-e==0.0.0) (3.0.4)\n",
            "Requirement already satisfied: imageio>=2.3.0 in /usr/local/lib/python3.8/dist-packages (from scikit-image->point-e==0.0.0) (2.9.0)\n",
            "Requirement already satisfied: PyWavelets>=1.1.1 in /usr/local/lib/python3.8/dist-packages (from scikit-image->point-e==0.0.0) (1.4.1)\n",
            "Requirement already satisfied: tifffile>=2019.7.26 in /usr/local/lib/python3.8/dist-packages (from scikit-image->point-e==0.0.0) (2022.10.10)\n",
            "Requirement already satisfied: networkx>=2.0 in /usr/local/lib/python3.8/dist-packages (from scikit-image->point-e==0.0.0) (2.8.8)\n",
            "Requirement already satisfied: typing-extensions in /usr/local/lib/python3.8/dist-packages (from torch->point-e==0.0.0) (4.4.0)\n",
            "Building wheels for collected packages: point-e, clip, fire\n",
            "  Building wheel for point-e (setup.py) ... \u001b[?25l\u001b[?25hdone\n",
            "  Created wheel for point-e: filename=point_e-0.0.0-py3-none-any.whl size=49771 sha256=c31c476a131a1fee85fd44f0b0de9b86675dc42ec1f79d00b19580b3844f066b\n",
            "  Stored in directory: /root/.cache/pip/wheels/61/a6/45/2fbd718f8c5ee815730d07981208b756e34538991d5d661792\n",
            "  Building wheel for clip (setup.py) ... \u001b[?25l\u001b[?25hdone\n",
            "  Created wheel for clip: filename=clip-1.0-py3-none-any.whl size=1369408 sha256=8f9d61d8cc95089cd7ebac4a9c56b97df8952c3fb33628de304156815bc62ad6\n",
            "  Stored in directory: /tmp/pip-ephem-wheel-cache-7oyymor2/wheels/ab/4f/3a/5e51521b55997aa6f0690e095c08824219753128ce8d9969a3\n",
            "  Building wheel for fire (setup.py) ... \u001b[?25l\u001b[?25hdone\n",
            "  Created wheel for fire: filename=fire-0.5.0-py2.py3-none-any.whl size=116949 sha256=4db02c60e64bef9a00887d968e729a20b703bd6ca471326dc15866059edd29b0\n",
            "  Stored in directory: /root/.cache/pip/wheels/5b/eb/43/7295e71293b218ddfd627f935229bf54af9018add7fbb5aac6\n",
            "Successfully built point-e clip fire\n",
            "Installing collected packages: ftfy, fire, clip, point-e\n",
            "Successfully installed clip-1.0 fire-0.5.0 ftfy-6.1.1 point-e-0.0.0\n"
          ]
        }
      ]
    },
    {
      "cell_type": "markdown",
      "source": [],
      "metadata": {
        "id": "u6oL1rawhJDG"
      }
    },
    {
      "cell_type": "code",
      "execution_count": 5,
      "metadata": {
        "id": "Yb0K4Zwga0cG"
      },
      "outputs": [],
      "source": [
        "#@title #外部ライブラリをインポート\n",
        "from PIL import Image#Pillow(PIL)のImageオブジェクト\n",
        "import torch#Pytorch\n",
        "from tqdm.auto import tqdm#進捗をプログレスバーとして可視化\n",
        "\n",
        "from point_e.diffusion.configs import DIFFUSION_CONFIGS, diffusion_from_config\n",
        "from point_e.diffusion.sampler import PointCloudSampler\n",
        "from point_e.models.download import load_checkpoint\n",
        "from point_e.models.configs import MODEL_CONFIGS, model_from_config\n",
        "from point_e.util.plotting import plot_point_cloud"
      ]
    },
    {
      "cell_type": "code",
      "execution_count": 6,
      "metadata": {
        "id": "guvIqGzoa0cN",
        "colab": {
          "base_uri": "https://localhost:8080/",
          "height": 191,
          "referenced_widgets": [
            "a7507b625eb94642aa27a79358d2c355",
            "95d3dd8d2479456b9dc4f18c36aa42c1",
            "95de94b4b1914ed68517ace4081aaed5",
            "c4ed9b65e9e14f63b1a7dcd55d54a367",
            "3f7938ded22d41679b507bb2dfde62e4",
            "8220fe4bbc7e4959a48a0b4221cb7022",
            "fa64f9cb7efc4dd2b27a547146afc6e5",
            "a7ca6bedeb784c50bcc132f7704ce085",
            "82d0624023304bd3b1f3c3cff0144936",
            "62e40c6192af487f8cf159a7ab99e07d",
            "39945a07a7594a6d86498264dfd1ccbe",
            "0db8e8f6ebcb4483bf83b3bcaab87fba",
            "127752a8387a45bba9663431fdb2d308",
            "b159c61445614f259facd1e9d6623030",
            "abefb149c58149c3ba7346b68e26cdcc",
            "7f78c34f96254844a02ae8174369b5a2",
            "110ae910aa344a9384df8d81cb2387ee",
            "15eb560524b14e2c8655d95d9770f209",
            "12a2e70d0cd944b3879e12c02bcccd5e",
            "ac88bed75b4049fbbb8d864fdd355c75",
            "565ad85dc9ff42ea81ed0c5907d4688c",
            "4ec1d77bcbbc4829b70c6ac4ceeec7db"
          ]
        },
        "outputId": "ad9ac2bd-0163-47bf-9367-853c947c658b"
      },
      "outputs": [
        {
          "output_type": "stream",
          "name": "stdout",
          "text": [
            "creating base model...\n"
          ]
        },
        {
          "output_type": "stream",
          "name": "stderr",
          "text": [
            "100%|████████████████████████████████████████| 890M/890M [00:07<00:00, 120MiB/s]\n"
          ]
        },
        {
          "output_type": "stream",
          "name": "stdout",
          "text": [
            "creating upsample model...\n",
            "downloading base checkpoint...\n"
          ]
        },
        {
          "output_type": "display_data",
          "data": {
            "text/plain": [
              "  0%|          | 0.00/162M [00:00<?, ?iB/s]"
            ],
            "application/vnd.jupyter.widget-view+json": {
              "version_major": 2,
              "version_minor": 0,
              "model_id": "a7507b625eb94642aa27a79358d2c355"
            }
          },
          "metadata": {}
        },
        {
          "output_type": "stream",
          "name": "stdout",
          "text": [
            "downloading upsampler checkpoint...\n"
          ]
        },
        {
          "output_type": "display_data",
          "data": {
            "text/plain": [
              "  0%|          | 0.00/162M [00:00<?, ?iB/s]"
            ],
            "application/vnd.jupyter.widget-view+json": {
              "version_major": 2,
              "version_minor": 0,
              "model_id": "0db8e8f6ebcb4483bf83b3bcaab87fba"
            }
          },
          "metadata": {}
        },
        {
          "output_type": "execute_result",
          "data": {
            "text/plain": [
              "<All keys matched successfully>"
            ]
          },
          "metadata": {},
          "execution_count": 6
        }
      ],
      "source": [
        "\n",
        "device = torch.device('cuda' if torch.cuda.is_available() else 'cpu')\n",
        "\n",
        "print('creating base model...')\n",
        "base_name = 'base40M' # より良い結果を得るには、base300M または base1B を使用してください\n",
        "base_model = model_from_config(MODEL_CONFIGS[base_name], device)\n",
        "base_model.eval()\n",
        "base_diffusion = diffusion_from_config(DIFFUSION_CONFIGS[base_name])\n",
        "\n",
        "print('creating upsample model...')\n",
        "upsampler_model = model_from_config(MODEL_CONFIGS['upsample'], device)\n",
        "upsampler_model.eval()\n",
        "upsampler_diffusion = diffusion_from_config(DIFFUSION_CONFIGS['upsample'])\n",
        "\n",
        "print('downloading base checkpoint...')\n",
        "base_model.load_state_dict(load_checkpoint(base_name, device))\n",
        "\n",
        "print('downloading upsampler checkpoint...')\n",
        "upsampler_model.load_state_dict(load_checkpoint('upsample', device))"
      ]
    },
    {
      "cell_type": "code",
      "execution_count": 7,
      "metadata": {
        "id": "eXaaSH_aa0cO"
      },
      "outputs": [],
      "source": [
        "sampler = PointCloudSampler(\n",
        "    device=device,\n",
        "    models=[base_model, upsampler_model],\n",
        "    diffusions=[base_diffusion, upsampler_diffusion],\n",
        "    num_points=[1024, 4096 - 1024],\n",
        "    aux_channels=['R', 'G', 'B'],\n",
        "    guidance_scale=[3.0, 3.0],\n",
        ")"
      ]
    },
    {
      "cell_type": "code",
      "execution_count": 8,
      "metadata": {
        "id": "3uJcLwtKa0cP",
        "colab": {
          "base_uri": "https://localhost:8080/",
          "height": 49,
          "referenced_widgets": [
            "42af55d56e7d441cb4b59fb9aef1cae7",
            "72e6b71c05df4d628be438dc2c88ea9c",
            "25414ea7740c422795786902c6f64cea",
            "ee6355fd27874d4a83f077f6618fd488",
            "4018145ffa504a39bb15224959dab313",
            "d2d44a45804b48f881c556fd24480fc6",
            "de4b3d3777f44e9f98926be228e5a14a",
            "657787c0951546edaa0b872bc8a08797",
            "d0bceb1cf50a41eb99c5722a34e3dae9",
            "c85e4503c03841a5a2c689ed94645348",
            "117cb6cf3bf24fcfa1ac96abf1a840d6"
          ]
        },
        "outputId": "63e46250-7452-45c4-b02e-48a56ee29b1b"
      },
      "outputs": [
        {
          "output_type": "display_data",
          "data": {
            "text/plain": [
              "0it [00:00, ?it/s]"
            ],
            "application/vnd.jupyter.widget-view+json": {
              "version_major": 2,
              "version_minor": 0,
              "model_id": "42af55d56e7d441cb4b59fb9aef1cae7"
            }
          },
          "metadata": {}
        }
      ],
      "source": [
        "#条件付けする画像を読み込みます。\n",
        "img = Image.open('/content/point-e/point_e/examples/example_data/cube_stack.jpg')\n",
        "\n",
        "#モデルからサンプルを作成します。\n",
        "samples = None\n",
        "for x in tqdm(sampler.sample_batch_progressive(batch_size=1, model_kwargs=dict(images=[img]))):\n",
        "    samples = x"
      ]
    },
    {
      "cell_type": "code",
      "execution_count": 9,
      "metadata": {
        "id": "2vldIsOua0cQ",
        "colab": {
          "base_uri": "https://localhost:8080/",
          "height": 466
        },
        "outputId": "17c5b2b5-da38-415d-8dc9-cca6525be207"
      },
      "outputs": [
        {
          "output_type": "display_data",
          "data": {
            "text/plain": [
              "<Figure size 576x576 with 9 Axes>"
            ],
            "image/png": "[encoded data removed]"
          },
          "metadata": {
            "needs_background": "light"
          }
        }
      ],
      "source": [
        "pc = sampler.output_to_point_clouds(samples)[0]\n",
        "fig = plot_point_cloud(pc, grid_size=3, fixed_bounds=((-0.75, -0.75, -0.75),(0.75, 0.75, 0.75)))"
      ]
    },
    {
      "cell_type": "code",
      "source": [],
      "metadata": {
        "id": "4CWSPiBEbuAy"
      },
      "execution_count": 9,
      "outputs": []
    }
  ],
  "metadata": {
    "kernelspec": {
      "display_name": "Python 3.9.9 64-bit ('3.9.9')",
      "language": "python",
      "name": "python3"
    },
    "language_info": {
      "codemirror_mode": {
        "name": "ipython",
        "version": 3
      },
      "file_extension": ".py",
      "mimetype": "text/x-python",
      "name": "python",
      "nbconvert_exporter": "python",
      "pygments_lexer": "ipython3",
      "version": "3.9.9"
    },
    "orig_nbformat": 4,
    "vscode": {
      "interpreter": {
        "hash": "b270b0f43bc427bcab7703c037711644cc480aac7c1cc8d2940cfaf0b447ee2e"
      }
    },
    "colab": {
      "provenance": [],
      "machine_shape": "hm",
      "include_colab_link": true
    },
    "accelerator": "GPU",
    "gpuClass": "premium",
    "widgets": {
      "application/vnd.jupyter.widget-state+json": {
        "a7507b625eb94642aa27a79358d2c355": {
          "model_module": "@jupyter-widgets/controls",
          "model_name": "HBoxModel",
          "model_module_version": "1.5.0",
          "state": {
            "_dom_classes": [],
            "_model_module": "@jupyter-widgets/controls",
            "_model_module_version": "1.5.0",
            "_model_name": "HBoxModel",
            "_view_count": null,
            "_view_module": "@jupyter-widgets/controls",
            "_view_module_version": "1.5.0",
            "_view_name": "HBoxView",
            "box_style": "",
            "children": [
              "IPY_MODEL_95d3dd8d2479456b9dc4f18c36aa42c1",
              "IPY_MODEL_95de94b4b1914ed68517ace4081aaed5",
              "IPY_MODEL_c4ed9b65e9e14f63b1a7dcd55d54a367"
            ],
            "layout": "IPY_MODEL_3f7938ded22d41679b507bb2dfde62e4"
          }
        },
        "95d3dd8d2479456b9dc4f18c36aa42c1": {
          "model_module": "@jupyter-widgets/controls",
          "model_name": "HTMLModel",
          "model_module_version": "1.5.0",
          "state": {
            "_dom_classes": [],
            "_model_module": "@jupyter-widgets/controls",
            "_model_module_version": "1.5.0",
            "_model_name": "HTMLModel",
            "_view_count": null,
            "_view_module": "@jupyter-widgets/controls",
            "_view_module_version": "1.5.0",
            "_view_name": "HTMLView",
            "description": "",
            "description_tooltip": null,
            "layout": "IPY_MODEL_8220fe4bbc7e4959a48a0b4221cb7022",
            "placeholder": "​",
            "style": "IPY_MODEL_fa64f9cb7efc4dd2b27a547146afc6e5",
            "value": "100%"
          }
        },
        "95de94b4b1914ed68517ace4081aaed5": {
          "model_module": "@jupyter-widgets/controls",
          "model_name": "FloatProgressModel",
          "model_module_version": "1.5.0",
          "state": {
            "_dom_classes": [],
            "_model_module": "@jupyter-widgets/controls",
            "_model_module_version": "1.5.0",
            "_model_name": "FloatProgressModel",
            "_view_count": null,
            "_view_module": "@jupyter-widgets/controls",
            "_view_module_version": "1.5.0",
            "_view_name": "ProgressView",
            "bar_style": "success",
            "description": "",
            "description_tooltip": null,
            "layout": "IPY_MODEL_a7ca6bedeb784c50bcc132f7704ce085",
            "max": 161918529,
            "min": 0,
            "orientation": "horizontal",
            "style": "IPY_MODEL_82d0624023304bd3b1f3c3cff0144936",
            "value": 161918529
          }
        },
        "c4ed9b65e9e14f63b1a7dcd55d54a367": {
          "model_module": "@jupyter-widgets/controls",
          "model_name": "HTMLModel",
          "model_module_version": "1.5.0",
          "state": {
            "_dom_classes": [],
            "_model_module": "@jupyter-widgets/controls",
            "_model_module_version": "1.5.0",
            "_model_name": "HTMLModel",
            "_view_count": null,
            "_view_module": "@jupyter-widgets/controls",
            "_view_module_version": "1.5.0",
            "_view_name": "HTMLView",
            "description": "",
            "description_tooltip": null,
            "layout": "IPY_MODEL_62e40c6192af487f8cf159a7ab99e07d",
            "placeholder": "​",
            "style": "IPY_MODEL_39945a07a7594a6d86498264dfd1ccbe",
            "value": " 162M/162M [00:03&lt;00:00, 46.9MiB/s]"
          }
        },
        "3f7938ded22d41679b507bb2dfde62e4": {
          "model_module": "@jupyter-widgets/base",
          "model_name": "LayoutModel",
          "model_module_version": "1.2.0",
          "state": {
            "_model_module": "@jupyter-widgets/base",
            "_model_module_version": "1.2.0",
            "_model_name": "LayoutModel",
            "_view_count": null,
            "_view_module": "@jupyter-widgets/base",
            "_view_module_version": "1.2.0",
            "_view_name": "LayoutView",
            "align_content": null,
            "align_items": null,
            "align_self": null,
            "border": null,
            "bottom": null,
            "display": null,
            "flex": null,
            "flex_flow": null,
            "grid_area": null,
            "grid_auto_columns": null,
            "grid_auto_flow": null,
            "grid_auto_rows": null,
            "grid_column": null,
            "grid_gap": null,
            "grid_row": null,
            "grid_template_areas": null,
            "grid_template_columns": null,
            "grid_template_rows": null,
            "height": null,
            "justify_content": null,
            "justify_items": null,
            "left": null,
            "margin": null,
            "max_height": null,
            "max_width": null,
            "min_height": null,
            "min_width": null,
            "object_fit": null,
            "object_position": null,
            "order": null,
            "overflow": null,
            "overflow_x": null,
            "overflow_y": null,
            "padding": null,
            "right": null,
            "top": null,
            "visibility": null,
            "width": null
          }
        },
        "8220fe4bbc7e4959a48a0b4221cb7022": {
          "model_module": "@jupyter-widgets/base",
          "model_name": "LayoutModel",
          "model_module_version": "1.2.0",
          "state": {
            "_model_module": "@jupyter-widgets/base",
            "_model_module_version": "1.2.0",
            "_model_name": "LayoutModel",
            "_view_count": null,
            "_view_module": "@jupyter-widgets/base",
            "_view_module_version": "1.2.0",
            "_view_name": "LayoutView",
            "align_content": null,
            "align_items": null,
            "align_self": null,
            "border": null,
            "bottom": null,
            "display": null,
            "flex": null,
            "flex_flow": null,
            "grid_area": null,
            "grid_auto_columns": null,
            "grid_auto_flow": null,
            "grid_auto_rows": null,
            "grid_column": null,
            "grid_gap": null,
            "grid_row": null,
            "grid_template_areas": null,
            "grid_template_columns": null,
            "grid_template_rows": null,
            "height": null,
            "justify_content": null,
            "justify_items": null,
            "left": null,
            "margin": null,
            "max_height": null,
            "max_width": null,
            "min_height": null,
            "min_width": null,
            "object_fit": null,
            "object_position": null,
            "order": null,
            "overflow": null,
            "overflow_x": null,
            "overflow_y": null,
            "padding": null,
            "right": null,
            "top": null,
            "visibility": null,
            "width": null
          }
        },
        "fa64f9cb7efc4dd2b27a547146afc6e5": {
          "model_module": "@jupyter-widgets/controls",
          "model_name": "DescriptionStyleModel",
          "model_module_version": "1.5.0",
          "state": {
            "_model_module": "@jupyter-widgets/controls",
            "_model_module_version": "1.5.0",
            "_model_name": "DescriptionStyleModel",
            "_view_count": null,
            "_view_module": "@jupyter-widgets/base",
            "_view_module_version": "1.2.0",
            "_view_name": "StyleView",
            "description_width": ""
          }
        },
        "a7ca6bedeb784c50bcc132f7704ce085": {
          "model_module": "@jupyter-widgets/base",
          "model_name": "LayoutModel",
          "model_module_version": "1.2.0",
          "state": {
            "_model_module": "@jupyter-widgets/base",
            "_model_module_version": "1.2.0",
            "_model_name": "LayoutModel",
            "_view_count": null,
            "_view_module": "@jupyter-widgets/base",
            "_view_module_version": "1.2.0",
            "_view_name": "LayoutView",
            "align_content": null,
            "align_items": null,
            "align_self": null,
            "border": null,
            "bottom": null,
            "display": null,
            "flex": null,
            "flex_flow": null,
            "grid_area": null,
            "grid_auto_columns": null,
            "grid_auto_flow": null,
            "grid_auto_rows": null,
            "grid_column": null,
            "grid_gap": null,
            "grid_row": null,
            "grid_template_areas": null,
            "grid_template_columns": null,
            "grid_template_rows": null,
            "height": null,
            "justify_content": null,
            "justify_items": null,
            "left": null,
            "margin": null,
            "max_height": null,
            "max_width": null,
            "min_height": null,
            "min_width": null,
            "object_fit": null,
            "object_position": null,
            "order": null,
            "overflow": null,
            "overflow_x": null,
            "overflow_y": null,
            "padding": null,
            "right": null,
            "top": null,
            "visibility": null,
            "width": null
          }
        },
        "82d0624023304bd3b1f3c3cff0144936": {
          "model_module": "@jupyter-widgets/controls",
          "model_name": "ProgressStyleModel",
          "model_module_version": "1.5.0",
          "state": {
            "_model_module": "@jupyter-widgets/controls",
            "_model_module_version": "1.5.0",
            "_model_name": "ProgressStyleModel",
            "_view_count": null,
            "_view_module": "@jupyter-widgets/base",
            "_view_module_version": "1.2.0",
            "_view_name": "StyleView",
            "bar_color": null,
            "description_width": ""
          }
        },
        "62e40c6192af487f8cf159a7ab99e07d": {
          "model_module": "@jupyter-widgets/base",
          "model_name": "LayoutModel",
          "model_module_version": "1.2.0",
          "state": {
            "_model_module": "@jupyter-widgets/base",
            "_model_module_version": "1.2.0",
            "_model_name": "LayoutModel",
            "_view_count": null,
            "_view_module": "@jupyter-widgets/base",
            "_view_module_version": "1.2.0",
            "_view_name": "LayoutView",
            "align_content": null,
            "align_items": null,
            "align_self": null,
            "border": null,
            "bottom": null,
            "display": null,
            "flex": null,
            "flex_flow": null,
            "grid_area": null,
            "grid_auto_columns": null,
            "grid_auto_flow": null,
            "grid_auto_rows": null,
            "grid_column": null,
            "grid_gap": null,
            "grid_row": null,
            "grid_template_areas": null,
            "grid_template_columns": null,
            "grid_template_rows": null,
            "height": null,
            "justify_content": null,
            "justify_items": null,
            "left": null,
            "margin": null,
            "max_height": null,
            "max_width": null,
            "min_height": null,
            "min_width": null,
            "object_fit": null,
            "object_position": null,
            "order": null,
            "overflow": null,
            "overflow_x": null,
            "overflow_y": null,
            "padding": null,
            "right": null,
            "top": null,
            "visibility": null,
            "width": null
          }
        },
        "39945a07a7594a6d86498264dfd1ccbe": {
          "model_module": "@jupyter-widgets/controls",
          "model_name": "DescriptionStyleModel",
          "model_module_version": "1.5.0",
          "state": {
            "_model_module": "@jupyter-widgets/controls",
            "_model_module_version": "1.5.0",
            "_model_name": "DescriptionStyleModel",
            "_view_count": null,
            "_view_module": "@jupyter-widgets/base",
            "_view_module_version": "1.2.0",
            "_view_name": "StyleView",
            "description_width": ""
          }
        },
        "0db8e8f6ebcb4483bf83b3bcaab87fba": {
          "model_module": "@jupyter-widgets/controls",
          "model_name": "HBoxModel",
          "model_module_version": "1.5.0",
          "state": {
            "_dom_classes": [],
            "_model_module": "@jupyter-widgets/controls",
            "_model_module_version": "1.5.0",
            "_model_name": "HBoxModel",
            "_view_count": null,
            "_view_module": "@jupyter-widgets/controls",
            "_view_module_version": "1.5.0",
            "_view_name": "HBoxView",
            "box_style": "",
            "children": [
              "IPY_MODEL_127752a8387a45bba9663431fdb2d308",
              "IPY_MODEL_b159c61445614f259facd1e9d6623030",
              "IPY_MODEL_abefb149c58149c3ba7346b68e26cdcc"
            ],
            "layout": "IPY_MODEL_7f78c34f96254844a02ae8174369b5a2"
          }
        },
        "127752a8387a45bba9663431fdb2d308": {
          "model_module": "@jupyter-widgets/controls",
          "model_name": "HTMLModel",
          "model_module_version": "1.5.0",
          "state": {
            "_dom_classes": [],
            "_model_module": "@jupyter-widgets/controls",
            "_model_module_version": "1.5.0",
            "_model_name": "HTMLModel",
            "_view_count": null,
            "_view_module": "@jupyter-widgets/controls",
            "_view_module_version": "1.5.0",
            "_view_name": "HTMLView",
            "description": "",
            "description_tooltip": null,
            "layout": "IPY_MODEL_110ae910aa344a9384df8d81cb2387ee",
            "placeholder": "​",
            "style": "IPY_MODEL_15eb560524b14e2c8655d95d9770f209",
            "value": "100%"
          }
        },
        "b159c61445614f259facd1e9d6623030": {
          "model_module": "@jupyter-widgets/controls",
          "model_name": "FloatProgressModel",
          "model_module_version": "1.5.0",
          "state": {
            "_dom_classes": [],
            "_model_module": "@jupyter-widgets/controls",
            "_model_module_version": "1.5.0",
            "_model_name": "FloatProgressModel",
            "_view_count": null,
            "_view_module": "@jupyter-widgets/controls",
            "_view_module_version": "1.5.0",
            "_view_name": "ProgressView",
            "bar_style": "success",
            "description": "",
            "description_tooltip": null,
            "layout": "IPY_MODEL_12a2e70d0cd944b3879e12c02bcccd5e",
            "max": 161934137,
            "min": 0,
            "orientation": "horizontal",
            "style": "IPY_MODEL_ac88bed75b4049fbbb8d864fdd355c75",
            "value": 161934137
          }
        },
        "abefb149c58149c3ba7346b68e26cdcc": {
          "model_module": "@jupyter-widgets/controls",
          "model_name": "HTMLModel",
          "model_module_version": "1.5.0",
          "state": {
            "_dom_classes": [],
            "_model_module": "@jupyter-widgets/controls",
            "_model_module_version": "1.5.0",
            "_model_name": "HTMLModel",
            "_view_count": null,
            "_view_module": "@jupyter-widgets/controls",
            "_view_module_version": "1.5.0",
            "_view_name": "HTMLView",
            "description": "",
            "description_tooltip": null,
            "layout": "IPY_MODEL_565ad85dc9ff42ea81ed0c5907d4688c",
            "placeholder": "​",
            "style": "IPY_MODEL_4ec1d77bcbbc4829b70c6ac4ceeec7db",
            "value": " 162M/162M [00:00&lt;00:00, 166MiB/s]"
          }
        },
        "7f78c34f96254844a02ae8174369b5a2": {
          "model_module": "@jupyter-widgets/base",
          "model_name": "LayoutModel",
          "model_module_version": "1.2.0",
          "state": {
            "_model_module": "@jupyter-widgets/base",
            "_model_module_version": "1.2.0",
            "_model_name": "LayoutModel",
            "_view_count": null,
            "_view_module": "@jupyter-widgets/base",
            "_view_module_version": "1.2.0",
            "_view_name": "LayoutView",
            "align_content": null,
            "align_items": null,
            "align_self": null,
            "border": null,
            "bottom": null,
            "display": null,
            "flex": null,
            "flex_flow": null,
            "grid_area": null,
            "grid_auto_columns": null,
            "grid_auto_flow": null,
            "grid_auto_rows": null,
            "grid_column": null,
            "grid_gap": null,
            "grid_row": null,
            "grid_template_areas": null,
            "grid_template_columns": null,
            "grid_template_rows": null,
            "height": null,
            "justify_content": null,
            "justify_items": null,
            "left": null,
            "margin": null,
            "max_height": null,
            "max_width": null,
            "min_height": null,
            "min_width": null,
            "object_fit": null,
            "object_position": null,
            "order": null,
            "overflow": null,
            "overflow_x": null,
            "overflow_y": null,
            "padding": null,
            "right": null,
            "top": null,
            "visibility": null,
            "width": null
          }
        },
        "110ae910aa344a9384df8d81cb2387ee": {
          "model_module": "@jupyter-widgets/base",
          "model_name": "LayoutModel",
          "model_module_version": "1.2.0",
          "state": {
            "_model_module": "@jupyter-widgets/base",
            "_model_module_version": "1.2.0",
            "_model_name": "LayoutModel",
            "_view_count": null,
            "_view_module": "@jupyter-widgets/base",
            "_view_module_version": "1.2.0",
            "_view_name": "LayoutView",
            "align_content": null,
            "align_items": null,
            "align_self": null,
            "border": null,
            "bottom": null,
            "display": null,
            "flex": null,
            "flex_flow": null,
            "grid_area": null,
            "grid_auto_columns": null,
            "grid_auto_flow": null,
            "grid_auto_rows": null,
            "grid_column": null,
            "grid_gap": null,
            "grid_row": null,
            "grid_template_areas": null,
            "grid_template_columns": null,
            "grid_template_rows": null,
            "height": null,
            "justify_content": null,
            "justify_items": null,
            "left": null,
            "margin": null,
            "max_height": null,
            "max_width": null,
            "min_height": null,
            "min_width": null,
            "object_fit": null,
            "object_position": null,
            "order": null,
            "overflow": null,
            "overflow_x": null,
            "overflow_y": null,
            "padding": null,
            "right": null,
            "top": null,
            "visibility": null,
            "width": null
          }
        },
        "15eb560524b14e2c8655d95d9770f209": {
          "model_module": "@jupyter-widgets/controls",
          "model_name": "DescriptionStyleModel",
          "model_module_version": "1.5.0",
          "state": {
            "_model_module": "@jupyter-widgets/controls",
            "_model_module_version": "1.5.0",
            "_model_name": "DescriptionStyleModel",
            "_view_count": null,
            "_view_module": "@jupyter-widgets/base",
            "_view_module_version": "1.2.0",
            "_view_name": "StyleView",
            "description_width": ""
          }
        },
        "12a2e70d0cd944b3879e12c02bcccd5e": {
          "model_module": "@jupyter-widgets/base",
          "model_name": "LayoutModel",
          "model_module_version": "1.2.0",
          "state": {
            "_model_module": "@jupyter-widgets/base",
            "_model_module_version": "1.2.0",
            "_model_name": "LayoutModel",
            "_view_count": null,
            "_view_module": "@jupyter-widgets/base",
            "_view_module_version": "1.2.0",
            "_view_name": "LayoutView",
            "align_content": null,
            "align_items": null,
            "align_self": null,
            "border": null,
            "bottom": null,
            "display": null,
            "flex": null,
            "flex_flow": null,
            "grid_area": null,
            "grid_auto_columns": null,
            "grid_auto_flow": null,
            "grid_auto_rows": null,
            "grid_column": null,
            "grid_gap": null,
            "grid_row": null,
            "grid_template_areas": null,
            "grid_template_columns": null,
            "grid_template_rows": null,
            "height": null,
            "justify_content": null,
            "justify_items": null,
            "left": null,
            "margin": null,
            "max_height": null,
            "max_width": null,
            "min_height": null,
            "min_width": null,
            "object_fit": null,
            "object_position": null,
            "order": null,
            "overflow": null,
            "overflow_x": null,
            "overflow_y": null,
            "padding": null,
            "right": null,
            "top": null,
            "visibility": null,
            "width": null
          }
        },
        "ac88bed75b4049fbbb8d864fdd355c75": {
          "model_module": "@jupyter-widgets/controls",
          "model_name": "ProgressStyleModel",
          "model_module_version": "1.5.0",
          "state": {
            "_model_module": "@jupyter-widgets/controls",
            "_model_module_version": "1.5.0",
            "_model_name": "ProgressStyleModel",
            "_view_count": null,
            "_view_module": "@jupyter-widgets/base",
            "_view_module_version": "1.2.0",
            "_view_name": "StyleView",
            "bar_color": null,
            "description_width": ""
          }
        },
        "565ad85dc9ff42ea81ed0c5907d4688c": {
          "model_module": "@jupyter-widgets/base",
          "model_name": "LayoutModel",
          "model_module_version": "1.2.0",
          "state": {
            "_model_module": "@jupyter-widgets/base",
            "_model_module_version": "1.2.0",
            "_model_name": "LayoutModel",
            "_view_count": null,
            "_view_module": "@jupyter-widgets/base",
            "_view_module_version": "1.2.0",
            "_view_name": "LayoutView",
            "align_content": null,
            "align_items": null,
            "align_self": null,
            "border": null,
            "bottom": null,
            "display": null,
            "flex": null,
            "flex_flow": null,
            "grid_area": null,
            "grid_auto_columns": null,
            "grid_auto_flow": null,
            "grid_auto_rows": null,
            "grid_column": null,
            "grid_gap": null,
            "grid_row": null,
            "grid_template_areas": null,
            "grid_template_columns": null,
            "grid_template_rows": null,
            "height": null,
            "justify_content": null,
            "justify_items": null,
            "left": null,
            "margin": null,
            "max_height": null,
            "max_width": null,
            "min_height": null,
            "min_width": null,
            "object_fit": null,
            "object_position": null,
            "order": null,
            "overflow": null,
            "overflow_x": null,
            "overflow_y": null,
            "padding": null,
            "right": null,
            "top": null,
            "visibility": null,
            "width": null
          }
        },
        "4ec1d77bcbbc4829b70c6ac4ceeec7db": {
          "model_module": "@jupyter-widgets/controls",
          "model_name": "DescriptionStyleModel",
          "model_module_version": "1.5.0",
          "state": {
            "_model_module": "@jupyter-widgets/controls",
            "_model_module_version": "1.5.0",
            "_model_name": "DescriptionStyleModel",
            "_view_count": null,
            "_view_module": "@jupyter-widgets/base",
            "_view_module_version": "1.2.0",
            "_view_name": "StyleView",
            "description_width": ""
          }
        },
        "42af55d56e7d441cb4b59fb9aef1cae7": {
          "model_module": "@jupyter-widgets/controls",
          "model_name": "HBoxModel",
          "model_module_version": "1.5.0",
          "state": {
            "_dom_classes": [],
            "_model_module": "@jupyter-widgets/controls",
            "_model_module_version": "1.5.0",
            "_model_name": "HBoxModel",
            "_view_count": null,
            "_view_module": "@jupyter-widgets/controls",
            "_view_module_version": "1.5.0",
            "_view_name": "HBoxView",
            "box_style": "",
            "children": [
              "IPY_MODEL_72e6b71c05df4d628be438dc2c88ea9c",
              "IPY_MODEL_25414ea7740c422795786902c6f64cea",
              "IPY_MODEL_ee6355fd27874d4a83f077f6618fd488"
            ],
            "layout": "IPY_MODEL_4018145ffa504a39bb15224959dab313"
          }
        },
        "72e6b71c05df4d628be438dc2c88ea9c": {
          "model_module": "@jupyter-widgets/controls",
          "model_name": "HTMLModel",
          "model_module_version": "1.5.0",
          "state": {
            "_dom_classes": [],
            "_model_module": "@jupyter-widgets/controls",
            "_model_module_version": "1.5.0",
            "_model_name": "HTMLModel",
            "_view_count": null,
            "_view_module": "@jupyter-widgets/controls",
            "_view_module_version": "1.5.0",
            "_view_name": "HTMLView",
            "description": "",
            "description_tooltip": null,
            "layout": "IPY_MODEL_d2d44a45804b48f881c556fd24480fc6",
            "placeholder": "​",
            "style": "IPY_MODEL_de4b3d3777f44e9f98926be228e5a14a",
            "value": ""
          }
        },
        "25414ea7740c422795786902c6f64cea": {
          "model_module": "@jupyter-widgets/controls",
          "model_name": "FloatProgressModel",
          "model_module_version": "1.5.0",
          "state": {
            "_dom_classes": [],
            "_model_module": "@jupyter-widgets/controls",
            "_model_module_version": "1.5.0",
            "_model_name": "FloatProgressModel",
            "_view_count": null,
            "_view_module": "@jupyter-widgets/controls",
            "_view_module_version": "1.5.0",
            "_view_name": "ProgressView",
            "bar_style": "success",
            "description": "",
            "description_tooltip": null,
            "layout": "IPY_MODEL_657787c0951546edaa0b872bc8a08797",
            "max": 1,
            "min": 0,
            "orientation": "horizontal",
            "style": "IPY_MODEL_d0bceb1cf50a41eb99c5722a34e3dae9",
            "value": 1
          }
        },
        "ee6355fd27874d4a83f077f6618fd488": {
          "model_module": "@jupyter-widgets/controls",
          "model_name": "HTMLModel",
          "model_module_version": "1.5.0",
          "state": {
            "_dom_classes": [],
            "_model_module": "@jupyter-widgets/controls",
            "_model_module_version": "1.5.0",
            "_model_name": "HTMLModel",
            "_view_count": null,
            "_view_module": "@jupyter-widgets/controls",
            "_view_module_version": "1.5.0",
            "_view_name": "HTMLView",
            "description": "",
            "description_tooltip": null,
            "layout": "IPY_MODEL_c85e4503c03841a5a2c689ed94645348",
            "placeholder": "​",
            "style": "IPY_MODEL_117cb6cf3bf24fcfa1ac96abf1a840d6",
            "value": " 130/? [00:32&lt;00:00,  3.01it/s]"
          }
        },
        "4018145ffa504a39bb15224959dab313": {
          "model_module": "@jupyter-widgets/base",
          "model_name": "LayoutModel",
          "model_module_version": "1.2.0",
          "state": {
            "_model_module": "@jupyter-widgets/base",
            "_model_module_version": "1.2.0",
            "_model_name": "LayoutModel",
            "_view_count": null,
            "_view_module": "@jupyter-widgets/base",
            "_view_module_version": "1.2.0",
            "_view_name": "LayoutView",
            "align_content": null,
            "align_items": null,
            "align_self": null,
            "border": null,
            "bottom": null,
            "display": null,
            "flex": null,
            "flex_flow": null,
            "grid_area": null,
            "grid_auto_columns": null,
            "grid_auto_flow": null,
            "grid_auto_rows": null,
            "grid_column": null,
            "grid_gap": null,
            "grid_row": null,
            "grid_template_areas": null,
            "grid_template_columns": null,
            "grid_template_rows": null,
            "height": null,
            "justify_content": null,
            "justify_items": null,
            "left": null,
            "margin": null,
            "max_height": null,
            "max_width": null,
            "min_height": null,
            "min_width": null,
            "object_fit": null,
            "object_position": null,
            "order": null,
            "overflow": null,
            "overflow_x": null,
            "overflow_y": null,
            "padding": null,
            "right": null,
            "top": null,
            "visibility": null,
            "width": null
          }
        },
        "d2d44a45804b48f881c556fd24480fc6": {
          "model_module": "@jupyter-widgets/base",
          "model_name": "LayoutModel",
          "model_module_version": "1.2.0",
          "state": {
            "_model_module": "@jupyter-widgets/base",
            "_model_module_version": "1.2.0",
            "_model_name": "LayoutModel",
            "_view_count": null,
            "_view_module": "@jupyter-widgets/base",
            "_view_module_version": "1.2.0",
            "_view_name": "LayoutView",
            "align_content": null,
            "align_items": null,
            "align_self": null,
            "border": null,
            "bottom": null,
            "display": null,
            "flex": null,
            "flex_flow": null,
            "grid_area": null,
            "grid_auto_columns": null,
            "grid_auto_flow": null,
            "grid_auto_rows": null,
            "grid_column": null,
            "grid_gap": null,
            "grid_row": null,
            "grid_template_areas": null,
            "grid_template_columns": null,
            "grid_template_rows": null,
            "height": null,
            "justify_content": null,
            "justify_items": null,
            "left": null,
            "margin": null,
            "max_height": null,
            "max_width": null,
            "min_height": null,
            "min_width": null,
            "object_fit": null,
            "object_position": null,
            "order": null,
            "overflow": null,
            "overflow_x": null,
            "overflow_y": null,
            "padding": null,
            "right": null,
            "top": null,
            "visibility": null,
            "width": null
          }
        },
        "de4b3d3777f44e9f98926be228e5a14a": {
          "model_module": "@jupyter-widgets/controls",
          "model_name": "DescriptionStyleModel",
          "model_module_version": "1.5.0",
          "state": {
            "_model_module": "@jupyter-widgets/controls",
            "_model_module_version": "1.5.0",
            "_model_name": "DescriptionStyleModel",
            "_view_count": null,
            "_view_module": "@jupyter-widgets/base",
            "_view_module_version": "1.2.0",
            "_view_name": "StyleView",
            "description_width": ""
          }
        },
        "657787c0951546edaa0b872bc8a08797": {
          "model_module": "@jupyter-widgets/base",
          "model_name": "LayoutModel",
          "model_module_version": "1.2.0",
          "state": {
            "_model_module": "@jupyter-widgets/base",
            "_model_module_version": "1.2.0",
            "_model_name": "LayoutModel",
            "_view_count": null,
            "_view_module": "@jupyter-widgets/base",
            "_view_module_version": "1.2.0",
            "_view_name": "LayoutView",
            "align_content": null,
            "align_items": null,
            "align_self": null,
            "border": null,
            "bottom": null,
            "display": null,
            "flex": null,
            "flex_flow": null,
            "grid_area": null,
            "grid_auto_columns": null,
            "grid_auto_flow": null,
            "grid_auto_rows": null,
            "grid_column": null,
            "grid_gap": null,
            "grid_row": null,
            "grid_template_areas": null,
            "grid_template_columns": null,
            "grid_template_rows": null,
            "height": null,
            "justify_content": null,
            "justify_items": null,
            "left": null,
            "margin": null,
            "max_height": null,
            "max_width": null,
            "min_height": null,
            "min_width": null,
            "object_fit": null,
            "object_position": null,
            "order": null,
            "overflow": null,
            "overflow_x": null,
            "overflow_y": null,
            "padding": null,
            "right": null,
            "top": null,
            "visibility": null,
            "width": "20px"
          }
        },
        "d0bceb1cf50a41eb99c5722a34e3dae9": {
          "model_module": "@jupyter-widgets/controls",
          "model_name": "ProgressStyleModel",
          "model_module_version": "1.5.0",
          "state": {
            "_model_module": "@jupyter-widgets/controls",
            "_model_module_version": "1.5.0",
            "_model_name": "ProgressStyleModel",
            "_view_count": null,
            "_view_module": "@jupyter-widgets/base",
            "_view_module_version": "1.2.0",
            "_view_name": "StyleView",
            "bar_color": null,
            "description_width": ""
          }
        },
        "c85e4503c03841a5a2c689ed94645348": {
          "model_module": "@jupyter-widgets/base",
          "model_name": "LayoutModel",
          "model_module_version": "1.2.0",
          "state": {
            "_model_module": "@jupyter-widgets/base",
            "_model_module_version": "1.2.0",
            "_model_name": "LayoutModel",
            "_view_count": null,
            "_view_module": "@jupyter-widgets/base",
            "_view_module_version": "1.2.0",
            "_view_name": "LayoutView",
            "align_content": null,
            "align_items": null,
            "align_self": null,
            "border": null,
            "bottom": null,
            "display": null,
            "flex": null,
            "flex_flow": null,
            "grid_area": null,
            "grid_auto_columns": null,
            "grid_auto_flow": null,
            "grid_auto_rows": null,
            "grid_column": null,
            "grid_gap": null,
            "grid_row": null,
            "grid_template_areas": null,
            "grid_template_columns": null,
            "grid_template_rows": null,
            "height": null,
            "justify_content": null,
            "justify_items": null,
            "left": null,
            "margin": null,
            "max_height": null,
            "max_width": null,
            "min_height": null,
            "min_width": null,
            "object_fit": null,
            "object_position": null,
            "order": null,
            "overflow": null,
            "overflow_x": null,
            "overflow_y": null,
            "padding": null,
            "right": null,
            "top": null,
            "visibility": null,
            "width": null
          }
        },
        "117cb6cf3bf24fcfa1ac96abf1a840d6": {
          "model_module": "@jupyter-widgets/controls",
          "model_name": "DescriptionStyleModel",
          "model_module_version": "1.5.0",
          "state": {
            "_model_module": "@jupyter-widgets/controls",
            "_model_module_version": "1.5.0",
            "_model_name": "DescriptionStyleModel",
            "_view_count": null,
            "_view_module": "@jupyter-widgets/base",
            "_view_module_version": "1.2.0",
            "_view_name": "StyleView",
            "description_width": ""
          }
        }
      }
    }
  },
  "nbformat": 4,
  "nbformat_minor": 0
}