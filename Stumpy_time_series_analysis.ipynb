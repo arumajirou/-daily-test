{
  "cells": [
    {
      "cell_type": "markdown",
      "metadata": {
        "id": "view-in-github",
        "colab_type": "text"
      },
      "source": [
        "<a href=\"https://colab.research.google.com/github/arumajirou/-daily-test/blob/main/Stumpy_time_series_analysis.ipynb\" target=\"_parent\"><img src=\"https://colab.research.google.com/assets/colab-badge.svg\" alt=\"Open In Colab\"/></a>"
      ]
    },
    {
      "cell_type": "markdown",
      "metadata": {
        "id": "JsYJcqDDFpWN"
      },
      "source": [
        "\n",
        "日本語\n",
        "\n",
        "\n",
        "目標\n",
        "スタンピーを用いた探索\n",
        "長い時系列における異なる時系列の「部分系列」間の類似性\n",
        "Data Skepticを聴いていてstumpyを見つけた\n",
        "https://dataskeptic.com/blog/episodes/2022/matrix-profiles-in-stumpy\n",
        "いくつかのAPIを試す\n",
        "株\n",
        "https://towardsdatascience.com/best-5-free-stock-market-apis-in-2019-ad91dddec984\n",
        "温度\n",
        "データ取得のチュートリアル https://towardsdatascience.com/obtain-historical-weather-forecast-data-in-csv-format-using-python-5a6c090fc828\n",
        "基本的にこのライブラリを使う https://github.com/ekapope/WorldWeatherOnline\n",
        "\n",
        "DeepL.comで別の訳し方を確認する\n",
        "\n",
        "\n",
        "\n",
        "下\n"
      ]
    },
    {
      "cell_type": "code",
      "source": [
        "!pip install yfinance"
      ],
      "metadata": {
        "colab": {
          "base_uri": "https://localhost:8080/"
        },
        "id": "IKIy84OBHY-d",
        "outputId": "9139b856-b04e-497b-ef10-3db95bdf143e"
      },
      "execution_count": null,
      "outputs": [
        {
          "output_type": "stream",
          "name": "stdout",
          "text": [
            "Looking in indexes: https://pypi.org/simple, https://us-python.pkg.dev/colab-wheels/public/simple/\n",
            "Collecting yfinance\n",
            "  Downloading yfinance-0.1.90-py2.py3-none-any.whl (29 kB)\n",
            "Requirement already satisfied: appdirs>=1.4.4 in /usr/local/lib/python3.8/dist-packages (from yfinance) (1.4.4)\n",
            "Requirement already satisfied: numpy>=1.16.5 in /usr/local/lib/python3.8/dist-packages (from yfinance) (1.21.6)\n",
            "Collecting requests>=2.26\n",
            "  Downloading requests-2.28.1-py3-none-any.whl (62 kB)\n",
            "\u001b[K     |████████████████████████████████| 62 kB 1.4 MB/s \n",
            "\u001b[?25hRequirement already satisfied: pandas>=1.3.0 in /usr/local/lib/python3.8/dist-packages (from yfinance) (1.3.5)\n",
            "Requirement already satisfied: lxml>=4.9.1 in /usr/local/lib/python3.8/dist-packages (from yfinance) (4.9.2)\n",
            "Requirement already satisfied: multitasking>=0.0.7 in /usr/local/lib/python3.8/dist-packages (from yfinance) (0.0.11)\n",
            "Requirement already satisfied: pytz>=2017.3 in /usr/local/lib/python3.8/dist-packages (from pandas>=1.3.0->yfinance) (2022.6)\n",
            "Requirement already satisfied: python-dateutil>=2.7.3 in /usr/local/lib/python3.8/dist-packages (from pandas>=1.3.0->yfinance) (2.8.2)\n",
            "Requirement already satisfied: six>=1.5 in /usr/local/lib/python3.8/dist-packages (from python-dateutil>=2.7.3->pandas>=1.3.0->yfinance) (1.15.0)\n",
            "Requirement already satisfied: urllib3<1.27,>=1.21.1 in /usr/local/lib/python3.8/dist-packages (from requests>=2.26->yfinance) (1.24.3)\n",
            "Requirement already satisfied: idna<4,>=2.5 in /usr/local/lib/python3.8/dist-packages (from requests>=2.26->yfinance) (2.10)\n",
            "Requirement already satisfied: charset-normalizer<3,>=2 in /usr/local/lib/python3.8/dist-packages (from requests>=2.26->yfinance) (2.1.1)\n",
            "Requirement already satisfied: certifi>=2017.4.17 in /usr/local/lib/python3.8/dist-packages (from requests>=2.26->yfinance) (2022.12.7)\n",
            "Installing collected packages: requests, yfinance\n",
            "  Attempting uninstall: requests\n",
            "    Found existing installation: requests 2.23.0\n",
            "    Uninstalling requests-2.23.0:\n",
            "      Successfully uninstalled requests-2.23.0\n",
            "Successfully installed requests-2.28.1 yfinance-0.1.90\n"
          ]
        }
      ]
    },
    {
      "cell_type": "code",
      "source": [
        "!pip install stumpy"
      ],
      "metadata": {
        "colab": {
          "base_uri": "https://localhost:8080/"
        },
        "id": "y67sIiaBHgIh",
        "outputId": "71936172-b15a-45e1-89ed-df32d75d013d"
      },
      "execution_count": null,
      "outputs": [
        {
          "output_type": "stream",
          "name": "stdout",
          "text": [
            "Looking in indexes: https://pypi.org/simple, https://us-python.pkg.dev/colab-wheels/public/simple/\n",
            "Collecting stumpy\n",
            "  Downloading stumpy-1.11.1-py3-none-any.whl (136 kB)\n",
            "\u001b[K     |████████████████████████████████| 136 kB 5.8 MB/s \n",
            "\u001b[?25hRequirement already satisfied: numba>=0.54 in /usr/local/lib/python3.8/dist-packages (from stumpy) (0.56.4)\n",
            "Requirement already satisfied: numpy>=1.17 in /usr/local/lib/python3.8/dist-packages (from stumpy) (1.21.6)\n",
            "Requirement already satisfied: scipy>=1.5 in /usr/local/lib/python3.8/dist-packages (from stumpy) (1.7.3)\n",
            "Requirement already satisfied: importlib-metadata in /usr/local/lib/python3.8/dist-packages (from numba>=0.54->stumpy) (5.1.0)\n",
            "Requirement already satisfied: llvmlite<0.40,>=0.39.0dev0 in /usr/local/lib/python3.8/dist-packages (from numba>=0.54->stumpy) (0.39.1)\n",
            "Requirement already satisfied: setuptools in /usr/local/lib/python3.8/dist-packages (from numba>=0.54->stumpy) (57.4.0)\n",
            "Requirement already satisfied: zipp>=0.5 in /usr/local/lib/python3.8/dist-packages (from importlib-metadata->numba>=0.54->stumpy) (3.11.0)\n",
            "Installing collected packages: stumpy\n",
            "Successfully installed stumpy-1.11.1\n"
          ]
        }
      ]
    },
    {
      "cell_type": "markdown",
      "source": [
        "youtube       https://www.youtube.com/watch?v=akUeYkKBxpU&t=223s"
      ],
      "metadata": {
        "id": "y2QU2rpQHyu_"
      }
    },
    {
      "cell_type": "code",
      "execution_count": null,
      "metadata": {
        "id": "IlDZlKg-FpWT"
      },
      "outputs": [],
      "source": [
        "\n",
        "import yfinance as yf\n",
        "import stumpy \n",
        "import matplotlib.pyplot as plt\n",
        "import numpy as np\n",
        "import pandas as pd\n",
        "\n",
        "from  matplotlib.patches import Rectangle"
      ]
    },
    {
      "cell_type": "code",
      "execution_count": null,
      "metadata": {
        "id": "sZ93P9l7FpWW"
      },
      "outputs": [],
      "source": [
        "cat = yf.Ticker(\"CAT\")"
      ]
    },
    {
      "cell_type": "code",
      "execution_count": null,
      "metadata": {
        "id": "S4TvPBYjFpWX",
        "outputId": "a7ec581a-d40c-4258-b715-33373975a29f",
        "colab": {
          "base_uri": "https://localhost:8080/"
        }
      },
      "outputs": [
        {
          "output_type": "execute_result",
          "data": {
            "text/plain": [
              "{'regularMarketPrice': None,\n",
              " 'preMarketPrice': None,\n",
              " 'logo_url': '',\n",
              " 'trailingPegRatio': 1.557}"
            ]
          },
          "metadata": {},
          "execution_count": 7
        }
      ],
      "source": [
        "cat.info"
      ]
    },
    {
      "cell_type": "code",
      "execution_count": null,
      "metadata": {
        "id": "6oMyn6aQFpWZ"
      },
      "outputs": [],
      "source": [
        "x = cat.history(start = '2020-1-1', end = '2022-2-2')"
      ]
    },
    {
      "cell_type": "code",
      "execution_count": null,
      "metadata": {
        "id": "AGcCk2ANFpWa",
        "outputId": "9ff86e2f-2aec-4862-85c5-7c9a62df6411",
        "colab": {
          "base_uri": "https://localhost:8080/"
        }
      },
      "outputs": [
        {
          "output_type": "execute_result",
          "data": {
            "text/plain": [
              "pandas.core.frame.DataFrame"
            ]
          },
          "metadata": {},
          "execution_count": 9
        }
      ],
      "source": [
        "type(x)"
      ]
    },
    {
      "cell_type": "code",
      "execution_count": null,
      "metadata": {
        "id": "oal0sbJbFpWa",
        "outputId": "411acd25-668c-41be-86c4-1e22ab2adeaa",
        "colab": {
          "base_uri": "https://localhost:8080/"
        }
      },
      "outputs": [
        {
          "output_type": "execute_result",
          "data": {
            "text/plain": [
              "Index(['Open', 'High', 'Low', 'Close', 'Volume', 'Dividends', 'Stock Splits'], dtype='object')"
            ]
          },
          "metadata": {},
          "execution_count": 10
        }
      ],
      "source": [
        "x.columns"
      ]
    },
    {
      "cell_type": "code",
      "execution_count": null,
      "metadata": {
        "id": "tQ1eBIdRFpWb",
        "outputId": "2f0e7fe2-680c-4b8a-d648-5b9ac1c66a4b",
        "colab": {
          "base_uri": "https://localhost:8080/",
          "height": 237
        }
      },
      "outputs": [
        {
          "output_type": "execute_result",
          "data": {
            "text/plain": [
              "                                 Open        High         Low       Close  \\\n",
              "Date                                                                        \n",
              "2020-01-02 00:00:00-05:00  138.428922  139.868957  137.481284  139.850372   \n",
              "2020-01-03 00:00:00-05:00  138.215250  139.320826  136.988893  137.908661   \n",
              "2020-01-06 00:00:00-05:00  136.821655  138.020128  136.143436  137.815735   \n",
              "2020-01-07 00:00:00-05:00  136.895995  137.100388  135.186526  135.994812   \n",
              "2020-01-08 00:00:00-05:00  136.412874  138.029431  136.069129  137.202560   \n",
              "\n",
              "                            Volume  Dividends  Stock Splits  \n",
              "Date                                                         \n",
              "2020-01-02 00:00:00-05:00  3311900        0.0             0  \n",
              "2020-01-03 00:00:00-05:00  3100600        0.0             0  \n",
              "2020-01-06 00:00:00-05:00  2549600        0.0             0  \n",
              "2020-01-07 00:00:00-05:00  2841900        0.0             0  \n",
              "2020-01-08 00:00:00-05:00  2153200        0.0             0  "
            ],
            "text/html": [
              "\n",
              "  <div id=\"df-e8186861-abe9-4834-b316-91d73a971aa9\">\n",
              "    <div class=\"colab-df-container\">\n",
              "      <div>\n",
              "<style scoped>\n",
              "    .dataframe tbody tr th:only-of-type {\n",
              "        vertical-align: middle;\n",
              "    }\n",
              "\n",
              "    .dataframe tbody tr th {\n",
              "        vertical-align: top;\n",
              "    }\n",
              "\n",
              "    .dataframe thead th {\n",
              "        text-align: right;\n",
              "    }\n",
              "</style>\n",
              "<table border=\"1\" class=\"dataframe\">\n",
              "  <thead>\n",
              "    <tr style=\"text-align: right;\">\n",
              "      <th></th>\n",
              "      <th>Open</th>\n",
              "      <th>High</th>\n",
              "      <th>Low</th>\n",
              "      <th>Close</th>\n",
              "      <th>Volume</th>\n",
              "      <th>Dividends</th>\n",
              "      <th>Stock Splits</th>\n",
              "    </tr>\n",
              "    <tr>\n",
              "      <th>Date</th>\n",
              "      <th></th>\n",
              "      <th></th>\n",
              "      <th></th>\n",
              "      <th></th>\n",
              "      <th></th>\n",
              "      <th></th>\n",
              "      <th></th>\n",
              "    </tr>\n",
              "  </thead>\n",
              "  <tbody>\n",
              "    <tr>\n",
              "      <th>2020-01-02 00:00:00-05:00</th>\n",
              "      <td>138.428922</td>\n",
              "      <td>139.868957</td>\n",
              "      <td>137.481284</td>\n",
              "      <td>139.850372</td>\n",
              "      <td>3311900</td>\n",
              "      <td>0.0</td>\n",
              "      <td>0</td>\n",
              "    </tr>\n",
              "    <tr>\n",
              "      <th>2020-01-03 00:00:00-05:00</th>\n",
              "      <td>138.215250</td>\n",
              "      <td>139.320826</td>\n",
              "      <td>136.988893</td>\n",
              "      <td>137.908661</td>\n",
              "      <td>3100600</td>\n",
              "      <td>0.0</td>\n",
              "      <td>0</td>\n",
              "    </tr>\n",
              "    <tr>\n",
              "      <th>2020-01-06 00:00:00-05:00</th>\n",
              "      <td>136.821655</td>\n",
              "      <td>138.020128</td>\n",
              "      <td>136.143436</td>\n",
              "      <td>137.815735</td>\n",
              "      <td>2549600</td>\n",
              "      <td>0.0</td>\n",
              "      <td>0</td>\n",
              "    </tr>\n",
              "    <tr>\n",
              "      <th>2020-01-07 00:00:00-05:00</th>\n",
              "      <td>136.895995</td>\n",
              "      <td>137.100388</td>\n",
              "      <td>135.186526</td>\n",
              "      <td>135.994812</td>\n",
              "      <td>2841900</td>\n",
              "      <td>0.0</td>\n",
              "      <td>0</td>\n",
              "    </tr>\n",
              "    <tr>\n",
              "      <th>2020-01-08 00:00:00-05:00</th>\n",
              "      <td>136.412874</td>\n",
              "      <td>138.029431</td>\n",
              "      <td>136.069129</td>\n",
              "      <td>137.202560</td>\n",
              "      <td>2153200</td>\n",
              "      <td>0.0</td>\n",
              "      <td>0</td>\n",
              "    </tr>\n",
              "  </tbody>\n",
              "</table>\n",
              "</div>\n",
              "      <button class=\"colab-df-convert\" onclick=\"convertToInteractive('df-e8186861-abe9-4834-b316-91d73a971aa9')\"\n",
              "              title=\"Convert this dataframe to an interactive table.\"\n",
              "              style=\"display:none;\">\n",
              "        \n",
              "  <svg xmlns=\"http://www.w3.org/2000/svg\" height=\"24px\"viewBox=\"0 0 24 24\"\n",
              "       width=\"24px\">\n",
              "    <path d=\"M0 0h24v24H0V0z\" fill=\"none\"/>\n",
              "    <path d=\"M18.56 5.44l.94 2.06.94-2.06 2.06-.94-2.06-.94-.94-2.06-.94 2.06-2.06.94zm-11 1L8.5 8.5l.94-2.06 2.06-.94-2.06-.94L8.5 2.5l-.94 2.06-2.06.94zm10 10l.94 2.06.94-2.06 2.06-.94-2.06-.94-.94-2.06-.94 2.06-2.06.94z\"/><path d=\"M17.41 7.96l-1.37-1.37c-.4-.4-.92-.59-1.43-.59-.52 0-1.04.2-1.43.59L10.3 9.45l-7.72 7.72c-.78.78-.78 2.05 0 2.83L4 21.41c.39.39.9.59 1.41.59.51 0 1.02-.2 1.41-.59l7.78-7.78 2.81-2.81c.8-.78.8-2.07 0-2.86zM5.41 20L4 18.59l7.72-7.72 1.47 1.35L5.41 20z\"/>\n",
              "  </svg>\n",
              "      </button>\n",
              "      \n",
              "  <style>\n",
              "    .colab-df-container {\n",
              "      display:flex;\n",
              "      flex-wrap:wrap;\n",
              "      gap: 12px;\n",
              "    }\n",
              "\n",
              "    .colab-df-convert {\n",
              "      background-color: #E8F0FE;\n",
              "      border: none;\n",
              "      border-radius: 50%;\n",
              "      cursor: pointer;\n",
              "      display: none;\n",
              "      fill: #1967D2;\n",
              "      height: 32px;\n",
              "      padding: 0 0 0 0;\n",
              "      width: 32px;\n",
              "    }\n",
              "\n",
              "    .colab-df-convert:hover {\n",
              "      background-color: #E2EBFA;\n",
              "      box-shadow: 0px 1px 2px rgba(60, 64, 67, 0.3), 0px 1px 3px 1px rgba(60, 64, 67, 0.15);\n",
              "      fill: #174EA6;\n",
              "    }\n",
              "\n",
              "    [theme=dark] .colab-df-convert {\n",
              "      background-color: #3B4455;\n",
              "      fill: #D2E3FC;\n",
              "    }\n",
              "\n",
              "    [theme=dark] .colab-df-convert:hover {\n",
              "      background-color: #434B5C;\n",
              "      box-shadow: 0px 1px 3px 1px rgba(0, 0, 0, 0.15);\n",
              "      filter: drop-shadow(0px 1px 2px rgba(0, 0, 0, 0.3));\n",
              "      fill: #FFFFFF;\n",
              "    }\n",
              "  </style>\n",
              "\n",
              "      <script>\n",
              "        const buttonEl =\n",
              "          document.querySelector('#df-e8186861-abe9-4834-b316-91d73a971aa9 button.colab-df-convert');\n",
              "        buttonEl.style.display =\n",
              "          google.colab.kernel.accessAllowed ? 'block' : 'none';\n",
              "\n",
              "        async function convertToInteractive(key) {\n",
              "          const element = document.querySelector('#df-e8186861-abe9-4834-b316-91d73a971aa9');\n",
              "          const dataTable =\n",
              "            await google.colab.kernel.invokeFunction('convertToInteractive',\n",
              "                                                     [key], {});\n",
              "          if (!dataTable) return;\n",
              "\n",
              "          const docLinkHtml = 'Like what you see? Visit the ' +\n",
              "            '<a target=\"_blank\" href=https://colab.research.google.com/notebooks/data_table.ipynb>data table notebook</a>'\n",
              "            + ' to learn more about interactive tables.';\n",
              "          element.innerHTML = '';\n",
              "          dataTable['output_type'] = 'display_data';\n",
              "          await google.colab.output.renderOutput(dataTable, element);\n",
              "          const docLink = document.createElement('div');\n",
              "          docLink.innerHTML = docLinkHtml;\n",
              "          element.appendChild(docLink);\n",
              "        }\n",
              "      </script>\n",
              "    </div>\n",
              "  </div>\n",
              "  "
            ]
          },
          "metadata": {},
          "execution_count": 11
        }
      ],
      "source": [
        "x.head()"
      ]
    },
    {
      "cell_type": "code",
      "source": [
        "x.shape"
      ],
      "metadata": {
        "colab": {
          "base_uri": "https://localhost:8080/"
        },
        "id": "dCfpnic9IJ5I",
        "outputId": "265e080e-3bff-4ced-f17d-e6a67330956c"
      },
      "execution_count": null,
      "outputs": [
        {
          "output_type": "execute_result",
          "data": {
            "text/plain": [
              "(526, 7)"
            ]
          },
          "metadata": {},
          "execution_count": 12
        }
      ]
    },
    {
      "cell_type": "code",
      "execution_count": null,
      "metadata": {
        "id": "nOA9OEFQFpWd"
      },
      "outputs": [],
      "source": [
        "x['date'] = x.index"
      ]
    },
    {
      "cell_type": "code",
      "source": [
        "print(x.shape)\n",
        "x"
      ],
      "metadata": {
        "colab": {
          "base_uri": "https://localhost:8080/",
          "height": 708
        },
        "id": "bf_g3mq0IQa3",
        "outputId": "361641ed-7c63-4ff9-fb46-3fa6056d9e7e"
      },
      "execution_count": null,
      "outputs": [
        {
          "output_type": "stream",
          "name": "stdout",
          "text": [
            "(526, 8)\n"
          ]
        },
        {
          "output_type": "execute_result",
          "data": {
            "text/plain": [
              "                                 Open        High         Low       Close  \\\n",
              "Date                                                                        \n",
              "2020-01-02 00:00:00-05:00  138.428922  139.868957  137.481284  139.850372   \n",
              "2020-01-03 00:00:00-05:00  138.215250  139.320826  136.988893  137.908661   \n",
              "2020-01-06 00:00:00-05:00  136.821655  138.020128  136.143436  137.815735   \n",
              "2020-01-07 00:00:00-05:00  136.895995  137.100388  135.186526  135.994812   \n",
              "2020-01-08 00:00:00-05:00  136.412874  138.029431  136.069129  137.202560   \n",
              "...                               ...         ...         ...         ...   \n",
              "2022-01-26 00:00:00-05:00  211.081420  214.890708  208.371729  210.384354   \n",
              "2022-01-27 00:00:00-05:00  211.287626  213.928586  206.319836  208.303024   \n",
              "2022-01-28 00:00:00-05:00  201.842935  204.209014  193.213147  197.493683   \n",
              "2022-01-31 00:00:00-05:00  195.814839  197.925662  191.131773  197.886383   \n",
              "2022-02-01 00:00:00-05:00  197.140255  202.039298  196.884984  201.607330   \n",
              "\n",
              "                             Volume  Dividends  Stock Splits  \\\n",
              "Date                                                           \n",
              "2020-01-02 00:00:00-05:00   3311900        0.0             0   \n",
              "2020-01-03 00:00:00-05:00   3100600        0.0             0   \n",
              "2020-01-06 00:00:00-05:00   2549600        0.0             0   \n",
              "2020-01-07 00:00:00-05:00   2841900        0.0             0   \n",
              "2020-01-08 00:00:00-05:00   2153200        0.0             0   \n",
              "...                             ...        ...           ...   \n",
              "2022-01-26 00:00:00-05:00   3558500        0.0             0   \n",
              "2022-01-27 00:00:00-05:00   3678100        0.0             0   \n",
              "2022-01-28 00:00:00-05:00  10747300        0.0             0   \n",
              "2022-01-31 00:00:00-05:00   6179000        0.0             0   \n",
              "2022-02-01 00:00:00-05:00   4026400        0.0             0   \n",
              "\n",
              "                                               date  \n",
              "Date                                                 \n",
              "2020-01-02 00:00:00-05:00 2020-01-02 00:00:00-05:00  \n",
              "2020-01-03 00:00:00-05:00 2020-01-03 00:00:00-05:00  \n",
              "2020-01-06 00:00:00-05:00 2020-01-06 00:00:00-05:00  \n",
              "2020-01-07 00:00:00-05:00 2020-01-07 00:00:00-05:00  \n",
              "2020-01-08 00:00:00-05:00 2020-01-08 00:00:00-05:00  \n",
              "...                                             ...  \n",
              "2022-01-26 00:00:00-05:00 2022-01-26 00:00:00-05:00  \n",
              "2022-01-27 00:00:00-05:00 2022-01-27 00:00:00-05:00  \n",
              "2022-01-28 00:00:00-05:00 2022-01-28 00:00:00-05:00  \n",
              "2022-01-31 00:00:00-05:00 2022-01-31 00:00:00-05:00  \n",
              "2022-02-01 00:00:00-05:00 2022-02-01 00:00:00-05:00  \n",
              "\n",
              "[526 rows x 8 columns]"
            ],
            "text/html": [
              "\n",
              "  <div id=\"df-c87a857d-d07a-42cc-a435-2a3f033154e2\">\n",
              "    <div class=\"colab-df-container\">\n",
              "      <div>\n",
              "<style scoped>\n",
              "    .dataframe tbody tr th:only-of-type {\n",
              "        vertical-align: middle;\n",
              "    }\n",
              "\n",
              "    .dataframe tbody tr th {\n",
              "        vertical-align: top;\n",
              "    }\n",
              "\n",
              "    .dataframe thead th {\n",
              "        text-align: right;\n",
              "    }\n",
              "</style>\n",
              "<table border=\"1\" class=\"dataframe\">\n",
              "  <thead>\n",
              "    <tr style=\"text-align: right;\">\n",
              "      <th></th>\n",
              "      <th>Open</th>\n",
              "      <th>High</th>\n",
              "      <th>Low</th>\n",
              "      <th>Close</th>\n",
              "      <th>Volume</th>\n",
              "      <th>Dividends</th>\n",
              "      <th>Stock Splits</th>\n",
              "      <th>date</th>\n",
              "    </tr>\n",
              "    <tr>\n",
              "      <th>Date</th>\n",
              "      <th></th>\n",
              "      <th></th>\n",
              "      <th></th>\n",
              "      <th></th>\n",
              "      <th></th>\n",
              "      <th></th>\n",
              "      <th></th>\n",
              "      <th></th>\n",
              "    </tr>\n",
              "  </thead>\n",
              "  <tbody>\n",
              "    <tr>\n",
              "      <th>2020-01-02 00:00:00-05:00</th>\n",
              "      <td>138.428922</td>\n",
              "      <td>139.868957</td>\n",
              "      <td>137.481284</td>\n",
              "      <td>139.850372</td>\n",
              "      <td>3311900</td>\n",
              "      <td>0.0</td>\n",
              "      <td>0</td>\n",
              "      <td>2020-01-02 00:00:00-05:00</td>\n",
              "    </tr>\n",
              "    <tr>\n",
              "      <th>2020-01-03 00:00:00-05:00</th>\n",
              "      <td>138.215250</td>\n",
              "      <td>139.320826</td>\n",
              "      <td>136.988893</td>\n",
              "      <td>137.908661</td>\n",
              "      <td>3100600</td>\n",
              "      <td>0.0</td>\n",
              "      <td>0</td>\n",
              "      <td>2020-01-03 00:00:00-05:00</td>\n",
              "    </tr>\n",
              "    <tr>\n",
              "      <th>2020-01-06 00:00:00-05:00</th>\n",
              "      <td>136.821655</td>\n",
              "      <td>138.020128</td>\n",
              "      <td>136.143436</td>\n",
              "      <td>137.815735</td>\n",
              "      <td>2549600</td>\n",
              "      <td>0.0</td>\n",
              "      <td>0</td>\n",
              "      <td>2020-01-06 00:00:00-05:00</td>\n",
              "    </tr>\n",
              "    <tr>\n",
              "      <th>2020-01-07 00:00:00-05:00</th>\n",
              "      <td>136.895995</td>\n",
              "      <td>137.100388</td>\n",
              "      <td>135.186526</td>\n",
              "      <td>135.994812</td>\n",
              "      <td>2841900</td>\n",
              "      <td>0.0</td>\n",
              "      <td>0</td>\n",
              "      <td>2020-01-07 00:00:00-05:00</td>\n",
              "    </tr>\n",
              "    <tr>\n",
              "      <th>2020-01-08 00:00:00-05:00</th>\n",
              "      <td>136.412874</td>\n",
              "      <td>138.029431</td>\n",
              "      <td>136.069129</td>\n",
              "      <td>137.202560</td>\n",
              "      <td>2153200</td>\n",
              "      <td>0.0</td>\n",
              "      <td>0</td>\n",
              "      <td>2020-01-08 00:00:00-05:00</td>\n",
              "    </tr>\n",
              "    <tr>\n",
              "      <th>...</th>\n",
              "      <td>...</td>\n",
              "      <td>...</td>\n",
              "      <td>...</td>\n",
              "      <td>...</td>\n",
              "      <td>...</td>\n",
              "      <td>...</td>\n",
              "      <td>...</td>\n",
              "      <td>...</td>\n",
              "    </tr>\n",
              "    <tr>\n",
              "      <th>2022-01-26 00:00:00-05:00</th>\n",
              "      <td>211.081420</td>\n",
              "      <td>214.890708</td>\n",
              "      <td>208.371729</td>\n",
              "      <td>210.384354</td>\n",
              "      <td>3558500</td>\n",
              "      <td>0.0</td>\n",
              "      <td>0</td>\n",
              "      <td>2022-01-26 00:00:00-05:00</td>\n",
              "    </tr>\n",
              "    <tr>\n",
              "      <th>2022-01-27 00:00:00-05:00</th>\n",
              "      <td>211.287626</td>\n",
              "      <td>213.928586</td>\n",
              "      <td>206.319836</td>\n",
              "      <td>208.303024</td>\n",
              "      <td>3678100</td>\n",
              "      <td>0.0</td>\n",
              "      <td>0</td>\n",
              "      <td>2022-01-27 00:00:00-05:00</td>\n",
              "    </tr>\n",
              "    <tr>\n",
              "      <th>2022-01-28 00:00:00-05:00</th>\n",
              "      <td>201.842935</td>\n",
              "      <td>204.209014</td>\n",
              "      <td>193.213147</td>\n",
              "      <td>197.493683</td>\n",
              "      <td>10747300</td>\n",
              "      <td>0.0</td>\n",
              "      <td>0</td>\n",
              "      <td>2022-01-28 00:00:00-05:00</td>\n",
              "    </tr>\n",
              "    <tr>\n",
              "      <th>2022-01-31 00:00:00-05:00</th>\n",
              "      <td>195.814839</td>\n",
              "      <td>197.925662</td>\n",
              "      <td>191.131773</td>\n",
              "      <td>197.886383</td>\n",
              "      <td>6179000</td>\n",
              "      <td>0.0</td>\n",
              "      <td>0</td>\n",
              "      <td>2022-01-31 00:00:00-05:00</td>\n",
              "    </tr>\n",
              "    <tr>\n",
              "      <th>2022-02-01 00:00:00-05:00</th>\n",
              "      <td>197.140255</td>\n",
              "      <td>202.039298</td>\n",
              "      <td>196.884984</td>\n",
              "      <td>201.607330</td>\n",
              "      <td>4026400</td>\n",
              "      <td>0.0</td>\n",
              "      <td>0</td>\n",
              "      <td>2022-02-01 00:00:00-05:00</td>\n",
              "    </tr>\n",
              "  </tbody>\n",
              "</table>\n",
              "<p>526 rows × 8 columns</p>\n",
              "</div>\n",
              "      <button class=\"colab-df-convert\" onclick=\"convertToInteractive('df-c87a857d-d07a-42cc-a435-2a3f033154e2')\"\n",
              "              title=\"Convert this dataframe to an interactive table.\"\n",
              "              style=\"display:none;\">\n",
              "        \n",
              "  <svg xmlns=\"http://www.w3.org/2000/svg\" height=\"24px\"viewBox=\"0 0 24 24\"\n",
              "       width=\"24px\">\n",
              "    <path d=\"M0 0h24v24H0V0z\" fill=\"none\"/>\n",
              "    <path d=\"M18.56 5.44l.94 2.06.94-2.06 2.06-.94-2.06-.94-.94-2.06-.94 2.06-2.06.94zm-11 1L8.5 8.5l.94-2.06 2.06-.94-2.06-.94L8.5 2.5l-.94 2.06-2.06.94zm10 10l.94 2.06.94-2.06 2.06-.94-2.06-.94-.94-2.06-.94 2.06-2.06.94z\"/><path d=\"M17.41 7.96l-1.37-1.37c-.4-.4-.92-.59-1.43-.59-.52 0-1.04.2-1.43.59L10.3 9.45l-7.72 7.72c-.78.78-.78 2.05 0 2.83L4 21.41c.39.39.9.59 1.41.59.51 0 1.02-.2 1.41-.59l7.78-7.78 2.81-2.81c.8-.78.8-2.07 0-2.86zM5.41 20L4 18.59l7.72-7.72 1.47 1.35L5.41 20z\"/>\n",
              "  </svg>\n",
              "      </button>\n",
              "      \n",
              "  <style>\n",
              "    .colab-df-container {\n",
              "      display:flex;\n",
              "      flex-wrap:wrap;\n",
              "      gap: 12px;\n",
              "    }\n",
              "\n",
              "    .colab-df-convert {\n",
              "      background-color: #E8F0FE;\n",
              "      border: none;\n",
              "      border-radius: 50%;\n",
              "      cursor: pointer;\n",
              "      display: none;\n",
              "      fill: #1967D2;\n",
              "      height: 32px;\n",
              "      padding: 0 0 0 0;\n",
              "      width: 32px;\n",
              "    }\n",
              "\n",
              "    .colab-df-convert:hover {\n",
              "      background-color: #E2EBFA;\n",
              "      box-shadow: 0px 1px 2px rgba(60, 64, 67, 0.3), 0px 1px 3px 1px rgba(60, 64, 67, 0.15);\n",
              "      fill: #174EA6;\n",
              "    }\n",
              "\n",
              "    [theme=dark] .colab-df-convert {\n",
              "      background-color: #3B4455;\n",
              "      fill: #D2E3FC;\n",
              "    }\n",
              "\n",
              "    [theme=dark] .colab-df-convert:hover {\n",
              "      background-color: #434B5C;\n",
              "      box-shadow: 0px 1px 3px 1px rgba(0, 0, 0, 0.15);\n",
              "      filter: drop-shadow(0px 1px 2px rgba(0, 0, 0, 0.3));\n",
              "      fill: #FFFFFF;\n",
              "    }\n",
              "  </style>\n",
              "\n",
              "      <script>\n",
              "        const buttonEl =\n",
              "          document.querySelector('#df-c87a857d-d07a-42cc-a435-2a3f033154e2 button.colab-df-convert');\n",
              "        buttonEl.style.display =\n",
              "          google.colab.kernel.accessAllowed ? 'block' : 'none';\n",
              "\n",
              "        async function convertToInteractive(key) {\n",
              "          const element = document.querySelector('#df-c87a857d-d07a-42cc-a435-2a3f033154e2');\n",
              "          const dataTable =\n",
              "            await google.colab.kernel.invokeFunction('convertToInteractive',\n",
              "                                                     [key], {});\n",
              "          if (!dataTable) return;\n",
              "\n",
              "          const docLinkHtml = 'Like what you see? Visit the ' +\n",
              "            '<a target=\"_blank\" href=https://colab.research.google.com/notebooks/data_table.ipynb>data table notebook</a>'\n",
              "            + ' to learn more about interactive tables.';\n",
              "          element.innerHTML = '';\n",
              "          dataTable['output_type'] = 'display_data';\n",
              "          await google.colab.output.renderOutput(dataTable, element);\n",
              "          const docLink = document.createElement('div');\n",
              "          docLink.innerHTML = docLinkHtml;\n",
              "          element.appendChild(docLink);\n",
              "        }\n",
              "      </script>\n",
              "    </div>\n",
              "  </div>\n",
              "  "
            ]
          },
          "metadata": {},
          "execution_count": 15
        }
      ]
    },
    {
      "cell_type": "code",
      "execution_count": null,
      "metadata": {
        "id": "PDMt2rNRFpWd",
        "outputId": "a8743605-8e4f-4787-ba9e-fc4f7580f359",
        "colab": {
          "base_uri": "https://localhost:8080/",
          "height": 691
        }
      },
      "outputs": [
        {
          "output_type": "error",
          "ename": "KeyError",
          "evalue": "ignored",
          "traceback": [
            "\u001b[0;31m---------------------------------------------------------------------------\u001b[0m",
            "\u001b[0;31mKeyError\u001b[0m                                  Traceback (most recent call last)",
            "\u001b[0;32m<ipython-input-18-55c5ac149528>\u001b[0m in \u001b[0;36m<module>\u001b[0;34m\u001b[0m\n\u001b[0;32m----> 1\u001b[0;31m \u001b[0mx\u001b[0m\u001b[0;34m.\u001b[0m\u001b[0mplot\u001b[0m\u001b[0;34m.\u001b[0m\u001b[0mscatter\u001b[0m\u001b[0;34m(\u001b[0m\u001b[0mx\u001b[0m \u001b[0;34m=\u001b[0m  \u001b[0mx\u001b[0m\u001b[0;34m.\u001b[0m\u001b[0mindex\u001b[0m\u001b[0;34m,\u001b[0m \u001b[0my\u001b[0m \u001b[0;34m=\u001b[0m \u001b[0;34m'Open'\u001b[0m\u001b[0;34m)\u001b[0m\u001b[0;34m\u001b[0m\u001b[0;34m\u001b[0m\u001b[0m\n\u001b[0m",
            "\u001b[0;32m/usr/local/lib/python3.8/dist-packages/pandas/plotting/_core.py\u001b[0m in \u001b[0;36mscatter\u001b[0;34m(self, x, y, s, c, **kwargs)\u001b[0m\n\u001b[1;32m   1634\u001b[0m             ...                       colormap='viridis')\n\u001b[1;32m   1635\u001b[0m         \"\"\"\n\u001b[0;32m-> 1636\u001b[0;31m         \u001b[0;32mreturn\u001b[0m \u001b[0mself\u001b[0m\u001b[0;34m(\u001b[0m\u001b[0mkind\u001b[0m\u001b[0;34m=\u001b[0m\u001b[0;34m\"scatter\"\u001b[0m\u001b[0;34m,\u001b[0m \u001b[0mx\u001b[0m\u001b[0;34m=\u001b[0m\u001b[0mx\u001b[0m\u001b[0;34m,\u001b[0m \u001b[0my\u001b[0m\u001b[0;34m=\u001b[0m\u001b[0my\u001b[0m\u001b[0;34m,\u001b[0m \u001b[0ms\u001b[0m\u001b[0;34m=\u001b[0m\u001b[0ms\u001b[0m\u001b[0;34m,\u001b[0m \u001b[0mc\u001b[0m\u001b[0;34m=\u001b[0m\u001b[0mc\u001b[0m\u001b[0;34m,\u001b[0m \u001b[0;34m**\u001b[0m\u001b[0mkwargs\u001b[0m\u001b[0;34m)\u001b[0m\u001b[0;34m\u001b[0m\u001b[0;34m\u001b[0m\u001b[0m\n\u001b[0m\u001b[1;32m   1637\u001b[0m \u001b[0;34m\u001b[0m\u001b[0m\n\u001b[1;32m   1638\u001b[0m     \u001b[0;32mdef\u001b[0m \u001b[0mhexbin\u001b[0m\u001b[0;34m(\u001b[0m\u001b[0mself\u001b[0m\u001b[0;34m,\u001b[0m \u001b[0mx\u001b[0m\u001b[0;34m,\u001b[0m \u001b[0my\u001b[0m\u001b[0;34m,\u001b[0m \u001b[0mC\u001b[0m\u001b[0;34m=\u001b[0m\u001b[0;32mNone\u001b[0m\u001b[0;34m,\u001b[0m \u001b[0mreduce_C_function\u001b[0m\u001b[0;34m=\u001b[0m\u001b[0;32mNone\u001b[0m\u001b[0;34m,\u001b[0m \u001b[0mgridsize\u001b[0m\u001b[0;34m=\u001b[0m\u001b[0;32mNone\u001b[0m\u001b[0;34m,\u001b[0m \u001b[0;34m**\u001b[0m\u001b[0mkwargs\u001b[0m\u001b[0;34m)\u001b[0m\u001b[0;34m:\u001b[0m\u001b[0;34m\u001b[0m\u001b[0;34m\u001b[0m\u001b[0m\n",
            "\u001b[0;32m/usr/local/lib/python3.8/dist-packages/pandas/plotting/_core.py\u001b[0m in \u001b[0;36m__call__\u001b[0;34m(self, *args, **kwargs)\u001b[0m\n\u001b[1;32m    915\u001b[0m         \u001b[0;32mif\u001b[0m \u001b[0mkind\u001b[0m \u001b[0;32min\u001b[0m \u001b[0mself\u001b[0m\u001b[0;34m.\u001b[0m\u001b[0m_dataframe_kinds\u001b[0m\u001b[0;34m:\u001b[0m\u001b[0;34m\u001b[0m\u001b[0;34m\u001b[0m\u001b[0m\n\u001b[1;32m    916\u001b[0m             \u001b[0;32mif\u001b[0m \u001b[0misinstance\u001b[0m\u001b[0;34m(\u001b[0m\u001b[0mdata\u001b[0m\u001b[0;34m,\u001b[0m \u001b[0mABCDataFrame\u001b[0m\u001b[0;34m)\u001b[0m\u001b[0;34m:\u001b[0m\u001b[0;34m\u001b[0m\u001b[0;34m\u001b[0m\u001b[0m\n\u001b[0;32m--> 917\u001b[0;31m                 \u001b[0;32mreturn\u001b[0m \u001b[0mplot_backend\u001b[0m\u001b[0;34m.\u001b[0m\u001b[0mplot\u001b[0m\u001b[0;34m(\u001b[0m\u001b[0mdata\u001b[0m\u001b[0;34m,\u001b[0m \u001b[0mx\u001b[0m\u001b[0;34m=\u001b[0m\u001b[0mx\u001b[0m\u001b[0;34m,\u001b[0m \u001b[0my\u001b[0m\u001b[0;34m=\u001b[0m\u001b[0my\u001b[0m\u001b[0;34m,\u001b[0m \u001b[0mkind\u001b[0m\u001b[0;34m=\u001b[0m\u001b[0mkind\u001b[0m\u001b[0;34m,\u001b[0m \u001b[0;34m**\u001b[0m\u001b[0mkwargs\u001b[0m\u001b[0;34m)\u001b[0m\u001b[0;34m\u001b[0m\u001b[0;34m\u001b[0m\u001b[0m\n\u001b[0m\u001b[1;32m    918\u001b[0m             \u001b[0;32melse\u001b[0m\u001b[0;34m:\u001b[0m\u001b[0;34m\u001b[0m\u001b[0;34m\u001b[0m\u001b[0m\n\u001b[1;32m    919\u001b[0m                 \u001b[0;32mraise\u001b[0m \u001b[0mValueError\u001b[0m\u001b[0;34m(\u001b[0m\u001b[0;34mf\"plot kind {kind} can only be used for data frames\"\u001b[0m\u001b[0;34m)\u001b[0m\u001b[0;34m\u001b[0m\u001b[0;34m\u001b[0m\u001b[0m\n",
            "\u001b[0;32m/usr/local/lib/python3.8/dist-packages/pandas/plotting/_matplotlib/__init__.py\u001b[0m in \u001b[0;36mplot\u001b[0;34m(data, kind, **kwargs)\u001b[0m\n\u001b[1;32m     69\u001b[0m             \u001b[0mkwargs\u001b[0m\u001b[0;34m[\u001b[0m\u001b[0;34m\"ax\"\u001b[0m\u001b[0;34m]\u001b[0m \u001b[0;34m=\u001b[0m \u001b[0mgetattr\u001b[0m\u001b[0;34m(\u001b[0m\u001b[0max\u001b[0m\u001b[0;34m,\u001b[0m \u001b[0;34m\"left_ax\"\u001b[0m\u001b[0;34m,\u001b[0m \u001b[0max\u001b[0m\u001b[0;34m)\u001b[0m\u001b[0;34m\u001b[0m\u001b[0;34m\u001b[0m\u001b[0m\n\u001b[1;32m     70\u001b[0m     \u001b[0mplot_obj\u001b[0m \u001b[0;34m=\u001b[0m \u001b[0mPLOT_CLASSES\u001b[0m\u001b[0;34m[\u001b[0m\u001b[0mkind\u001b[0m\u001b[0;34m]\u001b[0m\u001b[0;34m(\u001b[0m\u001b[0mdata\u001b[0m\u001b[0;34m,\u001b[0m \u001b[0;34m**\u001b[0m\u001b[0mkwargs\u001b[0m\u001b[0;34m)\u001b[0m\u001b[0;34m\u001b[0m\u001b[0;34m\u001b[0m\u001b[0m\n\u001b[0;32m---> 71\u001b[0;31m     \u001b[0mplot_obj\u001b[0m\u001b[0;34m.\u001b[0m\u001b[0mgenerate\u001b[0m\u001b[0;34m(\u001b[0m\u001b[0;34m)\u001b[0m\u001b[0;34m\u001b[0m\u001b[0;34m\u001b[0m\u001b[0m\n\u001b[0m\u001b[1;32m     72\u001b[0m     \u001b[0mplot_obj\u001b[0m\u001b[0;34m.\u001b[0m\u001b[0mdraw\u001b[0m\u001b[0;34m(\u001b[0m\u001b[0;34m)\u001b[0m\u001b[0;34m\u001b[0m\u001b[0;34m\u001b[0m\u001b[0m\n\u001b[1;32m     73\u001b[0m     \u001b[0;32mreturn\u001b[0m \u001b[0mplot_obj\u001b[0m\u001b[0;34m.\u001b[0m\u001b[0mresult\u001b[0m\u001b[0;34m\u001b[0m\u001b[0;34m\u001b[0m\u001b[0m\n",
            "\u001b[0;32m/usr/local/lib/python3.8/dist-packages/pandas/plotting/_matplotlib/core.py\u001b[0m in \u001b[0;36mgenerate\u001b[0;34m(self)\u001b[0m\n\u001b[1;32m    286\u001b[0m         \u001b[0mself\u001b[0m\u001b[0;34m.\u001b[0m\u001b[0m_compute_plot_data\u001b[0m\u001b[0;34m(\u001b[0m\u001b[0;34m)\u001b[0m\u001b[0;34m\u001b[0m\u001b[0;34m\u001b[0m\u001b[0m\n\u001b[1;32m    287\u001b[0m         \u001b[0mself\u001b[0m\u001b[0;34m.\u001b[0m\u001b[0m_setup_subplots\u001b[0m\u001b[0;34m(\u001b[0m\u001b[0;34m)\u001b[0m\u001b[0;34m\u001b[0m\u001b[0;34m\u001b[0m\u001b[0m\n\u001b[0;32m--> 288\u001b[0;31m         \u001b[0mself\u001b[0m\u001b[0;34m.\u001b[0m\u001b[0m_make_plot\u001b[0m\u001b[0;34m(\u001b[0m\u001b[0;34m)\u001b[0m\u001b[0;34m\u001b[0m\u001b[0;34m\u001b[0m\u001b[0m\n\u001b[0m\u001b[1;32m    289\u001b[0m         \u001b[0mself\u001b[0m\u001b[0;34m.\u001b[0m\u001b[0m_add_table\u001b[0m\u001b[0;34m(\u001b[0m\u001b[0;34m)\u001b[0m\u001b[0;34m\u001b[0m\u001b[0;34m\u001b[0m\u001b[0m\n\u001b[1;32m    290\u001b[0m         \u001b[0mself\u001b[0m\u001b[0;34m.\u001b[0m\u001b[0m_make_legend\u001b[0m\u001b[0;34m(\u001b[0m\u001b[0;34m)\u001b[0m\u001b[0;34m\u001b[0m\u001b[0;34m\u001b[0m\u001b[0m\n",
            "\u001b[0;32m/usr/local/lib/python3.8/dist-packages/pandas/plotting/_matplotlib/core.py\u001b[0m in \u001b[0;36m_make_plot\u001b[0;34m(self)\u001b[0m\n\u001b[1;32m   1069\u001b[0m             \u001b[0mlabel\u001b[0m \u001b[0;34m=\u001b[0m \u001b[0;32mNone\u001b[0m\u001b[0;34m\u001b[0m\u001b[0;34m\u001b[0m\u001b[0m\n\u001b[1;32m   1070\u001b[0m         scatter = ax.scatter(\n\u001b[0;32m-> 1071\u001b[0;31m             \u001b[0mdata\u001b[0m\u001b[0;34m[\u001b[0m\u001b[0mx\u001b[0m\u001b[0;34m]\u001b[0m\u001b[0;34m.\u001b[0m\u001b[0mvalues\u001b[0m\u001b[0;34m,\u001b[0m\u001b[0;34m\u001b[0m\u001b[0;34m\u001b[0m\u001b[0m\n\u001b[0m\u001b[1;32m   1072\u001b[0m             \u001b[0mdata\u001b[0m\u001b[0;34m[\u001b[0m\u001b[0my\u001b[0m\u001b[0;34m]\u001b[0m\u001b[0;34m.\u001b[0m\u001b[0mvalues\u001b[0m\u001b[0;34m,\u001b[0m\u001b[0;34m\u001b[0m\u001b[0;34m\u001b[0m\u001b[0m\n\u001b[1;32m   1073\u001b[0m             \u001b[0mc\u001b[0m\u001b[0;34m=\u001b[0m\u001b[0mc_values\u001b[0m\u001b[0;34m,\u001b[0m\u001b[0;34m\u001b[0m\u001b[0;34m\u001b[0m\u001b[0m\n",
            "\u001b[0;32m/usr/local/lib/python3.8/dist-packages/pandas/core/frame.py\u001b[0m in \u001b[0;36m__getitem__\u001b[0;34m(self, key)\u001b[0m\n\u001b[1;32m   3462\u001b[0m             \u001b[0;32mif\u001b[0m \u001b[0mis_iterator\u001b[0m\u001b[0;34m(\u001b[0m\u001b[0mkey\u001b[0m\u001b[0;34m)\u001b[0m\u001b[0;34m:\u001b[0m\u001b[0;34m\u001b[0m\u001b[0;34m\u001b[0m\u001b[0m\n\u001b[1;32m   3463\u001b[0m                 \u001b[0mkey\u001b[0m \u001b[0;34m=\u001b[0m \u001b[0mlist\u001b[0m\u001b[0;34m(\u001b[0m\u001b[0mkey\u001b[0m\u001b[0;34m)\u001b[0m\u001b[0;34m\u001b[0m\u001b[0;34m\u001b[0m\u001b[0m\n\u001b[0;32m-> 3464\u001b[0;31m             \u001b[0mindexer\u001b[0m \u001b[0;34m=\u001b[0m \u001b[0mself\u001b[0m\u001b[0;34m.\u001b[0m\u001b[0mloc\u001b[0m\u001b[0;34m.\u001b[0m\u001b[0m_get_listlike_indexer\u001b[0m\u001b[0;34m(\u001b[0m\u001b[0mkey\u001b[0m\u001b[0;34m,\u001b[0m \u001b[0maxis\u001b[0m\u001b[0;34m=\u001b[0m\u001b[0;36m1\u001b[0m\u001b[0;34m)\u001b[0m\u001b[0;34m[\u001b[0m\u001b[0;36m1\u001b[0m\u001b[0;34m]\u001b[0m\u001b[0;34m\u001b[0m\u001b[0;34m\u001b[0m\u001b[0m\n\u001b[0m\u001b[1;32m   3465\u001b[0m \u001b[0;34m\u001b[0m\u001b[0m\n\u001b[1;32m   3466\u001b[0m         \u001b[0;31m# take() does not accept boolean indexers\u001b[0m\u001b[0;34m\u001b[0m\u001b[0;34m\u001b[0m\u001b[0;34m\u001b[0m\u001b[0m\n",
            "\u001b[0;32m/usr/local/lib/python3.8/dist-packages/pandas/core/indexing.py\u001b[0m in \u001b[0;36m_get_listlike_indexer\u001b[0;34m(self, key, axis)\u001b[0m\n\u001b[1;32m   1312\u001b[0m             \u001b[0mkeyarr\u001b[0m\u001b[0;34m,\u001b[0m \u001b[0mindexer\u001b[0m\u001b[0;34m,\u001b[0m \u001b[0mnew_indexer\u001b[0m \u001b[0;34m=\u001b[0m \u001b[0max\u001b[0m\u001b[0;34m.\u001b[0m\u001b[0m_reindex_non_unique\u001b[0m\u001b[0;34m(\u001b[0m\u001b[0mkeyarr\u001b[0m\u001b[0;34m)\u001b[0m\u001b[0;34m\u001b[0m\u001b[0;34m\u001b[0m\u001b[0m\n\u001b[1;32m   1313\u001b[0m \u001b[0;34m\u001b[0m\u001b[0m\n\u001b[0;32m-> 1314\u001b[0;31m         \u001b[0mself\u001b[0m\u001b[0;34m.\u001b[0m\u001b[0m_validate_read_indexer\u001b[0m\u001b[0;34m(\u001b[0m\u001b[0mkeyarr\u001b[0m\u001b[0;34m,\u001b[0m \u001b[0mindexer\u001b[0m\u001b[0;34m,\u001b[0m \u001b[0maxis\u001b[0m\u001b[0;34m)\u001b[0m\u001b[0;34m\u001b[0m\u001b[0;34m\u001b[0m\u001b[0m\n\u001b[0m\u001b[1;32m   1315\u001b[0m \u001b[0;34m\u001b[0m\u001b[0m\n\u001b[1;32m   1316\u001b[0m         if needs_i8_conversion(ax.dtype) or isinstance(\n",
            "\u001b[0;32m/usr/local/lib/python3.8/dist-packages/pandas/core/indexing.py\u001b[0m in \u001b[0;36m_validate_read_indexer\u001b[0;34m(self, key, indexer, axis)\u001b[0m\n\u001b[1;32m   1372\u001b[0m                 \u001b[0;32mif\u001b[0m \u001b[0muse_interval_msg\u001b[0m\u001b[0;34m:\u001b[0m\u001b[0;34m\u001b[0m\u001b[0;34m\u001b[0m\u001b[0m\n\u001b[1;32m   1373\u001b[0m                     \u001b[0mkey\u001b[0m \u001b[0;34m=\u001b[0m \u001b[0mlist\u001b[0m\u001b[0;34m(\u001b[0m\u001b[0mkey\u001b[0m\u001b[0;34m)\u001b[0m\u001b[0;34m\u001b[0m\u001b[0;34m\u001b[0m\u001b[0m\n\u001b[0;32m-> 1374\u001b[0;31m                 \u001b[0;32mraise\u001b[0m \u001b[0mKeyError\u001b[0m\u001b[0;34m(\u001b[0m\u001b[0;34mf\"None of [{key}] are in the [{axis_name}]\"\u001b[0m\u001b[0;34m)\u001b[0m\u001b[0;34m\u001b[0m\u001b[0;34m\u001b[0m\u001b[0m\n\u001b[0m\u001b[1;32m   1375\u001b[0m \u001b[0;34m\u001b[0m\u001b[0m\n\u001b[1;32m   1376\u001b[0m             \u001b[0mnot_found\u001b[0m \u001b[0;34m=\u001b[0m \u001b[0mlist\u001b[0m\u001b[0;34m(\u001b[0m\u001b[0mensure_index\u001b[0m\u001b[0;34m(\u001b[0m\u001b[0mkey\u001b[0m\u001b[0;34m)\u001b[0m\u001b[0;34m[\u001b[0m\u001b[0mmissing_mask\u001b[0m\u001b[0;34m.\u001b[0m\u001b[0mnonzero\u001b[0m\u001b[0;34m(\u001b[0m\u001b[0;34m)\u001b[0m\u001b[0;34m[\u001b[0m\u001b[0;36m0\u001b[0m\u001b[0;34m]\u001b[0m\u001b[0;34m]\u001b[0m\u001b[0;34m.\u001b[0m\u001b[0munique\u001b[0m\u001b[0;34m(\u001b[0m\u001b[0;34m)\u001b[0m\u001b[0;34m)\u001b[0m\u001b[0;34m\u001b[0m\u001b[0;34m\u001b[0m\u001b[0m\n",
            "\u001b[0;31mKeyError\u001b[0m: \"None of [DatetimeIndex(['2020-01-02 00:00:00-05:00', '2020-01-03 00:00:00-05:00',\\n               '2020-01-06 00:00:00-05:00', '2020-01-07 00:00:00-05:00',\\n               '2020-01-08 00:00:00-05:00', '2020-01-09 00:00:00-05:00',\\n               '2020-01-10 00:00:00-05:00', '2020-01-13 00:00:00-05:00',\\n               '2020-01-14 00:00:00-05:00', '2020-01-15 00:00:00-05:00',\\n               ...\\n               '2022-01-19 00:00:00-05:00', '2022-01-20 00:00:00-05:00',\\n               '2022-01-21 00:00:00-05:00', '2022-01-24 00:00:00-05:00',\\n               '2022-01-25 00:00:00-05:00', '2022-01-26 00:00:00-05:00',\\n               '2022-01-27 00:00:00-05:00', '2022-01-28 00:00:00-05:00',\\n               '2022-01-31 00:00:00-05:00', '2022-02-01 00:00:00-05:00'],\\n              dtype='datetime64[ns, America/New_York]', name='Date', length=526, freq=None)] are in the [columns]\""
          ]
        },
        {
          "output_type": "display_data",
          "data": {
            "text/plain": [
              "<Figure size 432x288 with 1 Axes>"
            ],
            "image/png": "[encoded data removed]"
          },
          "metadata": {
            "needs_background": "light"
          }
        }
      ],
      "source": [
        "x.plot.scatter(x =  x.index, y = 'Open')"
      ]
    },
    {
      "cell_type": "code",
      "source": [
        "x.plot.scatter(x = 'date', y = 'Open')"
      ],
      "metadata": {
        "colab": {
          "base_uri": "https://localhost:8080/",
          "height": 297
        },
        "id": "lSic0yDyIjLd",
        "outputId": "6c8501bc-ec05-41e4-ceaf-0714c289dd32"
      },
      "execution_count": null,
      "outputs": [
        {
          "output_type": "execute_result",
          "data": {
            "text/plain": [
              "<matplotlib.axes._subplots.AxesSubplot at 0x7f716ce279d0>"
            ]
          },
          "metadata": {},
          "execution_count": 19
        },
        {
          "output_type": "display_data",
          "data": {
            "text/plain": [
              "<Figure size 432x288 with 1 Axes>"
            ],
            "image/png": "[encoded data removed]"
          },
          "metadata": {
            "needs_background": "light"
          }
        }
      ]
    },
    {
      "cell_type": "markdown",
      "metadata": {
        "id": "L6zl26BPFpWe"
      },
      "source": [
        "# Stumpy"
      ]
    },
    {
      "cell_type": "code",
      "source": [
        "x.Open.shape"
      ],
      "metadata": {
        "colab": {
          "base_uri": "https://localhost:8080/"
        },
        "id": "ioGWNWfPJWKw",
        "outputId": "7a9c09a9-7fe6-43ef-c81e-489d7c79e683"
      },
      "execution_count": null,
      "outputs": [
        {
          "output_type": "execute_result",
          "data": {
            "text/plain": [
              "(526,)"
            ]
          },
          "metadata": {},
          "execution_count": 45
        }
      ]
    },
    {
      "cell_type": "markdown",
      "source": [
        "\n",
        "日本語\n",
        "\n",
        "\n",
        "(T_A: Any, m: Any, T_B: Any | None = None, ignore_trivial: bool = True, normalize: bool = True, p: float = 2) -> Any\n",
        "z 正規化した行列プロファイルを計算する。\n",
        "\n",
        "これは、NumbaのJITコンパイルされた並列化関数である\n",
        "これは，STOMPopt に従って行列のプロファイルを計算する，Numba の JIT コンパイルされた並列関数 _stump の便利なラッパーです．\n",
        "ピアソン相関。\n",
        "\n",
        "パラメータ\n",
        "\n",
        "T_A : numpy.ndarray\n",
        "行列プロファイルを計算するための時系列またはシーケンス\n",
        "\n",
        "m : int\n",
        "窓の大きさ\n",
        "\n",
        "T_B : numpy.ndarray, デフォルトなし\n",
        "T_Aのアノテーションに使用される時系列またはシーケンス。T_Aの各\n",
        "T_Aの部分配列に対して、T_Bの最近接配列が記録される。デフォルトは\n",
        "Noneで、自己結合に相当します。\n",
        "\n",
        "ignore_trivial : bool, デフォルト True\n",
        "自己結合の場合、Trueに設定される。そうでなければ、AB-joinの場合、これを\n",
        "をFalseに設定する。デフォルトはTrue。\n",
        "\n",
        "normalize : bool, デフォルトはTrueです。\n",
        "True に設定すると、距離を計算する前に部分配列の z-正規化を行います。\n",
        "そうでない場合は、この関数は @core.non_normalized 関数デコレータで設定された非正規化関数の相補的なものにルーティングされます。\n",
        "この関数は、@core.non_normalized 関数デコレータで設定された、正規化されていない同等の関数にルーティングされます。\n",
        "\n",
        "p : float, デフォルト 2.0\n",
        "ミンコスキー距離を計算する際に適用する p-ノルム。このパラメータは\n",
        "normalize == True のときは無視されます。\n",
        "\n",
        "戻り値\n",
        "\n",
        "out : numpy.ndarray。\n",
        "第 1 列目は行列のプロファイル，第 2 列目は行列のプロファイルのインデックス，第 3 列目は行列のプロファイルのインデックスです．\n",
        "は行列のプロファイルのインデックス，第 3 列は\n",
        "第 3 列は左側の行列のプロファイルインデックス、第 4 列は右側の行列のプロファイルインデックスです。\n",
        "右の行列のプロファイルインデックス.\n",
        "\n",
        "参照\n",
        "\n",
        "stumpy.stumped : 分散型ダスクによるz正規化行列プロファイルの計算\n",
        "クラスタ\n",
        "stumpy.gpu_stump : GPUを用いたz正規化行列の計算を行う。\n",
        "デバイスを用いる\n",
        "stumpy.scrump : z正規化行列の近似プロファイルを計算します。\n",
        "\n",
        "注意事項\n",
        "\n",
        "DOI: 10.1007/s10115-017-1138-x <https://www.cs.ucr.edu/~eamonn/ten_quadrillion.pdf>__\n",
        "\n",
        "4.5節参照\n",
        "\n",
        "上記の文献は、距離行列を走査するための一般的なアプローチを概説しています。\n",
        "行列を行単位ではなく対角線単位で走査する一般的なアプローチを概説しています。\n",
        "\n",
        "DOI: 10.1145/3357223.3362721 <https://www.cs.ucr.edu/~eamonn/public/GPU_Matrix_profile_VLDB_30DraftOnly.pdf>__\n",
        "\n",
        "3.1 節および 3.3 節参照\n",
        "\n",
        "上記の文献では、Welfordの中心積和演算を用いたピアソン相関の使用について概説しています。\n",
        "距離行列の各対角線に沿った Welford の中心積和を使用したピアソン相関の使用について概説しています．\n",
        "スライディングウィンドウドットプロダクトの代わりに、Welford の中心化された対角線上の積和を使用したピアソン相関の使用について概説しています。\n",
        "\n",
        "DOI: 10.1109/ICDM.2016.0085 <https://www.cs.ucr.edu/~eamonn/STOMP_GPU_final_submission_camera_ready.pdf>__\n",
        "\n",
        "表IIを参照\n",
        "\n",
        "時系列T_Aには、そのすべての後続の距離位置（またはインデックス）がアノテーションされます。\n",
        "別の時系列T_Bのすべての部分配列の距離位置(またはインデックス)を注釈する。\n",
        "\n",
        "返す。T_A のすべての部分配列 Q に対して、T_B の最も近い部分配列の距離とインデックスを取得する。\n",
        "と T_B の最も近い部分配列のインデックスを返す。従って、返される配列\n",
        "は長さ T_A.shape[0]-m+1 となる。さらに\n",
        "左右の行列のプロファイルも返されます。\n",
        "\n",
        "注：表IIとは異なり，T_A.shapeはT_B.shapeと等しいことが期待される。\n",
        "注：T_A.shape が T_B.shape と等しいと予想される表 II とは異なり，本実装は T_A と T_B の形状を一般化している。\n",
        "T_A と T_B の形状は異なっていてもよい。T_A.shape==T_B.shapeの場合。\n",
        "の場合、我々のアルゴリズムは、表 II で見られるのと同じアルゴリズムに還元される。\n",
        "\n",
        "さらに、STAMPの除外領域はm/2であるが、STOMPのデフォルトの除外領域はm/2である。\n",
        "STOMPの除外領域はm/4である（定義3および図3参照）。\n",
        "\n",
        "自己結合の場合、ignore_trivial = Trueを設定することで、トリビアルマッチを回避することができます。\n",
        "を設定する。\n",
        "\n",
        "なお、左右の行列プロファイルは自己結合の場合のみ利用可能です。\n",
        "\n",
        "例\n",
        "\n",
        ">>> import stumpy\n",
        ">>> stumpy.stump(np.array([584., -11., 23., 79., 1001., 0., -19.]),m=3)を使用します。\n",
        "array([[0.11633857113691416, 4, -1, 4],\n",
        "[2.694073918063438, 3, -1, 3],\n",
        "[3.0000926340485923, 0, 0, 4],\n",
        "[2.694073918063438, 1, 1, -1],\n",
        "[0.11633857113691416, 0, 0, -1]], dtype=object)\n",
        "\n",
        "DeepL.comで別の訳し方を確認する\n",
        "\n",
        "\n",
        "\n",
        "上\n"
      ],
      "metadata": {
        "id": "gqUXukjhLWwg"
      }
    },
    {
      "cell_type": "code",
      "execution_count": null,
      "metadata": {
        "id": "bfSMgoOuFpWe"
      },
      "outputs": [],
      "source": [
        "#stumpy.stump => NumbaのJITコンパイルされた並列化関数である これは，STOMPopt に従って行列のプロファイルを計算する，Numba の JIT コンパイルされた並列関数 _stump の便利なラッパーです． ピアソン相関。\n",
        "#x['Open']  =>numpy.ndarray 行列プロファイルを計算するための時系列またはシーケンス\n",
        "m = 20 #m : int 窓の大きさ\n",
        "mp = stumpy.stump(x['Open'], m)\n"
      ]
    },
    {
      "cell_type": "code",
      "execution_count": null,
      "metadata": {
        "id": "uWGKyPd_FpWf",
        "outputId": "17383698-483a-4e66-90b6-1f2948fe760d",
        "colab": {
          "base_uri": "https://localhost:8080/"
        }
      },
      "outputs": [
        {
          "output_type": "execute_result",
          "data": {
            "text/plain": [
              "(507, 4)"
            ]
          },
          "metadata": {},
          "execution_count": 41
        }
      ],
      "source": [
        "mp.shape"
      ]
    },
    {
      "cell_type": "code",
      "execution_count": null,
      "metadata": {
        "id": "z4js_X0IFpWf",
        "outputId": "15271430-1b22-434b-83f4-ffe58a13cedc",
        "colab": {
          "base_uri": "https://localhost:8080/"
        }
      },
      "outputs": [
        {
          "output_type": "execute_result",
          "data": {
            "text/plain": [
              "numpy.ndarray"
            ]
          },
          "metadata": {},
          "execution_count": 42
        }
      ],
      "source": [
        "type(mp)"
      ]
    },
    {
      "cell_type": "code",
      "source": [
        "#戻り値 out : numpy.ndarray。 \n",
        "#第 1 列目はｃｃ，\n",
        "#第 2 列目は行列のプロファイルのインデックス， \n",
        "#第 3 列は左側の行列のプロファイルインデックス、\n",
        "#第 4 列は右側の行列のプロファイルインデックスです。\n",
        "pd.DataFrame(mp,columns=[\"行列のプロファイル\",\"行列のプロファイルのインデックス\",\"左側の行列のプロファイルインデックス\",\"右側の行列のプロファイルインデックス\"])"
      ],
      "metadata": {
        "colab": {
          "base_uri": "https://localhost:8080/",
          "height": 485
        },
        "id": "TMwljLDkK2xf",
        "outputId": "3a50ece3-f15d-4358-842a-6c5ce839b18c"
      },
      "execution_count": null,
      "outputs": [
        {
          "output_type": "execute_result",
          "data": {
            "text/plain": [
              "    行列のプロファイル 行列のプロファイルのインデックス 左側の行列のプロファイルインデックス 右側の行列のプロファイルインデックス\n",
              "0    1.683805               31                 -1                 31\n",
              "1    1.555221              349                 -1                349\n",
              "2    1.333125              350                 -1                350\n",
              "3    1.161696              350                 -1                350\n",
              "4     1.11656              351                 -1                351\n",
              "..        ...              ...                ...                ...\n",
              "502  2.189295              129                129                 -1\n",
              "503   2.29521              130                130                 -1\n",
              "504  2.700599              252                252                 -1\n",
              "505  2.733166               20                 20                 -1\n",
              "506  2.224101               21                 21                 -1\n",
              "\n",
              "[507 rows x 4 columns]"
            ],
            "text/html": [
              "\n",
              "  <div id=\"df-8fed6f9e-b227-4a77-959e-8e95da0af6a7\">\n",
              "    <div class=\"colab-df-container\">\n",
              "      <div>\n",
              "<style scoped>\n",
              "    .dataframe tbody tr th:only-of-type {\n",
              "        vertical-align: middle;\n",
              "    }\n",
              "\n",
              "    .dataframe tbody tr th {\n",
              "        vertical-align: top;\n",
              "    }\n",
              "\n",
              "    .dataframe thead th {\n",
              "        text-align: right;\n",
              "    }\n",
              "</style>\n",
              "<table border=\"1\" class=\"dataframe\">\n",
              "  <thead>\n",
              "    <tr style=\"text-align: right;\">\n",
              "      <th></th>\n",
              "      <th>行列のプロファイル</th>\n",
              "      <th>行列のプロファイルのインデックス</th>\n",
              "      <th>左側の行列のプロファイルインデックス</th>\n",
              "      <th>右側の行列のプロファイルインデックス</th>\n",
              "    </tr>\n",
              "  </thead>\n",
              "  <tbody>\n",
              "    <tr>\n",
              "      <th>0</th>\n",
              "      <td>1.683805</td>\n",
              "      <td>31</td>\n",
              "      <td>-1</td>\n",
              "      <td>31</td>\n",
              "    </tr>\n",
              "    <tr>\n",
              "      <th>1</th>\n",
              "      <td>1.555221</td>\n",
              "      <td>349</td>\n",
              "      <td>-1</td>\n",
              "      <td>349</td>\n",
              "    </tr>\n",
              "    <tr>\n",
              "      <th>2</th>\n",
              "      <td>1.333125</td>\n",
              "      <td>350</td>\n",
              "      <td>-1</td>\n",
              "      <td>350</td>\n",
              "    </tr>\n",
              "    <tr>\n",
              "      <th>3</th>\n",
              "      <td>1.161696</td>\n",
              "      <td>350</td>\n",
              "      <td>-1</td>\n",
              "      <td>350</td>\n",
              "    </tr>\n",
              "    <tr>\n",
              "      <th>4</th>\n",
              "      <td>1.11656</td>\n",
              "      <td>351</td>\n",
              "      <td>-1</td>\n",
              "      <td>351</td>\n",
              "    </tr>\n",
              "    <tr>\n",
              "      <th>...</th>\n",
              "      <td>...</td>\n",
              "      <td>...</td>\n",
              "      <td>...</td>\n",
              "      <td>...</td>\n",
              "    </tr>\n",
              "    <tr>\n",
              "      <th>502</th>\n",
              "      <td>2.189295</td>\n",
              "      <td>129</td>\n",
              "      <td>129</td>\n",
              "      <td>-1</td>\n",
              "    </tr>\n",
              "    <tr>\n",
              "      <th>503</th>\n",
              "      <td>2.29521</td>\n",
              "      <td>130</td>\n",
              "      <td>130</td>\n",
              "      <td>-1</td>\n",
              "    </tr>\n",
              "    <tr>\n",
              "      <th>504</th>\n",
              "      <td>2.700599</td>\n",
              "      <td>252</td>\n",
              "      <td>252</td>\n",
              "      <td>-1</td>\n",
              "    </tr>\n",
              "    <tr>\n",
              "      <th>505</th>\n",
              "      <td>2.733166</td>\n",
              "      <td>20</td>\n",
              "      <td>20</td>\n",
              "      <td>-1</td>\n",
              "    </tr>\n",
              "    <tr>\n",
              "      <th>506</th>\n",
              "      <td>2.224101</td>\n",
              "      <td>21</td>\n",
              "      <td>21</td>\n",
              "      <td>-1</td>\n",
              "    </tr>\n",
              "  </tbody>\n",
              "</table>\n",
              "<p>507 rows × 4 columns</p>\n",
              "</div>\n",
              "      <button class=\"colab-df-convert\" onclick=\"convertToInteractive('df-8fed6f9e-b227-4a77-959e-8e95da0af6a7')\"\n",
              "              title=\"Convert this dataframe to an interactive table.\"\n",
              "              style=\"display:none;\">\n",
              "        \n",
              "  <svg xmlns=\"http://www.w3.org/2000/svg\" height=\"24px\"viewBox=\"0 0 24 24\"\n",
              "       width=\"24px\">\n",
              "    <path d=\"M0 0h24v24H0V0z\" fill=\"none\"/>\n",
              "    <path d=\"M18.56 5.44l.94 2.06.94-2.06 2.06-.94-2.06-.94-.94-2.06-.94 2.06-2.06.94zm-11 1L8.5 8.5l.94-2.06 2.06-.94-2.06-.94L8.5 2.5l-.94 2.06-2.06.94zm10 10l.94 2.06.94-2.06 2.06-.94-2.06-.94-.94-2.06-.94 2.06-2.06.94z\"/><path d=\"M17.41 7.96l-1.37-1.37c-.4-.4-.92-.59-1.43-.59-.52 0-1.04.2-1.43.59L10.3 9.45l-7.72 7.72c-.78.78-.78 2.05 0 2.83L4 21.41c.39.39.9.59 1.41.59.51 0 1.02-.2 1.41-.59l7.78-7.78 2.81-2.81c.8-.78.8-2.07 0-2.86zM5.41 20L4 18.59l7.72-7.72 1.47 1.35L5.41 20z\"/>\n",
              "  </svg>\n",
              "      </button>\n",
              "      \n",
              "  <style>\n",
              "    .colab-df-container {\n",
              "      display:flex;\n",
              "      flex-wrap:wrap;\n",
              "      gap: 12px;\n",
              "    }\n",
              "\n",
              "    .colab-df-convert {\n",
              "      background-color: #E8F0FE;\n",
              "      border: none;\n",
              "      border-radius: 50%;\n",
              "      cursor: pointer;\n",
              "      display: none;\n",
              "      fill: #1967D2;\n",
              "      height: 32px;\n",
              "      padding: 0 0 0 0;\n",
              "      width: 32px;\n",
              "    }\n",
              "\n",
              "    .colab-df-convert:hover {\n",
              "      background-color: #E2EBFA;\n",
              "      box-shadow: 0px 1px 2px rgba(60, 64, 67, 0.3), 0px 1px 3px 1px rgba(60, 64, 67, 0.15);\n",
              "      fill: #174EA6;\n",
              "    }\n",
              "\n",
              "    [theme=dark] .colab-df-convert {\n",
              "      background-color: #3B4455;\n",
              "      fill: #D2E3FC;\n",
              "    }\n",
              "\n",
              "    [theme=dark] .colab-df-convert:hover {\n",
              "      background-color: #434B5C;\n",
              "      box-shadow: 0px 1px 3px 1px rgba(0, 0, 0, 0.15);\n",
              "      filter: drop-shadow(0px 1px 2px rgba(0, 0, 0, 0.3));\n",
              "      fill: #FFFFFF;\n",
              "    }\n",
              "  </style>\n",
              "\n",
              "      <script>\n",
              "        const buttonEl =\n",
              "          document.querySelector('#df-8fed6f9e-b227-4a77-959e-8e95da0af6a7 button.colab-df-convert');\n",
              "        buttonEl.style.display =\n",
              "          google.colab.kernel.accessAllowed ? 'block' : 'none';\n",
              "\n",
              "        async function convertToInteractive(key) {\n",
              "          const element = document.querySelector('#df-8fed6f9e-b227-4a77-959e-8e95da0af6a7');\n",
              "          const dataTable =\n",
              "            await google.colab.kernel.invokeFunction('convertToInteractive',\n",
              "                                                     [key], {});\n",
              "          if (!dataTable) return;\n",
              "\n",
              "          const docLinkHtml = 'Like what you see? Visit the ' +\n",
              "            '<a target=\"_blank\" href=https://colab.research.google.com/notebooks/data_table.ipynb>data table notebook</a>'\n",
              "            + ' to learn more about interactive tables.';\n",
              "          element.innerHTML = '';\n",
              "          dataTable['output_type'] = 'display_data';\n",
              "          await google.colab.output.renderOutput(dataTable, element);\n",
              "          const docLink = document.createElement('div');\n",
              "          docLink.innerHTML = docLinkHtml;\n",
              "          element.appendChild(docLink);\n",
              "        }\n",
              "      </script>\n",
              "    </div>\n",
              "  </div>\n",
              "  "
            ]
          },
          "metadata": {},
          "execution_count": 48
        }
      ]
    },
    {
      "cell_type": "code",
      "execution_count": null,
      "metadata": {
        "id": "R5_jjsyeFpWg",
        "colab": {
          "base_uri": "https://localhost:8080/",
          "height": 522
        },
        "outputId": "4d6bce73-d1a8-458f-9159-09685cda9f95"
      },
      "outputs": [
        {
          "output_type": "stream",
          "name": "stdout",
          "text": [
            "<class 'numpy.ndarray'>\n",
            "<class 'numpy.ndarray'>\n"
          ]
        },
        {
          "output_type": "execute_result",
          "data": {
            "text/plain": [
              "     行列のプロファイル  行列のプロファイルのインデックス  左側の行列のプロファイルインデックス  右側の行列のプロファイルインデックス\n",
              "0     1.683805              31.0                -1.0                31.0\n",
              "1     1.555221             349.0                -1.0               349.0\n",
              "2     1.333125             350.0                -1.0               350.0\n",
              "3     1.161696             350.0                -1.0               350.0\n",
              "4     1.116560             351.0                -1.0               351.0\n",
              "..         ...               ...                 ...                 ...\n",
              "502   2.189295             129.0               129.0                -1.0\n",
              "503   2.295210             130.0               130.0                -1.0\n",
              "504   2.700599             252.0               252.0                -1.0\n",
              "505   2.733166              20.0                20.0                -1.0\n",
              "506   2.224101              21.0                21.0                -1.0\n",
              "\n",
              "[507 rows x 4 columns]"
            ],
            "text/html": [
              "\n",
              "  <div id=\"df-beb430d6-4378-43c9-b05d-9bbd60d1d857\">\n",
              "    <div class=\"colab-df-container\">\n",
              "      <div>\n",
              "<style scoped>\n",
              "    .dataframe tbody tr th:only-of-type {\n",
              "        vertical-align: middle;\n",
              "    }\n",
              "\n",
              "    .dataframe tbody tr th {\n",
              "        vertical-align: top;\n",
              "    }\n",
              "\n",
              "    .dataframe thead th {\n",
              "        text-align: right;\n",
              "    }\n",
              "</style>\n",
              "<table border=\"1\" class=\"dataframe\">\n",
              "  <thead>\n",
              "    <tr style=\"text-align: right;\">\n",
              "      <th></th>\n",
              "      <th>行列のプロファイル</th>\n",
              "      <th>行列のプロファイルのインデックス</th>\n",
              "      <th>左側の行列のプロファイルインデックス</th>\n",
              "      <th>右側の行列のプロファイルインデックス</th>\n",
              "    </tr>\n",
              "  </thead>\n",
              "  <tbody>\n",
              "    <tr>\n",
              "      <th>0</th>\n",
              "      <td>1.683805</td>\n",
              "      <td>31.0</td>\n",
              "      <td>-1.0</td>\n",
              "      <td>31.0</td>\n",
              "    </tr>\n",
              "    <tr>\n",
              "      <th>1</th>\n",
              "      <td>1.555221</td>\n",
              "      <td>349.0</td>\n",
              "      <td>-1.0</td>\n",
              "      <td>349.0</td>\n",
              "    </tr>\n",
              "    <tr>\n",
              "      <th>2</th>\n",
              "      <td>1.333125</td>\n",
              "      <td>350.0</td>\n",
              "      <td>-1.0</td>\n",
              "      <td>350.0</td>\n",
              "    </tr>\n",
              "    <tr>\n",
              "      <th>3</th>\n",
              "      <td>1.161696</td>\n",
              "      <td>350.0</td>\n",
              "      <td>-1.0</td>\n",
              "      <td>350.0</td>\n",
              "    </tr>\n",
              "    <tr>\n",
              "      <th>4</th>\n",
              "      <td>1.116560</td>\n",
              "      <td>351.0</td>\n",
              "      <td>-1.0</td>\n",
              "      <td>351.0</td>\n",
              "    </tr>\n",
              "    <tr>\n",
              "      <th>...</th>\n",
              "      <td>...</td>\n",
              "      <td>...</td>\n",
              "      <td>...</td>\n",
              "      <td>...</td>\n",
              "    </tr>\n",
              "    <tr>\n",
              "      <th>502</th>\n",
              "      <td>2.189295</td>\n",
              "      <td>129.0</td>\n",
              "      <td>129.0</td>\n",
              "      <td>-1.0</td>\n",
              "    </tr>\n",
              "    <tr>\n",
              "      <th>503</th>\n",
              "      <td>2.295210</td>\n",
              "      <td>130.0</td>\n",
              "      <td>130.0</td>\n",
              "      <td>-1.0</td>\n",
              "    </tr>\n",
              "    <tr>\n",
              "      <th>504</th>\n",
              "      <td>2.700599</td>\n",
              "      <td>252.0</td>\n",
              "      <td>252.0</td>\n",
              "      <td>-1.0</td>\n",
              "    </tr>\n",
              "    <tr>\n",
              "      <th>505</th>\n",
              "      <td>2.733166</td>\n",
              "      <td>20.0</td>\n",
              "      <td>20.0</td>\n",
              "      <td>-1.0</td>\n",
              "    </tr>\n",
              "    <tr>\n",
              "      <th>506</th>\n",
              "      <td>2.224101</td>\n",
              "      <td>21.0</td>\n",
              "      <td>21.0</td>\n",
              "      <td>-1.0</td>\n",
              "    </tr>\n",
              "  </tbody>\n",
              "</table>\n",
              "<p>507 rows × 4 columns</p>\n",
              "</div>\n",
              "      <button class=\"colab-df-convert\" onclick=\"convertToInteractive('df-beb430d6-4378-43c9-b05d-9bbd60d1d857')\"\n",
              "              title=\"Convert this dataframe to an interactive table.\"\n",
              "              style=\"display:none;\">\n",
              "        \n",
              "  <svg xmlns=\"http://www.w3.org/2000/svg\" height=\"24px\"viewBox=\"0 0 24 24\"\n",
              "       width=\"24px\">\n",
              "    <path d=\"M0 0h24v24H0V0z\" fill=\"none\"/>\n",
              "    <path d=\"M18.56 5.44l.94 2.06.94-2.06 2.06-.94-2.06-.94-.94-2.06-.94 2.06-2.06.94zm-11 1L8.5 8.5l.94-2.06 2.06-.94-2.06-.94L8.5 2.5l-.94 2.06-2.06.94zm10 10l.94 2.06.94-2.06 2.06-.94-2.06-.94-.94-2.06-.94 2.06-2.06.94z\"/><path d=\"M17.41 7.96l-1.37-1.37c-.4-.4-.92-.59-1.43-.59-.52 0-1.04.2-1.43.59L10.3 9.45l-7.72 7.72c-.78.78-.78 2.05 0 2.83L4 21.41c.39.39.9.59 1.41.59.51 0 1.02-.2 1.41-.59l7.78-7.78 2.81-2.81c.8-.78.8-2.07 0-2.86zM5.41 20L4 18.59l7.72-7.72 1.47 1.35L5.41 20z\"/>\n",
              "  </svg>\n",
              "      </button>\n",
              "      \n",
              "  <style>\n",
              "    .colab-df-container {\n",
              "      display:flex;\n",
              "      flex-wrap:wrap;\n",
              "      gap: 12px;\n",
              "    }\n",
              "\n",
              "    .colab-df-convert {\n",
              "      background-color: #E8F0FE;\n",
              "      border: none;\n",
              "      border-radius: 50%;\n",
              "      cursor: pointer;\n",
              "      display: none;\n",
              "      fill: #1967D2;\n",
              "      height: 32px;\n",
              "      padding: 0 0 0 0;\n",
              "      width: 32px;\n",
              "    }\n",
              "\n",
              "    .colab-df-convert:hover {\n",
              "      background-color: #E2EBFA;\n",
              "      box-shadow: 0px 1px 2px rgba(60, 64, 67, 0.3), 0px 1px 3px 1px rgba(60, 64, 67, 0.15);\n",
              "      fill: #174EA6;\n",
              "    }\n",
              "\n",
              "    [theme=dark] .colab-df-convert {\n",
              "      background-color: #3B4455;\n",
              "      fill: #D2E3FC;\n",
              "    }\n",
              "\n",
              "    [theme=dark] .colab-df-convert:hover {\n",
              "      background-color: #434B5C;\n",
              "      box-shadow: 0px 1px 3px 1px rgba(0, 0, 0, 0.15);\n",
              "      filter: drop-shadow(0px 1px 2px rgba(0, 0, 0, 0.3));\n",
              "      fill: #FFFFFF;\n",
              "    }\n",
              "  </style>\n",
              "\n",
              "      <script>\n",
              "        const buttonEl =\n",
              "          document.querySelector('#df-beb430d6-4378-43c9-b05d-9bbd60d1d857 button.colab-df-convert');\n",
              "        buttonEl.style.display =\n",
              "          google.colab.kernel.accessAllowed ? 'block' : 'none';\n",
              "\n",
              "        async function convertToInteractive(key) {\n",
              "          const element = document.querySelector('#df-beb430d6-4378-43c9-b05d-9bbd60d1d857');\n",
              "          const dataTable =\n",
              "            await google.colab.kernel.invokeFunction('convertToInteractive',\n",
              "                                                     [key], {});\n",
              "          if (!dataTable) return;\n",
              "\n",
              "          const docLinkHtml = 'Like what you see? Visit the ' +\n",
              "            '<a target=\"_blank\" href=https://colab.research.google.com/notebooks/data_table.ipynb>data table notebook</a>'\n",
              "            + ' to learn more about interactive tables.';\n",
              "          element.innerHTML = '';\n",
              "          dataTable['output_type'] = 'display_data';\n",
              "          await google.colab.output.renderOutput(dataTable, element);\n",
              "          const docLink = document.createElement('div');\n",
              "          docLink.innerHTML = docLinkHtml;\n",
              "          element.appendChild(docLink);\n",
              "        }\n",
              "      </script>\n",
              "    </div>\n",
              "  </div>\n",
              "  "
            ]
          },
          "metadata": {},
          "execution_count": 55
        }
      ],
      "source": [
        "print(type(mp))\n",
        "mp = mp.astype(np.float32)\n",
        "print(type(mp))\n",
        "pd.DataFrame(mp,columns=[\"行列のプロファイル\",\"行列のプロファイルのインデックス\",\"左側の行列のプロファイルインデックス\",\"右側の行列のプロファイルインデックス\"])"
      ]
    },
    {
      "cell_type": "code",
      "source": [
        "mp.shape[1]#得られた列数"
      ],
      "metadata": {
        "colab": {
          "base_uri": "https://localhost:8080/"
        },
        "id": "6EFOAL3_Nt1r",
        "outputId": "befda7f9-3f45-46c4-8915-4b29b44f9b5e"
      },
      "execution_count": null,
      "outputs": [
        {
          "output_type": "execute_result",
          "data": {
            "text/plain": [
              "(507, 4)"
            ]
          },
          "metadata": {},
          "execution_count": 53
        }
      ]
    },
    {
      "cell_type": "code",
      "execution_count": null,
      "metadata": {
        "id": "GWdYdx69FpWg",
        "outputId": "ea026e53-ecea-4ee6-f172-048fb2d38ea3",
        "colab": {
          "base_uri": "https://localhost:8080/",
          "height": 265
        }
      },
      "outputs": [
        {
          "output_type": "display_data",
          "data": {
            "text/plain": [
              "<Figure size 432x288 with 1 Axes>"
            ],
            "image/png": "[encoded data removed]"
          },
          "metadata": {
            "needs_background": "light"
          }
        }
      ],
      "source": [
        "# plt.imshow(mp)\n",
        "for i in range(mp.shape[1]):\n",
        "    plt.plot(mp[:,i])"
      ]
    },
    {
      "cell_type": "markdown",
      "source": [
        "\n",
        "日本語\n",
        "\n",
        "\n",
        "(a:ArrayLike、axis: int | None = ...、kind:_SortKind | None = ..., order: str | Sequence[str] | None = ...).-> ndarray\n",
        "配列をソートするためのインデックスを返す。\n",
        "\n",
        "与えられた軸に沿って、kindキーワードで指定されたアルゴリズムで間接的なソートを行う。\n",
        "キーワードで指定されたアルゴリズムで間接的にソートを行う。と同じ形状のインデックスの配列を返す。\n",
        "aと同じ形のインデックスの配列を返す。\n",
        "\n",
        "パラメータ\n",
        "\n",
        "a : array_like\n",
        "ソートする配列。\n",
        "axis : int または None, オプション\n",
        "ソートする軸を指定します。 デフォルトは -1 (最後の軸)。None の場合\n",
        "の場合、平坦化された配列が使用されます。\n",
        "kind : {'quicksort', 'mergesort', 'heapsort', 'stable'}, オプション。\n",
        "並べ替えのアルゴリズム。デフォルトは 'quicksort' です。デフォルトは 'quicksort' です。\n",
        "と 'mergesort' はどちらも timsort を使用していることに注意しましょう。\n",
        "実際の実装は、データ型によって異なります。mergesort' オプション\n",
        "オプションは後方互換性のために残されています。\n",
        "\n",
        "order : strまたはstrのリスト、オプション\n",
        "aがフィールドを持つ配列の場合、この引数は、どのフィールドを最初に、2番目に比較するかを指定します。\n",
        "この引数は、どのフィールドを最初に比較するか、2番目に比較するか、などを指定します。 1つのフィールドを文字列で指定することができ\n",
        "を文字列で指定することができ、すべてのフィールドを指定する必要はありません。\n",
        "しかし，指定されなかったフィールドは，dtypeで指定された順に使用される。\n",
        "ただし，指定されていないフィールドは，同値を解消するために，dtypeの中で出てくる順に使用される。\n",
        "\n",
        "戻り値\n",
        "\n",
        "index_array : ndarray, int\n",
        "指定された軸に沿って a をソートするインデックスの配列。\n",
        "aが1次元の場合、a[index_array]はソートされたaを返す。\n",
        "より一般的には、 np.take_along_axis(a, index_array, axis=axis)\n",
        "は次元に関係なく常にソートされた a を生成します。\n",
        "\n",
        "参照\n",
        "\n",
        "sort : 使用されるソートアルゴリズムの説明．\n",
        "lexsort : 複数のキーを持つ間接的な安定ソート。\n",
        "ndarray.sort : インプレイスソート。\n",
        "argpartition : 間接的な部分ソート。\n",
        "take_along_axis :argsortのindex_arrayを、あたかもsortのように配列に適用する。\n",
        "を、あたかも sort を呼んだかのように配列に適用する。\n",
        "\n",
        "注意事項\n",
        "\n",
        "様々なソートアルゴリズムに関する注意点は sort を参照してください。\n",
        "\n",
        "NumPy 1.4.0では、argsortは実数/複素数の配列で動作し、その中には\n",
        "nan 値を含む実数/複素数の配列で動作します。強化されたソート順は sort に記述されています。\n",
        "\n",
        "例\n",
        "\n",
        "1次元の配列。\n",
        "\n",
        ">>> x = np.array([3, 1, 2])\n",
        ">>> np.argsort(x)\n",
        "array([1, 2, 0])\n",
        "2次元の配列\n",
        "\n",
        ">>> 2次元配列： >> x = np.array([[0, 3], [2, 2]])\n",
        ">>> x\n",
        "array([[0, 3],\n",
        "[2, 2]])\n",
        ">> ind = np.argsort(x, axis=0) # 第1軸に沿ってソート（下方向）。\n",
        ">>> ind\n",
        "array([[0, 1],\n",
        "[1, 0]])\n",
        ">> np.take_along_axis(x, ind, axis=0) # np.sort(x, axis=0)と同じ。\n",
        "array([[0, 2],\n",
        "[2, 3]])\n",
        ">> ind = np.argsort(x, axis=1) # 最後の軸に沿ってソート（across)\n",
        ">>> ind\n",
        "array([[0, 1],\n",
        "[0, 1]])\n",
        ">> np.take_along_axis(x, ind, axis=1) # np.sort(x, axis=1)と同じ。\n",
        "array([[0, 3],\n",
        "[2, 2]])\n",
        "N次元配列のソート済み要素の添え字。\n",
        "\n",
        ">> ind = np.unravel_index(np.argsort(x, axis=None), x.shape)\n",
        ">>> ind\n",
        "(配列([0, 1, 1, 0]), 配列([0, 0, 1, 1]))\n",
        ">>> x[ind] # np.sort(x, axis=None) と同じです。\n",
        "array([0, 2, 2, 3])\n",
        "キーでソートする\n",
        "\n",
        ">> x = np.array([(1, 0), (0, 1)], dtype=[('x', '<i4'), ('y', '<i4')])\n",
        ">>> x\n",
        "array([(1, 0), (0, 1)],\n",
        "dtype=[('x', '<i4'), ('y', '<i4')])\n",
        ">>> np.argsort(x, order=('x','y'))\n",
        "array([1, 0])\n",
        ">>> np.argsort(x、order=('y','x')))の場合\n",
        "array([0, 1])\n",
        "\n",
        "DeepL.comで別の訳し方を確認する\n",
        "\n",
        "\n",
        "\n",
        "上\n"
      ],
      "metadata": {
        "id": "5gyKBMuTO21s"
      }
    },
    {
      "cell_type": "code",
      "source": [
        "mp[:, 0]"
      ],
      "metadata": {
        "colab": {
          "base_uri": "https://localhost:8080/"
        },
        "id": "G3vOHW6aOhKd",
        "outputId": "70c97843-3639-484d-a06e-e260394c131d"
      },
      "execution_count": null,
      "outputs": [
        {
          "output_type": "execute_result",
          "data": {
            "text/plain": [
              "array([1.6838049, 1.5552207, 1.3331249, 1.1616956, 1.1165605, 1.2757457,\n",
              "       1.2328876, 1.4084836, 1.4248332, 1.5261371, 1.6234547, 1.7215563,\n",
              "       1.9150101, 2.30295  , 2.9286215, 3.0545464, 3.5024726, 3.5546863,\n",
              "       3.3922582, 2.681815 , 2.1484473, 1.770987 , 1.8303356, 2.0042565,\n",
              "       1.975953 , 1.8654425, 1.9569658, 1.7279803, 1.4929454, 1.3319465,\n",
              "       1.2509565, 1.326316 , 1.3372759, 1.4469422, 1.4661604, 1.2611583,\n",
              "       1.3937516, 1.3415294, 1.3977455, 1.5261371, 1.5985953, 1.7215563,\n",
              "       2.065172 , 2.6439474, 2.578061 , 1.8077884, 1.6785302, 1.6464504,\n",
              "       1.3434985, 1.3067397, 1.114623 , 1.3873935, 1.6018631, 1.6851119,\n",
              "       1.9478722, 2.064301 , 2.264854 , 2.4502046, 2.7170181, 2.8048768,\n",
              "       2.9831393, 3.077973 , 3.1679087, 3.1391819, 3.1715524, 2.9152339,\n",
              "       2.8507738, 3.03884  , 3.2483408, 3.5617027, 3.6552944, 3.5776403,\n",
              "       3.0244534, 2.771619 , 2.6229491, 2.9090166, 3.2290242, 3.056872 ,\n",
              "       2.8946927, 2.6125574, 2.5459867, 2.183    , 2.1154761, 2.095481 ,\n",
              "       2.268021 , 1.9757011, 1.5389495, 1.4211231, 1.4852091, 1.3984553,\n",
              "       1.3577354, 1.2697088, 1.57599  , 1.6841075, 1.9050361, 2.0511765,\n",
              "       2.121235 , 2.264854 , 2.4502046, 2.6545286, 2.5431921, 2.6811452,\n",
              "       2.762217 , 2.8958719, 2.9239335, 3.002797 , 3.3606796, 2.7686388,\n",
              "       3.442778 , 3.862341 , 4.286549 , 3.4205978, 3.0914457, 3.0998988,\n",
              "       3.058646 , 3.1176434, 2.5494452, 2.2341533, 2.028336 , 1.8172208,\n",
              "       1.4779693, 1.5417308, 1.4627806, 1.5555193, 1.604215 , 1.7713593,\n",
              "       1.889635 , 2.0103974, 2.0427475, 2.1892953, 2.29521  , 2.9047453,\n",
              "       3.1729631, 3.5927584, 3.926789 , 3.5930047, 3.3357058, 2.767818 ,\n",
              "       2.5662782, 2.5874658, 2.7181053, 2.7386625, 2.8233411, 2.8943036,\n",
              "       2.8516111, 2.537623 , 1.7252895, 1.9609003, 2.047815 , 2.3820388,\n",
              "       2.523151 , 2.388611 , 2.5762422, 2.279573 , 1.9757011, 1.5389495,\n",
              "       1.4211231, 1.4852091, 1.3984553, 1.4638189, 1.4618678, 1.7195739,\n",
              "       1.7003684, 1.8074875, 2.1858728, 2.3669353, 2.5025623, 2.5917394,\n",
              "       2.8008556, 3.1328433, 3.1730804, 3.2716503, 3.3870451, 3.1564505,\n",
              "       3.0197875, 2.8683922, 2.6820078, 2.5265136, 2.2821238, 2.1375427,\n",
              "       1.9149119, 1.6464504, 1.3938247, 1.3434985, 1.3067397, 1.114623 ,\n",
              "       1.3873935, 1.6018631, 1.6851119, 1.8074875, 2.1858728, 2.304154 ,\n",
              "       2.4391274, 2.858137 , 3.040786 , 3.0326278, 3.1730804, 3.603359 ,\n",
              "       3.3751612, 3.1905267, 2.469992 , 2.403583 , 2.2695289, 2.3199065,\n",
              "       2.271724 , 2.2575035, 2.3453476, 1.9270998, 1.8657036, 1.9150983,\n",
              "       2.0228095, 2.4328623, 2.536456 , 2.8046236, 3.3213887, 3.4812622,\n",
              "       2.869248 , 2.564641 , 2.4122798, 2.192648 , 2.253931 , 1.8926396,\n",
              "       1.6686628, 1.6740509, 1.7141855, 1.7711965, 2.1545281, 2.3415442,\n",
              "       2.2786367, 2.4607656, 2.5139246, 2.7945175, 2.890848 , 3.4217782,\n",
              "       3.6897101, 3.5475783, 3.3684907, 2.5332582, 2.1245625, 1.9677988,\n",
              "       1.7903734, 1.7495216, 1.6371464, 1.5281668, 1.4980634, 1.5825683,\n",
              "       1.6151457, 1.6420258, 1.925769 , 2.0855875, 2.2595432, 2.3915272,\n",
              "       2.5025623, 2.5917394, 2.8008556, 2.7013013, 2.134644 , 2.3584793,\n",
              "       2.7598813, 2.6031618, 2.6567507, 2.469992 , 2.403583 , 2.2695289,\n",
              "       2.0136192, 1.7642789, 1.6688384, 1.5134783, 1.4813144, 1.4374553,\n",
              "       1.3577354, 1.2697088, 1.4846302, 1.416263 , 1.3348885, 1.4151331,\n",
              "       1.5825683, 1.6785313, 1.8221644, 1.8657036, 1.7252895, 1.9609003,\n",
              "       2.047815 , 2.3820388, 2.523151 , 2.388611 , 2.5762422, 2.4564676,\n",
              "       2.8537457, 3.0804884, 2.6444552, 2.3822262, 2.2958186, 2.419833 ,\n",
              "       2.5345385, 2.7491214, 2.843294 , 2.7316241, 2.6817505, 3.0914457,\n",
              "       3.0998988, 2.2156556, 2.9377735, 2.9687352, 2.8516111, 2.7228498,\n",
              "       2.2559004, 2.3975742, 2.8046236, 3.2187529, 3.63963  , 4.3127046,\n",
              "       4.4312124, 4.03763  , 3.926789 , 4.53889  , 4.571302 , 4.388634 ,\n",
              "       4.5187836, 3.9067507, 3.637075 , 3.1071782, 2.8531802, 2.678906 ,\n",
              "       2.6543882, 2.406884 , 2.23237  , 1.9877675, 2.160254 , 1.9317275,\n",
              "       2.09811  , 2.2885544, 2.4931965, 2.6430008, 2.741531 , 3.165662 ,\n",
              "       3.340489 , 3.525538 , 3.3125942, 3.2504044, 3.2244704, 2.9857676,\n",
              "       2.9484346, 3.1337843, 3.5244386, 2.681815 , 2.1484473, 1.770987 ,\n",
              "       1.6918709, 1.3398888, 1.1616956, 1.1165605, 1.2275559, 1.2328876,\n",
              "       1.32348  , 1.3415294, 1.3977455, 1.6025546, 1.5985953, 1.766282 ,\n",
              "       2.0114472, 2.4345946, 2.391858 , 2.8026574, 3.476078 , 3.9993773,\n",
              "       4.1770234, 3.9272523, 3.6481068, 3.284649 , 2.8656032, 2.86706  ,\n",
              "       2.8379805, 2.8486114, 2.968803 , 2.9951847, 3.1057665, 3.2457836,\n",
              "       3.33558  , 3.4919503, 3.2810173, 3.0206854, 2.906311 , 3.078379 ,\n",
              "       3.263629 , 4.038246 , 3.9213839, 3.0322702, 2.544311 , 2.2360988,\n",
              "       2.2957   , 2.5874658, 2.7181053, 2.7826781, 2.8233411, 2.8943036,\n",
              "       2.9180782, 2.7818604, 2.6545286, 2.5431921, 2.6811452, 2.762217 ,\n",
              "       2.8958719, 2.9239335, 3.002797 , 2.3739233, 2.391858 , 2.8968053,\n",
              "       3.0999684, 3.3342493, 2.9041622, 2.7489457, 2.5187626, 2.0460944,\n",
              "       1.5678062, 1.3319465, 1.2509565, 1.3372759, 1.4661604, 1.557989 ,\n",
              "       1.7493902, 1.9325229, 1.9469222, 2.0944095, 2.4108706, 2.7932706,\n",
              "       2.3739233, 2.4470038, 2.7000546, 3.0197148, 3.0999684, 3.4572914,\n",
              "       3.1592996, 3.119151 , 3.056872 , 2.8946927, 2.6125574, 2.5485373,\n",
              "       1.8077884, 1.6785302, 1.902163 , 1.9687474, 2.0863764, 2.026903 ,\n",
              "       1.9760965, 1.8991663, 2.0475712, 1.9315169, 2.0156085, 1.718593 ,\n",
              "       1.8960947, 1.8706974, 1.9945699, 2.2036786, 2.5244808, 2.7217488,\n",
              "       2.856525 , 2.8551044, 2.749198 , 2.7676046, 3.1034262, 3.1352942,\n",
              "       3.0207353, 2.400573 , 2.300746 , 2.0180035, 2.193008 , 2.13527  ,\n",
              "       2.2416198, 2.3616042, 2.5451365, 2.7159932, 2.5459867, 2.9851449,\n",
              "       3.4084604, 3.058646 , 2.2156556, 2.9377735, 3.082166 , 3.0369205,\n",
              "       3.0491357, 3.0176501, 3.0625489, 3.245576 , 3.0972915, 3.6526039,\n",
              "       3.5184507, 2.5969014, 2.8293679, 2.3082972, 2.1245625, 1.8203065,\n",
              "       1.6100788, 1.501316 , 1.416263 , 1.3348885, 1.4151331, 1.5104206,\n",
              "       1.6151457, 1.6420258, 1.9804181, 2.0427475, 2.1892953, 2.29521  ,\n",
              "       2.7005994, 2.7331657, 2.2241008], dtype=float32)"
            ]
          },
          "metadata": {},
          "execution_count": 59
        }
      ]
    },
    {
      "cell_type": "code",
      "source": [
        "np.argsort( mp[:, 0])"
      ],
      "metadata": {
        "colab": {
          "base_uri": "https://localhost:8080/"
        },
        "id": "5r9oEWpDQ0db",
        "outputId": "e3060a3e-910b-4e21-8596-6b24decb825b"
      },
      "execution_count": null,
      "outputs": [
        {
          "output_type": "execute_result",
          "data": {
            "text/plain": [
              "array([185,  50,   4, 351, 350,   3, 352, 353,   6, 416,  30,  35,  91,\n",
              "       271,   5, 184,  49, 354,  31,  29, 415,   2, 274, 495, 417,  32,\n",
              "       349, 355,  37,  48, 183, 270,  90,  51, 186,  36, 182, 356,  38,\n",
              "       158,  89,   7, 496, 275, 494, 273, 156,  87,   8, 269,  33, 160,\n",
              "       122, 159,  34, 418, 120, 268, 272,  88, 157,  28, 244, 493, 497,\n",
              "       267,   9,  39, 243, 155,  86, 121,   1, 123, 419, 414,  92, 245,\n",
              "       276, 358,  40,  52, 187, 357, 124, 492, 246, 498,  10, 242, 247,\n",
              "       499,  47, 181, 222, 266, 223, 439,  46, 277,   0,  93,  53, 188,\n",
              "       348, 162, 224, 449, 161,  41,  11, 146, 280,  27, 420, 241, 265,\n",
              "       359,  21, 347, 225, 125, 240, 189, 163, 438,  45, 119, 491, 278,\n",
              "        22,  25, 279, 208, 451, 126, 221, 450, 445, 440,  94, 180,  12,\n",
              "       209, 248, 207, 447, 329, 421, 422,  54,  26, 281, 147, 239, 441,\n",
              "       154,  85,  24, 444, 500, 327, 452,  23, 127, 360, 264, 448, 465,\n",
              "       210, 443, 118, 128, 501, 413, 446, 148, 282,  95,  55,  42, 249,\n",
              "       442, 423,  83, 330,  82,  96, 490, 238, 256, 467, 179,  20, 346,\n",
              "       226, 328,  81, 164, 190, 502, 129, 219, 466, 453, 476, 301, 506,\n",
              "       326, 117, 389, 468, 220, 306, 205, 250,  56,  97,  84, 263, 202,\n",
              "       204, 228, 153, 178, 331, 130, 503, 390, 292, 464,  13, 191, 489,\n",
              "       203, 227, 206, 257, 469, 165, 405, 426, 283, 149, 291, 151, 285,\n",
              "       251, 406, 362, 307, 463, 201, 262, 325, 424, 218, 293, 211, 361,\n",
              "       192, 427,  57,  98, 287, 229, 261, 200, 332, 166, 252, 230, 412,\n",
              "       284, 150, 454, 177, 237, 294, 212, 145, 399, 100, 388, 470, 472,\n",
              "        80, 437, 116, 217, 138, 152, 286,  44, 139, 391, 253, 167, 487,\n",
              "       259,  79, 436,  74, 333,  43, 290, 324, 398,  99, 260, 323, 101,\n",
              "       400, 298,  19, 345, 176, 428, 504, 255, 471,  58, 392, 140, 455,\n",
              "       305, 297, 505, 141, 334, 411, 295, 458, 258, 102, 401, 459, 137,\n",
              "       107,  73, 397, 393, 425, 231, 254, 168, 363, 308, 213,  59, 394,\n",
              "       142, 488, 372, 296, 373,  66, 304, 144, 322, 288, 457, 456, 193,\n",
              "       370, 371, 175, 216, 232, 395, 143,  78, 435, 402, 103, 407, 410,\n",
              "       131, 382,  75,  65, 396, 104, 403,  14, 477, 302, 342, 303, 374,\n",
              "        60, 473, 341, 375, 404, 105, 481, 429, 174, 381, 462,  72, 387,\n",
              "       195, 479,  67, 194, 480,  15,  77, 434, 114, 475, 482,  61, 383,\n",
              "       289, 478, 299, 112, 484, 300, 113, 408, 430, 460, 376, 321, 115,\n",
              "       433, 169, 343, 461,  63, 173, 432, 335,  62,  64, 132, 196, 170,\n",
              "       199, 309, 340,  76, 483, 377,  68, 339, 384, 171, 380, 369, 338,\n",
              "       214, 409, 378, 136, 336, 106, 236, 198, 172,  18, 474, 111, 233,\n",
              "       108, 431, 364, 215, 379,  16, 486, 344, 337, 235,  17,  69,  71,\n",
              "       133, 135, 197, 320, 310, 368, 485,  70, 234, 109, 319, 386, 134,\n",
              "       314, 367, 365, 313, 385, 366, 110, 311, 317, 312, 318, 315, 316])"
            ]
          },
          "metadata": {},
          "execution_count": 60
        }
      ]
    },
    {
      "cell_type": "code",
      "execution_count": null,
      "metadata": {
        "id": "jCBeBCEqFpWh",
        "outputId": "63b8ddbe-8d9d-49d1-de82-bf26f2912396",
        "colab": {
          "base_uri": "https://localhost:8080/"
        }
      },
      "outputs": [
        {
          "output_type": "execute_result",
          "data": {
            "text/plain": [
              "185"
            ]
          },
          "metadata": {},
          "execution_count": 56
        }
      ],
      "source": [
        "#https://note.nkmk.me/python-numpy-sort-argsort/\n",
        "motif_idx = np.argsort( mp[:, 0])[0]#NumPyのsortとargsort関数で任意の行・列を基準にソート\n",
        "motif_idx"
      ]
    },
    {
      "cell_type": "code",
      "source": [
        "mp[:, 1]"
      ],
      "metadata": {
        "colab": {
          "base_uri": "https://localhost:8080/"
        },
        "id": "25TyDLn9RH6n",
        "outputId": "0fc00ab8-4b27-4ec7-c625-6c691d8f0146"
      },
      "execution_count": null,
      "outputs": [
        {
          "output_type": "execute_result",
          "data": {
            "text/plain": [
              "array([ 31., 349., 350., 350., 351., 353., 353., 355., 356.,  39.,  40.,\n",
              "        41.,  41.,  42.,  43., 203., 204., 394., 345., 345., 346., 347.,\n",
              "       348., 417., 350., 351., 351., 414., 415., 415., 416., 416., 417.,\n",
              "       417., 418., 353., 354., 355., 356.,   9., 358.,  11.,  12.,  13.,\n",
              "       437., 438., 439., 181., 183., 184., 185., 186., 187., 188., 276.,\n",
              "       277.,  97.,  98.,  99., 399., 400., 401., 433.,  77.,  78., 358.,\n",
              "       359., 360., 361.,   0.,   1., 505., 506., 350., 351.,   5., 256.,\n",
              "       434., 435., 436., 472., 438., 439., 440., 441., 154., 155., 156.,\n",
              "       157., 158., 270., 271., 272.,  52.,  53.,  54.,  55.,  56.,  57.,\n",
              "       398., 399., 400., 401., 402., 403., 404., 405., 428., 429., 377.,\n",
              "       136., 298., 299., 300., 475., 488., 489., 490., 492., 272., 273.,\n",
              "       274., 496., 496., 497., 498., 279., 500., 501., 502., 503., 504.,\n",
              "       254., 255., 314., 387., 389., 390., 390., 391., 392., 301., 394.,\n",
              "       395., 304., 279., 280., 281., 282., 283., 284., 285., 286., 264.,\n",
              "        85.,  86.,  87.,  88.,  89.,  50.,  51., 187., 188., 189., 190.,\n",
              "       191., 252., 253., 254., 195., 196.,  25., 258., 259., 260., 261.,\n",
              "       262., 263., 264., 265.,  46.,  47.,  48.,  48.,  49.,  50.,  51.,\n",
              "        52.,  53., 163., 164., 502., 503., 167., 168., 462., 170., 135.,\n",
              "       136., 260., 261., 262., 263., 264., 265., 266., 267., 278., 279.,\n",
              "       280., 281., 282., 307., 308., 309., 455.,  89.,  90., 270., 271.,\n",
              "       119., 120., 121., 122., 123., 124., 499., 126., 127., 128., 211.,\n",
              "       212., 213., 335., 336., 136., 488., 489., 490., 491., 492., 493.,\n",
              "       493., 494., 495., 276., 498., 499., 162., 163., 164., 165., 166.,\n",
              "       167., 168.,  23., 419., 420., 421., 472.,  81., 200., 201., 202.,\n",
              "        86.,  87., 157.,  88.,  89.,  89.,  90.,  91.,  91., 494., 495.,\n",
              "       496., 245., 246., 247., 208., 146., 147., 148., 149., 150., 151.,\n",
              "       152.,  85., 265., 330.,  94.,  95.,  96.,  97., 280., 281., 282.,\n",
              "       283., 284., 112., 113., 476., 477., 143., 144., 280., 281., 282.,\n",
              "       213., 334., 131., 132., 106., 428., 134., 429., 370., 371.,  75.,\n",
              "       237., 238., 491., 492., 241., 494., 495., 496., 497., 498., 499.,\n",
              "       500., 501., 502., 503., 307., 294., 295., 388., 137., 138., 139.,\n",
              "       140., 141., 142.,  18.,  19.,  20.,  21.,   1.,   2.,   3.,   4.,\n",
              "         4.,   6.,   6.,  37.,  38.,  39.,  40.,  41.,  41.,  12., 406.,\n",
              "       406., 407., 408., 482., 195., 251., 463., 413.,  30.,   0., 418.,\n",
              "       418., 419., 420., 421., 422., 423., 404., 404., 405., 407., 408.,\n",
              "       365., 135., 237., 238., 239., 240., 139., 140., 141., 142., 143.,\n",
              "       144.,  98.,  99., 100., 101., 102., 103., 104., 105., 426., 362.,\n",
              "       428., 430., 430., 349., 350., 351.,  27.,  28.,  29.,  30.,  32.,\n",
              "        34.,  35.,  35.,  36.,  37.,  38.,  39.,  40., 405., 406., 406.,\n",
              "       407., 408.,  74.,  61.,  61.,  77.,  78.,  79.,  80.,  45.,  46.,\n",
              "        47., 274.,  49., 497.,  87., 267., 185., 186., 268., 269.,  90.,\n",
              "        91.,  92.,  93., 274., 163., 164., 165., 191., 192., 168.,  23.,\n",
              "       255.,  25.,  26.,  27.,  28., 417., 418., 420., 420., 259.,  80.,\n",
              "       260., 261., 114., 301., 302., 303., 304., 305., 306., 283., 284.,\n",
              "       285., 286., 438., 439.,  82., 238., 238., 240., 271., 272., 273.,\n",
              "       274., 275., 184., 246., 247., 248., 128., 129., 130., 252.,  20.,\n",
              "        21.], dtype=float32)"
            ]
          },
          "metadata": {},
          "execution_count": 61
        }
      ]
    },
    {
      "cell_type": "code",
      "source": [
        "print(\"motif_idx =\",motif_idx,f\"    mpの{motif_idx}行、2列目\",mp[motif_idx, 1])"
      ],
      "metadata": {
        "colab": {
          "base_uri": "https://localhost:8080/"
        },
        "id": "S_yp8SR9RPa0",
        "outputId": "db56d96f-df3a-455a-ac98-4eba6142bf4a"
      },
      "execution_count": null,
      "outputs": [
        {
          "output_type": "stream",
          "name": "stdout",
          "text": [
            "motif_idx = 185     mpの185行、2列目 50.0\n"
          ]
        }
      ]
    },
    {
      "cell_type": "code",
      "source": [
        "\n",
        "nearest_neighbor_idx = mp[motif_idx, 1]\n",
        "#最近接はインデックス50.0に位置します。\n",
        "print(f\"最近接はインデックス {nearest_neighbor_idx}に位置します。\")"
      ],
      "metadata": {
        "colab": {
          "base_uri": "https://localhost:8080/"
        },
        "id": "chbQP9BJOW8l",
        "outputId": "e7630799-664a-4b93-fc1c-a27defaa1c48"
      },
      "execution_count": null,
      "outputs": [
        {
          "output_type": "stream",
          "name": "stdout",
          "text": [
            "最近接はインデックス 50.0に位置します。\n"
          ]
        }
      ]
    },
    {
      "cell_type": "markdown",
      "source": [
        "Steam Flow"
      ],
      "metadata": {
        "id": "puX7M7fcSfTc"
      }
    },
    {
      "cell_type": "code",
      "execution_count": null,
      "metadata": {
        "id": "LQzfuPPnFpWh",
        "outputId": "4e7e74bb-1b40-4044-fb63-e59988e5e0bd",
        "colab": {
          "base_uri": "https://localhost:8080/",
          "height": 1000
        }
      },
      "outputs": [
        {
          "output_type": "stream",
          "name": "stderr",
          "text": [
            "WARNING:matplotlib.font_manager:findfont: Font family ['MS Mincho'] not found. Falling back to DejaVu Sans.\n",
            "/usr/local/lib/python3.8/dist-packages/matplotlib/backends/backend_agg.py:214: RuntimeWarning: Glyph 12514 missing from current font.\n",
            "  font.set_text(s, 0.0, flags=flags)\n",
            "/usr/local/lib/python3.8/dist-packages/matplotlib/backends/backend_agg.py:214: RuntimeWarning: Glyph 12481 missing from current font.\n",
            "  font.set_text(s, 0.0, flags=flags)\n",
            "/usr/local/lib/python3.8/dist-packages/matplotlib/backends/backend_agg.py:214: RuntimeWarning: Glyph 12540 missing from current font.\n",
            "  font.set_text(s, 0.0, flags=flags)\n",
            "/usr/local/lib/python3.8/dist-packages/matplotlib/backends/backend_agg.py:214: RuntimeWarning: Glyph 12501 missing from current font.\n",
            "  font.set_text(s, 0.0, flags=flags)\n",
            "/usr/local/lib/python3.8/dist-packages/matplotlib/backends/backend_agg.py:214: RuntimeWarning: Glyph 65288 missing from current font.\n",
            "  font.set_text(s, 0.0, flags=flags)\n",
            "/usr/local/lib/python3.8/dist-packages/matplotlib/backends/backend_agg.py:214: RuntimeWarning: Glyph 12497 missing from current font.\n",
            "  font.set_text(s, 0.0, flags=flags)\n",
            "/usr/local/lib/python3.8/dist-packages/matplotlib/backends/backend_agg.py:214: RuntimeWarning: Glyph 12479 missing from current font.\n",
            "  font.set_text(s, 0.0, flags=flags)\n",
            "/usr/local/lib/python3.8/dist-packages/matplotlib/backends/backend_agg.py:214: RuntimeWarning: Glyph 12531 missing from current font.\n",
            "  font.set_text(s, 0.0, flags=flags)\n",
            "/usr/local/lib/python3.8/dist-packages/matplotlib/backends/backend_agg.py:214: RuntimeWarning: Glyph 65289 missing from current font.\n",
            "  font.set_text(s, 0.0, flags=flags)\n",
            "/usr/local/lib/python3.8/dist-packages/matplotlib/backends/backend_agg.py:214: RuntimeWarning: Glyph 30330 missing from current font.\n",
            "  font.set_text(s, 0.0, flags=flags)\n",
            "/usr/local/lib/python3.8/dist-packages/matplotlib/backends/backend_agg.py:214: RuntimeWarning: Glyph 35211 missing from current font.\n",
            "  font.set_text(s, 0.0, flags=flags)\n",
            "/usr/local/lib/python3.8/dist-packages/matplotlib/backends/backend_agg.py:183: RuntimeWarning: Glyph 12514 missing from current font.\n",
            "  font.set_text(s, 0, flags=flags)\n",
            "/usr/local/lib/python3.8/dist-packages/matplotlib/backends/backend_agg.py:183: RuntimeWarning: Glyph 12481 missing from current font.\n",
            "  font.set_text(s, 0, flags=flags)\n",
            "/usr/local/lib/python3.8/dist-packages/matplotlib/backends/backend_agg.py:183: RuntimeWarning: Glyph 12540 missing from current font.\n",
            "  font.set_text(s, 0, flags=flags)\n",
            "/usr/local/lib/python3.8/dist-packages/matplotlib/backends/backend_agg.py:183: RuntimeWarning: Glyph 12501 missing from current font.\n",
            "  font.set_text(s, 0, flags=flags)\n",
            "/usr/local/lib/python3.8/dist-packages/matplotlib/backends/backend_agg.py:183: RuntimeWarning: Glyph 65288 missing from current font.\n",
            "  font.set_text(s, 0, flags=flags)\n",
            "/usr/local/lib/python3.8/dist-packages/matplotlib/backends/backend_agg.py:183: RuntimeWarning: Glyph 12497 missing from current font.\n",
            "  font.set_text(s, 0, flags=flags)\n",
            "/usr/local/lib/python3.8/dist-packages/matplotlib/backends/backend_agg.py:183: RuntimeWarning: Glyph 12479 missing from current font.\n",
            "  font.set_text(s, 0, flags=flags)\n",
            "/usr/local/lib/python3.8/dist-packages/matplotlib/backends/backend_agg.py:183: RuntimeWarning: Glyph 12531 missing from current font.\n",
            "  font.set_text(s, 0, flags=flags)\n",
            "/usr/local/lib/python3.8/dist-packages/matplotlib/backends/backend_agg.py:183: RuntimeWarning: Glyph 65289 missing from current font.\n",
            "  font.set_text(s, 0, flags=flags)\n",
            "/usr/local/lib/python3.8/dist-packages/matplotlib/backends/backend_agg.py:183: RuntimeWarning: Glyph 30330 missing from current font.\n",
            "  font.set_text(s, 0, flags=flags)\n",
            "/usr/local/lib/python3.8/dist-packages/matplotlib/backends/backend_agg.py:183: RuntimeWarning: Glyph 35211 missing from current font.\n",
            "  font.set_text(s, 0, flags=flags)\n"
          ]
        },
        {
          "output_type": "display_data",
          "data": {
            "text/plain": [
              "<Figure size 1080x360 with 2 Axes>"
            ],
            "image/png": "[encoded data removed]"
          },
          "metadata": {
            "needs_background": "light"
          }
        }
      ],
      "source": [
        "fig, axs = plt.subplots(2, sharex=True, gridspec_kw={'hspace': 0}, figsize = (15,5))\n",
        "plt.suptitle('モチーフ（パターン）発見', fontsize='30', fontname = 'MS Mincho')\n",
        "\n",
        "axs[0].plot(x['Open'].values)\n",
        "axs[0].set_ylabel('スチームフロー', fontsize='20')\n",
        "height = x['Open'].max()\n",
        "rect = Rectangle((motif_idx, 0), m, height, facecolor='lightgrey')\n",
        "axs[0].add_patch(rect)\n",
        "rect = Rectangle((nearest_neighbor_idx, 0), m, height, facecolor='lightgrey')\n",
        "axs[0].add_patch(rect)\n",
        "axs[1].set_xlabel('Time', fontsize ='20')\n",
        "axs[1].set_ylabel('Matrix Profile', fontsize='20')\n",
        "axs[1].axvline(x=motif_idx, linestyle=\"dashed\")\n",
        "axs[1].axvline(x=nearest_neighbor_idx, linestyle=\"dashed\")\n",
        "axs[1].plot(mp[:, 0])\n",
        "plt.show()\n",
        "\n"
      ]
    },
    {
      "cell_type": "code",
      "execution_count": null,
      "metadata": {
        "id": "1hxv5VCCFpWi",
        "outputId": "a3178d47-92c3-4151-a22b-b61df3c071b1",
        "colab": {
          "base_uri": "https://localhost:8080/",
          "height": 465
        }
      },
      "outputs": [
        {
          "output_type": "stream",
          "name": "stdout",
          "text": [
            "185 50.0\n"
          ]
        },
        {
          "output_type": "execute_result",
          "data": {
            "text/plain": [
              "[<matplotlib.lines.Line2D at 0x7f71630d1130>]"
            ]
          },
          "metadata": {},
          "execution_count": 71
        },
        {
          "output_type": "display_data",
          "data": {
            "text/plain": [
              "<Figure size 504x504 with 2 Axes>"
            ],
            "image/png": "[encoded data removed]"
          },
          "metadata": {
            "needs_background": "light"
          }
        }
      ],
      "source": [
        "fig, ax = plt.subplots(1,2, figsize = (7,7), sharey=True)\n",
        "\n",
        "values = x['Open'].to_numpy()\n",
        "print(motif_idx,nearest_neighbor_idx )\n",
        "nearest_neighbor_idx = nearest_neighbor_idx.astype(np.int32)\n",
        "y1 = values[motif_idx:motif_idx+m]\n",
        "y2 = values[nearest_neighbor_idx:nearest_neighbor_idx+m]\n",
        "ax[0].plot(y1)\n",
        "ax[1].plot(y2)"
      ]
    },
    {
      "cell_type": "code",
      "execution_count": null,
      "metadata": {
        "id": "EPJSmCocFpWj",
        "outputId": "61c8b260-c5aa-47bd-ff20-a2fb849e09bd",
        "colab": {
          "base_uri": "https://localhost:8080/",
          "height": 283
        }
      },
      "outputs": [
        {
          "output_type": "execute_result",
          "data": {
            "text/plain": [
              "[<matplotlib.lines.Line2D at 0x7f716cdeae20>]"
            ]
          },
          "metadata": {},
          "execution_count": 73
        },
        {
          "output_type": "display_data",
          "data": {
            "text/plain": [
              "<Figure size 432x288 with 1 Axes>"
            ],
            "image/png": "[encoded data removed]"
          },
          "metadata": {
            "needs_background": "light"
          }
        }
      ],
      "source": [
        "y1_norm = y1 - y1.mean()#y１正規化\n",
        "y2_norm = y2 - y2.mean()#y2正規化\n",
        "\n",
        "plt.plot(y1_norm, label = 'y1')\n",
        "plt.plot(y2_norm, label = 'y2')"
      ]
    },
    {
      "cell_type": "markdown",
      "source": [
        "# 結論　つまり行列プロファイルを行うことで時系列内で変化している変化点発見に役立つ"
      ],
      "metadata": {
        "id": "0zQBZA-KTp7u"
      }
    },
    {
      "cell_type": "code",
      "source": [
        "!pip install wwo_hist"
      ],
      "metadata": {
        "colab": {
          "base_uri": "https://localhost:8080/"
        },
        "id": "6frsStyLVLn3",
        "outputId": "c29dfa8a-232a-45cb-d0fa-5fd5684932c8"
      },
      "execution_count": null,
      "outputs": [
        {
          "output_type": "stream",
          "name": "stdout",
          "text": [
            "Looking in indexes: https://pypi.org/simple, https://us-python.pkg.dev/colab-wheels/public/simple/\n",
            "Collecting wwo_hist\n",
            "  Downloading wwo_hist-0.0.7-py3-none-any.whl (4.6 kB)\n",
            "Installing collected packages: wwo-hist\n",
            "Successfully installed wwo-hist-0.0.7\n"
          ]
        }
      ]
    },
    {
      "cell_type": "code",
      "execution_count": null,
      "metadata": {
        "id": "mXtXpzHlFpWj"
      },
      "outputs": [],
      "source": [
        "from wwo_hist import retrieve_hist_data\n",
        "import os"
      ]
    },
    {
      "cell_type": "code",
      "execution_count": null,
      "metadata": {
        "id": "---F8kASFpWj"
      },
      "outputs": [],
      "source": [
        "def get_api_key():\n",
        "    with open(\"apikey.txt\", 'r') as f:\n",
        "        return f.readline().strip('\\n')"
      ]
    },
    {
      "cell_type": "code",
      "execution_count": null,
      "metadata": {
        "id": "wfGTiiNvFpWk",
        "colab": {
          "base_uri": "https://localhost:8080/",
          "height": 268
        },
        "outputId": "e69968d2-215d-4e9b-e4bd-d4bfdeb1f751"
      },
      "outputs": [
        {
          "output_type": "error",
          "ename": "FileNotFoundError",
          "evalue": "ignored",
          "traceback": [
            "\u001b[0;31m---------------------------------------------------------------------------\u001b[0m",
            "\u001b[0;31mFileNotFoundError\u001b[0m                         Traceback (most recent call last)",
            "\u001b[0;32m<ipython-input-79-392a1585cd8c>\u001b[0m in \u001b[0;36m<module>\u001b[0;34m\u001b[0m\n\u001b[0;32m----> 1\u001b[0;31m \u001b[0mapi_key\u001b[0m \u001b[0;34m=\u001b[0m \u001b[0mget_api_key\u001b[0m\u001b[0;34m(\u001b[0m\u001b[0;34m)\u001b[0m\u001b[0;34m\u001b[0m\u001b[0;34m\u001b[0m\u001b[0m\n\u001b[0m",
            "\u001b[0;32m<ipython-input-78-6430bb63fa63>\u001b[0m in \u001b[0;36mget_api_key\u001b[0;34m()\u001b[0m\n\u001b[1;32m      1\u001b[0m \u001b[0;32mdef\u001b[0m \u001b[0mget_api_key\u001b[0m\u001b[0;34m(\u001b[0m\u001b[0;34m)\u001b[0m\u001b[0;34m:\u001b[0m\u001b[0;34m\u001b[0m\u001b[0;34m\u001b[0m\u001b[0m\n\u001b[0;32m----> 2\u001b[0;31m     \u001b[0;32mwith\u001b[0m \u001b[0mopen\u001b[0m\u001b[0;34m(\u001b[0m\u001b[0;34m\"apikey.txt\"\u001b[0m\u001b[0;34m,\u001b[0m \u001b[0;34m'r'\u001b[0m\u001b[0;34m)\u001b[0m \u001b[0;32mas\u001b[0m \u001b[0mf\u001b[0m\u001b[0;34m:\u001b[0m\u001b[0;34m\u001b[0m\u001b[0;34m\u001b[0m\u001b[0m\n\u001b[0m\u001b[1;32m      3\u001b[0m         \u001b[0;32mreturn\u001b[0m \u001b[0mf\u001b[0m\u001b[0;34m.\u001b[0m\u001b[0mreadline\u001b[0m\u001b[0;34m(\u001b[0m\u001b[0;34m)\u001b[0m\u001b[0;34m.\u001b[0m\u001b[0mstrip\u001b[0m\u001b[0;34m(\u001b[0m\u001b[0;34m'\\n'\u001b[0m\u001b[0;34m)\u001b[0m\u001b[0;34m\u001b[0m\u001b[0;34m\u001b[0m\u001b[0m\n",
            "\u001b[0;31mFileNotFoundError\u001b[0m: [Errno 2] No such file or directory: 'apikey.txt'"
          ]
        }
      ],
      "source": [
        "api_key = get_api_key()"
      ]
    },
    {
      "cell_type": "code",
      "execution_count": null,
      "metadata": {
        "id": "nHwYO5HqFpWk"
      },
      "outputs": [],
      "source": []
    },
    {
      "cell_type": "code",
      "execution_count": null,
      "metadata": {
        "id": "jBdAaseeFpWk",
        "outputId": "8b646c7a-e651-4d69-914a-36aa3eff7ff9"
      },
      "outputs": [
        {
          "name": "stdout",
          "output_type": "stream",
          "text": [
            "\n",
            "\n",
            "Retrieving weather data for albuquerque\n",
            "\n",
            "\n",
            "Currently retrieving data for albuquerque: from 2018-01-01 to 2018-01-31\n",
            "Time elapsed (hh:mm:ss.ms) 0:00:01.131687\n",
            "Currently retrieving data for albuquerque: from 2018-02-01 to 2018-02-28\n",
            "Time elapsed (hh:mm:ss.ms) 0:00:02.034009\n",
            "Currently retrieving data for albuquerque: from 2018-03-01 to 2018-03-31\n",
            "Time elapsed (hh:mm:ss.ms) 0:00:02.958570\n",
            "Currently retrieving data for albuquerque: from 2018-04-01 to 2018-04-30\n",
            "Time elapsed (hh:mm:ss.ms) 0:00:03.855208\n",
            "Currently retrieving data for albuquerque: from 2018-05-01 to 2018-05-31\n",
            "Time elapsed (hh:mm:ss.ms) 0:00:04.932705\n",
            "Currently retrieving data for albuquerque: from 2018-06-01 to 2018-06-30\n",
            "Time elapsed (hh:mm:ss.ms) 0:00:05.989033\n",
            "Currently retrieving data for albuquerque: from 2018-07-01 to 2018-07-31\n",
            "Time elapsed (hh:mm:ss.ms) 0:00:06.908310\n",
            "Currently retrieving data for albuquerque: from 2018-08-01 to 2018-08-31\n",
            "Time elapsed (hh:mm:ss.ms) 0:00:07.796645\n",
            "Currently retrieving data for albuquerque: from 2018-09-01 to 2018-09-30\n",
            "Time elapsed (hh:mm:ss.ms) 0:00:08.731515\n",
            "Currently retrieving data for albuquerque: from 2018-10-01 to 2018-10-31\n",
            "Time elapsed (hh:mm:ss.ms) 0:00:09.606644\n",
            "Currently retrieving data for albuquerque: from 2018-11-01 to 2018-11-30\n",
            "Time elapsed (hh:mm:ss.ms) 0:00:10.540209\n",
            "Currently retrieving data for albuquerque: from 2018-12-01 to 2018-12-31\n",
            "Time elapsed (hh:mm:ss.ms) 0:00:11.529934\n",
            "Currently retrieving data for albuquerque: from 2019-01-01 to 2019-01-31\n",
            "Time elapsed (hh:mm:ss.ms) 0:00:12.428228\n",
            "Currently retrieving data for albuquerque: from 2019-02-01 to 2019-02-28\n",
            "Time elapsed (hh:mm:ss.ms) 0:00:13.352346\n",
            "Currently retrieving data for albuquerque: from 2019-03-01 to 2019-03-31\n",
            "Time elapsed (hh:mm:ss.ms) 0:00:14.293015\n",
            "Currently retrieving data for albuquerque: from 2019-04-01 to 2019-04-30\n",
            "Time elapsed (hh:mm:ss.ms) 0:00:15.150854\n",
            "Currently retrieving data for albuquerque: from 2019-05-01 to 2019-05-31\n",
            "Time elapsed (hh:mm:ss.ms) 0:00:16.022612\n",
            "Currently retrieving data for albuquerque: from 2019-06-01 to 2019-06-30\n",
            "Time elapsed (hh:mm:ss.ms) 0:00:16.918411\n",
            "Currently retrieving data for albuquerque: from 2019-07-01 to 2019-07-31\n",
            "Time elapsed (hh:mm:ss.ms) 0:00:18.043533\n",
            "Currently retrieving data for albuquerque: from 2019-08-01 to 2019-08-31\n",
            "Time elapsed (hh:mm:ss.ms) 0:00:19.002474\n",
            "Currently retrieving data for albuquerque: from 2019-09-01 to 2019-09-30\n",
            "Time elapsed (hh:mm:ss.ms) 0:00:19.986087\n",
            "Currently retrieving data for albuquerque: from 2019-10-01 to 2019-10-31\n",
            "Time elapsed (hh:mm:ss.ms) 0:00:20.996368\n",
            "Currently retrieving data for albuquerque: from 2019-11-01 to 2019-11-30\n",
            "Time elapsed (hh:mm:ss.ms) 0:00:21.961116\n",
            "Currently retrieving data for albuquerque: from 2019-12-01 to 2019-12-31\n",
            "Time elapsed (hh:mm:ss.ms) 0:00:22.941140\n",
            "Currently retrieving data for albuquerque: from 2020-01-01 to 2020-01-31\n",
            "Time elapsed (hh:mm:ss.ms) 0:00:23.939372\n",
            "Currently retrieving data for albuquerque: from 2020-02-01 to 2020-02-29\n",
            "Time elapsed (hh:mm:ss.ms) 0:00:25.252311\n",
            "Currently retrieving data for albuquerque: from 2020-03-01 to 2020-03-31\n",
            "Time elapsed (hh:mm:ss.ms) 0:00:26.829075\n",
            "Currently retrieving data for albuquerque: from 2020-04-01 to 2020-04-30\n",
            "Time elapsed (hh:mm:ss.ms) 0:00:28.145802\n",
            "Currently retrieving data for albuquerque: from 2020-05-01 to 2020-05-31\n",
            "Time elapsed (hh:mm:ss.ms) 0:00:29.258526\n",
            "Currently retrieving data for albuquerque: from 2020-06-01 to 2020-06-30\n",
            "Time elapsed (hh:mm:ss.ms) 0:00:30.255673\n",
            "Currently retrieving data for albuquerque: from 2020-07-01 to 2020-07-31\n",
            "Time elapsed (hh:mm:ss.ms) 0:00:31.462182\n",
            "Currently retrieving data for albuquerque: from 2020-08-01 to 2020-08-31\n",
            "Time elapsed (hh:mm:ss.ms) 0:00:32.563669\n",
            "Currently retrieving data for albuquerque: from 2020-09-01 to 2020-09-30\n",
            "Time elapsed (hh:mm:ss.ms) 0:00:33.675240\n",
            "Currently retrieving data for albuquerque: from 2020-10-01 to 2020-10-31\n",
            "Time elapsed (hh:mm:ss.ms) 0:00:35.129677\n",
            "Currently retrieving data for albuquerque: from 2020-11-01 to 2020-11-30\n",
            "Time elapsed (hh:mm:ss.ms) 0:00:36.335086\n",
            "Currently retrieving data for albuquerque: from 2020-12-01 to 2020-12-31\n",
            "Time elapsed (hh:mm:ss.ms) 0:00:37.599404\n",
            "Currently retrieving data for albuquerque: from 2021-01-01 to 2021-01-31\n",
            "Time elapsed (hh:mm:ss.ms) 0:00:38.731621\n",
            "Currently retrieving data for albuquerque: from 2021-02-01 to 2021-02-28\n",
            "Time elapsed (hh:mm:ss.ms) 0:00:39.635658\n",
            "Currently retrieving data for albuquerque: from 2021-03-01 to 2021-03-31\n",
            "Time elapsed (hh:mm:ss.ms) 0:00:40.632676\n",
            "Currently retrieving data for albuquerque: from 2021-04-01 to 2021-04-30\n",
            "Time elapsed (hh:mm:ss.ms) 0:00:41.594609\n",
            "Currently retrieving data for albuquerque: from 2021-05-01 to 2021-05-31\n",
            "Time elapsed (hh:mm:ss.ms) 0:00:42.618281\n",
            "Currently retrieving data for albuquerque: from 2021-06-01 to 2021-06-30\n",
            "Time elapsed (hh:mm:ss.ms) 0:00:43.461900\n",
            "Currently retrieving data for albuquerque: from 2021-07-01 to 2021-07-31\n",
            "Time elapsed (hh:mm:ss.ms) 0:00:44.507010\n",
            "Currently retrieving data for albuquerque: from 2021-08-01 to 2021-08-31\n",
            "Time elapsed (hh:mm:ss.ms) 0:00:45.530884\n",
            "Currently retrieving data for albuquerque: from 2021-09-01 to 2021-09-30\n",
            "Time elapsed (hh:mm:ss.ms) 0:00:46.530065\n",
            "Currently retrieving data for albuquerque: from 2021-10-01 to 2021-10-31\n",
            "Time elapsed (hh:mm:ss.ms) 0:00:47.647194\n",
            "Currently retrieving data for albuquerque: from 2021-11-01 to 2021-11-30\n",
            "Time elapsed (hh:mm:ss.ms) 0:00:48.447067\n",
            "Currently retrieving data for albuquerque: from 2021-12-01 to 2021-12-31\n",
            "Time elapsed (hh:mm:ss.ms) 0:00:49.462192\n",
            "Currently retrieving data for albuquerque: from 2022-01-01 to 2022-01-31\n",
            "Time elapsed (hh:mm:ss.ms) 0:00:50.322012\n",
            "Currently retrieving data for albuquerque: from 2022-02-01 to 2022-02-02\n",
            "Time elapsed (hh:mm:ss.ms) 0:00:50.611440\n",
            "\n",
            "\n",
            "export albuquerque completed!\n",
            "\n",
            "\n"
          ]
        }
      ],
      "source": [
        "freq = 24 # once a day\n",
        "start_date = \"1-1-2018\"\n",
        "end_date = \"2-2-2022\"\n",
        "location_list = [\"albuquerque\"]\n",
        "hist_weather_data = retrieve_hist_data(api_key=api_key, \n",
        "                                      location_list=location_list, \n",
        "                                      start_date=start_date, \n",
        "                                      end_date=end_date, \n",
        "                                      frequency=freq, \n",
        "                                      location_label=False, \n",
        "                                      export_csv=True, \n",
        "                                      store_df=True)"
      ]
    },
    {
      "cell_type": "code",
      "execution_count": null,
      "metadata": {
        "id": "-4D0qpJIFpWk"
      },
      "outputs": [],
      "source": [
        "abq = pd.read_csv(\"albuquerque.csv\")"
      ]
    },
    {
      "cell_type": "code",
      "execution_count": null,
      "metadata": {
        "id": "h7zhCOUYFpWl",
        "outputId": "2d6e8344-559c-4ee0-c1a9-df89d33b9f34"
      },
      "outputs": [
        {
          "data": {
            "text/html": [
              "<div>\n",
              "<style scoped>\n",
              "    .dataframe tbody tr th:only-of-type {\n",
              "        vertical-align: middle;\n",
              "    }\n",
              "\n",
              "    .dataframe tbody tr th {\n",
              "        vertical-align: top;\n",
              "    }\n",
              "\n",
              "    .dataframe thead th {\n",
              "        text-align: right;\n",
              "    }\n",
              "</style>\n",
              "<table border=\"1\" class=\"dataframe\">\n",
              "  <thead>\n",
              "    <tr style=\"text-align: right;\">\n",
              "      <th></th>\n",
              "      <th>date_time</th>\n",
              "      <th>maxtempC</th>\n",
              "      <th>mintempC</th>\n",
              "      <th>totalSnow_cm</th>\n",
              "      <th>sunHour</th>\n",
              "      <th>uvIndex</th>\n",
              "      <th>moon_illumination</th>\n",
              "      <th>moonrise</th>\n",
              "      <th>moonset</th>\n",
              "      <th>sunrise</th>\n",
              "      <th>...</th>\n",
              "      <th>WindGustKmph</th>\n",
              "      <th>cloudcover</th>\n",
              "      <th>humidity</th>\n",
              "      <th>precipMM</th>\n",
              "      <th>pressure</th>\n",
              "      <th>tempC</th>\n",
              "      <th>visibility</th>\n",
              "      <th>winddirDegree</th>\n",
              "      <th>windspeedKmph</th>\n",
              "      <th>location</th>\n",
              "    </tr>\n",
              "  </thead>\n",
              "  <tbody>\n",
              "    <tr>\n",
              "      <th>0</th>\n",
              "      <td>2018-01-01</td>\n",
              "      <td>9</td>\n",
              "      <td>-3</td>\n",
              "      <td>0.0</td>\n",
              "      <td>8.7</td>\n",
              "      <td>2</td>\n",
              "      <td>94</td>\n",
              "      <td>05:05 PM</td>\n",
              "      <td>06:35 AM</td>\n",
              "      <td>07:15 AM</td>\n",
              "      <td>...</td>\n",
              "      <td>15</td>\n",
              "      <td>20</td>\n",
              "      <td>36</td>\n",
              "      <td>0.0</td>\n",
              "      <td>1024</td>\n",
              "      <td>9</td>\n",
              "      <td>10</td>\n",
              "      <td>149</td>\n",
              "      <td>8</td>\n",
              "      <td>albuquerque</td>\n",
              "    </tr>\n",
              "    <tr>\n",
              "      <th>1</th>\n",
              "      <td>2018-01-02</td>\n",
              "      <td>11</td>\n",
              "      <td>1</td>\n",
              "      <td>0.0</td>\n",
              "      <td>8.7</td>\n",
              "      <td>3</td>\n",
              "      <td>100</td>\n",
              "      <td>06:11 PM</td>\n",
              "      <td>07:38 AM</td>\n",
              "      <td>07:15 AM</td>\n",
              "      <td>...</td>\n",
              "      <td>15</td>\n",
              "      <td>1</td>\n",
              "      <td>35</td>\n",
              "      <td>0.0</td>\n",
              "      <td>1023</td>\n",
              "      <td>11</td>\n",
              "      <td>10</td>\n",
              "      <td>298</td>\n",
              "      <td>10</td>\n",
              "      <td>albuquerque</td>\n",
              "    </tr>\n",
              "    <tr>\n",
              "      <th>2</th>\n",
              "      <td>2018-01-03</td>\n",
              "      <td>10</td>\n",
              "      <td>-1</td>\n",
              "      <td>0.0</td>\n",
              "      <td>8.7</td>\n",
              "      <td>2</td>\n",
              "      <td>92</td>\n",
              "      <td>07:20 PM</td>\n",
              "      <td>08:35 AM</td>\n",
              "      <td>07:15 AM</td>\n",
              "      <td>...</td>\n",
              "      <td>10</td>\n",
              "      <td>36</td>\n",
              "      <td>32</td>\n",
              "      <td>0.0</td>\n",
              "      <td>1025</td>\n",
              "      <td>10</td>\n",
              "      <td>10</td>\n",
              "      <td>203</td>\n",
              "      <td>6</td>\n",
              "      <td>albuquerque</td>\n",
              "    </tr>\n",
              "    <tr>\n",
              "      <th>3</th>\n",
              "      <td>2018-01-04</td>\n",
              "      <td>11</td>\n",
              "      <td>0</td>\n",
              "      <td>0.0</td>\n",
              "      <td>8.7</td>\n",
              "      <td>3</td>\n",
              "      <td>85</td>\n",
              "      <td>08:28 PM</td>\n",
              "      <td>09:25 AM</td>\n",
              "      <td>07:15 AM</td>\n",
              "      <td>...</td>\n",
              "      <td>7</td>\n",
              "      <td>6</td>\n",
              "      <td>22</td>\n",
              "      <td>0.0</td>\n",
              "      <td>1021</td>\n",
              "      <td>11</td>\n",
              "      <td>10</td>\n",
              "      <td>224</td>\n",
              "      <td>3</td>\n",
              "      <td>albuquerque</td>\n",
              "    </tr>\n",
              "    <tr>\n",
              "      <th>4</th>\n",
              "      <td>2018-01-05</td>\n",
              "      <td>11</td>\n",
              "      <td>1</td>\n",
              "      <td>0.0</td>\n",
              "      <td>7.0</td>\n",
              "      <td>2</td>\n",
              "      <td>78</td>\n",
              "      <td>09:36 PM</td>\n",
              "      <td>10:08 AM</td>\n",
              "      <td>07:16 AM</td>\n",
              "      <td>...</td>\n",
              "      <td>8</td>\n",
              "      <td>19</td>\n",
              "      <td>26</td>\n",
              "      <td>0.0</td>\n",
              "      <td>1023</td>\n",
              "      <td>11</td>\n",
              "      <td>10</td>\n",
              "      <td>292</td>\n",
              "      <td>4</td>\n",
              "      <td>albuquerque</td>\n",
              "    </tr>\n",
              "  </tbody>\n",
              "</table>\n",
              "<p>5 rows × 25 columns</p>\n",
              "</div>"
            ],
            "text/plain": [
              "    date_time  maxtempC  mintempC  totalSnow_cm  sunHour  uvIndex  \\\n",
              "0  2018-01-01         9        -3           0.0      8.7        2   \n",
              "1  2018-01-02        11         1           0.0      8.7        3   \n",
              "2  2018-01-03        10        -1           0.0      8.7        2   \n",
              "3  2018-01-04        11         0           0.0      8.7        3   \n",
              "4  2018-01-05        11         1           0.0      7.0        2   \n",
              "\n",
              "   moon_illumination  moonrise   moonset   sunrise  ... WindGustKmph  \\\n",
              "0                 94  05:05 PM  06:35 AM  07:15 AM  ...           15   \n",
              "1                100  06:11 PM  07:38 AM  07:15 AM  ...           15   \n",
              "2                 92  07:20 PM  08:35 AM  07:15 AM  ...           10   \n",
              "3                 85  08:28 PM  09:25 AM  07:15 AM  ...            7   \n",
              "4                 78  09:36 PM  10:08 AM  07:16 AM  ...            8   \n",
              "\n",
              "   cloudcover  humidity  precipMM  pressure  tempC  visibility  winddirDegree  \\\n",
              "0          20        36       0.0      1024      9          10            149   \n",
              "1           1        35       0.0      1023     11          10            298   \n",
              "2          36        32       0.0      1025     10          10            203   \n",
              "3           6        22       0.0      1021     11          10            224   \n",
              "4          19        26       0.0      1023     11          10            292   \n",
              "\n",
              "   windspeedKmph     location  \n",
              "0              8  albuquerque  \n",
              "1             10  albuquerque  \n",
              "2              6  albuquerque  \n",
              "3              3  albuquerque  \n",
              "4              4  albuquerque  \n",
              "\n",
              "[5 rows x 25 columns]"
            ]
          },
          "execution_count": 39,
          "metadata": {},
          "output_type": "execute_result"
        }
      ],
      "source": [
        "abq.head()"
      ]
    },
    {
      "cell_type": "code",
      "execution_count": null,
      "metadata": {
        "id": "6SuSip1cFpWl",
        "outputId": "e20e691a-03f9-4203-fcbb-826e6aec4cae"
      },
      "outputs": [
        {
          "data": {
            "text/plain": [
              "Index(['date_time', 'maxtempC', 'mintempC', 'totalSnow_cm', 'sunHour',\n",
              "       'uvIndex', 'moon_illumination', 'moonrise', 'moonset', 'sunrise',\n",
              "       'sunset', 'DewPointC', 'FeelsLikeC', 'HeatIndexC', 'WindChillC',\n",
              "       'WindGustKmph', 'cloudcover', 'humidity', 'precipMM', 'pressure',\n",
              "       'tempC', 'visibility', 'winddirDegree', 'windspeedKmph', 'location'],\n",
              "      dtype='object')"
            ]
          },
          "execution_count": 40,
          "metadata": {},
          "output_type": "execute_result"
        }
      ],
      "source": [
        "abq.columns"
      ]
    },
    {
      "cell_type": "code",
      "execution_count": null,
      "metadata": {
        "id": "dkWnGeh4FpWl",
        "outputId": "b4937ee3-b3cd-41a8-be8b-48ea47eac205"
      },
      "outputs": [
        {
          "data": {
            "text/plain": [
              "[<matplotlib.lines.Line2D at 0x200f4113310>]"
            ]
          },
          "execution_count": 41,
          "metadata": {},
          "output_type": "execute_result"
        },
        {
          "data": {
            "image/png": "[encoded data removed]",
            "text/plain": [
              "<Figure size 1440x360 with 1 Axes>"
            ]
          },
          "metadata": {
            "needs_background": "light"
          },
          "output_type": "display_data"
        }
      ],
      "source": [
        "plt.figure(figsize = (20,5))\n",
        "values = abq['maxtempC'].values.astype(np.float)\n",
        "plt.plot(values)"
      ]
    },
    {
      "cell_type": "code",
      "execution_count": null,
      "metadata": {
        "id": "RXSSkYRRFpWm"
      },
      "outputs": [],
      "source": [
        "m = 60\n",
        "mp = stumpy.stump(values, m)"
      ]
    },
    {
      "cell_type": "code",
      "execution_count": null,
      "metadata": {
        "id": "jylSW8i3FpWm",
        "outputId": "c97a6179-2903-489d-e4d5-1970a6a4236b"
      },
      "outputs": [
        {
          "name": "stdout",
          "output_type": "stream",
          "text": [
            "The nearest neighbor is located at index 1389\n"
          ]
        }
      ],
      "source": [
        "motif_idx = np.argsort(mp[:, 0])[0]\n",
        "nearest_neighbor_idx = mp[motif_idx, 1]\n",
        "\n",
        "print(f\"The nearest neighbor is located at index {nearest_neighbor_idx}\")"
      ]
    },
    {
      "cell_type": "code",
      "execution_count": null,
      "metadata": {
        "id": "zx_JjuVnFpWm",
        "outputId": "8a7e5fc4-57ba-4fc8-f7b2-332ecb6fc3c7"
      },
      "outputs": [
        {
          "data": {
            "image/png": "[encoded data removed]",
            "text/plain": [
              "<Figure size 1080x360 with 2 Axes>"
            ]
          },
          "metadata": {
            "needs_background": "light"
          },
          "output_type": "display_data"
        }
      ],
      "source": [
        "fig, axs = plt.subplots(2, sharex=True, gridspec_kw={'hspace': 0}, figsize = (15,5))\n",
        "plt.suptitle('Motif (Pattern) Discovery', fontsize='30')\n",
        "\n",
        "axs[0].plot(values)\n",
        "# axs[0].set_ylabel('Steam Flow', fontsize='20')\n",
        "height = values.max()\n",
        "rect = Rectangle((motif_idx, 0), m, height, facecolor='lightgrey')\n",
        "axs[0].add_patch(rect)\n",
        "rect = Rectangle((nearest_neighbor_idx, 0), m, height, facecolor='lightgrey')\n",
        "axs[0].add_patch(rect)\n",
        "axs[1].set_xlabel('Time', fontsize ='20')\n",
        "axs[1].set_ylabel('Matrix Profile', fontsize='20')\n",
        "axs[1].axvline(x=motif_idx, linestyle=\"dashed\", color = 'red')\n",
        "axs[1].axvline(x=nearest_neighbor_idx, linestyle=\"dashed\", color = 'green')\n",
        "axs[1].plot(mp[:, 0])\n",
        "plt.show()\n",
        "\n"
      ]
    },
    {
      "cell_type": "code",
      "execution_count": null,
      "metadata": {
        "id": "Wwu--HF_FpWm",
        "outputId": "322245cc-b447-4d85-eab4-e2aba613a90b"
      },
      "outputs": [
        {
          "name": "stdout",
          "output_type": "stream",
          "text": [
            "594 1389\n"
          ]
        },
        {
          "data": {
            "text/plain": [
              "[<matplotlib.lines.Line2D at 0x200f038c8e0>]"
            ]
          },
          "execution_count": 65,
          "metadata": {},
          "output_type": "execute_result"
        },
        {
          "data": {
            "image/png": "[encoded data removed]",
            "text/plain": [
              "<Figure size 576x216 with 2 Axes>"
            ]
          },
          "metadata": {
            "needs_background": "light"
          },
          "output_type": "display_data"
        }
      ],
      "source": [
        "fig, ax = plt.subplots(1,2, figsize = (8,3), sharey=True)\n",
        "\n",
        "# values = values\n",
        "print(motif_idx,nearest_neighbor_idx )\n",
        "nearest_neighbor_idx = nearest_neighbor_idx # .astype(np.int32)\n",
        "y1 = values[motif_idx:motif_idx+m]\n",
        "y2 = values[nearest_neighbor_idx:nearest_neighbor_idx+m]\n",
        "ax[0].plot(y1)\n",
        "ax[1].plot(y2)"
      ]
    },
    {
      "cell_type": "code",
      "execution_count": null,
      "metadata": {
        "id": "Pf7tokDKFpWn",
        "outputId": "ae2eb84c-82c0-4f17-8f37-904a6d4a254d"
      },
      "outputs": [
        {
          "data": {
            "text/plain": [
              "[<matplotlib.lines.Line2D at 0x200f0c96760>]"
            ]
          },
          "execution_count": 66,
          "metadata": {},
          "output_type": "execute_result"
        },
        {
          "data": {
            "image/png": "[encoded data removed]",
            "text/plain": [
              "<Figure size 432x288 with 1 Axes>"
            ]
          },
          "metadata": {
            "needs_background": "light"
          },
          "output_type": "display_data"
        }
      ],
      "source": [
        "y1_norm = y1 - y1.mean()\n",
        "y2_norm = y2 - y2.mean()\n",
        "\n",
        "plt.plot(y1_norm, label = 'y1')\n",
        "plt.plot(y2_norm, label = 'y2')"
      ]
    },
    {
      "cell_type": "code",
      "execution_count": null,
      "metadata": {
        "id": "-XrBWt1gFpWn"
      },
      "outputs": [],
      "source": []
    },
    {
      "cell_type": "code",
      "execution_count": null,
      "metadata": {
        "id": "L6dw0r_HFpWn"
      },
      "outputs": [],
      "source": []
    }
  ],
  "metadata": {
    "kernelspec": {
      "display_name": "Python 3",
      "language": "python",
      "name": "python3"
    },
    "language_info": {
      "codemirror_mode": {
        "name": "ipython",
        "version": 3
      },
      "file_extension": ".py",
      "mimetype": "text/x-python",
      "name": "python",
      "nbconvert_exporter": "python",
      "pygments_lexer": "ipython3",
      "version": "3.8.5"
    },
    "colab": {
      "provenance": [],
      "include_colab_link": true
    }
  },
  "nbformat": 4,
  "nbformat_minor": 0
}